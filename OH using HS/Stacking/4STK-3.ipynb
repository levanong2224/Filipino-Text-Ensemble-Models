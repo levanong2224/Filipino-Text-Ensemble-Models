{
 "cells": [
  {
   "cell_type": "markdown",
   "id": "1dc06b17-fcee-4505-bd74-d98376ce3ed9",
   "metadata": {},
   "source": [
    "# Train Stacking"
   ]
  },
  {
   "cell_type": "code",
   "execution_count": 1,
   "id": "744b070a-31a0-4a34-b375-530e701f262c",
   "metadata": {
    "execution": {
     "iopub.execute_input": "2024-09-24T17:35:39.155495Z",
     "iopub.status.busy": "2024-09-24T17:35:39.155381Z",
     "iopub.status.idle": "2024-09-24T17:35:40.032524Z",
     "shell.execute_reply": "2024-09-24T17:35:40.032213Z",
     "shell.execute_reply.started": "2024-09-24T17:35:39.155482Z"
    }
   },
   "outputs": [],
   "source": [
    "import random\n",
    "import numpy as np\n",
    "import torch\n",
    "\n",
    "def set_seed(seed=42):\n",
    "    random.seed(seed)\n",
    "    np.random.seed(seed)\n",
    "    torch.manual_seed(seed)\n",
    "    if torch.backends.mps.is_available():\n",
    "        # Currently, there's no separate manual seed function for MPS like torch.cuda.manual_seed_all()\n",
    "        pass \n",
    "    else:\n",
    "        print(\"MPS device not available. Using CPU.\")\n",
    "        \n",
    "set_seed()"
   ]
  },
  {
   "cell_type": "markdown",
   "id": "02c6a724-b17e-46f6-aee6-90ef2f7877a9",
   "metadata": {
    "execution": {
     "iopub.execute_input": "2024-08-13T15:08:53.465538Z",
     "iopub.status.busy": "2024-08-13T15:08:53.465321Z",
     "iopub.status.idle": "2024-08-13T15:08:53.469076Z",
     "shell.execute_reply": "2024-08-13T15:08:53.468592Z",
     "shell.execute_reply.started": "2024-08-13T15:08:53.465526Z"
    }
   },
   "source": [
    "Best F1 score BERT model on HS_C dataset are used"
   ]
  },
  {
   "cell_type": "code",
   "execution_count": 2,
   "id": "3823c3e6-976a-4eb9-a651-2cfeaa1a3cc0",
   "metadata": {
    "execution": {
     "iopub.execute_input": "2024-09-24T17:35:40.032987Z",
     "iopub.status.busy": "2024-09-24T17:35:40.032894Z",
     "iopub.status.idle": "2024-09-24T17:35:40.154536Z",
     "shell.execute_reply": "2024-09-24T17:35:40.154139Z",
     "shell.execute_reply.started": "2024-09-24T17:35:40.032980Z"
    }
   },
   "outputs": [],
   "source": [
    "# This automates data tabulation onto google sheets \n",
    "\n",
    "import gspread\n",
    "from oauth2client.service_account import ServiceAccountCredentials\n",
    "from googleapiclient.discovery import build\n",
    "\n",
    "import os\n",
    "\n",
    "# new directory path\n",
    "new_directory = '/Users/levan/ATENEO MASTERAL/Thesis'\n",
    "\n",
    "# Change the current working directory\n",
    "os.chdir(new_directory)\n",
    "\n",
    "# Use creds to create a client to interact with the Google Drive API\n",
    "scope = ['https://spreadsheets.google.com/feeds','https://www.googleapis.com/auth/drive']\n",
    "creds = ServiceAccountCredentials.from_json_keyfile_name('thesis-432315-12daec8d1ff6.json', scope)\n",
    "\n",
    "service = build('sheets', 'v4', credentials=creds)\n",
    "\n",
    "client = gspread.authorize(creds)\n",
    "\n",
    "spreadsheet_id = '1wKr9B0W-j7C-38o-DoQY_ldR7Leroua-RaDHG3Mbkf0' "
   ]
  },
  {
   "cell_type": "markdown",
   "id": "63d70bdb-0504-41ef-913d-e4b7f778f561",
   "metadata": {},
   "source": [
    "## Load Dataset"
   ]
  },
  {
   "cell_type": "code",
   "execution_count": 3,
   "id": "c7b193db-3f30-4e5f-a38b-c254bf1e1976",
   "metadata": {
    "execution": {
     "iopub.execute_input": "2024-09-24T17:35:40.155035Z",
     "iopub.status.busy": "2024-09-24T17:35:40.154940Z",
     "iopub.status.idle": "2024-09-24T17:35:42.595828Z",
     "shell.execute_reply": "2024-09-24T17:35:42.595508Z",
     "shell.execute_reply.started": "2024-09-24T17:35:40.155027Z"
    }
   },
   "outputs": [],
   "source": [
    "import pandas as pd\n",
    "import numpy as np\n",
    "from sklearn.model_selection import train_test_split\n",
    "from transformers import BertTokenizer, BertForSequenceClassification, AutoConfig\n",
    "from transformers import AutoTokenizer, AutoModelForSequenceClassification\n",
    "from torch.utils.data import DataLoader, TensorDataset\n",
    "import torch\n",
    "import torch.nn.functional as F\n",
    "from torch.optim import AdamW\n",
    "from sklearn.model_selection import StratifiedKFold\n",
    "\n",
    "from sklearn.linear_model import LogisticRegression\n",
    "from sklearn.tree import DecisionTreeClassifier\n",
    "from sklearn.naive_bayes import BernoulliNB\n",
    "from sklearn.naive_bayes import GaussianNB\n",
    "from sklearn.svm import LinearSVC\n",
    "from sklearn.svm import SVC\n",
    "\n",
    "from sklearn.metrics import accuracy_score, precision_score, recall_score, f1_score, confusion_matrix\n",
    "\n",
    "\n",
    "import os\n",
    "\n",
    "# new directory path\n",
    "new_directory = '/Users/levan/ATENEO MASTERAL/Thesis/Development'\n",
    "\n",
    "# Change the current working directory\n",
    "os.chdir(new_directory)\n",
    "\n",
    "#Load Data\n",
    "df = pd.read_csv('Corpus/data_b.csv')\n",
    "X = df['text'].values\n",
    "y = df['label'].values\n",
    "\n",
    "# Split dataset\n",
    "X_train, X_test, y_train, y_test = train_test_split(X, y, test_size=0.3, random_state=42, stratify=y)\n",
    "\n"
   ]
  },
  {
   "cell_type": "markdown",
   "id": "a307e67b-00c3-47aa-8f83-34bc62c93f83",
   "metadata": {
    "execution": {
     "iopub.execute_input": "2024-04-11T10:08:58.783500Z",
     "iopub.status.busy": "2024-04-11T10:08:58.782872Z",
     "iopub.status.idle": "2024-04-11T10:08:58.788089Z",
     "shell.execute_reply": "2024-04-11T10:08:58.787147Z",
     "shell.execute_reply.started": "2024-04-11T10:08:58.783465Z"
    }
   },
   "source": [
    "## Load Models and Tokenizers"
   ]
  },
  {
   "cell_type": "code",
   "execution_count": 4,
   "id": "1e666f7e-9db0-4666-a112-2af127307162",
   "metadata": {
    "execution": {
     "iopub.execute_input": "2024-09-24T17:35:42.596373Z",
     "iopub.status.busy": "2024-09-24T17:35:42.596294Z",
     "iopub.status.idle": "2024-09-24T17:35:45.980554Z",
     "shell.execute_reply": "2024-09-24T17:35:45.980146Z",
     "shell.execute_reply.started": "2024-09-24T17:35:42.596366Z"
    }
   },
   "outputs": [],
   "source": [
    "def load_model_and_tokenizer(model_path, tokenizer_path, base_model):\n",
    "    # Load the tokenizer from the local directory\n",
    "    tokenizer = AutoTokenizer.from_pretrained(tokenizer_path)\n",
    "    \n",
    "    # Load the configuration from the base model, then update configuration if needed\n",
    "    config = AutoConfig.from_pretrained(base_model, num_labels=2)\n",
    "\n",
    "    # Initialize the model with the configuration\n",
    "    model = AutoModelForSequenceClassification.from_pretrained(model_path, config=config)\n",
    "\n",
    "    # Ensure the model is in evaluation mode\n",
    "    model.eval()\n",
    "    \n",
    "    return model, tokenizer\n",
    "\n",
    "model_info = {\n",
    "    \n",
    "    'HateBERT': {\n",
    "        'model_path': 'BERT models/hs_HateBERT-finetuned',\n",
    "        'tokenizer_path': 'BERT models/hs_HateBERT-finetuned',\n",
    "        'base_model': 'GroNLP/hateBERT'\n",
    "    },\n",
    "\n",
    "    'TagBERT': {\n",
    "        'model_path': 'BERT models/hs_Tag-Roberta-finetuned',\n",
    "        'tokenizer_path': 'BERT models/hs_Tag-Roberta-finetuned',\n",
    "        'base_model': 'jcblaise/roberta-tagalog-base'\n",
    "    },\n",
    "\n",
    "    'DeBERTa': {\n",
    "        'model_path': 'BERT models/hs_DeBERTa-finetuned',\n",
    "        'tokenizer_path': 'BERT models/hs_DeBERTa-finetuned',\n",
    "        'base_model': 'microsoft/deberta-v3-base'\n",
    "    },\n",
    "\n",
    "    'DistilBERT uncased': {\n",
    "        'model_path': 'BERT models/hs_distilbert-base-uncased-finetuned',\n",
    "        'tokenizer_path': 'BERT models/hs_distilbert-base-uncased-finetuned',\n",
    "        'base_model': 'distilbert/distilbert-base-uncased'\n",
    "    },\n",
    "\n",
    "}\n",
    "\n",
    "\n",
    "models_and_tokenizers = {name: load_model_and_tokenizer(info['model_path'], \n",
    "                                                        info['tokenizer_path'], \n",
    "                                                        info['base_model']) \n",
    "                         for name, info in model_info.items()}\n"
   ]
  },
  {
   "cell_type": "markdown",
   "id": "a1a9b906-a837-4de8-b8a2-05aa44074c5c",
   "metadata": {},
   "source": [
    "## Apply Tokenization"
   ]
  },
  {
   "cell_type": "code",
   "execution_count": 5,
   "id": "05f7b2f9-3bc4-4d6d-8595-8971899238c3",
   "metadata": {
    "execution": {
     "iopub.execute_input": "2024-09-24T17:35:45.981093Z",
     "iopub.status.busy": "2024-09-24T17:35:45.981006Z",
     "iopub.status.idle": "2024-09-24T17:35:45.984164Z",
     "shell.execute_reply": "2024-09-24T17:35:45.983880Z",
     "shell.execute_reply.started": "2024-09-24T17:35:45.981085Z"
    }
   },
   "outputs": [],
   "source": [
    "class MultiModelTextDataset(torch.utils.data.Dataset):\n",
    "    def __init__(self, texts, labels, models_and_tokenizers, max_len):\n",
    "        self.texts = texts\n",
    "        self.labels = labels\n",
    "        self.models_and_tokenizers = models_and_tokenizers\n",
    "        self.max_len = max_len\n",
    "\n",
    "    def __len__(self):\n",
    "        return len(self.texts)\n",
    "\n",
    "    def __getitem__(self, index):\n",
    "        text = str(self.texts[index])\n",
    "        label = self.labels[index]\n",
    "\n",
    "        model_inputs = {}\n",
    "        for name, (model, tokenizer) in self.models_and_tokenizers.items():\n",
    "            encoding = tokenizer.encode_plus(\n",
    "                text,\n",
    "                add_special_tokens=True,\n",
    "                max_length=self.max_len,\n",
    "                return_token_type_ids=False,\n",
    "                padding='max_length',\n",
    "                truncation=True,\n",
    "                return_attention_mask=True,\n",
    "                return_tensors='pt',\n",
    "            )\n",
    "            model_inputs[name] = {\n",
    "                'input_ids': encoding['input_ids'].squeeze(0),  # Remove batch dimension\n",
    "                'attention_mask': encoding['attention_mask'].squeeze(0)  # Remove batch dimension\n",
    "            }\n",
    "        return {'model_inputs': model_inputs, 'label': torch.tensor(label, dtype=torch.long)}\n"
   ]
  },
  {
   "cell_type": "markdown",
   "id": "8d574483-f790-48ba-a7d0-07cc8f2973d4",
   "metadata": {},
   "source": [
    "## BERT Training for Stacking"
   ]
  },
  {
   "cell_type": "code",
   "execution_count": 6,
   "id": "0e6167c5-79fd-4536-815c-237ec599453a",
   "metadata": {
    "execution": {
     "iopub.execute_input": "2024-09-24T17:35:45.985836Z",
     "iopub.status.busy": "2024-09-24T17:35:45.985710Z",
     "iopub.status.idle": "2024-09-24T17:35:45.989846Z",
     "shell.execute_reply": "2024-09-24T17:35:45.989584Z",
     "shell.execute_reply.started": "2024-09-24T17:35:45.985829Z"
    }
   },
   "outputs": [],
   "source": [
    "def train_base_learner(model, data_loader, optimizer, device):\n",
    "    device = torch.device(\"mps\" if torch.backends.mps.is_available() else \"cpu\")\n",
    "    model = model.to(device)\n",
    "    model.train()\n",
    "    correct_predictions = 0\n",
    "    losses = []\n",
    "\n",
    "    for batch in data_loader:\n",
    "        # Accessing inputs for the current model\n",
    "        inputs = batch['model_inputs']\n",
    "        labels = batch['label'].to(device)\n",
    "\n",
    "        for model_name, model_inputs in inputs.items():\n",
    "            # Forward pass\n",
    "            outputs = model(input_ids=model_inputs['input_ids'].squeeze(1).to(device),\n",
    "                attention_mask=model_inputs['attention_mask'].squeeze(1).to(device),\n",
    "                labels=labels)\n",
    "\n",
    "            loss = outputs.loss\n",
    "            preds = outputs.logits.argmax(dim=1)\n",
    "            correct_predictions += torch.sum(preds == labels)\n",
    "            losses.append(loss.item())\n",
    "            \n",
    "            # Backward pass\n",
    "            loss.backward()\n",
    "            optimizer.step()\n",
    "            optimizer.zero_grad()\n",
    "\n",
    "    return correct_predictions.float() / len(data_loader.dataset), np.mean(losses).astype(np.float32)\n",
    "\n",
    "\n",
    "\n",
    "\n",
    "def eval_model(model, data_loader, device):\n",
    "    model = model.eval()\n",
    "    correct_predictions = 0\n",
    "\n",
    "    with torch.no_grad():\n",
    "        for d in data_loader:\n",
    "            input_ids = d[\"input_ids\"].to(device)\n",
    "            attention_mask = d[\"attention_mask\"].to(device)\n",
    "            labels = d[\"label\"].to(device)\n",
    "\n",
    "            outputs = model(input_ids=input_ids, attention_mask=attention_mask)\n",
    "            preds = outputs.logits.argmax(dim=1)\n",
    "            correct_predictions += torch.sum(preds == labels)\n",
    "\n",
    "    return correct_predictions.double() / len(data_loader.dataset)\n"
   ]
  },
  {
   "cell_type": "markdown",
   "id": "b4b36fee-48a1-4eda-bf0b-c59982cbba14",
   "metadata": {},
   "source": [
    "## Train Stacking"
   ]
  },
  {
   "cell_type": "code",
   "execution_count": 7,
   "id": "99eb6be0-fb6e-441b-bfaa-853e75a01983",
   "metadata": {
    "execution": {
     "iopub.execute_input": "2024-09-24T17:35:45.990471Z",
     "iopub.status.busy": "2024-09-24T17:35:45.990303Z",
     "iopub.status.idle": "2024-09-24T17:35:45.998751Z",
     "shell.execute_reply": "2024-09-24T17:35:45.998471Z",
     "shell.execute_reply.started": "2024-09-24T17:35:45.990461Z"
    }
   },
   "outputs": [],
   "source": [
    "import numpy as np\n",
    "from sklearn.model_selection import StratifiedKFold\n",
    "from sklearn.linear_model import LogisticRegression\n",
    "from sklearn.metrics import f1_score, precision_score, recall_score, accuracy_score, confusion_matrix\n",
    "from torch.utils.data import DataLoader\n",
    "from transformers import AdamW\n",
    "\n",
    "def train_stacking_classifier(models_and_tokenizers, X_train, y_train, device, max_len=128):\n",
    "    n_splits = 4\n",
    "    skf = StratifiedKFold(n_splits=n_splits)\n",
    "    base_learners_predictions_train = np.zeros((len(X_train), len(models_and_tokenizers)))\n",
    "    fold_idx = 0\n",
    "\n",
    "    for train_idx, val_idx in skf.split(X_train, y_train):\n",
    "        fold_idx += 1\n",
    "        print(f\"Training fold {fold_idx}/{n_splits}...\")\n",
    "        train_texts, val_texts = X_train[train_idx], X_train[val_idx]\n",
    "        train_labels, val_labels = y_train[train_idx], y_train[val_idx]\n",
    "        \n",
    "        model_idx = 0\n",
    "        for name, info in model_info.items():\n",
    "            # Reload the model and tokenizer to reset weights\n",
    "            model, tokenizer = load_model_and_tokenizer(info['model_path'], info['tokenizer_path'], info['base_model'])\n",
    "            model.to(device)\n",
    "            \n",
    "            train_dataset = MultiModelTextDataset(train_texts, train_labels, {name: (model, tokenizer)}, max_len)\n",
    "            val_dataset = MultiModelTextDataset(val_texts, val_labels, {name: (model, tokenizer)}, max_len)\n",
    "            train_loader = DataLoader(train_dataset, batch_size=16, shuffle=True)\n",
    "            val_loader = DataLoader(val_dataset, batch_size=16, shuffle=False)\n",
    "            \n",
    "            optimizer = AdamW(model.parameters(), lr=5e-5)\n",
    "            train_base_learner(model, train_loader, optimizer, device)\n",
    "            \n",
    "            val_preds = []\n",
    "            model.eval()\n",
    "            for batch in val_loader:\n",
    "                inputs = batch['model_inputs'][name]\n",
    "                with torch.no_grad():\n",
    "                    outputs = model(input_ids=inputs['input_ids'].to(device), attention_mask=inputs['attention_mask'].to(device))\n",
    "                val_preds.extend(outputs.logits.argmax(dim=1).cpu().numpy())\n",
    "            \n",
    "            base_learners_predictions_train[val_idx, model_idx] = np.array(val_preds)\n",
    "            model_idx += 1\n",
    "\n",
    "    return base_learners_predictions_train, y_train\n",
    "    \n",
    "\n",
    "def get_predictions(model_info, X, y, device, max_len=128):\n",
    "    predictions = np.zeros((len(X), len(model_info)))\n",
    "    model_idx = 0\n",
    "    for name, info in model_info.items():\n",
    "        # Reload the model and tokenizer\n",
    "        model, tokenizer = load_model_and_tokenizer(info['model_path'], info['tokenizer_path'], info['base_model'])\n",
    "        model.to(device)\n",
    "        model.eval()\n",
    "        \n",
    "        dataset = MultiModelTextDataset(X, y, {name: (model, tokenizer)}, max_len)\n",
    "        loader = DataLoader(dataset, batch_size=16, shuffle=False)\n",
    "        \n",
    "        preds = []\n",
    "        for batch in loader:\n",
    "            inputs = batch['model_inputs'][name]\n",
    "            with torch.no_grad():\n",
    "                outputs = model(input_ids=inputs['input_ids'].to(device), attention_mask=inputs['attention_mask'].to(device))\n",
    "            preds.extend(outputs.logits.argmax(dim=1).cpu().numpy())\n",
    "        \n",
    "        predictions[:, model_idx] = np.array(preds)\n",
    "        model_idx += 1\n",
    "\n",
    "    return predictions\n",
    "\n",
    "\n",
    "device = torch.device(\"mps\" if torch.backends.mps.is_available() else \"cpu\")"
   ]
  },
  {
   "cell_type": "markdown",
   "id": "58472c03-8cb9-4a28-b8f3-fd5227c0e620",
   "metadata": {},
   "source": [
    "## Perform Stacking"
   ]
  },
  {
   "cell_type": "code",
   "execution_count": 8,
   "id": "da0e67bd-3f57-4bf1-aa4e-1537a9132002",
   "metadata": {
    "execution": {
     "iopub.execute_input": "2024-09-24T17:35:45.999198Z",
     "iopub.status.busy": "2024-09-24T17:35:45.999124Z",
     "iopub.status.idle": "2024-09-24T17:35:46.002637Z",
     "shell.execute_reply": "2024-09-24T17:35:46.002366Z",
     "shell.execute_reply.started": "2024-09-24T17:35:45.999192Z"
    }
   },
   "outputs": [],
   "source": [
    "%load_ext memory_profiler"
   ]
  },
  {
   "cell_type": "code",
   "execution_count": 9,
   "id": "36436c2d-846d-46ab-ae3c-b36c5bdda6a8",
   "metadata": {
    "execution": {
     "iopub.execute_input": "2024-09-24T17:35:46.003120Z",
     "iopub.status.busy": "2024-09-24T17:35:46.003044Z",
     "iopub.status.idle": "2024-09-24T17:56:02.770874Z",
     "shell.execute_reply": "2024-09-24T17:56:02.770424Z",
     "shell.execute_reply.started": "2024-09-24T17:35:46.003113Z"
    }
   },
   "outputs": [
    {
     "name": "stdout",
     "output_type": "stream",
     "text": [
      "Training fold 1/4...\n"
     ]
    },
    {
     "name": "stderr",
     "output_type": "stream",
     "text": [
      "/opt/anaconda3/envs/thesis/lib/python3.10/site-packages/transformers/optimization.py:457: FutureWarning: This implementation of AdamW is deprecated and will be removed in a future version. Use the PyTorch implementation torch.optim.AdamW instead, or set `no_deprecation_warning=True` to disable this warning\n",
      "  warnings.warn(\n"
     ]
    },
    {
     "name": "stdout",
     "output_type": "stream",
     "text": [
      "Training fold 2/4...\n",
      "Training fold 3/4...\n",
      "Training fold 4/4...\n",
      "peak memory: 5904.33 MiB, increment: 3560.31 MiB\n"
     ]
    }
   ],
   "source": [
    "%%memit\n",
    "\n",
    "device = torch.device(\"mps\" if torch.backends.mps.is_available() else \"cpu\")\n",
    "\n",
    "# Train stacking classifier (using 4-fold cross validation for each BERT model) on Train Set and retrieve training meta-features\n",
    "train_meta_features, _ = train_stacking_classifier(model_info, X_train, y_train, device)\n",
    "\n",
    "# Generate predictions for the test set to be used as test meta-features\n",
    "test_meta_features = get_predictions(model_info, X_test, y_test, device)"
   ]
  },
  {
   "cell_type": "markdown",
   "id": "03d42e0b-1855-4774-8f83-599a6158e526",
   "metadata": {},
   "source": [
    "### Train LR"
   ]
  },
  {
   "cell_type": "code",
   "execution_count": 10,
   "id": "265a5311-c2a4-48a0-9f21-d803350fb89f",
   "metadata": {
    "execution": {
     "iopub.execute_input": "2024-09-24T17:56:02.771597Z",
     "iopub.status.busy": "2024-09-24T17:56:02.771511Z",
     "iopub.status.idle": "2024-09-24T17:56:03.762522Z",
     "shell.execute_reply": "2024-09-24T17:56:03.760561Z",
     "shell.execute_reply.started": "2024-09-24T17:56:02.771589Z"
    }
   },
   "outputs": [
    {
     "name": "stderr",
     "output_type": "stream",
     "text": [
      "huggingface/tokenizers: The current process just got forked, after parallelism has already been used. Disabling parallelism to avoid deadlocks...\n",
      "To disable this warning, you can either:\n",
      "\t- Avoid using `tokenizers` before the fork if possible\n",
      "\t- Explicitly set the environment variable TOKENIZERS_PARALLELISM=(true | false)\n",
      "huggingface/tokenizers: The current process just got forked, after parallelism has already been used. Disabling parallelism to avoid deadlocks...\n",
      "To disable this warning, you can either:\n",
      "\t- Avoid using `tokenizers` before the fork if possible\n",
      "\t- Explicitly set the environment variable TOKENIZERS_PARALLELISM=(true | false)\n"
     ]
    },
    {
     "name": "stdout",
     "output_type": "stream",
     "text": [
      "peak memory: 5706.91 MiB, increment: 1.20 MiB\n"
     ]
    },
    {
     "name": "stderr",
     "output_type": "stream",
     "text": [
      "huggingface/tokenizers: The current process just got forked, after parallelism has already been used. Disabling parallelism to avoid deadlocks...\n",
      "To disable this warning, you can either:\n",
      "\t- Avoid using `tokenizers` before the fork if possible\n",
      "\t- Explicitly set the environment variable TOKENIZERS_PARALLELISM=(true | false)\n"
     ]
    }
   ],
   "source": [
    "%%memit\n",
    "\n",
    "lr_meta_classifier = LogisticRegression()\n",
    "lr_meta_classifier.fit(train_meta_features, y_train)\n",
    "\n",
    "lr_final_predictions = lr_meta_classifier.predict(test_meta_features)"
   ]
  },
  {
   "cell_type": "markdown",
   "id": "47ea06bb-fab4-4f49-99e4-19680ec1b870",
   "metadata": {},
   "source": [
    "### Train NB"
   ]
  },
  {
   "cell_type": "code",
   "execution_count": 11,
   "id": "244b0f68-e401-4d18-913f-a3a153dd8104",
   "metadata": {
    "execution": {
     "iopub.execute_input": "2024-09-24T17:56:03.769522Z",
     "iopub.status.busy": "2024-09-24T17:56:03.764007Z",
     "iopub.status.idle": "2024-09-24T17:56:04.509408Z",
     "shell.execute_reply": "2024-09-24T17:56:04.509009Z",
     "shell.execute_reply.started": "2024-09-24T17:56:03.769494Z"
    }
   },
   "outputs": [
    {
     "name": "stderr",
     "output_type": "stream",
     "text": [
      "huggingface/tokenizers: The current process just got forked, after parallelism has already been used. Disabling parallelism to avoid deadlocks...\n",
      "To disable this warning, you can either:\n",
      "\t- Avoid using `tokenizers` before the fork if possible\n",
      "\t- Explicitly set the environment variable TOKENIZERS_PARALLELISM=(true | false)\n",
      "huggingface/tokenizers: The current process just got forked, after parallelism has already been used. Disabling parallelism to avoid deadlocks...\n",
      "To disable this warning, you can either:\n",
      "\t- Avoid using `tokenizers` before the fork if possible\n",
      "\t- Explicitly set the environment variable TOKENIZERS_PARALLELISM=(true | false)\n",
      "huggingface/tokenizers: The current process just got forked, after parallelism has already been used. Disabling parallelism to avoid deadlocks...\n",
      "To disable this warning, you can either:\n",
      "\t- Avoid using `tokenizers` before the fork if possible\n",
      "\t- Explicitly set the environment variable TOKENIZERS_PARALLELISM=(true | false)\n"
     ]
    },
    {
     "name": "stdout",
     "output_type": "stream",
     "text": [
      "peak memory: 5706.73 MiB, increment: -0.19 MiB\n"
     ]
    }
   ],
   "source": [
    "%%memit\n",
    "\n",
    "nb_meta_classifier = GaussianNB()\n",
    "nb_meta_classifier.fit(train_meta_features, y_train)\n",
    "\n",
    "nb_final_predictions = nb_meta_classifier.predict(test_meta_features)"
   ]
  },
  {
   "cell_type": "markdown",
   "id": "2e50604f-9bef-4db4-bf92-89f9d2874e89",
   "metadata": {},
   "source": [
    "### Train DT"
   ]
  },
  {
   "cell_type": "code",
   "execution_count": 12,
   "id": "3990ca03-b860-4b65-97e7-47f551754ab7",
   "metadata": {
    "execution": {
     "iopub.execute_input": "2024-09-24T17:56:04.510200Z",
     "iopub.status.busy": "2024-09-24T17:56:04.510111Z",
     "iopub.status.idle": "2024-09-24T17:56:05.603334Z",
     "shell.execute_reply": "2024-09-24T17:56:05.602972Z",
     "shell.execute_reply.started": "2024-09-24T17:56:04.510192Z"
    }
   },
   "outputs": [
    {
     "name": "stderr",
     "output_type": "stream",
     "text": [
      "huggingface/tokenizers: The current process just got forked, after parallelism has already been used. Disabling parallelism to avoid deadlocks...\n",
      "To disable this warning, you can either:\n",
      "\t- Avoid using `tokenizers` before the fork if possible\n",
      "\t- Explicitly set the environment variable TOKENIZERS_PARALLELISM=(true | false)\n",
      "huggingface/tokenizers: The current process just got forked, after parallelism has already been used. Disabling parallelism to avoid deadlocks...\n",
      "To disable this warning, you can either:\n",
      "\t- Avoid using `tokenizers` before the fork if possible\n",
      "\t- Explicitly set the environment variable TOKENIZERS_PARALLELISM=(true | false)\n",
      "huggingface/tokenizers: The current process just got forked, after parallelism has already been used. Disabling parallelism to avoid deadlocks...\n",
      "To disable this warning, you can either:\n",
      "\t- Avoid using `tokenizers` before the fork if possible\n",
      "\t- Explicitly set the environment variable TOKENIZERS_PARALLELISM=(true | false)\n",
      "huggingface/tokenizers: The current process just got forked, after parallelism has already been used. Disabling parallelism to avoid deadlocks...\n",
      "To disable this warning, you can either:\n",
      "\t- Avoid using `tokenizers` before the fork if possible\n",
      "\t- Explicitly set the environment variable TOKENIZERS_PARALLELISM=(true | false)\n",
      "huggingface/tokenizers: The current process just got forked, after parallelism has already been used. Disabling parallelism to avoid deadlocks...\n",
      "To disable this warning, you can either:\n",
      "\t- Avoid using `tokenizers` before the fork if possible\n",
      "\t- Explicitly set the environment variable TOKENIZERS_PARALLELISM=(true | false)\n"
     ]
    },
    {
     "name": "stdout",
     "output_type": "stream",
     "text": [
      "peak memory: 5706.94 MiB, increment: 0.20 MiB\n"
     ]
    }
   ],
   "source": [
    "%%memit\n",
    "\n",
    "dt_meta_classifier = DecisionTreeClassifier(max_depth=None)\n",
    "dt_meta_classifier.fit(train_meta_features, y_train)\n",
    "\n",
    "dt_final_predictions = dt_meta_classifier.predict(test_meta_features)"
   ]
  },
  {
   "cell_type": "markdown",
   "id": "986bd8f0-b569-4eaf-8e13-a51529e871e6",
   "metadata": {},
   "source": [
    "### Train SVM"
   ]
  },
  {
   "cell_type": "code",
   "execution_count": 13,
   "id": "460a4087-b343-4249-b794-db90baabf11c",
   "metadata": {
    "execution": {
     "iopub.execute_input": "2024-09-24T17:56:05.604139Z",
     "iopub.status.busy": "2024-09-24T17:56:05.604044Z",
     "iopub.status.idle": "2024-09-24T17:56:06.588088Z",
     "shell.execute_reply": "2024-09-24T17:56:06.587743Z",
     "shell.execute_reply.started": "2024-09-24T17:56:05.604130Z"
    }
   },
   "outputs": [
    {
     "name": "stderr",
     "output_type": "stream",
     "text": [
      "huggingface/tokenizers: The current process just got forked, after parallelism has already been used. Disabling parallelism to avoid deadlocks...\n",
      "To disable this warning, you can either:\n",
      "\t- Avoid using `tokenizers` before the fork if possible\n",
      "\t- Explicitly set the environment variable TOKENIZERS_PARALLELISM=(true | false)\n"
     ]
    },
    {
     "name": "stdout",
     "output_type": "stream",
     "text": [
      "peak memory: 5729.81 MiB, increment: 22.88 MiB\n"
     ]
    }
   ],
   "source": [
    "%%memit\n",
    "\n",
    "svm_meta_classifier = SVC(kernel='linear', probability=True)\n",
    "svm_meta_classifier.fit(train_meta_features, y_train)\n",
    "\n",
    "svm_final_predictions = svm_meta_classifier.predict(test_meta_features)"
   ]
  },
  {
   "cell_type": "markdown",
   "id": "ad340b68-d07e-473a-bbc4-138ef8e0271a",
   "metadata": {},
   "source": [
    "## EVALUATE MODELS"
   ]
  },
  {
   "cell_type": "markdown",
   "id": "c93ba0c5-a053-45fb-8e97-b09c67959bc8",
   "metadata": {},
   "source": [
    "### LR"
   ]
  },
  {
   "cell_type": "code",
   "execution_count": 14,
   "id": "7d015915-5eb9-4a73-9ef6-5fc1bd4d0e8f",
   "metadata": {
    "execution": {
     "iopub.execute_input": "2024-09-24T17:56:06.588766Z",
     "iopub.status.busy": "2024-09-24T17:56:06.588675Z",
     "iopub.status.idle": "2024-09-24T17:56:06.595529Z",
     "shell.execute_reply": "2024-09-24T17:56:06.595320Z",
     "shell.execute_reply.started": "2024-09-24T17:56:06.588757Z"
    }
   },
   "outputs": [
    {
     "name": "stdout",
     "output_type": "stream",
     "text": [
      "Logistic Regression\n",
      "Precision: 0.736370425690814\n",
      "Recall: 0.8492678725236865\n",
      "Ensemble accuracy: 0.7882069795427196\n",
      "F1 Score: 0.7888\n",
      "Confusion Matrix:\n",
      "[[979 353]\n",
      " [175 986]]\n"
     ]
    }
   ],
   "source": [
    "# Evaluate\n",
    "precision = precision_score(y_test, lr_final_predictions, average='binary')\n",
    "recall = recall_score(y_test, lr_final_predictions, average='binary')\n",
    "accuracy = accuracy_score(y_test, lr_final_predictions)\n",
    "f1 = f1_score(y_test, lr_final_predictions, average='binary')\n",
    "conf_matrix = confusion_matrix(y_test, lr_final_predictions)\n",
    "\n",
    "print(\"Logistic Regression\")\n",
    "print(f\"Precision: {precision}\")\n",
    "print(f\"Recall: {recall}\")\n",
    "print(f\"Ensemble accuracy: {accuracy}\")\n",
    "print(f\"F1 Score: {f1}\")\n",
    "print(\"Confusion Matrix:\")\n",
    "print(conf_matrix)\n"
   ]
  },
  {
   "cell_type": "code",
   "execution_count": 15,
   "id": "b8f0cb82-3466-4ed1-8131-5b8715817f8f",
   "metadata": {
    "execution": {
     "iopub.execute_input": "2024-09-24T17:56:06.596027Z",
     "iopub.status.busy": "2024-09-24T17:56:06.595948Z",
     "iopub.status.idle": "2024-09-24T17:56:06.940017Z",
     "shell.execute_reply": "2024-09-24T17:56:06.939736Z",
     "shell.execute_reply.started": "2024-09-24T17:56:06.596021Z"
    }
   },
   "outputs": [
    {
     "data": {
      "image/png": "[encoded data removed]",
      "text/plain": [
       "<Figure size 640x480 with 1 Axes>"
      ]
     },
     "metadata": {},
     "output_type": "display_data"
    }
   ],
   "source": [
    "# Get probability scores for threshold optimization\n",
    "lr_prob_scores = lr_meta_classifier.predict_proba(test_meta_features)[:, 1]\n",
    "\n",
    "import matplotlib.pyplot as plt\n",
    "\n",
    "# Plot the distribution of predicted probabilities\n",
    "plt.hist(lr_prob_scores, bins=50, alpha=0.75)\n",
    "plt.title('Distribution of Predicted Probabilities (LR)')\n",
    "plt.xlabel('Probability of Positive Class')\n",
    "plt.ylabel('Frequency')\n",
    "plt.show()\n"
   ]
  },
  {
   "cell_type": "code",
   "execution_count": 16,
   "id": "b8c650bc-c7b7-4f3d-b8c7-c415ed29f2f1",
   "metadata": {
    "execution": {
     "iopub.execute_input": "2024-09-24T17:56:06.940590Z",
     "iopub.status.busy": "2024-09-24T17:56:06.940501Z",
     "iopub.status.idle": "2024-09-24T17:56:07.012675Z",
     "shell.execute_reply": "2024-09-24T17:56:07.012430Z",
     "shell.execute_reply.started": "2024-09-24T17:56:06.940582Z"
    }
   },
   "outputs": [
    {
     "name": "stdout",
     "output_type": "stream",
     "text": [
      "Adjusted threshold: 0.44\n",
      "Optimized Logistic Regression\n",
      "Precision: 0.736370425690814\n",
      "Recall: 0.8492678725236865\n",
      "Accuracy: 0.7882069795427196\n",
      "F1 Score: 0.7888\n",
      "Confusion Matrix:\n",
      "[[979 353]\n",
      " [175 986]]\n"
     ]
    }
   ],
   "source": [
    "# Threshold optimization\n",
    "thresholds = np.linspace(0.01, 0.99, 99)\n",
    "scores = [f1_score(y_test, lr_prob_scores >= t, average='binary') for t in thresholds]\n",
    "best_thresh = thresholds[np.argmax(scores)]\n",
    "adjusted_predictions = (lr_prob_scores >= best_thresh).astype(int)\n",
    "\n",
    "# Evaluate with the new threshold\n",
    "adjusted_precision = precision_score(y_test, adjusted_predictions, average='binary')\n",
    "adjusted_recall = recall_score(y_test, adjusted_predictions, average='binary')\n",
    "adjusted_accuracy = accuracy_score(y_test, adjusted_predictions)\n",
    "adjusted_f1 = f1_score(y_test, adjusted_predictions, average='binary')\n",
    "adjusted_conf_matrix = confusion_matrix(y_test, adjusted_predictions)\n",
    "\n",
    "print(f\"Adjusted threshold: {best_thresh}\")\n",
    "print(\"Optimized Logistic Regression\")\n",
    "print(f\"Precision: {adjusted_precision}\")\n",
    "print(f\"Recall: {adjusted_recall}\")\n",
    "print(f\"Accuracy: {adjusted_accuracy}\")\n",
    "print(f\"F1 Score: {adjusted_f1}\")\n",
    "print(\"Confusion Matrix:\")\n",
    "print(adjusted_conf_matrix)\n",
    "\n",
    "lr_thresh = best_thresh"
   ]
  },
  {
   "cell_type": "code",
   "execution_count": 17,
   "id": "cfc6b32b-5f2a-4017-8a2b-e393ee1f85b3",
   "metadata": {
    "execution": {
     "iopub.execute_input": "2024-09-24T17:56:07.013114Z",
     "iopub.status.busy": "2024-09-24T17:56:07.013037Z",
     "iopub.status.idle": "2024-09-24T17:56:07.707077Z",
     "shell.execute_reply": "2024-09-24T17:56:07.704244Z",
     "shell.execute_reply.started": "2024-09-24T17:56:07.013108Z"
    }
   },
   "outputs": [
    {
     "name": "stdout",
     "output_type": "stream",
     "text": [
      "Updated cells count: 4\n"
     ]
    }
   ],
   "source": [
    "# SAVE TO GOOGLE SHEET\n",
    "\n",
    "# Define the range and values to update\n",
    "range_name = '4-3!B4:E4'  \n",
    "\n",
    "values = [[\n",
    "    f\"{adjusted_precision * 100:.2f}\",\n",
    "    f\"{adjusted_recall * 100:.2f}\",\n",
    "    f\"{adjusted_accuracy * 100:.2f}\",\n",
    "    f\"{adjusted_f1 * 100:.2f}\"\n",
    "]]\n",
    "\n",
    "# Prepare the request body\n",
    "body = {\n",
    "    'values': values\n",
    "}\n",
    "\n",
    "# Call the Sheets API to update the values\n",
    "result = service.spreadsheets().values().update(\n",
    "    spreadsheetId=spreadsheet_id, \n",
    "    range=range_name,\n",
    "    valueInputOption='USER_ENTERED',\n",
    "    body=body\n",
    ").execute()\n",
    "\n",
    "print('Updated cells count:', result.get('updatedCells'))"
   ]
  },
  {
   "cell_type": "markdown",
   "id": "5f311d02-936c-467e-ae14-e0c9cd0f0211",
   "metadata": {},
   "source": [
    "### NB"
   ]
  },
  {
   "cell_type": "code",
   "execution_count": 18,
   "id": "3cde7aba-1d7b-4fbd-94f0-98b9e5b2756a",
   "metadata": {
    "execution": {
     "iopub.execute_input": "2024-09-24T17:56:07.709824Z",
     "iopub.status.busy": "2024-09-24T17:56:07.709045Z",
     "iopub.status.idle": "2024-09-24T17:56:07.726873Z",
     "shell.execute_reply": "2024-09-24T17:56:07.726284Z",
     "shell.execute_reply.started": "2024-09-24T17:56:07.709786Z"
    }
   },
   "outputs": [
    {
     "name": "stdout",
     "output_type": "stream",
     "text": [
      "Naive Bayes\n",
      "Precision: 0.7262164124909223\n",
      "Recall: 0.8613264427217916\n",
      "Ensemble accuracy: 0.7841957480946651\n",
      "F1 Score: 0.7880220646178093\n",
      "Confusion Matrix:\n",
      "[[ 955  377]\n",
      " [ 161 1000]]\n"
     ]
    }
   ],
   "source": [
    "# Evaluate\n",
    "precision = precision_score(y_test, nb_final_predictions, average='binary')\n",
    "recall = recall_score(y_test, nb_final_predictions, average='binary')\n",
    "accuracy = accuracy_score(y_test, nb_final_predictions)\n",
    "f1 = f1_score(y_test, nb_final_predictions, average='binary')\n",
    "conf_matrix = confusion_matrix(y_test, nb_final_predictions)\n",
    "\n",
    "print(\"Naive Bayes\")\n",
    "print(f\"Precision: {precision}\")\n",
    "print(f\"Recall: {recall}\")\n",
    "print(f\"Ensemble accuracy: {accuracy}\")\n",
    "print(f\"F1 Score: {f1}\")\n",
    "print(\"Confusion Matrix:\")\n",
    "print(conf_matrix)\n"
   ]
  },
  {
   "cell_type": "code",
   "execution_count": 19,
   "id": "731db687-3f0b-46e4-b7ca-fb142334d3be",
   "metadata": {
    "execution": {
     "iopub.execute_input": "2024-09-24T17:56:07.728092Z",
     "iopub.status.busy": "2024-09-24T17:56:07.727830Z",
     "iopub.status.idle": "2024-09-24T17:56:07.803511Z",
     "shell.execute_reply": "2024-09-24T17:56:07.803118Z",
     "shell.execute_reply.started": "2024-09-24T17:56:07.728072Z"
    }
   },
   "outputs": [
    {
     "data": {
      "image/png": "[encoded data removed]",
      "text/plain": [
       "<Figure size 640x480 with 1 Axes>"
      ]
     },
     "metadata": {},
     "output_type": "display_data"
    }
   ],
   "source": [
    "# Get probability scores for threshold optimization\n",
    "nb_prob_scores = nb_meta_classifier.predict_proba(test_meta_features)[:, 1]\n",
    "\n",
    "import matplotlib.pyplot as plt\n",
    "\n",
    "# Plot the distribution of predicted probabilities\n",
    "plt.hist(nb_prob_scores, bins=50, alpha=0.75)\n",
    "plt.title('Distribution of Predicted Probabilities (NB)')\n",
    "plt.xlabel('Probability of Positive Class')\n",
    "plt.ylabel('Frequency')\n",
    "plt.show()\n"
   ]
  },
  {
   "cell_type": "code",
   "execution_count": 20,
   "id": "07991bda-71ea-4786-996b-61a3ae0132ff",
   "metadata": {
    "execution": {
     "iopub.execute_input": "2024-09-24T17:56:07.804056Z",
     "iopub.status.busy": "2024-09-24T17:56:07.803975Z",
     "iopub.status.idle": "2024-09-24T17:56:07.876558Z",
     "shell.execute_reply": "2024-09-24T17:56:07.876225Z",
     "shell.execute_reply.started": "2024-09-24T17:56:07.804049Z"
    }
   },
   "outputs": [
    {
     "name": "stdout",
     "output_type": "stream",
     "text": [
      "Adjusted threshold: 0.64\n",
      "Optimized Naive Bayes\n",
      "Precision: 0.736370425690814\n",
      "Recall: 0.8492678725236865\n",
      "Accuracy: 0.7882069795427196\n",
      "F1 Score: 0.7888\n",
      "Confusion Matrix:\n",
      "[[979 353]\n",
      " [175 986]]\n"
     ]
    }
   ],
   "source": [
    "# Threshold optimization\n",
    "thresholds = np.linspace(0.01, 0.99, 99)\n",
    "scores = [f1_score(y_test, nb_prob_scores >= t, average='binary') for t in thresholds]\n",
    "best_thresh = thresholds[np.argmax(scores)]\n",
    "adjusted_predictions = (nb_prob_scores >= best_thresh).astype(int)\n",
    "\n",
    "# Evaluate with the new threshold\n",
    "adjusted_precision = precision_score(y_test, adjusted_predictions, average='binary')\n",
    "adjusted_recall = recall_score(y_test, adjusted_predictions, average='binary')\n",
    "adjusted_accuracy = accuracy_score(y_test, adjusted_predictions)\n",
    "adjusted_f1 = f1_score(y_test, adjusted_predictions, average='binary')\n",
    "adjusted_conf_matrix = confusion_matrix(y_test, adjusted_predictions)\n",
    "\n",
    "print(f\"Adjusted threshold: {best_thresh}\")\n",
    "print(\"Optimized Naive Bayes\")\n",
    "print(f\"Precision: {adjusted_precision}\")\n",
    "print(f\"Recall: {adjusted_recall}\")\n",
    "print(f\"Accuracy: {adjusted_accuracy}\")\n",
    "print(f\"F1 Score: {adjusted_f1}\")\n",
    "print(\"Confusion Matrix:\")\n",
    "print(adjusted_conf_matrix)\n",
    "\n",
    "nb_thresh = best_thresh"
   ]
  },
  {
   "cell_type": "code",
   "execution_count": 21,
   "id": "aecf64b8-5a1a-4cea-a077-2049e0459dd9",
   "metadata": {
    "execution": {
     "iopub.execute_input": "2024-09-24T17:56:07.880063Z",
     "iopub.status.busy": "2024-09-24T17:56:07.879965Z",
     "iopub.status.idle": "2024-09-24T17:56:08.272128Z",
     "shell.execute_reply": "2024-09-24T17:56:08.270674Z",
     "shell.execute_reply.started": "2024-09-24T17:56:07.880054Z"
    }
   },
   "outputs": [
    {
     "name": "stdout",
     "output_type": "stream",
     "text": [
      "Updated cells count: 4\n"
     ]
    }
   ],
   "source": [
    "# SAVE TO GOOGLE SHEET\n",
    "\n",
    "# Define the range and values to update\n",
    "range_name = '4-3!B5:E5'  \n",
    "\n",
    "values = [[\n",
    "    f\"{adjusted_precision * 100:.2f}\",\n",
    "    f\"{adjusted_recall * 100:.2f}\",\n",
    "    f\"{adjusted_accuracy * 100:.2f}\",\n",
    "    f\"{adjusted_f1 * 100:.2f}\"\n",
    "]]\n",
    "\n",
    "# Prepare the request body\n",
    "body = {\n",
    "    'values': values\n",
    "}\n",
    "\n",
    "# Call the Sheets API to update the values\n",
    "result = service.spreadsheets().values().update(\n",
    "    spreadsheetId=spreadsheet_id, \n",
    "    range=range_name,\n",
    "    valueInputOption='USER_ENTERED',\n",
    "    body=body\n",
    ").execute()\n",
    "\n",
    "print('Updated cells count:', result.get('updatedCells'))"
   ]
  },
  {
   "cell_type": "markdown",
   "id": "958d063b-7c6a-43d7-aaa2-0b93e3d56610",
   "metadata": {},
   "source": [
    "### DT"
   ]
  },
  {
   "cell_type": "code",
   "execution_count": 22,
   "id": "6c799950-2309-4a08-9778-351ab70a85db",
   "metadata": {
    "execution": {
     "iopub.execute_input": "2024-09-24T17:56:08.275138Z",
     "iopub.status.busy": "2024-09-24T17:56:08.274561Z",
     "iopub.status.idle": "2024-09-24T17:56:08.295129Z",
     "shell.execute_reply": "2024-09-24T17:56:08.294107Z",
     "shell.execute_reply.started": "2024-09-24T17:56:08.275098Z"
    }
   },
   "outputs": [
    {
     "name": "stdout",
     "output_type": "stream",
     "text": [
      "Decision Tree\n",
      "Precision: 0.7525530243519246\n",
      "Recall: 0.8251507321274764\n",
      "Ensemble accuracy: 0.7922182109907742\n",
      "F1 Score: 0.7871815940838126\n",
      "Confusion Matrix:\n",
      "[[1017  315]\n",
      " [ 203  958]]\n"
     ]
    }
   ],
   "source": [
    "# Evaluate\n",
    "precision = precision_score(y_test, dt_final_predictions, average='binary')\n",
    "recall = recall_score(y_test, dt_final_predictions, average='binary')\n",
    "accuracy = accuracy_score(y_test, dt_final_predictions)\n",
    "f1 = f1_score(y_test, dt_final_predictions, average='binary')\n",
    "conf_matrix = confusion_matrix(y_test, dt_final_predictions)\n",
    "\n",
    "print(\"Decision Tree\")\n",
    "print(f\"Precision: {precision}\")\n",
    "print(f\"Recall: {recall}\")\n",
    "print(f\"Ensemble accuracy: {accuracy}\")\n",
    "print(f\"F1 Score: {f1}\")\n",
    "print(\"Confusion Matrix:\")\n",
    "print(conf_matrix)\n"
   ]
  },
  {
   "cell_type": "code",
   "execution_count": 23,
   "id": "a90d7ed2-cdff-4dd8-bd4f-4ec544449fed",
   "metadata": {
    "execution": {
     "iopub.execute_input": "2024-09-24T17:56:08.296567Z",
     "iopub.status.busy": "2024-09-24T17:56:08.296285Z",
     "iopub.status.idle": "2024-09-24T17:56:08.383414Z",
     "shell.execute_reply": "2024-09-24T17:56:08.383122Z",
     "shell.execute_reply.started": "2024-09-24T17:56:08.296544Z"
    }
   },
   "outputs": [
    {
     "data": {
      "image/png": "[encoded data removed]",
      "text/plain": [
       "<Figure size 640x480 with 1 Axes>"
      ]
     },
     "metadata": {},
     "output_type": "display_data"
    }
   ],
   "source": [
    "# Get probability scores for threshold optimization\n",
    "dt_prob_scores = dt_meta_classifier.predict_proba(test_meta_features)[:, 1]\n",
    "\n",
    "import matplotlib.pyplot as plt\n",
    "\n",
    "# Plot the distribution of predicted probabilities\n",
    "plt.hist(dt_prob_scores, bins=50, alpha=0.75)\n",
    "plt.title('Distribution of Predicted Probabilities (DT)')\n",
    "plt.xlabel('Probability of Positive Class')\n",
    "plt.ylabel('Frequency')\n",
    "plt.show()\n"
   ]
  },
  {
   "cell_type": "code",
   "execution_count": 24,
   "id": "6a63b5fc-8c61-409f-86bf-470f00eb6d99",
   "metadata": {
    "execution": {
     "iopub.execute_input": "2024-09-24T17:56:08.383960Z",
     "iopub.status.busy": "2024-09-24T17:56:08.383843Z",
     "iopub.status.idle": "2024-09-24T17:56:08.456507Z",
     "shell.execute_reply": "2024-09-24T17:56:08.456133Z",
     "shell.execute_reply.started": "2024-09-24T17:56:08.383952Z"
    }
   },
   "outputs": [
    {
     "name": "stdout",
     "output_type": "stream",
     "text": [
      "Adjusted threshold: 0.45\n",
      "Optimized Decision Tree\n",
      "Precision: 0.736370425690814\n",
      "Recall: 0.8492678725236865\n",
      "Accuracy: 0.7882069795427196\n",
      "F1 Score: 0.7888\n",
      "Confusion Matrix:\n",
      "[[979 353]\n",
      " [175 986]]\n"
     ]
    }
   ],
   "source": [
    "# Threshold optimization\n",
    "thresholds = np.linspace(0.01, 0.99, 99)\n",
    "scores = [f1_score(y_test, dt_prob_scores >= t, average='binary') for t in thresholds]\n",
    "best_thresh = thresholds[np.argmax(scores)]\n",
    "adjusted_predictions = (dt_prob_scores >= best_thresh).astype(int)\n",
    "\n",
    "# Evaluate with the new threshold\n",
    "adjusted_precision = precision_score(y_test, adjusted_predictions, average='binary')\n",
    "adjusted_recall = recall_score(y_test, adjusted_predictions, average='binary')\n",
    "adjusted_accuracy = accuracy_score(y_test, adjusted_predictions)\n",
    "adjusted_f1 = f1_score(y_test, adjusted_predictions, average='binary')\n",
    "adjusted_conf_matrix = confusion_matrix(y_test, adjusted_predictions)\n",
    "\n",
    "print(f\"Adjusted threshold: {best_thresh}\")\n",
    "print(\"Optimized Decision Tree\")\n",
    "print(f\"Precision: {adjusted_precision}\")\n",
    "print(f\"Recall: {adjusted_recall}\")\n",
    "print(f\"Accuracy: {adjusted_accuracy}\")\n",
    "print(f\"F1 Score: {adjusted_f1}\")\n",
    "print(\"Confusion Matrix:\")\n",
    "print(adjusted_conf_matrix)\n",
    "\n",
    "dt_thresh = best_thresh"
   ]
  },
  {
   "cell_type": "code",
   "execution_count": 25,
   "id": "9653e844-4196-4d63-9b61-4998f3dba2d0",
   "metadata": {
    "execution": {
     "iopub.execute_input": "2024-09-24T17:56:08.457139Z",
     "iopub.status.busy": "2024-09-24T17:56:08.457053Z",
     "iopub.status.idle": "2024-09-24T17:56:08.749241Z",
     "shell.execute_reply": "2024-09-24T17:56:08.748788Z",
     "shell.execute_reply.started": "2024-09-24T17:56:08.457132Z"
    }
   },
   "outputs": [
    {
     "name": "stdout",
     "output_type": "stream",
     "text": [
      "Updated cells count: 4\n"
     ]
    }
   ],
   "source": [
    "# SAVE TO GOOGLE SHEET\n",
    "\n",
    "# Define the range and values to update\n",
    "range_name = '4-3!B6:E6'  \n",
    "\n",
    "values = [[\n",
    "    f\"{adjusted_precision * 100:.2f}\",\n",
    "    f\"{adjusted_recall * 100:.2f}\",\n",
    "    f\"{adjusted_accuracy * 100:.2f}\",\n",
    "    f\"{adjusted_f1 * 100:.2f}\"\n",
    "]]\n",
    "\n",
    "# Prepare the request body\n",
    "body = {\n",
    "    'values': values\n",
    "}\n",
    "\n",
    "# Call the Sheets API to update the values\n",
    "result = service.spreadsheets().values().update(\n",
    "    spreadsheetId=spreadsheet_id, \n",
    "    range=range_name,\n",
    "    valueInputOption='USER_ENTERED',\n",
    "    body=body\n",
    ").execute()\n",
    "\n",
    "print('Updated cells count:', result.get('updatedCells'))"
   ]
  },
  {
   "cell_type": "markdown",
   "id": "24614471-4cf3-4349-b8bb-98715c2db8a9",
   "metadata": {},
   "source": [
    "### SVM"
   ]
  },
  {
   "cell_type": "code",
   "execution_count": 26,
   "id": "6f5a4d67-5a7a-4f32-b9c4-6f5c7612a256",
   "metadata": {
    "execution": {
     "iopub.execute_input": "2024-09-24T17:56:08.750262Z",
     "iopub.status.busy": "2024-09-24T17:56:08.750034Z",
     "iopub.status.idle": "2024-09-24T17:56:08.759265Z",
     "shell.execute_reply": "2024-09-24T17:56:08.758921Z",
     "shell.execute_reply.started": "2024-09-24T17:56:08.750248Z"
    }
   },
   "outputs": [
    {
     "name": "stdout",
     "output_type": "stream",
     "text": [
      "SVM\n",
      "Precision: 0.726144297905353\n",
      "Recall: 0.8062015503875969\n",
      "Ensemble accuracy: 0.7681508223024468\n",
      "F1 Score: 0.7640816326530612\n",
      "Confusion Matrix:\n",
      "[[979 353]\n",
      " [225 936]]\n"
     ]
    }
   ],
   "source": [
    "# Evaluate\n",
    "precision = precision_score(y_test, svm_final_predictions, average='binary')\n",
    "recall = recall_score(y_test, svm_final_predictions, average='binary')\n",
    "accuracy = accuracy_score(y_test, svm_final_predictions)\n",
    "f1 = f1_score(y_test, svm_final_predictions, average='binary')\n",
    "conf_matrix = confusion_matrix(y_test, svm_final_predictions)\n",
    "\n",
    "print(\"SVM\")\n",
    "print(f\"Precision: {precision}\")\n",
    "print(f\"Recall: {recall}\")\n",
    "print(f\"Ensemble accuracy: {accuracy}\")\n",
    "print(f\"F1 Score: {f1}\")\n",
    "print(\"Confusion Matrix:\")\n",
    "print(conf_matrix)\n"
   ]
  },
  {
   "cell_type": "code",
   "execution_count": 27,
   "id": "7608e00b-ce4a-4169-83da-0a9a9fa2c1ac",
   "metadata": {
    "execution": {
     "iopub.execute_input": "2024-09-24T17:56:08.759991Z",
     "iopub.status.busy": "2024-09-24T17:56:08.759869Z",
     "iopub.status.idle": "2024-09-24T17:56:08.879285Z",
     "shell.execute_reply": "2024-09-24T17:56:08.879023Z",
     "shell.execute_reply.started": "2024-09-24T17:56:08.759981Z"
    }
   },
   "outputs": [
    {
     "data": {
      "image/png": "[encoded data removed]",
      "text/plain": [
       "<Figure size 640x480 with 1 Axes>"
      ]
     },
     "metadata": {},
     "output_type": "display_data"
    }
   ],
   "source": [
    "# Get probability scores for threshold optimization\n",
    "svm_prob_scores = svm_meta_classifier.predict_proba(test_meta_features)[:, 1]\n",
    "\n",
    "import matplotlib.pyplot as plt\n",
    "\n",
    "# Plot the distribution of predicted probabilities\n",
    "plt.hist(svm_prob_scores, bins=50, alpha=0.75)\n",
    "plt.title('Distribution of Predicted Probabilities (SVM)')\n",
    "plt.xlabel('Probability of Positive Class')\n",
    "plt.ylabel('Frequency')\n",
    "plt.show()\n"
   ]
  },
  {
   "cell_type": "code",
   "execution_count": 28,
   "id": "8f4bf24f-5e38-4acf-b0d1-c42ddb5a862f",
   "metadata": {
    "execution": {
     "iopub.execute_input": "2024-09-24T17:56:08.879791Z",
     "iopub.status.busy": "2024-09-24T17:56:08.879719Z",
     "iopub.status.idle": "2024-09-24T17:56:08.952173Z",
     "shell.execute_reply": "2024-09-24T17:56:08.951920Z",
     "shell.execute_reply.started": "2024-09-24T17:56:08.879784Z"
    }
   },
   "outputs": [
    {
     "name": "stdout",
     "output_type": "stream",
     "text": [
      "Adjusted threshold: 0.22\n",
      "Optimized SVM\n",
      "Precision: 0.726144297905353\n",
      "Recall: 0.8062015503875969\n",
      "Accuracy: 0.7681508223024468\n",
      "F1 Score: 0.7640816326530612\n",
      "Confusion Matrix:\n",
      "[[979 353]\n",
      " [225 936]]\n"
     ]
    }
   ],
   "source": [
    "# Threshold optimization\n",
    "thresholds = np.linspace(0.01, 0.99, 99)\n",
    "scores = [f1_score(y_test, svm_prob_scores >= t, average='binary') for t in thresholds]\n",
    "best_thresh = thresholds[np.argmax(scores)]\n",
    "adjusted_predictions = (svm_prob_scores >= best_thresh).astype(int)\n",
    "\n",
    "# Evaluate with the new threshold\n",
    "adjusted_precision = precision_score(y_test, adjusted_predictions, average='binary')\n",
    "adjusted_recall = recall_score(y_test, adjusted_predictions, average='binary')\n",
    "adjusted_accuracy = accuracy_score(y_test, adjusted_predictions)\n",
    "adjusted_f1 = f1_score(y_test, adjusted_predictions, average='binary')\n",
    "adjusted_conf_matrix = confusion_matrix(y_test, adjusted_predictions)\n",
    "\n",
    "print(f\"Adjusted threshold: {best_thresh}\")\n",
    "print(\"Optimized SVM\")\n",
    "print(f\"Precision: {adjusted_precision}\")\n",
    "print(f\"Recall: {adjusted_recall}\")\n",
    "print(f\"Accuracy: {adjusted_accuracy}\")\n",
    "print(f\"F1 Score: {adjusted_f1}\")\n",
    "print(\"Confusion Matrix:\")\n",
    "print(adjusted_conf_matrix)\n",
    "\n",
    "svm_thresh = best_thresh"
   ]
  },
  {
   "cell_type": "code",
   "execution_count": 29,
   "id": "92382252-0d77-45d8-bb20-8c5c7f2a983b",
   "metadata": {
    "execution": {
     "iopub.execute_input": "2024-09-24T17:56:08.952612Z",
     "iopub.status.busy": "2024-09-24T17:56:08.952535Z",
     "iopub.status.idle": "2024-09-24T17:56:09.304961Z",
     "shell.execute_reply": "2024-09-24T17:56:09.304093Z",
     "shell.execute_reply.started": "2024-09-24T17:56:08.952606Z"
    }
   },
   "outputs": [
    {
     "name": "stdout",
     "output_type": "stream",
     "text": [
      "Updated cells count: 4\n"
     ]
    }
   ],
   "source": [
    "# SAVE TO GOOGLE SHEET\n",
    "\n",
    "# Define the range and values to update\n",
    "range_name = '4-3!B7:E7'  \n",
    "\n",
    "values = [[\n",
    "    f\"{adjusted_precision * 100:.2f}\",\n",
    "    f\"{adjusted_recall * 100:.2f}\",\n",
    "    f\"{adjusted_accuracy * 100:.2f}\",\n",
    "    f\"{adjusted_f1 * 100:.2f}\"\n",
    "]]\n",
    "\n",
    "# Prepare the request body\n",
    "body = {\n",
    "    'values': values\n",
    "}\n",
    "\n",
    "# Call the Sheets API to update the values\n",
    "result = service.spreadsheets().values().update(\n",
    "    spreadsheetId=spreadsheet_id, \n",
    "    range=range_name,\n",
    "    valueInputOption='USER_ENTERED',\n",
    "    body=body\n",
    ").execute()\n",
    "\n",
    "print('Updated cells count:', result.get('updatedCells'))"
   ]
  },
  {
   "cell_type": "markdown",
   "id": "1e0143f6-14c3-431a-b08b-7f182a0c7c96",
   "metadata": {},
   "source": [
    "## TEST DATA C"
   ]
  },
  {
   "cell_type": "code",
   "execution_count": 30,
   "id": "2a7c1fca-bf56-43cf-8559-e8acfd5dc262",
   "metadata": {
    "execution": {
     "iopub.execute_input": "2024-09-24T17:56:09.306683Z",
     "iopub.status.busy": "2024-09-24T17:56:09.306235Z",
     "iopub.status.idle": "2024-09-24T17:56:47.599301Z",
     "shell.execute_reply": "2024-09-24T17:56:47.598950Z",
     "shell.execute_reply.started": "2024-09-24T17:56:09.306589Z"
    }
   },
   "outputs": [],
   "source": [
    "import pandas as pd\n",
    "from sklearn.metrics import accuracy_score, precision_score, recall_score, f1_score, confusion_matrix\n",
    "\n",
    "# Load validation data\n",
    "validation_file_path = 'Corpus/data_c.csv'\n",
    "validation_df = pd.read_csv(validation_file_path)\n",
    "\n",
    "X_val = validation_df['text'].values \n",
    "y_val = validation_df['label'].values\n",
    "\n",
    "# Generate meta-features for data c dataset\n",
    "val_meta_features = get_predictions(model_info, X_val, y_val, device) \n",
    "\n",
    "# Predict using the logistic regression meta-classifier\n",
    "val_lr_predictions = lr_meta_classifier.predict(val_meta_features)\n",
    "\n",
    "# Predict using the naive bayes meta-classifier\n",
    "val_nb_predictions = nb_meta_classifier.predict(val_meta_features)\n",
    "\n",
    "# Predict using the decision tree meta-classifier\n",
    "val_dt_predictions = dt_meta_classifier.predict(val_meta_features)\n",
    "\n",
    "# Predict using the svm meta-classifier\n",
    "val_svm_predictions = svm_meta_classifier.predict(val_meta_features)\n",
    "\n",
    "device = torch.device(\"mps\" if torch.backends.mps.is_available() else \"cpu\")"
   ]
  },
  {
   "cell_type": "markdown",
   "id": "7d0693ac-17b2-4645-be71-fe4c1f337e38",
   "metadata": {},
   "source": [
    "### LR"
   ]
  },
  {
   "cell_type": "code",
   "execution_count": 31,
   "id": "5303f868-1507-4252-9f50-136aa337f630",
   "metadata": {
    "execution": {
     "iopub.execute_input": "2024-09-24T17:56:47.599834Z",
     "iopub.status.busy": "2024-09-24T17:56:47.599750Z",
     "iopub.status.idle": "2024-09-24T17:56:47.606746Z",
     "shell.execute_reply": "2024-09-24T17:56:47.606424Z",
     "shell.execute_reply.started": "2024-09-24T17:56:47.599826Z"
    }
   },
   "outputs": [
    {
     "name": "stdout",
     "output_type": "stream",
     "text": [
      "Evaluation on HS-Data C Dataset\n",
      "Precision: 0.7306930693069307\n",
      "Recall: 0.858139534883721\n",
      "Accuracy: 0.7866811044937737\n",
      "F1 Score: 0.7893048128342246\n",
      "Confusion Matrix:\n",
      "[[715 272]\n",
      " [122 738]]\n"
     ]
    }
   ],
   "source": [
    "# Evaluate the predictions\n",
    "precision = precision_score(y_val, val_lr_predictions, average='binary')\n",
    "recall = recall_score(y_val, val_lr_predictions, average='binary')\n",
    "accuracy = accuracy_score(y_val, val_lr_predictions)\n",
    "f1 = f1_score(y_val, val_lr_predictions, average='binary')\n",
    "conf_matrix = confusion_matrix(y_val, val_lr_predictions)\n",
    "\n",
    "print(\"Evaluation on HS-Data C Dataset\")\n",
    "print(f\"Precision: {precision}\")\n",
    "print(f\"Recall: {recall}\")\n",
    "print(f\"Accuracy: {accuracy}\")\n",
    "print(f\"F1 Score: {f1}\")\n",
    "print(\"Confusion Matrix:\")\n",
    "print(conf_matrix)"
   ]
  },
  {
   "cell_type": "code",
   "execution_count": 32,
   "id": "304ff2c7-06e2-460f-b580-3f4d5a8b2208",
   "metadata": {
    "execution": {
     "iopub.execute_input": "2024-09-24T17:56:47.607349Z",
     "iopub.status.busy": "2024-09-24T17:56:47.607223Z",
     "iopub.status.idle": "2024-09-24T17:56:47.676414Z",
     "shell.execute_reply": "2024-09-24T17:56:47.676072Z",
     "shell.execute_reply.started": "2024-09-24T17:56:47.607342Z"
    }
   },
   "outputs": [
    {
     "data": {
      "image/png": "[encoded data removed]",
      "text/plain": [
       "<Figure size 640x480 with 1 Axes>"
      ]
     },
     "metadata": {},
     "output_type": "display_data"
    }
   ],
   "source": [
    "# Get probability scores for threshold optimization\n",
    "lr_prob_scores = lr_meta_classifier.predict_proba(val_meta_features)[:, 1]\n",
    "\n",
    "import matplotlib.pyplot as plt\n",
    "\n",
    "# Plot the distribution of predicted probabilities\n",
    "plt.hist(lr_prob_scores, bins=50, alpha=0.75)\n",
    "plt.title('Distribution of Predicted Probabilities (LR)')\n",
    "plt.xlabel('Probability of Positive Class')\n",
    "plt.ylabel('Frequency')\n",
    "plt.show()\n"
   ]
  },
  {
   "cell_type": "code",
   "execution_count": 33,
   "id": "d732e24d-540c-4934-a359-e7098db0eaaf",
   "metadata": {
    "execution": {
     "iopub.execute_input": "2024-09-24T17:56:47.676955Z",
     "iopub.status.busy": "2024-09-24T17:56:47.676877Z",
     "iopub.status.idle": "2024-09-24T17:56:47.683225Z",
     "shell.execute_reply": "2024-09-24T17:56:47.682903Z",
     "shell.execute_reply.started": "2024-09-24T17:56:47.676948Z"
    }
   },
   "outputs": [
    {
     "name": "stdout",
     "output_type": "stream",
     "text": [
      "Adjusted threshold: 0.44\n",
      "Optimized Logistic Regression\n",
      "Precision: 0.7306930693069307\n",
      "Recall: 0.858139534883721\n",
      "Accuracy: 0.7866811044937737\n",
      "F1 Score: 0.7893048128342246\n",
      "Confusion Matrix:\n",
      "[[715 272]\n",
      " [122 738]]\n"
     ]
    }
   ],
   "source": [
    "adjusted_predictions = (lr_prob_scores >= lr_thresh).astype(int)\n",
    "\n",
    "# Evaluate with the new threshold\n",
    "adjusted_precision = precision_score(y_val, adjusted_predictions, average='binary')\n",
    "adjusted_recall = recall_score(y_val, adjusted_predictions, average='binary')\n",
    "adjusted_accuracy = accuracy_score(y_val, adjusted_predictions)\n",
    "adjusted_f1 = f1_score(y_val, adjusted_predictions, average='binary')\n",
    "adjusted_conf_matrix = confusion_matrix(y_val, adjusted_predictions)\n",
    "\n",
    "print(f\"Adjusted threshold: {lr_thresh}\")\n",
    "print(\"Optimized Logistic Regression\")\n",
    "print(f\"Precision: {adjusted_precision}\")\n",
    "print(f\"Recall: {adjusted_recall}\")\n",
    "print(f\"Accuracy: {adjusted_accuracy}\")\n",
    "print(f\"F1 Score: {adjusted_f1}\")\n",
    "print(\"Confusion Matrix:\")\n",
    "print(adjusted_conf_matrix)"
   ]
  },
  {
   "cell_type": "code",
   "execution_count": 34,
   "id": "35d847f4-0bc4-4f4f-a1ff-22d5d990820f",
   "metadata": {
    "execution": {
     "iopub.execute_input": "2024-09-24T17:56:47.683900Z",
     "iopub.status.busy": "2024-09-24T17:56:47.683760Z",
     "iopub.status.idle": "2024-09-24T17:56:48.083282Z",
     "shell.execute_reply": "2024-09-24T17:56:48.082520Z",
     "shell.execute_reply.started": "2024-09-24T17:56:47.683891Z"
    }
   },
   "outputs": [
    {
     "name": "stdout",
     "output_type": "stream",
     "text": [
      "Updated cells count: 4\n"
     ]
    }
   ],
   "source": [
    "# SAVE TO GOOGLE SHEET\n",
    "\n",
    "# Define the range and values to update\n",
    "range_name = '4-3!F4:I4'  \n",
    "\n",
    "values = [[\n",
    "    f\"{adjusted_precision * 100:.2f}\",\n",
    "    f\"{adjusted_recall * 100:.2f}\",\n",
    "    f\"{adjusted_accuracy * 100:.2f}\",\n",
    "    f\"{adjusted_f1 * 100:.2f}\"\n",
    "]]\n",
    "\n",
    "# Prepare the request body\n",
    "body = {\n",
    "    'values': values\n",
    "}\n",
    "\n",
    "# Call the Sheets API to update the values\n",
    "result = service.spreadsheets().values().update(\n",
    "    spreadsheetId=spreadsheet_id, \n",
    "    range=range_name,\n",
    "    valueInputOption='USER_ENTERED',\n",
    "    body=body\n",
    ").execute()\n",
    "\n",
    "print('Updated cells count:', result.get('updatedCells'))"
   ]
  },
  {
   "cell_type": "markdown",
   "id": "56d20e88-5a01-4b56-ad36-37c984d10277",
   "metadata": {},
   "source": [
    "#### Save CM"
   ]
  },
  {
   "cell_type": "code",
   "execution_count": 35,
   "id": "3ca78187-3e76-4798-b348-64b200b29eb1",
   "metadata": {
    "execution": {
     "iopub.execute_input": "2024-09-24T17:56:48.084985Z",
     "iopub.status.busy": "2024-09-24T17:56:48.084646Z",
     "iopub.status.idle": "2024-09-24T17:56:48.399048Z",
     "shell.execute_reply": "2024-09-24T17:56:48.398652Z",
     "shell.execute_reply.started": "2024-09-24T17:56:48.084954Z"
    }
   },
   "outputs": [
    {
     "data": {
      "text/html": [
       "\n",
       "<style>\n",
       "  #altair-viz-6f7cec9219734f9487d48f254f6f461e.vega-embed {\n",
       "    width: 100%;\n",
       "    display: flex;\n",
       "  }\n",
       "\n",
       "  #altair-viz-6f7cec9219734f9487d48f254f6f461e.vega-embed details,\n",
       "  #altair-viz-6f7cec9219734f9487d48f254f6f461e.vega-embed details summary {\n",
       "    position: relative;\n",
       "  }\n",
       "</style>\n",
       "<div id=\"altair-viz-6f7cec9219734f9487d48f254f6f461e\"></div>\n",
       "<script type=\"text/javascript\">\n",
       "  var VEGA_DEBUG = (typeof VEGA_DEBUG == \"undefined\") ? {} : VEGA_DEBUG;\n",
       "  (function(spec, embedOpt){\n",
       "    let outputDiv = document.currentScript.previousElementSibling;\n",
       "    if (outputDiv.id !== \"altair-viz-6f7cec9219734f9487d48f254f6f461e\") {\n",
       "      outputDiv = document.getElementById(\"altair-viz-6f7cec9219734f9487d48f254f6f461e\");\n",
       "    }\n",
       "    const paths = {\n",
       "      \"vega\": \"https://cdn.jsdelivr.net/npm/vega@5?noext\",\n",
       "      \"vega-lib\": \"https://cdn.jsdelivr.net/npm/vega-lib?noext\",\n",
       "      \"vega-lite\": \"https://cdn.jsdelivr.net/npm/vega-lite@5.17.0?noext\",\n",
       "      \"vega-embed\": \"https://cdn.jsdelivr.net/npm/vega-embed@6?noext\",\n",
       "    };\n",
       "\n",
       "    function maybeLoadScript(lib, version) {\n",
       "      var key = `${lib.replace(\"-\", \"\")}_version`;\n",
       "      return (VEGA_DEBUG[key] == version) ?\n",
       "        Promise.resolve(paths[lib]) :\n",
       "        new Promise(function(resolve, reject) {\n",
       "          var s = document.createElement('script');\n",
       "          document.getElementsByTagName(\"head\")[0].appendChild(s);\n",
       "          s.async = true;\n",
       "          s.onload = () => {\n",
       "            VEGA_DEBUG[key] = version;\n",
       "            return resolve(paths[lib]);\n",
       "          };\n",
       "          s.onerror = () => reject(`Error loading script: ${paths[lib]}`);\n",
       "          s.src = paths[lib];\n",
       "        });\n",
       "    }\n",
       "\n",
       "    function showError(err) {\n",
       "      outputDiv.innerHTML = `<div class=\"error\" style=\"color:red;\">${err}</div>`;\n",
       "      throw err;\n",
       "    }\n",
       "\n",
       "    function displayChart(vegaEmbed) {\n",
       "      vegaEmbed(outputDiv, spec, embedOpt)\n",
       "        .catch(err => showError(`Javascript Error: ${err.message}<br>This usually means there's a typo in your chart specification. See the javascript console for the full traceback.`));\n",
       "    }\n",
       "\n",
       "    if(typeof define === \"function\" && define.amd) {\n",
       "      requirejs.config({paths});\n",
       "      require([\"vega-embed\"], displayChart, err => showError(`Error loading script: ${err.message}`));\n",
       "    } else {\n",
       "      maybeLoadScript(\"vega\", \"5\")\n",
       "        .then(() => maybeLoadScript(\"vega-lite\", \"5.17.0\"))\n",
       "        .then(() => maybeLoadScript(\"vega-embed\", \"6\"))\n",
       "        .catch(showError)\n",
       "        .then(() => displayChart(vegaEmbed));\n",
       "    }\n",
       "  })({\"config\": {\"view\": {\"continuousWidth\": 300, \"continuousHeight\": 300}}, \"layer\": [{\"mark\": {\"type\": \"rect\"}, \"encoding\": {\"color\": {\"field\": \"Count\", \"type\": \"quantitative\"}, \"tooltip\": [{\"field\": \"True\", \"type\": \"ordinal\"}, {\"field\": \"Predicted\", \"type\": \"ordinal\"}, {\"field\": \"Count\", \"type\": \"quantitative\"}], \"x\": {\"field\": \"Predicted\", \"sort\": [\"Non Hatespeech\", \"Hate Speech\"], \"type\": \"ordinal\"}, \"y\": {\"field\": \"True\", \"sort\": [\"Non Hatespeech\", \"Hate Speech\"], \"type\": \"ordinal\"}}, \"title\": \"OH_Using_HS 4STK-3 LR\"}, {\"mark\": {\"type\": \"text\", \"align\": \"center\", \"baseline\": \"middle\", \"fontSize\": 12}, \"encoding\": {\"color\": {\"condition\": {\"test\": \"(datum.Count > 369.0)\", \"value\": \"white\"}, \"value\": \"black\"}, \"text\": {\"field\": \"Count\", \"type\": \"quantitative\"}, \"tooltip\": [{\"field\": \"True\", \"type\": \"ordinal\"}, {\"field\": \"Predicted\", \"type\": \"ordinal\"}, {\"field\": \"Count\", \"type\": \"quantitative\"}], \"x\": {\"field\": \"Predicted\", \"sort\": [\"Non Hatespeech\", \"Hate Speech\"], \"type\": \"ordinal\"}, \"y\": {\"field\": \"True\", \"sort\": [\"Non Hatespeech\", \"Hate Speech\"], \"type\": \"ordinal\"}}, \"title\": \"OH_Using_HS 4STK-3 LR\"}], \"data\": {\"name\": \"data-3ef6b0c8bd2b78901693c805b0aab80c\"}, \"height\": 300, \"width\": 400, \"$schema\": \"https://vega.github.io/schema/vega-lite/v5.17.0.json\", \"datasets\": {\"data-3ef6b0c8bd2b78901693c805b0aab80c\": [{\"True\": \"Non Hatespeech\", \"Predicted\": \"Non Hatespeech\", \"Count\": 715}, {\"True\": \"Hate Speech\", \"Predicted\": \"Non Hatespeech\", \"Count\": 122}, {\"True\": \"Non Hatespeech\", \"Predicted\": \"Hate Speech\", \"Count\": 272}, {\"True\": \"Hate Speech\", \"Predicted\": \"Hate Speech\", \"Count\": 738}]}}, {\"mode\": \"vega-lite\"});\n",
       "</script>"
      ],
      "text/plain": [
       "alt.LayerChart(...)"
      ]
     },
     "metadata": {},
     "output_type": "display_data"
    }
   ],
   "source": [
    "import altair as alt\n",
    "import altair_saver\n",
    "import pandas as pd\n",
    "from sklearn.metrics import confusion_matrix\n",
    "\n",
    "# Calculate the confusion matrix\n",
    "cm = confusion_matrix(y_val, adjusted_predictions)\n",
    "\n",
    "# Define class names\n",
    "class_names = ['Non Hatespeech', 'Hate Speech']\n",
    "\n",
    "# Convert confusion matrix to DataFrame\n",
    "cm_df = pd.DataFrame(cm, index=class_names, columns=class_names).reset_index().melt(id_vars='index')\n",
    "cm_df.columns = ['True', 'Predicted', 'Count']\n",
    "\n",
    "# Ensure the order of categories\n",
    "cm_df['True'] = pd.Categorical(cm_df['True'], categories=class_names, ordered=True)\n",
    "cm_df['Predicted'] = pd.Categorical(cm_df['Predicted'], categories=class_names, ordered=True)\n",
    "\n",
    "# Create the Altair plot\n",
    "heatmap = alt.Chart(cm_df).mark_rect().encode(\n",
    "    x=alt.X('Predicted:O', sort=class_names),\n",
    "    y=alt.Y('True:O', sort=class_names),\n",
    "    color='Count:Q',\n",
    "    tooltip=['True', 'Predicted', 'Count']\n",
    ").properties(\n",
    "    width=400,\n",
    "    height=300,\n",
    "    title='OH_Using_HS 4STK-3 LR'\n",
    ")\n",
    "\n",
    "# Add text labels\n",
    "text = heatmap.mark_text(\n",
    "    align='center',\n",
    "    baseline='middle',\n",
    "    fontSize=12\n",
    ").encode(\n",
    "    text='Count:Q',\n",
    "    color=alt.condition(\n",
    "        alt.datum.Count > cm.max() / 2,\n",
    "        alt.value('white'),\n",
    "        alt.value('black')\n",
    "    )\n",
    ")\n",
    "\n",
    "# Combine heatmap and text\n",
    "final_chart = heatmap + text\n",
    "\n",
    "# Display the plot\n",
    "final_chart.show()"
   ]
  },
  {
   "cell_type": "code",
   "execution_count": 36,
   "id": "4018e7ba-2de6-44d9-9a6f-bf13ccb33108",
   "metadata": {
    "execution": {
     "iopub.execute_input": "2024-09-24T17:56:48.399671Z",
     "iopub.status.busy": "2024-09-24T17:56:48.399576Z",
     "iopub.status.idle": "2024-09-24T17:56:48.916530Z",
     "shell.execute_reply": "2024-09-24T17:56:48.916242Z",
     "shell.execute_reply.started": "2024-09-24T17:56:48.399664Z"
    }
   },
   "outputs": [
    {
     "name": "stdout",
     "output_type": "stream",
     "text": [
      "Plot saved to Results/Ensemble Model Results/On Hatespeech dataset/OH Using HS Ensemble/Stacking/OH_Using_HS 4STK-3 LR.png\n"
     ]
    }
   ],
   "source": [
    "# Specify the folder path\n",
    "folder_path = os.path.expanduser('Results/Ensemble Model Results/On Hatespeech dataset/OH Using HS Ensemble/Stacking/')\n",
    "\n",
    "# Save the plot using vl-convert\n",
    "file_path_png = os.path.join(folder_path, 'OH_Using_HS 4STK-3 LR.png')\n",
    "final_chart.save(file_path_png)\n",
    "\n",
    "print(f\"Plot saved to {file_path_png}\")"
   ]
  },
  {
   "cell_type": "markdown",
   "id": "79e3bc0f-597f-47e3-ba99-5d9cafd1aea3",
   "metadata": {},
   "source": [
    "### NB"
   ]
  },
  {
   "cell_type": "code",
   "execution_count": 37,
   "id": "0af5051f-834f-4646-afef-37bfdfdc43d3",
   "metadata": {
    "execution": {
     "iopub.execute_input": "2024-09-24T17:56:48.917150Z",
     "iopub.status.busy": "2024-09-24T17:56:48.917025Z",
     "iopub.status.idle": "2024-09-24T17:56:48.922353Z",
     "shell.execute_reply": "2024-09-24T17:56:48.922136Z",
     "shell.execute_reply.started": "2024-09-24T17:56:48.917142Z"
    }
   },
   "outputs": [
    {
     "name": "stdout",
     "output_type": "stream",
     "text": [
      "Evaluation on HS-Data C Dataset\n",
      "Precision: 0.7258687258687259\n",
      "Recall: 0.8744186046511628\n",
      "Accuracy: 0.7877639415268002\n",
      "F1 Score: 0.7932489451476793\n",
      "Confusion Matrix:\n",
      "[[703 284]\n",
      " [108 752]]\n"
     ]
    }
   ],
   "source": [
    "# Evaluate the predictions\n",
    "precision = precision_score(y_val, val_nb_predictions, average='binary')\n",
    "recall = recall_score(y_val, val_nb_predictions, average='binary')\n",
    "accuracy = accuracy_score(y_val, val_nb_predictions)\n",
    "f1 = f1_score(y_val, val_nb_predictions, average='binary')\n",
    "conf_matrix = confusion_matrix(y_val, val_nb_predictions)\n",
    "\n",
    "print(\"Evaluation on HS-Data C Dataset\")\n",
    "print(f\"Precision: {precision}\")\n",
    "print(f\"Recall: {recall}\")\n",
    "print(f\"Accuracy: {accuracy}\")\n",
    "print(f\"F1 Score: {f1}\")\n",
    "print(\"Confusion Matrix:\")\n",
    "print(conf_matrix)"
   ]
  },
  {
   "cell_type": "code",
   "execution_count": 38,
   "id": "b1d00c95-8229-4193-a0cd-905da9490baf",
   "metadata": {
    "execution": {
     "iopub.execute_input": "2024-09-24T17:56:48.922783Z",
     "iopub.status.busy": "2024-09-24T17:56:48.922709Z",
     "iopub.status.idle": "2024-09-24T17:56:48.988576Z",
     "shell.execute_reply": "2024-09-24T17:56:48.988098Z",
     "shell.execute_reply.started": "2024-09-24T17:56:48.922776Z"
    }
   },
   "outputs": [
    {
     "data": {
      "image/png": "[encoded data removed]",
      "text/plain": [
       "<Figure size 640x480 with 1 Axes>"
      ]
     },
     "metadata": {},
     "output_type": "display_data"
    }
   ],
   "source": [
    "# Get probability scores for threshold optimization\n",
    "nb_prob_scores = nb_meta_classifier.predict_proba(val_meta_features)[:, 1]\n",
    "\n",
    "import matplotlib.pyplot as plt\n",
    "\n",
    "# Plot the distribution of predicted probabilities\n",
    "plt.hist(lr_prob_scores, bins=50, alpha=0.75)\n",
    "plt.title('Distribution of Predicted Probabilities (LR)')\n",
    "plt.xlabel('Probability of Positive Class')\n",
    "plt.ylabel('Frequency')\n",
    "plt.show()\n"
   ]
  },
  {
   "cell_type": "code",
   "execution_count": 39,
   "id": "d1acd42b-ca2c-40be-b90e-e7fb7f6eeb2a",
   "metadata": {
    "execution": {
     "iopub.execute_input": "2024-09-24T17:56:48.989148Z",
     "iopub.status.busy": "2024-09-24T17:56:48.989052Z",
     "iopub.status.idle": "2024-09-24T17:56:48.995167Z",
     "shell.execute_reply": "2024-09-24T17:56:48.994912Z",
     "shell.execute_reply.started": "2024-09-24T17:56:48.989141Z"
    }
   },
   "outputs": [
    {
     "name": "stdout",
     "output_type": "stream",
     "text": [
      "Adjusted threshold: 0.64\n",
      "Optimized Naive Bayes\n",
      "Precision: 0.7306930693069307\n",
      "Recall: 0.858139534883721\n",
      "Accuracy: 0.7866811044937737\n",
      "F1 Score: 0.7893048128342246\n",
      "Confusion Matrix:\n",
      "[[715 272]\n",
      " [122 738]]\n"
     ]
    }
   ],
   "source": [
    "adjusted_predictions = (nb_prob_scores >= nb_thresh).astype(int)\n",
    "\n",
    "# Evaluate with the new threshold\n",
    "adjusted_precision = precision_score(y_val, adjusted_predictions, average='binary')\n",
    "adjusted_recall = recall_score(y_val, adjusted_predictions, average='binary')\n",
    "adjusted_accuracy = accuracy_score(y_val, adjusted_predictions)\n",
    "adjusted_f1 = f1_score(y_val, adjusted_predictions, average='binary')\n",
    "adjusted_conf_matrix = confusion_matrix(y_val, adjusted_predictions)\n",
    "\n",
    "print(f\"Adjusted threshold: {nb_thresh}\")\n",
    "print(\"Optimized Naive Bayes\")\n",
    "print(f\"Precision: {adjusted_precision}\")\n",
    "print(f\"Recall: {adjusted_recall}\")\n",
    "print(f\"Accuracy: {adjusted_accuracy}\")\n",
    "print(f\"F1 Score: {adjusted_f1}\")\n",
    "print(\"Confusion Matrix:\")\n",
    "print(adjusted_conf_matrix)"
   ]
  },
  {
   "cell_type": "code",
   "execution_count": 40,
   "id": "fe5b7918-e4a2-4fd5-bfc3-74bb308a085b",
   "metadata": {
    "execution": {
     "iopub.execute_input": "2024-09-24T17:56:48.995637Z",
     "iopub.status.busy": "2024-09-24T17:56:48.995568Z",
     "iopub.status.idle": "2024-09-24T17:56:49.351309Z",
     "shell.execute_reply": "2024-09-24T17:56:49.350494Z",
     "shell.execute_reply.started": "2024-09-24T17:56:48.995630Z"
    }
   },
   "outputs": [
    {
     "name": "stdout",
     "output_type": "stream",
     "text": [
      "Updated cells count: 4\n"
     ]
    }
   ],
   "source": [
    "# SAVE TO GOOGLE SHEET\n",
    "\n",
    "# Define the range and values to update\n",
    "range_name = '4-3!F5:I5'  \n",
    "\n",
    "values = [[\n",
    "    f\"{adjusted_precision * 100:.2f}\",\n",
    "    f\"{adjusted_recall * 100:.2f}\",\n",
    "    f\"{adjusted_accuracy * 100:.2f}\",\n",
    "    f\"{adjusted_f1 * 100:.2f}\"\n",
    "]]\n",
    "\n",
    "# Prepare the request body\n",
    "body = {\n",
    "    'values': values\n",
    "}\n",
    "\n",
    "# Call the Sheets API to update the values\n",
    "result = service.spreadsheets().values().update(\n",
    "    spreadsheetId=spreadsheet_id, \n",
    "    range=range_name,\n",
    "    valueInputOption='USER_ENTERED',\n",
    "    body=body\n",
    ").execute()\n",
    "\n",
    "print('Updated cells count:', result.get('updatedCells'))"
   ]
  },
  {
   "cell_type": "markdown",
   "id": "65529983-86a3-4c32-b155-c08fcdf20b31",
   "metadata": {},
   "source": [
    "#### Save CM"
   ]
  },
  {
   "cell_type": "code",
   "execution_count": 41,
   "id": "ea993771-7e1b-4a65-8e32-29912f2564d0",
   "metadata": {
    "execution": {
     "iopub.execute_input": "2024-09-24T17:56:49.353087Z",
     "iopub.status.busy": "2024-09-24T17:56:49.352670Z",
     "iopub.status.idle": "2024-09-24T17:56:49.393315Z",
     "shell.execute_reply": "2024-09-24T17:56:49.392997Z",
     "shell.execute_reply.started": "2024-09-24T17:56:49.353058Z"
    }
   },
   "outputs": [
    {
     "data": {
      "text/html": [
       "\n",
       "<style>\n",
       "  #altair-viz-326e8cbd574349feb217aaadcde8b6bd.vega-embed {\n",
       "    width: 100%;\n",
       "    display: flex;\n",
       "  }\n",
       "\n",
       "  #altair-viz-326e8cbd574349feb217aaadcde8b6bd.vega-embed details,\n",
       "  #altair-viz-326e8cbd574349feb217aaadcde8b6bd.vega-embed details summary {\n",
       "    position: relative;\n",
       "  }\n",
       "</style>\n",
       "<div id=\"altair-viz-326e8cbd574349feb217aaadcde8b6bd\"></div>\n",
       "<script type=\"text/javascript\">\n",
       "  var VEGA_DEBUG = (typeof VEGA_DEBUG == \"undefined\") ? {} : VEGA_DEBUG;\n",
       "  (function(spec, embedOpt){\n",
       "    let outputDiv = document.currentScript.previousElementSibling;\n",
       "    if (outputDiv.id !== \"altair-viz-326e8cbd574349feb217aaadcde8b6bd\") {\n",
       "      outputDiv = document.getElementById(\"altair-viz-326e8cbd574349feb217aaadcde8b6bd\");\n",
       "    }\n",
       "    const paths = {\n",
       "      \"vega\": \"https://cdn.jsdelivr.net/npm/vega@5?noext\",\n",
       "      \"vega-lib\": \"https://cdn.jsdelivr.net/npm/vega-lib?noext\",\n",
       "      \"vega-lite\": \"https://cdn.jsdelivr.net/npm/vega-lite@5.17.0?noext\",\n",
       "      \"vega-embed\": \"https://cdn.jsdelivr.net/npm/vega-embed@6?noext\",\n",
       "    };\n",
       "\n",
       "    function maybeLoadScript(lib, version) {\n",
       "      var key = `${lib.replace(\"-\", \"\")}_version`;\n",
       "      return (VEGA_DEBUG[key] == version) ?\n",
       "        Promise.resolve(paths[lib]) :\n",
       "        new Promise(function(resolve, reject) {\n",
       "          var s = document.createElement('script');\n",
       "          document.getElementsByTagName(\"head\")[0].appendChild(s);\n",
       "          s.async = true;\n",
       "          s.onload = () => {\n",
       "            VEGA_DEBUG[key] = version;\n",
       "            return resolve(paths[lib]);\n",
       "          };\n",
       "          s.onerror = () => reject(`Error loading script: ${paths[lib]}`);\n",
       "          s.src = paths[lib];\n",
       "        });\n",
       "    }\n",
       "\n",
       "    function showError(err) {\n",
       "      outputDiv.innerHTML = `<div class=\"error\" style=\"color:red;\">${err}</div>`;\n",
       "      throw err;\n",
       "    }\n",
       "\n",
       "    function displayChart(vegaEmbed) {\n",
       "      vegaEmbed(outputDiv, spec, embedOpt)\n",
       "        .catch(err => showError(`Javascript Error: ${err.message}<br>This usually means there's a typo in your chart specification. See the javascript console for the full traceback.`));\n",
       "    }\n",
       "\n",
       "    if(typeof define === \"function\" && define.amd) {\n",
       "      requirejs.config({paths});\n",
       "      require([\"vega-embed\"], displayChart, err => showError(`Error loading script: ${err.message}`));\n",
       "    } else {\n",
       "      maybeLoadScript(\"vega\", \"5\")\n",
       "        .then(() => maybeLoadScript(\"vega-lite\", \"5.17.0\"))\n",
       "        .then(() => maybeLoadScript(\"vega-embed\", \"6\"))\n",
       "        .catch(showError)\n",
       "        .then(() => displayChart(vegaEmbed));\n",
       "    }\n",
       "  })({\"config\": {\"view\": {\"continuousWidth\": 300, \"continuousHeight\": 300}}, \"layer\": [{\"mark\": {\"type\": \"rect\"}, \"encoding\": {\"color\": {\"field\": \"Count\", \"type\": \"quantitative\"}, \"tooltip\": [{\"field\": \"True\", \"type\": \"ordinal\"}, {\"field\": \"Predicted\", \"type\": \"ordinal\"}, {\"field\": \"Count\", \"type\": \"quantitative\"}], \"x\": {\"field\": \"Predicted\", \"sort\": [\"Non Hatespeech\", \"Hate Speech\"], \"type\": \"ordinal\"}, \"y\": {\"field\": \"True\", \"sort\": [\"Non Hatespeech\", \"Hate Speech\"], \"type\": \"ordinal\"}}, \"title\": \"OH_Using_HS 4STK-3 NB\"}, {\"mark\": {\"type\": \"text\", \"align\": \"center\", \"baseline\": \"middle\", \"fontSize\": 12}, \"encoding\": {\"color\": {\"condition\": {\"test\": \"(datum.Count > 369.0)\", \"value\": \"white\"}, \"value\": \"black\"}, \"text\": {\"field\": \"Count\", \"type\": \"quantitative\"}, \"tooltip\": [{\"field\": \"True\", \"type\": \"ordinal\"}, {\"field\": \"Predicted\", \"type\": \"ordinal\"}, {\"field\": \"Count\", \"type\": \"quantitative\"}], \"x\": {\"field\": \"Predicted\", \"sort\": [\"Non Hatespeech\", \"Hate Speech\"], \"type\": \"ordinal\"}, \"y\": {\"field\": \"True\", \"sort\": [\"Non Hatespeech\", \"Hate Speech\"], \"type\": \"ordinal\"}}, \"title\": \"OH_Using_HS 4STK-3 NB\"}], \"data\": {\"name\": \"data-3ef6b0c8bd2b78901693c805b0aab80c\"}, \"height\": 300, \"width\": 400, \"$schema\": \"https://vega.github.io/schema/vega-lite/v5.17.0.json\", \"datasets\": {\"data-3ef6b0c8bd2b78901693c805b0aab80c\": [{\"True\": \"Non Hatespeech\", \"Predicted\": \"Non Hatespeech\", \"Count\": 715}, {\"True\": \"Hate Speech\", \"Predicted\": \"Non Hatespeech\", \"Count\": 122}, {\"True\": \"Non Hatespeech\", \"Predicted\": \"Hate Speech\", \"Count\": 272}, {\"True\": \"Hate Speech\", \"Predicted\": \"Hate Speech\", \"Count\": 738}]}}, {\"mode\": \"vega-lite\"});\n",
       "</script>"
      ],
      "text/plain": [
       "alt.LayerChart(...)"
      ]
     },
     "metadata": {},
     "output_type": "display_data"
    }
   ],
   "source": [
    "import altair as alt\n",
    "import altair_saver\n",
    "import pandas as pd\n",
    "from sklearn.metrics import confusion_matrix\n",
    "\n",
    "# Calculate the confusion matrix\n",
    "cm = confusion_matrix(y_val, adjusted_predictions)\n",
    "\n",
    "# Define class names\n",
    "class_names = ['Non Hatespeech', 'Hate Speech']\n",
    "\n",
    "# Convert confusion matrix to DataFrame\n",
    "cm_df = pd.DataFrame(cm, index=class_names, columns=class_names).reset_index().melt(id_vars='index')\n",
    "cm_df.columns = ['True', 'Predicted', 'Count']\n",
    "\n",
    "# Ensure the order of categories\n",
    "cm_df['True'] = pd.Categorical(cm_df['True'], categories=class_names, ordered=True)\n",
    "cm_df['Predicted'] = pd.Categorical(cm_df['Predicted'], categories=class_names, ordered=True)\n",
    "\n",
    "# Create the Altair plot\n",
    "heatmap = alt.Chart(cm_df).mark_rect().encode(\n",
    "    x=alt.X('Predicted:O', sort=class_names),\n",
    "    y=alt.Y('True:O', sort=class_names),\n",
    "    color='Count:Q',\n",
    "    tooltip=['True', 'Predicted', 'Count']\n",
    ").properties(\n",
    "    width=400,\n",
    "    height=300,\n",
    "    title='OH_Using_HS 4STK-3 NB'\n",
    ")\n",
    "\n",
    "# Add text labels\n",
    "text = heatmap.mark_text(\n",
    "    align='center',\n",
    "    baseline='middle',\n",
    "    fontSize=12\n",
    ").encode(\n",
    "    text='Count:Q',\n",
    "    color=alt.condition(\n",
    "        alt.datum.Count > cm.max() / 2,\n",
    "        alt.value('white'),\n",
    "        alt.value('black')\n",
    "    )\n",
    ")\n",
    "\n",
    "# Combine heatmap and text\n",
    "final_chart = heatmap + text\n",
    "\n",
    "# Display the plot\n",
    "final_chart.show()"
   ]
  },
  {
   "cell_type": "code",
   "execution_count": 42,
   "id": "031b9ce6-7d92-4735-a298-e8f7812ebae0",
   "metadata": {
    "execution": {
     "iopub.execute_input": "2024-09-24T17:56:49.394008Z",
     "iopub.status.busy": "2024-09-24T17:56:49.393920Z",
     "iopub.status.idle": "2024-09-24T17:56:49.437479Z",
     "shell.execute_reply": "2024-09-24T17:56:49.437153Z",
     "shell.execute_reply.started": "2024-09-24T17:56:49.394001Z"
    }
   },
   "outputs": [
    {
     "name": "stdout",
     "output_type": "stream",
     "text": [
      "Plot saved to Results/Ensemble Model Results/On Hatespeech dataset/OH Using HS Ensemble/Stacking/OH_Using_HS 4STK-3 NB.png\n"
     ]
    }
   ],
   "source": [
    "# Specify the folder path\n",
    "folder_path = os.path.expanduser('Results/Ensemble Model Results/On Hatespeech dataset/OH Using HS Ensemble/Stacking/')\n",
    "\n",
    "# Save the plot using vl-convert\n",
    "file_path_png = os.path.join(folder_path, 'OH_Using_HS 4STK-3 NB.png')\n",
    "final_chart.save(file_path_png)\n",
    "\n",
    "print(f\"Plot saved to {file_path_png}\")"
   ]
  },
  {
   "cell_type": "markdown",
   "id": "7ba2269b-62c4-43d2-8394-9aa3c1a27678",
   "metadata": {},
   "source": [
    "### DT"
   ]
  },
  {
   "cell_type": "code",
   "execution_count": 43,
   "id": "0448f107-62d6-4f1a-8b04-4378b79f3d3d",
   "metadata": {
    "execution": {
     "iopub.execute_input": "2024-09-24T17:56:49.438231Z",
     "iopub.status.busy": "2024-09-24T17:56:49.438060Z",
     "iopub.status.idle": "2024-09-24T17:56:49.444557Z",
     "shell.execute_reply": "2024-09-24T17:56:49.444290Z",
     "shell.execute_reply.started": "2024-09-24T17:56:49.438218Z"
    }
   },
   "outputs": [
    {
     "name": "stdout",
     "output_type": "stream",
     "text": [
      "Evaluation on HS-Data C Dataset\n",
      "Precision: 0.7412008281573499\n",
      "Recall: 0.8325581395348837\n",
      "Accuracy: 0.7866811044937737\n",
      "F1 Score: 0.7842278203723987\n",
      "Confusion Matrix:\n",
      "[[737 250]\n",
      " [144 716]]\n"
     ]
    }
   ],
   "source": [
    "# Evaluate the predictions\n",
    "precision = precision_score(y_val, val_dt_predictions, average='binary')\n",
    "recall = recall_score(y_val, val_dt_predictions, average='binary')\n",
    "accuracy = accuracy_score(y_val, val_dt_predictions)\n",
    "f1 = f1_score(y_val, val_dt_predictions, average='binary')\n",
    "conf_matrix = confusion_matrix(y_val, val_dt_predictions)\n",
    "\n",
    "print(\"Evaluation on HS-Data C Dataset\")\n",
    "print(f\"Precision: {precision}\")\n",
    "print(f\"Recall: {recall}\")\n",
    "print(f\"Accuracy: {accuracy}\")\n",
    "print(f\"F1 Score: {f1}\")\n",
    "print(\"Confusion Matrix:\")\n",
    "print(conf_matrix)"
   ]
  },
  {
   "cell_type": "code",
   "execution_count": 44,
   "id": "daeaa5a2-4d76-4cba-8043-45a4a8beb545",
   "metadata": {
    "execution": {
     "iopub.execute_input": "2024-09-24T17:56:49.445181Z",
     "iopub.status.busy": "2024-09-24T17:56:49.445048Z",
     "iopub.status.idle": "2024-09-24T17:56:49.513372Z",
     "shell.execute_reply": "2024-09-24T17:56:49.512980Z",
     "shell.execute_reply.started": "2024-09-24T17:56:49.445172Z"
    }
   },
   "outputs": [
    {
     "data": {
      "image/png": "[encoded data removed]",
      "text/plain": [
       "<Figure size 640x480 with 1 Axes>"
      ]
     },
     "metadata": {},
     "output_type": "display_data"
    }
   ],
   "source": [
    "# Get probability scores for threshold optimization\n",
    "dt_prob_scores = dt_meta_classifier.predict_proba(val_meta_features)[:, 1]\n",
    "\n",
    "import matplotlib.pyplot as plt\n",
    "\n",
    "# Plot the distribution of predicted probabilities\n",
    "plt.hist(lr_prob_scores, bins=50, alpha=0.75)\n",
    "plt.title('Distribution of Predicted Probabilities (LR)')\n",
    "plt.xlabel('Probability of Positive Class')\n",
    "plt.ylabel('Frequency')\n",
    "plt.show()"
   ]
  },
  {
   "cell_type": "code",
   "execution_count": 45,
   "id": "9a0f105d-eb8f-4450-9d41-d90c97cf028c",
   "metadata": {
    "execution": {
     "iopub.execute_input": "2024-09-24T17:56:49.513933Z",
     "iopub.status.busy": "2024-09-24T17:56:49.513838Z",
     "iopub.status.idle": "2024-09-24T17:56:49.520018Z",
     "shell.execute_reply": "2024-09-24T17:56:49.519741Z",
     "shell.execute_reply.started": "2024-09-24T17:56:49.513926Z"
    }
   },
   "outputs": [
    {
     "name": "stdout",
     "output_type": "stream",
     "text": [
      "Adjusted threshold: 0.45\n",
      "Optimized Decision Tree\n",
      "Precision: 0.7306930693069307\n",
      "Recall: 0.858139534883721\n",
      "Accuracy: 0.7866811044937737\n",
      "F1 Score: 0.7893048128342246\n",
      "Confusion Matrix:\n",
      "[[715 272]\n",
      " [122 738]]\n"
     ]
    }
   ],
   "source": [
    "adjusted_predictions = (dt_prob_scores >= dt_thresh).astype(int)\n",
    "\n",
    "# Evaluate with the new threshold\n",
    "adjusted_precision = precision_score(y_val, adjusted_predictions, average='binary')\n",
    "adjusted_recall = recall_score(y_val, adjusted_predictions, average='binary')\n",
    "adjusted_accuracy = accuracy_score(y_val, adjusted_predictions)\n",
    "adjusted_f1 = f1_score(y_val, adjusted_predictions, average='binary')\n",
    "adjusted_conf_matrix = confusion_matrix(y_val, adjusted_predictions)\n",
    "\n",
    "print(f\"Adjusted threshold: {dt_thresh}\")\n",
    "print(\"Optimized Decision Tree\")\n",
    "print(f\"Precision: {adjusted_precision}\")\n",
    "print(f\"Recall: {adjusted_recall}\")\n",
    "print(f\"Accuracy: {adjusted_accuracy}\")\n",
    "print(f\"F1 Score: {adjusted_f1}\")\n",
    "print(\"Confusion Matrix:\")\n",
    "print(adjusted_conf_matrix)"
   ]
  },
  {
   "cell_type": "code",
   "execution_count": 46,
   "id": "dec85bf2-3044-4247-90ec-703089be962b",
   "metadata": {
    "execution": {
     "iopub.execute_input": "2024-09-24T17:56:49.520723Z",
     "iopub.status.busy": "2024-09-24T17:56:49.520550Z",
     "iopub.status.idle": "2024-09-24T17:56:49.804761Z",
     "shell.execute_reply": "2024-09-24T17:56:49.804335Z",
     "shell.execute_reply.started": "2024-09-24T17:56:49.520710Z"
    }
   },
   "outputs": [
    {
     "name": "stdout",
     "output_type": "stream",
     "text": [
      "Updated cells count: 4\n"
     ]
    }
   ],
   "source": [
    "# SAVE TO GOOGLE SHEET\n",
    "\n",
    "# Define the range and values to update\n",
    "range_name = '4-3!F6:I6'  \n",
    "\n",
    "values = [[\n",
    "    f\"{adjusted_precision * 100:.2f}\",\n",
    "    f\"{adjusted_recall * 100:.2f}\",\n",
    "    f\"{adjusted_accuracy * 100:.2f}\",\n",
    "    f\"{adjusted_f1 * 100:.2f}\"\n",
    "]]\n",
    "\n",
    "# Prepare the request body\n",
    "body = {\n",
    "    'values': values\n",
    "}\n",
    "\n",
    "# Call the Sheets API to update the values\n",
    "result = service.spreadsheets().values().update(\n",
    "    spreadsheetId=spreadsheet_id, \n",
    "    range=range_name,\n",
    "    valueInputOption='USER_ENTERED',\n",
    "    body=body\n",
    ").execute()\n",
    "\n",
    "print('Updated cells count:', result.get('updatedCells'))"
   ]
  },
  {
   "cell_type": "markdown",
   "id": "c8589d71-c489-4214-9c56-4a3a7ed69506",
   "metadata": {},
   "source": [
    "#### Save CM"
   ]
  },
  {
   "cell_type": "code",
   "execution_count": 47,
   "id": "bb07bbd3-2021-4e16-8b59-3908f095b7cf",
   "metadata": {
    "execution": {
     "iopub.execute_input": "2024-09-24T17:56:49.805567Z",
     "iopub.status.busy": "2024-09-24T17:56:49.805449Z",
     "iopub.status.idle": "2024-09-24T17:56:49.834038Z",
     "shell.execute_reply": "2024-09-24T17:56:49.833714Z",
     "shell.execute_reply.started": "2024-09-24T17:56:49.805557Z"
    }
   },
   "outputs": [
    {
     "data": {
      "text/html": [
       "\n",
       "<style>\n",
       "  #altair-viz-e0ffb597acea4bebb0c031b87a078a98.vega-embed {\n",
       "    width: 100%;\n",
       "    display: flex;\n",
       "  }\n",
       "\n",
       "  #altair-viz-e0ffb597acea4bebb0c031b87a078a98.vega-embed details,\n",
       "  #altair-viz-e0ffb597acea4bebb0c031b87a078a98.vega-embed details summary {\n",
       "    position: relative;\n",
       "  }\n",
       "</style>\n",
       "<div id=\"altair-viz-e0ffb597acea4bebb0c031b87a078a98\"></div>\n",
       "<script type=\"text/javascript\">\n",
       "  var VEGA_DEBUG = (typeof VEGA_DEBUG == \"undefined\") ? {} : VEGA_DEBUG;\n",
       "  (function(spec, embedOpt){\n",
       "    let outputDiv = document.currentScript.previousElementSibling;\n",
       "    if (outputDiv.id !== \"altair-viz-e0ffb597acea4bebb0c031b87a078a98\") {\n",
       "      outputDiv = document.getElementById(\"altair-viz-e0ffb597acea4bebb0c031b87a078a98\");\n",
       "    }\n",
       "    const paths = {\n",
       "      \"vega\": \"https://cdn.jsdelivr.net/npm/vega@5?noext\",\n",
       "      \"vega-lib\": \"https://cdn.jsdelivr.net/npm/vega-lib?noext\",\n",
       "      \"vega-lite\": \"https://cdn.jsdelivr.net/npm/vega-lite@5.17.0?noext\",\n",
       "      \"vega-embed\": \"https://cdn.jsdelivr.net/npm/vega-embed@6?noext\",\n",
       "    };\n",
       "\n",
       "    function maybeLoadScript(lib, version) {\n",
       "      var key = `${lib.replace(\"-\", \"\")}_version`;\n",
       "      return (VEGA_DEBUG[key] == version) ?\n",
       "        Promise.resolve(paths[lib]) :\n",
       "        new Promise(function(resolve, reject) {\n",
       "          var s = document.createElement('script');\n",
       "          document.getElementsByTagName(\"head\")[0].appendChild(s);\n",
       "          s.async = true;\n",
       "          s.onload = () => {\n",
       "            VEGA_DEBUG[key] = version;\n",
       "            return resolve(paths[lib]);\n",
       "          };\n",
       "          s.onerror = () => reject(`Error loading script: ${paths[lib]}`);\n",
       "          s.src = paths[lib];\n",
       "        });\n",
       "    }\n",
       "\n",
       "    function showError(err) {\n",
       "      outputDiv.innerHTML = `<div class=\"error\" style=\"color:red;\">${err}</div>`;\n",
       "      throw err;\n",
       "    }\n",
       "\n",
       "    function displayChart(vegaEmbed) {\n",
       "      vegaEmbed(outputDiv, spec, embedOpt)\n",
       "        .catch(err => showError(`Javascript Error: ${err.message}<br>This usually means there's a typo in your chart specification. See the javascript console for the full traceback.`));\n",
       "    }\n",
       "\n",
       "    if(typeof define === \"function\" && define.amd) {\n",
       "      requirejs.config({paths});\n",
       "      require([\"vega-embed\"], displayChart, err => showError(`Error loading script: ${err.message}`));\n",
       "    } else {\n",
       "      maybeLoadScript(\"vega\", \"5\")\n",
       "        .then(() => maybeLoadScript(\"vega-lite\", \"5.17.0\"))\n",
       "        .then(() => maybeLoadScript(\"vega-embed\", \"6\"))\n",
       "        .catch(showError)\n",
       "        .then(() => displayChart(vegaEmbed));\n",
       "    }\n",
       "  })({\"config\": {\"view\": {\"continuousWidth\": 300, \"continuousHeight\": 300}}, \"layer\": [{\"mark\": {\"type\": \"rect\"}, \"encoding\": {\"color\": {\"field\": \"Count\", \"type\": \"quantitative\"}, \"tooltip\": [{\"field\": \"True\", \"type\": \"ordinal\"}, {\"field\": \"Predicted\", \"type\": \"ordinal\"}, {\"field\": \"Count\", \"type\": \"quantitative\"}], \"x\": {\"field\": \"Predicted\", \"sort\": [\"Non Hatespeech\", \"Hate Speech\"], \"type\": \"ordinal\"}, \"y\": {\"field\": \"True\", \"sort\": [\"Non Hatespeech\", \"Hate Speech\"], \"type\": \"ordinal\"}}, \"title\": \"OH_Using_HS 4STK-3 DT\"}, {\"mark\": {\"type\": \"text\", \"align\": \"center\", \"baseline\": \"middle\", \"fontSize\": 12}, \"encoding\": {\"color\": {\"condition\": {\"test\": \"(datum.Count > 369.0)\", \"value\": \"white\"}, \"value\": \"black\"}, \"text\": {\"field\": \"Count\", \"type\": \"quantitative\"}, \"tooltip\": [{\"field\": \"True\", \"type\": \"ordinal\"}, {\"field\": \"Predicted\", \"type\": \"ordinal\"}, {\"field\": \"Count\", \"type\": \"quantitative\"}], \"x\": {\"field\": \"Predicted\", \"sort\": [\"Non Hatespeech\", \"Hate Speech\"], \"type\": \"ordinal\"}, \"y\": {\"field\": \"True\", \"sort\": [\"Non Hatespeech\", \"Hate Speech\"], \"type\": \"ordinal\"}}, \"title\": \"OH_Using_HS 4STK-3 DT\"}], \"data\": {\"name\": \"data-3ef6b0c8bd2b78901693c805b0aab80c\"}, \"height\": 300, \"width\": 400, \"$schema\": \"https://vega.github.io/schema/vega-lite/v5.17.0.json\", \"datasets\": {\"data-3ef6b0c8bd2b78901693c805b0aab80c\": [{\"True\": \"Non Hatespeech\", \"Predicted\": \"Non Hatespeech\", \"Count\": 715}, {\"True\": \"Hate Speech\", \"Predicted\": \"Non Hatespeech\", \"Count\": 122}, {\"True\": \"Non Hatespeech\", \"Predicted\": \"Hate Speech\", \"Count\": 272}, {\"True\": \"Hate Speech\", \"Predicted\": \"Hate Speech\", \"Count\": 738}]}}, {\"mode\": \"vega-lite\"});\n",
       "</script>"
      ],
      "text/plain": [
       "alt.LayerChart(...)"
      ]
     },
     "metadata": {},
     "output_type": "display_data"
    }
   ],
   "source": [
    "import altair as alt\n",
    "import altair_saver\n",
    "import pandas as pd\n",
    "from sklearn.metrics import confusion_matrix\n",
    "\n",
    "# Calculate the confusion matrix\n",
    "cm = confusion_matrix(y_val, adjusted_predictions)\n",
    "\n",
    "# Define class names\n",
    "class_names = ['Non Hatespeech', 'Hate Speech']\n",
    "\n",
    "# Convert confusion matrix to DataFrame\n",
    "cm_df = pd.DataFrame(cm, index=class_names, columns=class_names).reset_index().melt(id_vars='index')\n",
    "cm_df.columns = ['True', 'Predicted', 'Count']\n",
    "\n",
    "# Ensure the order of categories\n",
    "cm_df['True'] = pd.Categorical(cm_df['True'], categories=class_names, ordered=True)\n",
    "cm_df['Predicted'] = pd.Categorical(cm_df['Predicted'], categories=class_names, ordered=True)\n",
    "\n",
    "# Create the Altair plot\n",
    "heatmap = alt.Chart(cm_df).mark_rect().encode(\n",
    "    x=alt.X('Predicted:O', sort=class_names),\n",
    "    y=alt.Y('True:O', sort=class_names),\n",
    "    color='Count:Q',\n",
    "    tooltip=['True', 'Predicted', 'Count']\n",
    ").properties(\n",
    "    width=400,\n",
    "    height=300,\n",
    "    title='OH_Using_HS 4STK-3 DT'\n",
    ")\n",
    "\n",
    "# Add text labels\n",
    "text = heatmap.mark_text(\n",
    "    align='center',\n",
    "    baseline='middle',\n",
    "    fontSize=12\n",
    ").encode(\n",
    "    text='Count:Q',\n",
    "    color=alt.condition(\n",
    "        alt.datum.Count > cm.max() / 2,\n",
    "        alt.value('white'),\n",
    "        alt.value('black')\n",
    "    )\n",
    ")\n",
    "\n",
    "# Combine heatmap and text\n",
    "final_chart = heatmap + text\n",
    "\n",
    "# Display the plot\n",
    "final_chart.show()"
   ]
  },
  {
   "cell_type": "code",
   "execution_count": 48,
   "id": "5445e621-6288-4a87-9e75-bf4511b2d9a7",
   "metadata": {
    "execution": {
     "iopub.execute_input": "2024-09-24T17:56:49.834583Z",
     "iopub.status.busy": "2024-09-24T17:56:49.834511Z",
     "iopub.status.idle": "2024-09-24T17:56:49.874247Z",
     "shell.execute_reply": "2024-09-24T17:56:49.873890Z",
     "shell.execute_reply.started": "2024-09-24T17:56:49.834576Z"
    }
   },
   "outputs": [
    {
     "name": "stdout",
     "output_type": "stream",
     "text": [
      "Plot saved to Results/Ensemble Model Results/On Hatespeech dataset/OH Using HS Ensemble/Stacking/OH_Using_HS 4STK-3 DT.png\n"
     ]
    }
   ],
   "source": [
    "# Specify the folder path\n",
    "folder_path = os.path.expanduser('Results/Ensemble Model Results/On Hatespeech dataset/OH Using HS Ensemble/Stacking/')\n",
    "\n",
    "# Save the plot using vl-convert\n",
    "file_path_png = os.path.join(folder_path, 'OH_Using_HS 4STK-3 DT.png')\n",
    "final_chart.save(file_path_png)\n",
    "\n",
    "print(f\"Plot saved to {file_path_png}\")"
   ]
  },
  {
   "cell_type": "markdown",
   "id": "ad6165ef-d0ff-4230-9fdb-3c6a774d728f",
   "metadata": {},
   "source": [
    "### SVM"
   ]
  },
  {
   "cell_type": "code",
   "execution_count": 49,
   "id": "660f90df-3de4-41b1-9fc6-4285133ec0a8",
   "metadata": {
    "execution": {
     "iopub.execute_input": "2024-09-24T17:56:49.874822Z",
     "iopub.status.busy": "2024-09-24T17:56:49.874736Z",
     "iopub.status.idle": "2024-09-24T17:56:49.881073Z",
     "shell.execute_reply": "2024-09-24T17:56:49.880796Z",
     "shell.execute_reply.started": "2024-09-24T17:56:49.874813Z"
    }
   },
   "outputs": [
    {
     "name": "stdout",
     "output_type": "stream",
     "text": [
      "Evaluation on HS-Data C Dataset\n",
      "Precision: 0.7144329896907217\n",
      "Recall: 0.8058139534883721\n",
      "Accuracy: 0.7596101786681104\n",
      "F1 Score: 0.7573770491803279\n",
      "Confusion Matrix:\n",
      "[[710 277]\n",
      " [167 693]]\n"
     ]
    }
   ],
   "source": [
    "# Evaluate the predictions\n",
    "precision = precision_score(y_val, val_svm_predictions, average='binary')\n",
    "recall = recall_score(y_val, val_svm_predictions, average='binary')\n",
    "accuracy = accuracy_score(y_val, val_svm_predictions)\n",
    "f1 = f1_score(y_val, val_svm_predictions, average='binary')\n",
    "conf_matrix = confusion_matrix(y_val, val_svm_predictions)\n",
    "\n",
    "print(\"Evaluation on HS-Data C Dataset\")\n",
    "print(f\"Precision: {precision}\")\n",
    "print(f\"Recall: {recall}\")\n",
    "print(f\"Accuracy: {accuracy}\")\n",
    "print(f\"F1 Score: {f1}\")\n",
    "print(\"Confusion Matrix:\")\n",
    "print(conf_matrix)"
   ]
  },
  {
   "cell_type": "code",
   "execution_count": 50,
   "id": "6ac0bd9a-587a-4f09-b56e-0b01ac249b1c",
   "metadata": {
    "execution": {
     "iopub.execute_input": "2024-09-24T17:56:49.881637Z",
     "iopub.status.busy": "2024-09-24T17:56:49.881557Z",
     "iopub.status.idle": "2024-09-24T17:56:49.982148Z",
     "shell.execute_reply": "2024-09-24T17:56:49.981845Z",
     "shell.execute_reply.started": "2024-09-24T17:56:49.881629Z"
    }
   },
   "outputs": [
    {
     "data": {
      "image/png": "[encoded data removed]",
      "text/plain": [
       "<Figure size 640x480 with 1 Axes>"
      ]
     },
     "metadata": {},
     "output_type": "display_data"
    }
   ],
   "source": [
    "# Get probability scores for threshold optimization\n",
    "svm_prob_scores = svm_meta_classifier.predict_proba(val_meta_features)[:, 1]\n",
    "\n",
    "import matplotlib.pyplot as plt\n",
    "\n",
    "# Plot the distribution of predicted probabilities\n",
    "plt.hist(lr_prob_scores, bins=50, alpha=0.75)\n",
    "plt.title('Distribution of Predicted Probabilities (LR)')\n",
    "plt.xlabel('Probability of Positive Class')\n",
    "plt.ylabel('Frequency')\n",
    "plt.show()\n"
   ]
  },
  {
   "cell_type": "code",
   "execution_count": 51,
   "id": "ad2fba87-04de-46b7-bc1d-1fbf7d1bb263",
   "metadata": {
    "execution": {
     "iopub.execute_input": "2024-09-24T17:56:49.982735Z",
     "iopub.status.busy": "2024-09-24T17:56:49.982650Z",
     "iopub.status.idle": "2024-09-24T17:56:49.988514Z",
     "shell.execute_reply": "2024-09-24T17:56:49.988291Z",
     "shell.execute_reply.started": "2024-09-24T17:56:49.982727Z"
    }
   },
   "outputs": [
    {
     "name": "stdout",
     "output_type": "stream",
     "text": [
      "Adjusted threshold: 0.22\n",
      "Optimized SVM\n",
      "Precision: 0.7144329896907217\n",
      "Recall: 0.8058139534883721\n",
      "Accuracy: 0.7596101786681104\n",
      "F1 Score: 0.7573770491803279\n",
      "Confusion Matrix:\n",
      "[[710 277]\n",
      " [167 693]]\n"
     ]
    }
   ],
   "source": [
    "adjusted_predictions = (svm_prob_scores >= svm_thresh).astype(int)\n",
    "\n",
    "# Evaluate with the new threshold\n",
    "adjusted_precision = precision_score(y_val, adjusted_predictions, average='binary')\n",
    "adjusted_recall = recall_score(y_val, adjusted_predictions, average='binary')\n",
    "adjusted_accuracy = accuracy_score(y_val, adjusted_predictions)\n",
    "adjusted_f1 = f1_score(y_val, adjusted_predictions, average='binary')\n",
    "adjusted_conf_matrix = confusion_matrix(y_val, adjusted_predictions)\n",
    "\n",
    "print(f\"Adjusted threshold: {svm_thresh}\")\n",
    "print(\"Optimized SVM\")\n",
    "print(f\"Precision: {adjusted_precision}\")\n",
    "print(f\"Recall: {adjusted_recall}\")\n",
    "print(f\"Accuracy: {adjusted_accuracy}\")\n",
    "print(f\"F1 Score: {adjusted_f1}\")\n",
    "print(\"Confusion Matrix:\")\n",
    "print(adjusted_conf_matrix)"
   ]
  },
  {
   "cell_type": "code",
   "execution_count": 52,
   "id": "7644868d-4140-415e-be20-4db4bfbf21b7",
   "metadata": {
    "execution": {
     "iopub.execute_input": "2024-09-24T17:56:49.989062Z",
     "iopub.status.busy": "2024-09-24T17:56:49.988939Z",
     "iopub.status.idle": "2024-09-24T17:56:50.279942Z",
     "shell.execute_reply": "2024-09-24T17:56:50.279548Z",
     "shell.execute_reply.started": "2024-09-24T17:56:49.989055Z"
    }
   },
   "outputs": [
    {
     "name": "stdout",
     "output_type": "stream",
     "text": [
      "Updated cells count: 4\n"
     ]
    }
   ],
   "source": [
    "# SAVE TO GOOGLE SHEET\n",
    "\n",
    "# Define the range and values to update\n",
    "range_name = '4-3!F7:I7'  \n",
    "\n",
    "values = [[\n",
    "    f\"{adjusted_precision * 100:.2f}\",\n",
    "    f\"{adjusted_recall * 100:.2f}\",\n",
    "    f\"{adjusted_accuracy * 100:.2f}\",\n",
    "    f\"{adjusted_f1 * 100:.2f}\"\n",
    "]]\n",
    "\n",
    "# Prepare the request body\n",
    "body = {\n",
    "    'values': values\n",
    "}\n",
    "\n",
    "# Call the Sheets API to update the values\n",
    "result = service.spreadsheets().values().update(\n",
    "    spreadsheetId=spreadsheet_id, \n",
    "    range=range_name,\n",
    "    valueInputOption='USER_ENTERED',\n",
    "    body=body\n",
    ").execute()\n",
    "\n",
    "print('Updated cells count:', result.get('updatedCells'))"
   ]
  },
  {
   "cell_type": "markdown",
   "id": "682be1a4-7bf8-4e44-9da2-2b7f48eac91c",
   "metadata": {},
   "source": [
    "#### Save CM"
   ]
  },
  {
   "cell_type": "code",
   "execution_count": 53,
   "id": "939272d5-856b-49da-99a2-4a25d818d2ea",
   "metadata": {
    "execution": {
     "iopub.execute_input": "2024-09-24T17:56:50.280653Z",
     "iopub.status.busy": "2024-09-24T17:56:50.280557Z",
     "iopub.status.idle": "2024-09-24T17:56:50.310095Z",
     "shell.execute_reply": "2024-09-24T17:56:50.309803Z",
     "shell.execute_reply.started": "2024-09-24T17:56:50.280643Z"
    }
   },
   "outputs": [
    {
     "data": {
      "text/html": [
       "\n",
       "<style>\n",
       "  #altair-viz-658b95a679cb4ac5ab788e0ac7a5ee81.vega-embed {\n",
       "    width: 100%;\n",
       "    display: flex;\n",
       "  }\n",
       "\n",
       "  #altair-viz-658b95a679cb4ac5ab788e0ac7a5ee81.vega-embed details,\n",
       "  #altair-viz-658b95a679cb4ac5ab788e0ac7a5ee81.vega-embed details summary {\n",
       "    position: relative;\n",
       "  }\n",
       "</style>\n",
       "<div id=\"altair-viz-658b95a679cb4ac5ab788e0ac7a5ee81\"></div>\n",
       "<script type=\"text/javascript\">\n",
       "  var VEGA_DEBUG = (typeof VEGA_DEBUG == \"undefined\") ? {} : VEGA_DEBUG;\n",
       "  (function(spec, embedOpt){\n",
       "    let outputDiv = document.currentScript.previousElementSibling;\n",
       "    if (outputDiv.id !== \"altair-viz-658b95a679cb4ac5ab788e0ac7a5ee81\") {\n",
       "      outputDiv = document.getElementById(\"altair-viz-658b95a679cb4ac5ab788e0ac7a5ee81\");\n",
       "    }\n",
       "    const paths = {\n",
       "      \"vega\": \"https://cdn.jsdelivr.net/npm/vega@5?noext\",\n",
       "      \"vega-lib\": \"https://cdn.jsdelivr.net/npm/vega-lib?noext\",\n",
       "      \"vega-lite\": \"https://cdn.jsdelivr.net/npm/vega-lite@5.17.0?noext\",\n",
       "      \"vega-embed\": \"https://cdn.jsdelivr.net/npm/vega-embed@6?noext\",\n",
       "    };\n",
       "\n",
       "    function maybeLoadScript(lib, version) {\n",
       "      var key = `${lib.replace(\"-\", \"\")}_version`;\n",
       "      return (VEGA_DEBUG[key] == version) ?\n",
       "        Promise.resolve(paths[lib]) :\n",
       "        new Promise(function(resolve, reject) {\n",
       "          var s = document.createElement('script');\n",
       "          document.getElementsByTagName(\"head\")[0].appendChild(s);\n",
       "          s.async = true;\n",
       "          s.onload = () => {\n",
       "            VEGA_DEBUG[key] = version;\n",
       "            return resolve(paths[lib]);\n",
       "          };\n",
       "          s.onerror = () => reject(`Error loading script: ${paths[lib]}`);\n",
       "          s.src = paths[lib];\n",
       "        });\n",
       "    }\n",
       "\n",
       "    function showError(err) {\n",
       "      outputDiv.innerHTML = `<div class=\"error\" style=\"color:red;\">${err}</div>`;\n",
       "      throw err;\n",
       "    }\n",
       "\n",
       "    function displayChart(vegaEmbed) {\n",
       "      vegaEmbed(outputDiv, spec, embedOpt)\n",
       "        .catch(err => showError(`Javascript Error: ${err.message}<br>This usually means there's a typo in your chart specification. See the javascript console for the full traceback.`));\n",
       "    }\n",
       "\n",
       "    if(typeof define === \"function\" && define.amd) {\n",
       "      requirejs.config({paths});\n",
       "      require([\"vega-embed\"], displayChart, err => showError(`Error loading script: ${err.message}`));\n",
       "    } else {\n",
       "      maybeLoadScript(\"vega\", \"5\")\n",
       "        .then(() => maybeLoadScript(\"vega-lite\", \"5.17.0\"))\n",
       "        .then(() => maybeLoadScript(\"vega-embed\", \"6\"))\n",
       "        .catch(showError)\n",
       "        .then(() => displayChart(vegaEmbed));\n",
       "    }\n",
       "  })({\"config\": {\"view\": {\"continuousWidth\": 300, \"continuousHeight\": 300}}, \"layer\": [{\"mark\": {\"type\": \"rect\"}, \"encoding\": {\"color\": {\"field\": \"Count\", \"type\": \"quantitative\"}, \"tooltip\": [{\"field\": \"True\", \"type\": \"ordinal\"}, {\"field\": \"Predicted\", \"type\": \"ordinal\"}, {\"field\": \"Count\", \"type\": \"quantitative\"}], \"x\": {\"field\": \"Predicted\", \"sort\": [\"Non Hatespeech\", \"Hate Speech\"], \"type\": \"ordinal\"}, \"y\": {\"field\": \"True\", \"sort\": [\"Non Hatespeech\", \"Hate Speech\"], \"type\": \"ordinal\"}}, \"title\": \"OH_Using_HS 4STK-3 LR\"}, {\"mark\": {\"type\": \"text\", \"align\": \"center\", \"baseline\": \"middle\", \"fontSize\": 12}, \"encoding\": {\"color\": {\"condition\": {\"test\": \"(datum.Count > 355.0)\", \"value\": \"white\"}, \"value\": \"black\"}, \"text\": {\"field\": \"Count\", \"type\": \"quantitative\"}, \"tooltip\": [{\"field\": \"True\", \"type\": \"ordinal\"}, {\"field\": \"Predicted\", \"type\": \"ordinal\"}, {\"field\": \"Count\", \"type\": \"quantitative\"}], \"x\": {\"field\": \"Predicted\", \"sort\": [\"Non Hatespeech\", \"Hate Speech\"], \"type\": \"ordinal\"}, \"y\": {\"field\": \"True\", \"sort\": [\"Non Hatespeech\", \"Hate Speech\"], \"type\": \"ordinal\"}}, \"title\": \"OH_Using_HS 4STK-3 LR\"}], \"data\": {\"name\": \"data-6380e6fa23f3fc7f57a8cd1bf2dd4cb3\"}, \"height\": 300, \"width\": 400, \"$schema\": \"https://vega.github.io/schema/vega-lite/v5.17.0.json\", \"datasets\": {\"data-6380e6fa23f3fc7f57a8cd1bf2dd4cb3\": [{\"True\": \"Non Hatespeech\", \"Predicted\": \"Non Hatespeech\", \"Count\": 710}, {\"True\": \"Hate Speech\", \"Predicted\": \"Non Hatespeech\", \"Count\": 167}, {\"True\": \"Non Hatespeech\", \"Predicted\": \"Hate Speech\", \"Count\": 277}, {\"True\": \"Hate Speech\", \"Predicted\": \"Hate Speech\", \"Count\": 693}]}}, {\"mode\": \"vega-lite\"});\n",
       "</script>"
      ],
      "text/plain": [
       "alt.LayerChart(...)"
      ]
     },
     "metadata": {},
     "output_type": "display_data"
    }
   ],
   "source": [
    "import altair as alt\n",
    "import altair_saver\n",
    "import pandas as pd\n",
    "from sklearn.metrics import confusion_matrix\n",
    "\n",
    "# Calculate the confusion matrix\n",
    "cm = confusion_matrix(y_val, adjusted_predictions)\n",
    "\n",
    "# Define class names\n",
    "class_names = ['Non Hatespeech', 'Hate Speech']\n",
    "\n",
    "# Convert confusion matrix to DataFrame\n",
    "cm_df = pd.DataFrame(cm, index=class_names, columns=class_names).reset_index().melt(id_vars='index')\n",
    "cm_df.columns = ['True', 'Predicted', 'Count']\n",
    "\n",
    "# Ensure the order of categories\n",
    "cm_df['True'] = pd.Categorical(cm_df['True'], categories=class_names, ordered=True)\n",
    "cm_df['Predicted'] = pd.Categorical(cm_df['Predicted'], categories=class_names, ordered=True)\n",
    "\n",
    "# Create the Altair plot\n",
    "heatmap = alt.Chart(cm_df).mark_rect().encode(\n",
    "    x=alt.X('Predicted:O', sort=class_names),\n",
    "    y=alt.Y('True:O', sort=class_names),\n",
    "    color='Count:Q',\n",
    "    tooltip=['True', 'Predicted', 'Count']\n",
    ").properties(\n",
    "    width=400,\n",
    "    height=300,\n",
    "    title='OH_Using_HS 4STK-3 LR'\n",
    ")\n",
    "\n",
    "# Add text labels\n",
    "text = heatmap.mark_text(\n",
    "    align='center',\n",
    "    baseline='middle',\n",
    "    fontSize=12\n",
    ").encode(\n",
    "    text='Count:Q',\n",
    "    color=alt.condition(\n",
    "        alt.datum.Count > cm.max() / 2,\n",
    "        alt.value('white'),\n",
    "        alt.value('black')\n",
    "    )\n",
    ")\n",
    "\n",
    "# Combine heatmap and text\n",
    "final_chart = heatmap + text\n",
    "\n",
    "# Display the plot\n",
    "final_chart.show()"
   ]
  },
  {
   "cell_type": "code",
   "execution_count": 54,
   "id": "4ab1dbec-94d8-4f9c-b5e8-843b853a71cb",
   "metadata": {
    "execution": {
     "iopub.execute_input": "2024-09-24T17:56:50.310720Z",
     "iopub.status.busy": "2024-09-24T17:56:50.310633Z",
     "iopub.status.idle": "2024-09-24T17:56:50.351934Z",
     "shell.execute_reply": "2024-09-24T17:56:50.351570Z",
     "shell.execute_reply.started": "2024-09-24T17:56:50.310713Z"
    }
   },
   "outputs": [
    {
     "name": "stdout",
     "output_type": "stream",
     "text": [
      "Plot saved to Results/Ensemble Model Results/On Hatespeech dataset/OH Using HS Ensemble/Stacking/OH_Using_HS 4STK-3 SVM.png\n"
     ]
    }
   ],
   "source": [
    "# Specify the folder path\n",
    "folder_path = os.path.expanduser('Results/Ensemble Model Results/On Hatespeech dataset/OH Using HS Ensemble/Stacking/')\n",
    "\n",
    "# Save the plot using vl-convert\n",
    "file_path_png = os.path.join(folder_path, 'OH_Using_HS 4STK-3 SVM.png')\n",
    "final_chart.save(file_path_png)\n",
    "\n",
    "print(f\"Plot saved to {file_path_png}\")"
   ]
  },
  {
   "cell_type": "code",
   "execution_count": null,
   "id": "a298f212-36ec-4e75-ad74-d7b272d094a1",
   "metadata": {},
   "outputs": [],
   "source": []
  },
  {
   "cell_type": "code",
   "execution_count": null,
   "id": "80391c9f-64d7-4e98-b9f0-6ee41cb035f4",
   "metadata": {},
   "outputs": [],
   "source": []
  }
 ],
 "metadata": {
  "kernelspec": {
   "display_name": "Python 3 (ipykernel)",
   "language": "python",
   "name": "python3"
  },
  "language_info": {
   "codemirror_mode": {
    "name": "ipython",
    "version": 3
   },
   "file_extension": ".py",
   "mimetype": "text/x-python",
   "name": "python",
   "nbconvert_exporter": "python",
   "pygments_lexer": "ipython3",
   "version": "3.10.14"
  }
 },
 "nbformat": 4,
 "nbformat_minor": 5
}
