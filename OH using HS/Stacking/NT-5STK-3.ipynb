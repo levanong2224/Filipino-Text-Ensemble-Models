{
 "cells": [
  {
   "cell_type": "markdown",
   "id": "1dc06b17-fcee-4505-bd74-d98376ce3ed9",
   "metadata": {},
   "source": [
    "# Train Stacking"
   ]
  },
  {
   "cell_type": "markdown",
   "id": "02c6a724-b17e-46f6-aee6-90ef2f7877a9",
   "metadata": {
    "execution": {
     "iopub.execute_input": "2024-08-13T15:08:53.465538Z",
     "iopub.status.busy": "2024-08-13T15:08:53.465321Z",
     "iopub.status.idle": "2024-08-13T15:08:53.469076Z",
     "shell.execute_reply": "2024-08-13T15:08:53.468592Z",
     "shell.execute_reply.started": "2024-08-13T15:08:53.465526Z"
    }
   },
   "source": [
    "Best F1 score BERT model on HS_C dataset are used"
   ]
  },
  {
   "cell_type": "code",
   "execution_count": 1,
   "id": "3823c3e6-976a-4eb9-a651-2cfeaa1a3cc0",
   "metadata": {
    "execution": {
     "iopub.execute_input": "2024-08-27T09:26:08.785081Z",
     "iopub.status.busy": "2024-08-27T09:26:08.784927Z",
     "iopub.status.idle": "2024-08-27T09:26:08.898394Z",
     "shell.execute_reply": "2024-08-27T09:26:08.898137Z",
     "shell.execute_reply.started": "2024-08-27T09:26:08.785071Z"
    }
   },
   "outputs": [],
   "source": [
    "# This automates data tabulation onto google sheets \n",
    "\n",
    "import gspread\n",
    "from oauth2client.service_account import ServiceAccountCredentials\n",
    "from googleapiclient.discovery import build\n",
    "\n",
    "import os\n",
    "\n",
    "# new directory path\n",
    "new_directory = '/Users/levan/ATENEO MASTERAL/Thesis'\n",
    "\n",
    "# Change the current working directory\n",
    "os.chdir(new_directory)\n",
    "\n",
    "# Use creds to create a client to interact with the Google Drive API\n",
    "scope = ['https://spreadsheets.google.com/feeds','https://www.googleapis.com/auth/drive']\n",
    "creds = ServiceAccountCredentials.from_json_keyfile_name('thesis-432315-12daec8d1ff6.json', scope)\n",
    "\n",
    "service = build('sheets', 'v4', credentials=creds)\n",
    "\n",
    "client = gspread.authorize(creds)\n",
    "\n",
    "spreadsheet_id = '18Hi92aObP2ST7OrpVlsH8C8j0KS05a93sDRsMN0ZFPM' "
   ]
  },
  {
   "cell_type": "markdown",
   "id": "63d70bdb-0504-41ef-913d-e4b7f778f561",
   "metadata": {},
   "source": [
    "## Load Dataset"
   ]
  },
  {
   "cell_type": "code",
   "execution_count": 2,
   "id": "c7b193db-3f30-4e5f-a38b-c254bf1e1976",
   "metadata": {
    "execution": {
     "iopub.execute_input": "2024-08-27T09:26:08.898966Z",
     "iopub.status.busy": "2024-08-27T09:26:08.898854Z",
     "iopub.status.idle": "2024-08-27T09:26:10.532195Z",
     "shell.execute_reply": "2024-08-27T09:26:10.531940Z",
     "shell.execute_reply.started": "2024-08-27T09:26:08.898959Z"
    }
   },
   "outputs": [],
   "source": [
    "import pandas as pd\n",
    "import numpy as np\n",
    "from sklearn.model_selection import train_test_split\n",
    "from transformers import BertTokenizer, BertForSequenceClassification, AutoConfig\n",
    "from transformers import AutoTokenizer, AutoModelForSequenceClassification\n",
    "from torch.utils.data import DataLoader, TensorDataset\n",
    "import torch\n",
    "import torch.nn.functional as F\n",
    "from torch.optim import AdamW\n",
    "from sklearn.model_selection import StratifiedKFold\n",
    "\n",
    "from sklearn.linear_model import LogisticRegression\n",
    "from sklearn.tree import DecisionTreeClassifier\n",
    "from sklearn.naive_bayes import BernoulliNB\n",
    "from sklearn.naive_bayes import GaussianNB\n",
    "from sklearn.svm import LinearSVC\n",
    "from sklearn.svm import SVC\n",
    "\n",
    "from sklearn.metrics import accuracy_score, precision_score, recall_score, f1_score, confusion_matrix\n",
    "\n",
    "\n",
    "import os\n",
    "\n",
    "# new directory path\n",
    "new_directory = '/Users/levan/ATENEO MASTERAL/Thesis/Development'\n",
    "\n",
    "# Change the current working directory\n",
    "os.chdir(new_directory)\n",
    "\n",
    "# Adjust file paths to local system\n",
    "file_path = 'Corpus/data_b.csv'\n",
    "df = pd.read_csv(file_path)\n",
    "\n",
    "# Split the data\n",
    "train_df, test_df = train_test_split(df, test_size=0.3, random_state=42)"
   ]
  },
  {
   "cell_type": "markdown",
   "id": "a307e67b-00c3-47aa-8f83-34bc62c93f83",
   "metadata": {
    "execution": {
     "iopub.execute_input": "2024-04-11T10:08:58.783500Z",
     "iopub.status.busy": "2024-04-11T10:08:58.782872Z",
     "iopub.status.idle": "2024-04-11T10:08:58.788089Z",
     "shell.execute_reply": "2024-04-11T10:08:58.787147Z",
     "shell.execute_reply.started": "2024-04-11T10:08:58.783465Z"
    }
   },
   "source": [
    "## Load Models and Tokenizers"
   ]
  },
  {
   "cell_type": "code",
   "execution_count": 3,
   "id": "1e666f7e-9db0-4666-a112-2af127307162",
   "metadata": {
    "execution": {
     "iopub.execute_input": "2024-08-27T09:26:10.532607Z",
     "iopub.status.busy": "2024-08-27T09:26:10.532540Z",
     "iopub.status.idle": "2024-08-27T09:26:16.039680Z",
     "shell.execute_reply": "2024-08-27T09:26:16.039268Z",
     "shell.execute_reply.started": "2024-08-27T09:26:10.532600Z"
    }
   },
   "outputs": [],
   "source": [
    "def load_model_and_tokenizer(model_path, tokenizer_path, base_model):\n",
    "    # Load the tokenizer from the local directory\n",
    "    tokenizer = AutoTokenizer.from_pretrained(tokenizer_path)\n",
    "    \n",
    "    # Load the configuration from the base model, then update configuration if needed\n",
    "    config = AutoConfig.from_pretrained(base_model, num_labels=2)\n",
    "\n",
    "    # Initialize the model with the configuration\n",
    "    model = AutoModelForSequenceClassification.from_pretrained(model_path, config=config)\n",
    "\n",
    "    # Ensure the model is in evaluation mode\n",
    "    model.eval()\n",
    "    \n",
    "    return model, tokenizer\n",
    "\n",
    "model_info = {\n",
    "    \n",
    "    'HateBERT': {\n",
    "        'model_path': 'BERT models/hs_HateBERT-finetuned',\n",
    "        'tokenizer_path': 'BERT models/hs_HateBERT-finetuned',\n",
    "        'base_model': 'GroNLP/hateBERT'\n",
    "    },\n",
    "\n",
    "    'TagBERT': {\n",
    "        'model_path': 'BERT models/hs_Tag-Roberta-finetuned',\n",
    "        'tokenizer_path': 'BERT models/hs_Tag-Roberta-finetuned',\n",
    "        'base_model': 'jcblaise/roberta-tagalog-base'\n",
    "    },\n",
    "\n",
    "    'DeBERTa': {\n",
    "        'model_path': 'BERT models/hs_DeBERTa-finetuned',\n",
    "        'tokenizer_path': 'BERT models/hs_DeBERTa-finetuned',\n",
    "        'base_model': 'microsoft/deberta-v3-base'\n",
    "    },\n",
    "\n",
    "    'DistilBERT uncased': {\n",
    "        'model_path': 'BERT models/hs_distilbert-base-uncased-finetuned',\n",
    "        'tokenizer_path': 'BERT models/hs_distilbert-base-uncased-finetuned',\n",
    "        'base_model': 'distilbert/distilbert-base-uncased'\n",
    "    },\n",
    "    \n",
    "    'fBERT': {\n",
    "        'model_path': 'BERT models/hs_fBERT-finetuned',\n",
    "        'tokenizer_path': 'BERT models/hs_fBERT-finetuned',\n",
    "        'base_model': 'diptanu/fBERT'\n",
    "    },\n",
    "\n",
    "}\n",
    "\n",
    "\n",
    "models_and_tokenizers = {name: load_model_and_tokenizer(info['model_path'], \n",
    "                                                        info['tokenizer_path'], \n",
    "                                                        info['base_model']) \n",
    "                         for name, info in model_info.items()}"
   ]
  },
  {
   "cell_type": "markdown",
   "id": "a1a9b906-a837-4de8-b8a2-05aa44074c5c",
   "metadata": {},
   "source": [
    "## Apply Tokenization"
   ]
  },
  {
   "cell_type": "code",
   "execution_count": 4,
   "id": "be4981ce-3268-449d-9cb4-6ba780177756",
   "metadata": {
    "execution": {
     "iopub.execute_input": "2024-08-27T09:26:16.040370Z",
     "iopub.status.busy": "2024-08-27T09:26:16.040245Z",
     "iopub.status.idle": "2024-08-27T09:26:16.042418Z",
     "shell.execute_reply": "2024-08-27T09:26:16.042181Z",
     "shell.execute_reply.started": "2024-08-27T09:26:16.040363Z"
    }
   },
   "outputs": [],
   "source": [
    "def texts_to_dataloader(texts, tokenizer, batch_size=32):\n",
    "    device = torch.device(\"mps\" if torch.backends.mps.is_available() else \"cpu\")\n",
    "    encodings = tokenizer(texts, truncation=True, padding=True, max_length=512, return_tensors=\"pt\")\n",
    "    dataset = TensorDataset(encodings['input_ids'], encodings['attention_mask'])\n",
    "    dataloader = DataLoader(dataset, batch_size=batch_size)\n",
    "    return dataloader"
   ]
  },
  {
   "cell_type": "markdown",
   "id": "8d574483-f790-48ba-a7d0-07cc8f2973d4",
   "metadata": {},
   "source": [
    "## Perform Stacking"
   ]
  },
  {
   "cell_type": "code",
   "execution_count": 5,
   "id": "a75d7443-3e76-4be6-a329-0057da6af043",
   "metadata": {
    "execution": {
     "iopub.execute_input": "2024-08-27T09:26:16.042883Z",
     "iopub.status.busy": "2024-08-27T09:26:16.042805Z",
     "iopub.status.idle": "2024-08-27T09:26:16.046083Z",
     "shell.execute_reply": "2024-08-27T09:26:16.045892Z",
     "shell.execute_reply.started": "2024-08-27T09:26:16.042876Z"
    }
   },
   "outputs": [],
   "source": [
    "%load_ext memory_profiler"
   ]
  },
  {
   "cell_type": "code",
   "execution_count": 6,
   "id": "89d13637-7546-4338-8e57-cde7377a7c97",
   "metadata": {
    "execution": {
     "iopub.execute_input": "2024-08-27T09:26:16.047721Z",
     "iopub.status.busy": "2024-08-27T09:26:16.047635Z",
     "iopub.status.idle": "2024-08-27T09:28:22.758004Z",
     "shell.execute_reply": "2024-08-27T09:28:22.757695Z",
     "shell.execute_reply.started": "2024-08-27T09:26:16.047714Z"
    }
   },
   "outputs": [
    {
     "name": "stdout",
     "output_type": "stream",
     "text": [
      "Processing fold: train_index=[   0    1    2 ... 5812 5813 5815], val_index=[   3    4    5 ... 5800 5802 5814]\n",
      "Using model: HateBERT for validation fold\n",
      "Generating meta-features for model\n",
      "Meta-features generated\n",
      "Using model: TagBERT for validation fold\n",
      "Generating meta-features for model\n",
      "Meta-features generated\n",
      "Using model: DeBERTa for validation fold\n",
      "Generating meta-features for model\n",
      "Meta-features generated\n",
      "Using model: DistilBERT uncased for validation fold\n",
      "Generating meta-features for model\n",
      "Meta-features generated\n",
      "Using model: fBERT for validation fold\n",
      "Generating meta-features for model\n",
      "Meta-features generated\n",
      "Stacked fold meta-features\n",
      "Processing fold: train_index=[   0    2    3 ... 5812 5813 5814], val_index=[   1    6   24 ... 5810 5811 5815]\n",
      "Using model: HateBERT for validation fold\n",
      "Generating meta-features for model\n",
      "Meta-features generated\n",
      "Using model: TagBERT for validation fold\n",
      "Generating meta-features for model\n",
      "Meta-features generated\n",
      "Using model: DeBERTa for validation fold\n",
      "Generating meta-features for model\n",
      "Meta-features generated\n",
      "Using model: DistilBERT uncased for validation fold\n",
      "Generating meta-features for model\n",
      "Meta-features generated\n",
      "Using model: fBERT for validation fold\n",
      "Generating meta-features for model\n",
      "Meta-features generated\n",
      "Stacked fold meta-features\n",
      "Processing fold: train_index=[   1    3    4 ... 5813 5814 5815], val_index=[   0    2    8 ... 5804 5808 5812]\n",
      "Using model: HateBERT for validation fold\n",
      "Generating meta-features for model\n",
      "Meta-features generated\n",
      "Using model: TagBERT for validation fold\n",
      "Generating meta-features for model\n",
      "Meta-features generated\n",
      "Using model: DeBERTa for validation fold\n",
      "Generating meta-features for model\n",
      "Meta-features generated\n",
      "Using model: DistilBERT uncased for validation fold\n",
      "Generating meta-features for model\n",
      "Meta-features generated\n",
      "Using model: fBERT for validation fold\n",
      "Generating meta-features for model\n",
      "Meta-features generated\n",
      "Stacked fold meta-features\n",
      "Processing fold: train_index=[   0    1    2 ... 5812 5814 5815], val_index=[  13   14   16 ... 5805 5807 5813]\n",
      "Using model: HateBERT for validation fold\n",
      "Generating meta-features for model\n",
      "Meta-features generated\n",
      "Using model: TagBERT for validation fold\n",
      "Generating meta-features for model\n",
      "Meta-features generated\n",
      "Using model: DeBERTa for validation fold\n",
      "Generating meta-features for model\n",
      "Meta-features generated\n",
      "Using model: DistilBERT uncased for validation fold\n",
      "Generating meta-features for model\n",
      "Meta-features generated\n",
      "Using model: fBERT for validation fold\n",
      "Generating meta-features for model\n",
      "Meta-features generated\n",
      "Stacked fold meta-features\n",
      "Generating test meta-features using model: HateBERT\n",
      "Generating meta-features for model\n",
      "Meta-features generated\n",
      "Generating test meta-features using model: TagBERT\n",
      "Generating meta-features for model\n",
      "Meta-features generated\n",
      "Generating test meta-features using model: DeBERTa\n",
      "Generating meta-features for model\n",
      "Meta-features generated\n",
      "Generating test meta-features using model: DistilBERT uncased\n",
      "Generating meta-features for model\n",
      "Meta-features generated\n",
      "Generating test meta-features using model: fBERT\n",
      "Generating meta-features for model\n",
      "Meta-features generated\n",
      "Final train meta-features shape: (5816, 10)\n",
      "Final test meta-features shape: (2493, 10)\n",
      "peak memory: 2124.16 MiB, increment: 0.75 MiB\n"
     ]
    }
   ],
   "source": [
    "%%memit\n",
    "\n",
    "def get_meta_features(model, tokenizer, df, device):\n",
    "    model.to(device)\n",
    "    model.eval()\n",
    "    print(f\"Generating meta-features for model\")\n",
    "    dataloader = texts_to_dataloader(df['text'].tolist(), tokenizer, batch_size=32)\n",
    "    meta_features = []\n",
    "    with torch.no_grad():\n",
    "        for input_ids, attention_mask in dataloader:\n",
    "            input_ids = input_ids.to(device)\n",
    "            attention_mask = attention_mask.to(device)\n",
    "            outputs = model(input_ids=input_ids, attention_mask=attention_mask)\n",
    "            probs = torch.nn.functional.softmax(outputs.logits, dim=1)\n",
    "            meta_features.append(probs.cpu().numpy())\n",
    "    print(f\"Meta-features generated\")\n",
    "    return np.concatenate(meta_features)\n",
    "\n",
    "device = torch.device(\"mps\" if torch.backends.mps.is_available() else \"cpu\")\n",
    "\n",
    "# Cross-validation setup\n",
    "skf = StratifiedKFold(n_splits=4, shuffle=True, random_state=42)\n",
    "train_meta_features_list = []\n",
    "test_meta_features_list = []\n",
    "\n",
    "# Generate meta-features for each fold\n",
    "for train_index, val_index in skf.split(train_df['text'], train_df['label']):\n",
    "    X_train_fold, X_val_fold = train_df.iloc[train_index], train_df.iloc[val_index]\n",
    "    y_train_fold, y_val_fold = train_df['label'].iloc[train_index], train_df['label'].iloc[val_index]\n",
    "    print(f\"Processing fold: train_index={train_index}, val_index={val_index}\")\n",
    "\n",
    "    fold_meta_features_list = []\n",
    "    for name, (model, tokenizer) in models_and_tokenizers.items():\n",
    "        print(f\"Using model: {name} for validation fold\")\n",
    "        fold_meta_features = get_meta_features(model, tokenizer, X_val_fold, device)\n",
    "        fold_meta_features_list.append(fold_meta_features)\n",
    "    \n",
    "    train_meta_features_list.append(np.hstack(fold_meta_features_list))\n",
    "    print(\"Stacked fold meta-features\")\n",
    "\n",
    "# Generate meta-features from the test set by training on the entire training set\n",
    "for name, (model, tokenizer) in models_and_tokenizers.items():\n",
    "    print(f\"Generating test meta-features using model: {name}\")\n",
    "    test_meta_features = get_meta_features(model, tokenizer, test_df, device)\n",
    "    test_meta_features_list.append(test_meta_features)\n",
    "\n",
    "# Stack meta-features horizontally\n",
    "train_meta_features = np.vstack(train_meta_features_list)\n",
    "test_meta_features = np.hstack(test_meta_features_list)\n",
    "print(\"Final train meta-features shape:\", train_meta_features.shape)\n",
    "print(\"Final test meta-features shape:\", test_meta_features.shape)"
   ]
  },
  {
   "cell_type": "markdown",
   "id": "3f4add97-1099-4447-aa88-e4cfbff99e10",
   "metadata": {},
   "source": [
    "### Train LR"
   ]
  },
  {
   "cell_type": "code",
   "execution_count": 7,
   "id": "66cb131a-a14d-4bf5-9508-59951ea5deb1",
   "metadata": {
    "execution": {
     "iopub.execute_input": "2024-08-27T09:28:22.758543Z",
     "iopub.status.busy": "2024-08-27T09:28:22.758470Z",
     "iopub.status.idle": "2024-08-27T09:28:24.312277Z",
     "shell.execute_reply": "2024-08-27T09:28:24.302375Z",
     "shell.execute_reply.started": "2024-08-27T09:28:22.758536Z"
    }
   },
   "outputs": [
    {
     "name": "stderr",
     "output_type": "stream",
     "text": [
      "huggingface/tokenizers: The current process just got forked, after parallelism has already been used. Disabling parallelism to avoid deadlocks...\n",
      "To disable this warning, you can either:\n",
      "\t- Avoid using `tokenizers` before the fork if possible\n",
      "\t- Explicitly set the environment variable TOKENIZERS_PARALLELISM=(true | false)\n",
      "huggingface/tokenizers: The current process just got forked, after parallelism has already been used. Disabling parallelism to avoid deadlocks...\n",
      "To disable this warning, you can either:\n",
      "\t- Avoid using `tokenizers` before the fork if possible\n",
      "\t- Explicitly set the environment variable TOKENIZERS_PARALLELISM=(true | false)\n",
      "huggingface/tokenizers: The current process just got forked, after parallelism has already been used. Disabling parallelism to avoid deadlocks...\n",
      "To disable this warning, you can either:\n",
      "\t- Avoid using `tokenizers` before the fork if possible\n",
      "\t- Explicitly set the environment variable TOKENIZERS_PARALLELISM=(true | false)\n",
      "huggingface/tokenizers: The current process just got forked, after parallelism has already been used. Disabling parallelism to avoid deadlocks...\n",
      "To disable this warning, you can either:\n",
      "\t- Avoid using `tokenizers` before the fork if possible\n",
      "\t- Explicitly set the environment variable TOKENIZERS_PARALLELISM=(true | false)\n",
      "huggingface/tokenizers: The current process just got forked, after parallelism has already been used. Disabling parallelism to avoid deadlocks...\n",
      "To disable this warning, you can either:\n",
      "\t- Avoid using `tokenizers` before the fork if possible\n",
      "\t- Explicitly set the environment variable TOKENIZERS_PARALLELISM=(true | false)\n",
      "huggingface/tokenizers: The current process just got forked, after parallelism has already been used. Disabling parallelism to avoid deadlocks...\n",
      "To disable this warning, you can either:\n",
      "\t- Avoid using `tokenizers` before the fork if possible\n",
      "\t- Explicitly set the environment variable TOKENIZERS_PARALLELISM=(true | false)\n",
      "huggingface/tokenizers: The current process just got forked, after parallelism has already been used. Disabling parallelism to avoid deadlocks...\n",
      "To disable this warning, you can either:\n",
      "\t- Avoid using `tokenizers` before the fork if possible\n",
      "\t- Explicitly set the environment variable TOKENIZERS_PARALLELISM=(true | false)\n"
     ]
    },
    {
     "name": "stdout",
     "output_type": "stream",
     "text": [
      "peak memory: 1389.53 MiB, increment: 0.05 MiB\n"
     ]
    }
   ],
   "source": [
    "%memit\n",
    "# Train the LR meta-classifier\n",
    "lr_meta_classifier = LogisticRegression()\n",
    "lr_meta_classifier.fit(train_meta_features, train_df['label'].values)\n",
    "\n",
    "lr_final_predictions = lr_meta_classifier.predict(test_meta_features)"
   ]
  },
  {
   "cell_type": "markdown",
   "id": "4aa369d0-24ed-448a-be71-a88956188cb5",
   "metadata": {},
   "source": [
    "### Train NB"
   ]
  },
  {
   "cell_type": "code",
   "execution_count": 8,
   "id": "3ba1d864-f4eb-426a-92fb-5a88061d87c5",
   "metadata": {
    "execution": {
     "iopub.execute_input": "2024-08-27T09:28:24.318516Z",
     "iopub.status.busy": "2024-08-27T09:28:24.314591Z",
     "iopub.status.idle": "2024-08-27T09:28:25.703489Z",
     "shell.execute_reply": "2024-08-27T09:28:25.703100Z",
     "shell.execute_reply.started": "2024-08-27T09:28:24.318472Z"
    }
   },
   "outputs": [
    {
     "name": "stderr",
     "output_type": "stream",
     "text": [
      "huggingface/tokenizers: The current process just got forked, after parallelism has already been used. Disabling parallelism to avoid deadlocks...\n",
      "To disable this warning, you can either:\n",
      "\t- Avoid using `tokenizers` before the fork if possible\n",
      "\t- Explicitly set the environment variable TOKENIZERS_PARALLELISM=(true | false)\n",
      "huggingface/tokenizers: The current process just got forked, after parallelism has already been used. Disabling parallelism to avoid deadlocks...\n",
      "To disable this warning, you can either:\n",
      "\t- Avoid using `tokenizers` before the fork if possible\n",
      "\t- Explicitly set the environment variable TOKENIZERS_PARALLELISM=(true | false)\n",
      "huggingface/tokenizers: The current process just got forked, after parallelism has already been used. Disabling parallelism to avoid deadlocks...\n",
      "To disable this warning, you can either:\n",
      "\t- Avoid using `tokenizers` before the fork if possible\n",
      "\t- Explicitly set the environment variable TOKENIZERS_PARALLELISM=(true | false)\n",
      "huggingface/tokenizers: The current process just got forked, after parallelism has already been used. Disabling parallelism to avoid deadlocks...\n",
      "To disable this warning, you can either:\n",
      "\t- Avoid using `tokenizers` before the fork if possible\n",
      "\t- Explicitly set the environment variable TOKENIZERS_PARALLELISM=(true | false)\n",
      "huggingface/tokenizers: The current process just got forked, after parallelism has already been used. Disabling parallelism to avoid deadlocks...\n",
      "To disable this warning, you can either:\n",
      "\t- Avoid using `tokenizers` before the fork if possible\n",
      "\t- Explicitly set the environment variable TOKENIZERS_PARALLELISM=(true | false)\n",
      "huggingface/tokenizers: The current process just got forked, after parallelism has already been used. Disabling parallelism to avoid deadlocks...\n",
      "To disable this warning, you can either:\n",
      "\t- Avoid using `tokenizers` before the fork if possible\n",
      "\t- Explicitly set the environment variable TOKENIZERS_PARALLELISM=(true | false)\n",
      "huggingface/tokenizers: The current process just got forked, after parallelism has already been used. Disabling parallelism to avoid deadlocks...\n",
      "To disable this warning, you can either:\n",
      "\t- Avoid using `tokenizers` before the fork if possible\n",
      "\t- Explicitly set the environment variable TOKENIZERS_PARALLELISM=(true | false)\n"
     ]
    },
    {
     "name": "stdout",
     "output_type": "stream",
     "text": [
      "peak memory: 1390.64 MiB, increment: -0.20 MiB\n"
     ]
    }
   ],
   "source": [
    "%memit\n",
    "# Train the NB meta-classifier\n",
    "nb_meta_classifier = GaussianNB()\n",
    "nb_meta_classifier.fit(train_meta_features, train_df['label'].values)\n",
    "\n",
    "nb_final_predictions = nb_meta_classifier.predict(test_meta_features)"
   ]
  },
  {
   "cell_type": "markdown",
   "id": "8027b313-ee9e-4799-8b8c-01280f99815c",
   "metadata": {},
   "source": [
    "### Train DT"
   ]
  },
  {
   "cell_type": "code",
   "execution_count": 9,
   "id": "301edb53-18a6-41bc-ab03-f1c714a4ae0b",
   "metadata": {
    "execution": {
     "iopub.execute_input": "2024-08-27T09:28:25.704150Z",
     "iopub.status.busy": "2024-08-27T09:28:25.704066Z",
     "iopub.status.idle": "2024-08-27T09:28:27.195536Z",
     "shell.execute_reply": "2024-08-27T09:28:27.195200Z",
     "shell.execute_reply.started": "2024-08-27T09:28:25.704140Z"
    }
   },
   "outputs": [
    {
     "name": "stderr",
     "output_type": "stream",
     "text": [
      "huggingface/tokenizers: The current process just got forked, after parallelism has already been used. Disabling parallelism to avoid deadlocks...\n",
      "To disable this warning, you can either:\n",
      "\t- Avoid using `tokenizers` before the fork if possible\n",
      "\t- Explicitly set the environment variable TOKENIZERS_PARALLELISM=(true | false)\n",
      "huggingface/tokenizers: The current process just got forked, after parallelism has already been used. Disabling parallelism to avoid deadlocks...\n",
      "To disable this warning, you can either:\n",
      "\t- Avoid using `tokenizers` before the fork if possible\n",
      "\t- Explicitly set the environment variable TOKENIZERS_PARALLELISM=(true | false)\n",
      "huggingface/tokenizers: The current process just got forked, after parallelism has already been used. Disabling parallelism to avoid deadlocks...\n",
      "To disable this warning, you can either:\n",
      "\t- Avoid using `tokenizers` before the fork if possible\n",
      "\t- Explicitly set the environment variable TOKENIZERS_PARALLELISM=(true | false)\n",
      "huggingface/tokenizers: The current process just got forked, after parallelism has already been used. Disabling parallelism to avoid deadlocks...\n",
      "To disable this warning, you can either:\n",
      "\t- Avoid using `tokenizers` before the fork if possible\n",
      "\t- Explicitly set the environment variable TOKENIZERS_PARALLELISM=(true | false)\n",
      "huggingface/tokenizers: The current process just got forked, after parallelism has already been used. Disabling parallelism to avoid deadlocks...\n",
      "To disable this warning, you can either:\n",
      "\t- Avoid using `tokenizers` before the fork if possible\n",
      "\t- Explicitly set the environment variable TOKENIZERS_PARALLELISM=(true | false)\n",
      "huggingface/tokenizers: The current process just got forked, after parallelism has already been used. Disabling parallelism to avoid deadlocks...\n",
      "To disable this warning, you can either:\n",
      "\t- Avoid using `tokenizers` before the fork if possible\n",
      "\t- Explicitly set the environment variable TOKENIZERS_PARALLELISM=(true | false)\n",
      "huggingface/tokenizers: The current process just got forked, after parallelism has already been used. Disabling parallelism to avoid deadlocks...\n",
      "To disable this warning, you can either:\n",
      "\t- Avoid using `tokenizers` before the fork if possible\n",
      "\t- Explicitly set the environment variable TOKENIZERS_PARALLELISM=(true | false)\n"
     ]
    },
    {
     "name": "stdout",
     "output_type": "stream",
     "text": [
      "peak memory: 1390.66 MiB, increment: 0.00 MiB\n"
     ]
    }
   ],
   "source": [
    "%memit\n",
    "# Train the DT meta-classifier\n",
    "dt_meta_classifier = DecisionTreeClassifier(max_depth=None)  \n",
    "dt_meta_classifier.fit(train_meta_features, train_df['label'].values)\n",
    "\n",
    "dt_final_predictions = dt_meta_classifier.predict(test_meta_features)"
   ]
  },
  {
   "cell_type": "markdown",
   "id": "da9904b9-f678-4a2a-b8a5-6e4af9d5b8e1",
   "metadata": {},
   "source": [
    "### Train SVM"
   ]
  },
  {
   "cell_type": "code",
   "execution_count": 10,
   "id": "87e4db68-5d39-4459-8e47-b1ed2033f743",
   "metadata": {
    "execution": {
     "iopub.execute_input": "2024-08-27T09:28:27.196111Z",
     "iopub.status.busy": "2024-08-27T09:28:27.196035Z",
     "iopub.status.idle": "2024-08-27T09:28:30.191274Z",
     "shell.execute_reply": "2024-08-27T09:28:30.190778Z",
     "shell.execute_reply.started": "2024-08-27T09:28:27.196102Z"
    }
   },
   "outputs": [
    {
     "name": "stderr",
     "output_type": "stream",
     "text": [
      "huggingface/tokenizers: The current process just got forked, after parallelism has already been used. Disabling parallelism to avoid deadlocks...\n",
      "To disable this warning, you can either:\n",
      "\t- Avoid using `tokenizers` before the fork if possible\n",
      "\t- Explicitly set the environment variable TOKENIZERS_PARALLELISM=(true | false)\n",
      "huggingface/tokenizers: The current process just got forked, after parallelism has already been used. Disabling parallelism to avoid deadlocks...\n",
      "To disable this warning, you can either:\n",
      "\t- Avoid using `tokenizers` before the fork if possible\n",
      "\t- Explicitly set the environment variable TOKENIZERS_PARALLELISM=(true | false)\n",
      "huggingface/tokenizers: The current process just got forked, after parallelism has already been used. Disabling parallelism to avoid deadlocks...\n",
      "To disable this warning, you can either:\n",
      "\t- Avoid using `tokenizers` before the fork if possible\n",
      "\t- Explicitly set the environment variable TOKENIZERS_PARALLELISM=(true | false)\n",
      "huggingface/tokenizers: The current process just got forked, after parallelism has already been used. Disabling parallelism to avoid deadlocks...\n",
      "To disable this warning, you can either:\n",
      "\t- Avoid using `tokenizers` before the fork if possible\n",
      "\t- Explicitly set the environment variable TOKENIZERS_PARALLELISM=(true | false)\n",
      "huggingface/tokenizers: The current process just got forked, after parallelism has already been used. Disabling parallelism to avoid deadlocks...\n",
      "To disable this warning, you can either:\n",
      "\t- Avoid using `tokenizers` before the fork if possible\n",
      "\t- Explicitly set the environment variable TOKENIZERS_PARALLELISM=(true | false)\n",
      "huggingface/tokenizers: The current process just got forked, after parallelism has already been used. Disabling parallelism to avoid deadlocks...\n",
      "To disable this warning, you can either:\n",
      "\t- Avoid using `tokenizers` before the fork if possible\n",
      "\t- Explicitly set the environment variable TOKENIZERS_PARALLELISM=(true | false)\n",
      "huggingface/tokenizers: The current process just got forked, after parallelism has already been used. Disabling parallelism to avoid deadlocks...\n",
      "To disable this warning, you can either:\n",
      "\t- Avoid using `tokenizers` before the fork if possible\n",
      "\t- Explicitly set the environment variable TOKENIZERS_PARALLELISM=(true | false)\n"
     ]
    },
    {
     "name": "stdout",
     "output_type": "stream",
     "text": [
      "peak memory: 1390.95 MiB, increment: 0.00 MiB\n"
     ]
    }
   ],
   "source": [
    "%memit\n",
    "# Train the SVM meta-classifier\n",
    "svm_meta_classifier = SVC(kernel='linear', probability=True)\n",
    "svm_meta_classifier.fit(train_meta_features, train_df['label'].values)\n",
    "\n",
    "svm_final_predictions = svm_meta_classifier.predict(test_meta_features)"
   ]
  },
  {
   "cell_type": "markdown",
   "id": "a902e13a-e9ad-4e5c-8bde-97119c5ebc88",
   "metadata": {},
   "source": [
    "## Evaluate Models"
   ]
  },
  {
   "cell_type": "markdown",
   "id": "6f1dd5cf-d1fd-4837-80b6-01641a4a4823",
   "metadata": {},
   "source": [
    "### LR"
   ]
  },
  {
   "cell_type": "code",
   "execution_count": 11,
   "id": "20019879-4510-487b-b378-92b49756d548",
   "metadata": {
    "execution": {
     "iopub.execute_input": "2024-08-27T09:28:30.191932Z",
     "iopub.status.busy": "2024-08-27T09:28:30.191842Z",
     "iopub.status.idle": "2024-08-27T09:28:30.198114Z",
     "shell.execute_reply": "2024-08-27T09:28:30.197893Z",
     "shell.execute_reply.started": "2024-08-27T09:28:30.191925Z"
    },
    "scrolled": true
   },
   "outputs": [
    {
     "name": "stdout",
     "output_type": "stream",
     "text": [
      "Logistic Regression\n",
      "Precision: 0.3\n",
      "Recall: 0.007874015748031496\n",
      "Ensemble accuracy: 0.5367027677496992\n",
      "F1 Score: 0.015345268542199489\n",
      "Confusion Matrix:\n",
      "[[1329   21]\n",
      " [1134    9]]\n"
     ]
    }
   ],
   "source": [
    "# Evaluate\n",
    "precision = precision_score(test_df['label'].values, lr_final_predictions, average='binary')\n",
    "recall = recall_score(test_df['label'].values, lr_final_predictions, average='binary')\n",
    "accuracy = accuracy_score(test_df['label'].values, lr_final_predictions)\n",
    "f1 = f1_score(test_df['label'].values, lr_final_predictions, average='binary')\n",
    "conf_matrix = confusion_matrix(test_df['label'].values, lr_final_predictions)\n",
    "\n",
    "print(\"Logistic Regression\")\n",
    "print(f\"Precision: {precision}\")\n",
    "print(f\"Recall: {recall}\")\n",
    "print(f\"Ensemble accuracy: {accuracy}\")\n",
    "print(f\"F1 Score: {f1}\")\n",
    "print(\"Confusion Matrix:\")\n",
    "print(conf_matrix)\n"
   ]
  },
  {
   "cell_type": "code",
   "execution_count": 12,
   "id": "84961822-cbf5-45f7-8f4c-3e4a1c191394",
   "metadata": {
    "execution": {
     "iopub.execute_input": "2024-08-27T09:28:30.198547Z",
     "iopub.status.busy": "2024-08-27T09:28:30.198484Z",
     "iopub.status.idle": "2024-08-27T09:28:30.473878Z",
     "shell.execute_reply": "2024-08-27T09:28:30.473616Z",
     "shell.execute_reply.started": "2024-08-27T09:28:30.198541Z"
    }
   },
   "outputs": [
    {
     "data": {
      "image/png": "[encoded data removed]",
      "text/plain": [
       "<Figure size 640x480 with 1 Axes>"
      ]
     },
     "metadata": {},
     "output_type": "display_data"
    }
   ],
   "source": [
    "# Get probability scores for the positive class\n",
    "lr_prob_scores = lr_meta_classifier.predict_proba(test_meta_features)[:, 1]\n",
    "\n",
    "import matplotlib.pyplot as plt\n",
    "\n",
    "# Plot the distribution of predicted probabilities\n",
    "plt.hist(lr_prob_scores, bins=50, alpha=0.75)\n",
    "plt.title('Distribution of Predicted Probabilities (LR)')\n",
    "plt.xlabel('Probability of Positive Class')\n",
    "plt.ylabel('Frequency')\n",
    "plt.show()\n"
   ]
  },
  {
   "cell_type": "code",
   "execution_count": 13,
   "id": "56a05e9b-f28f-4f01-98b7-c62f675d5046",
   "metadata": {
    "execution": {
     "iopub.execute_input": "2024-08-27T09:28:30.474341Z",
     "iopub.status.busy": "2024-08-27T09:28:30.474271Z",
     "iopub.status.idle": "2024-08-27T09:28:30.556226Z",
     "shell.execute_reply": "2024-08-27T09:28:30.555950Z",
     "shell.execute_reply.started": "2024-08-27T09:28:30.474334Z"
    }
   },
   "outputs": [
    {
     "name": "stdout",
     "output_type": "stream",
     "text": [
      "Adjusted threshold: 0.01\n",
      "Optimized Logistic Regression\n",
      "Precision: 0.4584837545126354\n",
      "Recall: 1.0\n",
      "Accuracy: 0.4584837545126354\n",
      "F1 Score: 0.6287128712871287\n",
      "Confusion Matrix:\n",
      "[[   0 1350]\n",
      " [   0 1143]]\n"
     ]
    }
   ],
   "source": [
    "# Determine a new threshold\n",
    "thresholds = np.linspace(0.01, 0.99, 99)\n",
    "scores = [f1_score(test_df['label'], lr_prob_scores >= t, average='binary') for t in thresholds]\n",
    "best_thresh = thresholds[np.argmax(scores)]\n",
    "\n",
    "# Apply the new threshold\n",
    "adjusted_predictions = (lr_prob_scores >= best_thresh).astype(int)\n",
    "\n",
    "# Evaluate with the new threshold\n",
    "adjusted_precision = precision_score(test_df['label'], adjusted_predictions, average='binary')\n",
    "adjusted_recall = recall_score(test_df['label'], adjusted_predictions, average='binary')\n",
    "adjusted_accuracy = accuracy_score(test_df['label'], adjusted_predictions)\n",
    "adjusted_f1 = f1_score(test_df['label'], adjusted_predictions, average='binary')\n",
    "adjusted_conf_matrix = confusion_matrix(test_df['label'], adjusted_predictions)\n",
    "\n",
    "print(f\"Adjusted threshold: {best_thresh}\")\n",
    "print(\"Optimized Logistic Regression\")\n",
    "print(f\"Precision: {adjusted_precision}\")\n",
    "print(f\"Recall: {adjusted_recall}\")\n",
    "print(f\"Accuracy: {adjusted_accuracy}\")\n",
    "print(f\"F1 Score: {adjusted_f1}\")\n",
    "print(\"Confusion Matrix:\")\n",
    "print(adjusted_conf_matrix)\n",
    "\n",
    "lr_thresh = best_thresh"
   ]
  },
  {
   "cell_type": "code",
   "execution_count": 14,
   "id": "d7463088-74c0-4537-ad39-4ba3435e4428",
   "metadata": {
    "execution": {
     "iopub.execute_input": "2024-08-27T09:28:30.556767Z",
     "iopub.status.busy": "2024-08-27T09:28:30.556692Z",
     "iopub.status.idle": "2024-08-27T09:28:31.425676Z",
     "shell.execute_reply": "2024-08-27T09:28:31.423663Z",
     "shell.execute_reply.started": "2024-08-27T09:28:30.556760Z"
    }
   },
   "outputs": [
    {
     "name": "stdout",
     "output_type": "stream",
     "text": [
      "Updated cells count: 4\n"
     ]
    }
   ],
   "source": [
    "# SAVE TO GOOGLE SHEET\n",
    "\n",
    "# Define the range and values to update\n",
    "range_name = '5-3!B4:E4'  \n",
    "\n",
    "values = [[\n",
    "    f\"{adjusted_precision * 100:.2f}\",\n",
    "    f\"{adjusted_recall * 100:.2f}\",\n",
    "    f\"{adjusted_accuracy * 100:.2f}\",\n",
    "    f\"{adjusted_f1 * 100:.2f}\"\n",
    "]]\n",
    "\n",
    "# Prepare the request body\n",
    "body = {\n",
    "    'values': values\n",
    "}\n",
    "\n",
    "# Call the Sheets API to update the values\n",
    "result = service.spreadsheets().values().update(\n",
    "    spreadsheetId=spreadsheet_id, \n",
    "    range=range_name,\n",
    "    valueInputOption='USER_ENTERED',\n",
    "    body=body\n",
    ").execute()\n",
    "\n",
    "print('Updated cells count:', result.get('updatedCells'))"
   ]
  },
  {
   "cell_type": "markdown",
   "id": "f8803f8a-f44a-40f3-bed3-6a137f6a8ced",
   "metadata": {},
   "source": [
    "### NB"
   ]
  },
  {
   "cell_type": "code",
   "execution_count": 15,
   "id": "6f816faf-f1a2-4474-9e56-7cb303b3611f",
   "metadata": {
    "execution": {
     "iopub.execute_input": "2024-08-27T09:28:31.428149Z",
     "iopub.status.busy": "2024-08-27T09:28:31.427640Z",
     "iopub.status.idle": "2024-08-27T09:28:31.449083Z",
     "shell.execute_reply": "2024-08-27T09:28:31.447927Z",
     "shell.execute_reply.started": "2024-08-27T09:28:31.428116Z"
    }
   },
   "outputs": [
    {
     "name": "stdout",
     "output_type": "stream",
     "text": [
      "Naive Bayes\n",
      "Precision: 0.08998875140607424\n",
      "Recall: 0.0699912510936133\n",
      "Ensemble accuracy: 0.2490974729241877\n",
      "F1 Score: 0.07874015748031496\n",
      "Confusion Matrix:\n",
      "[[ 541  809]\n",
      " [1063   80]]\n"
     ]
    }
   ],
   "source": [
    "# Evaluate\n",
    "precision = precision_score(test_df['label'].values, nb_final_predictions, average='binary')\n",
    "recall = recall_score(test_df['label'].values, nb_final_predictions, average='binary')\n",
    "accuracy = accuracy_score(test_df['label'].values, nb_final_predictions)\n",
    "f1 = f1_score(test_df['label'].values, nb_final_predictions, average='binary')\n",
    "conf_matrix = confusion_matrix(test_df['label'].values, nb_final_predictions)\n",
    "\n",
    "print(\"Naive Bayes\")\n",
    "print(f\"Precision: {precision}\")\n",
    "print(f\"Recall: {recall}\")\n",
    "print(f\"Ensemble accuracy: {accuracy}\")\n",
    "print(f\"F1 Score: {f1}\")\n",
    "print(\"Confusion Matrix:\")\n",
    "print(conf_matrix)"
   ]
  },
  {
   "cell_type": "code",
   "execution_count": 16,
   "id": "317c122d-0a36-45da-9bfc-32fbff02e41c",
   "metadata": {
    "execution": {
     "iopub.execute_input": "2024-08-27T09:28:31.450640Z",
     "iopub.status.busy": "2024-08-27T09:28:31.450300Z",
     "iopub.status.idle": "2024-08-27T09:28:31.528275Z",
     "shell.execute_reply": "2024-08-27T09:28:31.527968Z",
     "shell.execute_reply.started": "2024-08-27T09:28:31.450612Z"
    }
   },
   "outputs": [
    {
     "data": {
      "image/png": "[encoded data removed]",
      "text/plain": [
       "<Figure size 640x480 with 1 Axes>"
      ]
     },
     "metadata": {},
     "output_type": "display_data"
    }
   ],
   "source": [
    "# Get probability scores for the positive class\n",
    "nb_prob_scores = nb_meta_classifier.predict_proba(test_meta_features)[:, 1]\n",
    "\n",
    "import matplotlib.pyplot as plt\n",
    "\n",
    "# Plot the distribution of predicted probabilities\n",
    "plt.hist(nb_prob_scores, bins=50, alpha=0.75)\n",
    "plt.title('Distribution of Predicted Probabilities (NB)')\n",
    "plt.xlabel('Probability of Positive Class')\n",
    "plt.ylabel('Frequency')\n",
    "plt.show()\n"
   ]
  },
  {
   "cell_type": "code",
   "execution_count": 17,
   "id": "15a13b96-08a3-4330-a37a-bf26f5927058",
   "metadata": {
    "execution": {
     "iopub.execute_input": "2024-08-27T09:28:31.528888Z",
     "iopub.status.busy": "2024-08-27T09:28:31.528792Z",
     "iopub.status.idle": "2024-08-27T09:28:31.612118Z",
     "shell.execute_reply": "2024-08-27T09:28:31.611843Z",
     "shell.execute_reply.started": "2024-08-27T09:28:31.528881Z"
    }
   },
   "outputs": [
    {
     "name": "stdout",
     "output_type": "stream",
     "text": [
      "Adjusted threshold: 0.01\n",
      "Optimized Naive Bayes\n",
      "Precision: 0.4584837545126354\n",
      "Recall: 1.0\n",
      "Accuracy: 0.4584837545126354\n",
      "F1 Score: 0.6287128712871287\n",
      "Confusion Matrix:\n",
      "[[   0 1350]\n",
      " [   0 1143]]\n"
     ]
    }
   ],
   "source": [
    "# Determine a new threshold\n",
    "thresholds = np.linspace(0.01, 0.99, 99)\n",
    "scores = [f1_score(test_df['label'], nb_prob_scores >= t, average='binary') for t in thresholds]\n",
    "best_thresh = thresholds[np.argmax(scores)]\n",
    "\n",
    "# Apply the new threshold\n",
    "adjusted_predictions = (nb_prob_scores >= best_thresh).astype(int)\n",
    "\n",
    "# Evaluate with the new threshold\n",
    "adjusted_precision = precision_score(test_df['label'], adjusted_predictions, average='binary')\n",
    "adjusted_recall = recall_score(test_df['label'], adjusted_predictions, average='binary')\n",
    "adjusted_accuracy = accuracy_score(test_df['label'], adjusted_predictions)\n",
    "adjusted_f1 = f1_score(test_df['label'], adjusted_predictions, average='binary')\n",
    "adjusted_conf_matrix = confusion_matrix(test_df['label'], adjusted_predictions)\n",
    "\n",
    "print(f\"Adjusted threshold: {best_thresh}\")\n",
    "print(\"Optimized Naive Bayes\")\n",
    "print(f\"Precision: {adjusted_precision}\")\n",
    "print(f\"Recall: {adjusted_recall}\")\n",
    "print(f\"Accuracy: {adjusted_accuracy}\")\n",
    "print(f\"F1 Score: {adjusted_f1}\")\n",
    "print(\"Confusion Matrix:\")\n",
    "print(adjusted_conf_matrix)\n",
    "\n",
    "nb_thresh = best_thresh"
   ]
  },
  {
   "cell_type": "code",
   "execution_count": 18,
   "id": "b35be669-e114-401d-b3fe-c11975b1b3bf",
   "metadata": {
    "execution": {
     "iopub.execute_input": "2024-08-27T09:28:31.612616Z",
     "iopub.status.busy": "2024-08-27T09:28:31.612531Z",
     "iopub.status.idle": "2024-08-27T09:28:31.999610Z",
     "shell.execute_reply": "2024-08-27T09:28:31.997763Z",
     "shell.execute_reply.started": "2024-08-27T09:28:31.612609Z"
    }
   },
   "outputs": [
    {
     "name": "stdout",
     "output_type": "stream",
     "text": [
      "Updated cells count: 4\n"
     ]
    }
   ],
   "source": [
    "# SAVE TO GOOGLE SHEET\n",
    "\n",
    "# Define the range and values to update\n",
    "range_name = '5-3!B5:E5'  \n",
    "\n",
    "values = [[\n",
    "    f\"{adjusted_precision * 100:.2f}\",\n",
    "    f\"{adjusted_recall * 100:.2f}\",\n",
    "    f\"{adjusted_accuracy * 100:.2f}\",\n",
    "    f\"{adjusted_f1 * 100:.2f}\"\n",
    "]]\n",
    "\n",
    "# Prepare the request body\n",
    "body = {\n",
    "    'values': values\n",
    "}\n",
    "\n",
    "# Call the Sheets API to update the values\n",
    "result = service.spreadsheets().values().update(\n",
    "    spreadsheetId=spreadsheet_id, \n",
    "    range=range_name,\n",
    "    valueInputOption='USER_ENTERED',\n",
    "    body=body\n",
    ").execute()\n",
    "\n",
    "print('Updated cells count:', result.get('updatedCells'))"
   ]
  },
  {
   "cell_type": "markdown",
   "id": "a92b519a-7274-4651-8707-33c5e2ce81f7",
   "metadata": {},
   "source": [
    "### DT"
   ]
  },
  {
   "cell_type": "code",
   "execution_count": 19,
   "id": "112a6839-2256-4652-8923-5a8204fa3d51",
   "metadata": {
    "execution": {
     "iopub.execute_input": "2024-08-27T09:28:32.003054Z",
     "iopub.status.busy": "2024-08-27T09:28:32.001423Z",
     "iopub.status.idle": "2024-08-27T09:28:32.020977Z",
     "shell.execute_reply": "2024-08-27T09:28:32.020268Z",
     "shell.execute_reply.started": "2024-08-27T09:28:32.003021Z"
    }
   },
   "outputs": [
    {
     "name": "stdout",
     "output_type": "stream",
     "text": [
      "Decision Tree\n",
      "Precision: 0.43172526573998365\n",
      "Recall: 0.46194225721784776\n",
      "Ensemble accuracy: 0.47452868030485357\n",
      "F1 Score: 0.4463229078613694\n",
      "Confusion Matrix:\n",
      "[[655 695]\n",
      " [615 528]]\n"
     ]
    }
   ],
   "source": [
    "# Evaluate\n",
    "precision = precision_score(test_df['label'].values, dt_final_predictions, average='binary')\n",
    "recall = recall_score(test_df['label'].values, dt_final_predictions, average='binary')\n",
    "accuracy = accuracy_score(test_df['label'].values, dt_final_predictions)\n",
    "f1 = f1_score(test_df['label'].values, dt_final_predictions, average='binary')\n",
    "conf_matrix = confusion_matrix(test_df['label'].values, dt_final_predictions)\n",
    "\n",
    "print(\"Decision Tree\")\n",
    "print(f\"Precision: {precision}\")\n",
    "print(f\"Recall: {recall}\")\n",
    "print(f\"Ensemble accuracy: {accuracy}\")\n",
    "print(f\"F1 Score: {f1}\")\n",
    "print(\"Confusion Matrix:\")\n",
    "print(conf_matrix)"
   ]
  },
  {
   "cell_type": "code",
   "execution_count": 20,
   "id": "b47fedcc-16e0-4f9d-998b-6b7f0d0cc620",
   "metadata": {
    "execution": {
     "iopub.execute_input": "2024-08-27T09:28:32.022297Z",
     "iopub.status.busy": "2024-08-27T09:28:32.022007Z",
     "iopub.status.idle": "2024-08-27T09:28:32.096510Z",
     "shell.execute_reply": "2024-08-27T09:28:32.096257Z",
     "shell.execute_reply.started": "2024-08-27T09:28:32.022277Z"
    }
   },
   "outputs": [
    {
     "data": {
      "image/png": "[encoded data removed]",
      "text/plain": [
       "<Figure size 640x480 with 1 Axes>"
      ]
     },
     "metadata": {},
     "output_type": "display_data"
    }
   ],
   "source": [
    "# Get probability scores for the positive class\n",
    "dt_prob_scores = dt_meta_classifier.predict_proba(test_meta_features)[:, 1]\n",
    "\n",
    "import matplotlib.pyplot as plt\n",
    "\n",
    "# Plot the distribution of predicted probabilities\n",
    "plt.hist(dt_prob_scores, bins=50, alpha=0.75)\n",
    "plt.title('Distribution of Predicted Probabilities (DT)')\n",
    "plt.xlabel('Probability of Positive Class')\n",
    "plt.ylabel('Frequency')\n",
    "plt.show()"
   ]
  },
  {
   "cell_type": "code",
   "execution_count": 21,
   "id": "1bba8d4f-8212-4cb6-91b0-9f551af65c9b",
   "metadata": {
    "execution": {
     "iopub.execute_input": "2024-08-27T09:28:32.099812Z",
     "iopub.status.busy": "2024-08-27T09:28:32.099689Z",
     "iopub.status.idle": "2024-08-27T09:28:32.182689Z",
     "shell.execute_reply": "2024-08-27T09:28:32.182371Z",
     "shell.execute_reply.started": "2024-08-27T09:28:32.099803Z"
    }
   },
   "outputs": [
    {
     "name": "stdout",
     "output_type": "stream",
     "text": [
      "Adjusted threshold: 0.01\n",
      "Optimized Decision Tree\n",
      "Precision: 0.4342948717948718\n",
      "Recall: 0.4741907261592301\n",
      "Accuracy: 0.47573204973926997\n",
      "F1 Score: 0.4533667921371811\n",
      "Confusion Matrix:\n",
      "[[644 706]\n",
      " [601 542]]\n"
     ]
    }
   ],
   "source": [
    "# Determine a new threshold\n",
    "thresholds = np.linspace(0.01, 0.99, 99)\n",
    "scores = [f1_score(test_df['label'], dt_prob_scores >= t, average='binary') for t in thresholds]\n",
    "best_thresh = thresholds[np.argmax(scores)]\n",
    "\n",
    "# Apply the new threshold\n",
    "adjusted_predictions = (dt_prob_scores >= best_thresh).astype(int)\n",
    "\n",
    "# Evaluate with the new threshold\n",
    "adjusted_precision = precision_score(test_df['label'], adjusted_predictions, average='binary')\n",
    "adjusted_recall = recall_score(test_df['label'], adjusted_predictions, average='binary')\n",
    "adjusted_accuracy = accuracy_score(test_df['label'], adjusted_predictions)\n",
    "adjusted_f1 = f1_score(test_df['label'], adjusted_predictions, average='binary')\n",
    "adjusted_conf_matrix = confusion_matrix(test_df['label'], adjusted_predictions)\n",
    "\n",
    "print(f\"Adjusted threshold: {best_thresh}\")\n",
    "print(\"Optimized Decision Tree\")\n",
    "print(f\"Precision: {adjusted_precision}\")\n",
    "print(f\"Recall: {adjusted_recall}\")\n",
    "print(f\"Accuracy: {adjusted_accuracy}\")\n",
    "print(f\"F1 Score: {adjusted_f1}\")\n",
    "print(\"Confusion Matrix:\")\n",
    "print(adjusted_conf_matrix)\n",
    "\n",
    "dt_thresh = best_thresh"
   ]
  },
  {
   "cell_type": "code",
   "execution_count": 22,
   "id": "c60c2133-950b-4edb-a60f-40434cb1e64a",
   "metadata": {
    "execution": {
     "iopub.execute_input": "2024-08-27T09:28:32.183274Z",
     "iopub.status.busy": "2024-08-27T09:28:32.183192Z",
     "iopub.status.idle": "2024-08-27T09:28:32.657795Z",
     "shell.execute_reply": "2024-08-27T09:28:32.655894Z",
     "shell.execute_reply.started": "2024-08-27T09:28:32.183263Z"
    }
   },
   "outputs": [
    {
     "name": "stdout",
     "output_type": "stream",
     "text": [
      "Updated cells count: 4\n"
     ]
    }
   ],
   "source": [
    "# SAVE TO GOOGLE SHEET\n",
    "\n",
    "# Define the range and values to update\n",
    "range_name = '5-3!B6:E6'  \n",
    "\n",
    "values = [[\n",
    "    f\"{adjusted_precision * 100:.2f}\",\n",
    "    f\"{adjusted_recall * 100:.2f}\",\n",
    "    f\"{adjusted_accuracy * 100:.2f}\",\n",
    "    f\"{adjusted_f1 * 100:.2f}\"\n",
    "]]\n",
    "\n",
    "# Prepare the request body\n",
    "body = {\n",
    "    'values': values\n",
    "}\n",
    "\n",
    "# Call the Sheets API to update the values\n",
    "result = service.spreadsheets().values().update(\n",
    "    spreadsheetId=spreadsheet_id, \n",
    "    range=range_name,\n",
    "    valueInputOption='USER_ENTERED',\n",
    "    body=body\n",
    ").execute()\n",
    "\n",
    "print('Updated cells count:', result.get('updatedCells'))"
   ]
  },
  {
   "cell_type": "markdown",
   "id": "65c8fbf8-8467-470a-b23d-c7368f16192c",
   "metadata": {},
   "source": [
    "### SVM"
   ]
  },
  {
   "cell_type": "code",
   "execution_count": 23,
   "id": "56c161df-ddf2-4392-86ce-cdad4ee3472d",
   "metadata": {
    "execution": {
     "iopub.execute_input": "2024-08-27T09:28:32.661124Z",
     "iopub.status.busy": "2024-08-27T09:28:32.660628Z",
     "iopub.status.idle": "2024-08-27T09:28:32.688592Z",
     "shell.execute_reply": "2024-08-27T09:28:32.688071Z",
     "shell.execute_reply.started": "2024-08-27T09:28:32.661088Z"
    }
   },
   "outputs": [
    {
     "name": "stdout",
     "output_type": "stream",
     "text": [
      "SVM\n",
      "Precision: 0.0\n",
      "Recall: 0.0\n",
      "Ensemble accuracy: 0.5415162454873647\n",
      "F1 Score: 0.0\n",
      "Confusion Matrix:\n",
      "[[1350    0]\n",
      " [1143    0]]\n"
     ]
    },
    {
     "name": "stderr",
     "output_type": "stream",
     "text": [
      "/opt/anaconda3/envs/thesis/lib/python3.10/site-packages/sklearn/metrics/_classification.py:1509: UndefinedMetricWarning: Precision is ill-defined and being set to 0.0 due to no predicted samples. Use `zero_division` parameter to control this behavior.\n",
      "  _warn_prf(average, modifier, f\"{metric.capitalize()} is\", len(result))\n"
     ]
    }
   ],
   "source": [
    "# Evaluate\n",
    "precision = precision_score(test_df['label'].values, svm_final_predictions, average='binary')\n",
    "recall = recall_score(test_df['label'].values, svm_final_predictions, average='binary')\n",
    "accuracy = accuracy_score(test_df['label'].values, svm_final_predictions)\n",
    "f1 = f1_score(test_df['label'].values, svm_final_predictions, average='binary')\n",
    "conf_matrix = confusion_matrix(test_df['label'].values, svm_final_predictions)\n",
    "\n",
    "print(\"SVM\")\n",
    "print(f\"Precision: {precision}\")\n",
    "print(f\"Recall: {recall}\")\n",
    "print(f\"Ensemble accuracy: {accuracy}\")\n",
    "print(f\"F1 Score: {f1}\")\n",
    "print(\"Confusion Matrix:\")\n",
    "print(conf_matrix)"
   ]
  },
  {
   "cell_type": "code",
   "execution_count": 24,
   "id": "a71b5f6b-5fa2-43a3-a84e-e1788b5194ac",
   "metadata": {
    "execution": {
     "iopub.execute_input": "2024-08-27T09:28:32.689556Z",
     "iopub.status.busy": "2024-08-27T09:28:32.689411Z",
     "iopub.status.idle": "2024-08-27T09:28:32.880492Z",
     "shell.execute_reply": "2024-08-27T09:28:32.880244Z",
     "shell.execute_reply.started": "2024-08-27T09:28:32.689544Z"
    }
   },
   "outputs": [
    {
     "data": {
      "image/png": "[encoded data removed]",
      "text/plain": [
       "<Figure size 640x480 with 1 Axes>"
      ]
     },
     "metadata": {},
     "output_type": "display_data"
    }
   ],
   "source": [
    "# Get probability scores for the positive class\n",
    "svm_prob_scores = svm_meta_classifier.predict_proba(test_meta_features)[:, 1]\n",
    "\n",
    "import matplotlib.pyplot as plt\n",
    "\n",
    "# Plot the distribution of predicted probabilities\n",
    "plt.hist(svm_prob_scores, bins=50, alpha=0.75)\n",
    "plt.title('Distribution of Predicted Probabilities (SVM)')\n",
    "plt.xlabel('Probability of Positive Class')\n",
    "plt.ylabel('Frequency')\n",
    "plt.show()"
   ]
  },
  {
   "cell_type": "code",
   "execution_count": 25,
   "id": "bec2281e-c662-42af-b89e-1d593990739e",
   "metadata": {
    "execution": {
     "iopub.execute_input": "2024-08-27T09:28:32.881015Z",
     "iopub.status.busy": "2024-08-27T09:28:32.880942Z",
     "iopub.status.idle": "2024-08-27T09:28:32.961983Z",
     "shell.execute_reply": "2024-08-27T09:28:32.961708Z",
     "shell.execute_reply.started": "2024-08-27T09:28:32.881008Z"
    }
   },
   "outputs": [
    {
     "name": "stdout",
     "output_type": "stream",
     "text": [
      "Adjusted threshold: 0.01\n",
      "Optimized SVM\n",
      "Precision: 0.4584837545126354\n",
      "Recall: 1.0\n",
      "Accuracy: 0.4584837545126354\n",
      "F1 Score: 0.6287128712871287\n",
      "Confusion Matrix:\n",
      "[[   0 1350]\n",
      " [   0 1143]]\n"
     ]
    }
   ],
   "source": [
    "# Determine a new threshold\n",
    "thresholds = np.linspace(0.01, 0.99, 99)\n",
    "scores = [f1_score(test_df['label'], svm_prob_scores >= t, average='binary') for t in thresholds]\n",
    "best_thresh = thresholds[np.argmax(scores)]\n",
    "\n",
    "# Apply the new threshold\n",
    "adjusted_predictions = (svm_prob_scores >= best_thresh).astype(int)\n",
    "\n",
    "# Evaluate with the new threshold\n",
    "adjusted_precision = precision_score(test_df['label'], adjusted_predictions, average='binary')\n",
    "adjusted_recall = recall_score(test_df['label'], adjusted_predictions, average='binary')\n",
    "adjusted_accuracy = accuracy_score(test_df['label'], adjusted_predictions)\n",
    "adjusted_f1 = f1_score(test_df['label'], adjusted_predictions, average='binary')\n",
    "adjusted_conf_matrix = confusion_matrix(test_df['label'], adjusted_predictions)\n",
    "\n",
    "print(f\"Adjusted threshold: {best_thresh}\")\n",
    "print(\"Optimized SVM\")\n",
    "print(f\"Precision: {adjusted_precision}\")\n",
    "print(f\"Recall: {adjusted_recall}\")\n",
    "print(f\"Accuracy: {adjusted_accuracy}\")\n",
    "print(f\"F1 Score: {adjusted_f1}\")\n",
    "print(\"Confusion Matrix:\")\n",
    "print(adjusted_conf_matrix)\n",
    "\n",
    "svm_thresh = best_thresh"
   ]
  },
  {
   "cell_type": "code",
   "execution_count": 26,
   "id": "61a70bcc-38b8-4c46-846d-833a561d5694",
   "metadata": {
    "execution": {
     "iopub.execute_input": "2024-08-27T09:28:32.962463Z",
     "iopub.status.busy": "2024-08-27T09:28:32.962375Z",
     "iopub.status.idle": "2024-08-27T09:28:33.354291Z",
     "shell.execute_reply": "2024-08-27T09:28:33.352547Z",
     "shell.execute_reply.started": "2024-08-27T09:28:32.962452Z"
    }
   },
   "outputs": [
    {
     "name": "stdout",
     "output_type": "stream",
     "text": [
      "Updated cells count: 4\n"
     ]
    }
   ],
   "source": [
    "# SAVE TO GOOGLE SHEET\n",
    "\n",
    "# Define the range and values to update\n",
    "range_name = '5-3!B7:E7'  \n",
    "\n",
    "values = [[\n",
    "    f\"{adjusted_precision * 100:.2f}\",\n",
    "    f\"{adjusted_recall * 100:.2f}\",\n",
    "    f\"{adjusted_accuracy * 100:.2f}\",\n",
    "    f\"{adjusted_f1 * 100:.2f}\"\n",
    "]]\n",
    "\n",
    "# Prepare the request body\n",
    "body = {\n",
    "    'values': values\n",
    "}\n",
    "\n",
    "# Call the Sheets API to update the values\n",
    "result = service.spreadsheets().values().update(\n",
    "    spreadsheetId=spreadsheet_id, \n",
    "    range=range_name,\n",
    "    valueInputOption='USER_ENTERED',\n",
    "    body=body\n",
    ").execute()\n",
    "\n",
    "print('Updated cells count:', result.get('updatedCells'))"
   ]
  },
  {
   "cell_type": "markdown",
   "id": "8d2045a9-4a51-4880-b22f-b3ff2b11881d",
   "metadata": {},
   "source": [
    "# Validate on Data C"
   ]
  },
  {
   "cell_type": "markdown",
   "id": "b7f3295c-4ff1-44ea-857b-82a80bb44ff3",
   "metadata": {},
   "source": [
    "## Load Data C Dataset"
   ]
  },
  {
   "cell_type": "code",
   "execution_count": 27,
   "id": "06f318e7-8089-4e51-8494-de0f6a11b10b",
   "metadata": {
    "execution": {
     "iopub.execute_input": "2024-08-27T09:28:33.356298Z",
     "iopub.status.busy": "2024-08-27T09:28:33.355872Z",
     "iopub.status.idle": "2024-08-27T09:28:33.372255Z",
     "shell.execute_reply": "2024-08-27T09:28:33.371231Z",
     "shell.execute_reply.started": "2024-08-27T09:28:33.356190Z"
    }
   },
   "outputs": [],
   "source": [
    "import pandas as pd\n",
    "from sklearn.metrics import accuracy_score, precision_score, recall_score, f1_score, confusion_matrix\n",
    "\n",
    "# Load validation data\n",
    "validation_file_path = 'Corpus/data_c.csv'\n",
    "validation_df = pd.read_csv(validation_file_path)"
   ]
  },
  {
   "cell_type": "markdown",
   "id": "e5ce9332-4160-4859-85e1-5b1d4184d1b2",
   "metadata": {
    "execution": {
     "iopub.execute_input": "2024-04-11T13:00:14.207089Z",
     "iopub.status.busy": "2024-04-11T13:00:14.206594Z",
     "iopub.status.idle": "2024-04-11T13:00:14.209788Z",
     "shell.execute_reply": "2024-04-11T13:00:14.209108Z",
     "shell.execute_reply.started": "2024-04-11T13:00:14.207047Z"
    }
   },
   "source": [
    "## Perform Stacking"
   ]
  },
  {
   "cell_type": "code",
   "execution_count": 28,
   "id": "c9fbc0af-ebad-478e-96e1-3f26052a3a89",
   "metadata": {
    "execution": {
     "iopub.execute_input": "2024-08-27T09:28:33.374298Z",
     "iopub.status.busy": "2024-08-27T09:28:33.373858Z",
     "iopub.status.idle": "2024-08-27T09:29:05.554369Z",
     "shell.execute_reply": "2024-08-27T09:29:05.532571Z",
     "shell.execute_reply.started": "2024-08-27T09:28:33.374268Z"
    }
   },
   "outputs": [
    {
     "name": "stderr",
     "output_type": "stream",
     "text": [
      "huggingface/tokenizers: The current process just got forked, after parallelism has already been used. Disabling parallelism to avoid deadlocks...\n",
      "To disable this warning, you can either:\n",
      "\t- Avoid using `tokenizers` before the fork if possible\n",
      "\t- Explicitly set the environment variable TOKENIZERS_PARALLELISM=(true | false)\n",
      "huggingface/tokenizers: The current process just got forked, after parallelism has already been used. Disabling parallelism to avoid deadlocks...\n",
      "To disable this warning, you can either:\n",
      "\t- Avoid using `tokenizers` before the fork if possible\n",
      "\t- Explicitly set the environment variable TOKENIZERS_PARALLELISM=(true | false)\n",
      "huggingface/tokenizers: The current process just got forked, after parallelism has already been used. Disabling parallelism to avoid deadlocks...\n",
      "To disable this warning, you can either:\n",
      "\t- Avoid using `tokenizers` before the fork if possible\n",
      "\t- Explicitly set the environment variable TOKENIZERS_PARALLELISM=(true | false)\n",
      "huggingface/tokenizers: The current process just got forked, after parallelism has already been used. Disabling parallelism to avoid deadlocks...\n",
      "To disable this warning, you can either:\n",
      "\t- Avoid using `tokenizers` before the fork if possible\n",
      "\t- Explicitly set the environment variable TOKENIZERS_PARALLELISM=(true | false)\n",
      "huggingface/tokenizers: The current process just got forked, after parallelism has already been used. Disabling parallelism to avoid deadlocks...\n",
      "To disable this warning, you can either:\n",
      "\t- Avoid using `tokenizers` before the fork if possible\n",
      "\t- Explicitly set the environment variable TOKENIZERS_PARALLELISM=(true | false)\n",
      "huggingface/tokenizers: The current process just got forked, after parallelism has already been used. Disabling parallelism to avoid deadlocks...\n",
      "To disable this warning, you can either:\n",
      "\t- Avoid using `tokenizers` before the fork if possible\n",
      "\t- Explicitly set the environment variable TOKENIZERS_PARALLELISM=(true | false)\n",
      "huggingface/tokenizers: The current process just got forked, after parallelism has already been used. Disabling parallelism to avoid deadlocks...\n",
      "To disable this warning, you can either:\n",
      "\t- Avoid using `tokenizers` before the fork if possible\n",
      "\t- Explicitly set the environment variable TOKENIZERS_PARALLELISM=(true | false)\n"
     ]
    },
    {
     "name": "stdout",
     "output_type": "stream",
     "text": [
      "peak memory: 1525.50 MiB, increment: -0.19 MiB\n",
      "Generating meta-features for model\n",
      "Meta-features generated\n",
      "Generating meta-features for model\n",
      "Meta-features generated\n",
      "Generating meta-features for model\n",
      "Meta-features generated\n",
      "Generating meta-features for model\n",
      "Meta-features generated\n",
      "Generating meta-features for model\n",
      "Meta-features generated\n"
     ]
    }
   ],
   "source": [
    "%memit\n",
    "\n",
    "# Generate meta-features for validation set\n",
    "validation_meta_features = [get_meta_features(model, tokenizer, validation_df, device) \n",
    "                            for model, tokenizer in models_and_tokenizers.values()]\n",
    "\n",
    "# Stack meta-features\n",
    "validation_meta_features = np.hstack(validation_meta_features)\n",
    "\n",
    "# Predict with LR meta-classifier\n",
    "lr_validation_predictions = lr_meta_classifier.predict(validation_meta_features)\n",
    "\n",
    "# Predict with NB meta-classifier\n",
    "nb_validation_predictions = nb_meta_classifier.predict(validation_meta_features)\n",
    "\n",
    "# Predict with DT meta-classifier\n",
    "dt_validation_predictions = dt_meta_classifier.predict(validation_meta_features)\n",
    "\n",
    "# Predict with SVM meta-classifier\n",
    "svm_validation_predictions = svm_meta_classifier.predict(validation_meta_features)\n",
    "\n",
    "# Extract true labels from the validation set\n",
    "true_labels = validation_df['label'].values"
   ]
  },
  {
   "cell_type": "markdown",
   "id": "9da263a8-cbf9-4cff-b41b-e88a5e2512b4",
   "metadata": {},
   "source": [
    "## Validate Models"
   ]
  },
  {
   "cell_type": "markdown",
   "id": "73574aa4-26e8-4d0a-bc95-478361fcc2e6",
   "metadata": {},
   "source": [
    "### LR"
   ]
  },
  {
   "cell_type": "code",
   "execution_count": 29,
   "id": "df42fe2c-46bb-486d-90ba-404043f52e9e",
   "metadata": {
    "execution": {
     "iopub.execute_input": "2024-08-27T09:29:05.563774Z",
     "iopub.status.busy": "2024-08-27T09:29:05.563182Z",
     "iopub.status.idle": "2024-08-27T09:29:05.583564Z",
     "shell.execute_reply": "2024-08-27T09:29:05.582542Z",
     "shell.execute_reply.started": "2024-08-27T09:29:05.563741Z"
    }
   },
   "outputs": [
    {
     "name": "stdout",
     "output_type": "stream",
     "text": [
      "Logistic Regression\n",
      "Accuracy: 0.5322144017325392\n",
      "Precision: 0.4375\n",
      "Recall: 0.01627906976744186\n",
      "F1 Score: 0.03139013452914798\n",
      "Confusion Matrix:\n",
      " [[969  18]\n",
      " [846  14]]\n"
     ]
    }
   ],
   "source": [
    "# Calculate metrics\n",
    "accuracy = accuracy_score(true_labels, lr_validation_predictions)\n",
    "precision = precision_score(true_labels, lr_validation_predictions, average='binary')\n",
    "recall = recall_score(true_labels, lr_validation_predictions, average='binary')\n",
    "f1 = f1_score(true_labels, lr_validation_predictions, average='binary')\n",
    "conf_matrix = confusion_matrix(true_labels, lr_validation_predictions)\n",
    "\n",
    "# Print the metrics\n",
    "print(\"Logistic Regression\")\n",
    "print(f\"Accuracy: {accuracy}\")\n",
    "print(f\"Precision: {precision}\")\n",
    "print(f\"Recall: {recall}\")\n",
    "print(f\"F1 Score: {f1}\")\n",
    "print(\"Confusion Matrix:\\n\", conf_matrix)"
   ]
  },
  {
   "cell_type": "code",
   "execution_count": 30,
   "id": "99a32131-a3db-45fd-8b37-cd354d1483e9",
   "metadata": {
    "execution": {
     "iopub.execute_input": "2024-08-27T09:29:05.585337Z",
     "iopub.status.busy": "2024-08-27T09:29:05.585152Z",
     "iopub.status.idle": "2024-08-27T09:29:05.663437Z",
     "shell.execute_reply": "2024-08-27T09:29:05.662788Z",
     "shell.execute_reply.started": "2024-08-27T09:29:05.585316Z"
    },
    "scrolled": true
   },
   "outputs": [
    {
     "data": {
      "image/png": "[encoded data removed]",
      "text/plain": [
       "<Figure size 640x480 with 1 Axes>"
      ]
     },
     "metadata": {},
     "output_type": "display_data"
    }
   ],
   "source": [
    "# Get probability scores for the positive class\n",
    "lr_prob_scores = lr_meta_classifier.predict_proba(validation_meta_features)[:, 1]\n",
    "\n",
    "import matplotlib.pyplot as plt\n",
    "\n",
    "# Plot the distribution of predicted probabilities\n",
    "plt.hist(lr_prob_scores, bins=50, alpha=0.75)\n",
    "plt.title('Distribution of Predicted Probabilities (LR)')\n",
    "plt.xlabel('Probability of Positive Class')\n",
    "plt.ylabel('Frequency')\n",
    "plt.show()"
   ]
  },
  {
   "cell_type": "markdown",
   "id": "449cba05-df7d-4b06-afea-388a0ffe242d",
   "metadata": {},
   "source": [
    "#### Optimized LR"
   ]
  },
  {
   "cell_type": "code",
   "execution_count": 31,
   "id": "99485566-e92c-4f96-a518-51e1d53c487b",
   "metadata": {
    "execution": {
     "iopub.execute_input": "2024-08-27T09:29:05.664860Z",
     "iopub.status.busy": "2024-08-27T09:29:05.664424Z",
     "iopub.status.idle": "2024-08-27T09:29:05.676731Z",
     "shell.execute_reply": "2024-08-27T09:29:05.676042Z",
     "shell.execute_reply.started": "2024-08-27T09:29:05.664834Z"
    }
   },
   "outputs": [
    {
     "name": "stdout",
     "output_type": "stream",
     "text": [
      "Optimized Logistic Regression\n",
      "Precision: 0.4656199242014077\n",
      "Recall: 1.0\n",
      "Accuracy: 0.4656199242014077\n",
      "F1 Score: 0.6353897303287772\n",
      "Confusion Matrix:\n",
      "[[  0 987]\n",
      " [  0 860]]\n"
     ]
    }
   ],
   "source": [
    "# Apply the new threshold\n",
    "adjusted_predictions = (lr_prob_scores >= lr_thresh).astype(int)\n",
    "\n",
    "# Evaluate with the new threshold\n",
    "adjusted_precision = precision_score(validation_df['label'], adjusted_predictions, average='binary')\n",
    "adjusted_recall = recall_score(validation_df['label'], adjusted_predictions, average='binary')\n",
    "adjusted_accuracy = accuracy_score(validation_df['label'], adjusted_predictions)\n",
    "adjusted_f1 = f1_score(validation_df['label'], adjusted_predictions, average='binary')\n",
    "adjusted_conf_matrix = confusion_matrix(validation_df['label'], adjusted_predictions)\n",
    "\n",
    "print(\"Optimized Logistic Regression\")\n",
    "print(f\"Precision: {adjusted_precision}\")\n",
    "print(f\"Recall: {adjusted_recall}\")\n",
    "print(f\"Accuracy: {adjusted_accuracy}\")\n",
    "print(f\"F1 Score: {adjusted_f1}\")\n",
    "print(\"Confusion Matrix:\")\n",
    "print(adjusted_conf_matrix)"
   ]
  },
  {
   "cell_type": "code",
   "execution_count": 32,
   "id": "d10347e9-9e28-46cb-a54b-3f104e31db95",
   "metadata": {
    "execution": {
     "iopub.execute_input": "2024-08-27T09:29:05.677714Z",
     "iopub.status.busy": "2024-08-27T09:29:05.677474Z",
     "iopub.status.idle": "2024-08-27T09:29:06.244862Z",
     "shell.execute_reply": "2024-08-27T09:29:06.243479Z",
     "shell.execute_reply.started": "2024-08-27T09:29:05.677692Z"
    }
   },
   "outputs": [
    {
     "name": "stdout",
     "output_type": "stream",
     "text": [
      "Updated cells count: 4\n"
     ]
    }
   ],
   "source": [
    "# SAVE TO GOOGLE SHEET\n",
    "\n",
    "# Define the range and values to update\n",
    "range_name = '5-3!F4:I4'  \n",
    "\n",
    "values = [[\n",
    "    f\"{adjusted_precision * 100:.2f}\",\n",
    "    f\"{adjusted_recall * 100:.2f}\",\n",
    "    f\"{adjusted_accuracy * 100:.2f}\",\n",
    "    f\"{adjusted_f1 * 100:.2f}\"\n",
    "]]\n",
    "\n",
    "# Prepare the request body\n",
    "body = {\n",
    "    'values': values\n",
    "}\n",
    "\n",
    "# Call the Sheets API to update the values\n",
    "result = service.spreadsheets().values().update(\n",
    "    spreadsheetId=spreadsheet_id, \n",
    "    range=range_name,\n",
    "    valueInputOption='USER_ENTERED',\n",
    "    body=body\n",
    ").execute()\n",
    "\n",
    "print('Updated cells count:', result.get('updatedCells'))"
   ]
  },
  {
   "cell_type": "markdown",
   "id": "01bf71da-0402-406a-820d-b46103b78952",
   "metadata": {},
   "source": [
    "#### Save Confusion Matrix"
   ]
  },
  {
   "cell_type": "code",
   "execution_count": 33,
   "id": "73b9e1f9-087c-4fc8-93d2-76312b9e7a0f",
   "metadata": {
    "execution": {
     "iopub.execute_input": "2024-08-27T09:29:06.247030Z",
     "iopub.status.busy": "2024-08-27T09:29:06.246724Z",
     "iopub.status.idle": "2024-08-27T09:29:06.447879Z",
     "shell.execute_reply": "2024-08-27T09:29:06.447637Z",
     "shell.execute_reply.started": "2024-08-27T09:29:06.247003Z"
    }
   },
   "outputs": [
    {
     "data": {
      "text/html": [
       "\n",
       "<style>\n",
       "  #altair-viz-9a606bb0584543d89c0525365bc759e7.vega-embed {\n",
       "    width: 100%;\n",
       "    display: flex;\n",
       "  }\n",
       "\n",
       "  #altair-viz-9a606bb0584543d89c0525365bc759e7.vega-embed details,\n",
       "  #altair-viz-9a606bb0584543d89c0525365bc759e7.vega-embed details summary {\n",
       "    position: relative;\n",
       "  }\n",
       "</style>\n",
       "<div id=\"altair-viz-9a606bb0584543d89c0525365bc759e7\"></div>\n",
       "<script type=\"text/javascript\">\n",
       "  var VEGA_DEBUG = (typeof VEGA_DEBUG == \"undefined\") ? {} : VEGA_DEBUG;\n",
       "  (function(spec, embedOpt){\n",
       "    let outputDiv = document.currentScript.previousElementSibling;\n",
       "    if (outputDiv.id !== \"altair-viz-9a606bb0584543d89c0525365bc759e7\") {\n",
       "      outputDiv = document.getElementById(\"altair-viz-9a606bb0584543d89c0525365bc759e7\");\n",
       "    }\n",
       "    const paths = {\n",
       "      \"vega\": \"https://cdn.jsdelivr.net/npm/vega@5?noext\",\n",
       "      \"vega-lib\": \"https://cdn.jsdelivr.net/npm/vega-lib?noext\",\n",
       "      \"vega-lite\": \"https://cdn.jsdelivr.net/npm/vega-lite@5.17.0?noext\",\n",
       "      \"vega-embed\": \"https://cdn.jsdelivr.net/npm/vega-embed@6?noext\",\n",
       "    };\n",
       "\n",
       "    function maybeLoadScript(lib, version) {\n",
       "      var key = `${lib.replace(\"-\", \"\")}_version`;\n",
       "      return (VEGA_DEBUG[key] == version) ?\n",
       "        Promise.resolve(paths[lib]) :\n",
       "        new Promise(function(resolve, reject) {\n",
       "          var s = document.createElement('script');\n",
       "          document.getElementsByTagName(\"head\")[0].appendChild(s);\n",
       "          s.async = true;\n",
       "          s.onload = () => {\n",
       "            VEGA_DEBUG[key] = version;\n",
       "            return resolve(paths[lib]);\n",
       "          };\n",
       "          s.onerror = () => reject(`Error loading script: ${paths[lib]}`);\n",
       "          s.src = paths[lib];\n",
       "        });\n",
       "    }\n",
       "\n",
       "    function showError(err) {\n",
       "      outputDiv.innerHTML = `<div class=\"error\" style=\"color:red;\">${err}</div>`;\n",
       "      throw err;\n",
       "    }\n",
       "\n",
       "    function displayChart(vegaEmbed) {\n",
       "      vegaEmbed(outputDiv, spec, embedOpt)\n",
       "        .catch(err => showError(`Javascript Error: ${err.message}<br>This usually means there's a typo in your chart specification. See the javascript console for the full traceback.`));\n",
       "    }\n",
       "\n",
       "    if(typeof define === \"function\" && define.amd) {\n",
       "      requirejs.config({paths});\n",
       "      require([\"vega-embed\"], displayChart, err => showError(`Error loading script: ${err.message}`));\n",
       "    } else {\n",
       "      maybeLoadScript(\"vega\", \"5\")\n",
       "        .then(() => maybeLoadScript(\"vega-lite\", \"5.17.0\"))\n",
       "        .then(() => maybeLoadScript(\"vega-embed\", \"6\"))\n",
       "        .catch(showError)\n",
       "        .then(() => displayChart(vegaEmbed));\n",
       "    }\n",
       "  })({\"config\": {\"view\": {\"continuousWidth\": 300, \"continuousHeight\": 300}}, \"layer\": [{\"mark\": {\"type\": \"rect\"}, \"encoding\": {\"color\": {\"field\": \"Count\", \"type\": \"quantitative\"}, \"tooltip\": [{\"field\": \"True\", \"type\": \"ordinal\"}, {\"field\": \"Predicted\", \"type\": \"ordinal\"}, {\"field\": \"Count\", \"type\": \"quantitative\"}], \"x\": {\"field\": \"Predicted\", \"sort\": [\"Hate Speech\", \"Non Hatespeech\"], \"type\": \"ordinal\"}, \"y\": {\"field\": \"True\", \"sort\": [\"Hate Speech\", \"Non Hatespeech\"], \"type\": \"ordinal\"}}, \"title\": \"5 Stacking-3 LR\"}, {\"mark\": {\"type\": \"text\", \"align\": \"center\", \"baseline\": \"middle\", \"fontSize\": 12}, \"encoding\": {\"color\": {\"condition\": {\"test\": \"(datum.Count > 493.5)\", \"value\": \"white\"}, \"value\": \"black\"}, \"text\": {\"field\": \"Count\", \"type\": \"quantitative\"}, \"tooltip\": [{\"field\": \"True\", \"type\": \"ordinal\"}, {\"field\": \"Predicted\", \"type\": \"ordinal\"}, {\"field\": \"Count\", \"type\": \"quantitative\"}], \"x\": {\"field\": \"Predicted\", \"sort\": [\"Hate Speech\", \"Non Hatespeech\"], \"type\": \"ordinal\"}, \"y\": {\"field\": \"True\", \"sort\": [\"Hate Speech\", \"Non Hatespeech\"], \"type\": \"ordinal\"}}, \"title\": \"5 Stacking-3 LR\"}], \"data\": {\"name\": \"data-010c52edfd2079f09c0236dffc020b77\"}, \"height\": 300, \"width\": 400, \"$schema\": \"https://vega.github.io/schema/vega-lite/v5.17.0.json\", \"datasets\": {\"data-010c52edfd2079f09c0236dffc020b77\": [{\"True\": \"Hate Speech\", \"Predicted\": \"Hate Speech\", \"Count\": 0}, {\"True\": \"Non Hatespeech\", \"Predicted\": \"Hate Speech\", \"Count\": 0}, {\"True\": \"Hate Speech\", \"Predicted\": \"Non Hatespeech\", \"Count\": 987}, {\"True\": \"Non Hatespeech\", \"Predicted\": \"Non Hatespeech\", \"Count\": 860}]}}, {\"mode\": \"vega-lite\"});\n",
       "</script>"
      ],
      "text/plain": [
       "alt.LayerChart(...)"
      ]
     },
     "metadata": {},
     "output_type": "display_data"
    }
   ],
   "source": [
    "import altair as alt\n",
    "import altair_saver\n",
    "import pandas as pd\n",
    "from sklearn.metrics import confusion_matrix\n",
    "\n",
    "# Calculate the confusion matrix\n",
    "cm = confusion_matrix(true_labels, adjusted_predictions)\n",
    "\n",
    "# Define class names\n",
    "class_names = ['Hate Speech', 'Non Hatespeech']\n",
    "\n",
    "# Convert confusion matrix to DataFrame\n",
    "cm_df = pd.DataFrame(cm, index=class_names, columns=class_names).reset_index().melt(id_vars='index')\n",
    "cm_df.columns = ['True', 'Predicted', 'Count']\n",
    "\n",
    "# Ensure the order of categories\n",
    "cm_df['True'] = pd.Categorical(cm_df['True'], categories=class_names, ordered=True)\n",
    "cm_df['Predicted'] = pd.Categorical(cm_df['Predicted'], categories=class_names, ordered=True)\n",
    "\n",
    "# Create the Altair plot\n",
    "heatmap = alt.Chart(cm_df).mark_rect().encode(\n",
    "    x=alt.X('Predicted:O', sort=class_names),\n",
    "    y=alt.Y('True:O', sort=class_names),\n",
    "    color='Count:Q',\n",
    "    tooltip=['True', 'Predicted', 'Count']\n",
    ").properties(\n",
    "    width=400,\n",
    "    height=300,\n",
    "    title='5 Stacking-3 LR'\n",
    ")\n",
    "\n",
    "# Add text labels\n",
    "text = heatmap.mark_text(\n",
    "    align='center',\n",
    "    baseline='middle',\n",
    "    fontSize=12\n",
    ").encode(\n",
    "    text='Count:Q',\n",
    "    color=alt.condition(\n",
    "        alt.datum.Count > cm.max() / 2,\n",
    "        alt.value('white'),\n",
    "        alt.value('black')\n",
    "    )\n",
    ")\n",
    "\n",
    "# Combine heatmap and text\n",
    "final_chart = heatmap + text\n",
    "\n",
    "# Display the plot\n",
    "final_chart.show()"
   ]
  },
  {
   "cell_type": "code",
   "execution_count": 34,
   "id": "19c029f6-0be5-4e74-876d-dfb1d8b6248b",
   "metadata": {
    "execution": {
     "iopub.execute_input": "2024-08-27T09:29:06.448443Z",
     "iopub.status.busy": "2024-08-27T09:29:06.448330Z",
     "iopub.status.idle": "2024-08-27T09:29:06.773528Z",
     "shell.execute_reply": "2024-08-27T09:29:06.773211Z",
     "shell.execute_reply.started": "2024-08-27T09:29:06.448435Z"
    }
   },
   "outputs": [
    {
     "name": "stdout",
     "output_type": "stream",
     "text": [
      "Plot saved to Results/Ensemble Model Results/On Hatespeech dataset/OH Using HS_Finetuned Models/Stacking/5STK-3 LR.png\n"
     ]
    }
   ],
   "source": [
    "\n",
    "# Specify the folder path\n",
    "folder_path = os.path.expanduser('Results/Ensemble Model Results/On Hatespeech dataset/OH Using HS_Finetuned Models/Stacking/')\n",
    "\n",
    "# Save the plot using vl-convert\n",
    "file_path_png = os.path.join(folder_path, '5STK-3 LR.png')\n",
    "final_chart.save(file_path_png)\n",
    "\n",
    "print(f\"Plot saved to {file_path_png}\")"
   ]
  },
  {
   "cell_type": "markdown",
   "id": "b3649998-d30c-429a-9cc5-db6259d6c39e",
   "metadata": {},
   "source": [
    "### NB"
   ]
  },
  {
   "cell_type": "code",
   "execution_count": 35,
   "id": "88863a6c-c113-4347-84ed-3ef930aeaba4",
   "metadata": {
    "execution": {
     "iopub.execute_input": "2024-08-27T09:29:06.773993Z",
     "iopub.status.busy": "2024-08-27T09:29:06.773908Z",
     "iopub.status.idle": "2024-08-27T09:29:06.779205Z",
     "shell.execute_reply": "2024-08-27T09:29:06.778985Z",
     "shell.execute_reply.started": "2024-08-27T09:29:06.773985Z"
    }
   },
   "outputs": [
    {
     "name": "stdout",
     "output_type": "stream",
     "text": [
      "Naive Bayes\n",
      "Accuracy: 0.23768272874932322\n",
      "Precision: 0.08358662613981763\n",
      "Recall: 0.06395348837209303\n",
      "F1 Score: 0.07246376811594203\n",
      "Confusion Matrix:\n",
      " [[384 603]\n",
      " [805  55]]\n"
     ]
    }
   ],
   "source": [
    "# Calculate metrics\n",
    "accuracy = accuracy_score(true_labels, nb_validation_predictions)\n",
    "precision = precision_score(true_labels, nb_validation_predictions, average='binary')\n",
    "recall = recall_score(true_labels, nb_validation_predictions, average='binary')\n",
    "f1 = f1_score(true_labels, nb_validation_predictions, average='binary')\n",
    "conf_matrix = confusion_matrix(true_labels, nb_validation_predictions)\n",
    "\n",
    "# Print the metrics\n",
    "print(\"Naive Bayes\")\n",
    "print(f\"Accuracy: {accuracy}\")\n",
    "print(f\"Precision: {precision}\")\n",
    "print(f\"Recall: {recall}\")\n",
    "print(f\"F1 Score: {f1}\")\n",
    "print(\"Confusion Matrix:\\n\", conf_matrix)"
   ]
  },
  {
   "cell_type": "code",
   "execution_count": 36,
   "id": "fd4f58f5-0391-4367-83ad-b8de15a13261",
   "metadata": {
    "execution": {
     "iopub.execute_input": "2024-08-27T09:29:06.779561Z",
     "iopub.status.busy": "2024-08-27T09:29:06.779492Z",
     "iopub.status.idle": "2024-08-27T09:29:06.913927Z",
     "shell.execute_reply": "2024-08-27T09:29:06.913647Z",
     "shell.execute_reply.started": "2024-08-27T09:29:06.779554Z"
    }
   },
   "outputs": [
    {
     "data": {
      "image/png": "[encoded data removed]",
      "text/plain": [
       "<Figure size 640x480 with 1 Axes>"
      ]
     },
     "metadata": {},
     "output_type": "display_data"
    }
   ],
   "source": [
    "# Get probability scores for the positive class\n",
    "nb_prob_scores = nb_meta_classifier.predict_proba(validation_meta_features)[:, 1]\n",
    "\n",
    "import matplotlib.pyplot as plt\n",
    "\n",
    "# Plot the distribution of predicted probabilities\n",
    "plt.hist(nb_prob_scores, bins=50, alpha=0.75)\n",
    "plt.title('Distribution of Predicted Probabilities (NB)')\n",
    "plt.xlabel('Probability of Positive Class')\n",
    "plt.ylabel('Frequency')\n",
    "plt.show()"
   ]
  },
  {
   "cell_type": "markdown",
   "id": "66903a84-9b76-4901-bfd2-f5570b34e1b7",
   "metadata": {},
   "source": [
    "#### Optimized NB"
   ]
  },
  {
   "cell_type": "code",
   "execution_count": 37,
   "id": "d8a0c50d-977f-4dcc-881e-8c54a4c1ff7f",
   "metadata": {
    "execution": {
     "iopub.execute_input": "2024-08-27T09:29:06.914465Z",
     "iopub.status.busy": "2024-08-27T09:29:06.914384Z",
     "iopub.status.idle": "2024-08-27T09:29:06.920792Z",
     "shell.execute_reply": "2024-08-27T09:29:06.920574Z",
     "shell.execute_reply.started": "2024-08-27T09:29:06.914458Z"
    }
   },
   "outputs": [
    {
     "name": "stdout",
     "output_type": "stream",
     "text": [
      "Optimized Naive Bayes\n",
      "Precision: 0.4656199242014077\n",
      "Recall: 1.0\n",
      "Accuracy: 0.4656199242014077\n",
      "F1 Score: 0.6353897303287772\n",
      "Confusion Matrix:\n",
      "[[  0 987]\n",
      " [  0 860]]\n"
     ]
    }
   ],
   "source": [
    "# Apply the new threshold\n",
    "adjusted_predictions = (nb_prob_scores >= nb_thresh).astype(int)\n",
    "\n",
    "# Evaluate with the new threshold\n",
    "adjusted_precision = precision_score(validation_df['label'], adjusted_predictions, average='binary')\n",
    "adjusted_recall = recall_score(validation_df['label'], adjusted_predictions, average='binary')\n",
    "adjusted_accuracy = accuracy_score(validation_df['label'], adjusted_predictions)\n",
    "adjusted_f1 = f1_score(validation_df['label'], adjusted_predictions, average='binary')\n",
    "adjusted_conf_matrix = confusion_matrix(validation_df['label'], adjusted_predictions)\n",
    "\n",
    "print(\"Optimized Naive Bayes\")\n",
    "print(f\"Precision: {adjusted_precision}\")\n",
    "print(f\"Recall: {adjusted_recall}\")\n",
    "print(f\"Accuracy: {adjusted_accuracy}\")\n",
    "print(f\"F1 Score: {adjusted_f1}\")\n",
    "print(\"Confusion Matrix:\")\n",
    "print(adjusted_conf_matrix)"
   ]
  },
  {
   "cell_type": "code",
   "execution_count": 38,
   "id": "86cc8ed9-fd8f-4a14-86a3-14c17949e8eb",
   "metadata": {
    "execution": {
     "iopub.execute_input": "2024-08-27T09:29:06.921168Z",
     "iopub.status.busy": "2024-08-27T09:29:06.921098Z",
     "iopub.status.idle": "2024-08-27T09:29:07.266385Z",
     "shell.execute_reply": "2024-08-27T09:29:07.265074Z",
     "shell.execute_reply.started": "2024-08-27T09:29:06.921162Z"
    }
   },
   "outputs": [
    {
     "name": "stdout",
     "output_type": "stream",
     "text": [
      "Updated cells count: 4\n"
     ]
    }
   ],
   "source": [
    "# SAVE TO GOOGLE SHEET\n",
    "\n",
    "# Define the range and values to update\n",
    "range_name = '5-3!F5:I5'  \n",
    "\n",
    "values = [[\n",
    "    f\"{adjusted_precision * 100:.2f}\",\n",
    "    f\"{adjusted_recall * 100:.2f}\",\n",
    "    f\"{adjusted_accuracy * 100:.2f}\",\n",
    "    f\"{adjusted_f1 * 100:.2f}\"\n",
    "]]\n",
    "\n",
    "# Prepare the request body\n",
    "body = {\n",
    "    'values': values\n",
    "}\n",
    "\n",
    "# Call the Sheets API to update the values\n",
    "result = service.spreadsheets().values().update(\n",
    "    spreadsheetId=spreadsheet_id, \n",
    "    range=range_name,\n",
    "    valueInputOption='USER_ENTERED',\n",
    "    body=body\n",
    ").execute()\n",
    "\n",
    "print('Updated cells count:', result.get('updatedCells'))"
   ]
  },
  {
   "cell_type": "markdown",
   "id": "a974497e-d672-4fc9-b568-885897a6c1bf",
   "metadata": {},
   "source": [
    "#### Save Confusion Matrix"
   ]
  },
  {
   "cell_type": "code",
   "execution_count": 39,
   "id": "3e400501-2935-4625-952b-df5e7104d7e6",
   "metadata": {
    "execution": {
     "iopub.execute_input": "2024-08-27T09:29:07.268346Z",
     "iopub.status.busy": "2024-08-27T09:29:07.268044Z",
     "iopub.status.idle": "2024-08-27T09:29:07.315635Z",
     "shell.execute_reply": "2024-08-27T09:29:07.315290Z",
     "shell.execute_reply.started": "2024-08-27T09:29:07.268321Z"
    }
   },
   "outputs": [
    {
     "data": {
      "text/html": [
       "\n",
       "<style>\n",
       "  #altair-viz-c9c4fd6fc3644aa89e9cc315df1f294b.vega-embed {\n",
       "    width: 100%;\n",
       "    display: flex;\n",
       "  }\n",
       "\n",
       "  #altair-viz-c9c4fd6fc3644aa89e9cc315df1f294b.vega-embed details,\n",
       "  #altair-viz-c9c4fd6fc3644aa89e9cc315df1f294b.vega-embed details summary {\n",
       "    position: relative;\n",
       "  }\n",
       "</style>\n",
       "<div id=\"altair-viz-c9c4fd6fc3644aa89e9cc315df1f294b\"></div>\n",
       "<script type=\"text/javascript\">\n",
       "  var VEGA_DEBUG = (typeof VEGA_DEBUG == \"undefined\") ? {} : VEGA_DEBUG;\n",
       "  (function(spec, embedOpt){\n",
       "    let outputDiv = document.currentScript.previousElementSibling;\n",
       "    if (outputDiv.id !== \"altair-viz-c9c4fd6fc3644aa89e9cc315df1f294b\") {\n",
       "      outputDiv = document.getElementById(\"altair-viz-c9c4fd6fc3644aa89e9cc315df1f294b\");\n",
       "    }\n",
       "    const paths = {\n",
       "      \"vega\": \"https://cdn.jsdelivr.net/npm/vega@5?noext\",\n",
       "      \"vega-lib\": \"https://cdn.jsdelivr.net/npm/vega-lib?noext\",\n",
       "      \"vega-lite\": \"https://cdn.jsdelivr.net/npm/vega-lite@5.17.0?noext\",\n",
       "      \"vega-embed\": \"https://cdn.jsdelivr.net/npm/vega-embed@6?noext\",\n",
       "    };\n",
       "\n",
       "    function maybeLoadScript(lib, version) {\n",
       "      var key = `${lib.replace(\"-\", \"\")}_version`;\n",
       "      return (VEGA_DEBUG[key] == version) ?\n",
       "        Promise.resolve(paths[lib]) :\n",
       "        new Promise(function(resolve, reject) {\n",
       "          var s = document.createElement('script');\n",
       "          document.getElementsByTagName(\"head\")[0].appendChild(s);\n",
       "          s.async = true;\n",
       "          s.onload = () => {\n",
       "            VEGA_DEBUG[key] = version;\n",
       "            return resolve(paths[lib]);\n",
       "          };\n",
       "          s.onerror = () => reject(`Error loading script: ${paths[lib]}`);\n",
       "          s.src = paths[lib];\n",
       "        });\n",
       "    }\n",
       "\n",
       "    function showError(err) {\n",
       "      outputDiv.innerHTML = `<div class=\"error\" style=\"color:red;\">${err}</div>`;\n",
       "      throw err;\n",
       "    }\n",
       "\n",
       "    function displayChart(vegaEmbed) {\n",
       "      vegaEmbed(outputDiv, spec, embedOpt)\n",
       "        .catch(err => showError(`Javascript Error: ${err.message}<br>This usually means there's a typo in your chart specification. See the javascript console for the full traceback.`));\n",
       "    }\n",
       "\n",
       "    if(typeof define === \"function\" && define.amd) {\n",
       "      requirejs.config({paths});\n",
       "      require([\"vega-embed\"], displayChart, err => showError(`Error loading script: ${err.message}`));\n",
       "    } else {\n",
       "      maybeLoadScript(\"vega\", \"5\")\n",
       "        .then(() => maybeLoadScript(\"vega-lite\", \"5.17.0\"))\n",
       "        .then(() => maybeLoadScript(\"vega-embed\", \"6\"))\n",
       "        .catch(showError)\n",
       "        .then(() => displayChart(vegaEmbed));\n",
       "    }\n",
       "  })({\"config\": {\"view\": {\"continuousWidth\": 300, \"continuousHeight\": 300}}, \"layer\": [{\"mark\": {\"type\": \"rect\"}, \"encoding\": {\"color\": {\"field\": \"Count\", \"type\": \"quantitative\"}, \"tooltip\": [{\"field\": \"True\", \"type\": \"ordinal\"}, {\"field\": \"Predicted\", \"type\": \"ordinal\"}, {\"field\": \"Count\", \"type\": \"quantitative\"}], \"x\": {\"field\": \"Predicted\", \"sort\": [\"Hate Speech\", \"Non Hatespeech\"], \"type\": \"ordinal\"}, \"y\": {\"field\": \"True\", \"sort\": [\"Hate Speech\", \"Non Hatespeech\"], \"type\": \"ordinal\"}}, \"title\": \"5 Stacking-3 NB\"}, {\"mark\": {\"type\": \"text\", \"align\": \"center\", \"baseline\": \"middle\", \"fontSize\": 12}, \"encoding\": {\"color\": {\"condition\": {\"test\": \"(datum.Count > 493.5)\", \"value\": \"white\"}, \"value\": \"black\"}, \"text\": {\"field\": \"Count\", \"type\": \"quantitative\"}, \"tooltip\": [{\"field\": \"True\", \"type\": \"ordinal\"}, {\"field\": \"Predicted\", \"type\": \"ordinal\"}, {\"field\": \"Count\", \"type\": \"quantitative\"}], \"x\": {\"field\": \"Predicted\", \"sort\": [\"Hate Speech\", \"Non Hatespeech\"], \"type\": \"ordinal\"}, \"y\": {\"field\": \"True\", \"sort\": [\"Hate Speech\", \"Non Hatespeech\"], \"type\": \"ordinal\"}}, \"title\": \"5 Stacking-3 NB\"}], \"data\": {\"name\": \"data-010c52edfd2079f09c0236dffc020b77\"}, \"height\": 300, \"width\": 400, \"$schema\": \"https://vega.github.io/schema/vega-lite/v5.17.0.json\", \"datasets\": {\"data-010c52edfd2079f09c0236dffc020b77\": [{\"True\": \"Hate Speech\", \"Predicted\": \"Hate Speech\", \"Count\": 0}, {\"True\": \"Non Hatespeech\", \"Predicted\": \"Hate Speech\", \"Count\": 0}, {\"True\": \"Hate Speech\", \"Predicted\": \"Non Hatespeech\", \"Count\": 987}, {\"True\": \"Non Hatespeech\", \"Predicted\": \"Non Hatespeech\", \"Count\": 860}]}}, {\"mode\": \"vega-lite\"});\n",
       "</script>"
      ],
      "text/plain": [
       "alt.LayerChart(...)"
      ]
     },
     "metadata": {},
     "output_type": "display_data"
    }
   ],
   "source": [
    "import altair as alt\n",
    "import altair_saver\n",
    "import pandas as pd\n",
    "from sklearn.metrics import confusion_matrix\n",
    "\n",
    "# Calculate the confusion matrix\n",
    "cm = confusion_matrix(true_labels, adjusted_predictions)\n",
    "\n",
    "# Define class names\n",
    "class_names = ['Hate Speech', 'Non Hatespeech']\n",
    "\n",
    "# Convert confusion matrix to DataFrame\n",
    "cm_df = pd.DataFrame(cm, index=class_names, columns=class_names).reset_index().melt(id_vars='index')\n",
    "cm_df.columns = ['True', 'Predicted', 'Count']\n",
    "\n",
    "# Ensure the order of categories\n",
    "cm_df['True'] = pd.Categorical(cm_df['True'], categories=class_names, ordered=True)\n",
    "cm_df['Predicted'] = pd.Categorical(cm_df['Predicted'], categories=class_names, ordered=True)\n",
    "\n",
    "# Create the Altair plot\n",
    "heatmap = alt.Chart(cm_df).mark_rect().encode(\n",
    "    x=alt.X('Predicted:O', sort=class_names),\n",
    "    y=alt.Y('True:O', sort=class_names),\n",
    "    color='Count:Q',\n",
    "    tooltip=['True', 'Predicted', 'Count']\n",
    ").properties(\n",
    "    width=400,\n",
    "    height=300,\n",
    "    title='5 Stacking-3 NB'\n",
    ")\n",
    "\n",
    "# Add text labels\n",
    "text = heatmap.mark_text(\n",
    "    align='center',\n",
    "    baseline='middle',\n",
    "    fontSize=12\n",
    ").encode(\n",
    "    text='Count:Q',\n",
    "    color=alt.condition(\n",
    "        alt.datum.Count > cm.max() / 2,\n",
    "        alt.value('white'),\n",
    "        alt.value('black')\n",
    "    )\n",
    ")\n",
    "\n",
    "# Combine heatmap and text\n",
    "final_chart = heatmap + text\n",
    "\n",
    "# Display the plot\n",
    "final_chart.show()"
   ]
  },
  {
   "cell_type": "code",
   "execution_count": 40,
   "id": "fbf652cf-408a-4885-b887-39c4135000a1",
   "metadata": {
    "execution": {
     "iopub.execute_input": "2024-08-27T09:29:07.316319Z",
     "iopub.status.busy": "2024-08-27T09:29:07.316203Z",
     "iopub.status.idle": "2024-08-27T09:29:07.361418Z",
     "shell.execute_reply": "2024-08-27T09:29:07.361081Z",
     "shell.execute_reply.started": "2024-08-27T09:29:07.316309Z"
    }
   },
   "outputs": [
    {
     "name": "stdout",
     "output_type": "stream",
     "text": [
      "Plot saved to Results/Ensemble Model Results/On Hatespeech dataset/OH Using HS_Finetuned Models/Stacking/5STK-3 NB.png\n"
     ]
    }
   ],
   "source": [
    "\n",
    "# Specify the folder path\n",
    "folder_path = os.path.expanduser('Results/Ensemble Model Results/On Hatespeech dataset/OH Using HS_Finetuned Models/Stacking/')\n",
    "\n",
    "# Save the plot using vl-convert\n",
    "file_path_png = os.path.join(folder_path, '5STK-3 NB.png')\n",
    "final_chart.save(file_path_png)\n",
    "\n",
    "print(f\"Plot saved to {file_path_png}\")"
   ]
  },
  {
   "cell_type": "markdown",
   "id": "1f2d3e3d-90ee-45fd-9934-756f226ee6e1",
   "metadata": {},
   "source": [
    "### DT"
   ]
  },
  {
   "cell_type": "code",
   "execution_count": 41,
   "id": "e549350b-ed54-4425-a913-7401ec7d676e",
   "metadata": {
    "execution": {
     "iopub.execute_input": "2024-08-27T09:29:07.362050Z",
     "iopub.status.busy": "2024-08-27T09:29:07.361959Z",
     "iopub.status.idle": "2024-08-27T09:29:07.367907Z",
     "shell.execute_reply": "2024-08-27T09:29:07.367661Z",
     "shell.execute_reply.started": "2024-08-27T09:29:07.362042Z"
    }
   },
   "outputs": [
    {
     "name": "stdout",
     "output_type": "stream",
     "text": [
      "Decision Tree\n",
      "Accuracy: 0.5300487276664861\n",
      "Precision: 0.49548532731376976\n",
      "Recall: 0.5104651162790698\n",
      "F1 Score: 0.5028636884306987\n",
      "Confusion Matrix:\n",
      " [[540 447]\n",
      " [421 439]]\n"
     ]
    }
   ],
   "source": [
    "# Calculate metrics\n",
    "accuracy = accuracy_score(true_labels, dt_validation_predictions)\n",
    "precision = precision_score(true_labels, dt_validation_predictions, average='binary')\n",
    "recall = recall_score(true_labels, dt_validation_predictions, average='binary')\n",
    "f1 = f1_score(true_labels, dt_validation_predictions, average='binary')\n",
    "conf_matrix = confusion_matrix(true_labels, dt_validation_predictions)\n",
    "\n",
    "# Print the metrics\n",
    "print(\"Decision Tree\")\n",
    "print(f\"Accuracy: {accuracy}\")\n",
    "print(f\"Precision: {precision}\")\n",
    "print(f\"Recall: {recall}\")\n",
    "print(f\"F1 Score: {f1}\")\n",
    "print(\"Confusion Matrix:\\n\", conf_matrix)"
   ]
  },
  {
   "cell_type": "code",
   "execution_count": 42,
   "id": "90b0ac5d-b92d-4ae6-944f-ffdbfa0c2dd6",
   "metadata": {
    "execution": {
     "iopub.execute_input": "2024-08-27T09:29:07.368473Z",
     "iopub.status.busy": "2024-08-27T09:29:07.368350Z",
     "iopub.status.idle": "2024-08-27T09:29:07.428466Z",
     "shell.execute_reply": "2024-08-27T09:29:07.428093Z",
     "shell.execute_reply.started": "2024-08-27T09:29:07.368466Z"
    }
   },
   "outputs": [
    {
     "data": {
      "image/png": "[encoded data removed]",
      "text/plain": [
       "<Figure size 640x480 with 1 Axes>"
      ]
     },
     "metadata": {},
     "output_type": "display_data"
    }
   ],
   "source": [
    "# Get probability scores for the positive class\n",
    "dt_prob_scores = dt_meta_classifier.predict_proba(validation_meta_features)[:, 1]\n",
    "\n",
    "import matplotlib.pyplot as plt\n",
    "\n",
    "# Plot the distribution of predicted probabilities\n",
    "plt.hist(dt_prob_scores, bins=50, alpha=0.75)\n",
    "plt.title('Distribution of Predicted Probabilities (DT)')\n",
    "plt.xlabel('Probability of Positive Class')\n",
    "plt.ylabel('Frequency')\n",
    "plt.show()"
   ]
  },
  {
   "cell_type": "markdown",
   "id": "753715f1-17b6-42db-aa0e-7363cbf7d1fe",
   "metadata": {},
   "source": [
    "#### Optimized DT"
   ]
  },
  {
   "cell_type": "code",
   "execution_count": 43,
   "id": "625f1e48-c528-44ad-a22b-99c4a6e257ce",
   "metadata": {
    "execution": {
     "iopub.execute_input": "2024-08-27T09:29:07.428918Z",
     "iopub.status.busy": "2024-08-27T09:29:07.428844Z",
     "iopub.status.idle": "2024-08-27T09:29:07.435392Z",
     "shell.execute_reply": "2024-08-27T09:29:07.435154Z",
     "shell.execute_reply.started": "2024-08-27T09:29:07.428911Z"
    }
   },
   "outputs": [
    {
     "name": "stdout",
     "output_type": "stream",
     "text": [
      "Optimized Decision Tree\n",
      "Precision: 0.4895259095920617\n",
      "Recall: 0.5162790697674419\n",
      "Accuracy: 0.5240931239848403\n",
      "F1 Score: 0.5025466893039049\n",
      "Confusion Matrix:\n",
      "[[524 463]\n",
      " [416 444]]\n"
     ]
    }
   ],
   "source": [
    "# Apply the new threshold\n",
    "adjusted_predictions = (dt_prob_scores >= dt_thresh).astype(int)\n",
    "\n",
    "# Evaluate with the new threshold\n",
    "adjusted_precision = precision_score(validation_df['label'], adjusted_predictions, average='binary')\n",
    "adjusted_recall = recall_score(validation_df['label'], adjusted_predictions, average='binary')\n",
    "adjusted_accuracy = accuracy_score(validation_df['label'], adjusted_predictions)\n",
    "adjusted_f1 = f1_score(validation_df['label'], adjusted_predictions, average='binary')\n",
    "adjusted_conf_matrix = confusion_matrix(validation_df['label'], adjusted_predictions)\n",
    "\n",
    "print(\"Optimized Decision Tree\")\n",
    "print(f\"Precision: {adjusted_precision}\")\n",
    "print(f\"Recall: {adjusted_recall}\")\n",
    "print(f\"Accuracy: {adjusted_accuracy}\")\n",
    "print(f\"F1 Score: {adjusted_f1}\")\n",
    "print(\"Confusion Matrix:\")\n",
    "print(adjusted_conf_matrix)"
   ]
  },
  {
   "cell_type": "code",
   "execution_count": 44,
   "id": "e0b308b9-8705-46bd-8d5d-bebaddde75ef",
   "metadata": {
    "execution": {
     "iopub.execute_input": "2024-08-27T09:29:07.435969Z",
     "iopub.status.busy": "2024-08-27T09:29:07.435840Z",
     "iopub.status.idle": "2024-08-27T09:29:07.837138Z",
     "shell.execute_reply": "2024-08-27T09:29:07.835780Z",
     "shell.execute_reply.started": "2024-08-27T09:29:07.435962Z"
    }
   },
   "outputs": [
    {
     "name": "stdout",
     "output_type": "stream",
     "text": [
      "Updated cells count: 4\n"
     ]
    }
   ],
   "source": [
    "# SAVE TO GOOGLE SHEET\n",
    "\n",
    "# Define the range and values to update\n",
    "range_name = '5-3!F6:I6'  \n",
    "\n",
    "values = [[\n",
    "    f\"{adjusted_precision * 100:.2f}\",\n",
    "    f\"{adjusted_recall * 100:.2f}\",\n",
    "    f\"{adjusted_accuracy * 100:.2f}\",\n",
    "    f\"{adjusted_f1 * 100:.2f}\"\n",
    "]]\n",
    "\n",
    "# Prepare the request body\n",
    "body = {\n",
    "    'values': values\n",
    "}\n",
    "\n",
    "# Call the Sheets API to update the values\n",
    "result = service.spreadsheets().values().update(\n",
    "    spreadsheetId=spreadsheet_id, \n",
    "    range=range_name,\n",
    "    valueInputOption='USER_ENTERED',\n",
    "    body=body\n",
    ").execute()\n",
    "\n",
    "print('Updated cells count:', result.get('updatedCells'))"
   ]
  },
  {
   "cell_type": "markdown",
   "id": "c4798ad9-95c8-459c-99bc-240610a48e3d",
   "metadata": {},
   "source": [
    "#### Save Confusion Matrix"
   ]
  },
  {
   "cell_type": "code",
   "execution_count": 45,
   "id": "2a157f45-fc37-45d3-86e4-18fabbe706d6",
   "metadata": {
    "execution": {
     "iopub.execute_input": "2024-08-27T09:29:07.840612Z",
     "iopub.status.busy": "2024-08-27T09:29:07.840126Z",
     "iopub.status.idle": "2024-08-27T09:29:07.883307Z",
     "shell.execute_reply": "2024-08-27T09:29:07.882957Z",
     "shell.execute_reply.started": "2024-08-27T09:29:07.840583Z"
    }
   },
   "outputs": [
    {
     "data": {
      "text/html": [
       "\n",
       "<style>\n",
       "  #altair-viz-f0016985ad4444208ced81ae95333aed.vega-embed {\n",
       "    width: 100%;\n",
       "    display: flex;\n",
       "  }\n",
       "\n",
       "  #altair-viz-f0016985ad4444208ced81ae95333aed.vega-embed details,\n",
       "  #altair-viz-f0016985ad4444208ced81ae95333aed.vega-embed details summary {\n",
       "    position: relative;\n",
       "  }\n",
       "</style>\n",
       "<div id=\"altair-viz-f0016985ad4444208ced81ae95333aed\"></div>\n",
       "<script type=\"text/javascript\">\n",
       "  var VEGA_DEBUG = (typeof VEGA_DEBUG == \"undefined\") ? {} : VEGA_DEBUG;\n",
       "  (function(spec, embedOpt){\n",
       "    let outputDiv = document.currentScript.previousElementSibling;\n",
       "    if (outputDiv.id !== \"altair-viz-f0016985ad4444208ced81ae95333aed\") {\n",
       "      outputDiv = document.getElementById(\"altair-viz-f0016985ad4444208ced81ae95333aed\");\n",
       "    }\n",
       "    const paths = {\n",
       "      \"vega\": \"https://cdn.jsdelivr.net/npm/vega@5?noext\",\n",
       "      \"vega-lib\": \"https://cdn.jsdelivr.net/npm/vega-lib?noext\",\n",
       "      \"vega-lite\": \"https://cdn.jsdelivr.net/npm/vega-lite@5.17.0?noext\",\n",
       "      \"vega-embed\": \"https://cdn.jsdelivr.net/npm/vega-embed@6?noext\",\n",
       "    };\n",
       "\n",
       "    function maybeLoadScript(lib, version) {\n",
       "      var key = `${lib.replace(\"-\", \"\")}_version`;\n",
       "      return (VEGA_DEBUG[key] == version) ?\n",
       "        Promise.resolve(paths[lib]) :\n",
       "        new Promise(function(resolve, reject) {\n",
       "          var s = document.createElement('script');\n",
       "          document.getElementsByTagName(\"head\")[0].appendChild(s);\n",
       "          s.async = true;\n",
       "          s.onload = () => {\n",
       "            VEGA_DEBUG[key] = version;\n",
       "            return resolve(paths[lib]);\n",
       "          };\n",
       "          s.onerror = () => reject(`Error loading script: ${paths[lib]}`);\n",
       "          s.src = paths[lib];\n",
       "        });\n",
       "    }\n",
       "\n",
       "    function showError(err) {\n",
       "      outputDiv.innerHTML = `<div class=\"error\" style=\"color:red;\">${err}</div>`;\n",
       "      throw err;\n",
       "    }\n",
       "\n",
       "    function displayChart(vegaEmbed) {\n",
       "      vegaEmbed(outputDiv, spec, embedOpt)\n",
       "        .catch(err => showError(`Javascript Error: ${err.message}<br>This usually means there's a typo in your chart specification. See the javascript console for the full traceback.`));\n",
       "    }\n",
       "\n",
       "    if(typeof define === \"function\" && define.amd) {\n",
       "      requirejs.config({paths});\n",
       "      require([\"vega-embed\"], displayChart, err => showError(`Error loading script: ${err.message}`));\n",
       "    } else {\n",
       "      maybeLoadScript(\"vega\", \"5\")\n",
       "        .then(() => maybeLoadScript(\"vega-lite\", \"5.17.0\"))\n",
       "        .then(() => maybeLoadScript(\"vega-embed\", \"6\"))\n",
       "        .catch(showError)\n",
       "        .then(() => displayChart(vegaEmbed));\n",
       "    }\n",
       "  })({\"config\": {\"view\": {\"continuousWidth\": 300, \"continuousHeight\": 300}}, \"layer\": [{\"mark\": {\"type\": \"rect\"}, \"encoding\": {\"color\": {\"field\": \"Count\", \"type\": \"quantitative\"}, \"tooltip\": [{\"field\": \"True\", \"type\": \"ordinal\"}, {\"field\": \"Predicted\", \"type\": \"ordinal\"}, {\"field\": \"Count\", \"type\": \"quantitative\"}], \"x\": {\"field\": \"Predicted\", \"sort\": [\"Hate Speech\", \"Non Hatespeech\"], \"type\": \"ordinal\"}, \"y\": {\"field\": \"True\", \"sort\": [\"Hate Speech\", \"Non Hatespeech\"], \"type\": \"ordinal\"}}, \"title\": \"5 Stacking-3 DT\"}, {\"mark\": {\"type\": \"text\", \"align\": \"center\", \"baseline\": \"middle\", \"fontSize\": 12}, \"encoding\": {\"color\": {\"condition\": {\"test\": \"(datum.Count > 262.0)\", \"value\": \"white\"}, \"value\": \"black\"}, \"text\": {\"field\": \"Count\", \"type\": \"quantitative\"}, \"tooltip\": [{\"field\": \"True\", \"type\": \"ordinal\"}, {\"field\": \"Predicted\", \"type\": \"ordinal\"}, {\"field\": \"Count\", \"type\": \"quantitative\"}], \"x\": {\"field\": \"Predicted\", \"sort\": [\"Hate Speech\", \"Non Hatespeech\"], \"type\": \"ordinal\"}, \"y\": {\"field\": \"True\", \"sort\": [\"Hate Speech\", \"Non Hatespeech\"], \"type\": \"ordinal\"}}, \"title\": \"5 Stacking-3 DT\"}], \"data\": {\"name\": \"data-ee988f6e4b6919edc9bcec234ffc6c1c\"}, \"height\": 300, \"width\": 400, \"$schema\": \"https://vega.github.io/schema/vega-lite/v5.17.0.json\", \"datasets\": {\"data-ee988f6e4b6919edc9bcec234ffc6c1c\": [{\"True\": \"Hate Speech\", \"Predicted\": \"Hate Speech\", \"Count\": 524}, {\"True\": \"Non Hatespeech\", \"Predicted\": \"Hate Speech\", \"Count\": 416}, {\"True\": \"Hate Speech\", \"Predicted\": \"Non Hatespeech\", \"Count\": 463}, {\"True\": \"Non Hatespeech\", \"Predicted\": \"Non Hatespeech\", \"Count\": 444}]}}, {\"mode\": \"vega-lite\"});\n",
       "</script>"
      ],
      "text/plain": [
       "alt.LayerChart(...)"
      ]
     },
     "metadata": {},
     "output_type": "display_data"
    }
   ],
   "source": [
    "import altair as alt\n",
    "import altair_saver\n",
    "import pandas as pd\n",
    "from sklearn.metrics import confusion_matrix\n",
    "\n",
    "# Calculate the confusion matrix\n",
    "cm = confusion_matrix(true_labels, adjusted_predictions)\n",
    "\n",
    "# Define class names\n",
    "class_names = ['Hate Speech', 'Non Hatespeech']\n",
    "\n",
    "# Convert confusion matrix to DataFrame\n",
    "cm_df = pd.DataFrame(cm, index=class_names, columns=class_names).reset_index().melt(id_vars='index')\n",
    "cm_df.columns = ['True', 'Predicted', 'Count']\n",
    "\n",
    "# Ensure the order of categories\n",
    "cm_df['True'] = pd.Categorical(cm_df['True'], categories=class_names, ordered=True)\n",
    "cm_df['Predicted'] = pd.Categorical(cm_df['Predicted'], categories=class_names, ordered=True)\n",
    "\n",
    "# Create the Altair plot\n",
    "heatmap = alt.Chart(cm_df).mark_rect().encode(\n",
    "    x=alt.X('Predicted:O', sort=class_names),\n",
    "    y=alt.Y('True:O', sort=class_names),\n",
    "    color='Count:Q',\n",
    "    tooltip=['True', 'Predicted', 'Count']\n",
    ").properties(\n",
    "    width=400,\n",
    "    height=300,\n",
    "    title='5 Stacking-3 DT'\n",
    ")\n",
    "\n",
    "# Add text labels\n",
    "text = heatmap.mark_text(\n",
    "    align='center',\n",
    "    baseline='middle',\n",
    "    fontSize=12\n",
    ").encode(\n",
    "    text='Count:Q',\n",
    "    color=alt.condition(\n",
    "        alt.datum.Count > cm.max() / 2,\n",
    "        alt.value('white'),\n",
    "        alt.value('black')\n",
    "    )\n",
    ")\n",
    "\n",
    "# Combine heatmap and text\n",
    "final_chart = heatmap + text\n",
    "\n",
    "# Display the plot\n",
    "final_chart.show()"
   ]
  },
  {
   "cell_type": "code",
   "execution_count": 46,
   "id": "64f374fa-b8b7-49ee-82ac-6d24d4692115",
   "metadata": {
    "execution": {
     "iopub.execute_input": "2024-08-27T09:29:07.883931Z",
     "iopub.status.busy": "2024-08-27T09:29:07.883827Z",
     "iopub.status.idle": "2024-08-27T09:29:07.927878Z",
     "shell.execute_reply": "2024-08-27T09:29:07.927491Z",
     "shell.execute_reply.started": "2024-08-27T09:29:07.883922Z"
    }
   },
   "outputs": [
    {
     "name": "stdout",
     "output_type": "stream",
     "text": [
      "Plot saved to Results/Ensemble Model Results/On Hatespeech dataset/OH Using HS_Finetuned Models/Stacking/5STK-3 DT.png\n"
     ]
    }
   ],
   "source": [
    "\n",
    "# Specify the folder path\n",
    "folder_path = os.path.expanduser('Results/Ensemble Model Results/On Hatespeech dataset/OH Using HS_Finetuned Models/Stacking/')\n",
    "\n",
    "# Save the plot using vl-convert\n",
    "file_path_png = os.path.join(folder_path, '5STK-3 DT.png')\n",
    "final_chart.save(file_path_png)\n",
    "\n",
    "print(f\"Plot saved to {file_path_png}\")"
   ]
  },
  {
   "cell_type": "markdown",
   "id": "617d6721-27ff-4989-98c9-63c9f5bf6017",
   "metadata": {},
   "source": [
    "### SVM"
   ]
  },
  {
   "cell_type": "code",
   "execution_count": 47,
   "id": "a09fcca8-2569-41cd-b218-d4d368329c02",
   "metadata": {
    "execution": {
     "iopub.execute_input": "2024-08-27T09:29:07.928417Z",
     "iopub.status.busy": "2024-08-27T09:29:07.928333Z",
     "iopub.status.idle": "2024-08-27T09:29:07.934622Z",
     "shell.execute_reply": "2024-08-27T09:29:07.934335Z",
     "shell.execute_reply.started": "2024-08-27T09:29:07.928410Z"
    }
   },
   "outputs": [
    {
     "name": "stdout",
     "output_type": "stream",
     "text": [
      "SVM\n",
      "Accuracy: 0.5343800757985923\n",
      "Precision: 0.0\n",
      "Recall: 0.0\n",
      "F1 Score: 0.0\n",
      "Confusion Matrix:\n",
      " [[987   0]\n",
      " [860   0]]\n"
     ]
    },
    {
     "name": "stderr",
     "output_type": "stream",
     "text": [
      "/opt/anaconda3/envs/thesis/lib/python3.10/site-packages/sklearn/metrics/_classification.py:1509: UndefinedMetricWarning: Precision is ill-defined and being set to 0.0 due to no predicted samples. Use `zero_division` parameter to control this behavior.\n",
      "  _warn_prf(average, modifier, f\"{metric.capitalize()} is\", len(result))\n"
     ]
    }
   ],
   "source": [
    "# Calculate metrics\n",
    "accuracy = accuracy_score(true_labels, svm_validation_predictions)\n",
    "precision = precision_score(true_labels, svm_validation_predictions, average='binary')\n",
    "recall = recall_score(true_labels, svm_validation_predictions, average='binary')\n",
    "f1 = f1_score(true_labels, svm_validation_predictions, average='binary')\n",
    "conf_matrix = confusion_matrix(true_labels, svm_validation_predictions)\n",
    "\n",
    "# Print the metrics\n",
    "print(\"SVM\")\n",
    "print(f\"Accuracy: {accuracy}\")\n",
    "print(f\"Precision: {precision}\")\n",
    "print(f\"Recall: {recall}\")\n",
    "print(f\"F1 Score: {f1}\")\n",
    "print(\"Confusion Matrix:\\n\", conf_matrix)"
   ]
  },
  {
   "cell_type": "code",
   "execution_count": 48,
   "id": "77340c4b-d3b1-4cb4-b86a-3eef5835cc64",
   "metadata": {
    "execution": {
     "iopub.execute_input": "2024-08-27T09:29:07.935105Z",
     "iopub.status.busy": "2024-08-27T09:29:07.935032Z",
     "iopub.status.idle": "2024-08-27T09:29:08.092527Z",
     "shell.execute_reply": "2024-08-27T09:29:08.092190Z",
     "shell.execute_reply.started": "2024-08-27T09:29:07.935098Z"
    }
   },
   "outputs": [
    {
     "data": {
      "image/png": "[encoded data removed]",
      "text/plain": [
       "<Figure size 640x480 with 1 Axes>"
      ]
     },
     "metadata": {},
     "output_type": "display_data"
    }
   ],
   "source": [
    "# Get probability scores for the positive class\n",
    "svm_prob_scores = svm_meta_classifier.predict_proba(validation_meta_features)[:, 1]\n",
    "\n",
    "import matplotlib.pyplot as plt\n",
    "\n",
    "# Plot the distribution of predicted probabilities\n",
    "plt.hist(svm_prob_scores, bins=50, alpha=0.75)\n",
    "plt.title('Distribution of Predicted Probabilities (SVM)')\n",
    "plt.xlabel('Probability of Positive Class')\n",
    "plt.ylabel('Frequency')\n",
    "plt.show()"
   ]
  },
  {
   "cell_type": "markdown",
   "id": "8c9d1f5a-68d0-4630-946c-a8c0b7ef1409",
   "metadata": {},
   "source": [
    "#### Optimized SVM"
   ]
  },
  {
   "cell_type": "code",
   "execution_count": 49,
   "id": "208ccfc7-308a-4466-9050-cdd7f757c4e3",
   "metadata": {
    "execution": {
     "iopub.execute_input": "2024-08-27T09:29:08.093017Z",
     "iopub.status.busy": "2024-08-27T09:29:08.092941Z",
     "iopub.status.idle": "2024-08-27T09:29:08.099355Z",
     "shell.execute_reply": "2024-08-27T09:29:08.099136Z",
     "shell.execute_reply.started": "2024-08-27T09:29:08.093010Z"
    }
   },
   "outputs": [
    {
     "name": "stdout",
     "output_type": "stream",
     "text": [
      "Optimized SVM\n",
      "Precision: 0.4656199242014077\n",
      "Recall: 1.0\n",
      "Accuracy: 0.4656199242014077\n",
      "F1 Score: 0.6353897303287772\n",
      "Confusion Matrix:\n",
      "[[  0 987]\n",
      " [  0 860]]\n"
     ]
    }
   ],
   "source": [
    "# Apply the new threshold\n",
    "adjusted_predictions = (svm_prob_scores >= svm_thresh).astype(int)\n",
    "\n",
    "# Evaluate with the new threshold\n",
    "adjusted_precision = precision_score(validation_df['label'], adjusted_predictions, average='binary')\n",
    "adjusted_recall = recall_score(validation_df['label'], adjusted_predictions, average='binary')\n",
    "adjusted_accuracy = accuracy_score(validation_df['label'], adjusted_predictions)\n",
    "adjusted_f1 = f1_score(validation_df['label'], adjusted_predictions, average='binary')\n",
    "adjusted_conf_matrix = confusion_matrix(validation_df['label'], adjusted_predictions)\n",
    "\n",
    "print(\"Optimized SVM\")\n",
    "print(f\"Precision: {adjusted_precision}\")\n",
    "print(f\"Recall: {adjusted_recall}\")\n",
    "print(f\"Accuracy: {adjusted_accuracy}\")\n",
    "print(f\"F1 Score: {adjusted_f1}\")\n",
    "print(\"Confusion Matrix:\")\n",
    "print(adjusted_conf_matrix)"
   ]
  },
  {
   "cell_type": "code",
   "execution_count": 50,
   "id": "34eb64a6-787a-415a-a9b7-bc98df897e95",
   "metadata": {
    "execution": {
     "iopub.execute_input": "2024-08-27T09:29:08.099709Z",
     "iopub.status.busy": "2024-08-27T09:29:08.099646Z",
     "iopub.status.idle": "2024-08-27T09:29:08.491259Z",
     "shell.execute_reply": "2024-08-27T09:29:08.490340Z",
     "shell.execute_reply.started": "2024-08-27T09:29:08.099702Z"
    }
   },
   "outputs": [
    {
     "name": "stdout",
     "output_type": "stream",
     "text": [
      "Updated cells count: 4\n"
     ]
    }
   ],
   "source": [
    "# SAVE TO GOOGLE SHEET\n",
    "\n",
    "# Define the range and values to update\n",
    "range_name = '5-3!F7:I7'  \n",
    "\n",
    "values = [[\n",
    "    f\"{adjusted_precision * 100:.2f}\",\n",
    "    f\"{adjusted_recall * 100:.2f}\",\n",
    "    f\"{adjusted_accuracy * 100:.2f}\",\n",
    "    f\"{adjusted_f1 * 100:.2f}\"\n",
    "]]\n",
    "\n",
    "# Prepare the request body\n",
    "body = {\n",
    "    'values': values\n",
    "}\n",
    "\n",
    "# Call the Sheets API to update the values\n",
    "result = service.spreadsheets().values().update(\n",
    "    spreadsheetId=spreadsheet_id, \n",
    "    range=range_name,\n",
    "    valueInputOption='USER_ENTERED',\n",
    "    body=body\n",
    ").execute()\n",
    "\n",
    "print('Updated cells count:', result.get('updatedCells'))"
   ]
  },
  {
   "cell_type": "markdown",
   "id": "b149b4a3-a004-4995-bc11-89bebc850f99",
   "metadata": {},
   "source": [
    "#### Save Confusion Matrix"
   ]
  },
  {
   "cell_type": "code",
   "execution_count": 51,
   "id": "cf20b151-3482-475b-ae3f-988abf7eb2ff",
   "metadata": {
    "execution": {
     "iopub.execute_input": "2024-08-27T09:29:08.493422Z",
     "iopub.status.busy": "2024-08-27T09:29:08.492990Z",
     "iopub.status.idle": "2024-08-27T09:29:08.534788Z",
     "shell.execute_reply": "2024-08-27T09:29:08.534425Z",
     "shell.execute_reply.started": "2024-08-27T09:29:08.493384Z"
    }
   },
   "outputs": [
    {
     "data": {
      "text/html": [
       "\n",
       "<style>\n",
       "  #altair-viz-52dc3091362042d5921cbdc3dd1cbd63.vega-embed {\n",
       "    width: 100%;\n",
       "    display: flex;\n",
       "  }\n",
       "\n",
       "  #altair-viz-52dc3091362042d5921cbdc3dd1cbd63.vega-embed details,\n",
       "  #altair-viz-52dc3091362042d5921cbdc3dd1cbd63.vega-embed details summary {\n",
       "    position: relative;\n",
       "  }\n",
       "</style>\n",
       "<div id=\"altair-viz-52dc3091362042d5921cbdc3dd1cbd63\"></div>\n",
       "<script type=\"text/javascript\">\n",
       "  var VEGA_DEBUG = (typeof VEGA_DEBUG == \"undefined\") ? {} : VEGA_DEBUG;\n",
       "  (function(spec, embedOpt){\n",
       "    let outputDiv = document.currentScript.previousElementSibling;\n",
       "    if (outputDiv.id !== \"altair-viz-52dc3091362042d5921cbdc3dd1cbd63\") {\n",
       "      outputDiv = document.getElementById(\"altair-viz-52dc3091362042d5921cbdc3dd1cbd63\");\n",
       "    }\n",
       "    const paths = {\n",
       "      \"vega\": \"https://cdn.jsdelivr.net/npm/vega@5?noext\",\n",
       "      \"vega-lib\": \"https://cdn.jsdelivr.net/npm/vega-lib?noext\",\n",
       "      \"vega-lite\": \"https://cdn.jsdelivr.net/npm/vega-lite@5.17.0?noext\",\n",
       "      \"vega-embed\": \"https://cdn.jsdelivr.net/npm/vega-embed@6?noext\",\n",
       "    };\n",
       "\n",
       "    function maybeLoadScript(lib, version) {\n",
       "      var key = `${lib.replace(\"-\", \"\")}_version`;\n",
       "      return (VEGA_DEBUG[key] == version) ?\n",
       "        Promise.resolve(paths[lib]) :\n",
       "        new Promise(function(resolve, reject) {\n",
       "          var s = document.createElement('script');\n",
       "          document.getElementsByTagName(\"head\")[0].appendChild(s);\n",
       "          s.async = true;\n",
       "          s.onload = () => {\n",
       "            VEGA_DEBUG[key] = version;\n",
       "            return resolve(paths[lib]);\n",
       "          };\n",
       "          s.onerror = () => reject(`Error loading script: ${paths[lib]}`);\n",
       "          s.src = paths[lib];\n",
       "        });\n",
       "    }\n",
       "\n",
       "    function showError(err) {\n",
       "      outputDiv.innerHTML = `<div class=\"error\" style=\"color:red;\">${err}</div>`;\n",
       "      throw err;\n",
       "    }\n",
       "\n",
       "    function displayChart(vegaEmbed) {\n",
       "      vegaEmbed(outputDiv, spec, embedOpt)\n",
       "        .catch(err => showError(`Javascript Error: ${err.message}<br>This usually means there's a typo in your chart specification. See the javascript console for the full traceback.`));\n",
       "    }\n",
       "\n",
       "    if(typeof define === \"function\" && define.amd) {\n",
       "      requirejs.config({paths});\n",
       "      require([\"vega-embed\"], displayChart, err => showError(`Error loading script: ${err.message}`));\n",
       "    } else {\n",
       "      maybeLoadScript(\"vega\", \"5\")\n",
       "        .then(() => maybeLoadScript(\"vega-lite\", \"5.17.0\"))\n",
       "        .then(() => maybeLoadScript(\"vega-embed\", \"6\"))\n",
       "        .catch(showError)\n",
       "        .then(() => displayChart(vegaEmbed));\n",
       "    }\n",
       "  })({\"config\": {\"view\": {\"continuousWidth\": 300, \"continuousHeight\": 300}}, \"layer\": [{\"mark\": {\"type\": \"rect\"}, \"encoding\": {\"color\": {\"field\": \"Count\", \"type\": \"quantitative\"}, \"tooltip\": [{\"field\": \"True\", \"type\": \"ordinal\"}, {\"field\": \"Predicted\", \"type\": \"ordinal\"}, {\"field\": \"Count\", \"type\": \"quantitative\"}], \"x\": {\"field\": \"Predicted\", \"sort\": [\"Hate Speech\", \"Non Hatespeech\"], \"type\": \"ordinal\"}, \"y\": {\"field\": \"True\", \"sort\": [\"Hate Speech\", \"Non Hatespeech\"], \"type\": \"ordinal\"}}, \"title\": \"5 Stacking-3 SVM\"}, {\"mark\": {\"type\": \"text\", \"align\": \"center\", \"baseline\": \"middle\", \"fontSize\": 12}, \"encoding\": {\"color\": {\"condition\": {\"test\": \"(datum.Count > 493.5)\", \"value\": \"white\"}, \"value\": \"black\"}, \"text\": {\"field\": \"Count\", \"type\": \"quantitative\"}, \"tooltip\": [{\"field\": \"True\", \"type\": \"ordinal\"}, {\"field\": \"Predicted\", \"type\": \"ordinal\"}, {\"field\": \"Count\", \"type\": \"quantitative\"}], \"x\": {\"field\": \"Predicted\", \"sort\": [\"Hate Speech\", \"Non Hatespeech\"], \"type\": \"ordinal\"}, \"y\": {\"field\": \"True\", \"sort\": [\"Hate Speech\", \"Non Hatespeech\"], \"type\": \"ordinal\"}}, \"title\": \"5 Stacking-3 SVM\"}], \"data\": {\"name\": \"data-010c52edfd2079f09c0236dffc020b77\"}, \"height\": 300, \"width\": 400, \"$schema\": \"https://vega.github.io/schema/vega-lite/v5.17.0.json\", \"datasets\": {\"data-010c52edfd2079f09c0236dffc020b77\": [{\"True\": \"Hate Speech\", \"Predicted\": \"Hate Speech\", \"Count\": 0}, {\"True\": \"Non Hatespeech\", \"Predicted\": \"Hate Speech\", \"Count\": 0}, {\"True\": \"Hate Speech\", \"Predicted\": \"Non Hatespeech\", \"Count\": 987}, {\"True\": \"Non Hatespeech\", \"Predicted\": \"Non Hatespeech\", \"Count\": 860}]}}, {\"mode\": \"vega-lite\"});\n",
       "</script>"
      ],
      "text/plain": [
       "alt.LayerChart(...)"
      ]
     },
     "metadata": {},
     "output_type": "display_data"
    }
   ],
   "source": [
    "import altair as alt\n",
    "import altair_saver\n",
    "import pandas as pd\n",
    "from sklearn.metrics import confusion_matrix\n",
    "\n",
    "# Calculate the confusion matrix\n",
    "cm = confusion_matrix(true_labels, adjusted_predictions)\n",
    "\n",
    "# Define class names\n",
    "class_names = ['Hate Speech', 'Non Hatespeech']\n",
    "\n",
    "# Convert confusion matrix to DataFrame\n",
    "cm_df = pd.DataFrame(cm, index=class_names, columns=class_names).reset_index().melt(id_vars='index')\n",
    "cm_df.columns = ['True', 'Predicted', 'Count']\n",
    "\n",
    "# Ensure the order of categories\n",
    "cm_df['True'] = pd.Categorical(cm_df['True'], categories=class_names, ordered=True)\n",
    "cm_df['Predicted'] = pd.Categorical(cm_df['Predicted'], categories=class_names, ordered=True)\n",
    "\n",
    "# Create the Altair plot\n",
    "heatmap = alt.Chart(cm_df).mark_rect().encode(\n",
    "    x=alt.X('Predicted:O', sort=class_names),\n",
    "    y=alt.Y('True:O', sort=class_names),\n",
    "    color='Count:Q',\n",
    "    tooltip=['True', 'Predicted', 'Count']\n",
    ").properties(\n",
    "    width=400,\n",
    "    height=300,\n",
    "    title='5 Stacking-3 SVM'\n",
    ")\n",
    "\n",
    "# Add text labels\n",
    "text = heatmap.mark_text(\n",
    "    align='center',\n",
    "    baseline='middle',\n",
    "    fontSize=12\n",
    ").encode(\n",
    "    text='Count:Q',\n",
    "    color=alt.condition(\n",
    "        alt.datum.Count > cm.max() / 2,\n",
    "        alt.value('white'),\n",
    "        alt.value('black')\n",
    "    )\n",
    ")\n",
    "\n",
    "# Combine heatmap and text\n",
    "final_chart = heatmap + text\n",
    "\n",
    "# Display the plot\n",
    "final_chart.show()"
   ]
  },
  {
   "cell_type": "code",
   "execution_count": 52,
   "id": "b1af081d-9e59-4fcf-9828-9ed2e446dedb",
   "metadata": {
    "execution": {
     "iopub.execute_input": "2024-08-27T09:29:08.535349Z",
     "iopub.status.busy": "2024-08-27T09:29:08.535248Z",
     "iopub.status.idle": "2024-08-27T09:29:08.575801Z",
     "shell.execute_reply": "2024-08-27T09:29:08.575452Z",
     "shell.execute_reply.started": "2024-08-27T09:29:08.535338Z"
    }
   },
   "outputs": [
    {
     "name": "stdout",
     "output_type": "stream",
     "text": [
      "Plot saved to Results/Ensemble Model Results/On Hatespeech dataset/OH Using HS_Finetuned Models/Stacking/5STK-3 SVM.png\n"
     ]
    }
   ],
   "source": [
    "# Specify the folder path\n",
    "folder_path = os.path.expanduser('Results/Ensemble Model Results/On Hatespeech dataset/OH Using HS_Finetuned Models/Stacking/')\n",
    "\n",
    "# Save the plot using vl-convert\n",
    "file_path_png = os.path.join(folder_path, '5STK-3 SVM.png')\n",
    "final_chart.save(file_path_png)\n",
    "\n",
    "print(f\"Plot saved to {file_path_png}\")"
   ]
  }
 ],
 "metadata": {
  "kernelspec": {
   "display_name": "Python 3 (ipykernel)",
   "language": "python",
   "name": "python3"
  },
  "language_info": {
   "codemirror_mode": {
    "name": "ipython",
    "version": 3
   },
   "file_extension": ".py",
   "mimetype": "text/x-python",
   "name": "python",
   "nbconvert_exporter": "python",
   "pygments_lexer": "ipython3",
   "version": "3.10.14"
  }
 },
 "nbformat": 4,
 "nbformat_minor": 5
}
