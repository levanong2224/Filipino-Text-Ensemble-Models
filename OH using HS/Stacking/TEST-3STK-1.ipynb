{
 "cells": [
  {
   "cell_type": "markdown",
   "id": "1dc06b17-fcee-4505-bd74-d98376ce3ed9",
   "metadata": {},
   "source": [
    "# Train Stacking"
   ]
  },
  {
   "cell_type": "markdown",
   "id": "02c6a724-b17e-46f6-aee6-90ef2f7877a9",
   "metadata": {
    "execution": {
     "iopub.execute_input": "2024-08-13T15:08:53.465538Z",
     "iopub.status.busy": "2024-08-13T15:08:53.465321Z",
     "iopub.status.idle": "2024-08-13T15:08:53.469076Z",
     "shell.execute_reply": "2024-08-13T15:08:53.468592Z",
     "shell.execute_reply.started": "2024-08-13T15:08:53.465526Z"
    }
   },
   "source": [
    "Best F1 score BERT model on HS_C dataset are used"
   ]
  },
  {
   "cell_type": "code",
   "execution_count": 53,
   "id": "3823c3e6-976a-4eb9-a651-2cfeaa1a3cc0",
   "metadata": {
    "execution": {
     "iopub.execute_input": "2024-08-30T16:59:59.917877Z",
     "iopub.status.busy": "2024-08-30T16:59:59.917240Z",
     "iopub.status.idle": "2024-08-30T16:59:59.935045Z",
     "shell.execute_reply": "2024-08-30T16:59:59.934518Z",
     "shell.execute_reply.started": "2024-08-30T16:59:59.917845Z"
    }
   },
   "outputs": [],
   "source": [
    "# This automates data tabulation onto google sheets \n",
    "\n",
    "import gspread\n",
    "from oauth2client.service_account import ServiceAccountCredentials\n",
    "from googleapiclient.discovery import build\n",
    "\n",
    "import os\n",
    "\n",
    "# new directory path\n",
    "new_directory = '/Users/levan/ATENEO MASTERAL/Thesis'\n",
    "\n",
    "# Change the current working directory\n",
    "os.chdir(new_directory)\n",
    "\n",
    "# Use creds to create a client to interact with the Google Drive API\n",
    "scope = ['https://spreadsheets.google.com/feeds','https://www.googleapis.com/auth/drive']\n",
    "creds = ServiceAccountCredentials.from_json_keyfile_name('thesis-432315-12daec8d1ff6.json', scope)\n",
    "\n",
    "service = build('sheets', 'v4', credentials=creds)\n",
    "\n",
    "client = gspread.authorize(creds)\n",
    "\n",
    "spreadsheet_id = '1ReMgKOtkETAbtnnqkJy0eo4M2QfIq9fxtV-5ysZSdJ8' "
   ]
  },
  {
   "cell_type": "markdown",
   "id": "63d70bdb-0504-41ef-913d-e4b7f778f561",
   "metadata": {},
   "source": [
    "## Load Dataset"
   ]
  },
  {
   "cell_type": "code",
   "execution_count": 54,
   "id": "c7b193db-3f30-4e5f-a38b-c254bf1e1976",
   "metadata": {
    "execution": {
     "iopub.execute_input": "2024-08-30T17:00:00.366107Z",
     "iopub.status.busy": "2024-08-30T17:00:00.365615Z",
     "iopub.status.idle": "2024-08-30T17:00:00.393369Z",
     "shell.execute_reply": "2024-08-30T17:00:00.392788Z",
     "shell.execute_reply.started": "2024-08-30T17:00:00.366083Z"
    }
   },
   "outputs": [],
   "source": [
    "import pandas as pd\n",
    "import numpy as np\n",
    "from sklearn.model_selection import train_test_split, StratifiedKFold\n",
    "from transformers import BertTokenizer, BertForSequenceClassification, AutoConfig\n",
    "from transformers import AutoTokenizer, AutoModelForSequenceClassification\n",
    "from torch.utils.data import DataLoader, TensorDataset\n",
    "import torch\n",
    "import torch.nn.functional as F\n",
    "from torch.optim import AdamW\n",
    "\n",
    "from sklearn.linear_model import LogisticRegression\n",
    "from sklearn.tree import DecisionTreeClassifier\n",
    "from sklearn.naive_bayes import BernoulliNB\n",
    "from sklearn.naive_bayes import GaussianNB\n",
    "from sklearn.svm import LinearSVC\n",
    "from sklearn.svm import SVC\n",
    "\n",
    "from sklearn.metrics import accuracy_score, precision_score, recall_score, f1_score, confusion_matrix\n",
    "\n",
    "\n",
    "import os\n",
    "\n",
    "# new directory path\n",
    "new_directory = '/Users/levan/ATENEO MASTERAL/Thesis/Development'\n",
    "\n",
    "# Change the current working directory\n",
    "os.chdir(new_directory)\n",
    "\n",
    "# Adjust file paths to local system\n",
    "file_path = 'Corpus/data_b.csv'\n",
    "df = pd.read_csv(file_path)\n",
    "\n",
    "# Split the data\n",
    "train_df, test_df = train_test_split(df, test_size=0.3, random_state=42)"
   ]
  },
  {
   "cell_type": "markdown",
   "id": "a307e67b-00c3-47aa-8f83-34bc62c93f83",
   "metadata": {
    "execution": {
     "iopub.execute_input": "2024-04-11T10:08:58.783500Z",
     "iopub.status.busy": "2024-04-11T10:08:58.782872Z",
     "iopub.status.idle": "2024-04-11T10:08:58.788089Z",
     "shell.execute_reply": "2024-04-11T10:08:58.787147Z",
     "shell.execute_reply.started": "2024-04-11T10:08:58.783465Z"
    }
   },
   "source": [
    "## Load Models and Tokenizers"
   ]
  },
  {
   "cell_type": "code",
   "execution_count": 55,
   "id": "1e666f7e-9db0-4666-a112-2af127307162",
   "metadata": {
    "execution": {
     "iopub.execute_input": "2024-08-30T17:00:01.220212Z",
     "iopub.status.busy": "2024-08-30T17:00:01.219716Z",
     "iopub.status.idle": "2024-08-30T17:00:04.084945Z",
     "shell.execute_reply": "2024-08-30T17:00:04.084466Z",
     "shell.execute_reply.started": "2024-08-30T17:00:01.220188Z"
    }
   },
   "outputs": [],
   "source": [
    "def load_model_and_tokenizer(model_path, tokenizer_path, base_model):\n",
    "    # Load the tokenizer from the local directory\n",
    "    tokenizer = AutoTokenizer.from_pretrained(tokenizer_path)\n",
    "    \n",
    "    # Load the configuration from the base model, then update configuration if needed\n",
    "    config = AutoConfig.from_pretrained(base_model, num_labels=2)\n",
    "\n",
    "    # Initialize the model with the configuration\n",
    "    model = AutoModelForSequenceClassification.from_pretrained(model_path, config=config)\n",
    "\n",
    "    # Ensure the model is in evaluation mode\n",
    "    model.eval()\n",
    "    \n",
    "    return model, tokenizer\n",
    "\n",
    "model_info = {\n",
    "    \n",
    "    'BERT cased': {\n",
    "        'model_path': 'BERT models/hs_bert-base-cased-finetuned',\n",
    "        'tokenizer_path': 'BERT models/hs_bert-base-cased-finetuned',\n",
    "        'base_model': 'google-bert/bert-base-cased'\n",
    "    },\n",
    "\n",
    "    'DistilBERT uncased': {\n",
    "        'model_path': 'BERT models/hs_distilbert-base-uncased-finetuned',\n",
    "        'tokenizer_path': 'BERT models/hs_distilbert-base-uncased-finetuned',\n",
    "        'base_model': 'distilbert/distilbert-base-uncased'\n",
    "    },\n",
    "\n",
    "    'DeBERTa': {\n",
    "        'model_path': 'BERT models/hs_DeBERTa-finetuned',\n",
    "        'tokenizer_path': 'BERT models/hs_DeBERTa-finetuned',\n",
    "        'base_model': 'microsoft/deberta-v3-base'\n",
    "    },\n",
    "\n",
    "}\n",
    "\n",
    "\n",
    "models_and_tokenizers = {name: load_model_and_tokenizer(info['model_path'], \n",
    "                                                        info['tokenizer_path'], \n",
    "                                                        info['base_model']) \n",
    "                         for name, info in model_info.items()}"
   ]
  },
  {
   "cell_type": "markdown",
   "id": "a1a9b906-a837-4de8-b8a2-05aa44074c5c",
   "metadata": {},
   "source": [
    "## Apply Tokenization"
   ]
  },
  {
   "cell_type": "code",
   "execution_count": 56,
   "id": "be4981ce-3268-449d-9cb4-6ba780177756",
   "metadata": {
    "execution": {
     "iopub.execute_input": "2024-08-30T17:00:04.085835Z",
     "iopub.status.busy": "2024-08-30T17:00:04.085743Z",
     "iopub.status.idle": "2024-08-30T17:00:04.087880Z",
     "shell.execute_reply": "2024-08-30T17:00:04.087636Z",
     "shell.execute_reply.started": "2024-08-30T17:00:04.085826Z"
    }
   },
   "outputs": [],
   "source": [
    "def texts_to_dataloader(texts, tokenizer, batch_size=32):\n",
    "    device = torch.device(\"mps\" if torch.backends.mps.is_available() else \"cpu\")\n",
    "    encodings = tokenizer(texts, truncation=True, padding=True, max_length=512, return_tensors=\"pt\")\n",
    "    dataset = TensorDataset(encodings['input_ids'], encodings['attention_mask'])\n",
    "    dataloader = DataLoader(dataset, batch_size=batch_size)\n",
    "    return dataloader"
   ]
  },
  {
   "cell_type": "markdown",
   "id": "8d574483-f790-48ba-a7d0-07cc8f2973d4",
   "metadata": {},
   "source": [
    "## Perform Stacking"
   ]
  },
  {
   "cell_type": "code",
   "execution_count": 57,
   "id": "a75d7443-3e76-4be6-a329-0057da6af043",
   "metadata": {
    "execution": {
     "iopub.execute_input": "2024-08-30T17:00:04.088265Z",
     "iopub.status.busy": "2024-08-30T17:00:04.088193Z",
     "iopub.status.idle": "2024-08-30T17:00:04.089994Z",
     "shell.execute_reply": "2024-08-30T17:00:04.089752Z",
     "shell.execute_reply.started": "2024-08-30T17:00:04.088258Z"
    }
   },
   "outputs": [
    {
     "name": "stdout",
     "output_type": "stream",
     "text": [
      "The memory_profiler extension is already loaded. To reload it, use:\n",
      "  %reload_ext memory_profiler\n"
     ]
    }
   ],
   "source": [
    "%load_ext memory_profiler"
   ]
  },
  {
   "cell_type": "code",
   "execution_count": 58,
   "id": "89d13637-7546-4338-8e57-cde7377a7c97",
   "metadata": {
    "execution": {
     "iopub.execute_input": "2024-08-30T17:00:04.090759Z",
     "iopub.status.busy": "2024-08-30T17:00:04.090699Z",
     "iopub.status.idle": "2024-08-30T17:00:04.459700Z",
     "shell.execute_reply": "2024-08-30T17:00:04.459216Z",
     "shell.execute_reply.started": "2024-08-30T17:00:04.090754Z"
    }
   },
   "outputs": [
    {
     "name": "stdout",
     "output_type": "stream",
     "text": [
      "Processing BERT cased...\n"
     ]
    },
    {
     "ename": "ValueError",
     "evalue": "text input must be of type `str` (single example), `List[str]` (batch or single pretokenized example) or `List[List[str]]` (batch of pretokenized examples).",
     "output_type": "error",
     "traceback": [
      "\u001b[0;31m---------------------------------------------------------------------------\u001b[0m",
      "\u001b[0;31mValueError\u001b[0m                                Traceback (most recent call last)",
      "Cell \u001b[0;32mIn[58], line 66\u001b[0m\n\u001b[1;32m     64\u001b[0m \u001b[38;5;28;01mfrom\u001b[39;00m \u001b[38;5;21;01msklearn\u001b[39;00m\u001b[38;5;21;01m.\u001b[39;00m\u001b[38;5;21;01mmodel_selection\u001b[39;00m \u001b[38;5;28;01mimport\u001b[39;00m train_test_split\n\u001b[1;32m     65\u001b[0m train_df, test_df \u001b[38;5;241m=\u001b[39m train_test_split(df, test_size\u001b[38;5;241m=\u001b[39m\u001b[38;5;241m0.3\u001b[39m, random_state\u001b[38;5;241m=\u001b[39m\u001b[38;5;241m42\u001b[39m)\n\u001b[0;32m---> 66\u001b[0m final_predictions \u001b[38;5;241m=\u001b[39m \u001b[43mtrain_stacking_ensemble\u001b[49m\u001b[43m(\u001b[49m\u001b[43mmodels_and_tokenizers\u001b[49m\u001b[43m,\u001b[49m\u001b[43m \u001b[49m\u001b[43mtrain_df\u001b[49m\u001b[43m,\u001b[49m\u001b[43m \u001b[49m\u001b[43mtest_df\u001b[49m\u001b[43m)\u001b[49m\n\u001b[1;32m     68\u001b[0m accuracy \u001b[38;5;241m=\u001b[39m accuracy_score(test_df[\u001b[38;5;124m'\u001b[39m\u001b[38;5;124mlabel\u001b[39m\u001b[38;5;124m'\u001b[39m], final_predictions)\n\u001b[1;32m     69\u001b[0m \u001b[38;5;28mprint\u001b[39m(\u001b[38;5;124mf\u001b[39m\u001b[38;5;124m\"\u001b[39m\u001b[38;5;124mStacking Ensemble Accuracy: \u001b[39m\u001b[38;5;132;01m{\u001b[39;00maccuracy\u001b[38;5;132;01m}\u001b[39;00m\u001b[38;5;124m\"\u001b[39m)\n",
      "Cell \u001b[0;32mIn[58], line 32\u001b[0m, in \u001b[0;36mtrain_stacking_ensemble\u001b[0;34m(models_and_tokenizers, train_df, test_df, k)\u001b[0m\n\u001b[1;32m     30\u001b[0m \u001b[38;5;28;01mfor\u001b[39;00m idx, (name, (model, tokenizer)) \u001b[38;5;129;01min\u001b[39;00m \u001b[38;5;28menumerate\u001b[39m(models_and_tokenizers\u001b[38;5;241m.\u001b[39mitems()):\n\u001b[1;32m     31\u001b[0m     \u001b[38;5;28mprint\u001b[39m(\u001b[38;5;124mf\u001b[39m\u001b[38;5;124m\"\u001b[39m\u001b[38;5;124mProcessing \u001b[39m\u001b[38;5;132;01m{\u001b[39;00mname\u001b[38;5;132;01m}\u001b[39;00m\u001b[38;5;124m...\u001b[39m\u001b[38;5;124m\"\u001b[39m)\n\u001b[0;32m---> 32\u001b[0m     test_dataloader \u001b[38;5;241m=\u001b[39m \u001b[43mtexts_to_dataloader\u001b[49m\u001b[43m(\u001b[49m\u001b[43mX_test\u001b[49m\u001b[43m,\u001b[49m\u001b[43m \u001b[49m\u001b[43mtokenizer\u001b[49m\u001b[43m)\u001b[49m\n\u001b[1;32m     34\u001b[0m     fold_meta_features \u001b[38;5;241m=\u001b[39m np\u001b[38;5;241m.\u001b[39mzeros((X_test\u001b[38;5;241m.\u001b[39mshape[\u001b[38;5;241m0\u001b[39m], k))\n\u001b[1;32m     36\u001b[0m     \u001b[38;5;66;03m# Stratified K-Fold on training data\u001b[39;00m\n",
      "Cell \u001b[0;32mIn[56], line 3\u001b[0m, in \u001b[0;36mtexts_to_dataloader\u001b[0;34m(texts, tokenizer, batch_size)\u001b[0m\n\u001b[1;32m      1\u001b[0m \u001b[38;5;28;01mdef\u001b[39;00m \u001b[38;5;21mtexts_to_dataloader\u001b[39m(texts, tokenizer, batch_size\u001b[38;5;241m=\u001b[39m\u001b[38;5;241m32\u001b[39m):\n\u001b[1;32m      2\u001b[0m     device \u001b[38;5;241m=\u001b[39m torch\u001b[38;5;241m.\u001b[39mdevice(\u001b[38;5;124m\"\u001b[39m\u001b[38;5;124mmps\u001b[39m\u001b[38;5;124m\"\u001b[39m \u001b[38;5;28;01mif\u001b[39;00m torch\u001b[38;5;241m.\u001b[39mbackends\u001b[38;5;241m.\u001b[39mmps\u001b[38;5;241m.\u001b[39mis_available() \u001b[38;5;28;01melse\u001b[39;00m \u001b[38;5;124m\"\u001b[39m\u001b[38;5;124mcpu\u001b[39m\u001b[38;5;124m\"\u001b[39m)\n\u001b[0;32m----> 3\u001b[0m     encodings \u001b[38;5;241m=\u001b[39m \u001b[43mtokenizer\u001b[49m\u001b[43m(\u001b[49m\u001b[43mtexts\u001b[49m\u001b[43m,\u001b[49m\u001b[43m \u001b[49m\u001b[43mtruncation\u001b[49m\u001b[38;5;241;43m=\u001b[39;49m\u001b[38;5;28;43;01mTrue\u001b[39;49;00m\u001b[43m,\u001b[49m\u001b[43m \u001b[49m\u001b[43mpadding\u001b[49m\u001b[38;5;241;43m=\u001b[39;49m\u001b[38;5;28;43;01mTrue\u001b[39;49;00m\u001b[43m,\u001b[49m\u001b[43m \u001b[49m\u001b[43mmax_length\u001b[49m\u001b[38;5;241;43m=\u001b[39;49m\u001b[38;5;241;43m512\u001b[39;49m\u001b[43m,\u001b[49m\u001b[43m \u001b[49m\u001b[43mreturn_tensors\u001b[49m\u001b[38;5;241;43m=\u001b[39;49m\u001b[38;5;124;43m\"\u001b[39;49m\u001b[38;5;124;43mpt\u001b[39;49m\u001b[38;5;124;43m\"\u001b[39;49m\u001b[43m)\u001b[49m\n\u001b[1;32m      4\u001b[0m     dataset \u001b[38;5;241m=\u001b[39m TensorDataset(encodings[\u001b[38;5;124m'\u001b[39m\u001b[38;5;124minput_ids\u001b[39m\u001b[38;5;124m'\u001b[39m], encodings[\u001b[38;5;124m'\u001b[39m\u001b[38;5;124mattention_mask\u001b[39m\u001b[38;5;124m'\u001b[39m])\n\u001b[1;32m      5\u001b[0m     dataloader \u001b[38;5;241m=\u001b[39m DataLoader(dataset, batch_size\u001b[38;5;241m=\u001b[39mbatch_size)\n",
      "File \u001b[0;32m/opt/anaconda3/envs/thesis/lib/python3.10/site-packages/transformers/tokenization_utils_base.py:2872\u001b[0m, in \u001b[0;36mPreTrainedTokenizerBase.__call__\u001b[0;34m(self, text, text_pair, text_target, text_pair_target, add_special_tokens, padding, truncation, max_length, stride, is_split_into_words, pad_to_multiple_of, return_tensors, return_token_type_ids, return_attention_mask, return_overflowing_tokens, return_special_tokens_mask, return_offsets_mapping, return_length, verbose, **kwargs)\u001b[0m\n\u001b[1;32m   2870\u001b[0m     \u001b[38;5;28;01mif\u001b[39;00m \u001b[38;5;129;01mnot\u001b[39;00m \u001b[38;5;28mself\u001b[39m\u001b[38;5;241m.\u001b[39m_in_target_context_manager:\n\u001b[1;32m   2871\u001b[0m         \u001b[38;5;28mself\u001b[39m\u001b[38;5;241m.\u001b[39m_switch_to_input_mode()\n\u001b[0;32m-> 2872\u001b[0m     encodings \u001b[38;5;241m=\u001b[39m \u001b[38;5;28;43mself\u001b[39;49m\u001b[38;5;241;43m.\u001b[39;49m\u001b[43m_call_one\u001b[49m\u001b[43m(\u001b[49m\u001b[43mtext\u001b[49m\u001b[38;5;241;43m=\u001b[39;49m\u001b[43mtext\u001b[49m\u001b[43m,\u001b[49m\u001b[43m \u001b[49m\u001b[43mtext_pair\u001b[49m\u001b[38;5;241;43m=\u001b[39;49m\u001b[43mtext_pair\u001b[49m\u001b[43m,\u001b[49m\u001b[43m \u001b[49m\u001b[38;5;241;43m*\u001b[39;49m\u001b[38;5;241;43m*\u001b[39;49m\u001b[43mall_kwargs\u001b[49m\u001b[43m)\u001b[49m\n\u001b[1;32m   2873\u001b[0m \u001b[38;5;28;01mif\u001b[39;00m text_target \u001b[38;5;129;01mis\u001b[39;00m \u001b[38;5;129;01mnot\u001b[39;00m \u001b[38;5;28;01mNone\u001b[39;00m:\n\u001b[1;32m   2874\u001b[0m     \u001b[38;5;28mself\u001b[39m\u001b[38;5;241m.\u001b[39m_switch_to_target_mode()\n",
      "File \u001b[0;32m/opt/anaconda3/envs/thesis/lib/python3.10/site-packages/transformers/tokenization_utils_base.py:2930\u001b[0m, in \u001b[0;36mPreTrainedTokenizerBase._call_one\u001b[0;34m(self, text, text_pair, add_special_tokens, padding, truncation, max_length, stride, is_split_into_words, pad_to_multiple_of, return_tensors, return_token_type_ids, return_attention_mask, return_overflowing_tokens, return_special_tokens_mask, return_offsets_mapping, return_length, verbose, **kwargs)\u001b[0m\n\u001b[1;32m   2927\u001b[0m         \u001b[38;5;28;01mreturn\u001b[39;00m \u001b[38;5;28;01mFalse\u001b[39;00m\n\u001b[1;32m   2929\u001b[0m \u001b[38;5;28;01mif\u001b[39;00m \u001b[38;5;129;01mnot\u001b[39;00m _is_valid_text_input(text):\n\u001b[0;32m-> 2930\u001b[0m     \u001b[38;5;28;01mraise\u001b[39;00m \u001b[38;5;167;01mValueError\u001b[39;00m(\n\u001b[1;32m   2931\u001b[0m         \u001b[38;5;124m\"\u001b[39m\u001b[38;5;124mtext input must be of type `str` (single example), `List[str]` (batch or single pretokenized example) \u001b[39m\u001b[38;5;124m\"\u001b[39m\n\u001b[1;32m   2932\u001b[0m         \u001b[38;5;124m\"\u001b[39m\u001b[38;5;124mor `List[List[str]]` (batch of pretokenized examples).\u001b[39m\u001b[38;5;124m\"\u001b[39m\n\u001b[1;32m   2933\u001b[0m     )\n\u001b[1;32m   2935\u001b[0m \u001b[38;5;28;01mif\u001b[39;00m text_pair \u001b[38;5;129;01mis\u001b[39;00m \u001b[38;5;129;01mnot\u001b[39;00m \u001b[38;5;28;01mNone\u001b[39;00m \u001b[38;5;129;01mand\u001b[39;00m \u001b[38;5;129;01mnot\u001b[39;00m _is_valid_text_input(text_pair):\n\u001b[1;32m   2936\u001b[0m     \u001b[38;5;28;01mraise\u001b[39;00m \u001b[38;5;167;01mValueError\u001b[39;00m(\n\u001b[1;32m   2937\u001b[0m         \u001b[38;5;124m\"\u001b[39m\u001b[38;5;124mtext input must be of type `str` (single example), `List[str]` (batch or single pretokenized example) \u001b[39m\u001b[38;5;124m\"\u001b[39m\n\u001b[1;32m   2938\u001b[0m         \u001b[38;5;124m\"\u001b[39m\u001b[38;5;124mor `List[List[str]]` (batch of pretokenized examples).\u001b[39m\u001b[38;5;124m\"\u001b[39m\n\u001b[1;32m   2939\u001b[0m     )\n",
      "\u001b[0;31mValueError\u001b[0m: text input must be of type `str` (single example), `List[str]` (batch or single pretokenized example) or `List[List[str]]` (batch of pretokenized examples)."
     ]
    }
   ],
   "source": [
    "def predict_with_model(model, dataloader):\n",
    "    device = torch.device(\"mps\" if torch.backends.mps.is_available() else \"cpu\")\n",
    "    model.to(device)\n",
    "    model.eval()\n",
    "    predictions = []\n",
    "    with torch.no_grad():\n",
    "        for batch in dataloader:\n",
    "            input_ids, attention_mask = batch\n",
    "            input_ids = input_ids.to(device)\n",
    "            attention_mask = attention_mask.to(device)\n",
    "            outputs = model(input_ids, attention_mask=attention_mask)\n",
    "            logits = outputs.logits\n",
    "            preds = torch.softmax(logits, dim=-1)[:, 1].cpu().numpy()  # Get the probability of class 1\n",
    "            predictions.extend(preds)\n",
    "    return np.array(predictions)\n",
    "\n",
    "\n",
    "def train_stacking_ensemble(models_and_tokenizers, train_df, test_df, k=4):\n",
    "    X_train = train_df['text'].values\n",
    "    y_train = train_df['label'].values\n",
    "    X_test = test_df['text'].values\n",
    "    \n",
    "    # Initialize meta features\n",
    "    meta_features_train = np.zeros((X_train.shape[0], len(models_and_tokenizers)))\n",
    "    meta_features_test = np.zeros((X_test.shape[0], len(models_and_tokenizers)))\n",
    "\n",
    "    skf = StratifiedKFold(n_splits=k, shuffle=True, random_state=42)\n",
    "\n",
    "    # Loop over each base model\n",
    "    for idx, (name, (model, tokenizer)) in enumerate(models_and_tokenizers.items()):\n",
    "        print(f\"Processing {name}...\")\n",
    "        test_dataloader = texts_to_dataloader(X_test, tokenizer)\n",
    "\n",
    "        fold_meta_features = np.zeros((X_test.shape[0], k))\n",
    "\n",
    "        # Stratified K-Fold on training data\n",
    "        for fold, (train_index, val_index) in enumerate(skf.split(X_train, y_train)):\n",
    "            print(f\" Fold {fold+1}/{k}\")\n",
    "            X_train_fold, X_val_fold = X_train[train_index], X_train[val_index]\n",
    "            train_dataloader = texts_to_dataloader(X_train_fold, tokenizer)\n",
    "            val_dataloader = texts_to_dataloader(X_val_fold, tokenizer)\n",
    "\n",
    "            # Predict validation fold and test data\n",
    "            val_preds = predict_with_model(model, val_dataloader)\n",
    "            test_preds = predict_with_model(model, test_dataloader)\n",
    "            fold_meta_features[:, fold] = test_preds\n",
    "\n",
    "            # Store meta features for this fold\n",
    "            meta_features_train[val_index, idx] = val_preds\n",
    "        \n",
    "        # Average predictions over folds for test meta features\n",
    "        meta_features_test[:, idx] = fold_meta_features.mean(axis=1)\n",
    "\n",
    "    # Train logistic regression meta-classifier\n",
    "    meta_model = LogisticRegression()\n",
    "    meta_model.fit(meta_features_train, y_train)\n",
    "    \n",
    "    # Predict using meta-model on test meta features\n",
    "    final_predictions = meta_model.predict(meta_features_test)\n",
    "    return final_predictions\n",
    "\n",
    "# Split and preprocess your data before calling the function\n",
    "# Assuming df is your dataset with columns 'text' and 'label'\n",
    "from sklearn.model_selection import train_test_split\n",
    "train_df, test_df = train_test_split(df, test_size=0.3, random_state=42)\n",
    "final_predictions = train_stacking_ensemble(models_and_tokenizers, train_df, test_df)\n",
    "\n",
    "accuracy = accuracy_score(test_df['label'], final_predictions)\n",
    "print(f\"Stacking Ensemble Accuracy: {accuracy}\")\n"
   ]
  },
  {
   "cell_type": "markdown",
   "id": "3f4add97-1099-4447-aa88-e4cfbff99e10",
   "metadata": {},
   "source": [
    "### Train LR"
   ]
  },
  {
   "cell_type": "code",
   "execution_count": 7,
   "id": "66cb131a-a14d-4bf5-9508-59951ea5deb1",
   "metadata": {
    "execution": {
     "iopub.execute_input": "2024-08-30T16:53:00.580277Z",
     "iopub.status.busy": "2024-08-30T16:53:00.580185Z",
     "iopub.status.idle": "2024-08-30T16:53:02.324898Z",
     "shell.execute_reply": "2024-08-30T16:53:02.324044Z",
     "shell.execute_reply.started": "2024-08-30T16:53:00.580270Z"
    }
   },
   "outputs": [
    {
     "name": "stderr",
     "output_type": "stream",
     "text": [
      "huggingface/tokenizers: The current process just got forked, after parallelism has already been used. Disabling parallelism to avoid deadlocks...\n",
      "To disable this warning, you can either:\n",
      "\t- Avoid using `tokenizers` before the fork if possible\n",
      "\t- Explicitly set the environment variable TOKENIZERS_PARALLELISM=(true | false)\n",
      "huggingface/tokenizers: The current process just got forked, after parallelism has already been used. Disabling parallelism to avoid deadlocks...\n",
      "To disable this warning, you can either:\n",
      "\t- Avoid using `tokenizers` before the fork if possible\n",
      "\t- Explicitly set the environment variable TOKENIZERS_PARALLELISM=(true | false)\n",
      "huggingface/tokenizers: The current process just got forked, after parallelism has already been used. Disabling parallelism to avoid deadlocks...\n",
      "To disable this warning, you can either:\n",
      "\t- Avoid using `tokenizers` before the fork if possible\n",
      "\t- Explicitly set the environment variable TOKENIZERS_PARALLELISM=(true | false)\n",
      "huggingface/tokenizers: The current process just got forked, after parallelism has already been used. Disabling parallelism to avoid deadlocks...\n",
      "To disable this warning, you can either:\n",
      "\t- Avoid using `tokenizers` before the fork if possible\n",
      "\t- Explicitly set the environment variable TOKENIZERS_PARALLELISM=(true | false)\n",
      "huggingface/tokenizers: The current process just got forked, after parallelism has already been used. Disabling parallelism to avoid deadlocks...\n",
      "To disable this warning, you can either:\n",
      "\t- Avoid using `tokenizers` before the fork if possible\n",
      "\t- Explicitly set the environment variable TOKENIZERS_PARALLELISM=(true | false)\n",
      "huggingface/tokenizers: The current process just got forked, after parallelism has already been used. Disabling parallelism to avoid deadlocks...\n",
      "To disable this warning, you can either:\n",
      "\t- Avoid using `tokenizers` before the fork if possible\n",
      "\t- Explicitly set the environment variable TOKENIZERS_PARALLELISM=(true | false)\n",
      "huggingface/tokenizers: The current process just got forked, after parallelism has already been used. Disabling parallelism to avoid deadlocks...\n",
      "To disable this warning, you can either:\n",
      "\t- Avoid using `tokenizers` before the fork if possible\n",
      "\t- Explicitly set the environment variable TOKENIZERS_PARALLELISM=(true | false)\n",
      "huggingface/tokenizers: The current process just got forked, after parallelism has already been used. Disabling parallelism to avoid deadlocks...\n",
      "To disable this warning, you can either:\n",
      "\t- Avoid using `tokenizers` before the fork if possible\n",
      "\t- Explicitly set the environment variable TOKENIZERS_PARALLELISM=(true | false)\n"
     ]
    },
    {
     "name": "stdout",
     "output_type": "stream",
     "text": [
      "peak memory: 2879.59 MiB, increment: -0.27 MiB\n"
     ]
    }
   ],
   "source": [
    "%memit\n",
    "# Train the LR meta-classifier\n",
    "lr_meta_classifier = LogisticRegression()\n",
    "lr_meta_classifier.fit(train_meta_features, train_df['label'].values)\n",
    "\n",
    "lr_final_predictions = lr_meta_classifier.predict(test_meta_features)"
   ]
  },
  {
   "cell_type": "markdown",
   "id": "4aa369d0-24ed-448a-be71-a88956188cb5",
   "metadata": {},
   "source": [
    "### Train NB"
   ]
  },
  {
   "cell_type": "code",
   "execution_count": 8,
   "id": "3ba1d864-f4eb-426a-92fb-5a88061d87c5",
   "metadata": {
    "execution": {
     "iopub.execute_input": "2024-08-30T16:53:02.326375Z",
     "iopub.status.busy": "2024-08-30T16:53:02.326083Z",
     "iopub.status.idle": "2024-08-30T16:53:03.822886Z",
     "shell.execute_reply": "2024-08-30T16:53:03.822549Z",
     "shell.execute_reply.started": "2024-08-30T16:53:02.326355Z"
    }
   },
   "outputs": [
    {
     "name": "stderr",
     "output_type": "stream",
     "text": [
      "huggingface/tokenizers: The current process just got forked, after parallelism has already been used. Disabling parallelism to avoid deadlocks...\n",
      "To disable this warning, you can either:\n",
      "\t- Avoid using `tokenizers` before the fork if possible\n",
      "\t- Explicitly set the environment variable TOKENIZERS_PARALLELISM=(true | false)\n",
      "huggingface/tokenizers: The current process just got forked, after parallelism has already been used. Disabling parallelism to avoid deadlocks...\n",
      "To disable this warning, you can either:\n",
      "\t- Avoid using `tokenizers` before the fork if possible\n",
      "\t- Explicitly set the environment variable TOKENIZERS_PARALLELISM=(true | false)\n",
      "huggingface/tokenizers: The current process just got forked, after parallelism has already been used. Disabling parallelism to avoid deadlocks...\n",
      "To disable this warning, you can either:\n",
      "\t- Avoid using `tokenizers` before the fork if possible\n",
      "\t- Explicitly set the environment variable TOKENIZERS_PARALLELISM=(true | false)\n",
      "huggingface/tokenizers: The current process just got forked, after parallelism has already been used. Disabling parallelism to avoid deadlocks...\n",
      "To disable this warning, you can either:\n",
      "\t- Avoid using `tokenizers` before the fork if possible\n",
      "\t- Explicitly set the environment variable TOKENIZERS_PARALLELISM=(true | false)\n",
      "huggingface/tokenizers: The current process just got forked, after parallelism has already been used. Disabling parallelism to avoid deadlocks...\n",
      "To disable this warning, you can either:\n",
      "\t- Avoid using `tokenizers` before the fork if possible\n",
      "\t- Explicitly set the environment variable TOKENIZERS_PARALLELISM=(true | false)\n",
      "huggingface/tokenizers: The current process just got forked, after parallelism has already been used. Disabling parallelism to avoid deadlocks...\n",
      "To disable this warning, you can either:\n",
      "\t- Avoid using `tokenizers` before the fork if possible\n",
      "\t- Explicitly set the environment variable TOKENIZERS_PARALLELISM=(true | false)\n",
      "huggingface/tokenizers: The current process just got forked, after parallelism has already been used. Disabling parallelism to avoid deadlocks...\n",
      "To disable this warning, you can either:\n",
      "\t- Avoid using `tokenizers` before the fork if possible\n",
      "\t- Explicitly set the environment variable TOKENIZERS_PARALLELISM=(true | false)\n"
     ]
    },
    {
     "name": "stdout",
     "output_type": "stream",
     "text": [
      "peak memory: 2880.20 MiB, increment: -0.20 MiB\n"
     ]
    }
   ],
   "source": [
    "%memit\n",
    "# Train the NB meta-classifier\n",
    "nb_meta_classifier = GaussianNB()\n",
    "nb_meta_classifier.fit(train_meta_features, train_df['label'].values)\n",
    "\n",
    "nb_final_predictions = nb_meta_classifier.predict(test_meta_features)"
   ]
  },
  {
   "cell_type": "markdown",
   "id": "8027b313-ee9e-4799-8b8c-01280f99815c",
   "metadata": {},
   "source": [
    "### Train DT"
   ]
  },
  {
   "cell_type": "code",
   "execution_count": 9,
   "id": "301edb53-18a6-41bc-ab03-f1c714a4ae0b",
   "metadata": {
    "execution": {
     "iopub.execute_input": "2024-08-30T16:53:03.823652Z",
     "iopub.status.busy": "2024-08-30T16:53:03.823554Z",
     "iopub.status.idle": "2024-08-30T16:53:05.377075Z",
     "shell.execute_reply": "2024-08-30T16:53:05.376701Z",
     "shell.execute_reply.started": "2024-08-30T16:53:03.823644Z"
    }
   },
   "outputs": [
    {
     "name": "stderr",
     "output_type": "stream",
     "text": [
      "huggingface/tokenizers: The current process just got forked, after parallelism has already been used. Disabling parallelism to avoid deadlocks...\n",
      "To disable this warning, you can either:\n",
      "\t- Avoid using `tokenizers` before the fork if possible\n",
      "\t- Explicitly set the environment variable TOKENIZERS_PARALLELISM=(true | false)\n",
      "huggingface/tokenizers: The current process just got forked, after parallelism has already been used. Disabling parallelism to avoid deadlocks...\n",
      "To disable this warning, you can either:\n",
      "\t- Avoid using `tokenizers` before the fork if possible\n",
      "\t- Explicitly set the environment variable TOKENIZERS_PARALLELISM=(true | false)\n",
      "huggingface/tokenizers: The current process just got forked, after parallelism has already been used. Disabling parallelism to avoid deadlocks...\n",
      "To disable this warning, you can either:\n",
      "\t- Avoid using `tokenizers` before the fork if possible\n",
      "\t- Explicitly set the environment variable TOKENIZERS_PARALLELISM=(true | false)\n",
      "huggingface/tokenizers: The current process just got forked, after parallelism has already been used. Disabling parallelism to avoid deadlocks...\n",
      "To disable this warning, you can either:\n",
      "\t- Avoid using `tokenizers` before the fork if possible\n",
      "\t- Explicitly set the environment variable TOKENIZERS_PARALLELISM=(true | false)\n",
      "huggingface/tokenizers: The current process just got forked, after parallelism has already been used. Disabling parallelism to avoid deadlocks...\n",
      "To disable this warning, you can either:\n",
      "\t- Avoid using `tokenizers` before the fork if possible\n",
      "\t- Explicitly set the environment variable TOKENIZERS_PARALLELISM=(true | false)\n",
      "huggingface/tokenizers: The current process just got forked, after parallelism has already been used. Disabling parallelism to avoid deadlocks...\n",
      "To disable this warning, you can either:\n",
      "\t- Avoid using `tokenizers` before the fork if possible\n",
      "\t- Explicitly set the environment variable TOKENIZERS_PARALLELISM=(true | false)\n",
      "huggingface/tokenizers: The current process just got forked, after parallelism has already been used. Disabling parallelism to avoid deadlocks...\n",
      "To disable this warning, you can either:\n",
      "\t- Avoid using `tokenizers` before the fork if possible\n",
      "\t- Explicitly set the environment variable TOKENIZERS_PARALLELISM=(true | false)\n"
     ]
    },
    {
     "name": "stdout",
     "output_type": "stream",
     "text": [
      "peak memory: 2880.22 MiB, increment: 0.00 MiB\n"
     ]
    }
   ],
   "source": [
    "%memit\n",
    "# Train the DT meta-classifier\n",
    "dt_meta_classifier = DecisionTreeClassifier(max_depth=None)  \n",
    "dt_meta_classifier.fit(train_meta_features, train_df['label'].values)\n",
    "\n",
    "dt_final_predictions = dt_meta_classifier.predict(test_meta_features)"
   ]
  },
  {
   "cell_type": "markdown",
   "id": "da9904b9-f678-4a2a-b8a5-6e4af9d5b8e1",
   "metadata": {},
   "source": [
    "### Train SVM"
   ]
  },
  {
   "cell_type": "code",
   "execution_count": 10,
   "id": "87e4db68-5d39-4459-8e47-b1ed2033f743",
   "metadata": {
    "execution": {
     "iopub.execute_input": "2024-08-30T16:53:05.377778Z",
     "iopub.status.busy": "2024-08-30T16:53:05.377688Z",
     "iopub.status.idle": "2024-08-30T16:53:07.975591Z",
     "shell.execute_reply": "2024-08-30T16:53:07.975255Z",
     "shell.execute_reply.started": "2024-08-30T16:53:05.377770Z"
    }
   },
   "outputs": [
    {
     "name": "stderr",
     "output_type": "stream",
     "text": [
      "huggingface/tokenizers: The current process just got forked, after parallelism has already been used. Disabling parallelism to avoid deadlocks...\n",
      "To disable this warning, you can either:\n",
      "\t- Avoid using `tokenizers` before the fork if possible\n",
      "\t- Explicitly set the environment variable TOKENIZERS_PARALLELISM=(true | false)\n",
      "huggingface/tokenizers: The current process just got forked, after parallelism has already been used. Disabling parallelism to avoid deadlocks...\n",
      "To disable this warning, you can either:\n",
      "\t- Avoid using `tokenizers` before the fork if possible\n",
      "\t- Explicitly set the environment variable TOKENIZERS_PARALLELISM=(true | false)\n",
      "huggingface/tokenizers: The current process just got forked, after parallelism has already been used. Disabling parallelism to avoid deadlocks...\n",
      "To disable this warning, you can either:\n",
      "\t- Avoid using `tokenizers` before the fork if possible\n",
      "\t- Explicitly set the environment variable TOKENIZERS_PARALLELISM=(true | false)\n",
      "huggingface/tokenizers: The current process just got forked, after parallelism has already been used. Disabling parallelism to avoid deadlocks...\n",
      "To disable this warning, you can either:\n",
      "\t- Avoid using `tokenizers` before the fork if possible\n",
      "\t- Explicitly set the environment variable TOKENIZERS_PARALLELISM=(true | false)\n",
      "huggingface/tokenizers: The current process just got forked, after parallelism has already been used. Disabling parallelism to avoid deadlocks...\n",
      "To disable this warning, you can either:\n",
      "\t- Avoid using `tokenizers` before the fork if possible\n",
      "\t- Explicitly set the environment variable TOKENIZERS_PARALLELISM=(true | false)\n",
      "huggingface/tokenizers: The current process just got forked, after parallelism has already been used. Disabling parallelism to avoid deadlocks...\n",
      "To disable this warning, you can either:\n",
      "\t- Avoid using `tokenizers` before the fork if possible\n",
      "\t- Explicitly set the environment variable TOKENIZERS_PARALLELISM=(true | false)\n",
      "huggingface/tokenizers: The current process just got forked, after parallelism has already been used. Disabling parallelism to avoid deadlocks...\n",
      "To disable this warning, you can either:\n",
      "\t- Avoid using `tokenizers` before the fork if possible\n",
      "\t- Explicitly set the environment variable TOKENIZERS_PARALLELISM=(true | false)\n"
     ]
    },
    {
     "name": "stdout",
     "output_type": "stream",
     "text": [
      "peak memory: 2880.41 MiB, increment: 0.00 MiB\n"
     ]
    }
   ],
   "source": [
    "%memit\n",
    "# Train the SVM meta-classifier\n",
    "svm_meta_classifier = SVC(kernel='linear', probability=True)\n",
    "svm_meta_classifier.fit(train_meta_features, train_df['label'].values)\n",
    "\n",
    "svm_final_predictions = svm_meta_classifier.predict(test_meta_features)"
   ]
  },
  {
   "cell_type": "markdown",
   "id": "a902e13a-e9ad-4e5c-8bde-97119c5ebc88",
   "metadata": {},
   "source": [
    "## Evaluate Models"
   ]
  },
  {
   "cell_type": "markdown",
   "id": "6f1dd5cf-d1fd-4837-80b6-01641a4a4823",
   "metadata": {},
   "source": [
    "### LR"
   ]
  },
  {
   "cell_type": "code",
   "execution_count": 11,
   "id": "20019879-4510-487b-b378-92b49756d548",
   "metadata": {
    "execution": {
     "iopub.execute_input": "2024-08-30T16:53:07.976367Z",
     "iopub.status.busy": "2024-08-30T16:53:07.976279Z",
     "iopub.status.idle": "2024-08-30T16:53:07.983856Z",
     "shell.execute_reply": "2024-08-30T16:53:07.983539Z",
     "shell.execute_reply.started": "2024-08-30T16:53:07.976359Z"
    },
    "scrolled": true
   },
   "outputs": [
    {
     "name": "stdout",
     "output_type": "stream",
     "text": [
      "Logistic Regression\n",
      "Precision: 0.6\n",
      "Recall: 0.007874015748031496\n",
      "Ensemble accuracy: 0.542719614921781\n",
      "F1 Score: 0.015544041450777202\n",
      "Confusion Matrix:\n",
      "[[1344    6]\n",
      " [1134    9]]\n"
     ]
    }
   ],
   "source": [
    "# Evaluate\n",
    "precision = precision_score(test_df['label'].values, lr_final_predictions, average='binary')\n",
    "recall = recall_score(test_df['label'].values, lr_final_predictions, average='binary')\n",
    "accuracy = accuracy_score(test_df['label'].values, lr_final_predictions)\n",
    "f1 = f1_score(test_df['label'].values, lr_final_predictions, average='binary')\n",
    "conf_matrix = confusion_matrix(test_df['label'].values, lr_final_predictions)\n",
    "\n",
    "print(\"Logistic Regression\")\n",
    "print(f\"Precision: {precision}\")\n",
    "print(f\"Recall: {recall}\")\n",
    "print(f\"Ensemble accuracy: {accuracy}\")\n",
    "print(f\"F1 Score: {f1}\")\n",
    "print(\"Confusion Matrix:\")\n",
    "print(conf_matrix)\n"
   ]
  },
  {
   "cell_type": "code",
   "execution_count": 12,
   "id": "84961822-cbf5-45f7-8f4c-3e4a1c191394",
   "metadata": {
    "execution": {
     "iopub.execute_input": "2024-08-30T16:53:07.984445Z",
     "iopub.status.busy": "2024-08-30T16:53:07.984370Z",
     "iopub.status.idle": "2024-08-30T16:53:08.295739Z",
     "shell.execute_reply": "2024-08-30T16:53:08.295348Z",
     "shell.execute_reply.started": "2024-08-30T16:53:07.984439Z"
    }
   },
   "outputs": [
    {
     "data": {
      "image/png": "[encoded data removed]",
      "text/plain": [
       "<Figure size 640x480 with 1 Axes>"
      ]
     },
     "metadata": {},
     "output_type": "display_data"
    }
   ],
   "source": [
    "# Get probability scores for the positive class\n",
    "lr_prob_scores = lr_meta_classifier.predict_proba(test_meta_features)[:, 1]\n",
    "\n",
    "import matplotlib.pyplot as plt\n",
    "\n",
    "# Plot the distribution of predicted probabilities\n",
    "plt.hist(lr_prob_scores, bins=50, alpha=0.75)\n",
    "plt.title('Distribution of Predicted Probabilities (LR)')\n",
    "plt.xlabel('Probability of Positive Class')\n",
    "plt.ylabel('Frequency')\n",
    "plt.show()\n"
   ]
  },
  {
   "cell_type": "code",
   "execution_count": 13,
   "id": "56a05e9b-f28f-4f01-98b7-c62f675d5046",
   "metadata": {
    "execution": {
     "iopub.execute_input": "2024-08-30T16:53:08.296259Z",
     "iopub.status.busy": "2024-08-30T16:53:08.296154Z",
     "iopub.status.idle": "2024-08-30T16:53:08.388755Z",
     "shell.execute_reply": "2024-08-30T16:53:08.388422Z",
     "shell.execute_reply.started": "2024-08-30T16:53:08.296251Z"
    }
   },
   "outputs": [
    {
     "name": "stdout",
     "output_type": "stream",
     "text": [
      "Adjusted threshold: 0.01\n",
      "Optimized Logistic Regression\n",
      "Precision: 0.8265957446808511\n",
      "Recall: 0.6797900262467191\n",
      "Accuracy: 0.7878058563979141\n",
      "F1 Score: 0.7460393662986078\n",
      "Confusion Matrix:\n",
      "[[1187  163]\n",
      " [ 366  777]]\n"
     ]
    }
   ],
   "source": [
    "# Determine a new threshold\n",
    "thresholds = np.linspace(0.01, 0.99, 99)\n",
    "scores = [f1_score(test_df['label'], lr_prob_scores >= t, average='binary') for t in thresholds]\n",
    "best_thresh = thresholds[np.argmax(scores)]\n",
    "\n",
    "# Apply the new threshold\n",
    "adjusted_predictions = (lr_prob_scores >= best_thresh).astype(int)\n",
    "\n",
    "# Evaluate with the new threshold\n",
    "adjusted_precision = precision_score(test_df['label'], adjusted_predictions, average='binary')\n",
    "adjusted_recall = recall_score(test_df['label'], adjusted_predictions, average='binary')\n",
    "adjusted_accuracy = accuracy_score(test_df['label'], adjusted_predictions)\n",
    "adjusted_f1 = f1_score(test_df['label'], adjusted_predictions, average='binary')\n",
    "adjusted_conf_matrix = confusion_matrix(test_df['label'], adjusted_predictions)\n",
    "\n",
    "print(f\"Adjusted threshold: {best_thresh}\")\n",
    "print(\"Optimized Logistic Regression\")\n",
    "print(f\"Precision: {adjusted_precision}\")\n",
    "print(f\"Recall: {adjusted_recall}\")\n",
    "print(f\"Accuracy: {adjusted_accuracy}\")\n",
    "print(f\"F1 Score: {adjusted_f1}\")\n",
    "print(\"Confusion Matrix:\")\n",
    "print(adjusted_conf_matrix)\n",
    "\n",
    "lr_thresh = best_thresh"
   ]
  },
  {
   "cell_type": "code",
   "execution_count": 14,
   "id": "d7463088-74c0-4537-ad39-4ba3435e4428",
   "metadata": {
    "execution": {
     "iopub.execute_input": "2024-08-30T16:53:08.389368Z",
     "iopub.status.busy": "2024-08-30T16:53:08.389293Z",
     "iopub.status.idle": "2024-08-30T16:53:09.569767Z",
     "shell.execute_reply": "2024-08-30T16:53:09.567858Z",
     "shell.execute_reply.started": "2024-08-30T16:53:08.389361Z"
    }
   },
   "outputs": [
    {
     "name": "stdout",
     "output_type": "stream",
     "text": [
      "Updated cells count: 4\n"
     ]
    }
   ],
   "source": [
    "# SAVE TO GOOGLE SHEET\n",
    "\n",
    "# Define the range and values to update\n",
    "range_name = '3-1!B4:E4'  \n",
    "\n",
    "values = [[\n",
    "    f\"{adjusted_precision * 100:.2f}\",\n",
    "    f\"{adjusted_recall * 100:.2f}\",\n",
    "    f\"{adjusted_accuracy * 100:.2f}\",\n",
    "    f\"{adjusted_f1 * 100:.2f}\"\n",
    "]]\n",
    "\n",
    "# Prepare the request body\n",
    "body = {\n",
    "    'values': values\n",
    "}\n",
    "\n",
    "# Call the Sheets API to update the values\n",
    "result = service.spreadsheets().values().update(\n",
    "    spreadsheetId=spreadsheet_id, \n",
    "    range=range_name,\n",
    "    valueInputOption='USER_ENTERED',\n",
    "    body=body\n",
    ").execute()\n",
    "\n",
    "print('Updated cells count:', result.get('updatedCells'))"
   ]
  },
  {
   "cell_type": "markdown",
   "id": "f8803f8a-f44a-40f3-bed3-6a137f6a8ced",
   "metadata": {},
   "source": [
    "### NB"
   ]
  },
  {
   "cell_type": "code",
   "execution_count": 15,
   "id": "6f816faf-f1a2-4474-9e56-7cb303b3611f",
   "metadata": {
    "execution": {
     "iopub.execute_input": "2024-08-30T16:53:09.573778Z",
     "iopub.status.busy": "2024-08-30T16:53:09.571478Z",
     "iopub.status.idle": "2024-08-30T16:53:09.593581Z",
     "shell.execute_reply": "2024-08-30T16:53:09.592943Z",
     "shell.execute_reply.started": "2024-08-30T16:53:09.573746Z"
    }
   },
   "outputs": [
    {
     "name": "stdout",
     "output_type": "stream",
     "text": [
      "Naive Bayes\n",
      "Precision: 0.29466739967014843\n",
      "Recall: 0.4689413823272091\n",
      "Ensemble accuracy: 0.24187725631768953\n",
      "F1 Score: 0.36191762322754895\n",
      "Confusion Matrix:\n",
      "[[  67 1283]\n",
      " [ 607  536]]\n"
     ]
    }
   ],
   "source": [
    "# Evaluate\n",
    "precision = precision_score(test_df['label'].values, nb_final_predictions, average='binary')\n",
    "recall = recall_score(test_df['label'].values, nb_final_predictions, average='binary')\n",
    "accuracy = accuracy_score(test_df['label'].values, nb_final_predictions)\n",
    "f1 = f1_score(test_df['label'].values, nb_final_predictions, average='binary')\n",
    "conf_matrix = confusion_matrix(test_df['label'].values, nb_final_predictions)\n",
    "\n",
    "print(\"Naive Bayes\")\n",
    "print(f\"Precision: {precision}\")\n",
    "print(f\"Recall: {recall}\")\n",
    "print(f\"Ensemble accuracy: {accuracy}\")\n",
    "print(f\"F1 Score: {f1}\")\n",
    "print(\"Confusion Matrix:\")\n",
    "print(conf_matrix)"
   ]
  },
  {
   "cell_type": "code",
   "execution_count": 16,
   "id": "317c122d-0a36-45da-9bfc-32fbff02e41c",
   "metadata": {
    "execution": {
     "iopub.execute_input": "2024-08-30T16:53:09.595180Z",
     "iopub.status.busy": "2024-08-30T16:53:09.594717Z",
     "iopub.status.idle": "2024-08-30T16:53:09.670210Z",
     "shell.execute_reply": "2024-08-30T16:53:09.669912Z",
     "shell.execute_reply.started": "2024-08-30T16:53:09.595165Z"
    }
   },
   "outputs": [
    {
     "data": {
      "image/png": "[encoded data removed]",
      "text/plain": [
       "<Figure size 640x480 with 1 Axes>"
      ]
     },
     "metadata": {},
     "output_type": "display_data"
    }
   ],
   "source": [
    "# Get probability scores for the positive class\n",
    "nb_prob_scores = nb_meta_classifier.predict_proba(test_meta_features)[:, 1]\n",
    "\n",
    "import matplotlib.pyplot as plt\n",
    "\n",
    "# Plot the distribution of predicted probabilities\n",
    "plt.hist(nb_prob_scores, bins=50, alpha=0.75)\n",
    "plt.title('Distribution of Predicted Probabilities (NB)')\n",
    "plt.xlabel('Probability of Positive Class')\n",
    "plt.ylabel('Frequency')\n",
    "plt.show()\n"
   ]
  },
  {
   "cell_type": "code",
   "execution_count": 17,
   "id": "15a13b96-08a3-4330-a37a-bf26f5927058",
   "metadata": {
    "execution": {
     "iopub.execute_input": "2024-08-30T16:53:09.670775Z",
     "iopub.status.busy": "2024-08-30T16:53:09.670673Z",
     "iopub.status.idle": "2024-08-30T16:53:09.755957Z",
     "shell.execute_reply": "2024-08-30T16:53:09.755686Z",
     "shell.execute_reply.started": "2024-08-30T16:53:09.670768Z"
    }
   },
   "outputs": [
    {
     "name": "stdout",
     "output_type": "stream",
     "text": [
      "Adjusted threshold: 0.02\n",
      "Optimized Naive Bayes\n",
      "Precision: 0.4586677367576244\n",
      "Recall: 1.0\n",
      "Accuracy: 0.45888487765744085\n",
      "F1 Score: 0.6288858321870702\n",
      "Confusion Matrix:\n",
      "[[   1 1349]\n",
      " [   0 1143]]\n"
     ]
    }
   ],
   "source": [
    "# Determine a new threshold\n",
    "thresholds = np.linspace(0.01, 0.99, 99)\n",
    "scores = [f1_score(test_df['label'], nb_prob_scores >= t, average='binary') for t in thresholds]\n",
    "best_thresh = thresholds[np.argmax(scores)]\n",
    "\n",
    "# Apply the new threshold\n",
    "adjusted_predictions = (nb_prob_scores >= best_thresh).astype(int)\n",
    "\n",
    "# Evaluate with the new threshold\n",
    "adjusted_precision = precision_score(test_df['label'], adjusted_predictions, average='binary')\n",
    "adjusted_recall = recall_score(test_df['label'], adjusted_predictions, average='binary')\n",
    "adjusted_accuracy = accuracy_score(test_df['label'], adjusted_predictions)\n",
    "adjusted_f1 = f1_score(test_df['label'], adjusted_predictions, average='binary')\n",
    "adjusted_conf_matrix = confusion_matrix(test_df['label'], adjusted_predictions)\n",
    "\n",
    "print(f\"Adjusted threshold: {best_thresh}\")\n",
    "print(\"Optimized Naive Bayes\")\n",
    "print(f\"Precision: {adjusted_precision}\")\n",
    "print(f\"Recall: {adjusted_recall}\")\n",
    "print(f\"Accuracy: {adjusted_accuracy}\")\n",
    "print(f\"F1 Score: {adjusted_f1}\")\n",
    "print(\"Confusion Matrix:\")\n",
    "print(adjusted_conf_matrix)\n",
    "\n",
    "nb_thresh = best_thresh"
   ]
  },
  {
   "cell_type": "code",
   "execution_count": 18,
   "id": "b35be669-e114-401d-b3fe-c11975b1b3bf",
   "metadata": {
    "execution": {
     "iopub.execute_input": "2024-08-30T16:53:09.756534Z",
     "iopub.status.busy": "2024-08-30T16:53:09.756447Z",
     "iopub.status.idle": "2024-08-30T16:53:10.180992Z",
     "shell.execute_reply": "2024-08-30T16:53:10.179909Z",
     "shell.execute_reply.started": "2024-08-30T16:53:09.756528Z"
    }
   },
   "outputs": [
    {
     "name": "stdout",
     "output_type": "stream",
     "text": [
      "Updated cells count: 4\n"
     ]
    }
   ],
   "source": [
    "# SAVE TO GOOGLE SHEET\n",
    "\n",
    "# Define the range and values to update\n",
    "range_name = '3-1!B5:E5'  \n",
    "\n",
    "values = [[\n",
    "    f\"{adjusted_precision * 100:.2f}\",\n",
    "    f\"{adjusted_recall * 100:.2f}\",\n",
    "    f\"{adjusted_accuracy * 100:.2f}\",\n",
    "    f\"{adjusted_f1 * 100:.2f}\"\n",
    "]]\n",
    "\n",
    "# Prepare the request body\n",
    "body = {\n",
    "    'values': values\n",
    "}\n",
    "\n",
    "# Call the Sheets API to update the values\n",
    "result = service.spreadsheets().values().update(\n",
    "    spreadsheetId=spreadsheet_id, \n",
    "    range=range_name,\n",
    "    valueInputOption='USER_ENTERED',\n",
    "    body=body\n",
    ").execute()\n",
    "\n",
    "print('Updated cells count:', result.get('updatedCells'))"
   ]
  },
  {
   "cell_type": "markdown",
   "id": "a92b519a-7274-4651-8707-33c5e2ce81f7",
   "metadata": {},
   "source": [
    "### DT"
   ]
  },
  {
   "cell_type": "code",
   "execution_count": 19,
   "id": "112a6839-2256-4652-8923-5a8204fa3d51",
   "metadata": {
    "execution": {
     "iopub.execute_input": "2024-08-30T16:53:10.183082Z",
     "iopub.status.busy": "2024-08-30T16:53:10.182636Z",
     "iopub.status.idle": "2024-08-30T16:53:10.201773Z",
     "shell.execute_reply": "2024-08-30T16:53:10.200937Z",
     "shell.execute_reply.started": "2024-08-30T16:53:10.183051Z"
    }
   },
   "outputs": [
    {
     "name": "stdout",
     "output_type": "stream",
     "text": [
      "Decision Tree\n",
      "Precision: 0.45789473684210524\n",
      "Recall: 0.2283464566929134\n",
      "Ensemble accuracy: 0.5222623345367028\n",
      "F1 Score: 0.30472854640980734\n",
      "Confusion Matrix:\n",
      "[[1041  309]\n",
      " [ 882  261]]\n"
     ]
    }
   ],
   "source": [
    "# Evaluate\n",
    "precision = precision_score(test_df['label'].values, dt_final_predictions, average='binary')\n",
    "recall = recall_score(test_df['label'].values, dt_final_predictions, average='binary')\n",
    "accuracy = accuracy_score(test_df['label'].values, dt_final_predictions)\n",
    "f1 = f1_score(test_df['label'].values, dt_final_predictions, average='binary')\n",
    "conf_matrix = confusion_matrix(test_df['label'].values, dt_final_predictions)\n",
    "\n",
    "print(\"Decision Tree\")\n",
    "print(f\"Precision: {precision}\")\n",
    "print(f\"Recall: {recall}\")\n",
    "print(f\"Ensemble accuracy: {accuracy}\")\n",
    "print(f\"F1 Score: {f1}\")\n",
    "print(\"Confusion Matrix:\")\n",
    "print(conf_matrix)"
   ]
  },
  {
   "cell_type": "code",
   "execution_count": 20,
   "id": "b47fedcc-16e0-4f9d-998b-6b7f0d0cc620",
   "metadata": {
    "execution": {
     "iopub.execute_input": "2024-08-30T16:53:10.203247Z",
     "iopub.status.busy": "2024-08-30T16:53:10.202972Z",
     "iopub.status.idle": "2024-08-30T16:53:10.286887Z",
     "shell.execute_reply": "2024-08-30T16:53:10.286582Z",
     "shell.execute_reply.started": "2024-08-30T16:53:10.203229Z"
    }
   },
   "outputs": [
    {
     "data": {
      "image/png": "[encoded data removed]",
      "text/plain": [
       "<Figure size 640x480 with 1 Axes>"
      ]
     },
     "metadata": {},
     "output_type": "display_data"
    }
   ],
   "source": [
    "# Get probability scores for the positive class\n",
    "dt_prob_scores = dt_meta_classifier.predict_proba(test_meta_features)[:, 1]\n",
    "\n",
    "import matplotlib.pyplot as plt\n",
    "\n",
    "# Plot the distribution of predicted probabilities\n",
    "plt.hist(dt_prob_scores, bins=50, alpha=0.75)\n",
    "plt.title('Distribution of Predicted Probabilities (DT)')\n",
    "plt.xlabel('Probability of Positive Class')\n",
    "plt.ylabel('Frequency')\n",
    "plt.show()"
   ]
  },
  {
   "cell_type": "code",
   "execution_count": 21,
   "id": "1bba8d4f-8212-4cb6-91b0-9f551af65c9b",
   "metadata": {
    "execution": {
     "iopub.execute_input": "2024-08-30T16:53:10.290471Z",
     "iopub.status.busy": "2024-08-30T16:53:10.290322Z",
     "iopub.status.idle": "2024-08-30T16:53:10.375372Z",
     "shell.execute_reply": "2024-08-30T16:53:10.375053Z",
     "shell.execute_reply.started": "2024-08-30T16:53:10.290457Z"
    }
   },
   "outputs": [
    {
     "name": "stdout",
     "output_type": "stream",
     "text": [
      "Adjusted threshold: 0.01\n",
      "Optimized Decision Tree\n",
      "Precision: 0.45789473684210524\n",
      "Recall: 0.2283464566929134\n",
      "Accuracy: 0.5222623345367028\n",
      "F1 Score: 0.30472854640980734\n",
      "Confusion Matrix:\n",
      "[[1041  309]\n",
      " [ 882  261]]\n"
     ]
    }
   ],
   "source": [
    "# Determine a new threshold\n",
    "thresholds = np.linspace(0.01, 0.99, 99)\n",
    "scores = [f1_score(test_df['label'], dt_prob_scores >= t, average='binary') for t in thresholds]\n",
    "best_thresh = thresholds[np.argmax(scores)]\n",
    "\n",
    "# Apply the new threshold\n",
    "adjusted_predictions = (dt_prob_scores >= best_thresh).astype(int)\n",
    "\n",
    "# Evaluate with the new threshold\n",
    "adjusted_precision = precision_score(test_df['label'], adjusted_predictions, average='binary')\n",
    "adjusted_recall = recall_score(test_df['label'], adjusted_predictions, average='binary')\n",
    "adjusted_accuracy = accuracy_score(test_df['label'], adjusted_predictions)\n",
    "adjusted_f1 = f1_score(test_df['label'], adjusted_predictions, average='binary')\n",
    "adjusted_conf_matrix = confusion_matrix(test_df['label'], adjusted_predictions)\n",
    "\n",
    "print(f\"Adjusted threshold: {best_thresh}\")\n",
    "print(\"Optimized Decision Tree\")\n",
    "print(f\"Precision: {adjusted_precision}\")\n",
    "print(f\"Recall: {adjusted_recall}\")\n",
    "print(f\"Accuracy: {adjusted_accuracy}\")\n",
    "print(f\"F1 Score: {adjusted_f1}\")\n",
    "print(\"Confusion Matrix:\")\n",
    "print(adjusted_conf_matrix)\n",
    "\n",
    "dt_thresh = best_thresh"
   ]
  },
  {
   "cell_type": "code",
   "execution_count": 22,
   "id": "c60c2133-950b-4edb-a60f-40434cb1e64a",
   "metadata": {
    "execution": {
     "iopub.execute_input": "2024-08-30T16:53:10.375930Z",
     "iopub.status.busy": "2024-08-30T16:53:10.375848Z",
     "iopub.status.idle": "2024-08-30T16:53:10.788855Z",
     "shell.execute_reply": "2024-08-30T16:53:10.787979Z",
     "shell.execute_reply.started": "2024-08-30T16:53:10.375923Z"
    }
   },
   "outputs": [
    {
     "name": "stdout",
     "output_type": "stream",
     "text": [
      "Updated cells count: 4\n"
     ]
    }
   ],
   "source": [
    "# SAVE TO GOOGLE SHEET\n",
    "\n",
    "# Define the range and values to update\n",
    "range_name = '3-1!B6:E6'  \n",
    "\n",
    "values = [[\n",
    "    f\"{adjusted_precision * 100:.2f}\",\n",
    "    f\"{adjusted_recall * 100:.2f}\",\n",
    "    f\"{adjusted_accuracy * 100:.2f}\",\n",
    "    f\"{adjusted_f1 * 100:.2f}\"\n",
    "]]\n",
    "\n",
    "# Prepare the request body\n",
    "body = {\n",
    "    'values': values\n",
    "}\n",
    "\n",
    "# Call the Sheets API to update the values\n",
    "result = service.spreadsheets().values().update(\n",
    "    spreadsheetId=spreadsheet_id, \n",
    "    range=range_name,\n",
    "    valueInputOption='USER_ENTERED',\n",
    "    body=body\n",
    ").execute()\n",
    "\n",
    "print('Updated cells count:', result.get('updatedCells'))"
   ]
  },
  {
   "cell_type": "markdown",
   "id": "65c8fbf8-8467-470a-b23d-c7368f16192c",
   "metadata": {},
   "source": [
    "### SVM"
   ]
  },
  {
   "cell_type": "code",
   "execution_count": 23,
   "id": "56c161df-ddf2-4392-86ce-cdad4ee3472d",
   "metadata": {
    "execution": {
     "iopub.execute_input": "2024-08-30T16:53:10.790674Z",
     "iopub.status.busy": "2024-08-30T16:53:10.790259Z",
     "iopub.status.idle": "2024-08-30T16:53:10.812310Z",
     "shell.execute_reply": "2024-08-30T16:53:10.811649Z",
     "shell.execute_reply.started": "2024-08-30T16:53:10.790640Z"
    }
   },
   "outputs": [
    {
     "name": "stdout",
     "output_type": "stream",
     "text": [
      "SVM\n",
      "Precision: 0.0\n",
      "Recall: 0.0\n",
      "Ensemble accuracy: 0.5415162454873647\n",
      "F1 Score: 0.0\n",
      "Confusion Matrix:\n",
      "[[1350    0]\n",
      " [1143    0]]\n"
     ]
    },
    {
     "name": "stderr",
     "output_type": "stream",
     "text": [
      "/opt/anaconda3/envs/thesis/lib/python3.10/site-packages/sklearn/metrics/_classification.py:1509: UndefinedMetricWarning: Precision is ill-defined and being set to 0.0 due to no predicted samples. Use `zero_division` parameter to control this behavior.\n",
      "  _warn_prf(average, modifier, f\"{metric.capitalize()} is\", len(result))\n"
     ]
    }
   ],
   "source": [
    "# Evaluate\n",
    "precision = precision_score(test_df['label'].values, svm_final_predictions, average='binary')\n",
    "recall = recall_score(test_df['label'].values, svm_final_predictions, average='binary')\n",
    "accuracy = accuracy_score(test_df['label'].values, svm_final_predictions)\n",
    "f1 = f1_score(test_df['label'].values, svm_final_predictions, average='binary')\n",
    "conf_matrix = confusion_matrix(test_df['label'].values, svm_final_predictions)\n",
    "\n",
    "print(\"SVM\")\n",
    "print(f\"Precision: {precision}\")\n",
    "print(f\"Recall: {recall}\")\n",
    "print(f\"Ensemble accuracy: {accuracy}\")\n",
    "print(f\"F1 Score: {f1}\")\n",
    "print(\"Confusion Matrix:\")\n",
    "print(conf_matrix)"
   ]
  },
  {
   "cell_type": "code",
   "execution_count": 24,
   "id": "a71b5f6b-5fa2-43a3-a84e-e1788b5194ac",
   "metadata": {
    "execution": {
     "iopub.execute_input": "2024-08-30T16:53:10.814302Z",
     "iopub.status.busy": "2024-08-30T16:53:10.813981Z",
     "iopub.status.idle": "2024-08-30T16:53:10.944703Z",
     "shell.execute_reply": "2024-08-30T16:53:10.944425Z",
     "shell.execute_reply.started": "2024-08-30T16:53:10.814281Z"
    }
   },
   "outputs": [
    {
     "data": {
      "image/png": "[encoded data removed]",
      "text/plain": [
       "<Figure size 640x480 with 1 Axes>"
      ]
     },
     "metadata": {},
     "output_type": "display_data"
    }
   ],
   "source": [
    "# Get probability scores for the positive class\n",
    "svm_prob_scores = svm_meta_classifier.predict_proba(test_meta_features)[:, 1]\n",
    "\n",
    "import matplotlib.pyplot as plt\n",
    "\n",
    "# Plot the distribution of predicted probabilities\n",
    "plt.hist(svm_prob_scores, bins=50, alpha=0.75)\n",
    "plt.title('Distribution of Predicted Probabilities (SVM)')\n",
    "plt.xlabel('Probability of Positive Class')\n",
    "plt.ylabel('Frequency')\n",
    "plt.show()"
   ]
  },
  {
   "cell_type": "code",
   "execution_count": 25,
   "id": "bec2281e-c662-42af-b89e-1d593990739e",
   "metadata": {
    "execution": {
     "iopub.execute_input": "2024-08-30T16:53:10.945249Z",
     "iopub.status.busy": "2024-08-30T16:53:10.945154Z",
     "iopub.status.idle": "2024-08-30T16:53:11.029890Z",
     "shell.execute_reply": "2024-08-30T16:53:11.029606Z",
     "shell.execute_reply.started": "2024-08-30T16:53:10.945241Z"
    }
   },
   "outputs": [
    {
     "name": "stdout",
     "output_type": "stream",
     "text": [
      "Adjusted threshold: 0.01\n",
      "Optimized SVM\n",
      "Precision: 0.8434684684684685\n",
      "Recall: 0.6552930883639545\n",
      "Accuracy: 0.7862013638186923\n",
      "F1 Score: 0.7375677006400788\n",
      "Confusion Matrix:\n",
      "[[1211  139]\n",
      " [ 394  749]]\n"
     ]
    }
   ],
   "source": [
    "# Determine a new threshold\n",
    "thresholds = np.linspace(0.01, 0.99, 99)\n",
    "scores = [f1_score(test_df['label'], svm_prob_scores >= t, average='binary') for t in thresholds]\n",
    "best_thresh = thresholds[np.argmax(scores)]\n",
    "\n",
    "# Apply the new threshold\n",
    "adjusted_predictions = (svm_prob_scores >= best_thresh).astype(int)\n",
    "\n",
    "# Evaluate with the new threshold\n",
    "adjusted_precision = precision_score(test_df['label'], adjusted_predictions, average='binary')\n",
    "adjusted_recall = recall_score(test_df['label'], adjusted_predictions, average='binary')\n",
    "adjusted_accuracy = accuracy_score(test_df['label'], adjusted_predictions)\n",
    "adjusted_f1 = f1_score(test_df['label'], adjusted_predictions, average='binary')\n",
    "adjusted_conf_matrix = confusion_matrix(test_df['label'], adjusted_predictions)\n",
    "\n",
    "print(f\"Adjusted threshold: {best_thresh}\")\n",
    "print(\"Optimized SVM\")\n",
    "print(f\"Precision: {adjusted_precision}\")\n",
    "print(f\"Recall: {adjusted_recall}\")\n",
    "print(f\"Accuracy: {adjusted_accuracy}\")\n",
    "print(f\"F1 Score: {adjusted_f1}\")\n",
    "print(\"Confusion Matrix:\")\n",
    "print(adjusted_conf_matrix)\n",
    "\n",
    "svm_thresh = best_thresh"
   ]
  },
  {
   "cell_type": "code",
   "execution_count": 26,
   "id": "61a70bcc-38b8-4c46-846d-833a561d5694",
   "metadata": {
    "execution": {
     "iopub.execute_input": "2024-08-30T16:53:11.030516Z",
     "iopub.status.busy": "2024-08-30T16:53:11.030438Z",
     "iopub.status.idle": "2024-08-30T16:53:11.545732Z",
     "shell.execute_reply": "2024-08-30T16:53:11.544468Z",
     "shell.execute_reply.started": "2024-08-30T16:53:11.030509Z"
    }
   },
   "outputs": [
    {
     "name": "stdout",
     "output_type": "stream",
     "text": [
      "Updated cells count: 4\n"
     ]
    }
   ],
   "source": [
    "# SAVE TO GOOGLE SHEET\n",
    "\n",
    "# Define the range and values to update\n",
    "range_name = '3-1!B7:E7'  \n",
    "\n",
    "values = [[\n",
    "    f\"{adjusted_precision * 100:.2f}\",\n",
    "    f\"{adjusted_recall * 100:.2f}\",\n",
    "    f\"{adjusted_accuracy * 100:.2f}\",\n",
    "    f\"{adjusted_f1 * 100:.2f}\"\n",
    "]]\n",
    "\n",
    "# Prepare the request body\n",
    "body = {\n",
    "    'values': values\n",
    "}\n",
    "\n",
    "# Call the Sheets API to update the values\n",
    "result = service.spreadsheets().values().update(\n",
    "    spreadsheetId=spreadsheet_id, \n",
    "    range=range_name,\n",
    "    valueInputOption='USER_ENTERED',\n",
    "    body=body\n",
    ").execute()\n",
    "\n",
    "print('Updated cells count:', result.get('updatedCells'))"
   ]
  },
  {
   "cell_type": "markdown",
   "id": "8d2045a9-4a51-4880-b22f-b3ff2b11881d",
   "metadata": {},
   "source": [
    "# Validate on Data C"
   ]
  },
  {
   "cell_type": "markdown",
   "id": "b7f3295c-4ff1-44ea-857b-82a80bb44ff3",
   "metadata": {},
   "source": [
    "## Load Data C Dataset"
   ]
  },
  {
   "cell_type": "code",
   "execution_count": 27,
   "id": "06f318e7-8089-4e51-8494-de0f6a11b10b",
   "metadata": {
    "execution": {
     "iopub.execute_input": "2024-08-30T16:53:11.547547Z",
     "iopub.status.busy": "2024-08-30T16:53:11.547173Z",
     "iopub.status.idle": "2024-08-30T16:53:11.561113Z",
     "shell.execute_reply": "2024-08-30T16:53:11.559866Z",
     "shell.execute_reply.started": "2024-08-30T16:53:11.547518Z"
    }
   },
   "outputs": [],
   "source": [
    "import pandas as pd\n",
    "from sklearn.metrics import accuracy_score, precision_score, recall_score, f1_score, confusion_matrix\n",
    "\n",
    "# Load validation data\n",
    "validation_file_path = 'Corpus/data_c.csv'\n",
    "validation_df = pd.read_csv(validation_file_path)"
   ]
  },
  {
   "cell_type": "markdown",
   "id": "e5ce9332-4160-4859-85e1-5b1d4184d1b2",
   "metadata": {
    "execution": {
     "iopub.execute_input": "2024-04-11T13:00:14.207089Z",
     "iopub.status.busy": "2024-04-11T13:00:14.206594Z",
     "iopub.status.idle": "2024-04-11T13:00:14.209788Z",
     "shell.execute_reply": "2024-04-11T13:00:14.209108Z",
     "shell.execute_reply.started": "2024-04-11T13:00:14.207047Z"
    }
   },
   "source": [
    "## Perform Stacking"
   ]
  },
  {
   "cell_type": "code",
   "execution_count": 28,
   "id": "c9fbc0af-ebad-478e-96e1-3f26052a3a89",
   "metadata": {
    "execution": {
     "iopub.execute_input": "2024-08-30T16:53:11.562993Z",
     "iopub.status.busy": "2024-08-30T16:53:11.562547Z",
     "iopub.status.idle": "2024-08-30T16:53:32.618725Z",
     "shell.execute_reply": "2024-08-30T16:53:32.618104Z",
     "shell.execute_reply.started": "2024-08-30T16:53:11.562970Z"
    }
   },
   "outputs": [
    {
     "name": "stderr",
     "output_type": "stream",
     "text": [
      "huggingface/tokenizers: The current process just got forked, after parallelism has already been used. Disabling parallelism to avoid deadlocks...\n",
      "To disable this warning, you can either:\n",
      "\t- Avoid using `tokenizers` before the fork if possible\n",
      "\t- Explicitly set the environment variable TOKENIZERS_PARALLELISM=(true | false)\n",
      "huggingface/tokenizers: The current process just got forked, after parallelism has already been used. Disabling parallelism to avoid deadlocks...\n",
      "To disable this warning, you can either:\n",
      "\t- Avoid using `tokenizers` before the fork if possible\n",
      "\t- Explicitly set the environment variable TOKENIZERS_PARALLELISM=(true | false)\n",
      "huggingface/tokenizers: The current process just got forked, after parallelism has already been used. Disabling parallelism to avoid deadlocks...\n",
      "To disable this warning, you can either:\n",
      "\t- Avoid using `tokenizers` before the fork if possible\n",
      "\t- Explicitly set the environment variable TOKENIZERS_PARALLELISM=(true | false)\n",
      "huggingface/tokenizers: The current process just got forked, after parallelism has already been used. Disabling parallelism to avoid deadlocks...\n",
      "To disable this warning, you can either:\n",
      "\t- Avoid using `tokenizers` before the fork if possible\n",
      "\t- Explicitly set the environment variable TOKENIZERS_PARALLELISM=(true | false)\n",
      "huggingface/tokenizers: The current process just got forked, after parallelism has already been used. Disabling parallelism to avoid deadlocks...\n",
      "To disable this warning, you can either:\n",
      "\t- Avoid using `tokenizers` before the fork if possible\n",
      "\t- Explicitly set the environment variable TOKENIZERS_PARALLELISM=(true | false)\n",
      "huggingface/tokenizers: The current process just got forked, after parallelism has already been used. Disabling parallelism to avoid deadlocks...\n",
      "To disable this warning, you can either:\n",
      "\t- Avoid using `tokenizers` before the fork if possible\n",
      "\t- Explicitly set the environment variable TOKENIZERS_PARALLELISM=(true | false)\n",
      "huggingface/tokenizers: The current process just got forked, after parallelism has already been used. Disabling parallelism to avoid deadlocks...\n",
      "To disable this warning, you can either:\n",
      "\t- Avoid using `tokenizers` before the fork if possible\n",
      "\t- Explicitly set the environment variable TOKENIZERS_PARALLELISM=(true | false)\n"
     ]
    },
    {
     "name": "stdout",
     "output_type": "stream",
     "text": [
      "peak memory: 2959.28 MiB, increment: -0.20 MiB\n"
     ]
    }
   ],
   "source": [
    "%memit\n",
    "\n",
    "# Generate meta-features for validation set\n",
    "validation_meta_features = [get_meta_features(model, tokenizer, validation_df, device) \n",
    "                            for model, tokenizer in models_and_tokenizers.values()]\n",
    "\n",
    "# Stack meta-features\n",
    "validation_meta_features = np.hstack(validation_meta_features)\n",
    "\n",
    "# Predict with LR meta-classifier\n",
    "lr_validation_predictions = lr_meta_classifier.predict(validation_meta_features)\n",
    "\n",
    "# Predict with NB meta-classifier\n",
    "nb_validation_predictions = nb_meta_classifier.predict(validation_meta_features)\n",
    "\n",
    "# Predict with DT meta-classifier\n",
    "dt_validation_predictions = dt_meta_classifier.predict(validation_meta_features)\n",
    "\n",
    "# Predict with SVM meta-classifier\n",
    "svm_validation_predictions = svm_meta_classifier.predict(validation_meta_features)\n",
    "\n",
    "# Extract true labels from the validation set\n",
    "true_labels = validation_df['label'].values"
   ]
  },
  {
   "cell_type": "markdown",
   "id": "9da263a8-cbf9-4cff-b41b-e88a5e2512b4",
   "metadata": {},
   "source": [
    "## Validate Models"
   ]
  },
  {
   "cell_type": "markdown",
   "id": "73574aa4-26e8-4d0a-bc95-478361fcc2e6",
   "metadata": {},
   "source": [
    "### LR"
   ]
  },
  {
   "cell_type": "code",
   "execution_count": 29,
   "id": "df42fe2c-46bb-486d-90ba-404043f52e9e",
   "metadata": {
    "execution": {
     "iopub.execute_input": "2024-08-30T16:53:32.621980Z",
     "iopub.status.busy": "2024-08-30T16:53:32.621599Z",
     "iopub.status.idle": "2024-08-30T16:53:32.635946Z",
     "shell.execute_reply": "2024-08-30T16:53:32.634984Z",
     "shell.execute_reply.started": "2024-08-30T16:53:32.621957Z"
    }
   },
   "outputs": [
    {
     "name": "stdout",
     "output_type": "stream",
     "text": [
      "Logistic Regression\n",
      "Accuracy: 0.5387114239306985\n",
      "Precision: 0.9\n",
      "Recall: 0.010465116279069767\n",
      "F1 Score: 0.020689655172413793\n",
      "Confusion Matrix:\n",
      " [[986   1]\n",
      " [851   9]]\n"
     ]
    }
   ],
   "source": [
    "# Calculate metrics\n",
    "accuracy = accuracy_score(true_labels, lr_validation_predictions)\n",
    "precision = precision_score(true_labels, lr_validation_predictions, average='binary')\n",
    "recall = recall_score(true_labels, lr_validation_predictions, average='binary')\n",
    "f1 = f1_score(true_labels, lr_validation_predictions, average='binary')\n",
    "conf_matrix = confusion_matrix(true_labels, lr_validation_predictions)\n",
    "\n",
    "# Print the metrics\n",
    "print(\"Logistic Regression\")\n",
    "print(f\"Accuracy: {accuracy}\")\n",
    "print(f\"Precision: {precision}\")\n",
    "print(f\"Recall: {recall}\")\n",
    "print(f\"F1 Score: {f1}\")\n",
    "print(\"Confusion Matrix:\\n\", conf_matrix)"
   ]
  },
  {
   "cell_type": "code",
   "execution_count": 30,
   "id": "99a32131-a3db-45fd-8b37-cd354d1483e9",
   "metadata": {
    "execution": {
     "iopub.execute_input": "2024-08-30T16:53:32.637666Z",
     "iopub.status.busy": "2024-08-30T16:53:32.637383Z",
     "iopub.status.idle": "2024-08-30T16:53:32.720783Z",
     "shell.execute_reply": "2024-08-30T16:53:32.719545Z",
     "shell.execute_reply.started": "2024-08-30T16:53:32.637644Z"
    },
    "scrolled": true
   },
   "outputs": [
    {
     "data": {
      "image/png": "[encoded data removed]",
      "text/plain": [
       "<Figure size 640x480 with 1 Axes>"
      ]
     },
     "metadata": {},
     "output_type": "display_data"
    }
   ],
   "source": [
    "# Get probability scores for the positive class\n",
    "lr_prob_scores = lr_meta_classifier.predict_proba(validation_meta_features)[:, 1]\n",
    "\n",
    "import matplotlib.pyplot as plt\n",
    "\n",
    "# Plot the distribution of predicted probabilities\n",
    "plt.hist(lr_prob_scores, bins=50, alpha=0.75)\n",
    "plt.title('Distribution of Predicted Probabilities (LR)')\n",
    "plt.xlabel('Probability of Positive Class')\n",
    "plt.ylabel('Frequency')\n",
    "plt.show()"
   ]
  },
  {
   "cell_type": "markdown",
   "id": "449cba05-df7d-4b06-afea-388a0ffe242d",
   "metadata": {},
   "source": [
    "#### Optimized LR"
   ]
  },
  {
   "cell_type": "code",
   "execution_count": 31,
   "id": "99485566-e92c-4f96-a518-51e1d53c487b",
   "metadata": {
    "execution": {
     "iopub.execute_input": "2024-08-30T16:53:32.721900Z",
     "iopub.status.busy": "2024-08-30T16:53:32.721772Z",
     "iopub.status.idle": "2024-08-30T16:53:32.736681Z",
     "shell.execute_reply": "2024-08-30T16:53:32.735062Z",
     "shell.execute_reply.started": "2024-08-30T16:53:32.721888Z"
    }
   },
   "outputs": [
    {
     "name": "stdout",
     "output_type": "stream",
     "text": [
      "Optimized Logistic Regression\n",
      "Precision: 0.8240343347639485\n",
      "Recall: 0.6697674418604651\n",
      "Accuracy: 0.7796426637791013\n",
      "F1 Score: 0.7389352148813342\n",
      "Confusion Matrix:\n",
      "[[864 123]\n",
      " [284 576]]\n"
     ]
    }
   ],
   "source": [
    "# Apply the new threshold\n",
    "adjusted_predictions = (lr_prob_scores >= lr_thresh).astype(int)\n",
    "\n",
    "# Evaluate with the new threshold\n",
    "adjusted_precision = precision_score(validation_df['label'], adjusted_predictions, average='binary')\n",
    "adjusted_recall = recall_score(validation_df['label'], adjusted_predictions, average='binary')\n",
    "adjusted_accuracy = accuracy_score(validation_df['label'], adjusted_predictions)\n",
    "adjusted_f1 = f1_score(validation_df['label'], adjusted_predictions, average='binary')\n",
    "adjusted_conf_matrix = confusion_matrix(validation_df['label'], adjusted_predictions)\n",
    "\n",
    "print(\"Optimized Logistic Regression\")\n",
    "print(f\"Precision: {adjusted_precision}\")\n",
    "print(f\"Recall: {adjusted_recall}\")\n",
    "print(f\"Accuracy: {adjusted_accuracy}\")\n",
    "print(f\"F1 Score: {adjusted_f1}\")\n",
    "print(\"Confusion Matrix:\")\n",
    "print(adjusted_conf_matrix)"
   ]
  },
  {
   "cell_type": "code",
   "execution_count": 32,
   "id": "d10347e9-9e28-46cb-a54b-3f104e31db95",
   "metadata": {
    "execution": {
     "iopub.execute_input": "2024-08-30T16:53:32.737723Z",
     "iopub.status.busy": "2024-08-30T16:53:32.737538Z",
     "iopub.status.idle": "2024-08-30T16:53:33.222637Z",
     "shell.execute_reply": "2024-08-30T16:53:33.221129Z",
     "shell.execute_reply.started": "2024-08-30T16:53:32.737702Z"
    }
   },
   "outputs": [
    {
     "name": "stdout",
     "output_type": "stream",
     "text": [
      "Updated cells count: 4\n"
     ]
    }
   ],
   "source": [
    "# SAVE TO GOOGLE SHEET\n",
    "\n",
    "# Define the range and values to update\n",
    "range_name = '3-1!F4:I4'  \n",
    "\n",
    "values = [[\n",
    "    f\"{adjusted_precision * 100:.2f}\",\n",
    "    f\"{adjusted_recall * 100:.2f}\",\n",
    "    f\"{adjusted_accuracy * 100:.2f}\",\n",
    "    f\"{adjusted_f1 * 100:.2f}\"\n",
    "]]\n",
    "\n",
    "# Prepare the request body\n",
    "body = {\n",
    "    'values': values\n",
    "}\n",
    "\n",
    "# Call the Sheets API to update the values\n",
    "result = service.spreadsheets().values().update(\n",
    "    spreadsheetId=spreadsheet_id, \n",
    "    range=range_name,\n",
    "    valueInputOption='USER_ENTERED',\n",
    "    body=body\n",
    ").execute()\n",
    "\n",
    "print('Updated cells count:', result.get('updatedCells'))"
   ]
  },
  {
   "cell_type": "markdown",
   "id": "01bf71da-0402-406a-820d-b46103b78952",
   "metadata": {},
   "source": [
    "#### Save Confusion Matrix"
   ]
  },
  {
   "cell_type": "code",
   "execution_count": 33,
   "id": "73b9e1f9-087c-4fc8-93d2-76312b9e7a0f",
   "metadata": {
    "execution": {
     "iopub.execute_input": "2024-08-30T16:53:33.224426Z",
     "iopub.status.busy": "2024-08-30T16:53:33.224114Z",
     "iopub.status.idle": "2024-08-30T16:53:33.453247Z",
     "shell.execute_reply": "2024-08-30T16:53:33.452996Z",
     "shell.execute_reply.started": "2024-08-30T16:53:33.224402Z"
    }
   },
   "outputs": [
    {
     "data": {
      "text/html": [
       "\n",
       "<style>\n",
       "  #altair-viz-f5a6262d7cf44e11825f2ba9a29084ad.vega-embed {\n",
       "    width: 100%;\n",
       "    display: flex;\n",
       "  }\n",
       "\n",
       "  #altair-viz-f5a6262d7cf44e11825f2ba9a29084ad.vega-embed details,\n",
       "  #altair-viz-f5a6262d7cf44e11825f2ba9a29084ad.vega-embed details summary {\n",
       "    position: relative;\n",
       "  }\n",
       "</style>\n",
       "<div id=\"altair-viz-f5a6262d7cf44e11825f2ba9a29084ad\"></div>\n",
       "<script type=\"text/javascript\">\n",
       "  var VEGA_DEBUG = (typeof VEGA_DEBUG == \"undefined\") ? {} : VEGA_DEBUG;\n",
       "  (function(spec, embedOpt){\n",
       "    let outputDiv = document.currentScript.previousElementSibling;\n",
       "    if (outputDiv.id !== \"altair-viz-f5a6262d7cf44e11825f2ba9a29084ad\") {\n",
       "      outputDiv = document.getElementById(\"altair-viz-f5a6262d7cf44e11825f2ba9a29084ad\");\n",
       "    }\n",
       "    const paths = {\n",
       "      \"vega\": \"https://cdn.jsdelivr.net/npm/vega@5?noext\",\n",
       "      \"vega-lib\": \"https://cdn.jsdelivr.net/npm/vega-lib?noext\",\n",
       "      \"vega-lite\": \"https://cdn.jsdelivr.net/npm/vega-lite@5.17.0?noext\",\n",
       "      \"vega-embed\": \"https://cdn.jsdelivr.net/npm/vega-embed@6?noext\",\n",
       "    };\n",
       "\n",
       "    function maybeLoadScript(lib, version) {\n",
       "      var key = `${lib.replace(\"-\", \"\")}_version`;\n",
       "      return (VEGA_DEBUG[key] == version) ?\n",
       "        Promise.resolve(paths[lib]) :\n",
       "        new Promise(function(resolve, reject) {\n",
       "          var s = document.createElement('script');\n",
       "          document.getElementsByTagName(\"head\")[0].appendChild(s);\n",
       "          s.async = true;\n",
       "          s.onload = () => {\n",
       "            VEGA_DEBUG[key] = version;\n",
       "            return resolve(paths[lib]);\n",
       "          };\n",
       "          s.onerror = () => reject(`Error loading script: ${paths[lib]}`);\n",
       "          s.src = paths[lib];\n",
       "        });\n",
       "    }\n",
       "\n",
       "    function showError(err) {\n",
       "      outputDiv.innerHTML = `<div class=\"error\" style=\"color:red;\">${err}</div>`;\n",
       "      throw err;\n",
       "    }\n",
       "\n",
       "    function displayChart(vegaEmbed) {\n",
       "      vegaEmbed(outputDiv, spec, embedOpt)\n",
       "        .catch(err => showError(`Javascript Error: ${err.message}<br>This usually means there's a typo in your chart specification. See the javascript console for the full traceback.`));\n",
       "    }\n",
       "\n",
       "    if(typeof define === \"function\" && define.amd) {\n",
       "      requirejs.config({paths});\n",
       "      require([\"vega-embed\"], displayChart, err => showError(`Error loading script: ${err.message}`));\n",
       "    } else {\n",
       "      maybeLoadScript(\"vega\", \"5\")\n",
       "        .then(() => maybeLoadScript(\"vega-lite\", \"5.17.0\"))\n",
       "        .then(() => maybeLoadScript(\"vega-embed\", \"6\"))\n",
       "        .catch(showError)\n",
       "        .then(() => displayChart(vegaEmbed));\n",
       "    }\n",
       "  })({\"config\": {\"view\": {\"continuousWidth\": 300, \"continuousHeight\": 300}}, \"layer\": [{\"mark\": {\"type\": \"rect\"}, \"encoding\": {\"color\": {\"field\": \"Count\", \"type\": \"quantitative\"}, \"tooltip\": [{\"field\": \"True\", \"type\": \"ordinal\"}, {\"field\": \"Predicted\", \"type\": \"ordinal\"}, {\"field\": \"Count\", \"type\": \"quantitative\"}], \"x\": {\"field\": \"Predicted\", \"sort\": [\"Hate Speech\", \"Non Hatespeech\"], \"type\": \"ordinal\"}, \"y\": {\"field\": \"True\", \"sort\": [\"Hate Speech\", \"Non Hatespeech\"], \"type\": \"ordinal\"}}, \"title\": \"OH_Using_HS 3STK-1 LR\"}, {\"mark\": {\"type\": \"text\", \"align\": \"center\", \"baseline\": \"middle\", \"fontSize\": 12}, \"encoding\": {\"color\": {\"condition\": {\"test\": \"(datum.Count > 432.0)\", \"value\": \"white\"}, \"value\": \"black\"}, \"text\": {\"field\": \"Count\", \"type\": \"quantitative\"}, \"tooltip\": [{\"field\": \"True\", \"type\": \"ordinal\"}, {\"field\": \"Predicted\", \"type\": \"ordinal\"}, {\"field\": \"Count\", \"type\": \"quantitative\"}], \"x\": {\"field\": \"Predicted\", \"sort\": [\"Hate Speech\", \"Non Hatespeech\"], \"type\": \"ordinal\"}, \"y\": {\"field\": \"True\", \"sort\": [\"Hate Speech\", \"Non Hatespeech\"], \"type\": \"ordinal\"}}, \"title\": \"OH_Using_HS 3STK-1 LR\"}], \"data\": {\"name\": \"data-c8256475904714fc68744b837031cf99\"}, \"height\": 300, \"width\": 400, \"$schema\": \"https://vega.github.io/schema/vega-lite/v5.17.0.json\", \"datasets\": {\"data-c8256475904714fc68744b837031cf99\": [{\"True\": \"Hate Speech\", \"Predicted\": \"Hate Speech\", \"Count\": 864}, {\"True\": \"Non Hatespeech\", \"Predicted\": \"Hate Speech\", \"Count\": 284}, {\"True\": \"Hate Speech\", \"Predicted\": \"Non Hatespeech\", \"Count\": 123}, {\"True\": \"Non Hatespeech\", \"Predicted\": \"Non Hatespeech\", \"Count\": 576}]}}, {\"mode\": \"vega-lite\"});\n",
       "</script>"
      ],
      "text/plain": [
       "alt.LayerChart(...)"
      ]
     },
     "metadata": {},
     "output_type": "display_data"
    }
   ],
   "source": [
    "import altair as alt\n",
    "import altair_saver\n",
    "import pandas as pd\n",
    "from sklearn.metrics import confusion_matrix\n",
    "\n",
    "# Calculate the confusion matrix\n",
    "cm = confusion_matrix(true_labels, adjusted_predictions)\n",
    "\n",
    "# Define class names\n",
    "class_names = ['Hate Speech', 'Non Hatespeech']\n",
    "\n",
    "# Convert confusion matrix to DataFrame\n",
    "cm_df = pd.DataFrame(cm, index=class_names, columns=class_names).reset_index().melt(id_vars='index')\n",
    "cm_df.columns = ['True', 'Predicted', 'Count']\n",
    "\n",
    "# Ensure the order of categories\n",
    "cm_df['True'] = pd.Categorical(cm_df['True'], categories=class_names, ordered=True)\n",
    "cm_df['Predicted'] = pd.Categorical(cm_df['Predicted'], categories=class_names, ordered=True)\n",
    "\n",
    "# Create the Altair plot\n",
    "heatmap = alt.Chart(cm_df).mark_rect().encode(\n",
    "    x=alt.X('Predicted:O', sort=class_names),\n",
    "    y=alt.Y('True:O', sort=class_names),\n",
    "    color='Count:Q',\n",
    "    tooltip=['True', 'Predicted', 'Count']\n",
    ").properties(\n",
    "    width=400,\n",
    "    height=300,\n",
    "    title='OH_Using_HS 3STK-1 LR'\n",
    ")\n",
    "\n",
    "# Add text labels\n",
    "text = heatmap.mark_text(\n",
    "    align='center',\n",
    "    baseline='middle',\n",
    "    fontSize=12\n",
    ").encode(\n",
    "    text='Count:Q',\n",
    "    color=alt.condition(\n",
    "        alt.datum.Count > cm.max() / 2,\n",
    "        alt.value('white'),\n",
    "        alt.value('black')\n",
    "    )\n",
    ")\n",
    "\n",
    "# Combine heatmap and text\n",
    "final_chart = heatmap + text\n",
    "\n",
    "# Display the plot\n",
    "final_chart.show()"
   ]
  },
  {
   "cell_type": "code",
   "execution_count": 34,
   "id": "19c029f6-0be5-4e74-876d-dfb1d8b6248b",
   "metadata": {
    "execution": {
     "iopub.execute_input": "2024-08-30T16:53:33.453745Z",
     "iopub.status.busy": "2024-08-30T16:53:33.453667Z",
     "iopub.status.idle": "2024-08-30T16:53:33.821892Z",
     "shell.execute_reply": "2024-08-30T16:53:33.821561Z",
     "shell.execute_reply.started": "2024-08-30T16:53:33.453739Z"
    }
   },
   "outputs": [
    {
     "name": "stdout",
     "output_type": "stream",
     "text": [
      "Plot saved to Results/Ensemble Model Results/On Hatespeech dataset/OH Using HS Ensemble/Stacking/OH_Using_HS 3STK-1 LR.png\n"
     ]
    }
   ],
   "source": [
    "\n",
    "# Specify the folder path\n",
    "folder_path = os.path.expanduser('Results/Ensemble Model Results/On Hatespeech dataset/OH Using HS Ensemble/Stacking/')\n",
    "\n",
    "# Save the plot using vl-convert\n",
    "file_path_png = os.path.join(folder_path, 'OH_Using_HS 3STK-1 LR.png')\n",
    "final_chart.save(file_path_png)\n",
    "\n",
    "print(f\"Plot saved to {file_path_png}\")"
   ]
  },
  {
   "cell_type": "markdown",
   "id": "b3649998-d30c-429a-9cc5-db6259d6c39e",
   "metadata": {},
   "source": [
    "### NB"
   ]
  },
  {
   "cell_type": "code",
   "execution_count": 35,
   "id": "88863a6c-c113-4347-84ed-3ef930aeaba4",
   "metadata": {
    "execution": {
     "iopub.execute_input": "2024-08-30T16:53:33.822752Z",
     "iopub.status.busy": "2024-08-30T16:53:33.822553Z",
     "iopub.status.idle": "2024-08-30T16:53:33.828761Z",
     "shell.execute_reply": "2024-08-30T16:53:33.828492Z",
     "shell.execute_reply.started": "2024-08-30T16:53:33.822739Z"
    }
   },
   "outputs": [
    {
     "name": "stdout",
     "output_type": "stream",
     "text": [
      "Naive Bayes\n",
      "Accuracy: 0.25013535462912834\n",
      "Precision: 0.30337078651685395\n",
      "Recall: 0.47093023255813954\n",
      "F1 Score: 0.3690205011389522\n",
      "Confusion Matrix:\n",
      " [[ 57 930]\n",
      " [455 405]]\n"
     ]
    }
   ],
   "source": [
    "# Calculate metrics\n",
    "accuracy = accuracy_score(true_labels, nb_validation_predictions)\n",
    "precision = precision_score(true_labels, nb_validation_predictions, average='binary')\n",
    "recall = recall_score(true_labels, nb_validation_predictions, average='binary')\n",
    "f1 = f1_score(true_labels, nb_validation_predictions, average='binary')\n",
    "conf_matrix = confusion_matrix(true_labels, nb_validation_predictions)\n",
    "\n",
    "# Print the metrics\n",
    "print(\"Naive Bayes\")\n",
    "print(f\"Accuracy: {accuracy}\")\n",
    "print(f\"Precision: {precision}\")\n",
    "print(f\"Recall: {recall}\")\n",
    "print(f\"F1 Score: {f1}\")\n",
    "print(\"Confusion Matrix:\\n\", conf_matrix)"
   ]
  },
  {
   "cell_type": "code",
   "execution_count": 36,
   "id": "fd4f58f5-0391-4367-83ad-b8de15a13261",
   "metadata": {
    "execution": {
     "iopub.execute_input": "2024-08-30T16:53:33.829297Z",
     "iopub.status.busy": "2024-08-30T16:53:33.829215Z",
     "iopub.status.idle": "2024-08-30T16:53:33.895331Z",
     "shell.execute_reply": "2024-08-30T16:53:33.895066Z",
     "shell.execute_reply.started": "2024-08-30T16:53:33.829290Z"
    }
   },
   "outputs": [
    {
     "data": {
      "image/png": "[encoded data removed]",
      "text/plain": [
       "<Figure size 640x480 with 1 Axes>"
      ]
     },
     "metadata": {},
     "output_type": "display_data"
    }
   ],
   "source": [
    "# Get probability scores for the positive class\n",
    "nb_prob_scores = nb_meta_classifier.predict_proba(validation_meta_features)[:, 1]\n",
    "\n",
    "import matplotlib.pyplot as plt\n",
    "\n",
    "# Plot the distribution of predicted probabilities\n",
    "plt.hist(nb_prob_scores, bins=50, alpha=0.75)\n",
    "plt.title('Distribution of Predicted Probabilities (NB)')\n",
    "plt.xlabel('Probability of Positive Class')\n",
    "plt.ylabel('Frequency')\n",
    "plt.show()"
   ]
  },
  {
   "cell_type": "markdown",
   "id": "66903a84-9b76-4901-bfd2-f5570b34e1b7",
   "metadata": {},
   "source": [
    "#### Optimized NB"
   ]
  },
  {
   "cell_type": "code",
   "execution_count": 37,
   "id": "d8a0c50d-977f-4dcc-881e-8c54a4c1ff7f",
   "metadata": {
    "execution": {
     "iopub.execute_input": "2024-08-30T16:53:33.895928Z",
     "iopub.status.busy": "2024-08-30T16:53:33.895833Z",
     "iopub.status.idle": "2024-08-30T16:53:33.903006Z",
     "shell.execute_reply": "2024-08-30T16:53:33.902452Z",
     "shell.execute_reply.started": "2024-08-30T16:53:33.895922Z"
    }
   },
   "outputs": [
    {
     "name": "stdout",
     "output_type": "stream",
     "text": [
      "Optimized Naive Bayes\n",
      "Precision: 0.4655826558265583\n",
      "Recall: 0.9988372093023256\n",
      "Accuracy: 0.4656199242014077\n",
      "F1 Score: 0.6351201478743068\n",
      "Confusion Matrix:\n",
      "[[  1 986]\n",
      " [  1 859]]\n"
     ]
    }
   ],
   "source": [
    "# Apply the new threshold\n",
    "adjusted_predictions = (nb_prob_scores >= nb_thresh).astype(int)\n",
    "\n",
    "# Evaluate with the new threshold\n",
    "adjusted_precision = precision_score(validation_df['label'], adjusted_predictions, average='binary')\n",
    "adjusted_recall = recall_score(validation_df['label'], adjusted_predictions, average='binary')\n",
    "adjusted_accuracy = accuracy_score(validation_df['label'], adjusted_predictions)\n",
    "adjusted_f1 = f1_score(validation_df['label'], adjusted_predictions, average='binary')\n",
    "adjusted_conf_matrix = confusion_matrix(validation_df['label'], adjusted_predictions)\n",
    "\n",
    "print(\"Optimized Naive Bayes\")\n",
    "print(f\"Precision: {adjusted_precision}\")\n",
    "print(f\"Recall: {adjusted_recall}\")\n",
    "print(f\"Accuracy: {adjusted_accuracy}\")\n",
    "print(f\"F1 Score: {adjusted_f1}\")\n",
    "print(\"Confusion Matrix:\")\n",
    "print(adjusted_conf_matrix)"
   ]
  },
  {
   "cell_type": "code",
   "execution_count": 38,
   "id": "86cc8ed9-fd8f-4a14-86a3-14c17949e8eb",
   "metadata": {
    "execution": {
     "iopub.execute_input": "2024-08-30T16:53:33.903487Z",
     "iopub.status.busy": "2024-08-30T16:53:33.903413Z",
     "iopub.status.idle": "2024-08-30T16:53:34.339742Z",
     "shell.execute_reply": "2024-08-30T16:53:34.338941Z",
     "shell.execute_reply.started": "2024-08-30T16:53:33.903481Z"
    }
   },
   "outputs": [
    {
     "name": "stdout",
     "output_type": "stream",
     "text": [
      "Updated cells count: 4\n"
     ]
    }
   ],
   "source": [
    "# SAVE TO GOOGLE SHEET\n",
    "\n",
    "# Define the range and values to update\n",
    "range_name = '3-1!F5:I5'  \n",
    "\n",
    "values = [[\n",
    "    f\"{adjusted_precision * 100:.2f}\",\n",
    "    f\"{adjusted_recall * 100:.2f}\",\n",
    "    f\"{adjusted_accuracy * 100:.2f}\",\n",
    "    f\"{adjusted_f1 * 100:.2f}\"\n",
    "]]\n",
    "\n",
    "# Prepare the request body\n",
    "body = {\n",
    "    'values': values\n",
    "}\n",
    "\n",
    "# Call the Sheets API to update the values\n",
    "result = service.spreadsheets().values().update(\n",
    "    spreadsheetId=spreadsheet_id, \n",
    "    range=range_name,\n",
    "    valueInputOption='USER_ENTERED',\n",
    "    body=body\n",
    ").execute()\n",
    "\n",
    "print('Updated cells count:', result.get('updatedCells'))"
   ]
  },
  {
   "cell_type": "markdown",
   "id": "a974497e-d672-4fc9-b568-885897a6c1bf",
   "metadata": {},
   "source": [
    "#### Save Confusion Matrix"
   ]
  },
  {
   "cell_type": "code",
   "execution_count": 39,
   "id": "3e400501-2935-4625-952b-df5e7104d7e6",
   "metadata": {
    "execution": {
     "iopub.execute_input": "2024-08-30T16:53:34.341982Z",
     "iopub.status.busy": "2024-08-30T16:53:34.341582Z",
     "iopub.status.idle": "2024-08-30T16:53:34.392881Z",
     "shell.execute_reply": "2024-08-30T16:53:34.392525Z",
     "shell.execute_reply.started": "2024-08-30T16:53:34.341948Z"
    }
   },
   "outputs": [
    {
     "data": {
      "text/html": [
       "\n",
       "<style>\n",
       "  #altair-viz-1e937df6a04c4932b8e9360da9205c75.vega-embed {\n",
       "    width: 100%;\n",
       "    display: flex;\n",
       "  }\n",
       "\n",
       "  #altair-viz-1e937df6a04c4932b8e9360da9205c75.vega-embed details,\n",
       "  #altair-viz-1e937df6a04c4932b8e9360da9205c75.vega-embed details summary {\n",
       "    position: relative;\n",
       "  }\n",
       "</style>\n",
       "<div id=\"altair-viz-1e937df6a04c4932b8e9360da9205c75\"></div>\n",
       "<script type=\"text/javascript\">\n",
       "  var VEGA_DEBUG = (typeof VEGA_DEBUG == \"undefined\") ? {} : VEGA_DEBUG;\n",
       "  (function(spec, embedOpt){\n",
       "    let outputDiv = document.currentScript.previousElementSibling;\n",
       "    if (outputDiv.id !== \"altair-viz-1e937df6a04c4932b8e9360da9205c75\") {\n",
       "      outputDiv = document.getElementById(\"altair-viz-1e937df6a04c4932b8e9360da9205c75\");\n",
       "    }\n",
       "    const paths = {\n",
       "      \"vega\": \"https://cdn.jsdelivr.net/npm/vega@5?noext\",\n",
       "      \"vega-lib\": \"https://cdn.jsdelivr.net/npm/vega-lib?noext\",\n",
       "      \"vega-lite\": \"https://cdn.jsdelivr.net/npm/vega-lite@5.17.0?noext\",\n",
       "      \"vega-embed\": \"https://cdn.jsdelivr.net/npm/vega-embed@6?noext\",\n",
       "    };\n",
       "\n",
       "    function maybeLoadScript(lib, version) {\n",
       "      var key = `${lib.replace(\"-\", \"\")}_version`;\n",
       "      return (VEGA_DEBUG[key] == version) ?\n",
       "        Promise.resolve(paths[lib]) :\n",
       "        new Promise(function(resolve, reject) {\n",
       "          var s = document.createElement('script');\n",
       "          document.getElementsByTagName(\"head\")[0].appendChild(s);\n",
       "          s.async = true;\n",
       "          s.onload = () => {\n",
       "            VEGA_DEBUG[key] = version;\n",
       "            return resolve(paths[lib]);\n",
       "          };\n",
       "          s.onerror = () => reject(`Error loading script: ${paths[lib]}`);\n",
       "          s.src = paths[lib];\n",
       "        });\n",
       "    }\n",
       "\n",
       "    function showError(err) {\n",
       "      outputDiv.innerHTML = `<div class=\"error\" style=\"color:red;\">${err}</div>`;\n",
       "      throw err;\n",
       "    }\n",
       "\n",
       "    function displayChart(vegaEmbed) {\n",
       "      vegaEmbed(outputDiv, spec, embedOpt)\n",
       "        .catch(err => showError(`Javascript Error: ${err.message}<br>This usually means there's a typo in your chart specification. See the javascript console for the full traceback.`));\n",
       "    }\n",
       "\n",
       "    if(typeof define === \"function\" && define.amd) {\n",
       "      requirejs.config({paths});\n",
       "      require([\"vega-embed\"], displayChart, err => showError(`Error loading script: ${err.message}`));\n",
       "    } else {\n",
       "      maybeLoadScript(\"vega\", \"5\")\n",
       "        .then(() => maybeLoadScript(\"vega-lite\", \"5.17.0\"))\n",
       "        .then(() => maybeLoadScript(\"vega-embed\", \"6\"))\n",
       "        .catch(showError)\n",
       "        .then(() => displayChart(vegaEmbed));\n",
       "    }\n",
       "  })({\"config\": {\"view\": {\"continuousWidth\": 300, \"continuousHeight\": 300}}, \"layer\": [{\"mark\": {\"type\": \"rect\"}, \"encoding\": {\"color\": {\"field\": \"Count\", \"type\": \"quantitative\"}, \"tooltip\": [{\"field\": \"True\", \"type\": \"ordinal\"}, {\"field\": \"Predicted\", \"type\": \"ordinal\"}, {\"field\": \"Count\", \"type\": \"quantitative\"}], \"x\": {\"field\": \"Predicted\", \"sort\": [\"Hate Speech\", \"Non Hatespeech\"], \"type\": \"ordinal\"}, \"y\": {\"field\": \"True\", \"sort\": [\"Hate Speech\", \"Non Hatespeech\"], \"type\": \"ordinal\"}}, \"title\": \"OH_Using_HS 3STK-1 NB\"}, {\"mark\": {\"type\": \"text\", \"align\": \"center\", \"baseline\": \"middle\", \"fontSize\": 12}, \"encoding\": {\"color\": {\"condition\": {\"test\": \"(datum.Count > 493.0)\", \"value\": \"white\"}, \"value\": \"black\"}, \"text\": {\"field\": \"Count\", \"type\": \"quantitative\"}, \"tooltip\": [{\"field\": \"True\", \"type\": \"ordinal\"}, {\"field\": \"Predicted\", \"type\": \"ordinal\"}, {\"field\": \"Count\", \"type\": \"quantitative\"}], \"x\": {\"field\": \"Predicted\", \"sort\": [\"Hate Speech\", \"Non Hatespeech\"], \"type\": \"ordinal\"}, \"y\": {\"field\": \"True\", \"sort\": [\"Hate Speech\", \"Non Hatespeech\"], \"type\": \"ordinal\"}}, \"title\": \"OH_Using_HS 3STK-1 NB\"}], \"data\": {\"name\": \"data-36d28a50b9a422a4cb3ce9614504b013\"}, \"height\": 300, \"width\": 400, \"$schema\": \"https://vega.github.io/schema/vega-lite/v5.17.0.json\", \"datasets\": {\"data-36d28a50b9a422a4cb3ce9614504b013\": [{\"True\": \"Hate Speech\", \"Predicted\": \"Hate Speech\", \"Count\": 1}, {\"True\": \"Non Hatespeech\", \"Predicted\": \"Hate Speech\", \"Count\": 1}, {\"True\": \"Hate Speech\", \"Predicted\": \"Non Hatespeech\", \"Count\": 986}, {\"True\": \"Non Hatespeech\", \"Predicted\": \"Non Hatespeech\", \"Count\": 859}]}}, {\"mode\": \"vega-lite\"});\n",
       "</script>"
      ],
      "text/plain": [
       "alt.LayerChart(...)"
      ]
     },
     "metadata": {},
     "output_type": "display_data"
    }
   ],
   "source": [
    "import altair as alt\n",
    "import altair_saver\n",
    "import pandas as pd\n",
    "from sklearn.metrics import confusion_matrix\n",
    "\n",
    "# Calculate the confusion matrix\n",
    "cm = confusion_matrix(true_labels, adjusted_predictions)\n",
    "\n",
    "# Define class names\n",
    "class_names = ['Hate Speech', 'Non Hatespeech']\n",
    "\n",
    "# Convert confusion matrix to DataFrame\n",
    "cm_df = pd.DataFrame(cm, index=class_names, columns=class_names).reset_index().melt(id_vars='index')\n",
    "cm_df.columns = ['True', 'Predicted', 'Count']\n",
    "\n",
    "# Ensure the order of categories\n",
    "cm_df['True'] = pd.Categorical(cm_df['True'], categories=class_names, ordered=True)\n",
    "cm_df['Predicted'] = pd.Categorical(cm_df['Predicted'], categories=class_names, ordered=True)\n",
    "\n",
    "# Create the Altair plot\n",
    "heatmap = alt.Chart(cm_df).mark_rect().encode(\n",
    "    x=alt.X('Predicted:O', sort=class_names),\n",
    "    y=alt.Y('True:O', sort=class_names),\n",
    "    color='Count:Q',\n",
    "    tooltip=['True', 'Predicted', 'Count']\n",
    ").properties(\n",
    "    width=400,\n",
    "    height=300,\n",
    "    title='OH_Using_HS 3STK-1 NB'\n",
    ")\n",
    "\n",
    "# Add text labels\n",
    "text = heatmap.mark_text(\n",
    "    align='center',\n",
    "    baseline='middle',\n",
    "    fontSize=12\n",
    ").encode(\n",
    "    text='Count:Q',\n",
    "    color=alt.condition(\n",
    "        alt.datum.Count > cm.max() / 2,\n",
    "        alt.value('white'),\n",
    "        alt.value('black')\n",
    "    )\n",
    ")\n",
    "\n",
    "# Combine heatmap and text\n",
    "final_chart = heatmap + text\n",
    "\n",
    "# Display the plot\n",
    "final_chart.show()"
   ]
  },
  {
   "cell_type": "code",
   "execution_count": 40,
   "id": "fbf652cf-408a-4885-b887-39c4135000a1",
   "metadata": {
    "execution": {
     "iopub.execute_input": "2024-08-30T16:53:34.393549Z",
     "iopub.status.busy": "2024-08-30T16:53:34.393437Z",
     "iopub.status.idle": "2024-08-30T16:53:34.442202Z",
     "shell.execute_reply": "2024-08-30T16:53:34.441852Z",
     "shell.execute_reply.started": "2024-08-30T16:53:34.393536Z"
    }
   },
   "outputs": [
    {
     "name": "stdout",
     "output_type": "stream",
     "text": [
      "Plot saved to Results/Ensemble Model Results/On Hatespeech dataset/OH Using HS Ensemble/Stacking/OH_Using_HS 3STK-1 NB.png\n"
     ]
    }
   ],
   "source": [
    "\n",
    "# Specify the folder path\n",
    "folder_path = os.path.expanduser('Results/Ensemble Model Results/On Hatespeech dataset/OH Using HS Ensemble/Stacking/')\n",
    "\n",
    "# Save the plot using vl-convert\n",
    "file_path_png = os.path.join(folder_path, 'OH_Using_HS 3STK-1 NB.png')\n",
    "final_chart.save(file_path_png)\n",
    "\n",
    "print(f\"Plot saved to {file_path_png}\")"
   ]
  },
  {
   "cell_type": "markdown",
   "id": "1f2d3e3d-90ee-45fd-9934-756f226ee6e1",
   "metadata": {},
   "source": [
    "### DT"
   ]
  },
  {
   "cell_type": "code",
   "execution_count": 41,
   "id": "e549350b-ed54-4425-a913-7401ec7d676e",
   "metadata": {
    "execution": {
     "iopub.execute_input": "2024-08-30T16:53:34.442836Z",
     "iopub.status.busy": "2024-08-30T16:53:34.442750Z",
     "iopub.status.idle": "2024-08-30T16:53:34.448900Z",
     "shell.execute_reply": "2024-08-30T16:53:34.448619Z",
     "shell.execute_reply.started": "2024-08-30T16:53:34.442829Z"
    }
   },
   "outputs": [
    {
     "name": "stdout",
     "output_type": "stream",
     "text": [
      "Decision Tree\n",
      "Accuracy: 0.533838657282079\n",
      "Precision: 0.4988235294117647\n",
      "Recall: 0.24651162790697675\n",
      "F1 Score: 0.3299610894941634\n",
      "Confusion Matrix:\n",
      " [[774 213]\n",
      " [648 212]]\n"
     ]
    }
   ],
   "source": [
    "# Calculate metrics\n",
    "accuracy = accuracy_score(true_labels, dt_validation_predictions)\n",
    "precision = precision_score(true_labels, dt_validation_predictions, average='binary')\n",
    "recall = recall_score(true_labels, dt_validation_predictions, average='binary')\n",
    "f1 = f1_score(true_labels, dt_validation_predictions, average='binary')\n",
    "conf_matrix = confusion_matrix(true_labels, dt_validation_predictions)\n",
    "\n",
    "# Print the metrics\n",
    "print(\"Decision Tree\")\n",
    "print(f\"Accuracy: {accuracy}\")\n",
    "print(f\"Precision: {precision}\")\n",
    "print(f\"Recall: {recall}\")\n",
    "print(f\"F1 Score: {f1}\")\n",
    "print(\"Confusion Matrix:\\n\", conf_matrix)"
   ]
  },
  {
   "cell_type": "code",
   "execution_count": 42,
   "id": "90b0ac5d-b92d-4ae6-944f-ffdbfa0c2dd6",
   "metadata": {
    "execution": {
     "iopub.execute_input": "2024-08-30T16:53:34.449523Z",
     "iopub.status.busy": "2024-08-30T16:53:34.449402Z",
     "iopub.status.idle": "2024-08-30T16:53:34.516801Z",
     "shell.execute_reply": "2024-08-30T16:53:34.516328Z",
     "shell.execute_reply.started": "2024-08-30T16:53:34.449516Z"
    }
   },
   "outputs": [
    {
     "data": {
      "image/png": "[encoded data removed]",
      "text/plain": [
       "<Figure size 640x480 with 1 Axes>"
      ]
     },
     "metadata": {},
     "output_type": "display_data"
    }
   ],
   "source": [
    "# Get probability scores for the positive class\n",
    "dt_prob_scores = dt_meta_classifier.predict_proba(validation_meta_features)[:, 1]\n",
    "\n",
    "import matplotlib.pyplot as plt\n",
    "\n",
    "# Plot the distribution of predicted probabilities\n",
    "plt.hist(dt_prob_scores, bins=50, alpha=0.75)\n",
    "plt.title('Distribution of Predicted Probabilities (DT)')\n",
    "plt.xlabel('Probability of Positive Class')\n",
    "plt.ylabel('Frequency')\n",
    "plt.show()"
   ]
  },
  {
   "cell_type": "markdown",
   "id": "753715f1-17b6-42db-aa0e-7363cbf7d1fe",
   "metadata": {},
   "source": [
    "#### Optimized DT"
   ]
  },
  {
   "cell_type": "code",
   "execution_count": 43,
   "id": "625f1e48-c528-44ad-a22b-99c4a6e257ce",
   "metadata": {
    "execution": {
     "iopub.execute_input": "2024-08-30T16:53:34.517615Z",
     "iopub.status.busy": "2024-08-30T16:53:34.517499Z",
     "iopub.status.idle": "2024-08-30T16:53:34.525172Z",
     "shell.execute_reply": "2024-08-30T16:53:34.524908Z",
     "shell.execute_reply.started": "2024-08-30T16:53:34.517605Z"
    }
   },
   "outputs": [
    {
     "name": "stdout",
     "output_type": "stream",
     "text": [
      "Optimized Decision Tree\n",
      "Precision: 0.4988235294117647\n",
      "Recall: 0.24651162790697675\n",
      "Accuracy: 0.533838657282079\n",
      "F1 Score: 0.3299610894941634\n",
      "Confusion Matrix:\n",
      "[[774 213]\n",
      " [648 212]]\n"
     ]
    }
   ],
   "source": [
    "# Apply the new threshold\n",
    "adjusted_predictions = (dt_prob_scores >= dt_thresh).astype(int)\n",
    "\n",
    "# Evaluate with the new threshold\n",
    "adjusted_precision = precision_score(validation_df['label'], adjusted_predictions, average='binary')\n",
    "adjusted_recall = recall_score(validation_df['label'], adjusted_predictions, average='binary')\n",
    "adjusted_accuracy = accuracy_score(validation_df['label'], adjusted_predictions)\n",
    "adjusted_f1 = f1_score(validation_df['label'], adjusted_predictions, average='binary')\n",
    "adjusted_conf_matrix = confusion_matrix(validation_df['label'], adjusted_predictions)\n",
    "\n",
    "print(\"Optimized Decision Tree\")\n",
    "print(f\"Precision: {adjusted_precision}\")\n",
    "print(f\"Recall: {adjusted_recall}\")\n",
    "print(f\"Accuracy: {adjusted_accuracy}\")\n",
    "print(f\"F1 Score: {adjusted_f1}\")\n",
    "print(\"Confusion Matrix:\")\n",
    "print(adjusted_conf_matrix)"
   ]
  },
  {
   "cell_type": "code",
   "execution_count": 44,
   "id": "e0b308b9-8705-46bd-8d5d-bebaddde75ef",
   "metadata": {
    "execution": {
     "iopub.execute_input": "2024-08-30T16:53:34.525792Z",
     "iopub.status.busy": "2024-08-30T16:53:34.525672Z",
     "iopub.status.idle": "2024-08-30T16:53:34.956117Z",
     "shell.execute_reply": "2024-08-30T16:53:34.955247Z",
     "shell.execute_reply.started": "2024-08-30T16:53:34.525782Z"
    }
   },
   "outputs": [
    {
     "name": "stdout",
     "output_type": "stream",
     "text": [
      "Updated cells count: 4\n"
     ]
    }
   ],
   "source": [
    "# SAVE TO GOOGLE SHEET\n",
    "\n",
    "# Define the range and values to update\n",
    "range_name = '3-1!F6:I6'  \n",
    "\n",
    "values = [[\n",
    "    f\"{adjusted_precision * 100:.2f}\",\n",
    "    f\"{adjusted_recall * 100:.2f}\",\n",
    "    f\"{adjusted_accuracy * 100:.2f}\",\n",
    "    f\"{adjusted_f1 * 100:.2f}\"\n",
    "]]\n",
    "\n",
    "# Prepare the request body\n",
    "body = {\n",
    "    'values': values\n",
    "}\n",
    "\n",
    "# Call the Sheets API to update the values\n",
    "result = service.spreadsheets().values().update(\n",
    "    spreadsheetId=spreadsheet_id, \n",
    "    range=range_name,\n",
    "    valueInputOption='USER_ENTERED',\n",
    "    body=body\n",
    ").execute()\n",
    "\n",
    "print('Updated cells count:', result.get('updatedCells'))"
   ]
  },
  {
   "cell_type": "markdown",
   "id": "c4798ad9-95c8-459c-99bc-240610a48e3d",
   "metadata": {},
   "source": [
    "#### Save Confusion Matrix"
   ]
  },
  {
   "cell_type": "code",
   "execution_count": 45,
   "id": "2a157f45-fc37-45d3-86e4-18fabbe706d6",
   "metadata": {
    "execution": {
     "iopub.execute_input": "2024-08-30T16:53:34.957609Z",
     "iopub.status.busy": "2024-08-30T16:53:34.957221Z",
     "iopub.status.idle": "2024-08-30T16:53:35.019448Z",
     "shell.execute_reply": "2024-08-30T16:53:35.018967Z",
     "shell.execute_reply.started": "2024-08-30T16:53:34.957586Z"
    }
   },
   "outputs": [
    {
     "data": {
      "text/html": [
       "\n",
       "<style>\n",
       "  #altair-viz-bf787b2c6c114e968be8f4acff35e96c.vega-embed {\n",
       "    width: 100%;\n",
       "    display: flex;\n",
       "  }\n",
       "\n",
       "  #altair-viz-bf787b2c6c114e968be8f4acff35e96c.vega-embed details,\n",
       "  #altair-viz-bf787b2c6c114e968be8f4acff35e96c.vega-embed details summary {\n",
       "    position: relative;\n",
       "  }\n",
       "</style>\n",
       "<div id=\"altair-viz-bf787b2c6c114e968be8f4acff35e96c\"></div>\n",
       "<script type=\"text/javascript\">\n",
       "  var VEGA_DEBUG = (typeof VEGA_DEBUG == \"undefined\") ? {} : VEGA_DEBUG;\n",
       "  (function(spec, embedOpt){\n",
       "    let outputDiv = document.currentScript.previousElementSibling;\n",
       "    if (outputDiv.id !== \"altair-viz-bf787b2c6c114e968be8f4acff35e96c\") {\n",
       "      outputDiv = document.getElementById(\"altair-viz-bf787b2c6c114e968be8f4acff35e96c\");\n",
       "    }\n",
       "    const paths = {\n",
       "      \"vega\": \"https://cdn.jsdelivr.net/npm/vega@5?noext\",\n",
       "      \"vega-lib\": \"https://cdn.jsdelivr.net/npm/vega-lib?noext\",\n",
       "      \"vega-lite\": \"https://cdn.jsdelivr.net/npm/vega-lite@5.17.0?noext\",\n",
       "      \"vega-embed\": \"https://cdn.jsdelivr.net/npm/vega-embed@6?noext\",\n",
       "    };\n",
       "\n",
       "    function maybeLoadScript(lib, version) {\n",
       "      var key = `${lib.replace(\"-\", \"\")}_version`;\n",
       "      return (VEGA_DEBUG[key] == version) ?\n",
       "        Promise.resolve(paths[lib]) :\n",
       "        new Promise(function(resolve, reject) {\n",
       "          var s = document.createElement('script');\n",
       "          document.getElementsByTagName(\"head\")[0].appendChild(s);\n",
       "          s.async = true;\n",
       "          s.onload = () => {\n",
       "            VEGA_DEBUG[key] = version;\n",
       "            return resolve(paths[lib]);\n",
       "          };\n",
       "          s.onerror = () => reject(`Error loading script: ${paths[lib]}`);\n",
       "          s.src = paths[lib];\n",
       "        });\n",
       "    }\n",
       "\n",
       "    function showError(err) {\n",
       "      outputDiv.innerHTML = `<div class=\"error\" style=\"color:red;\">${err}</div>`;\n",
       "      throw err;\n",
       "    }\n",
       "\n",
       "    function displayChart(vegaEmbed) {\n",
       "      vegaEmbed(outputDiv, spec, embedOpt)\n",
       "        .catch(err => showError(`Javascript Error: ${err.message}<br>This usually means there's a typo in your chart specification. See the javascript console for the full traceback.`));\n",
       "    }\n",
       "\n",
       "    if(typeof define === \"function\" && define.amd) {\n",
       "      requirejs.config({paths});\n",
       "      require([\"vega-embed\"], displayChart, err => showError(`Error loading script: ${err.message}`));\n",
       "    } else {\n",
       "      maybeLoadScript(\"vega\", \"5\")\n",
       "        .then(() => maybeLoadScript(\"vega-lite\", \"5.17.0\"))\n",
       "        .then(() => maybeLoadScript(\"vega-embed\", \"6\"))\n",
       "        .catch(showError)\n",
       "        .then(() => displayChart(vegaEmbed));\n",
       "    }\n",
       "  })({\"config\": {\"view\": {\"continuousWidth\": 300, \"continuousHeight\": 300}}, \"layer\": [{\"mark\": {\"type\": \"rect\"}, \"encoding\": {\"color\": {\"field\": \"Count\", \"type\": \"quantitative\"}, \"tooltip\": [{\"field\": \"True\", \"type\": \"ordinal\"}, {\"field\": \"Predicted\", \"type\": \"ordinal\"}, {\"field\": \"Count\", \"type\": \"quantitative\"}], \"x\": {\"field\": \"Predicted\", \"sort\": [\"Hate Speech\", \"Non Hatespeech\"], \"type\": \"ordinal\"}, \"y\": {\"field\": \"True\", \"sort\": [\"Hate Speech\", \"Non Hatespeech\"], \"type\": \"ordinal\"}}, \"title\": \"OH_Using_HS 3STK-1 DT\"}, {\"mark\": {\"type\": \"text\", \"align\": \"center\", \"baseline\": \"middle\", \"fontSize\": 12}, \"encoding\": {\"color\": {\"condition\": {\"test\": \"(datum.Count > 387.0)\", \"value\": \"white\"}, \"value\": \"black\"}, \"text\": {\"field\": \"Count\", \"type\": \"quantitative\"}, \"tooltip\": [{\"field\": \"True\", \"type\": \"ordinal\"}, {\"field\": \"Predicted\", \"type\": \"ordinal\"}, {\"field\": \"Count\", \"type\": \"quantitative\"}], \"x\": {\"field\": \"Predicted\", \"sort\": [\"Hate Speech\", \"Non Hatespeech\"], \"type\": \"ordinal\"}, \"y\": {\"field\": \"True\", \"sort\": [\"Hate Speech\", \"Non Hatespeech\"], \"type\": \"ordinal\"}}, \"title\": \"OH_Using_HS 3STK-1 DT\"}], \"data\": {\"name\": \"data-443c434ebf058a4f758af81a0a09e2a4\"}, \"height\": 300, \"width\": 400, \"$schema\": \"https://vega.github.io/schema/vega-lite/v5.17.0.json\", \"datasets\": {\"data-443c434ebf058a4f758af81a0a09e2a4\": [{\"True\": \"Hate Speech\", \"Predicted\": \"Hate Speech\", \"Count\": 774}, {\"True\": \"Non Hatespeech\", \"Predicted\": \"Hate Speech\", \"Count\": 648}, {\"True\": \"Hate Speech\", \"Predicted\": \"Non Hatespeech\", \"Count\": 213}, {\"True\": \"Non Hatespeech\", \"Predicted\": \"Non Hatespeech\", \"Count\": 212}]}}, {\"mode\": \"vega-lite\"});\n",
       "</script>"
      ],
      "text/plain": [
       "alt.LayerChart(...)"
      ]
     },
     "metadata": {},
     "output_type": "display_data"
    }
   ],
   "source": [
    "import altair as alt\n",
    "import altair_saver\n",
    "import pandas as pd\n",
    "from sklearn.metrics import confusion_matrix\n",
    "\n",
    "# Calculate the confusion matrix\n",
    "cm = confusion_matrix(true_labels, adjusted_predictions)\n",
    "\n",
    "# Define class names\n",
    "class_names = ['Hate Speech', 'Non Hatespeech']\n",
    "\n",
    "# Convert confusion matrix to DataFrame\n",
    "cm_df = pd.DataFrame(cm, index=class_names, columns=class_names).reset_index().melt(id_vars='index')\n",
    "cm_df.columns = ['True', 'Predicted', 'Count']\n",
    "\n",
    "# Ensure the order of categories\n",
    "cm_df['True'] = pd.Categorical(cm_df['True'], categories=class_names, ordered=True)\n",
    "cm_df['Predicted'] = pd.Categorical(cm_df['Predicted'], categories=class_names, ordered=True)\n",
    "\n",
    "# Create the Altair plot\n",
    "heatmap = alt.Chart(cm_df).mark_rect().encode(\n",
    "    x=alt.X('Predicted:O', sort=class_names),\n",
    "    y=alt.Y('True:O', sort=class_names),\n",
    "    color='Count:Q',\n",
    "    tooltip=['True', 'Predicted', 'Count']\n",
    ").properties(\n",
    "    width=400,\n",
    "    height=300,\n",
    "    title='OH_Using_HS 3STK-1 DT'\n",
    ")\n",
    "\n",
    "# Add text labels\n",
    "text = heatmap.mark_text(\n",
    "    align='center',\n",
    "    baseline='middle',\n",
    "    fontSize=12\n",
    ").encode(\n",
    "    text='Count:Q',\n",
    "    color=alt.condition(\n",
    "        alt.datum.Count > cm.max() / 2,\n",
    "        alt.value('white'),\n",
    "        alt.value('black')\n",
    "    )\n",
    ")\n",
    "\n",
    "# Combine heatmap and text\n",
    "final_chart = heatmap + text\n",
    "\n",
    "# Display the plot\n",
    "final_chart.show()"
   ]
  },
  {
   "cell_type": "code",
   "execution_count": 46,
   "id": "64f374fa-b8b7-49ee-82ac-6d24d4692115",
   "metadata": {
    "execution": {
     "iopub.execute_input": "2024-08-30T16:53:35.020540Z",
     "iopub.status.busy": "2024-08-30T16:53:35.020234Z",
     "iopub.status.idle": "2024-08-30T16:53:35.069518Z",
     "shell.execute_reply": "2024-08-30T16:53:35.069118Z",
     "shell.execute_reply.started": "2024-08-30T16:53:35.020526Z"
    }
   },
   "outputs": [
    {
     "name": "stdout",
     "output_type": "stream",
     "text": [
      "Plot saved to Results/Ensemble Model Results/On Hatespeech dataset/OH Using HS Ensemble/Stacking/OH_Using_HS 3STK-1 DT.png\n"
     ]
    }
   ],
   "source": [
    "\n",
    "# Specify the folder path\n",
    "folder_path = os.path.expanduser('Results/Ensemble Model Results/On Hatespeech dataset/OH Using HS Ensemble/Stacking/')\n",
    "\n",
    "# Save the plot using vl-convert\n",
    "file_path_png = os.path.join(folder_path, 'OH_Using_HS 3STK-1 DT.png')\n",
    "final_chart.save(file_path_png)\n",
    "\n",
    "print(f\"Plot saved to {file_path_png}\")"
   ]
  },
  {
   "cell_type": "markdown",
   "id": "617d6721-27ff-4989-98c9-63c9f5bf6017",
   "metadata": {},
   "source": [
    "### SVM"
   ]
  },
  {
   "cell_type": "code",
   "execution_count": 47,
   "id": "a09fcca8-2569-41cd-b218-d4d368329c02",
   "metadata": {
    "execution": {
     "iopub.execute_input": "2024-08-30T16:53:35.070365Z",
     "iopub.status.busy": "2024-08-30T16:53:35.070208Z",
     "iopub.status.idle": "2024-08-30T16:53:35.077473Z",
     "shell.execute_reply": "2024-08-30T16:53:35.077127Z",
     "shell.execute_reply.started": "2024-08-30T16:53:35.070357Z"
    }
   },
   "outputs": [
    {
     "name": "stdout",
     "output_type": "stream",
     "text": [
      "SVM\n",
      "Accuracy: 0.5343800757985923\n",
      "Precision: 0.0\n",
      "Recall: 0.0\n",
      "F1 Score: 0.0\n",
      "Confusion Matrix:\n",
      " [[987   0]\n",
      " [860   0]]\n"
     ]
    },
    {
     "name": "stderr",
     "output_type": "stream",
     "text": [
      "/opt/anaconda3/envs/thesis/lib/python3.10/site-packages/sklearn/metrics/_classification.py:1509: UndefinedMetricWarning: Precision is ill-defined and being set to 0.0 due to no predicted samples. Use `zero_division` parameter to control this behavior.\n",
      "  _warn_prf(average, modifier, f\"{metric.capitalize()} is\", len(result))\n"
     ]
    }
   ],
   "source": [
    "# Calculate metrics\n",
    "accuracy = accuracy_score(true_labels, svm_validation_predictions)\n",
    "precision = precision_score(true_labels, svm_validation_predictions, average='binary')\n",
    "recall = recall_score(true_labels, svm_validation_predictions, average='binary')\n",
    "f1 = f1_score(true_labels, svm_validation_predictions, average='binary')\n",
    "conf_matrix = confusion_matrix(true_labels, svm_validation_predictions)\n",
    "\n",
    "# Print the metrics\n",
    "print(\"SVM\")\n",
    "print(f\"Accuracy: {accuracy}\")\n",
    "print(f\"Precision: {precision}\")\n",
    "print(f\"Recall: {recall}\")\n",
    "print(f\"F1 Score: {f1}\")\n",
    "print(\"Confusion Matrix:\\n\", conf_matrix)"
   ]
  },
  {
   "cell_type": "code",
   "execution_count": 48,
   "id": "77340c4b-d3b1-4cb4-b86a-3eef5835cc64",
   "metadata": {
    "execution": {
     "iopub.execute_input": "2024-08-30T16:53:35.078132Z",
     "iopub.status.busy": "2024-08-30T16:53:35.078011Z",
     "iopub.status.idle": "2024-08-30T16:53:35.183653Z",
     "shell.execute_reply": "2024-08-30T16:53:35.183290Z",
     "shell.execute_reply.started": "2024-08-30T16:53:35.078125Z"
    }
   },
   "outputs": [
    {
     "data": {
      "image/png": "[encoded data removed]",
      "text/plain": [
       "<Figure size 640x480 with 1 Axes>"
      ]
     },
     "metadata": {},
     "output_type": "display_data"
    }
   ],
   "source": [
    "# Get probability scores for the positive class\n",
    "svm_prob_scores = svm_meta_classifier.predict_proba(validation_meta_features)[:, 1]\n",
    "\n",
    "import matplotlib.pyplot as plt\n",
    "\n",
    "# Plot the distribution of predicted probabilities\n",
    "plt.hist(svm_prob_scores, bins=50, alpha=0.75)\n",
    "plt.title('Distribution of Predicted Probabilities (SVM)')\n",
    "plt.xlabel('Probability of Positive Class')\n",
    "plt.ylabel('Frequency')\n",
    "plt.show()"
   ]
  },
  {
   "cell_type": "markdown",
   "id": "8c9d1f5a-68d0-4630-946c-a8c0b7ef1409",
   "metadata": {},
   "source": [
    "#### Optimized SVM"
   ]
  },
  {
   "cell_type": "code",
   "execution_count": 49,
   "id": "208ccfc7-308a-4466-9050-cdd7f757c4e3",
   "metadata": {
    "execution": {
     "iopub.execute_input": "2024-08-30T16:53:35.184227Z",
     "iopub.status.busy": "2024-08-30T16:53:35.184127Z",
     "iopub.status.idle": "2024-08-30T16:53:35.191109Z",
     "shell.execute_reply": "2024-08-30T16:53:35.190832Z",
     "shell.execute_reply.started": "2024-08-30T16:53:35.184220Z"
    }
   },
   "outputs": [
    {
     "name": "stdout",
     "output_type": "stream",
     "text": [
      "Optimized SVM\n",
      "Precision: 0.8413897280966768\n",
      "Recall: 0.6476744186046511\n",
      "Accuracy: 0.779101245262588\n",
      "F1 Score: 0.7319316688567674\n",
      "Confusion Matrix:\n",
      "[[882 105]\n",
      " [303 557]]\n"
     ]
    }
   ],
   "source": [
    "# Apply the new threshold\n",
    "adjusted_predictions = (svm_prob_scores >= svm_thresh).astype(int)\n",
    "\n",
    "# Evaluate with the new threshold\n",
    "adjusted_precision = precision_score(validation_df['label'], adjusted_predictions, average='binary')\n",
    "adjusted_recall = recall_score(validation_df['label'], adjusted_predictions, average='binary')\n",
    "adjusted_accuracy = accuracy_score(validation_df['label'], adjusted_predictions)\n",
    "adjusted_f1 = f1_score(validation_df['label'], adjusted_predictions, average='binary')\n",
    "adjusted_conf_matrix = confusion_matrix(validation_df['label'], adjusted_predictions)\n",
    "\n",
    "print(\"Optimized SVM\")\n",
    "print(f\"Precision: {adjusted_precision}\")\n",
    "print(f\"Recall: {adjusted_recall}\")\n",
    "print(f\"Accuracy: {adjusted_accuracy}\")\n",
    "print(f\"F1 Score: {adjusted_f1}\")\n",
    "print(\"Confusion Matrix:\")\n",
    "print(adjusted_conf_matrix)"
   ]
  },
  {
   "cell_type": "code",
   "execution_count": 50,
   "id": "34eb64a6-787a-415a-a9b7-bc98df897e95",
   "metadata": {
    "execution": {
     "iopub.execute_input": "2024-08-30T16:53:35.191745Z",
     "iopub.status.busy": "2024-08-30T16:53:35.191615Z",
     "iopub.status.idle": "2024-08-30T16:53:35.670644Z",
     "shell.execute_reply": "2024-08-30T16:53:35.669677Z",
     "shell.execute_reply.started": "2024-08-30T16:53:35.191737Z"
    }
   },
   "outputs": [
    {
     "name": "stdout",
     "output_type": "stream",
     "text": [
      "Updated cells count: 4\n"
     ]
    }
   ],
   "source": [
    "# SAVE TO GOOGLE SHEET\n",
    "\n",
    "# Define the range and values to update\n",
    "range_name = '3-1!F7:I7'  \n",
    "\n",
    "values = [[\n",
    "    f\"{adjusted_precision * 100:.2f}\",\n",
    "    f\"{adjusted_recall * 100:.2f}\",\n",
    "    f\"{adjusted_accuracy * 100:.2f}\",\n",
    "    f\"{adjusted_f1 * 100:.2f}\"\n",
    "]]\n",
    "\n",
    "# Prepare the request body\n",
    "body = {\n",
    "    'values': values\n",
    "}\n",
    "\n",
    "# Call the Sheets API to update the values\n",
    "result = service.spreadsheets().values().update(\n",
    "    spreadsheetId=spreadsheet_id, \n",
    "    range=range_name,\n",
    "    valueInputOption='USER_ENTERED',\n",
    "    body=body\n",
    ").execute()\n",
    "\n",
    "print('Updated cells count:', result.get('updatedCells'))"
   ]
  },
  {
   "cell_type": "markdown",
   "id": "b149b4a3-a004-4995-bc11-89bebc850f99",
   "metadata": {},
   "source": [
    "#### Save Confusion Matrix"
   ]
  },
  {
   "cell_type": "code",
   "execution_count": 51,
   "id": "cf20b151-3482-475b-ae3f-988abf7eb2ff",
   "metadata": {
    "execution": {
     "iopub.execute_input": "2024-08-30T16:53:35.672272Z",
     "iopub.status.busy": "2024-08-30T16:53:35.671926Z",
     "iopub.status.idle": "2024-08-30T16:53:35.721814Z",
     "shell.execute_reply": "2024-08-30T16:53:35.721400Z",
     "shell.execute_reply.started": "2024-08-30T16:53:35.672235Z"
    }
   },
   "outputs": [
    {
     "data": {
      "text/html": [
       "\n",
       "<style>\n",
       "  #altair-viz-8430ec45c2624da094b1fb20ea25e814.vega-embed {\n",
       "    width: 100%;\n",
       "    display: flex;\n",
       "  }\n",
       "\n",
       "  #altair-viz-8430ec45c2624da094b1fb20ea25e814.vega-embed details,\n",
       "  #altair-viz-8430ec45c2624da094b1fb20ea25e814.vega-embed details summary {\n",
       "    position: relative;\n",
       "  }\n",
       "</style>\n",
       "<div id=\"altair-viz-8430ec45c2624da094b1fb20ea25e814\"></div>\n",
       "<script type=\"text/javascript\">\n",
       "  var VEGA_DEBUG = (typeof VEGA_DEBUG == \"undefined\") ? {} : VEGA_DEBUG;\n",
       "  (function(spec, embedOpt){\n",
       "    let outputDiv = document.currentScript.previousElementSibling;\n",
       "    if (outputDiv.id !== \"altair-viz-8430ec45c2624da094b1fb20ea25e814\") {\n",
       "      outputDiv = document.getElementById(\"altair-viz-8430ec45c2624da094b1fb20ea25e814\");\n",
       "    }\n",
       "    const paths = {\n",
       "      \"vega\": \"https://cdn.jsdelivr.net/npm/vega@5?noext\",\n",
       "      \"vega-lib\": \"https://cdn.jsdelivr.net/npm/vega-lib?noext\",\n",
       "      \"vega-lite\": \"https://cdn.jsdelivr.net/npm/vega-lite@5.17.0?noext\",\n",
       "      \"vega-embed\": \"https://cdn.jsdelivr.net/npm/vega-embed@6?noext\",\n",
       "    };\n",
       "\n",
       "    function maybeLoadScript(lib, version) {\n",
       "      var key = `${lib.replace(\"-\", \"\")}_version`;\n",
       "      return (VEGA_DEBUG[key] == version) ?\n",
       "        Promise.resolve(paths[lib]) :\n",
       "        new Promise(function(resolve, reject) {\n",
       "          var s = document.createElement('script');\n",
       "          document.getElementsByTagName(\"head\")[0].appendChild(s);\n",
       "          s.async = true;\n",
       "          s.onload = () => {\n",
       "            VEGA_DEBUG[key] = version;\n",
       "            return resolve(paths[lib]);\n",
       "          };\n",
       "          s.onerror = () => reject(`Error loading script: ${paths[lib]}`);\n",
       "          s.src = paths[lib];\n",
       "        });\n",
       "    }\n",
       "\n",
       "    function showError(err) {\n",
       "      outputDiv.innerHTML = `<div class=\"error\" style=\"color:red;\">${err}</div>`;\n",
       "      throw err;\n",
       "    }\n",
       "\n",
       "    function displayChart(vegaEmbed) {\n",
       "      vegaEmbed(outputDiv, spec, embedOpt)\n",
       "        .catch(err => showError(`Javascript Error: ${err.message}<br>This usually means there's a typo in your chart specification. See the javascript console for the full traceback.`));\n",
       "    }\n",
       "\n",
       "    if(typeof define === \"function\" && define.amd) {\n",
       "      requirejs.config({paths});\n",
       "      require([\"vega-embed\"], displayChart, err => showError(`Error loading script: ${err.message}`));\n",
       "    } else {\n",
       "      maybeLoadScript(\"vega\", \"5\")\n",
       "        .then(() => maybeLoadScript(\"vega-lite\", \"5.17.0\"))\n",
       "        .then(() => maybeLoadScript(\"vega-embed\", \"6\"))\n",
       "        .catch(showError)\n",
       "        .then(() => displayChart(vegaEmbed));\n",
       "    }\n",
       "  })({\"config\": {\"view\": {\"continuousWidth\": 300, \"continuousHeight\": 300}}, \"layer\": [{\"mark\": {\"type\": \"rect\"}, \"encoding\": {\"color\": {\"field\": \"Count\", \"type\": \"quantitative\"}, \"tooltip\": [{\"field\": \"True\", \"type\": \"ordinal\"}, {\"field\": \"Predicted\", \"type\": \"ordinal\"}, {\"field\": \"Count\", \"type\": \"quantitative\"}], \"x\": {\"field\": \"Predicted\", \"sort\": [\"Hate Speech\", \"Non Hatespeech\"], \"type\": \"ordinal\"}, \"y\": {\"field\": \"True\", \"sort\": [\"Hate Speech\", \"Non Hatespeech\"], \"type\": \"ordinal\"}}, \"title\": \"OH_Using_HS 3STK-1 SVM\"}, {\"mark\": {\"type\": \"text\", \"align\": \"center\", \"baseline\": \"middle\", \"fontSize\": 12}, \"encoding\": {\"color\": {\"condition\": {\"test\": \"(datum.Count > 441.0)\", \"value\": \"white\"}, \"value\": \"black\"}, \"text\": {\"field\": \"Count\", \"type\": \"quantitative\"}, \"tooltip\": [{\"field\": \"True\", \"type\": \"ordinal\"}, {\"field\": \"Predicted\", \"type\": \"ordinal\"}, {\"field\": \"Count\", \"type\": \"quantitative\"}], \"x\": {\"field\": \"Predicted\", \"sort\": [\"Hate Speech\", \"Non Hatespeech\"], \"type\": \"ordinal\"}, \"y\": {\"field\": \"True\", \"sort\": [\"Hate Speech\", \"Non Hatespeech\"], \"type\": \"ordinal\"}}, \"title\": \"OH_Using_HS 3STK-1 SVM\"}], \"data\": {\"name\": \"data-fedba4b7b3abbe1c20273566989d0cf8\"}, \"height\": 300, \"width\": 400, \"$schema\": \"https://vega.github.io/schema/vega-lite/v5.17.0.json\", \"datasets\": {\"data-fedba4b7b3abbe1c20273566989d0cf8\": [{\"True\": \"Hate Speech\", \"Predicted\": \"Hate Speech\", \"Count\": 882}, {\"True\": \"Non Hatespeech\", \"Predicted\": \"Hate Speech\", \"Count\": 303}, {\"True\": \"Hate Speech\", \"Predicted\": \"Non Hatespeech\", \"Count\": 105}, {\"True\": \"Non Hatespeech\", \"Predicted\": \"Non Hatespeech\", \"Count\": 557}]}}, {\"mode\": \"vega-lite\"});\n",
       "</script>"
      ],
      "text/plain": [
       "alt.LayerChart(...)"
      ]
     },
     "metadata": {},
     "output_type": "display_data"
    }
   ],
   "source": [
    "import altair as alt\n",
    "import altair_saver\n",
    "import pandas as pd\n",
    "from sklearn.metrics import confusion_matrix\n",
    "\n",
    "# Calculate the confusion matrix\n",
    "cm = confusion_matrix(true_labels, adjusted_predictions)\n",
    "\n",
    "# Define class names\n",
    "class_names = ['Hate Speech', 'Non Hatespeech']\n",
    "\n",
    "# Convert confusion matrix to DataFrame\n",
    "cm_df = pd.DataFrame(cm, index=class_names, columns=class_names).reset_index().melt(id_vars='index')\n",
    "cm_df.columns = ['True', 'Predicted', 'Count']\n",
    "\n",
    "# Ensure the order of categories\n",
    "cm_df['True'] = pd.Categorical(cm_df['True'], categories=class_names, ordered=True)\n",
    "cm_df['Predicted'] = pd.Categorical(cm_df['Predicted'], categories=class_names, ordered=True)\n",
    "\n",
    "# Create the Altair plot\n",
    "heatmap = alt.Chart(cm_df).mark_rect().encode(\n",
    "    x=alt.X('Predicted:O', sort=class_names),\n",
    "    y=alt.Y('True:O', sort=class_names),\n",
    "    color='Count:Q',\n",
    "    tooltip=['True', 'Predicted', 'Count']\n",
    ").properties(\n",
    "    width=400,\n",
    "    height=300,\n",
    "    title='OH_Using_HS 3STK-1 SVM'\n",
    ")\n",
    "\n",
    "# Add text labels\n",
    "text = heatmap.mark_text(\n",
    "    align='center',\n",
    "    baseline='middle',\n",
    "    fontSize=12\n",
    ").encode(\n",
    "    text='Count:Q',\n",
    "    color=alt.condition(\n",
    "        alt.datum.Count > cm.max() / 2,\n",
    "        alt.value('white'),\n",
    "        alt.value('black')\n",
    "    )\n",
    ")\n",
    "\n",
    "# Combine heatmap and text\n",
    "final_chart = heatmap + text\n",
    "\n",
    "# Display the plot\n",
    "final_chart.show()"
   ]
  },
  {
   "cell_type": "code",
   "execution_count": 52,
   "id": "b1af081d-9e59-4fcf-9828-9ed2e446dedb",
   "metadata": {
    "execution": {
     "iopub.execute_input": "2024-08-30T16:53:35.722587Z",
     "iopub.status.busy": "2024-08-30T16:53:35.722497Z",
     "iopub.status.idle": "2024-08-30T16:53:35.768897Z",
     "shell.execute_reply": "2024-08-30T16:53:35.768536Z",
     "shell.execute_reply.started": "2024-08-30T16:53:35.722579Z"
    }
   },
   "outputs": [
    {
     "name": "stdout",
     "output_type": "stream",
     "text": [
      "Plot saved to Results/Ensemble Model Results/On Hatespeech dataset/OH Using HS Ensemble/Stacking/OH_Using_HS 3STK-1 SVM.png\n"
     ]
    }
   ],
   "source": [
    "# Specify the folder path\n",
    "folder_path = os.path.expanduser('Results/Ensemble Model Results/On Hatespeech dataset/OH Using HS Ensemble/Stacking/')\n",
    "\n",
    "# Save the plot using vl-convert\n",
    "file_path_png = os.path.join(folder_path, 'OH_Using_HS 3STK-1 SVM.png')\n",
    "final_chart.save(file_path_png)\n",
    "\n",
    "print(f\"Plot saved to {file_path_png}\")"
   ]
  },
  {
   "cell_type": "code",
   "execution_count": null,
   "id": "0e6167c5-79fd-4536-815c-237ec599453a",
   "metadata": {},
   "outputs": [],
   "source": []
  }
 ],
 "metadata": {
  "kernelspec": {
   "display_name": "Python 3 (ipykernel)",
   "language": "python",
   "name": "python3"
  },
  "language_info": {
   "codemirror_mode": {
    "name": "ipython",
    "version": 3
   },
   "file_extension": ".py",
   "mimetype": "text/x-python",
   "name": "python",
   "nbconvert_exporter": "python",
   "pygments_lexer": "ipython3",
   "version": "3.10.14"
  }
 },
 "nbformat": 4,
 "nbformat_minor": 5
}
