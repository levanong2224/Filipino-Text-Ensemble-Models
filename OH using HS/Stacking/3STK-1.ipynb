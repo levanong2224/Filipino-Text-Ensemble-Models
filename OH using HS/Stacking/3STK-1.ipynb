{
 "cells": [
  {
   "cell_type": "markdown",
   "id": "1dc06b17-fcee-4505-bd74-d98376ce3ed9",
   "metadata": {},
   "source": [
    "# Train Stacking"
   ]
  },
  {
   "cell_type": "code",
   "execution_count": 1,
   "id": "5ec895e9-603c-4e5a-89d6-8316fe6c6c8a",
   "metadata": {
    "execution": {
     "iopub.execute_input": "2024-09-25T04:14:18.762722Z",
     "iopub.status.busy": "2024-09-25T04:14:18.762621Z",
     "iopub.status.idle": "2024-09-25T04:14:19.335223Z",
     "shell.execute_reply": "2024-09-25T04:14:19.334974Z",
     "shell.execute_reply.started": "2024-09-25T04:14:18.762711Z"
    }
   },
   "outputs": [],
   "source": [
    "import random\n",
    "import numpy as np\n",
    "import torch\n",
    "\n",
    "def set_seed(seed=42):\n",
    "    random.seed(seed)\n",
    "    np.random.seed(seed)\n",
    "    torch.manual_seed(seed)\n",
    "    if torch.backends.mps.is_available():\n",
    "        # Currently, there's no separate manual seed function for MPS like torch.cuda.manual_seed_all()\n",
    "        pass \n",
    "    else:\n",
    "        print(\"MPS device not available. Using CPU.\")\n",
    "        \n",
    "set_seed()\n"
   ]
  },
  {
   "cell_type": "markdown",
   "id": "02c6a724-b17e-46f6-aee6-90ef2f7877a9",
   "metadata": {
    "execution": {
     "iopub.execute_input": "2024-08-13T15:08:53.465538Z",
     "iopub.status.busy": "2024-08-13T15:08:53.465321Z",
     "iopub.status.idle": "2024-08-13T15:08:53.469076Z",
     "shell.execute_reply": "2024-08-13T15:08:53.468592Z",
     "shell.execute_reply.started": "2024-08-13T15:08:53.465526Z"
    }
   },
   "source": [
    "Best F1 score BERT model on HS_C dataset are used"
   ]
  },
  {
   "cell_type": "code",
   "execution_count": 2,
   "id": "3823c3e6-976a-4eb9-a651-2cfeaa1a3cc0",
   "metadata": {
    "execution": {
     "iopub.execute_input": "2024-09-25T04:14:19.336478Z",
     "iopub.status.busy": "2024-09-25T04:14:19.336409Z",
     "iopub.status.idle": "2024-09-25T04:14:19.463084Z",
     "shell.execute_reply": "2024-09-25T04:14:19.462772Z",
     "shell.execute_reply.started": "2024-09-25T04:14:19.336472Z"
    }
   },
   "outputs": [],
   "source": [
    "# This automates data tabulation onto google sheets \n",
    "\n",
    "import gspread\n",
    "from oauth2client.service_account import ServiceAccountCredentials\n",
    "from googleapiclient.discovery import build\n",
    "\n",
    "import os\n",
    "\n",
    "# new directory path\n",
    "new_directory = '/Users/levan/ATENEO MASTERAL/Thesis'\n",
    "\n",
    "# Change the current working directory\n",
    "os.chdir(new_directory)\n",
    "\n",
    "# Use creds to create a client to interact with the Google Drive API\n",
    "scope = ['https://spreadsheets.google.com/feeds','https://www.googleapis.com/auth/drive']\n",
    "creds = ServiceAccountCredentials.from_json_keyfile_name('thesis-432315-12daec8d1ff6.json', scope)\n",
    "\n",
    "service = build('sheets', 'v4', credentials=creds)\n",
    "\n",
    "client = gspread.authorize(creds)\n",
    "\n",
    "spreadsheet_id = '1wKr9B0W-j7C-38o-DoQY_ldR7Leroua-RaDHG3Mbkf0' "
   ]
  },
  {
   "cell_type": "markdown",
   "id": "63d70bdb-0504-41ef-913d-e4b7f778f561",
   "metadata": {},
   "source": [
    "## Load Dataset"
   ]
  },
  {
   "cell_type": "code",
   "execution_count": 3,
   "id": "c7b193db-3f30-4e5f-a38b-c254bf1e1976",
   "metadata": {
    "execution": {
     "iopub.execute_input": "2024-09-25T04:14:19.463568Z",
     "iopub.status.busy": "2024-09-25T04:14:19.463475Z",
     "iopub.status.idle": "2024-09-25T04:14:20.723542Z",
     "shell.execute_reply": "2024-09-25T04:14:20.723265Z",
     "shell.execute_reply.started": "2024-09-25T04:14:19.463559Z"
    }
   },
   "outputs": [],
   "source": [
    "import pandas as pd\n",
    "import numpy as np\n",
    "from sklearn.model_selection import train_test_split\n",
    "from transformers import BertTokenizer, BertForSequenceClassification, AutoConfig\n",
    "from transformers import AutoTokenizer, AutoModelForSequenceClassification\n",
    "from torch.utils.data import DataLoader, TensorDataset\n",
    "import torch\n",
    "import torch.nn.functional as F\n",
    "from torch.optim import AdamW\n",
    "from sklearn.model_selection import StratifiedKFold\n",
    "\n",
    "from sklearn.linear_model import LogisticRegression\n",
    "from sklearn.tree import DecisionTreeClassifier\n",
    "from sklearn.naive_bayes import BernoulliNB\n",
    "from sklearn.naive_bayes import GaussianNB\n",
    "from sklearn.svm import LinearSVC\n",
    "from sklearn.svm import SVC\n",
    "\n",
    "from sklearn.metrics import accuracy_score, precision_score, recall_score, f1_score, confusion_matrix\n",
    "\n",
    "\n",
    "import os\n",
    "\n",
    "# new directory path\n",
    "new_directory = '/Users/levan/ATENEO MASTERAL/Thesis/Development'\n",
    "\n",
    "# Change the current working directory\n",
    "os.chdir(new_directory)\n",
    "\n",
    "#Load Data\n",
    "df = pd.read_csv('Corpus/data_b.csv')\n",
    "X = df['text'].values\n",
    "y = df['label'].values\n",
    "\n",
    "# Split dataset\n",
    "X_train, X_test, y_train, y_test = train_test_split(X, y, test_size=0.3, random_state=42, stratify=y)\n",
    "\n"
   ]
  },
  {
   "cell_type": "markdown",
   "id": "a307e67b-00c3-47aa-8f83-34bc62c93f83",
   "metadata": {
    "execution": {
     "iopub.execute_input": "2024-04-11T10:08:58.783500Z",
     "iopub.status.busy": "2024-04-11T10:08:58.782872Z",
     "iopub.status.idle": "2024-04-11T10:08:58.788089Z",
     "shell.execute_reply": "2024-04-11T10:08:58.787147Z",
     "shell.execute_reply.started": "2024-04-11T10:08:58.783465Z"
    }
   },
   "source": [
    "## Load Models and Tokenizers"
   ]
  },
  {
   "cell_type": "code",
   "execution_count": 4,
   "id": "1e666f7e-9db0-4666-a112-2af127307162",
   "metadata": {
    "execution": {
     "iopub.execute_input": "2024-09-25T04:14:20.723995Z",
     "iopub.status.busy": "2024-09-25T04:14:20.723929Z",
     "iopub.status.idle": "2024-09-25T04:14:25.593553Z",
     "shell.execute_reply": "2024-09-25T04:14:25.593101Z",
     "shell.execute_reply.started": "2024-09-25T04:14:20.723989Z"
    }
   },
   "outputs": [],
   "source": [
    "def load_model_and_tokenizer(model_path, tokenizer_path, base_model):\n",
    "    # Load the tokenizer from the local directory\n",
    "    tokenizer = AutoTokenizer.from_pretrained(tokenizer_path)\n",
    "    \n",
    "    # Load the configuration from the base model, then update configuration if needed\n",
    "    config = AutoConfig.from_pretrained(base_model, num_labels=2)\n",
    "\n",
    "    # Initialize the model with the configuration\n",
    "    model = AutoModelForSequenceClassification.from_pretrained(model_path, config=config)\n",
    "\n",
    "    # Ensure the model is in evaluation mode\n",
    "    model.eval()\n",
    "    \n",
    "    return model, tokenizer\n",
    "\n",
    "model_info = {\n",
    "    \n",
    "    'BERT cased': {\n",
    "        'model_path': 'BERT models/hs_bert-base-cased-finetuned',\n",
    "        'tokenizer_path': 'BERT models/hs_bert-base-cased-finetuned',\n",
    "        'base_model': 'google-bert/bert-base-cased'\n",
    "    },\n",
    "\n",
    "    'DistilBERT uncased': {\n",
    "        'model_path': 'BERT models/hs_distilbert-base-uncased-finetuned',\n",
    "        'tokenizer_path': 'BERT models/hs_distilbert-base-uncased-finetuned',\n",
    "        'base_model': 'distilbert/distilbert-base-uncased'\n",
    "    },\n",
    "\n",
    "    'DeBERTa': {\n",
    "        'model_path': 'BERT models/hs_DeBERTa-finetuned',\n",
    "        'tokenizer_path': 'BERT models/hs_DeBERTa-finetuned',\n",
    "        'base_model': 'microsoft/deberta-v3-base'\n",
    "    },\n",
    "\n",
    "}\n",
    "\n",
    "\n",
    "models_and_tokenizers = {name: load_model_and_tokenizer(info['model_path'], \n",
    "                                                        info['tokenizer_path'], \n",
    "                                                        info['base_model']) \n",
    "                         for name, info in model_info.items()}\n"
   ]
  },
  {
   "cell_type": "markdown",
   "id": "a1a9b906-a837-4de8-b8a2-05aa44074c5c",
   "metadata": {},
   "source": [
    "## Apply Tokenization"
   ]
  },
  {
   "cell_type": "code",
   "execution_count": 5,
   "id": "05f7b2f9-3bc4-4d6d-8595-8971899238c3",
   "metadata": {
    "execution": {
     "iopub.execute_input": "2024-09-25T04:14:25.595591Z",
     "iopub.status.busy": "2024-09-25T04:14:25.595462Z",
     "iopub.status.idle": "2024-09-25T04:14:25.598703Z",
     "shell.execute_reply": "2024-09-25T04:14:25.598414Z",
     "shell.execute_reply.started": "2024-09-25T04:14:25.595578Z"
    }
   },
   "outputs": [],
   "source": [
    "class MultiModelTextDataset(torch.utils.data.Dataset):\n",
    "    def __init__(self, texts, labels, models_and_tokenizers, max_len):\n",
    "        self.texts = texts\n",
    "        self.labels = labels\n",
    "        self.models_and_tokenizers = models_and_tokenizers\n",
    "        self.max_len = max_len\n",
    "\n",
    "    def __len__(self):\n",
    "        return len(self.texts)\n",
    "\n",
    "    def __getitem__(self, index):\n",
    "        text = str(self.texts[index])\n",
    "        label = self.labels[index]\n",
    "\n",
    "        model_inputs = {}\n",
    "        for name, (model, tokenizer) in self.models_and_tokenizers.items():\n",
    "            encoding = tokenizer.encode_plus(\n",
    "                text,\n",
    "                add_special_tokens=True,\n",
    "                max_length=self.max_len,\n",
    "                return_token_type_ids=False,\n",
    "                padding='max_length',\n",
    "                truncation=True,\n",
    "                return_attention_mask=True,\n",
    "                return_tensors='pt',\n",
    "            )\n",
    "            model_inputs[name] = {\n",
    "                'input_ids': encoding['input_ids'].squeeze(0),  # Remove batch dimension\n",
    "                'attention_mask': encoding['attention_mask'].squeeze(0)  # Remove batch dimension\n",
    "            }\n",
    "        return {'model_inputs': model_inputs, 'label': torch.tensor(label, dtype=torch.long)}\n"
   ]
  },
  {
   "cell_type": "markdown",
   "id": "8d574483-f790-48ba-a7d0-07cc8f2973d4",
   "metadata": {},
   "source": [
    "## BERT Training for Stacking"
   ]
  },
  {
   "cell_type": "code",
   "execution_count": 6,
   "id": "0e6167c5-79fd-4536-815c-237ec599453a",
   "metadata": {
    "execution": {
     "iopub.execute_input": "2024-09-25T04:14:25.599214Z",
     "iopub.status.busy": "2024-09-25T04:14:25.599144Z",
     "iopub.status.idle": "2024-09-25T04:14:25.602816Z",
     "shell.execute_reply": "2024-09-25T04:14:25.602546Z",
     "shell.execute_reply.started": "2024-09-25T04:14:25.599208Z"
    }
   },
   "outputs": [],
   "source": [
    "def train_base_learner(model, data_loader, optimizer, device):\n",
    "    device = torch.device(\"mps\" if torch.backends.mps.is_available() else \"cpu\")\n",
    "    model = model.to(device)\n",
    "    model.train()\n",
    "    correct_predictions = 0\n",
    "    losses = []\n",
    "\n",
    "    for batch in data_loader:\n",
    "        # Accessing inputs for the current model\n",
    "        inputs = batch['model_inputs']\n",
    "        labels = batch['label'].to(device)\n",
    "\n",
    "        for model_name, model_inputs in inputs.items():\n",
    "            # Forward pass\n",
    "            outputs = model(input_ids=model_inputs['input_ids'].squeeze(1).to(device),\n",
    "                attention_mask=model_inputs['attention_mask'].squeeze(1).to(device),\n",
    "                labels=labels)\n",
    "\n",
    "            loss = outputs.loss\n",
    "            preds = outputs.logits.argmax(dim=1)\n",
    "            correct_predictions += torch.sum(preds == labels)\n",
    "            losses.append(loss.item())\n",
    "            \n",
    "            # Backward pass\n",
    "            loss.backward()\n",
    "            optimizer.step()\n",
    "            optimizer.zero_grad()\n",
    "\n",
    "    return correct_predictions.float() / len(data_loader.dataset), np.mean(losses).astype(np.float32)\n",
    "\n",
    "\n",
    "\n",
    "\n",
    "def eval_model(model, data_loader, device):\n",
    "    model = model.eval()\n",
    "    correct_predictions = 0\n",
    "\n",
    "    with torch.no_grad():\n",
    "        for d in data_loader:\n",
    "            input_ids = d[\"input_ids\"].to(device)\n",
    "            attention_mask = d[\"attention_mask\"].to(device)\n",
    "            labels = d[\"label\"].to(device)\n",
    "\n",
    "            outputs = model(input_ids=input_ids, attention_mask=attention_mask)\n",
    "            preds = outputs.logits.argmax(dim=1)\n",
    "            correct_predictions += torch.sum(preds == labels)\n",
    "\n",
    "    return correct_predictions.double() / len(data_loader.dataset)\n"
   ]
  },
  {
   "cell_type": "markdown",
   "id": "b4b36fee-48a1-4eda-bf0b-c59982cbba14",
   "metadata": {},
   "source": [
    "## Train Stacking"
   ]
  },
  {
   "cell_type": "code",
   "execution_count": 7,
   "id": "99eb6be0-fb6e-441b-bfaa-853e75a01983",
   "metadata": {
    "execution": {
     "iopub.execute_input": "2024-09-25T04:14:25.603489Z",
     "iopub.status.busy": "2024-09-25T04:14:25.603370Z",
     "iopub.status.idle": "2024-09-25T04:14:25.621407Z",
     "shell.execute_reply": "2024-09-25T04:14:25.621050Z",
     "shell.execute_reply.started": "2024-09-25T04:14:25.603483Z"
    }
   },
   "outputs": [],
   "source": [
    "import numpy as np\n",
    "from sklearn.model_selection import StratifiedKFold\n",
    "from sklearn.linear_model import LogisticRegression\n",
    "from sklearn.metrics import f1_score, precision_score, recall_score, accuracy_score, confusion_matrix\n",
    "from torch.utils.data import DataLoader\n",
    "from transformers import AdamW\n",
    "\n",
    "def train_stacking_classifier(models_and_tokenizers, X_train, y_train, device, max_len=128):\n",
    "    n_splits = 4\n",
    "    skf = StratifiedKFold(n_splits=n_splits)\n",
    "    base_learners_predictions_train = np.zeros((len(X_train), len(models_and_tokenizers)))\n",
    "    fold_idx = 0\n",
    "\n",
    "    for train_idx, val_idx in skf.split(X_train, y_train):\n",
    "        fold_idx += 1\n",
    "        print(f\"Training fold {fold_idx}/{n_splits}...\")\n",
    "        train_texts, val_texts = X_train[train_idx], X_train[val_idx]\n",
    "        train_labels, val_labels = y_train[train_idx], y_train[val_idx]\n",
    "        \n",
    "        model_idx = 0\n",
    "        for name, info in model_info.items():\n",
    "            # Reload the model and tokenizer to reset weights\n",
    "            model, tokenizer = load_model_and_tokenizer(info['model_path'], info['tokenizer_path'], info['base_model'])\n",
    "            model.to(device)\n",
    "            \n",
    "            train_dataset = MultiModelTextDataset(train_texts, train_labels, {name: (model, tokenizer)}, max_len)\n",
    "            val_dataset = MultiModelTextDataset(val_texts, val_labels, {name: (model, tokenizer)}, max_len)\n",
    "            train_loader = DataLoader(train_dataset, batch_size=16, shuffle=True)\n",
    "            val_loader = DataLoader(val_dataset, batch_size=16, shuffle=False)\n",
    "            \n",
    "            optimizer = AdamW(model.parameters(), lr=5e-5)\n",
    "            train_base_learner(model, train_loader, optimizer, device)\n",
    "            \n",
    "            val_preds = []\n",
    "            model.eval()\n",
    "            for batch in val_loader:\n",
    "                inputs = batch['model_inputs'][name]\n",
    "                with torch.no_grad():\n",
    "                    outputs = model(input_ids=inputs['input_ids'].to(device), attention_mask=inputs['attention_mask'].to(device))\n",
    "                val_preds.extend(outputs.logits.argmax(dim=1).cpu().numpy())\n",
    "            \n",
    "            base_learners_predictions_train[val_idx, model_idx] = np.array(val_preds)\n",
    "            model_idx += 1\n",
    "\n",
    "    return base_learners_predictions_train, y_train\n",
    "    \n",
    "\n",
    "def get_predictions(model_info, X, y, device, max_len=128):\n",
    "    predictions = np.zeros((len(X), len(model_info)))\n",
    "    model_idx = 0\n",
    "    for name, info in model_info.items():\n",
    "        # Reload the model and tokenizer\n",
    "        model, tokenizer = load_model_and_tokenizer(info['model_path'], info['tokenizer_path'], info['base_model'])\n",
    "        model.to(device)\n",
    "        model.eval()\n",
    "        \n",
    "        dataset = MultiModelTextDataset(X, y, {name: (model, tokenizer)}, max_len)\n",
    "        loader = DataLoader(dataset, batch_size=16, shuffle=False)\n",
    "        \n",
    "        preds = []\n",
    "        for batch in loader:\n",
    "            inputs = batch['model_inputs'][name]\n",
    "            with torch.no_grad():\n",
    "                outputs = model(input_ids=inputs['input_ids'].to(device), attention_mask=inputs['attention_mask'].to(device))\n",
    "            preds.extend(outputs.logits.argmax(dim=1).cpu().numpy())\n",
    "        \n",
    "        predictions[:, model_idx] = np.array(preds)\n",
    "        model_idx += 1\n",
    "\n",
    "    return predictions\n",
    "\n",
    "\n",
    "device = torch.device(\"mps\" if torch.backends.mps.is_available() else \"cpu\")"
   ]
  },
  {
   "cell_type": "markdown",
   "id": "58472c03-8cb9-4a28-b8f3-fd5227c0e620",
   "metadata": {},
   "source": [
    "## Perform Stacking"
   ]
  },
  {
   "cell_type": "code",
   "execution_count": 8,
   "id": "da0e67bd-3f57-4bf1-aa4e-1537a9132002",
   "metadata": {
    "execution": {
     "iopub.execute_input": "2024-09-25T04:14:25.621995Z",
     "iopub.status.busy": "2024-09-25T04:14:25.621914Z",
     "iopub.status.idle": "2024-09-25T04:14:25.633500Z",
     "shell.execute_reply": "2024-09-25T04:14:25.633236Z",
     "shell.execute_reply.started": "2024-09-25T04:14:25.621986Z"
    }
   },
   "outputs": [],
   "source": [
    "%load_ext memory_profiler"
   ]
  },
  {
   "cell_type": "code",
   "execution_count": 9,
   "id": "36436c2d-846d-46ab-ae3c-b36c5bdda6a8",
   "metadata": {
    "execution": {
     "iopub.execute_input": "2024-09-25T04:14:25.633965Z",
     "iopub.status.busy": "2024-09-25T04:14:25.633888Z",
     "iopub.status.idle": "2024-09-25T04:29:18.916005Z",
     "shell.execute_reply": "2024-09-25T04:29:18.915680Z",
     "shell.execute_reply.started": "2024-09-25T04:14:25.633958Z"
    }
   },
   "outputs": [
    {
     "name": "stdout",
     "output_type": "stream",
     "text": [
      "Training fold 1/4...\n"
     ]
    },
    {
     "name": "stderr",
     "output_type": "stream",
     "text": [
      "/opt/anaconda3/envs/thesis/lib/python3.10/site-packages/transformers/optimization.py:457: FutureWarning: This implementation of AdamW is deprecated and will be removed in a future version. Use the PyTorch implementation torch.optim.AdamW instead, or set `no_deprecation_warning=True` to disable this warning\n",
      "  warnings.warn(\n"
     ]
    },
    {
     "name": "stdout",
     "output_type": "stream",
     "text": [
      "Training fold 2/4...\n",
      "Training fold 3/4...\n",
      "Training fold 4/4...\n",
      "peak memory: 3798.64 MiB, increment: 1869.50 MiB\n"
     ]
    }
   ],
   "source": [
    "%%memit\n",
    "\n",
    "device = torch.device(\"mps\" if torch.backends.mps.is_available() else \"cpu\")\n",
    "\n",
    "# Train stacking classifier (using 4-fold cross validation for each BERT model) on Train Set and retrieve training meta-features\n",
    "train_meta_features, _ = train_stacking_classifier(model_info, X_train, y_train, device)\n",
    "\n",
    "# Generate predictions for the test set to be used as test meta-features\n",
    "test_meta_features = get_predictions(model_info, X_test, y_test, device)"
   ]
  },
  {
   "cell_type": "code",
   "execution_count": 10,
   "id": "bb9dc30c-e468-4edd-84dc-358b8e0e40ca",
   "metadata": {
    "execution": {
     "iopub.execute_input": "2024-09-25T04:29:18.916667Z",
     "iopub.status.busy": "2024-09-25T04:29:18.916576Z",
     "iopub.status.idle": "2024-09-25T04:29:18.919377Z",
     "shell.execute_reply": "2024-09-25T04:29:18.919150Z",
     "shell.execute_reply.started": "2024-09-25T04:29:18.916657Z"
    }
   },
   "outputs": [
    {
     "name": "stdout",
     "output_type": "stream",
     "text": [
      "Unique predictions from base learners on the test set:\n",
      "Base learner 1: [0. 1.]\n",
      "Base learner 2: [0. 1.]\n",
      "Base learner 3: [0. 1.]\n"
     ]
    }
   ],
   "source": [
    "print(\"Unique predictions from base learners on the test set:\")\n",
    "for i in range(test_meta_features.shape[1]):\n",
    "    unique_preds = np.unique(test_meta_features[:, i])\n",
    "    print(f\"Base learner {i+1}: {unique_preds}\")\n"
   ]
  },
  {
   "cell_type": "code",
   "execution_count": 11,
   "id": "ef1d9e43-4348-4c05-a29e-3423a3afc040",
   "metadata": {
    "execution": {
     "iopub.execute_input": "2024-09-25T04:29:18.919919Z",
     "iopub.status.busy": "2024-09-25T04:29:18.919831Z",
     "iopub.status.idle": "2024-09-25T04:29:18.925244Z",
     "shell.execute_reply": "2024-09-25T04:29:18.925041Z",
     "shell.execute_reply.started": "2024-09-25T04:29:18.919912Z"
    }
   },
   "outputs": [
    {
     "name": "stdout",
     "output_type": "stream",
     "text": [
      "Correlation Matrix of Base Learner Predictions on the Test Set:\n",
      "          Base_1    Base_2    Base_3\n",
      "Base_1  1.000000  0.601395  0.659438\n",
      "Base_2  0.601395  1.000000  0.606596\n",
      "Base_3  0.659438  0.606596  1.000000\n"
     ]
    }
   ],
   "source": [
    "import numpy as np\n",
    "import pandas as pd\n",
    "\n",
    "# Convert the meta-features to a DataFrame\n",
    "df_test_meta = pd.DataFrame(test_meta_features, columns=[f\"Base_{i+1}\" for i in range(test_meta_features.shape[1])])\n",
    "\n",
    "# Calculate the correlation matrix\n",
    "correlation_matrix = df_test_meta.corr()\n",
    "print(\"Correlation Matrix of Base Learner Predictions on the Test Set:\")\n",
    "print(correlation_matrix)"
   ]
  },
  {
   "cell_type": "code",
   "execution_count": 12,
   "id": "9380cad8-d4d2-4957-9f86-da277bb93bc4",
   "metadata": {
    "execution": {
     "iopub.execute_input": "2024-09-25T04:29:18.925602Z",
     "iopub.status.busy": "2024-09-25T04:29:18.925540Z",
     "iopub.status.idle": "2024-09-25T04:29:18.928456Z",
     "shell.execute_reply": "2024-09-25T04:29:18.928241Z",
     "shell.execute_reply.started": "2024-09-25T04:29:18.925596Z"
    }
   },
   "outputs": [
    {
     "name": "stdout",
     "output_type": "stream",
     "text": [
      "Number of unique meta-feature combinations: 8 out of 2493 samples\n"
     ]
    }
   ],
   "source": [
    "# Count unique rows in the meta-features\n",
    "unique_meta_features = np.unique(test_meta_features, axis=0)\n",
    "num_unique_combinations = len(unique_meta_features)\n",
    "num_samples = len(test_meta_features)\n",
    "print(f\"Number of unique meta-feature combinations: {num_unique_combinations} out of {num_samples} samples\")"
   ]
  },
  {
   "cell_type": "markdown",
   "id": "03d42e0b-1855-4774-8f83-599a6158e526",
   "metadata": {},
   "source": [
    "### Train LR"
   ]
  },
  {
   "cell_type": "code",
   "execution_count": 13,
   "id": "265a5311-c2a4-48a0-9f21-d803350fb89f",
   "metadata": {
    "execution": {
     "iopub.execute_input": "2024-09-25T04:29:18.928808Z",
     "iopub.status.busy": "2024-09-25T04:29:18.928748Z",
     "iopub.status.idle": "2024-09-25T04:29:19.860652Z",
     "shell.execute_reply": "2024-09-25T04:29:19.859925Z",
     "shell.execute_reply.started": "2024-09-25T04:29:18.928802Z"
    }
   },
   "outputs": [
    {
     "name": "stderr",
     "output_type": "stream",
     "text": [
      "huggingface/tokenizers: The current process just got forked, after parallelism has already been used. Disabling parallelism to avoid deadlocks...\n",
      "To disable this warning, you can either:\n",
      "\t- Avoid using `tokenizers` before the fork if possible\n",
      "\t- Explicitly set the environment variable TOKENIZERS_PARALLELISM=(true | false)\n",
      "huggingface/tokenizers: The current process just got forked, after parallelism has already been used. Disabling parallelism to avoid deadlocks...\n",
      "To disable this warning, you can either:\n",
      "\t- Avoid using `tokenizers` before the fork if possible\n",
      "\t- Explicitly set the environment variable TOKENIZERS_PARALLELISM=(true | false)\n",
      "huggingface/tokenizers: The current process just got forked, after parallelism has already been used. Disabling parallelism to avoid deadlocks...\n",
      "To disable this warning, you can either:\n",
      "\t- Avoid using `tokenizers` before the fork if possible\n",
      "\t- Explicitly set the environment variable TOKENIZERS_PARALLELISM=(true | false)\n"
     ]
    },
    {
     "name": "stdout",
     "output_type": "stream",
     "text": [
      "peak memory: 3007.22 MiB, increment: 1.27 MiB\n"
     ]
    }
   ],
   "source": [
    "%%memit\n",
    "\n",
    "lr_meta_classifier = LogisticRegression()\n",
    "lr_meta_classifier.fit(train_meta_features, y_train)\n",
    "\n",
    "lr_final_predictions = lr_meta_classifier.predict(test_meta_features)"
   ]
  },
  {
   "cell_type": "markdown",
   "id": "47ea06bb-fab4-4f49-99e4-19680ec1b870",
   "metadata": {},
   "source": [
    "### Train NB"
   ]
  },
  {
   "cell_type": "code",
   "execution_count": 14,
   "id": "244b0f68-e401-4d18-913f-a3a153dd8104",
   "metadata": {
    "execution": {
     "iopub.execute_input": "2024-09-25T04:29:19.861828Z",
     "iopub.status.busy": "2024-09-25T04:29:19.861649Z",
     "iopub.status.idle": "2024-09-25T04:29:20.932182Z",
     "shell.execute_reply": "2024-09-25T04:29:20.931819Z",
     "shell.execute_reply.started": "2024-09-25T04:29:19.861807Z"
    }
   },
   "outputs": [
    {
     "name": "stderr",
     "output_type": "stream",
     "text": [
      "huggingface/tokenizers: The current process just got forked, after parallelism has already been used. Disabling parallelism to avoid deadlocks...\n",
      "To disable this warning, you can either:\n",
      "\t- Avoid using `tokenizers` before the fork if possible\n",
      "\t- Explicitly set the environment variable TOKENIZERS_PARALLELISM=(true | false)\n",
      "huggingface/tokenizers: The current process just got forked, after parallelism has already been used. Disabling parallelism to avoid deadlocks...\n",
      "To disable this warning, you can either:\n",
      "\t- Avoid using `tokenizers` before the fork if possible\n",
      "\t- Explicitly set the environment variable TOKENIZERS_PARALLELISM=(true | false)\n",
      "huggingface/tokenizers: The current process just got forked, after parallelism has already been used. Disabling parallelism to avoid deadlocks...\n",
      "To disable this warning, you can either:\n",
      "\t- Avoid using `tokenizers` before the fork if possible\n",
      "\t- Explicitly set the environment variable TOKENIZERS_PARALLELISM=(true | false)\n",
      "huggingface/tokenizers: The current process just got forked, after parallelism has already been used. Disabling parallelism to avoid deadlocks...\n",
      "To disable this warning, you can either:\n",
      "\t- Avoid using `tokenizers` before the fork if possible\n",
      "\t- Explicitly set the environment variable TOKENIZERS_PARALLELISM=(true | false)\n",
      "huggingface/tokenizers: The current process just got forked, after parallelism has already been used. Disabling parallelism to avoid deadlocks...\n",
      "To disable this warning, you can either:\n",
      "\t- Avoid using `tokenizers` before the fork if possible\n",
      "\t- Explicitly set the environment variable TOKENIZERS_PARALLELISM=(true | false)\n"
     ]
    },
    {
     "name": "stdout",
     "output_type": "stream",
     "text": [
      "peak memory: 3007.08 MiB, increment: -0.17 MiB\n"
     ]
    }
   ],
   "source": [
    "%%memit\n",
    "\n",
    "nb_meta_classifier = GaussianNB()\n",
    "nb_meta_classifier.fit(train_meta_features, y_train)\n",
    "\n",
    "nb_final_predictions = nb_meta_classifier.predict(test_meta_features)"
   ]
  },
  {
   "cell_type": "markdown",
   "id": "2e50604f-9bef-4db4-bf92-89f9d2874e89",
   "metadata": {},
   "source": [
    "### Train DT"
   ]
  },
  {
   "cell_type": "code",
   "execution_count": 15,
   "id": "3990ca03-b860-4b65-97e7-47f551754ab7",
   "metadata": {
    "execution": {
     "iopub.execute_input": "2024-09-25T04:29:20.932936Z",
     "iopub.status.busy": "2024-09-25T04:29:20.932847Z",
     "iopub.status.idle": "2024-09-25T04:29:21.877312Z",
     "shell.execute_reply": "2024-09-25T04:29:21.876948Z",
     "shell.execute_reply.started": "2024-09-25T04:29:20.932926Z"
    }
   },
   "outputs": [
    {
     "name": "stderr",
     "output_type": "stream",
     "text": [
      "huggingface/tokenizers: The current process just got forked, after parallelism has already been used. Disabling parallelism to avoid deadlocks...\n",
      "To disable this warning, you can either:\n",
      "\t- Avoid using `tokenizers` before the fork if possible\n",
      "\t- Explicitly set the environment variable TOKENIZERS_PARALLELISM=(true | false)\n",
      "huggingface/tokenizers: The current process just got forked, after parallelism has already been used. Disabling parallelism to avoid deadlocks...\n",
      "To disable this warning, you can either:\n",
      "\t- Avoid using `tokenizers` before the fork if possible\n",
      "\t- Explicitly set the environment variable TOKENIZERS_PARALLELISM=(true | false)\n",
      "huggingface/tokenizers: The current process just got forked, after parallelism has already been used. Disabling parallelism to avoid deadlocks...\n",
      "To disable this warning, you can either:\n",
      "\t- Avoid using `tokenizers` before the fork if possible\n",
      "\t- Explicitly set the environment variable TOKENIZERS_PARALLELISM=(true | false)\n",
      "huggingface/tokenizers: The current process just got forked, after parallelism has already been used. Disabling parallelism to avoid deadlocks...\n",
      "To disable this warning, you can either:\n",
      "\t- Avoid using `tokenizers` before the fork if possible\n",
      "\t- Explicitly set the environment variable TOKENIZERS_PARALLELISM=(true | false)\n"
     ]
    },
    {
     "name": "stdout",
     "output_type": "stream",
     "text": [
      "peak memory: 3007.38 MiB, increment: 0.30 MiB\n"
     ]
    }
   ],
   "source": [
    "%%memit\n",
    "\n",
    "dt_meta_classifier = DecisionTreeClassifier(max_depth=None)\n",
    "dt_meta_classifier.fit(train_meta_features, y_train)\n",
    "\n",
    "dt_final_predictions = dt_meta_classifier.predict(test_meta_features)"
   ]
  },
  {
   "cell_type": "markdown",
   "id": "986bd8f0-b569-4eaf-8e13-a51529e871e6",
   "metadata": {},
   "source": [
    "### Train SVM"
   ]
  },
  {
   "cell_type": "code",
   "execution_count": 16,
   "id": "460a4087-b343-4249-b794-db90baabf11c",
   "metadata": {
    "execution": {
     "iopub.execute_input": "2024-09-25T04:29:21.878034Z",
     "iopub.status.busy": "2024-09-25T04:29:21.877944Z",
     "iopub.status.idle": "2024-09-25T04:29:22.856303Z",
     "shell.execute_reply": "2024-09-25T04:29:22.855782Z",
     "shell.execute_reply.started": "2024-09-25T04:29:21.878026Z"
    }
   },
   "outputs": [
    {
     "name": "stderr",
     "output_type": "stream",
     "text": [
      "huggingface/tokenizers: The current process just got forked, after parallelism has already been used. Disabling parallelism to avoid deadlocks...\n",
      "To disable this warning, you can either:\n",
      "\t- Avoid using `tokenizers` before the fork if possible\n",
      "\t- Explicitly set the environment variable TOKENIZERS_PARALLELISM=(true | false)\n"
     ]
    },
    {
     "name": "stdout",
     "output_type": "stream",
     "text": [
      "peak memory: 3036.36 MiB, increment: 28.98 MiB\n"
     ]
    }
   ],
   "source": [
    "%%memit\n",
    "\n",
    "svm_meta_classifier = SVC(kernel='linear', probability=True)\n",
    "svm_meta_classifier.fit(train_meta_features, y_train)\n",
    "\n",
    "svm_final_predictions = svm_meta_classifier.predict(test_meta_features)"
   ]
  },
  {
   "cell_type": "markdown",
   "id": "ad340b68-d07e-473a-bbc4-138ef8e0271a",
   "metadata": {},
   "source": [
    "## EVALUATE MODELS"
   ]
  },
  {
   "cell_type": "markdown",
   "id": "c93ba0c5-a053-45fb-8e97-b09c67959bc8",
   "metadata": {},
   "source": [
    "### LR"
   ]
  },
  {
   "cell_type": "code",
   "execution_count": 17,
   "id": "7d015915-5eb9-4a73-9ef6-5fc1bd4d0e8f",
   "metadata": {
    "execution": {
     "iopub.execute_input": "2024-09-25T04:29:22.856942Z",
     "iopub.status.busy": "2024-09-25T04:29:22.856858Z",
     "iopub.status.idle": "2024-09-25T04:29:22.862902Z",
     "shell.execute_reply": "2024-09-25T04:29:22.862707Z",
     "shell.execute_reply.started": "2024-09-25T04:29:22.856934Z"
    }
   },
   "outputs": [
    {
     "name": "stdout",
     "output_type": "stream",
     "text": [
      "Logistic Regression\n",
      "Precision: 0.745679012345679\n",
      "Recall: 0.7803617571059431\n",
      "Ensemble accuracy: 0.7737665463297232\n",
      "F1 Score: 0.7626262626262627\n",
      "Confusion Matrix:\n",
      "[[1023  309]\n",
      " [ 255  906]]\n"
     ]
    }
   ],
   "source": [
    "# Evaluate\n",
    "precision = precision_score(y_test, lr_final_predictions, average='binary')\n",
    "recall = recall_score(y_test, lr_final_predictions, average='binary')\n",
    "accuracy = accuracy_score(y_test, lr_final_predictions)\n",
    "f1 = f1_score(y_test, lr_final_predictions, average='binary')\n",
    "conf_matrix = confusion_matrix(y_test, lr_final_predictions)\n",
    "\n",
    "print(\"Logistic Regression\")\n",
    "print(f\"Precision: {precision}\")\n",
    "print(f\"Recall: {recall}\")\n",
    "print(f\"Ensemble accuracy: {accuracy}\")\n",
    "print(f\"F1 Score: {f1}\")\n",
    "print(\"Confusion Matrix:\")\n",
    "print(conf_matrix)\n"
   ]
  },
  {
   "cell_type": "code",
   "execution_count": 18,
   "id": "b8f0cb82-3466-4ed1-8131-5b8715817f8f",
   "metadata": {
    "execution": {
     "iopub.execute_input": "2024-09-25T04:29:22.863290Z",
     "iopub.status.busy": "2024-09-25T04:29:22.863230Z",
     "iopub.status.idle": "2024-09-25T04:29:23.084606Z",
     "shell.execute_reply": "2024-09-25T04:29:23.083751Z",
     "shell.execute_reply.started": "2024-09-25T04:29:22.863284Z"
    }
   },
   "outputs": [
    {
     "data": {
      "image/png": "[encoded data removed]",
      "text/plain": [
       "<Figure size 640x480 with 1 Axes>"
      ]
     },
     "metadata": {},
     "output_type": "display_data"
    }
   ],
   "source": [
    "# Get probability scores for threshold optimization\n",
    "lr_prob_scores = lr_meta_classifier.predict_proba(test_meta_features)[:, 1]\n",
    "\n",
    "import matplotlib.pyplot as plt\n",
    "\n",
    "# Plot the distribution of predicted probabilities\n",
    "plt.hist(lr_prob_scores, bins=50, alpha=0.75)\n",
    "plt.title('Distribution of Predicted Probabilities (LR)')\n",
    "plt.xlabel('Probability of Positive Class')\n",
    "plt.ylabel('Frequency')\n",
    "plt.show()\n"
   ]
  },
  {
   "cell_type": "code",
   "execution_count": 19,
   "id": "b8c650bc-c7b7-4f3d-b8c7-c415ed29f2f1",
   "metadata": {
    "execution": {
     "iopub.execute_input": "2024-09-25T04:29:23.085549Z",
     "iopub.status.busy": "2024-09-25T04:29:23.085393Z",
     "iopub.status.idle": "2024-09-25T04:29:23.187033Z",
     "shell.execute_reply": "2024-09-25T04:29:23.186260Z",
     "shell.execute_reply.started": "2024-09-25T04:29:23.085536Z"
    }
   },
   "outputs": [
    {
     "name": "stdout",
     "output_type": "stream",
     "text": [
      "Adjusted threshold: 0.33\n",
      "Optimized Logistic Regression\n",
      "Precision: 0.6922024623803009\n",
      "Recall: 0.8716623600344531\n",
      "Accuracy: 0.7597272362615323\n",
      "F1 Score: 0.7716355318337781\n",
      "Confusion Matrix:\n",
      "[[ 882  450]\n",
      " [ 149 1012]]\n"
     ]
    }
   ],
   "source": [
    "# Threshold optimization\n",
    "thresholds = np.linspace(0.01, 0.99, 99)\n",
    "scores = [f1_score(y_test, lr_prob_scores >= t, average='binary') for t in thresholds]\n",
    "best_thresh = thresholds[np.argmax(scores)]\n",
    "adjusted_predictions = (lr_prob_scores >= best_thresh).astype(int)\n",
    "\n",
    "# Evaluate with the new threshold\n",
    "adjusted_precision = precision_score(y_test, adjusted_predictions, average='binary')\n",
    "adjusted_recall = recall_score(y_test, adjusted_predictions, average='binary')\n",
    "adjusted_accuracy = accuracy_score(y_test, adjusted_predictions)\n",
    "adjusted_f1 = f1_score(y_test, adjusted_predictions, average='binary')\n",
    "adjusted_conf_matrix = confusion_matrix(y_test, adjusted_predictions)\n",
    "\n",
    "print(f\"Adjusted threshold: {best_thresh}\")\n",
    "print(\"Optimized Logistic Regression\")\n",
    "print(f\"Precision: {adjusted_precision}\")\n",
    "print(f\"Recall: {adjusted_recall}\")\n",
    "print(f\"Accuracy: {adjusted_accuracy}\")\n",
    "print(f\"F1 Score: {adjusted_f1}\")\n",
    "print(\"Confusion Matrix:\")\n",
    "print(adjusted_conf_matrix)\n",
    "\n",
    "lr_thresh = best_thresh"
   ]
  },
  {
   "cell_type": "code",
   "execution_count": 20,
   "id": "cfc6b32b-5f2a-4017-8a2b-e393ee1f85b3",
   "metadata": {
    "execution": {
     "iopub.execute_input": "2024-09-25T04:29:23.189240Z",
     "iopub.status.busy": "2024-09-25T04:29:23.188807Z",
     "iopub.status.idle": "2024-09-25T04:29:24.549582Z",
     "shell.execute_reply": "2024-09-25T04:29:24.547650Z",
     "shell.execute_reply.started": "2024-09-25T04:29:23.189225Z"
    }
   },
   "outputs": [
    {
     "name": "stdout",
     "output_type": "stream",
     "text": [
      "Updated cells count: 4\n"
     ]
    }
   ],
   "source": [
    "# SAVE TO GOOGLE SHEET\n",
    "\n",
    "# Define the range and values to update\n",
    "range_name = '3-1!B4:E4'  \n",
    "\n",
    "values = [[\n",
    "    f\"{adjusted_precision * 100:.2f}\",\n",
    "    f\"{adjusted_recall * 100:.2f}\",\n",
    "    f\"{adjusted_accuracy * 100:.2f}\",\n",
    "    f\"{adjusted_f1 * 100:.2f}\"\n",
    "]]\n",
    "\n",
    "# Prepare the request body\n",
    "body = {\n",
    "    'values': values\n",
    "}\n",
    "\n",
    "# Call the Sheets API to update the values\n",
    "result = service.spreadsheets().values().update(\n",
    "    spreadsheetId=spreadsheet_id, \n",
    "    range=range_name,\n",
    "    valueInputOption='USER_ENTERED',\n",
    "    body=body\n",
    ").execute()\n",
    "\n",
    "print('Updated cells count:', result.get('updatedCells'))"
   ]
  },
  {
   "cell_type": "markdown",
   "id": "5f311d02-936c-467e-ae14-e0c9cd0f0211",
   "metadata": {},
   "source": [
    "### NB"
   ]
  },
  {
   "cell_type": "code",
   "execution_count": 21,
   "id": "3cde7aba-1d7b-4fbd-94f0-98b9e5b2756a",
   "metadata": {
    "execution": {
     "iopub.execute_input": "2024-09-25T04:29:24.564108Z",
     "iopub.status.busy": "2024-09-25T04:29:24.563691Z",
     "iopub.status.idle": "2024-09-25T04:29:24.577407Z",
     "shell.execute_reply": "2024-09-25T04:29:24.577080Z",
     "shell.execute_reply.started": "2024-09-25T04:29:24.564080Z"
    }
   },
   "outputs": [
    {
     "name": "stdout",
     "output_type": "stream",
     "text": [
      "Naive Bayes\n",
      "Precision: 0.745679012345679\n",
      "Recall: 0.7803617571059431\n",
      "Ensemble accuracy: 0.7737665463297232\n",
      "F1 Score: 0.7626262626262627\n",
      "Confusion Matrix:\n",
      "[[1023  309]\n",
      " [ 255  906]]\n"
     ]
    }
   ],
   "source": [
    "# Evaluate\n",
    "precision = precision_score(y_test, nb_final_predictions, average='binary')\n",
    "recall = recall_score(y_test, nb_final_predictions, average='binary')\n",
    "accuracy = accuracy_score(y_test, nb_final_predictions)\n",
    "f1 = f1_score(y_test, nb_final_predictions, average='binary')\n",
    "conf_matrix = confusion_matrix(y_test, nb_final_predictions)\n",
    "\n",
    "print(\"Naive Bayes\")\n",
    "print(f\"Precision: {precision}\")\n",
    "print(f\"Recall: {recall}\")\n",
    "print(f\"Ensemble accuracy: {accuracy}\")\n",
    "print(f\"F1 Score: {f1}\")\n",
    "print(\"Confusion Matrix:\")\n",
    "print(conf_matrix)\n"
   ]
  },
  {
   "cell_type": "code",
   "execution_count": 22,
   "id": "731db687-3f0b-46e4-b7ca-fb142334d3be",
   "metadata": {
    "execution": {
     "iopub.execute_input": "2024-09-25T04:29:24.578453Z",
     "iopub.status.busy": "2024-09-25T04:29:24.578177Z",
     "iopub.status.idle": "2024-09-25T04:29:24.649035Z",
     "shell.execute_reply": "2024-09-25T04:29:24.648695Z",
     "shell.execute_reply.started": "2024-09-25T04:29:24.578425Z"
    }
   },
   "outputs": [
    {
     "data": {
      "image/png": "[encoded data removed]",
      "text/plain": [
       "<Figure size 640x480 with 1 Axes>"
      ]
     },
     "metadata": {},
     "output_type": "display_data"
    }
   ],
   "source": [
    "# Get probability scores for threshold optimization\n",
    "nb_prob_scores = nb_meta_classifier.predict_proba(test_meta_features)[:, 1]\n",
    "\n",
    "import matplotlib.pyplot as plt\n",
    "\n",
    "# Plot the distribution of predicted probabilities\n",
    "plt.hist(nb_prob_scores, bins=50, alpha=0.75)\n",
    "plt.title('Distribution of Predicted Probabilities (NB)')\n",
    "plt.xlabel('Probability of Positive Class')\n",
    "plt.ylabel('Frequency')\n",
    "plt.show()\n"
   ]
  },
  {
   "cell_type": "code",
   "execution_count": 23,
   "id": "07991bda-71ea-4786-996b-61a3ae0132ff",
   "metadata": {
    "execution": {
     "iopub.execute_input": "2024-09-25T04:29:24.649955Z",
     "iopub.status.busy": "2024-09-25T04:29:24.649830Z",
     "iopub.status.idle": "2024-09-25T04:29:24.721989Z",
     "shell.execute_reply": "2024-09-25T04:29:24.721734Z",
     "shell.execute_reply.started": "2024-09-25T04:29:24.649946Z"
    }
   },
   "outputs": [
    {
     "name": "stdout",
     "output_type": "stream",
     "text": [
      "Adjusted threshold: 0.18000000000000002\n",
      "Optimized Naive Bayes\n",
      "Precision: 0.6922024623803009\n",
      "Recall: 0.8716623600344531\n",
      "Accuracy: 0.7597272362615323\n",
      "F1 Score: 0.7716355318337781\n",
      "Confusion Matrix:\n",
      "[[ 882  450]\n",
      " [ 149 1012]]\n"
     ]
    }
   ],
   "source": [
    "# Threshold optimization\n",
    "thresholds = np.linspace(0.01, 0.99, 99)\n",
    "scores = [f1_score(y_test, nb_prob_scores >= t, average='binary') for t in thresholds]\n",
    "best_thresh = thresholds[np.argmax(scores)]\n",
    "adjusted_predictions = (nb_prob_scores >= best_thresh).astype(int)\n",
    "\n",
    "# Evaluate with the new threshold\n",
    "adjusted_precision = precision_score(y_test, adjusted_predictions, average='binary')\n",
    "adjusted_recall = recall_score(y_test, adjusted_predictions, average='binary')\n",
    "adjusted_accuracy = accuracy_score(y_test, adjusted_predictions)\n",
    "adjusted_f1 = f1_score(y_test, adjusted_predictions, average='binary')\n",
    "adjusted_conf_matrix = confusion_matrix(y_test, adjusted_predictions)\n",
    "\n",
    "print(f\"Adjusted threshold: {best_thresh}\")\n",
    "print(\"Optimized Naive Bayes\")\n",
    "print(f\"Precision: {adjusted_precision}\")\n",
    "print(f\"Recall: {adjusted_recall}\")\n",
    "print(f\"Accuracy: {adjusted_accuracy}\")\n",
    "print(f\"F1 Score: {adjusted_f1}\")\n",
    "print(\"Confusion Matrix:\")\n",
    "print(adjusted_conf_matrix)\n",
    "\n",
    "nb_thresh = best_thresh"
   ]
  },
  {
   "cell_type": "code",
   "execution_count": 24,
   "id": "aecf64b8-5a1a-4cea-a077-2049e0459dd9",
   "metadata": {
    "execution": {
     "iopub.execute_input": "2024-09-25T04:29:24.722373Z",
     "iopub.status.busy": "2024-09-25T04:29:24.722302Z",
     "iopub.status.idle": "2024-09-25T04:29:25.278665Z",
     "shell.execute_reply": "2024-09-25T04:29:25.277285Z",
     "shell.execute_reply.started": "2024-09-25T04:29:24.722367Z"
    }
   },
   "outputs": [
    {
     "name": "stdout",
     "output_type": "stream",
     "text": [
      "Updated cells count: 4\n"
     ]
    }
   ],
   "source": [
    "# SAVE TO GOOGLE SHEET\n",
    "\n",
    "# Define the range and values to update\n",
    "range_name = '3-1!B5:E5'  \n",
    "\n",
    "values = [[\n",
    "    f\"{adjusted_precision * 100:.2f}\",\n",
    "    f\"{adjusted_recall * 100:.2f}\",\n",
    "    f\"{adjusted_accuracy * 100:.2f}\",\n",
    "    f\"{adjusted_f1 * 100:.2f}\"\n",
    "]]\n",
    "\n",
    "# Prepare the request body\n",
    "body = {\n",
    "    'values': values\n",
    "}\n",
    "\n",
    "# Call the Sheets API to update the values\n",
    "result = service.spreadsheets().values().update(\n",
    "    spreadsheetId=spreadsheet_id, \n",
    "    range=range_name,\n",
    "    valueInputOption='USER_ENTERED',\n",
    "    body=body\n",
    ").execute()\n",
    "\n",
    "print('Updated cells count:', result.get('updatedCells'))"
   ]
  },
  {
   "cell_type": "markdown",
   "id": "958d063b-7c6a-43d7-aaa2-0b93e3d56610",
   "metadata": {},
   "source": [
    "### DT"
   ]
  },
  {
   "cell_type": "code",
   "execution_count": 25,
   "id": "6c799950-2309-4a08-9778-351ab70a85db",
   "metadata": {
    "execution": {
     "iopub.execute_input": "2024-09-25T04:29:25.281400Z",
     "iopub.status.busy": "2024-09-25T04:29:25.280875Z",
     "iopub.status.idle": "2024-09-25T04:29:25.302860Z",
     "shell.execute_reply": "2024-09-25T04:29:25.302027Z",
     "shell.execute_reply.started": "2024-09-25T04:29:25.281357Z"
    }
   },
   "outputs": [
    {
     "name": "stdout",
     "output_type": "stream",
     "text": [
      "Decision Tree\n",
      "Precision: 0.745679012345679\n",
      "Recall: 0.7803617571059431\n",
      "Ensemble accuracy: 0.7737665463297232\n",
      "F1 Score: 0.7626262626262627\n",
      "Confusion Matrix:\n",
      "[[1023  309]\n",
      " [ 255  906]]\n"
     ]
    }
   ],
   "source": [
    "# Evaluate\n",
    "precision = precision_score(y_test, dt_final_predictions, average='binary')\n",
    "recall = recall_score(y_test, dt_final_predictions, average='binary')\n",
    "accuracy = accuracy_score(y_test, dt_final_predictions)\n",
    "f1 = f1_score(y_test, dt_final_predictions, average='binary')\n",
    "conf_matrix = confusion_matrix(y_test, dt_final_predictions)\n",
    "\n",
    "print(\"Decision Tree\")\n",
    "print(f\"Precision: {precision}\")\n",
    "print(f\"Recall: {recall}\")\n",
    "print(f\"Ensemble accuracy: {accuracy}\")\n",
    "print(f\"F1 Score: {f1}\")\n",
    "print(\"Confusion Matrix:\")\n",
    "print(conf_matrix)\n"
   ]
  },
  {
   "cell_type": "code",
   "execution_count": 26,
   "id": "a90d7ed2-cdff-4dd8-bd4f-4ec544449fed",
   "metadata": {
    "execution": {
     "iopub.execute_input": "2024-09-25T04:29:25.304885Z",
     "iopub.status.busy": "2024-09-25T04:29:25.304170Z",
     "iopub.status.idle": "2024-09-25T04:29:25.384537Z",
     "shell.execute_reply": "2024-09-25T04:29:25.384251Z",
     "shell.execute_reply.started": "2024-09-25T04:29:25.304867Z"
    }
   },
   "outputs": [
    {
     "data": {
      "image/png": "[encoded data removed]",
      "text/plain": [
       "<Figure size 640x480 with 1 Axes>"
      ]
     },
     "metadata": {},
     "output_type": "display_data"
    }
   ],
   "source": [
    "# Get probability scores for threshold optimization\n",
    "dt_prob_scores = dt_meta_classifier.predict_proba(test_meta_features)[:, 1]\n",
    "\n",
    "import matplotlib.pyplot as plt\n",
    "\n",
    "# Plot the distribution of predicted probabilities\n",
    "plt.hist(dt_prob_scores, bins=50, alpha=0.75)\n",
    "plt.title('Distribution of Predicted Probabilities (DT)')\n",
    "plt.xlabel('Probability of Positive Class')\n",
    "plt.ylabel('Frequency')\n",
    "plt.show()\n"
   ]
  },
  {
   "cell_type": "code",
   "execution_count": 27,
   "id": "6a63b5fc-8c61-409f-86bf-470f00eb6d99",
   "metadata": {
    "execution": {
     "iopub.execute_input": "2024-09-25T04:29:25.385016Z",
     "iopub.status.busy": "2024-09-25T04:29:25.384927Z",
     "iopub.status.idle": "2024-09-25T04:29:25.457645Z",
     "shell.execute_reply": "2024-09-25T04:29:25.457407Z",
     "shell.execute_reply.started": "2024-09-25T04:29:25.385009Z"
    }
   },
   "outputs": [
    {
     "name": "stdout",
     "output_type": "stream",
     "text": [
      "Adjusted threshold: 0.35000000000000003\n",
      "Optimized Decision Tree\n",
      "Precision: 0.6922024623803009\n",
      "Recall: 0.8716623600344531\n",
      "Accuracy: 0.7597272362615323\n",
      "F1 Score: 0.7716355318337781\n",
      "Confusion Matrix:\n",
      "[[ 882  450]\n",
      " [ 149 1012]]\n"
     ]
    }
   ],
   "source": [
    "# Threshold optimization\n",
    "thresholds = np.linspace(0.01, 0.99, 99)\n",
    "scores = [f1_score(y_test, dt_prob_scores >= t, average='binary') for t in thresholds]\n",
    "best_thresh = thresholds[np.argmax(scores)]\n",
    "adjusted_predictions = (dt_prob_scores >= best_thresh).astype(int)\n",
    "\n",
    "# Evaluate with the new threshold\n",
    "adjusted_precision = precision_score(y_test, adjusted_predictions, average='binary')\n",
    "adjusted_recall = recall_score(y_test, adjusted_predictions, average='binary')\n",
    "adjusted_accuracy = accuracy_score(y_test, adjusted_predictions)\n",
    "adjusted_f1 = f1_score(y_test, adjusted_predictions, average='binary')\n",
    "adjusted_conf_matrix = confusion_matrix(y_test, adjusted_predictions)\n",
    "\n",
    "print(f\"Adjusted threshold: {best_thresh}\")\n",
    "print(\"Optimized Decision Tree\")\n",
    "print(f\"Precision: {adjusted_precision}\")\n",
    "print(f\"Recall: {adjusted_recall}\")\n",
    "print(f\"Accuracy: {adjusted_accuracy}\")\n",
    "print(f\"F1 Score: {adjusted_f1}\")\n",
    "print(\"Confusion Matrix:\")\n",
    "print(adjusted_conf_matrix)\n",
    "\n",
    "dt_thresh = best_thresh"
   ]
  },
  {
   "cell_type": "code",
   "execution_count": 28,
   "id": "9653e844-4196-4d63-9b61-4998f3dba2d0",
   "metadata": {
    "execution": {
     "iopub.execute_input": "2024-09-25T04:29:25.458219Z",
     "iopub.status.busy": "2024-09-25T04:29:25.458142Z",
     "iopub.status.idle": "2024-09-25T04:29:26.211483Z",
     "shell.execute_reply": "2024-09-25T04:29:26.210046Z",
     "shell.execute_reply.started": "2024-09-25T04:29:25.458212Z"
    }
   },
   "outputs": [
    {
     "name": "stdout",
     "output_type": "stream",
     "text": [
      "Updated cells count: 4\n"
     ]
    }
   ],
   "source": [
    "# SAVE TO GOOGLE SHEET\n",
    "\n",
    "# Define the range and values to update\n",
    "range_name = '3-1!B6:E6'  \n",
    "\n",
    "values = [[\n",
    "    f\"{adjusted_precision * 100:.2f}\",\n",
    "    f\"{adjusted_recall * 100:.2f}\",\n",
    "    f\"{adjusted_accuracy * 100:.2f}\",\n",
    "    f\"{adjusted_f1 * 100:.2f}\"\n",
    "]]\n",
    "\n",
    "# Prepare the request body\n",
    "body = {\n",
    "    'values': values\n",
    "}\n",
    "\n",
    "# Call the Sheets API to update the values\n",
    "result = service.spreadsheets().values().update(\n",
    "    spreadsheetId=spreadsheet_id, \n",
    "    range=range_name,\n",
    "    valueInputOption='USER_ENTERED',\n",
    "    body=body\n",
    ").execute()\n",
    "\n",
    "print('Updated cells count:', result.get('updatedCells'))"
   ]
  },
  {
   "cell_type": "markdown",
   "id": "24614471-4cf3-4349-b8bb-98715c2db8a9",
   "metadata": {},
   "source": [
    "### SVM"
   ]
  },
  {
   "cell_type": "code",
   "execution_count": 29,
   "id": "6f5a4d67-5a7a-4f32-b9c4-6f5c7612a256",
   "metadata": {
    "execution": {
     "iopub.execute_input": "2024-09-25T04:29:26.214193Z",
     "iopub.status.busy": "2024-09-25T04:29:26.213717Z",
     "iopub.status.idle": "2024-09-25T04:29:26.233492Z",
     "shell.execute_reply": "2024-09-25T04:29:26.232325Z",
     "shell.execute_reply.started": "2024-09-25T04:29:26.214157Z"
    }
   },
   "outputs": [
    {
     "name": "stdout",
     "output_type": "stream",
     "text": [
      "SVM\n",
      "Precision: 0.7411764705882353\n",
      "Recall: 0.7596899224806202\n",
      "Ensemble accuracy: 0.7645407139991978\n",
      "F1 Score: 0.7503190131858783\n",
      "Confusion Matrix:\n",
      "[[1024  308]\n",
      " [ 279  882]]\n"
     ]
    }
   ],
   "source": [
    "# Evaluate\n",
    "precision = precision_score(y_test, svm_final_predictions, average='binary')\n",
    "recall = recall_score(y_test, svm_final_predictions, average='binary')\n",
    "accuracy = accuracy_score(y_test, svm_final_predictions)\n",
    "f1 = f1_score(y_test, svm_final_predictions, average='binary')\n",
    "conf_matrix = confusion_matrix(y_test, svm_final_predictions)\n",
    "\n",
    "print(\"SVM\")\n",
    "print(f\"Precision: {precision}\")\n",
    "print(f\"Recall: {recall}\")\n",
    "print(f\"Ensemble accuracy: {accuracy}\")\n",
    "print(f\"F1 Score: {f1}\")\n",
    "print(\"Confusion Matrix:\")\n",
    "print(conf_matrix)\n"
   ]
  },
  {
   "cell_type": "code",
   "execution_count": 30,
   "id": "7608e00b-ce4a-4169-83da-0a9a9fa2c1ac",
   "metadata": {
    "execution": {
     "iopub.execute_input": "2024-09-25T04:29:26.234767Z",
     "iopub.status.busy": "2024-09-25T04:29:26.234513Z",
     "iopub.status.idle": "2024-09-25T04:29:26.363191Z",
     "shell.execute_reply": "2024-09-25T04:29:26.362938Z",
     "shell.execute_reply.started": "2024-09-25T04:29:26.234750Z"
    }
   },
   "outputs": [
    {
     "data": {
      "image/png": "[encoded data removed]",
      "text/plain": [
       "<Figure size 640x480 with 1 Axes>"
      ]
     },
     "metadata": {},
     "output_type": "display_data"
    }
   ],
   "source": [
    "# Get probability scores for threshold optimization\n",
    "svm_prob_scores = svm_meta_classifier.predict_proba(test_meta_features)[:, 1]\n",
    "\n",
    "import matplotlib.pyplot as plt\n",
    "\n",
    "# Plot the distribution of predicted probabilities\n",
    "plt.hist(svm_prob_scores, bins=50, alpha=0.75)\n",
    "plt.title('Distribution of Predicted Probabilities (SVM)')\n",
    "plt.xlabel('Probability of Positive Class')\n",
    "plt.ylabel('Frequency')\n",
    "plt.show()\n"
   ]
  },
  {
   "cell_type": "code",
   "execution_count": 31,
   "id": "8f4bf24f-5e38-4acf-b0d1-c42ddb5a862f",
   "metadata": {
    "execution": {
     "iopub.execute_input": "2024-09-25T04:29:26.363637Z",
     "iopub.status.busy": "2024-09-25T04:29:26.363554Z",
     "iopub.status.idle": "2024-09-25T04:29:26.435878Z",
     "shell.execute_reply": "2024-09-25T04:29:26.435640Z",
     "shell.execute_reply.started": "2024-09-25T04:29:26.363628Z"
    }
   },
   "outputs": [
    {
     "name": "stdout",
     "output_type": "stream",
     "text": [
      "Adjusted threshold: 0.2\n",
      "Optimized SVM\n",
      "Precision: 0.7411764705882353\n",
      "Recall: 0.7596899224806202\n",
      "Accuracy: 0.7645407139991978\n",
      "F1 Score: 0.7503190131858783\n",
      "Confusion Matrix:\n",
      "[[1024  308]\n",
      " [ 279  882]]\n"
     ]
    }
   ],
   "source": [
    "# Threshold optimization\n",
    "thresholds = np.linspace(0.01, 0.99, 99)\n",
    "scores = [f1_score(y_test, svm_prob_scores >= t, average='binary') for t in thresholds]\n",
    "best_thresh = thresholds[np.argmax(scores)]\n",
    "adjusted_predictions = (svm_prob_scores >= best_thresh).astype(int)\n",
    "\n",
    "# Evaluate with the new threshold\n",
    "adjusted_precision = precision_score(y_test, adjusted_predictions, average='binary')\n",
    "adjusted_recall = recall_score(y_test, adjusted_predictions, average='binary')\n",
    "adjusted_accuracy = accuracy_score(y_test, adjusted_predictions)\n",
    "adjusted_f1 = f1_score(y_test, adjusted_predictions, average='binary')\n",
    "adjusted_conf_matrix = confusion_matrix(y_test, adjusted_predictions)\n",
    "\n",
    "print(f\"Adjusted threshold: {best_thresh}\")\n",
    "print(\"Optimized SVM\")\n",
    "print(f\"Precision: {adjusted_precision}\")\n",
    "print(f\"Recall: {adjusted_recall}\")\n",
    "print(f\"Accuracy: {adjusted_accuracy}\")\n",
    "print(f\"F1 Score: {adjusted_f1}\")\n",
    "print(\"Confusion Matrix:\")\n",
    "print(adjusted_conf_matrix)\n",
    "\n",
    "svm_thresh = best_thresh"
   ]
  },
  {
   "cell_type": "code",
   "execution_count": 32,
   "id": "92382252-0d77-45d8-bb20-8c5c7f2a983b",
   "metadata": {
    "execution": {
     "iopub.execute_input": "2024-09-25T04:29:26.436368Z",
     "iopub.status.busy": "2024-09-25T04:29:26.436296Z",
     "iopub.status.idle": "2024-09-25T04:29:26.965092Z",
     "shell.execute_reply": "2024-09-25T04:29:26.963214Z",
     "shell.execute_reply.started": "2024-09-25T04:29:26.436361Z"
    }
   },
   "outputs": [
    {
     "name": "stdout",
     "output_type": "stream",
     "text": [
      "Updated cells count: 4\n"
     ]
    }
   ],
   "source": [
    "# SAVE TO GOOGLE SHEET\n",
    "\n",
    "# Define the range and values to update\n",
    "range_name = '3-1!B7:E7'  \n",
    "\n",
    "values = [[\n",
    "    f\"{adjusted_precision * 100:.2f}\",\n",
    "    f\"{adjusted_recall * 100:.2f}\",\n",
    "    f\"{adjusted_accuracy * 100:.2f}\",\n",
    "    f\"{adjusted_f1 * 100:.2f}\"\n",
    "]]\n",
    "\n",
    "# Prepare the request body\n",
    "body = {\n",
    "    'values': values\n",
    "}\n",
    "\n",
    "# Call the Sheets API to update the values\n",
    "result = service.spreadsheets().values().update(\n",
    "    spreadsheetId=spreadsheet_id, \n",
    "    range=range_name,\n",
    "    valueInputOption='USER_ENTERED',\n",
    "    body=body\n",
    ").execute()\n",
    "\n",
    "print('Updated cells count:', result.get('updatedCells'))"
   ]
  },
  {
   "cell_type": "markdown",
   "id": "1e0143f6-14c3-431a-b08b-7f182a0c7c96",
   "metadata": {},
   "source": [
    "## TEST DATA C"
   ]
  },
  {
   "cell_type": "code",
   "execution_count": 33,
   "id": "2a7c1fca-bf56-43cf-8559-e8acfd5dc262",
   "metadata": {
    "execution": {
     "iopub.execute_input": "2024-09-25T04:29:26.967049Z",
     "iopub.status.busy": "2024-09-25T04:29:26.966717Z",
     "iopub.status.idle": "2024-09-25T04:29:54.870735Z",
     "shell.execute_reply": "2024-09-25T04:29:54.870144Z",
     "shell.execute_reply.started": "2024-09-25T04:29:26.967019Z"
    }
   },
   "outputs": [],
   "source": [
    "import pandas as pd\n",
    "from sklearn.metrics import accuracy_score, precision_score, recall_score, f1_score, confusion_matrix\n",
    "\n",
    "# Load validation data\n",
    "validation_file_path = 'Corpus/data_c.csv'\n",
    "validation_df = pd.read_csv(validation_file_path)\n",
    "\n",
    "X_val = validation_df['text'].values \n",
    "y_val = validation_df['label'].values\n",
    "\n",
    "# Generate meta-features for data c dataset\n",
    "val_meta_features = get_predictions(model_info, X_val, y_val, device) \n",
    "\n",
    "# Predict using the logistic regression meta-classifier\n",
    "val_lr_predictions = lr_meta_classifier.predict(val_meta_features)\n",
    "\n",
    "# Predict using the naive bayes meta-classifier\n",
    "val_nb_predictions = nb_meta_classifier.predict(val_meta_features)\n",
    "\n",
    "# Predict using the decision tree meta-classifier\n",
    "val_dt_predictions = dt_meta_classifier.predict(val_meta_features)\n",
    "\n",
    "# Predict using the svm meta-classifier\n",
    "val_svm_predictions = svm_meta_classifier.predict(val_meta_features)\n",
    "\n",
    "device = torch.device(\"mps\" if torch.backends.mps.is_available() else \"cpu\")"
   ]
  },
  {
   "cell_type": "markdown",
   "id": "7d0693ac-17b2-4645-be71-fe4c1f337e38",
   "metadata": {},
   "source": [
    "### LR"
   ]
  },
  {
   "cell_type": "code",
   "execution_count": 34,
   "id": "5303f868-1507-4252-9f50-136aa337f630",
   "metadata": {
    "execution": {
     "iopub.execute_input": "2024-09-25T04:29:54.871328Z",
     "iopub.status.busy": "2024-09-25T04:29:54.871236Z",
     "iopub.status.idle": "2024-09-25T04:29:54.876607Z",
     "shell.execute_reply": "2024-09-25T04:29:54.876399Z",
     "shell.execute_reply.started": "2024-09-25T04:29:54.871321Z"
    }
   },
   "outputs": [
    {
     "name": "stdout",
     "output_type": "stream",
     "text": [
      "Evaluation on HS-Data C Dataset\n",
      "Precision: 0.7689804772234273\n",
      "Recall: 0.8244186046511628\n",
      "Accuracy: 0.8029236599891716\n",
      "F1 Score: 0.7957351290684624\n",
      "Confusion Matrix:\n",
      "[[774 213]\n",
      " [151 709]]\n"
     ]
    }
   ],
   "source": [
    "# Evaluate the predictions\n",
    "precision = precision_score(y_val, val_lr_predictions, average='binary')\n",
    "recall = recall_score(y_val, val_lr_predictions, average='binary')\n",
    "accuracy = accuracy_score(y_val, val_lr_predictions)\n",
    "f1 = f1_score(y_val, val_lr_predictions, average='binary')\n",
    "conf_matrix = confusion_matrix(y_val, val_lr_predictions)\n",
    "\n",
    "print(\"Evaluation on HS-Data C Dataset\")\n",
    "print(f\"Precision: {precision}\")\n",
    "print(f\"Recall: {recall}\")\n",
    "print(f\"Accuracy: {accuracy}\")\n",
    "print(f\"F1 Score: {f1}\")\n",
    "print(\"Confusion Matrix:\")\n",
    "print(conf_matrix)"
   ]
  },
  {
   "cell_type": "code",
   "execution_count": 35,
   "id": "304ff2c7-06e2-460f-b580-3f4d5a8b2208",
   "metadata": {
    "execution": {
     "iopub.execute_input": "2024-09-25T04:29:54.876969Z",
     "iopub.status.busy": "2024-09-25T04:29:54.876899Z",
     "iopub.status.idle": "2024-09-25T04:29:54.938487Z",
     "shell.execute_reply": "2024-09-25T04:29:54.938185Z",
     "shell.execute_reply.started": "2024-09-25T04:29:54.876962Z"
    }
   },
   "outputs": [
    {
     "data": {
      "image/png": "[encoded data removed]",
      "text/plain": [
       "<Figure size 640x480 with 1 Axes>"
      ]
     },
     "metadata": {},
     "output_type": "display_data"
    }
   ],
   "source": [
    "# Get probability scores for threshold optimization\n",
    "lr_prob_scores = lr_meta_classifier.predict_proba(val_meta_features)[:, 1]\n",
    "\n",
    "import matplotlib.pyplot as plt\n",
    "\n",
    "# Plot the distribution of predicted probabilities\n",
    "plt.hist(lr_prob_scores, bins=50, alpha=0.75)\n",
    "plt.title('Distribution of Predicted Probabilities (LR)')\n",
    "plt.xlabel('Probability of Positive Class')\n",
    "plt.ylabel('Frequency')\n",
    "plt.show()\n"
   ]
  },
  {
   "cell_type": "code",
   "execution_count": 36,
   "id": "d732e24d-540c-4934-a359-e7098db0eaaf",
   "metadata": {
    "execution": {
     "iopub.execute_input": "2024-09-25T04:29:54.938991Z",
     "iopub.status.busy": "2024-09-25T04:29:54.938910Z",
     "iopub.status.idle": "2024-09-25T04:29:54.945147Z",
     "shell.execute_reply": "2024-09-25T04:29:54.944919Z",
     "shell.execute_reply.started": "2024-09-25T04:29:54.938984Z"
    }
   },
   "outputs": [
    {
     "name": "stdout",
     "output_type": "stream",
     "text": [
      "Adjusted threshold: 0.33\n",
      "Optimized Logistic Regression\n",
      "Precision: 0.6963162623539982\n",
      "Recall: 0.9011627906976745\n",
      "Accuracy: 0.7709799675148891\n",
      "F1 Score: 0.7856056766345666\n",
      "Confusion Matrix:\n",
      "[[649 338]\n",
      " [ 85 775]]\n"
     ]
    }
   ],
   "source": [
    "adjusted_predictions = (lr_prob_scores >= lr_thresh).astype(int)\n",
    "\n",
    "# Evaluate with the new threshold\n",
    "adjusted_precision = precision_score(y_val, adjusted_predictions, average='binary')\n",
    "adjusted_recall = recall_score(y_val, adjusted_predictions, average='binary')\n",
    "adjusted_accuracy = accuracy_score(y_val, adjusted_predictions)\n",
    "adjusted_f1 = f1_score(y_val, adjusted_predictions, average='binary')\n",
    "adjusted_conf_matrix = confusion_matrix(y_val, adjusted_predictions)\n",
    "\n",
    "print(f\"Adjusted threshold: {lr_thresh}\")\n",
    "print(\"Optimized Logistic Regression\")\n",
    "print(f\"Precision: {adjusted_precision}\")\n",
    "print(f\"Recall: {adjusted_recall}\")\n",
    "print(f\"Accuracy: {adjusted_accuracy}\")\n",
    "print(f\"F1 Score: {adjusted_f1}\")\n",
    "print(\"Confusion Matrix:\")\n",
    "print(adjusted_conf_matrix)"
   ]
  },
  {
   "cell_type": "code",
   "execution_count": 37,
   "id": "35d847f4-0bc4-4f4f-a1ff-22d5d990820f",
   "metadata": {
    "execution": {
     "iopub.execute_input": "2024-09-25T04:29:54.945709Z",
     "iopub.status.busy": "2024-09-25T04:29:54.945590Z",
     "iopub.status.idle": "2024-09-25T04:29:55.882917Z",
     "shell.execute_reply": "2024-09-25T04:29:55.881730Z",
     "shell.execute_reply.started": "2024-09-25T04:29:54.945702Z"
    }
   },
   "outputs": [
    {
     "name": "stdout",
     "output_type": "stream",
     "text": [
      "Updated cells count: 4\n"
     ]
    }
   ],
   "source": [
    "# SAVE TO GOOGLE SHEET\n",
    "\n",
    "# Define the range and values to update\n",
    "range_name = '3-1!F4:I4'  \n",
    "\n",
    "values = [[\n",
    "    f\"{adjusted_precision * 100:.2f}\",\n",
    "    f\"{adjusted_recall * 100:.2f}\",\n",
    "    f\"{adjusted_accuracy * 100:.2f}\",\n",
    "    f\"{adjusted_f1 * 100:.2f}\"\n",
    "]]\n",
    "\n",
    "# Prepare the request body\n",
    "body = {\n",
    "    'values': values\n",
    "}\n",
    "\n",
    "# Call the Sheets API to update the values\n",
    "result = service.spreadsheets().values().update(\n",
    "    spreadsheetId=spreadsheet_id, \n",
    "    range=range_name,\n",
    "    valueInputOption='USER_ENTERED',\n",
    "    body=body\n",
    ").execute()\n",
    "\n",
    "print('Updated cells count:', result.get('updatedCells'))"
   ]
  },
  {
   "cell_type": "markdown",
   "id": "56d20e88-5a01-4b56-ad36-37c984d10277",
   "metadata": {},
   "source": [
    "#### Save CM"
   ]
  },
  {
   "cell_type": "code",
   "execution_count": 38,
   "id": "3ca78187-3e76-4798-b348-64b200b29eb1",
   "metadata": {
    "execution": {
     "iopub.execute_input": "2024-09-25T04:29:55.884918Z",
     "iopub.status.busy": "2024-09-25T04:29:55.884480Z",
     "iopub.status.idle": "2024-09-25T04:29:56.174885Z",
     "shell.execute_reply": "2024-09-25T04:29:56.174639Z",
     "shell.execute_reply.started": "2024-09-25T04:29:55.884874Z"
    }
   },
   "outputs": [
    {
     "data": {
      "text/html": [
       "\n",
       "<style>\n",
       "  #altair-viz-9aee321ca7e147469db418f230278cf5.vega-embed {\n",
       "    width: 100%;\n",
       "    display: flex;\n",
       "  }\n",
       "\n",
       "  #altair-viz-9aee321ca7e147469db418f230278cf5.vega-embed details,\n",
       "  #altair-viz-9aee321ca7e147469db418f230278cf5.vega-embed details summary {\n",
       "    position: relative;\n",
       "  }\n",
       "</style>\n",
       "<div id=\"altair-viz-9aee321ca7e147469db418f230278cf5\"></div>\n",
       "<script type=\"text/javascript\">\n",
       "  var VEGA_DEBUG = (typeof VEGA_DEBUG == \"undefined\") ? {} : VEGA_DEBUG;\n",
       "  (function(spec, embedOpt){\n",
       "    let outputDiv = document.currentScript.previousElementSibling;\n",
       "    if (outputDiv.id !== \"altair-viz-9aee321ca7e147469db418f230278cf5\") {\n",
       "      outputDiv = document.getElementById(\"altair-viz-9aee321ca7e147469db418f230278cf5\");\n",
       "    }\n",
       "    const paths = {\n",
       "      \"vega\": \"https://cdn.jsdelivr.net/npm/vega@5?noext\",\n",
       "      \"vega-lib\": \"https://cdn.jsdelivr.net/npm/vega-lib?noext\",\n",
       "      \"vega-lite\": \"https://cdn.jsdelivr.net/npm/vega-lite@5.17.0?noext\",\n",
       "      \"vega-embed\": \"https://cdn.jsdelivr.net/npm/vega-embed@6?noext\",\n",
       "    };\n",
       "\n",
       "    function maybeLoadScript(lib, version) {\n",
       "      var key = `${lib.replace(\"-\", \"\")}_version`;\n",
       "      return (VEGA_DEBUG[key] == version) ?\n",
       "        Promise.resolve(paths[lib]) :\n",
       "        new Promise(function(resolve, reject) {\n",
       "          var s = document.createElement('script');\n",
       "          document.getElementsByTagName(\"head\")[0].appendChild(s);\n",
       "          s.async = true;\n",
       "          s.onload = () => {\n",
       "            VEGA_DEBUG[key] = version;\n",
       "            return resolve(paths[lib]);\n",
       "          };\n",
       "          s.onerror = () => reject(`Error loading script: ${paths[lib]}`);\n",
       "          s.src = paths[lib];\n",
       "        });\n",
       "    }\n",
       "\n",
       "    function showError(err) {\n",
       "      outputDiv.innerHTML = `<div class=\"error\" style=\"color:red;\">${err}</div>`;\n",
       "      throw err;\n",
       "    }\n",
       "\n",
       "    function displayChart(vegaEmbed) {\n",
       "      vegaEmbed(outputDiv, spec, embedOpt)\n",
       "        .catch(err => showError(`Javascript Error: ${err.message}<br>This usually means there's a typo in your chart specification. See the javascript console for the full traceback.`));\n",
       "    }\n",
       "\n",
       "    if(typeof define === \"function\" && define.amd) {\n",
       "      requirejs.config({paths});\n",
       "      require([\"vega-embed\"], displayChart, err => showError(`Error loading script: ${err.message}`));\n",
       "    } else {\n",
       "      maybeLoadScript(\"vega\", \"5\")\n",
       "        .then(() => maybeLoadScript(\"vega-lite\", \"5.17.0\"))\n",
       "        .then(() => maybeLoadScript(\"vega-embed\", \"6\"))\n",
       "        .catch(showError)\n",
       "        .then(() => displayChart(vegaEmbed));\n",
       "    }\n",
       "  })({\"config\": {\"view\": {\"continuousWidth\": 300, \"continuousHeight\": 300}}, \"layer\": [{\"mark\": {\"type\": \"rect\"}, \"encoding\": {\"color\": {\"field\": \"Count\", \"type\": \"quantitative\"}, \"tooltip\": [{\"field\": \"True\", \"type\": \"ordinal\"}, {\"field\": \"Predicted\", \"type\": \"ordinal\"}, {\"field\": \"Count\", \"type\": \"quantitative\"}], \"x\": {\"field\": \"Predicted\", \"sort\": [\"Non Hatespeech\", \"Hate Speech\"], \"type\": \"ordinal\"}, \"y\": {\"field\": \"True\", \"sort\": [\"Non Hatespeech\", \"Hate Speech\"], \"type\": \"ordinal\"}}, \"title\": \"OH_Using_HS 3STK-1 LR\"}, {\"mark\": {\"type\": \"text\", \"align\": \"center\", \"baseline\": \"middle\", \"fontSize\": 12}, \"encoding\": {\"color\": {\"condition\": {\"test\": \"(datum.Count > 387.5)\", \"value\": \"white\"}, \"value\": \"black\"}, \"text\": {\"field\": \"Count\", \"type\": \"quantitative\"}, \"tooltip\": [{\"field\": \"True\", \"type\": \"ordinal\"}, {\"field\": \"Predicted\", \"type\": \"ordinal\"}, {\"field\": \"Count\", \"type\": \"quantitative\"}], \"x\": {\"field\": \"Predicted\", \"sort\": [\"Non Hatespeech\", \"Hate Speech\"], \"type\": \"ordinal\"}, \"y\": {\"field\": \"True\", \"sort\": [\"Non Hatespeech\", \"Hate Speech\"], \"type\": \"ordinal\"}}, \"title\": \"OH_Using_HS 3STK-1 LR\"}], \"data\": {\"name\": \"data-d89f7e958ff039a2afe8b7119060eb4d\"}, \"height\": 300, \"width\": 400, \"$schema\": \"https://vega.github.io/schema/vega-lite/v5.17.0.json\", \"datasets\": {\"data-d89f7e958ff039a2afe8b7119060eb4d\": [{\"True\": \"Non Hatespeech\", \"Predicted\": \"Non Hatespeech\", \"Count\": 649}, {\"True\": \"Hate Speech\", \"Predicted\": \"Non Hatespeech\", \"Count\": 85}, {\"True\": \"Non Hatespeech\", \"Predicted\": \"Hate Speech\", \"Count\": 338}, {\"True\": \"Hate Speech\", \"Predicted\": \"Hate Speech\", \"Count\": 775}]}}, {\"mode\": \"vega-lite\"});\n",
       "</script>"
      ],
      "text/plain": [
       "alt.LayerChart(...)"
      ]
     },
     "metadata": {},
     "output_type": "display_data"
    }
   ],
   "source": [
    "import altair as alt\n",
    "import altair_saver\n",
    "import pandas as pd\n",
    "from sklearn.metrics import confusion_matrix\n",
    "\n",
    "# Calculate the confusion matrix\n",
    "cm = confusion_matrix(y_val, adjusted_predictions)\n",
    "\n",
    "# Define class names\n",
    "class_names = ['Non Hatespeech', 'Hate Speech']\n",
    "\n",
    "# Convert confusion matrix to DataFrame\n",
    "cm_df = pd.DataFrame(cm, index=class_names, columns=class_names).reset_index().melt(id_vars='index')\n",
    "cm_df.columns = ['True', 'Predicted', 'Count']\n",
    "\n",
    "# Ensure the order of categories\n",
    "cm_df['True'] = pd.Categorical(cm_df['True'], categories=class_names, ordered=True)\n",
    "cm_df['Predicted'] = pd.Categorical(cm_df['Predicted'], categories=class_names, ordered=True)\n",
    "\n",
    "# Create the Altair plot\n",
    "heatmap = alt.Chart(cm_df).mark_rect().encode(\n",
    "    x=alt.X('Predicted:O', sort=class_names),\n",
    "    y=alt.Y('True:O', sort=class_names),\n",
    "    color='Count:Q',\n",
    "    tooltip=['True', 'Predicted', 'Count']\n",
    ").properties(\n",
    "    width=400,\n",
    "    height=300,\n",
    "    title='OH_Using_HS 3STK-1 LR'\n",
    ")\n",
    "\n",
    "# Add text labels\n",
    "text = heatmap.mark_text(\n",
    "    align='center',\n",
    "    baseline='middle',\n",
    "    fontSize=12\n",
    ").encode(\n",
    "    text='Count:Q',\n",
    "    color=alt.condition(\n",
    "        alt.datum.Count > cm.max() / 2,\n",
    "        alt.value('white'),\n",
    "        alt.value('black')\n",
    "    )\n",
    ")\n",
    "\n",
    "# Combine heatmap and text\n",
    "final_chart = heatmap + text\n",
    "\n",
    "# Display the plot\n",
    "final_chart.show()"
   ]
  },
  {
   "cell_type": "code",
   "execution_count": 39,
   "id": "4018e7ba-2de6-44d9-9a6f-bf13ccb33108",
   "metadata": {
    "execution": {
     "iopub.execute_input": "2024-09-25T04:29:56.175481Z",
     "iopub.status.busy": "2024-09-25T04:29:56.175362Z",
     "iopub.status.idle": "2024-09-25T04:29:56.563802Z",
     "shell.execute_reply": "2024-09-25T04:29:56.563542Z",
     "shell.execute_reply.started": "2024-09-25T04:29:56.175474Z"
    }
   },
   "outputs": [
    {
     "name": "stdout",
     "output_type": "stream",
     "text": [
      "Plot saved to Results/Ensemble Model Results/On Hatespeech dataset/OH Using HS Ensemble/Stacking/OH_Using_HS 3STK-1 LR.png\n"
     ]
    }
   ],
   "source": [
    "# Specify the folder path\n",
    "folder_path = os.path.expanduser('Results/Ensemble Model Results/On Hatespeech dataset/OH Using HS Ensemble/Stacking/')\n",
    "\n",
    "# Save the plot using vl-convert\n",
    "file_path_png = os.path.join(folder_path, 'OH_Using_HS 3STK-1 LR.png')\n",
    "final_chart.save(file_path_png)\n",
    "\n",
    "print(f\"Plot saved to {file_path_png}\")"
   ]
  },
  {
   "cell_type": "markdown",
   "id": "79e3bc0f-597f-47e3-ba99-5d9cafd1aea3",
   "metadata": {},
   "source": [
    "### NB"
   ]
  },
  {
   "cell_type": "code",
   "execution_count": 40,
   "id": "0af5051f-834f-4646-afef-37bfdfdc43d3",
   "metadata": {
    "execution": {
     "iopub.execute_input": "2024-09-25T04:29:56.564298Z",
     "iopub.status.busy": "2024-09-25T04:29:56.564224Z",
     "iopub.status.idle": "2024-09-25T04:29:56.569635Z",
     "shell.execute_reply": "2024-09-25T04:29:56.569383Z",
     "shell.execute_reply.started": "2024-09-25T04:29:56.564291Z"
    }
   },
   "outputs": [
    {
     "name": "stdout",
     "output_type": "stream",
     "text": [
      "Evaluation on HS-Data C Dataset\n",
      "Precision: 0.7689804772234273\n",
      "Recall: 0.8244186046511628\n",
      "Accuracy: 0.8029236599891716\n",
      "F1 Score: 0.7957351290684624\n",
      "Confusion Matrix:\n",
      "[[774 213]\n",
      " [151 709]]\n"
     ]
    }
   ],
   "source": [
    "# Evaluate the predictions\n",
    "precision = precision_score(y_val, val_nb_predictions, average='binary')\n",
    "recall = recall_score(y_val, val_nb_predictions, average='binary')\n",
    "accuracy = accuracy_score(y_val, val_nb_predictions)\n",
    "f1 = f1_score(y_val, val_nb_predictions, average='binary')\n",
    "conf_matrix = confusion_matrix(y_val, val_nb_predictions)\n",
    "\n",
    "print(\"Evaluation on HS-Data C Dataset\")\n",
    "print(f\"Precision: {precision}\")\n",
    "print(f\"Recall: {recall}\")\n",
    "print(f\"Accuracy: {accuracy}\")\n",
    "print(f\"F1 Score: {f1}\")\n",
    "print(\"Confusion Matrix:\")\n",
    "print(conf_matrix)"
   ]
  },
  {
   "cell_type": "code",
   "execution_count": 41,
   "id": "b1d00c95-8229-4193-a0cd-905da9490baf",
   "metadata": {
    "execution": {
     "iopub.execute_input": "2024-09-25T04:29:56.570084Z",
     "iopub.status.busy": "2024-09-25T04:29:56.570019Z",
     "iopub.status.idle": "2024-09-25T04:29:56.630908Z",
     "shell.execute_reply": "2024-09-25T04:29:56.630675Z",
     "shell.execute_reply.started": "2024-09-25T04:29:56.570077Z"
    }
   },
   "outputs": [
    {
     "data": {
      "image/png": "[encoded data removed]",
      "text/plain": [
       "<Figure size 640x480 with 1 Axes>"
      ]
     },
     "metadata": {},
     "output_type": "display_data"
    }
   ],
   "source": [
    "# Get probability scores for threshold optimization\n",
    "nb_prob_scores = nb_meta_classifier.predict_proba(val_meta_features)[:, 1]\n",
    "\n",
    "import matplotlib.pyplot as plt\n",
    "\n",
    "# Plot the distribution of predicted probabilities\n",
    "plt.hist(lr_prob_scores, bins=50, alpha=0.75)\n",
    "plt.title('Distribution of Predicted Probabilities (LR)')\n",
    "plt.xlabel('Probability of Positive Class')\n",
    "plt.ylabel('Frequency')\n",
    "plt.show()\n"
   ]
  },
  {
   "cell_type": "code",
   "execution_count": 42,
   "id": "d1acd42b-ca2c-40be-b90e-e7fb7f6eeb2a",
   "metadata": {
    "execution": {
     "iopub.execute_input": "2024-09-25T04:29:56.631319Z",
     "iopub.status.busy": "2024-09-25T04:29:56.631245Z",
     "iopub.status.idle": "2024-09-25T04:29:56.636964Z",
     "shell.execute_reply": "2024-09-25T04:29:56.636746Z",
     "shell.execute_reply.started": "2024-09-25T04:29:56.631313Z"
    }
   },
   "outputs": [
    {
     "name": "stdout",
     "output_type": "stream",
     "text": [
      "Adjusted threshold: 0.18000000000000002\n",
      "Optimized Naive Bayes\n",
      "Precision: 0.6963162623539982\n",
      "Recall: 0.9011627906976745\n",
      "Accuracy: 0.7709799675148891\n",
      "F1 Score: 0.7856056766345666\n",
      "Confusion Matrix:\n",
      "[[649 338]\n",
      " [ 85 775]]\n"
     ]
    }
   ],
   "source": [
    "adjusted_predictions = (nb_prob_scores >= nb_thresh).astype(int)\n",
    "\n",
    "# Evaluate with the new threshold\n",
    "adjusted_precision = precision_score(y_val, adjusted_predictions, average='binary')\n",
    "adjusted_recall = recall_score(y_val, adjusted_predictions, average='binary')\n",
    "adjusted_accuracy = accuracy_score(y_val, adjusted_predictions)\n",
    "adjusted_f1 = f1_score(y_val, adjusted_predictions, average='binary')\n",
    "adjusted_conf_matrix = confusion_matrix(y_val, adjusted_predictions)\n",
    "\n",
    "print(f\"Adjusted threshold: {nb_thresh}\")\n",
    "print(\"Optimized Naive Bayes\")\n",
    "print(f\"Precision: {adjusted_precision}\")\n",
    "print(f\"Recall: {adjusted_recall}\")\n",
    "print(f\"Accuracy: {adjusted_accuracy}\")\n",
    "print(f\"F1 Score: {adjusted_f1}\")\n",
    "print(\"Confusion Matrix:\")\n",
    "print(adjusted_conf_matrix)"
   ]
  },
  {
   "cell_type": "code",
   "execution_count": 43,
   "id": "fe5b7918-e4a2-4fd5-bfc3-74bb308a085b",
   "metadata": {
    "execution": {
     "iopub.execute_input": "2024-09-25T04:29:56.637325Z",
     "iopub.status.busy": "2024-09-25T04:29:56.637263Z",
     "iopub.status.idle": "2024-09-25T04:29:57.215376Z",
     "shell.execute_reply": "2024-09-25T04:29:57.213422Z",
     "shell.execute_reply.started": "2024-09-25T04:29:56.637319Z"
    }
   },
   "outputs": [
    {
     "name": "stdout",
     "output_type": "stream",
     "text": [
      "Updated cells count: 4\n"
     ]
    }
   ],
   "source": [
    "# SAVE TO GOOGLE SHEET\n",
    "\n",
    "# Define the range and values to update\n",
    "range_name = '3-1!F5:I5'  \n",
    "\n",
    "values = [[\n",
    "    f\"{adjusted_precision * 100:.2f}\",\n",
    "    f\"{adjusted_recall * 100:.2f}\",\n",
    "    f\"{adjusted_accuracy * 100:.2f}\",\n",
    "    f\"{adjusted_f1 * 100:.2f}\"\n",
    "]]\n",
    "\n",
    "# Prepare the request body\n",
    "body = {\n",
    "    'values': values\n",
    "}\n",
    "\n",
    "# Call the Sheets API to update the values\n",
    "result = service.spreadsheets().values().update(\n",
    "    spreadsheetId=spreadsheet_id, \n",
    "    range=range_name,\n",
    "    valueInputOption='USER_ENTERED',\n",
    "    body=body\n",
    ").execute()\n",
    "\n",
    "print('Updated cells count:', result.get('updatedCells'))"
   ]
  },
  {
   "cell_type": "markdown",
   "id": "65529983-86a3-4c32-b155-c08fcdf20b31",
   "metadata": {},
   "source": [
    "#### Save CM"
   ]
  },
  {
   "cell_type": "code",
   "execution_count": 44,
   "id": "ea993771-7e1b-4a65-8e32-29912f2564d0",
   "metadata": {
    "execution": {
     "iopub.execute_input": "2024-09-25T04:29:57.218333Z",
     "iopub.status.busy": "2024-09-25T04:29:57.217561Z",
     "iopub.status.idle": "2024-09-25T04:29:57.272169Z",
     "shell.execute_reply": "2024-09-25T04:29:57.271846Z",
     "shell.execute_reply.started": "2024-09-25T04:29:57.218290Z"
    }
   },
   "outputs": [
    {
     "data": {
      "text/html": [
       "\n",
       "<style>\n",
       "  #altair-viz-59032ec151d24adaa1e31232c6694c38.vega-embed {\n",
       "    width: 100%;\n",
       "    display: flex;\n",
       "  }\n",
       "\n",
       "  #altair-viz-59032ec151d24adaa1e31232c6694c38.vega-embed details,\n",
       "  #altair-viz-59032ec151d24adaa1e31232c6694c38.vega-embed details summary {\n",
       "    position: relative;\n",
       "  }\n",
       "</style>\n",
       "<div id=\"altair-viz-59032ec151d24adaa1e31232c6694c38\"></div>\n",
       "<script type=\"text/javascript\">\n",
       "  var VEGA_DEBUG = (typeof VEGA_DEBUG == \"undefined\") ? {} : VEGA_DEBUG;\n",
       "  (function(spec, embedOpt){\n",
       "    let outputDiv = document.currentScript.previousElementSibling;\n",
       "    if (outputDiv.id !== \"altair-viz-59032ec151d24adaa1e31232c6694c38\") {\n",
       "      outputDiv = document.getElementById(\"altair-viz-59032ec151d24adaa1e31232c6694c38\");\n",
       "    }\n",
       "    const paths = {\n",
       "      \"vega\": \"https://cdn.jsdelivr.net/npm/vega@5?noext\",\n",
       "      \"vega-lib\": \"https://cdn.jsdelivr.net/npm/vega-lib?noext\",\n",
       "      \"vega-lite\": \"https://cdn.jsdelivr.net/npm/vega-lite@5.17.0?noext\",\n",
       "      \"vega-embed\": \"https://cdn.jsdelivr.net/npm/vega-embed@6?noext\",\n",
       "    };\n",
       "\n",
       "    function maybeLoadScript(lib, version) {\n",
       "      var key = `${lib.replace(\"-\", \"\")}_version`;\n",
       "      return (VEGA_DEBUG[key] == version) ?\n",
       "        Promise.resolve(paths[lib]) :\n",
       "        new Promise(function(resolve, reject) {\n",
       "          var s = document.createElement('script');\n",
       "          document.getElementsByTagName(\"head\")[0].appendChild(s);\n",
       "          s.async = true;\n",
       "          s.onload = () => {\n",
       "            VEGA_DEBUG[key] = version;\n",
       "            return resolve(paths[lib]);\n",
       "          };\n",
       "          s.onerror = () => reject(`Error loading script: ${paths[lib]}`);\n",
       "          s.src = paths[lib];\n",
       "        });\n",
       "    }\n",
       "\n",
       "    function showError(err) {\n",
       "      outputDiv.innerHTML = `<div class=\"error\" style=\"color:red;\">${err}</div>`;\n",
       "      throw err;\n",
       "    }\n",
       "\n",
       "    function displayChart(vegaEmbed) {\n",
       "      vegaEmbed(outputDiv, spec, embedOpt)\n",
       "        .catch(err => showError(`Javascript Error: ${err.message}<br>This usually means there's a typo in your chart specification. See the javascript console for the full traceback.`));\n",
       "    }\n",
       "\n",
       "    if(typeof define === \"function\" && define.amd) {\n",
       "      requirejs.config({paths});\n",
       "      require([\"vega-embed\"], displayChart, err => showError(`Error loading script: ${err.message}`));\n",
       "    } else {\n",
       "      maybeLoadScript(\"vega\", \"5\")\n",
       "        .then(() => maybeLoadScript(\"vega-lite\", \"5.17.0\"))\n",
       "        .then(() => maybeLoadScript(\"vega-embed\", \"6\"))\n",
       "        .catch(showError)\n",
       "        .then(() => displayChart(vegaEmbed));\n",
       "    }\n",
       "  })({\"config\": {\"view\": {\"continuousWidth\": 300, \"continuousHeight\": 300}}, \"layer\": [{\"mark\": {\"type\": \"rect\"}, \"encoding\": {\"color\": {\"field\": \"Count\", \"type\": \"quantitative\"}, \"tooltip\": [{\"field\": \"True\", \"type\": \"ordinal\"}, {\"field\": \"Predicted\", \"type\": \"ordinal\"}, {\"field\": \"Count\", \"type\": \"quantitative\"}], \"x\": {\"field\": \"Predicted\", \"sort\": [\"Non Hatespeech\", \"Hate Speech\"], \"type\": \"ordinal\"}, \"y\": {\"field\": \"True\", \"sort\": [\"Non Hatespeech\", \"Hate Speech\"], \"type\": \"ordinal\"}}, \"title\": \"OH_Using_HS 3STK-1 NB\"}, {\"mark\": {\"type\": \"text\", \"align\": \"center\", \"baseline\": \"middle\", \"fontSize\": 12}, \"encoding\": {\"color\": {\"condition\": {\"test\": \"(datum.Count > 387.5)\", \"value\": \"white\"}, \"value\": \"black\"}, \"text\": {\"field\": \"Count\", \"type\": \"quantitative\"}, \"tooltip\": [{\"field\": \"True\", \"type\": \"ordinal\"}, {\"field\": \"Predicted\", \"type\": \"ordinal\"}, {\"field\": \"Count\", \"type\": \"quantitative\"}], \"x\": {\"field\": \"Predicted\", \"sort\": [\"Non Hatespeech\", \"Hate Speech\"], \"type\": \"ordinal\"}, \"y\": {\"field\": \"True\", \"sort\": [\"Non Hatespeech\", \"Hate Speech\"], \"type\": \"ordinal\"}}, \"title\": \"OH_Using_HS 3STK-1 NB\"}], \"data\": {\"name\": \"data-d89f7e958ff039a2afe8b7119060eb4d\"}, \"height\": 300, \"width\": 400, \"$schema\": \"https://vega.github.io/schema/vega-lite/v5.17.0.json\", \"datasets\": {\"data-d89f7e958ff039a2afe8b7119060eb4d\": [{\"True\": \"Non Hatespeech\", \"Predicted\": \"Non Hatespeech\", \"Count\": 649}, {\"True\": \"Hate Speech\", \"Predicted\": \"Non Hatespeech\", \"Count\": 85}, {\"True\": \"Non Hatespeech\", \"Predicted\": \"Hate Speech\", \"Count\": 338}, {\"True\": \"Hate Speech\", \"Predicted\": \"Hate Speech\", \"Count\": 775}]}}, {\"mode\": \"vega-lite\"});\n",
       "</script>"
      ],
      "text/plain": [
       "alt.LayerChart(...)"
      ]
     },
     "metadata": {},
     "output_type": "display_data"
    }
   ],
   "source": [
    "import altair as alt\n",
    "import altair_saver\n",
    "import pandas as pd\n",
    "from sklearn.metrics import confusion_matrix\n",
    "\n",
    "# Calculate the confusion matrix\n",
    "cm = confusion_matrix(y_val, adjusted_predictions)\n",
    "\n",
    "# Define class names\n",
    "class_names = ['Non Hatespeech', 'Hate Speech']\n",
    "\n",
    "# Convert confusion matrix to DataFrame\n",
    "cm_df = pd.DataFrame(cm, index=class_names, columns=class_names).reset_index().melt(id_vars='index')\n",
    "cm_df.columns = ['True', 'Predicted', 'Count']\n",
    "\n",
    "# Ensure the order of categories\n",
    "cm_df['True'] = pd.Categorical(cm_df['True'], categories=class_names, ordered=True)\n",
    "cm_df['Predicted'] = pd.Categorical(cm_df['Predicted'], categories=class_names, ordered=True)\n",
    "\n",
    "# Create the Altair plot\n",
    "heatmap = alt.Chart(cm_df).mark_rect().encode(\n",
    "    x=alt.X('Predicted:O', sort=class_names),\n",
    "    y=alt.Y('True:O', sort=class_names),\n",
    "    color='Count:Q',\n",
    "    tooltip=['True', 'Predicted', 'Count']\n",
    ").properties(\n",
    "    width=400,\n",
    "    height=300,\n",
    "    title='OH_Using_HS 3STK-1 NB'\n",
    ")\n",
    "\n",
    "# Add text labels\n",
    "text = heatmap.mark_text(\n",
    "    align='center',\n",
    "    baseline='middle',\n",
    "    fontSize=12\n",
    ").encode(\n",
    "    text='Count:Q',\n",
    "    color=alt.condition(\n",
    "        alt.datum.Count > cm.max() / 2,\n",
    "        alt.value('white'),\n",
    "        alt.value('black')\n",
    "    )\n",
    ")\n",
    "\n",
    "# Combine heatmap and text\n",
    "final_chart = heatmap + text\n",
    "\n",
    "# Display the plot\n",
    "final_chart.show()"
   ]
  },
  {
   "cell_type": "code",
   "execution_count": 45,
   "id": "031b9ce6-7d92-4735-a298-e8f7812ebae0",
   "metadata": {
    "execution": {
     "iopub.execute_input": "2024-09-25T04:29:57.272754Z",
     "iopub.status.busy": "2024-09-25T04:29:57.272664Z",
     "iopub.status.idle": "2024-09-25T04:29:57.314597Z",
     "shell.execute_reply": "2024-09-25T04:29:57.314334Z",
     "shell.execute_reply.started": "2024-09-25T04:29:57.272745Z"
    }
   },
   "outputs": [
    {
     "name": "stdout",
     "output_type": "stream",
     "text": [
      "Plot saved to Results/Ensemble Model Results/On Hatespeech dataset/OH Using HS Ensemble/Stacking/OH_Using_HS 3STK-1 NB.png\n"
     ]
    }
   ],
   "source": [
    "# Specify the folder path\n",
    "folder_path = os.path.expanduser('Results/Ensemble Model Results/On Hatespeech dataset/OH Using HS Ensemble/Stacking/')\n",
    "\n",
    "# Save the plot using vl-convert\n",
    "file_path_png = os.path.join(folder_path, 'OH_Using_HS 3STK-1 NB.png')\n",
    "final_chart.save(file_path_png)\n",
    "\n",
    "print(f\"Plot saved to {file_path_png}\")"
   ]
  },
  {
   "cell_type": "markdown",
   "id": "7ba2269b-62c4-43d2-8394-9aa3c1a27678",
   "metadata": {},
   "source": [
    "### DT"
   ]
  },
  {
   "cell_type": "code",
   "execution_count": 46,
   "id": "0448f107-62d6-4f1a-8b04-4378b79f3d3d",
   "metadata": {
    "execution": {
     "iopub.execute_input": "2024-09-25T04:29:57.315185Z",
     "iopub.status.busy": "2024-09-25T04:29:57.315061Z",
     "iopub.status.idle": "2024-09-25T04:29:57.320294Z",
     "shell.execute_reply": "2024-09-25T04:29:57.320082Z",
     "shell.execute_reply.started": "2024-09-25T04:29:57.315178Z"
    }
   },
   "outputs": [
    {
     "name": "stdout",
     "output_type": "stream",
     "text": [
      "Evaluation on HS-Data C Dataset\n",
      "Precision: 0.7689804772234273\n",
      "Recall: 0.8244186046511628\n",
      "Accuracy: 0.8029236599891716\n",
      "F1 Score: 0.7957351290684624\n",
      "Confusion Matrix:\n",
      "[[774 213]\n",
      " [151 709]]\n"
     ]
    }
   ],
   "source": [
    "# Evaluate the predictions\n",
    "precision = precision_score(y_val, val_dt_predictions, average='binary')\n",
    "recall = recall_score(y_val, val_dt_predictions, average='binary')\n",
    "accuracy = accuracy_score(y_val, val_dt_predictions)\n",
    "f1 = f1_score(y_val, val_dt_predictions, average='binary')\n",
    "conf_matrix = confusion_matrix(y_val, val_dt_predictions)\n",
    "\n",
    "print(\"Evaluation on HS-Data C Dataset\")\n",
    "print(f\"Precision: {precision}\")\n",
    "print(f\"Recall: {recall}\")\n",
    "print(f\"Accuracy: {accuracy}\")\n",
    "print(f\"F1 Score: {f1}\")\n",
    "print(\"Confusion Matrix:\")\n",
    "print(conf_matrix)"
   ]
  },
  {
   "cell_type": "code",
   "execution_count": 47,
   "id": "daeaa5a2-4d76-4cba-8043-45a4a8beb545",
   "metadata": {
    "execution": {
     "iopub.execute_input": "2024-09-25T04:29:57.320719Z",
     "iopub.status.busy": "2024-09-25T04:29:57.320647Z",
     "iopub.status.idle": "2024-09-25T04:29:57.381890Z",
     "shell.execute_reply": "2024-09-25T04:29:57.381639Z",
     "shell.execute_reply.started": "2024-09-25T04:29:57.320712Z"
    }
   },
   "outputs": [
    {
     "data": {
      "image/png": "[encoded data removed]",
      "text/plain": [
       "<Figure size 640x480 with 1 Axes>"
      ]
     },
     "metadata": {},
     "output_type": "display_data"
    }
   ],
   "source": [
    "# Get probability scores for threshold optimization\n",
    "dt_prob_scores = dt_meta_classifier.predict_proba(val_meta_features)[:, 1]\n",
    "\n",
    "import matplotlib.pyplot as plt\n",
    "\n",
    "# Plot the distribution of predicted probabilities\n",
    "plt.hist(lr_prob_scores, bins=50, alpha=0.75)\n",
    "plt.title('Distribution of Predicted Probabilities (LR)')\n",
    "plt.xlabel('Probability of Positive Class')\n",
    "plt.ylabel('Frequency')\n",
    "plt.show()"
   ]
  },
  {
   "cell_type": "code",
   "execution_count": 48,
   "id": "9a0f105d-eb8f-4450-9d41-d90c97cf028c",
   "metadata": {
    "execution": {
     "iopub.execute_input": "2024-09-25T04:29:57.382324Z",
     "iopub.status.busy": "2024-09-25T04:29:57.382251Z",
     "iopub.status.idle": "2024-09-25T04:29:57.387964Z",
     "shell.execute_reply": "2024-09-25T04:29:57.387752Z",
     "shell.execute_reply.started": "2024-09-25T04:29:57.382317Z"
    }
   },
   "outputs": [
    {
     "name": "stdout",
     "output_type": "stream",
     "text": [
      "Adjusted threshold: 0.35000000000000003\n",
      "Optimized Decision Tree\n",
      "Precision: 0.6963162623539982\n",
      "Recall: 0.9011627906976745\n",
      "Accuracy: 0.7709799675148891\n",
      "F1 Score: 0.7856056766345666\n",
      "Confusion Matrix:\n",
      "[[649 338]\n",
      " [ 85 775]]\n"
     ]
    }
   ],
   "source": [
    "adjusted_predictions = (dt_prob_scores >= dt_thresh).astype(int)\n",
    "\n",
    "# Evaluate with the new threshold\n",
    "adjusted_precision = precision_score(y_val, adjusted_predictions, average='binary')\n",
    "adjusted_recall = recall_score(y_val, adjusted_predictions, average='binary')\n",
    "adjusted_accuracy = accuracy_score(y_val, adjusted_predictions)\n",
    "adjusted_f1 = f1_score(y_val, adjusted_predictions, average='binary')\n",
    "adjusted_conf_matrix = confusion_matrix(y_val, adjusted_predictions)\n",
    "\n",
    "print(f\"Adjusted threshold: {dt_thresh}\")\n",
    "print(\"Optimized Decision Tree\")\n",
    "print(f\"Precision: {adjusted_precision}\")\n",
    "print(f\"Recall: {adjusted_recall}\")\n",
    "print(f\"Accuracy: {adjusted_accuracy}\")\n",
    "print(f\"F1 Score: {adjusted_f1}\")\n",
    "print(\"Confusion Matrix:\")\n",
    "print(adjusted_conf_matrix)"
   ]
  },
  {
   "cell_type": "code",
   "execution_count": 49,
   "id": "dec85bf2-3044-4247-90ec-703089be962b",
   "metadata": {
    "execution": {
     "iopub.execute_input": "2024-09-25T04:29:57.388442Z",
     "iopub.status.busy": "2024-09-25T04:29:57.388341Z",
     "iopub.status.idle": "2024-09-25T04:29:57.827761Z",
     "shell.execute_reply": "2024-09-25T04:29:57.826173Z",
     "shell.execute_reply.started": "2024-09-25T04:29:57.388436Z"
    }
   },
   "outputs": [
    {
     "name": "stdout",
     "output_type": "stream",
     "text": [
      "Updated cells count: 4\n"
     ]
    }
   ],
   "source": [
    "# SAVE TO GOOGLE SHEET\n",
    "\n",
    "# Define the range and values to update\n",
    "range_name = '3-1!F6:I6'  \n",
    "\n",
    "values = [[\n",
    "    f\"{adjusted_precision * 100:.2f}\",\n",
    "    f\"{adjusted_recall * 100:.2f}\",\n",
    "    f\"{adjusted_accuracy * 100:.2f}\",\n",
    "    f\"{adjusted_f1 * 100:.2f}\"\n",
    "]]\n",
    "\n",
    "# Prepare the request body\n",
    "body = {\n",
    "    'values': values\n",
    "}\n",
    "\n",
    "# Call the Sheets API to update the values\n",
    "result = service.spreadsheets().values().update(\n",
    "    spreadsheetId=spreadsheet_id, \n",
    "    range=range_name,\n",
    "    valueInputOption='USER_ENTERED',\n",
    "    body=body\n",
    ").execute()\n",
    "\n",
    "print('Updated cells count:', result.get('updatedCells'))"
   ]
  },
  {
   "cell_type": "markdown",
   "id": "c8589d71-c489-4214-9c56-4a3a7ed69506",
   "metadata": {},
   "source": [
    "#### Save CM"
   ]
  },
  {
   "cell_type": "code",
   "execution_count": 50,
   "id": "bb07bbd3-2021-4e16-8b59-3908f095b7cf",
   "metadata": {
    "execution": {
     "iopub.execute_input": "2024-09-25T04:29:57.831029Z",
     "iopub.status.busy": "2024-09-25T04:29:57.829801Z",
     "iopub.status.idle": "2024-09-25T04:29:57.885246Z",
     "shell.execute_reply": "2024-09-25T04:29:57.884926Z",
     "shell.execute_reply.started": "2024-09-25T04:29:57.830982Z"
    }
   },
   "outputs": [
    {
     "data": {
      "text/html": [
       "\n",
       "<style>\n",
       "  #altair-viz-a7455c44d6694b29b6cb184aa408a0b3.vega-embed {\n",
       "    width: 100%;\n",
       "    display: flex;\n",
       "  }\n",
       "\n",
       "  #altair-viz-a7455c44d6694b29b6cb184aa408a0b3.vega-embed details,\n",
       "  #altair-viz-a7455c44d6694b29b6cb184aa408a0b3.vega-embed details summary {\n",
       "    position: relative;\n",
       "  }\n",
       "</style>\n",
       "<div id=\"altair-viz-a7455c44d6694b29b6cb184aa408a0b3\"></div>\n",
       "<script type=\"text/javascript\">\n",
       "  var VEGA_DEBUG = (typeof VEGA_DEBUG == \"undefined\") ? {} : VEGA_DEBUG;\n",
       "  (function(spec, embedOpt){\n",
       "    let outputDiv = document.currentScript.previousElementSibling;\n",
       "    if (outputDiv.id !== \"altair-viz-a7455c44d6694b29b6cb184aa408a0b3\") {\n",
       "      outputDiv = document.getElementById(\"altair-viz-a7455c44d6694b29b6cb184aa408a0b3\");\n",
       "    }\n",
       "    const paths = {\n",
       "      \"vega\": \"https://cdn.jsdelivr.net/npm/vega@5?noext\",\n",
       "      \"vega-lib\": \"https://cdn.jsdelivr.net/npm/vega-lib?noext\",\n",
       "      \"vega-lite\": \"https://cdn.jsdelivr.net/npm/vega-lite@5.17.0?noext\",\n",
       "      \"vega-embed\": \"https://cdn.jsdelivr.net/npm/vega-embed@6?noext\",\n",
       "    };\n",
       "\n",
       "    function maybeLoadScript(lib, version) {\n",
       "      var key = `${lib.replace(\"-\", \"\")}_version`;\n",
       "      return (VEGA_DEBUG[key] == version) ?\n",
       "        Promise.resolve(paths[lib]) :\n",
       "        new Promise(function(resolve, reject) {\n",
       "          var s = document.createElement('script');\n",
       "          document.getElementsByTagName(\"head\")[0].appendChild(s);\n",
       "          s.async = true;\n",
       "          s.onload = () => {\n",
       "            VEGA_DEBUG[key] = version;\n",
       "            return resolve(paths[lib]);\n",
       "          };\n",
       "          s.onerror = () => reject(`Error loading script: ${paths[lib]}`);\n",
       "          s.src = paths[lib];\n",
       "        });\n",
       "    }\n",
       "\n",
       "    function showError(err) {\n",
       "      outputDiv.innerHTML = `<div class=\"error\" style=\"color:red;\">${err}</div>`;\n",
       "      throw err;\n",
       "    }\n",
       "\n",
       "    function displayChart(vegaEmbed) {\n",
       "      vegaEmbed(outputDiv, spec, embedOpt)\n",
       "        .catch(err => showError(`Javascript Error: ${err.message}<br>This usually means there's a typo in your chart specification. See the javascript console for the full traceback.`));\n",
       "    }\n",
       "\n",
       "    if(typeof define === \"function\" && define.amd) {\n",
       "      requirejs.config({paths});\n",
       "      require([\"vega-embed\"], displayChart, err => showError(`Error loading script: ${err.message}`));\n",
       "    } else {\n",
       "      maybeLoadScript(\"vega\", \"5\")\n",
       "        .then(() => maybeLoadScript(\"vega-lite\", \"5.17.0\"))\n",
       "        .then(() => maybeLoadScript(\"vega-embed\", \"6\"))\n",
       "        .catch(showError)\n",
       "        .then(() => displayChart(vegaEmbed));\n",
       "    }\n",
       "  })({\"config\": {\"view\": {\"continuousWidth\": 300, \"continuousHeight\": 300}}, \"layer\": [{\"mark\": {\"type\": \"rect\"}, \"encoding\": {\"color\": {\"field\": \"Count\", \"type\": \"quantitative\"}, \"tooltip\": [{\"field\": \"True\", \"type\": \"ordinal\"}, {\"field\": \"Predicted\", \"type\": \"ordinal\"}, {\"field\": \"Count\", \"type\": \"quantitative\"}], \"x\": {\"field\": \"Predicted\", \"sort\": [\"Non Hatespeech\", \"Hate Speech\"], \"type\": \"ordinal\"}, \"y\": {\"field\": \"True\", \"sort\": [\"Non Hatespeech\", \"Hate Speech\"], \"type\": \"ordinal\"}}, \"title\": \"OH_Using_HS 3STK-1 DT\"}, {\"mark\": {\"type\": \"text\", \"align\": \"center\", \"baseline\": \"middle\", \"fontSize\": 12}, \"encoding\": {\"color\": {\"condition\": {\"test\": \"(datum.Count > 387.5)\", \"value\": \"white\"}, \"value\": \"black\"}, \"text\": {\"field\": \"Count\", \"type\": \"quantitative\"}, \"tooltip\": [{\"field\": \"True\", \"type\": \"ordinal\"}, {\"field\": \"Predicted\", \"type\": \"ordinal\"}, {\"field\": \"Count\", \"type\": \"quantitative\"}], \"x\": {\"field\": \"Predicted\", \"sort\": [\"Non Hatespeech\", \"Hate Speech\"], \"type\": \"ordinal\"}, \"y\": {\"field\": \"True\", \"sort\": [\"Non Hatespeech\", \"Hate Speech\"], \"type\": \"ordinal\"}}, \"title\": \"OH_Using_HS 3STK-1 DT\"}], \"data\": {\"name\": \"data-d89f7e958ff039a2afe8b7119060eb4d\"}, \"height\": 300, \"width\": 400, \"$schema\": \"https://vega.github.io/schema/vega-lite/v5.17.0.json\", \"datasets\": {\"data-d89f7e958ff039a2afe8b7119060eb4d\": [{\"True\": \"Non Hatespeech\", \"Predicted\": \"Non Hatespeech\", \"Count\": 649}, {\"True\": \"Hate Speech\", \"Predicted\": \"Non Hatespeech\", \"Count\": 85}, {\"True\": \"Non Hatespeech\", \"Predicted\": \"Hate Speech\", \"Count\": 338}, {\"True\": \"Hate Speech\", \"Predicted\": \"Hate Speech\", \"Count\": 775}]}}, {\"mode\": \"vega-lite\"});\n",
       "</script>"
      ],
      "text/plain": [
       "alt.LayerChart(...)"
      ]
     },
     "metadata": {},
     "output_type": "display_data"
    }
   ],
   "source": [
    "import altair as alt\n",
    "import altair_saver\n",
    "import pandas as pd\n",
    "from sklearn.metrics import confusion_matrix\n",
    "\n",
    "# Calculate the confusion matrix\n",
    "cm = confusion_matrix(y_val, adjusted_predictions)\n",
    "\n",
    "# Define class names\n",
    "class_names = ['Non Hatespeech', 'Hate Speech']\n",
    "\n",
    "# Convert confusion matrix to DataFrame\n",
    "cm_df = pd.DataFrame(cm, index=class_names, columns=class_names).reset_index().melt(id_vars='index')\n",
    "cm_df.columns = ['True', 'Predicted', 'Count']\n",
    "\n",
    "# Ensure the order of categories\n",
    "cm_df['True'] = pd.Categorical(cm_df['True'], categories=class_names, ordered=True)\n",
    "cm_df['Predicted'] = pd.Categorical(cm_df['Predicted'], categories=class_names, ordered=True)\n",
    "\n",
    "# Create the Altair plot\n",
    "heatmap = alt.Chart(cm_df).mark_rect().encode(\n",
    "    x=alt.X('Predicted:O', sort=class_names),\n",
    "    y=alt.Y('True:O', sort=class_names),\n",
    "    color='Count:Q',\n",
    "    tooltip=['True', 'Predicted', 'Count']\n",
    ").properties(\n",
    "    width=400,\n",
    "    height=300,\n",
    "    title='OH_Using_HS 3STK-1 DT'\n",
    ")\n",
    "\n",
    "# Add text labels\n",
    "text = heatmap.mark_text(\n",
    "    align='center',\n",
    "    baseline='middle',\n",
    "    fontSize=12\n",
    ").encode(\n",
    "    text='Count:Q',\n",
    "    color=alt.condition(\n",
    "        alt.datum.Count > cm.max() / 2,\n",
    "        alt.value('white'),\n",
    "        alt.value('black')\n",
    "    )\n",
    ")\n",
    "\n",
    "# Combine heatmap and text\n",
    "final_chart = heatmap + text\n",
    "\n",
    "# Display the plot\n",
    "final_chart.show()"
   ]
  },
  {
   "cell_type": "code",
   "execution_count": 51,
   "id": "5445e621-6288-4a87-9e75-bf4511b2d9a7",
   "metadata": {
    "execution": {
     "iopub.execute_input": "2024-09-25T04:29:57.885777Z",
     "iopub.status.busy": "2024-09-25T04:29:57.885687Z",
     "iopub.status.idle": "2024-09-25T04:29:57.926464Z",
     "shell.execute_reply": "2024-09-25T04:29:57.926198Z",
     "shell.execute_reply.started": "2024-09-25T04:29:57.885767Z"
    }
   },
   "outputs": [
    {
     "name": "stdout",
     "output_type": "stream",
     "text": [
      "Plot saved to Results/Ensemble Model Results/On Hatespeech dataset/OH Using HS Ensemble/Stacking/OH_Using_HS 3STK-1 DT.png\n"
     ]
    }
   ],
   "source": [
    "# Specify the folder path\n",
    "folder_path = os.path.expanduser('Results/Ensemble Model Results/On Hatespeech dataset/OH Using HS Ensemble/Stacking/')\n",
    "\n",
    "# Save the plot using vl-convert\n",
    "file_path_png = os.path.join(folder_path, 'OH_Using_HS 3STK-1 DT.png')\n",
    "final_chart.save(file_path_png)\n",
    "\n",
    "print(f\"Plot saved to {file_path_png}\")"
   ]
  },
  {
   "cell_type": "markdown",
   "id": "ad6165ef-d0ff-4230-9fdb-3c6a774d728f",
   "metadata": {},
   "source": [
    "### SVM"
   ]
  },
  {
   "cell_type": "code",
   "execution_count": 52,
   "id": "660f90df-3de4-41b1-9fc6-4285133ec0a8",
   "metadata": {
    "execution": {
     "iopub.execute_input": "2024-09-25T04:29:57.926872Z",
     "iopub.status.busy": "2024-09-25T04:29:57.926802Z",
     "iopub.status.idle": "2024-09-25T04:29:57.931981Z",
     "shell.execute_reply": "2024-09-25T04:29:57.931769Z",
     "shell.execute_reply.started": "2024-09-25T04:29:57.926866Z"
    }
   },
   "outputs": [
    {
     "name": "stdout",
     "output_type": "stream",
     "text": [
      "Evaluation on HS-Data C Dataset\n",
      "Precision: 0.7400442477876106\n",
      "Recall: 0.7779069767441861\n",
      "Accuracy: 0.7693557119653492\n",
      "F1 Score: 0.7585034013605442\n",
      "Confusion Matrix:\n",
      "[[752 235]\n",
      " [191 669]]\n"
     ]
    }
   ],
   "source": [
    "# Evaluate the predictions\n",
    "precision = precision_score(y_val, val_svm_predictions, average='binary')\n",
    "recall = recall_score(y_val, val_svm_predictions, average='binary')\n",
    "accuracy = accuracy_score(y_val, val_svm_predictions)\n",
    "f1 = f1_score(y_val, val_svm_predictions, average='binary')\n",
    "conf_matrix = confusion_matrix(y_val, val_svm_predictions)\n",
    "\n",
    "print(\"Evaluation on HS-Data C Dataset\")\n",
    "print(f\"Precision: {precision}\")\n",
    "print(f\"Recall: {recall}\")\n",
    "print(f\"Accuracy: {accuracy}\")\n",
    "print(f\"F1 Score: {f1}\")\n",
    "print(\"Confusion Matrix:\")\n",
    "print(conf_matrix)"
   ]
  },
  {
   "cell_type": "code",
   "execution_count": 53,
   "id": "6ac0bd9a-587a-4f09-b56e-0b01ac249b1c",
   "metadata": {
    "execution": {
     "iopub.execute_input": "2024-09-25T04:29:57.932418Z",
     "iopub.status.busy": "2024-09-25T04:29:57.932352Z",
     "iopub.status.idle": "2024-09-25T04:29:58.026755Z",
     "shell.execute_reply": "2024-09-25T04:29:58.026510Z",
     "shell.execute_reply.started": "2024-09-25T04:29:57.932412Z"
    }
   },
   "outputs": [
    {
     "data": {
      "image/png": "[encoded data removed]",
      "text/plain": [
       "<Figure size 640x480 with 1 Axes>"
      ]
     },
     "metadata": {},
     "output_type": "display_data"
    }
   ],
   "source": [
    "# Get probability scores for threshold optimization\n",
    "svm_prob_scores = svm_meta_classifier.predict_proba(val_meta_features)[:, 1]\n",
    "\n",
    "import matplotlib.pyplot as plt\n",
    "\n",
    "# Plot the distribution of predicted probabilities\n",
    "plt.hist(lr_prob_scores, bins=50, alpha=0.75)\n",
    "plt.title('Distribution of Predicted Probabilities (LR)')\n",
    "plt.xlabel('Probability of Positive Class')\n",
    "plt.ylabel('Frequency')\n",
    "plt.show()\n"
   ]
  },
  {
   "cell_type": "code",
   "execution_count": 54,
   "id": "ad2fba87-04de-46b7-bc1d-1fbf7d1bb263",
   "metadata": {
    "execution": {
     "iopub.execute_input": "2024-09-25T04:29:58.027374Z",
     "iopub.status.busy": "2024-09-25T04:29:58.027206Z",
     "iopub.status.idle": "2024-09-25T04:29:58.033009Z",
     "shell.execute_reply": "2024-09-25T04:29:58.032805Z",
     "shell.execute_reply.started": "2024-09-25T04:29:58.027366Z"
    }
   },
   "outputs": [
    {
     "name": "stdout",
     "output_type": "stream",
     "text": [
      "Adjusted threshold: 0.2\n",
      "Optimized SVM\n",
      "Precision: 0.7400442477876106\n",
      "Recall: 0.7779069767441861\n",
      "Accuracy: 0.7693557119653492\n",
      "F1 Score: 0.7585034013605442\n",
      "Confusion Matrix:\n",
      "[[752 235]\n",
      " [191 669]]\n"
     ]
    }
   ],
   "source": [
    "adjusted_predictions = (svm_prob_scores >= svm_thresh).astype(int)\n",
    "\n",
    "# Evaluate with the new threshold\n",
    "adjusted_precision = precision_score(y_val, adjusted_predictions, average='binary')\n",
    "adjusted_recall = recall_score(y_val, adjusted_predictions, average='binary')\n",
    "adjusted_accuracy = accuracy_score(y_val, adjusted_predictions)\n",
    "adjusted_f1 = f1_score(y_val, adjusted_predictions, average='binary')\n",
    "adjusted_conf_matrix = confusion_matrix(y_val, adjusted_predictions)\n",
    "\n",
    "print(f\"Adjusted threshold: {svm_thresh}\")\n",
    "print(\"Optimized SVM\")\n",
    "print(f\"Precision: {adjusted_precision}\")\n",
    "print(f\"Recall: {adjusted_recall}\")\n",
    "print(f\"Accuracy: {adjusted_accuracy}\")\n",
    "print(f\"F1 Score: {adjusted_f1}\")\n",
    "print(\"Confusion Matrix:\")\n",
    "print(adjusted_conf_matrix)"
   ]
  },
  {
   "cell_type": "code",
   "execution_count": 55,
   "id": "7644868d-4140-415e-be20-4db4bfbf21b7",
   "metadata": {
    "execution": {
     "iopub.execute_input": "2024-09-25T04:29:58.033490Z",
     "iopub.status.busy": "2024-09-25T04:29:58.033389Z",
     "iopub.status.idle": "2024-09-25T04:29:58.571568Z",
     "shell.execute_reply": "2024-09-25T04:29:58.569519Z",
     "shell.execute_reply.started": "2024-09-25T04:29:58.033484Z"
    }
   },
   "outputs": [
    {
     "name": "stdout",
     "output_type": "stream",
     "text": [
      "Updated cells count: 4\n"
     ]
    }
   ],
   "source": [
    "# SAVE TO GOOGLE SHEET\n",
    "\n",
    "# Define the range and values to update\n",
    "range_name = '3-1!F7:I7'  \n",
    "\n",
    "values = [[\n",
    "    f\"{adjusted_precision * 100:.2f}\",\n",
    "    f\"{adjusted_recall * 100:.2f}\",\n",
    "    f\"{adjusted_accuracy * 100:.2f}\",\n",
    "    f\"{adjusted_f1 * 100:.2f}\"\n",
    "]]\n",
    "\n",
    "# Prepare the request body\n",
    "body = {\n",
    "    'values': values\n",
    "}\n",
    "\n",
    "# Call the Sheets API to update the values\n",
    "result = service.spreadsheets().values().update(\n",
    "    spreadsheetId=spreadsheet_id, \n",
    "    range=range_name,\n",
    "    valueInputOption='USER_ENTERED',\n",
    "    body=body\n",
    ").execute()\n",
    "\n",
    "print('Updated cells count:', result.get('updatedCells'))"
   ]
  },
  {
   "cell_type": "markdown",
   "id": "682be1a4-7bf8-4e44-9da2-2b7f48eac91c",
   "metadata": {},
   "source": [
    "#### Save CM"
   ]
  },
  {
   "cell_type": "code",
   "execution_count": 56,
   "id": "939272d5-856b-49da-99a2-4a25d818d2ea",
   "metadata": {
    "execution": {
     "iopub.execute_input": "2024-09-25T04:29:58.574488Z",
     "iopub.status.busy": "2024-09-25T04:29:58.573673Z",
     "iopub.status.idle": "2024-09-25T04:29:58.628163Z",
     "shell.execute_reply": "2024-09-25T04:29:58.627820Z",
     "shell.execute_reply.started": "2024-09-25T04:29:58.574449Z"
    }
   },
   "outputs": [
    {
     "data": {
      "text/html": [
       "\n",
       "<style>\n",
       "  #altair-viz-bdb383e7a445408b8c71957c6b12e642.vega-embed {\n",
       "    width: 100%;\n",
       "    display: flex;\n",
       "  }\n",
       "\n",
       "  #altair-viz-bdb383e7a445408b8c71957c6b12e642.vega-embed details,\n",
       "  #altair-viz-bdb383e7a445408b8c71957c6b12e642.vega-embed details summary {\n",
       "    position: relative;\n",
       "  }\n",
       "</style>\n",
       "<div id=\"altair-viz-bdb383e7a445408b8c71957c6b12e642\"></div>\n",
       "<script type=\"text/javascript\">\n",
       "  var VEGA_DEBUG = (typeof VEGA_DEBUG == \"undefined\") ? {} : VEGA_DEBUG;\n",
       "  (function(spec, embedOpt){\n",
       "    let outputDiv = document.currentScript.previousElementSibling;\n",
       "    if (outputDiv.id !== \"altair-viz-bdb383e7a445408b8c71957c6b12e642\") {\n",
       "      outputDiv = document.getElementById(\"altair-viz-bdb383e7a445408b8c71957c6b12e642\");\n",
       "    }\n",
       "    const paths = {\n",
       "      \"vega\": \"https://cdn.jsdelivr.net/npm/vega@5?noext\",\n",
       "      \"vega-lib\": \"https://cdn.jsdelivr.net/npm/vega-lib?noext\",\n",
       "      \"vega-lite\": \"https://cdn.jsdelivr.net/npm/vega-lite@5.17.0?noext\",\n",
       "      \"vega-embed\": \"https://cdn.jsdelivr.net/npm/vega-embed@6?noext\",\n",
       "    };\n",
       "\n",
       "    function maybeLoadScript(lib, version) {\n",
       "      var key = `${lib.replace(\"-\", \"\")}_version`;\n",
       "      return (VEGA_DEBUG[key] == version) ?\n",
       "        Promise.resolve(paths[lib]) :\n",
       "        new Promise(function(resolve, reject) {\n",
       "          var s = document.createElement('script');\n",
       "          document.getElementsByTagName(\"head\")[0].appendChild(s);\n",
       "          s.async = true;\n",
       "          s.onload = () => {\n",
       "            VEGA_DEBUG[key] = version;\n",
       "            return resolve(paths[lib]);\n",
       "          };\n",
       "          s.onerror = () => reject(`Error loading script: ${paths[lib]}`);\n",
       "          s.src = paths[lib];\n",
       "        });\n",
       "    }\n",
       "\n",
       "    function showError(err) {\n",
       "      outputDiv.innerHTML = `<div class=\"error\" style=\"color:red;\">${err}</div>`;\n",
       "      throw err;\n",
       "    }\n",
       "\n",
       "    function displayChart(vegaEmbed) {\n",
       "      vegaEmbed(outputDiv, spec, embedOpt)\n",
       "        .catch(err => showError(`Javascript Error: ${err.message}<br>This usually means there's a typo in your chart specification. See the javascript console for the full traceback.`));\n",
       "    }\n",
       "\n",
       "    if(typeof define === \"function\" && define.amd) {\n",
       "      requirejs.config({paths});\n",
       "      require([\"vega-embed\"], displayChart, err => showError(`Error loading script: ${err.message}`));\n",
       "    } else {\n",
       "      maybeLoadScript(\"vega\", \"5\")\n",
       "        .then(() => maybeLoadScript(\"vega-lite\", \"5.17.0\"))\n",
       "        .then(() => maybeLoadScript(\"vega-embed\", \"6\"))\n",
       "        .catch(showError)\n",
       "        .then(() => displayChart(vegaEmbed));\n",
       "    }\n",
       "  })({\"config\": {\"view\": {\"continuousWidth\": 300, \"continuousHeight\": 300}}, \"layer\": [{\"mark\": {\"type\": \"rect\"}, \"encoding\": {\"color\": {\"field\": \"Count\", \"type\": \"quantitative\"}, \"tooltip\": [{\"field\": \"True\", \"type\": \"ordinal\"}, {\"field\": \"Predicted\", \"type\": \"ordinal\"}, {\"field\": \"Count\", \"type\": \"quantitative\"}], \"x\": {\"field\": \"Predicted\", \"sort\": [\"Non Hatespeech\", \"Hate Speech\"], \"type\": \"ordinal\"}, \"y\": {\"field\": \"True\", \"sort\": [\"Non Hatespeech\", \"Hate Speech\"], \"type\": \"ordinal\"}}, \"title\": \"OH_Using_HS 3STK-1 LR\"}, {\"mark\": {\"type\": \"text\", \"align\": \"center\", \"baseline\": \"middle\", \"fontSize\": 12}, \"encoding\": {\"color\": {\"condition\": {\"test\": \"(datum.Count > 376.0)\", \"value\": \"white\"}, \"value\": \"black\"}, \"text\": {\"field\": \"Count\", \"type\": \"quantitative\"}, \"tooltip\": [{\"field\": \"True\", \"type\": \"ordinal\"}, {\"field\": \"Predicted\", \"type\": \"ordinal\"}, {\"field\": \"Count\", \"type\": \"quantitative\"}], \"x\": {\"field\": \"Predicted\", \"sort\": [\"Non Hatespeech\", \"Hate Speech\"], \"type\": \"ordinal\"}, \"y\": {\"field\": \"True\", \"sort\": [\"Non Hatespeech\", \"Hate Speech\"], \"type\": \"ordinal\"}}, \"title\": \"OH_Using_HS 3STK-1 LR\"}], \"data\": {\"name\": \"data-28e0a5f7fe56a5f9d8cbd79bdf059dc2\"}, \"height\": 300, \"width\": 400, \"$schema\": \"https://vega.github.io/schema/vega-lite/v5.17.0.json\", \"datasets\": {\"data-28e0a5f7fe56a5f9d8cbd79bdf059dc2\": [{\"True\": \"Non Hatespeech\", \"Predicted\": \"Non Hatespeech\", \"Count\": 752}, {\"True\": \"Hate Speech\", \"Predicted\": \"Non Hatespeech\", \"Count\": 191}, {\"True\": \"Non Hatespeech\", \"Predicted\": \"Hate Speech\", \"Count\": 235}, {\"True\": \"Hate Speech\", \"Predicted\": \"Hate Speech\", \"Count\": 669}]}}, {\"mode\": \"vega-lite\"});\n",
       "</script>"
      ],
      "text/plain": [
       "alt.LayerChart(...)"
      ]
     },
     "metadata": {},
     "output_type": "display_data"
    }
   ],
   "source": [
    "import altair as alt\n",
    "import altair_saver\n",
    "import pandas as pd\n",
    "from sklearn.metrics import confusion_matrix\n",
    "\n",
    "# Calculate the confusion matrix\n",
    "cm = confusion_matrix(y_val, adjusted_predictions)\n",
    "\n",
    "# Define class names\n",
    "class_names = ['Non Hatespeech', 'Hate Speech']\n",
    "\n",
    "# Convert confusion matrix to DataFrame\n",
    "cm_df = pd.DataFrame(cm, index=class_names, columns=class_names).reset_index().melt(id_vars='index')\n",
    "cm_df.columns = ['True', 'Predicted', 'Count']\n",
    "\n",
    "# Ensure the order of categories\n",
    "cm_df['True'] = pd.Categorical(cm_df['True'], categories=class_names, ordered=True)\n",
    "cm_df['Predicted'] = pd.Categorical(cm_df['Predicted'], categories=class_names, ordered=True)\n",
    "\n",
    "# Create the Altair plot\n",
    "heatmap = alt.Chart(cm_df).mark_rect().encode(\n",
    "    x=alt.X('Predicted:O', sort=class_names),\n",
    "    y=alt.Y('True:O', sort=class_names),\n",
    "    color='Count:Q',\n",
    "    tooltip=['True', 'Predicted', 'Count']\n",
    ").properties(\n",
    "    width=400,\n",
    "    height=300,\n",
    "    title='OH_Using_HS 3STK-1 LR'\n",
    ")\n",
    "\n",
    "# Add text labels\n",
    "text = heatmap.mark_text(\n",
    "    align='center',\n",
    "    baseline='middle',\n",
    "    fontSize=12\n",
    ").encode(\n",
    "    text='Count:Q',\n",
    "    color=alt.condition(\n",
    "        alt.datum.Count > cm.max() / 2,\n",
    "        alt.value('white'),\n",
    "        alt.value('black')\n",
    "    )\n",
    ")\n",
    "\n",
    "# Combine heatmap and text\n",
    "final_chart = heatmap + text\n",
    "\n",
    "# Display the plot\n",
    "final_chart.show()"
   ]
  },
  {
   "cell_type": "code",
   "execution_count": 57,
   "id": "4ab1dbec-94d8-4f9c-b5e8-843b853a71cb",
   "metadata": {
    "execution": {
     "iopub.execute_input": "2024-09-25T04:29:58.628802Z",
     "iopub.status.busy": "2024-09-25T04:29:58.628704Z",
     "iopub.status.idle": "2024-09-25T04:29:58.669433Z",
     "shell.execute_reply": "2024-09-25T04:29:58.669169Z",
     "shell.execute_reply.started": "2024-09-25T04:29:58.628793Z"
    }
   },
   "outputs": [
    {
     "name": "stdout",
     "output_type": "stream",
     "text": [
      "Plot saved to Results/Ensemble Model Results/On Hatespeech dataset/OH Using HS Ensemble/Stacking/OH_Using_HS 3STK-1 SVM.png\n"
     ]
    }
   ],
   "source": [
    "# Specify the folder path\n",
    "folder_path = os.path.expanduser('Results/Ensemble Model Results/On Hatespeech dataset/OH Using HS Ensemble/Stacking/')\n",
    "\n",
    "# Save the plot using vl-convert\n",
    "file_path_png = os.path.join(folder_path, 'OH_Using_HS 3STK-1 SVM.png')\n",
    "final_chart.save(file_path_png)\n",
    "\n",
    "print(f\"Plot saved to {file_path_png}\")"
   ]
  },
  {
   "cell_type": "code",
   "execution_count": null,
   "id": "a298f212-36ec-4e75-ad74-d7b272d094a1",
   "metadata": {},
   "outputs": [],
   "source": []
  },
  {
   "cell_type": "code",
   "execution_count": null,
   "id": "80391c9f-64d7-4e98-b9f0-6ee41cb035f4",
   "metadata": {},
   "outputs": [],
   "source": []
  }
 ],
 "metadata": {
  "kernelspec": {
   "display_name": "Python 3 (ipykernel)",
   "language": "python",
   "name": "python3"
  },
  "language_info": {
   "codemirror_mode": {
    "name": "ipython",
    "version": 3
   },
   "file_extension": ".py",
   "mimetype": "text/x-python",
   "name": "python",
   "nbconvert_exporter": "python",
   "pygments_lexer": "ipython3",
   "version": "3.10.14"
  }
 },
 "nbformat": 4,
 "nbformat_minor": 5
}
