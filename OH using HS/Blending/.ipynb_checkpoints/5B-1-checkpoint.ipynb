{
 "cells": [
  {
   "cell_type": "markdown",
   "id": "1dc06b17-fcee-4505-bd74-d98376ce3ed9",
   "metadata": {},
   "source": [
    "# Train Blending (BERT cased, DistilBERT uncased, DeBERTa)"
   ]
  },
  {
   "cell_type": "markdown",
   "id": "6ed25c7a-5ad2-4d0f-855d-82f4aa671e0e",
   "metadata": {},
   "source": [
    "Best F1 score BERT model on HS_C dataset are used"
   ]
  },
  {
   "cell_type": "code",
   "execution_count": 1,
   "id": "d841c17f-f52e-4124-b37b-c3b3fb714be4",
   "metadata": {
    "execution": {
     "iopub.execute_input": "2024-08-20T09:34:21.118282Z",
     "iopub.status.busy": "2024-08-20T09:34:21.118219Z",
     "iopub.status.idle": "2024-08-20T09:34:21.230650Z",
     "shell.execute_reply": "2024-08-20T09:34:21.230386Z",
     "shell.execute_reply.started": "2024-08-20T09:34:21.118273Z"
    }
   },
   "outputs": [],
   "source": [
    "# This automates data tabulation onto google sheets \n",
    "\n",
    "import gspread\n",
    "from oauth2client.service_account import ServiceAccountCredentials\n",
    "from googleapiclient.discovery import build\n",
    "\n",
    "import os\n",
    "\n",
    "# new directory path\n",
    "new_directory = '/Users/levan/ATENEO MASTERAL/Thesis'\n",
    "\n",
    "# Change the current working directory\n",
    "os.chdir(new_directory)\n",
    "\n",
    "# Use creds to create a client to interact with the Google Drive API\n",
    "scope = ['https://spreadsheets.google.com/feeds','https://www.googleapis.com/auth/drive']\n",
    "creds = ServiceAccountCredentials.from_json_keyfile_name('thesis-432315-12daec8d1ff6.json', scope)\n",
    "\n",
    "service = build('sheets', 'v4', credentials=creds)\n",
    "\n",
    "client = gspread.authorize(creds)\n",
    "\n",
    "spreadsheet_id = '1ReMgKOtkETAbtnnqkJy0eo4M2QfIq9fxtV-5ysZSdJ8' "
   ]
  },
  {
   "cell_type": "markdown",
   "id": "63d70bdb-0504-41ef-913d-e4b7f778f561",
   "metadata": {},
   "source": [
    "## Load Dataset"
   ]
  },
  {
   "cell_type": "code",
   "execution_count": 2,
   "id": "c7b193db-3f30-4e5f-a38b-c254bf1e1976",
   "metadata": {
    "execution": {
     "iopub.execute_input": "2024-08-20T09:34:21.231869Z",
     "iopub.status.busy": "2024-08-20T09:34:21.231802Z",
     "iopub.status.idle": "2024-08-20T09:34:22.888307Z",
     "shell.execute_reply": "2024-08-20T09:34:22.888009Z",
     "shell.execute_reply.started": "2024-08-20T09:34:21.231863Z"
    }
   },
   "outputs": [],
   "source": [
    "import pandas as pd\n",
    "import numpy as np\n",
    "from sklearn.model_selection import train_test_split\n",
    "from transformers import BertTokenizer, BertForSequenceClassification, AutoConfig\n",
    "from transformers import AutoTokenizer, AutoModelForSequenceClassification\n",
    "from torch.utils.data import DataLoader, TensorDataset\n",
    "import torch\n",
    "import torch.nn.functional as F\n",
    "\n",
    "from sklearn.linear_model import LogisticRegression\n",
    "from sklearn.tree import DecisionTreeClassifier\n",
    "from sklearn.naive_bayes import BernoulliNB\n",
    "from sklearn.naive_bayes import GaussianNB\n",
    "from sklearn.svm import LinearSVC\n",
    "from sklearn.svm import SVC\n",
    "\n",
    "from sklearn.metrics import accuracy_score, precision_score, recall_score, f1_score, confusion_matrix\n",
    "\n",
    "\n",
    "import os\n",
    "\n",
    "# new directory path\n",
    "new_directory = '/Users/levan/ATENEO MASTERAL/Thesis/Development'\n",
    "\n",
    "# Change the current working directory\n",
    "os.chdir(new_directory)\n",
    "\n",
    "# Adjust file paths to local system\n",
    "file_path = 'Corpus/data_b.csv'\n",
    "df = pd.read_csv(file_path)\n",
    "\n",
    "# Split the data\n",
    "train_df, test_df = train_test_split(df, test_size=0.3, random_state=42)\n",
    "train_df, holdout_df = train_test_split(train_df, test_size=0.3, random_state=42)"
   ]
  },
  {
   "cell_type": "markdown",
   "id": "a307e67b-00c3-47aa-8f83-34bc62c93f83",
   "metadata": {
    "execution": {
     "iopub.execute_input": "2024-04-11T10:08:58.783500Z",
     "iopub.status.busy": "2024-04-11T10:08:58.782872Z",
     "iopub.status.idle": "2024-04-11T10:08:58.788089Z",
     "shell.execute_reply": "2024-04-11T10:08:58.787147Z",
     "shell.execute_reply.started": "2024-04-11T10:08:58.783465Z"
    }
   },
   "source": [
    "## Load Models and Tokenizers"
   ]
  },
  {
   "cell_type": "code",
   "execution_count": 3,
   "id": "1e666f7e-9db0-4666-a112-2af127307162",
   "metadata": {
    "execution": {
     "iopub.execute_input": "2024-08-20T09:34:22.888779Z",
     "iopub.status.busy": "2024-08-20T09:34:22.888698Z",
     "iopub.status.idle": "2024-08-20T09:34:26.771967Z",
     "shell.execute_reply": "2024-08-20T09:34:26.771560Z",
     "shell.execute_reply.started": "2024-08-20T09:34:22.888772Z"
    }
   },
   "outputs": [],
   "source": [
    "def load_model_and_tokenizer(model_path, tokenizer_path, base_model):\n",
    "    # Load the tokenizer from the local directory\n",
    "    tokenizer = AutoTokenizer.from_pretrained(tokenizer_path)\n",
    "    \n",
    "    # Load the configuration from the base model\n",
    "    config = AutoConfig.from_pretrained(base_model, num_labels=2)\n",
    "\n",
    "    # Initialize the model with the configuration\n",
    "    model = AutoModelForSequenceClassification.from_pretrained(model_path, config=config)\n",
    "\n",
    "    # Ensure the model is in evaluation mode\n",
    "    model.eval()\n",
    "    \n",
    "    return model, tokenizer\n",
    "\n",
    "model_info = {\n",
    "    \n",
    "    'BERT cased': {\n",
    "        'model_path': 'BERT models/hs_bert-base-cased-finetuned',\n",
    "        'tokenizer_path': 'BERT models/hs_bert-base-cased-finetuned',\n",
    "        'base_model': 'google-bert/bert-base-cased'\n",
    "    },\n",
    "\n",
    "    'DistilBERT uncased': {\n",
    "        'model_path': 'BERT models/hs_distilbert-base-uncased-finetuned',\n",
    "        'tokenizer_path': 'BERT models/hs_distilbert-base-uncased-finetuned',\n",
    "        'base_model': 'distilbert/distilbert-base-uncased'\n",
    "    },\n",
    "\n",
    "    'DeBERTa': {\n",
    "        'model_path': 'BERT models/hs_DeBERTa-finetuned',\n",
    "        'tokenizer_path': 'BERT models/hs_DeBERTa-finetuned',\n",
    "        'base_model': 'microsoft/deberta-v3-base'\n",
    "    },\n",
    "    \n",
    "    'BERT uncased': {\n",
    "        'model_path': 'BERT models/hs_bert-base-uncased-finetuned',\n",
    "        'tokenizer_path': 'BERT models/hs_bert-base-uncased-finetuned',\n",
    "        'base_model': 'google-bert/bert-base-uncased'\n",
    "    },\n",
    "\n",
    "    'HateBERT': {\n",
    "        'model_path': 'BERT models/hs_HateBERT-finetuned',\n",
    "        'tokenizer_path': 'BERT models/hs_HateBERT-finetuned',\n",
    "        'base_model': 'GroNLP/hateBERT'\n",
    "    },\n",
    "\n",
    "}\n",
    "\n",
    "models_and_tokenizers = {name: load_model_and_tokenizer(info['model_path'], \n",
    "                                                        info['tokenizer_path'], \n",
    "                                                        info['base_model']) \n",
    "                         for name, info in model_info.items()}"
   ]
  },
  {
   "cell_type": "markdown",
   "id": "a1a9b906-a837-4de8-b8a2-05aa44074c5c",
   "metadata": {},
   "source": [
    "## Apply Tokenization"
   ]
  },
  {
   "cell_type": "code",
   "execution_count": 4,
   "id": "be4981ce-3268-449d-9cb4-6ba780177756",
   "metadata": {
    "execution": {
     "iopub.execute_input": "2024-08-20T09:34:26.772436Z",
     "iopub.status.busy": "2024-08-20T09:34:26.772349Z",
     "iopub.status.idle": "2024-08-20T09:34:26.774480Z",
     "shell.execute_reply": "2024-08-20T09:34:26.774230Z",
     "shell.execute_reply.started": "2024-08-20T09:34:26.772427Z"
    }
   },
   "outputs": [],
   "source": [
    "def texts_to_dataloader(texts, tokenizer, batch_size=32):\n",
    "    device = torch.device(\"mps\" if torch.backends.mps.is_available() else \"cpu\")\n",
    "    encodings = tokenizer(texts, truncation=True, padding=True, max_length=512, return_tensors=\"pt\")\n",
    "    \n",
    "    dataset = TensorDataset(encodings['input_ids'], encodings['attention_mask'])\n",
    "    dataloader = DataLoader(dataset, batch_size=batch_size)\n",
    "    return dataloader"
   ]
  },
  {
   "cell_type": "markdown",
   "id": "8d574483-f790-48ba-a7d0-07cc8f2973d4",
   "metadata": {},
   "source": [
    "## Perform Blending"
   ]
  },
  {
   "cell_type": "code",
   "execution_count": 5,
   "id": "5beaf28b-e640-41ad-9ce1-388389309ae9",
   "metadata": {
    "execution": {
     "iopub.execute_input": "2024-08-20T09:34:26.775904Z",
     "iopub.status.busy": "2024-08-20T09:34:26.775836Z",
     "iopub.status.idle": "2024-08-20T09:34:26.778536Z",
     "shell.execute_reply": "2024-08-20T09:34:26.778337Z",
     "shell.execute_reply.started": "2024-08-20T09:34:26.775898Z"
    }
   },
   "outputs": [],
   "source": [
    "%load_ext memory_profiler"
   ]
  },
  {
   "cell_type": "code",
   "execution_count": 6,
   "id": "89d13637-7546-4338-8e57-cde7377a7c97",
   "metadata": {
    "execution": {
     "iopub.execute_input": "2024-08-20T09:34:26.778893Z",
     "iopub.status.busy": "2024-08-20T09:34:26.778826Z",
     "iopub.status.idle": "2024-08-20T09:35:19.010443Z",
     "shell.execute_reply": "2024-08-20T09:35:19.010120Z",
     "shell.execute_reply.started": "2024-08-20T09:34:26.778886Z"
    }
   },
   "outputs": [
    {
     "name": "stdout",
     "output_type": "stream",
     "text": [
      "peak memory: 2935.12 MiB, increment: 160.45 MiB\n"
     ]
    }
   ],
   "source": [
    "%%memit\n",
    "\n",
    "def get_meta_features(model, tokenizer, df, device):\n",
    "    texts = df['text'].tolist()\n",
    "    dataloader = texts_to_dataloader(texts, tokenizer, batch_size=32)\n",
    "    \n",
    "    model.to(device)\n",
    "    model.eval()\n",
    "    meta_features = []\n",
    "    with torch.no_grad():\n",
    "        for input_ids, attention_mask in dataloader:\n",
    "            input_ids, attention_mask = input_ids.to(device), attention_mask.to(device)\n",
    "            outputs = model(input_ids=input_ids, attention_mask=attention_mask)\n",
    "            probs = F.softmax(outputs.logits, dim=1)\n",
    "            meta_features.append(probs.cpu().numpy())\n",
    "    return np.concatenate(meta_features)\n",
    "\n",
    "device = torch.device(\"mps\" if torch.backends.mps.is_available() else \"cpu\")\n",
    "\n",
    "# Generate meta-features for holdout and test sets\n",
    "holdout_meta_features = [get_meta_features(model, tokenizer, holdout_df, device) for model, tokenizer in models_and_tokenizers.values()]\n",
    "test_meta_features = [get_meta_features(model, tokenizer, test_df, device) for model, tokenizer in models_and_tokenizers.values()]\n",
    "\n",
    "# Stack meta-features\n",
    "holdout_meta_features = np.hstack(holdout_meta_features)\n",
    "test_meta_features = np.hstack(test_meta_features)"
   ]
  },
  {
   "cell_type": "code",
   "execution_count": 7,
   "id": "cdae5044-793a-494c-b9f9-0c90839f854b",
   "metadata": {
    "execution": {
     "iopub.execute_input": "2024-08-20T09:35:19.010970Z",
     "iopub.status.busy": "2024-08-20T09:35:19.010889Z",
     "iopub.status.idle": "2024-08-20T09:35:49.280607Z",
     "shell.execute_reply": "2024-08-20T09:35:49.280306Z",
     "shell.execute_reply.started": "2024-08-20T09:35:19.010963Z"
    }
   },
   "outputs": [
    {
     "name": "stdout",
     "output_type": "stream",
     "text": [
      "Checking base model predictions for BERT cased...\n",
      "Predictions distribution: [0.5269184  0.47308192]\n",
      "Checking base model predictions for DistilBERT uncased...\n",
      "Predictions distribution: [0.48721948 0.51278055]\n",
      "Checking base model predictions for DeBERTa...\n",
      "Predictions distribution: [0.48753217 0.512468  ]\n",
      "Checking base model predictions for BERT uncased...\n",
      "Predictions distribution: [0.5407214 0.4592784]\n",
      "Checking base model predictions for HateBERT...\n",
      "Predictions distribution: [0.48031706 0.51968306]\n"
     ]
    }
   ],
   "source": [
    "# Check the base model predictions\n",
    "for name, (model, tokenizer) in models_and_tokenizers.items():\n",
    "    print(f\"Checking base model predictions for {name}...\")\n",
    "    base_model_preds = get_meta_features(model, tokenizer, test_df, device)\n",
    "    print(\"Predictions distribution:\", np.mean(base_model_preds, axis=0))"
   ]
  },
  {
   "cell_type": "markdown",
   "id": "3f4add97-1099-4447-aa88-e4cfbff99e10",
   "metadata": {},
   "source": [
    "### Train LR"
   ]
  },
  {
   "cell_type": "code",
   "execution_count": 8,
   "id": "66cb131a-a14d-4bf5-9508-59951ea5deb1",
   "metadata": {
    "execution": {
     "iopub.execute_input": "2024-08-20T09:35:49.281185Z",
     "iopub.status.busy": "2024-08-20T09:35:49.281099Z",
     "iopub.status.idle": "2024-08-20T09:35:50.250441Z",
     "shell.execute_reply": "2024-08-20T09:35:50.229819Z",
     "shell.execute_reply.started": "2024-08-20T09:35:49.281178Z"
    }
   },
   "outputs": [
    {
     "name": "stderr",
     "output_type": "stream",
     "text": [
      "huggingface/tokenizers: The current process just got forked, after parallelism has already been used. Disabling parallelism to avoid deadlocks...\n",
      "To disable this warning, you can either:\n",
      "\t- Avoid using `tokenizers` before the fork if possible\n",
      "\t- Explicitly set the environment variable TOKENIZERS_PARALLELISM=(true | false)\n",
      "huggingface/tokenizers: The current process just got forked, after parallelism has already been used. Disabling parallelism to avoid deadlocks...\n",
      "To disable this warning, you can either:\n",
      "\t- Avoid using `tokenizers` before the fork if possible\n",
      "\t- Explicitly set the environment variable TOKENIZERS_PARALLELISM=(true | false)\n"
     ]
    },
    {
     "name": "stdout",
     "output_type": "stream",
     "text": [
      "peak memory: 2071.84 MiB, increment: 0.83 MiB\n"
     ]
    },
    {
     "name": "stderr",
     "output_type": "stream",
     "text": [
      "huggingface/tokenizers: The current process just got forked, after parallelism has already been used. Disabling parallelism to avoid deadlocks...\n",
      "To disable this warning, you can either:\n",
      "\t- Avoid using `tokenizers` before the fork if possible\n",
      "\t- Explicitly set the environment variable TOKENIZERS_PARALLELISM=(true | false)\n"
     ]
    }
   ],
   "source": [
    "%%memit\n",
    "# Train the LR meta-classifier\n",
    "lr_meta_classifier = LogisticRegression()\n",
    "lr_meta_classifier.fit(holdout_meta_features, holdout_df['label'].values)\n",
    "\n",
    "lr_final_predictions = lr_meta_classifier.predict(test_meta_features)"
   ]
  },
  {
   "cell_type": "markdown",
   "id": "4aa369d0-24ed-448a-be71-a88956188cb5",
   "metadata": {},
   "source": [
    "### Train NB"
   ]
  },
  {
   "cell_type": "code",
   "execution_count": 9,
   "id": "3ba1d864-f4eb-426a-92fb-5a88061d87c5",
   "metadata": {
    "execution": {
     "iopub.execute_input": "2024-08-20T09:35:50.274703Z",
     "iopub.status.busy": "2024-08-20T09:35:50.273683Z",
     "iopub.status.idle": "2024-08-20T09:35:51.154837Z",
     "shell.execute_reply": "2024-08-20T09:35:51.154335Z",
     "shell.execute_reply.started": "2024-08-20T09:35:50.274670Z"
    }
   },
   "outputs": [
    {
     "name": "stderr",
     "output_type": "stream",
     "text": [
      "huggingface/tokenizers: The current process just got forked, after parallelism has already been used. Disabling parallelism to avoid deadlocks...\n",
      "To disable this warning, you can either:\n",
      "\t- Avoid using `tokenizers` before the fork if possible\n",
      "\t- Explicitly set the environment variable TOKENIZERS_PARALLELISM=(true | false)\n",
      "huggingface/tokenizers: The current process just got forked, after parallelism has already been used. Disabling parallelism to avoid deadlocks...\n",
      "To disable this warning, you can either:\n",
      "\t- Avoid using `tokenizers` before the fork if possible\n",
      "\t- Explicitly set the environment variable TOKENIZERS_PARALLELISM=(true | false)\n",
      "huggingface/tokenizers: The current process just got forked, after parallelism has already been used. Disabling parallelism to avoid deadlocks...\n",
      "To disable this warning, you can either:\n",
      "\t- Avoid using `tokenizers` before the fork if possible\n",
      "\t- Explicitly set the environment variable TOKENIZERS_PARALLELISM=(true | false)\n"
     ]
    },
    {
     "name": "stdout",
     "output_type": "stream",
     "text": [
      "peak memory: 2071.69 MiB, increment: -0.17 MiB\n"
     ]
    }
   ],
   "source": [
    "%%memit\n",
    "# Train the NB meta-classifier\n",
    "nb_meta_classifier = GaussianNB()\n",
    "nb_meta_classifier.fit(holdout_meta_features, holdout_df['label'].values)\n",
    "\n",
    "nb_final_predictions = nb_meta_classifier.predict(test_meta_features)"
   ]
  },
  {
   "cell_type": "markdown",
   "id": "8027b313-ee9e-4799-8b8c-01280f99815c",
   "metadata": {},
   "source": [
    "### Train DT"
   ]
  },
  {
   "cell_type": "code",
   "execution_count": 10,
   "id": "301edb53-18a6-41bc-ab03-f1c714a4ae0b",
   "metadata": {
    "execution": {
     "iopub.execute_input": "2024-08-20T09:35:51.155659Z",
     "iopub.status.busy": "2024-08-20T09:35:51.155567Z",
     "iopub.status.idle": "2024-08-20T09:35:52.016203Z",
     "shell.execute_reply": "2024-08-20T09:35:52.015854Z",
     "shell.execute_reply.started": "2024-08-20T09:35:51.155650Z"
    }
   },
   "outputs": [
    {
     "name": "stderr",
     "output_type": "stream",
     "text": [
      "huggingface/tokenizers: The current process just got forked, after parallelism has already been used. Disabling parallelism to avoid deadlocks...\n",
      "To disable this warning, you can either:\n",
      "\t- Avoid using `tokenizers` before the fork if possible\n",
      "\t- Explicitly set the environment variable TOKENIZERS_PARALLELISM=(true | false)\n",
      "huggingface/tokenizers: The current process just got forked, after parallelism has already been used. Disabling parallelism to avoid deadlocks...\n",
      "To disable this warning, you can either:\n",
      "\t- Avoid using `tokenizers` before the fork if possible\n",
      "\t- Explicitly set the environment variable TOKENIZERS_PARALLELISM=(true | false)\n"
     ]
    },
    {
     "name": "stdout",
     "output_type": "stream",
     "text": [
      "peak memory: 2071.89 MiB, increment: 0.20 MiB\n"
     ]
    },
    {
     "name": "stderr",
     "output_type": "stream",
     "text": [
      "huggingface/tokenizers: The current process just got forked, after parallelism has already been used. Disabling parallelism to avoid deadlocks...\n",
      "To disable this warning, you can either:\n",
      "\t- Avoid using `tokenizers` before the fork if possible\n",
      "\t- Explicitly set the environment variable TOKENIZERS_PARALLELISM=(true | false)\n"
     ]
    }
   ],
   "source": [
    "%%memit\n",
    "# Train the DT meta-classifier\n",
    "dt_meta_classifier = DecisionTreeClassifier(max_depth=None)  \n",
    "dt_meta_classifier.fit(holdout_meta_features, holdout_df['label'].values)\n",
    "\n",
    "dt_final_predictions = dt_meta_classifier.predict(test_meta_features)"
   ]
  },
  {
   "cell_type": "markdown",
   "id": "da9904b9-f678-4a2a-b8a5-6e4af9d5b8e1",
   "metadata": {},
   "source": [
    "### Train SVM"
   ]
  },
  {
   "cell_type": "code",
   "execution_count": 11,
   "id": "87e4db68-5d39-4459-8e47-b1ed2033f743",
   "metadata": {
    "execution": {
     "iopub.execute_input": "2024-08-20T09:35:52.016887Z",
     "iopub.status.busy": "2024-08-20T09:35:52.016782Z",
     "iopub.status.idle": "2024-08-20T09:35:52.890382Z",
     "shell.execute_reply": "2024-08-20T09:35:52.889923Z",
     "shell.execute_reply.started": "2024-08-20T09:35:52.016877Z"
    }
   },
   "outputs": [
    {
     "name": "stderr",
     "output_type": "stream",
     "text": [
      "huggingface/tokenizers: The current process just got forked, after parallelism has already been used. Disabling parallelism to avoid deadlocks...\n",
      "To disable this warning, you can either:\n",
      "\t- Avoid using `tokenizers` before the fork if possible\n",
      "\t- Explicitly set the environment variable TOKENIZERS_PARALLELISM=(true | false)\n",
      "huggingface/tokenizers: The current process just got forked, after parallelism has already been used. Disabling parallelism to avoid deadlocks...\n",
      "To disable this warning, you can either:\n",
      "\t- Avoid using `tokenizers` before the fork if possible\n",
      "\t- Explicitly set the environment variable TOKENIZERS_PARALLELISM=(true | false)\n"
     ]
    },
    {
     "name": "stdout",
     "output_type": "stream",
     "text": [
      "peak memory: 2086.94 MiB, increment: 15.05 MiB\n"
     ]
    }
   ],
   "source": [
    "%%memit\n",
    "# Train the SVM meta-classifier\n",
    "svm_meta_classifier = SVC(kernel='linear', probability=True)\n",
    "svm_meta_classifier.fit(holdout_meta_features, holdout_df['label'].values)\n",
    "\n",
    "svm_final_predictions = svm_meta_classifier.predict(test_meta_features)"
   ]
  },
  {
   "cell_type": "markdown",
   "id": "a902e13a-e9ad-4e5c-8bde-97119c5ebc88",
   "metadata": {},
   "source": [
    "## Evaluate Models"
   ]
  },
  {
   "cell_type": "markdown",
   "id": "6f1dd5cf-d1fd-4837-80b6-01641a4a4823",
   "metadata": {},
   "source": [
    "### LR"
   ]
  },
  {
   "cell_type": "code",
   "execution_count": 12,
   "id": "20019879-4510-487b-b378-92b49756d548",
   "metadata": {
    "execution": {
     "iopub.execute_input": "2024-08-20T09:35:52.891152Z",
     "iopub.status.busy": "2024-08-20T09:35:52.891058Z",
     "iopub.status.idle": "2024-08-20T09:35:52.897667Z",
     "shell.execute_reply": "2024-08-20T09:35:52.897455Z",
     "shell.execute_reply.started": "2024-08-20T09:35:52.891144Z"
    }
   },
   "outputs": [
    {
     "name": "stdout",
     "output_type": "stream",
     "text": [
      "Logistic Regression\n",
      "Precision: 0.7690\n",
      "Recall: 0.7892\n",
      "Ensemble accuracy: 0.7946\n",
      "F1 Score: 0.7789\n",
      "Confusion Matrix:\n",
      "[[1079  271]\n",
      " [ 241  902]]\n"
     ]
    }
   ],
   "source": [
    "# Evaluate\n",
    "precision = precision_score(test_df['label'].values, lr_final_predictions, average='binary')\n",
    "recall = recall_score(test_df['label'].values, lr_final_predictions, average='binary')\n",
    "accuracy = accuracy_score(test_df['label'].values, lr_final_predictions)\n",
    "f1 = f1_score(test_df['label'].values, lr_final_predictions, average='binary')\n",
    "conf_matrix = confusion_matrix(test_df['label'].values, lr_final_predictions)\n",
    "\n",
    "print(\"Logistic Regression\")\n",
    "print(f\"Precision: {precision:.4f}\")\n",
    "print(f\"Recall: {recall:.4f}\")\n",
    "print(f\"Ensemble accuracy: {accuracy:.4f}\")\n",
    "print(f\"F1 Score: {f1:.4f}\")\n",
    "print(\"Confusion Matrix:\")\n",
    "print(conf_matrix)\n"
   ]
  },
  {
   "cell_type": "code",
   "execution_count": 13,
   "id": "8caa2e13-1837-4452-9f39-c717354cd635",
   "metadata": {
    "execution": {
     "iopub.execute_input": "2024-08-20T09:35:52.898085Z",
     "iopub.status.busy": "2024-08-20T09:35:52.898013Z",
     "iopub.status.idle": "2024-08-20T09:35:53.219021Z",
     "shell.execute_reply": "2024-08-20T09:35:53.218728Z",
     "shell.execute_reply.started": "2024-08-20T09:35:52.898079Z"
    }
   },
   "outputs": [
    {
     "data": {
      "image/png": "[encoded data removed]",
      "text/plain": [
       "<Figure size 640x480 with 1 Axes>"
      ]
     },
     "metadata": {},
     "output_type": "display_data"
    }
   ],
   "source": [
    "# Get probability scores for the positive class\n",
    "lr_prob_scores = lr_meta_classifier.predict_proba(test_meta_features)[:, 1]\n",
    "\n",
    "import matplotlib.pyplot as plt\n",
    "\n",
    "# Plot the distribution of predicted probabilities\n",
    "plt.hist(lr_prob_scores, bins=50, alpha=0.75)\n",
    "plt.title('Distribution of Predicted Probabilities (LR)')\n",
    "plt.xlabel('Probability of Positive Class')\n",
    "plt.ylabel('Frequency')\n",
    "plt.show()\n"
   ]
  },
  {
   "cell_type": "code",
   "execution_count": 14,
   "id": "73bdca4b-3649-4046-83f8-34233902b4cd",
   "metadata": {
    "execution": {
     "iopub.execute_input": "2024-08-20T09:35:53.219469Z",
     "iopub.status.busy": "2024-08-20T09:35:53.219390Z",
     "iopub.status.idle": "2024-08-20T09:35:53.314496Z",
     "shell.execute_reply": "2024-08-20T09:35:53.314131Z",
     "shell.execute_reply.started": "2024-08-20T09:35:53.219462Z"
    }
   },
   "outputs": [
    {
     "name": "stdout",
     "output_type": "stream",
     "text": [
      "Adjusted threshold: 0.3800\n",
      "Adjusted Logistic Regression\n",
      "Precision: 0.7326\n",
      "Recall: 0.8556\n",
      "Accuracy: 0.7906\n",
      "F1 Score: 0.7893\n",
      "Confusion Matrix:\n",
      "[[993 357]\n",
      " [165 978]]\n"
     ]
    }
   ],
   "source": [
    "# Determine a new threshold\n",
    "thresholds = np.linspace(0.01, 0.99, 99)\n",
    "scores = [f1_score(test_df['label'], lr_prob_scores >= t, average='binary') for t in thresholds]\n",
    "best_thresh = thresholds[np.argmax(scores)]\n",
    "\n",
    "# Apply the new threshold\n",
    "adjusted_predictions = (lr_prob_scores >= best_thresh).astype(int)\n",
    "\n",
    "# Evaluate with the new threshold\n",
    "adjusted_precision = precision_score(test_df['label'], adjusted_predictions, average='binary')\n",
    "adjusted_recall = recall_score(test_df['label'], adjusted_predictions, average='binary')\n",
    "adjusted_accuracy = accuracy_score(test_df['label'], adjusted_predictions)\n",
    "adjusted_f1 = f1_score(test_df['label'], adjusted_predictions, average='binary')\n",
    "adjusted_conf_matrix = confusion_matrix(test_df['label'], adjusted_predictions)\n",
    "\n",
    "print(f\"Adjusted threshold: {best_thresh:.4f}\")\n",
    "print(\"Adjusted Logistic Regression\")\n",
    "print(f\"Precision: {adjusted_precision:.4f}\")\n",
    "print(f\"Recall: {adjusted_recall:.4f}\")\n",
    "print(f\"Accuracy: {adjusted_accuracy:.4f}\")\n",
    "print(f\"F1 Score: {adjusted_f1:.4f}\")\n",
    "print(\"Confusion Matrix:\")\n",
    "print(adjusted_conf_matrix)\n",
    "\n",
    "lr_thresh = best_thresh"
   ]
  },
  {
   "cell_type": "code",
   "execution_count": 15,
   "id": "b32c3ed1-b3f1-445b-bd78-9047bc433e7c",
   "metadata": {
    "execution": {
     "iopub.execute_input": "2024-08-20T09:35:53.315158Z",
     "iopub.status.busy": "2024-08-20T09:35:53.315070Z",
     "iopub.status.idle": "2024-08-20T09:35:54.203547Z",
     "shell.execute_reply": "2024-08-20T09:35:54.202130Z",
     "shell.execute_reply.started": "2024-08-20T09:35:53.315149Z"
    }
   },
   "outputs": [
    {
     "name": "stdout",
     "output_type": "stream",
     "text": [
      "Updated cells count: 4\n"
     ]
    }
   ],
   "source": [
    "# SAVE TO GOOGLE SHEET\n",
    "\n",
    "# Define the range and values to update\n",
    "range_name = '5-1!B8:E8'  \n",
    "\n",
    "values = [[\n",
    "    f\"{adjusted_precision * 100:.2f}\",\n",
    "    f\"{adjusted_recall * 100:.2f}\",\n",
    "    f\"{adjusted_accuracy * 100:.2f}\",\n",
    "    f\"{adjusted_f1 * 100:.2f}\"\n",
    "]]\n",
    "\n",
    "# Prepare the request body\n",
    "body = {\n",
    "    'values': values\n",
    "}\n",
    "\n",
    "# Call the Sheets API to update the values\n",
    "result = service.spreadsheets().values().update(\n",
    "    spreadsheetId=spreadsheet_id, \n",
    "    range=range_name,\n",
    "    valueInputOption='USER_ENTERED',\n",
    "    body=body\n",
    ").execute()\n",
    "\n",
    "print('Updated cells count:', result.get('updatedCells'))"
   ]
  },
  {
   "cell_type": "markdown",
   "id": "f8803f8a-f44a-40f3-bed3-6a137f6a8ced",
   "metadata": {},
   "source": [
    "### NB"
   ]
  },
  {
   "cell_type": "code",
   "execution_count": 16,
   "id": "6f816faf-f1a2-4474-9e56-7cb303b3611f",
   "metadata": {
    "execution": {
     "iopub.execute_input": "2024-08-20T09:35:54.205664Z",
     "iopub.status.busy": "2024-08-20T09:35:54.205364Z",
     "iopub.status.idle": "2024-08-20T09:35:54.222721Z",
     "shell.execute_reply": "2024-08-20T09:35:54.222175Z",
     "shell.execute_reply.started": "2024-08-20T09:35:54.205638Z"
    }
   },
   "outputs": [
    {
     "name": "stdout",
     "output_type": "stream",
     "text": [
      "Naive Bayes\n",
      "Precision: 0.7611\n",
      "Recall: 0.7944006999125109\n",
      "Ensemble accuracy: 0.7914\n",
      "F1 Score: 0.7774\n",
      "Confusion Matrix:\n",
      "[[1065  285]\n",
      " [ 235  908]]\n"
     ]
    }
   ],
   "source": [
    "# Evaluate\n",
    "precision = precision_score(test_df['label'].values, nb_final_predictions, average='binary')\n",
    "recall = recall_score(test_df['label'].values, nb_final_predictions, average='binary')\n",
    "accuracy = accuracy_score(test_df['label'].values, nb_final_predictions)\n",
    "f1 = f1_score(test_df['label'].values, nb_final_predictions, average='binary')\n",
    "conf_matrix = confusion_matrix(test_df['label'].values, nb_final_predictions)\n",
    "\n",
    "print(\"Naive Bayes\")\n",
    "print(f\"Precision: {precision:.4f}\")\n",
    "print(f\"Recall: {recall}\")\n",
    "print(f\"Ensemble accuracy: {accuracy:.4f}\")\n",
    "print(f\"F1 Score: {f1:.4f}\")\n",
    "print(\"Confusion Matrix:\")\n",
    "print(conf_matrix)"
   ]
  },
  {
   "cell_type": "code",
   "execution_count": 17,
   "id": "6bf4a8b2-c477-46f6-8c51-06829170f251",
   "metadata": {
    "execution": {
     "iopub.execute_input": "2024-08-20T09:35:54.223526Z",
     "iopub.status.busy": "2024-08-20T09:35:54.223381Z",
     "iopub.status.idle": "2024-08-20T09:35:54.297863Z",
     "shell.execute_reply": "2024-08-20T09:35:54.297506Z",
     "shell.execute_reply.started": "2024-08-20T09:35:54.223511Z"
    }
   },
   "outputs": [
    {
     "data": {
      "image/png": "[encoded data removed]",
      "text/plain": [
       "<Figure size 640x480 with 1 Axes>"
      ]
     },
     "metadata": {},
     "output_type": "display_data"
    }
   ],
   "source": [
    "# Get probability scores for the positive class\n",
    "nb_prob_scores = nb_meta_classifier.predict_proba(test_meta_features)[:, 1]\n",
    "\n",
    "import matplotlib.pyplot as plt\n",
    "\n",
    "# Plot the distribution of predicted probabilities\n",
    "plt.hist(nb_prob_scores, bins=50, alpha=0.75)\n",
    "plt.title('Distribution of Predicted Probabilities (NB)')\n",
    "plt.xlabel('Probability of Positive Class')\n",
    "plt.ylabel('Frequency')\n",
    "plt.show()"
   ]
  },
  {
   "cell_type": "code",
   "execution_count": 18,
   "id": "fd5e6dd9-2846-4fa3-bbb9-ff92060e4ead",
   "metadata": {
    "execution": {
     "iopub.execute_input": "2024-08-20T09:35:54.298514Z",
     "iopub.status.busy": "2024-08-20T09:35:54.298422Z",
     "iopub.status.idle": "2024-08-20T09:35:54.388632Z",
     "shell.execute_reply": "2024-08-20T09:35:54.388340Z",
     "shell.execute_reply.started": "2024-08-20T09:35:54.298503Z"
    }
   },
   "outputs": [
    {
     "name": "stdout",
     "output_type": "stream",
     "text": [
      "Adjusted threshold: 0.1000\n",
      "Adjusted Naive Bayes\n",
      "Precision: 0.7472\n",
      "Recall: 0.8303\n",
      "Accuracy: 0.7934\n",
      "F1 Score: 0.7866\n",
      "Confusion Matrix:\n",
      "[[1029  321]\n",
      " [ 194  949]]\n"
     ]
    }
   ],
   "source": [
    "# Determine a new threshold\n",
    "thresholds = np.linspace(0.01, 0.99, 99)\n",
    "scores = [f1_score(test_df['label'], nb_prob_scores >= t, average='binary') for t in thresholds]\n",
    "best_thresh = thresholds[np.argmax(scores)]\n",
    "\n",
    "# Apply the new threshold\n",
    "adjusted_predictions = (nb_prob_scores >= best_thresh).astype(int)\n",
    "\n",
    "# Evaluate with the new threshold\n",
    "adjusted_precision = precision_score(test_df['label'], adjusted_predictions, average='binary')\n",
    "adjusted_recall = recall_score(test_df['label'], adjusted_predictions, average='binary')\n",
    "adjusted_accuracy = accuracy_score(test_df['label'], adjusted_predictions)\n",
    "adjusted_f1 = f1_score(test_df['label'], adjusted_predictions, average='binary')\n",
    "adjusted_conf_matrix = confusion_matrix(test_df['label'], adjusted_predictions)\n",
    "\n",
    "print(f\"Adjusted threshold: {best_thresh:.4f}\")\n",
    "print(\"Adjusted Naive Bayes\")\n",
    "print(f\"Precision: {adjusted_precision:.4f}\")\n",
    "print(f\"Recall: {adjusted_recall:.4f}\")\n",
    "print(f\"Accuracy: {adjusted_accuracy:.4f}\")\n",
    "print(f\"F1 Score: {adjusted_f1:.4f}\")\n",
    "print(\"Confusion Matrix:\")\n",
    "print(adjusted_conf_matrix)\n",
    "\n",
    "nb_thresh = best_thresh"
   ]
  },
  {
   "cell_type": "code",
   "execution_count": 19,
   "id": "a4909900-8aeb-498f-a1c2-ebecf3dd7eb7",
   "metadata": {
    "execution": {
     "iopub.execute_input": "2024-08-20T09:35:54.389188Z",
     "iopub.status.busy": "2024-08-20T09:35:54.389099Z",
     "iopub.status.idle": "2024-08-20T09:35:54.797554Z",
     "shell.execute_reply": "2024-08-20T09:35:54.793685Z",
     "shell.execute_reply.started": "2024-08-20T09:35:54.389179Z"
    }
   },
   "outputs": [
    {
     "name": "stdout",
     "output_type": "stream",
     "text": [
      "Updated cells count: 4\n"
     ]
    }
   ],
   "source": [
    "# SAVE TO GOOGLE SHEET\n",
    "\n",
    "# Define the range and values to update\n",
    "range_name = '5-1!B9:E9'  \n",
    "\n",
    "values = [[\n",
    "    f\"{adjusted_precision * 100:.2f}\",\n",
    "    f\"{adjusted_recall * 100:.2f}\",\n",
    "    f\"{adjusted_accuracy * 100:.2f}\",\n",
    "    f\"{adjusted_f1 * 100:.2f}\"\n",
    "]]\n",
    "\n",
    "# Prepare the request body\n",
    "body = {\n",
    "    'values': values\n",
    "}\n",
    "\n",
    "# Call the Sheets API to update the values\n",
    "result = service.spreadsheets().values().update(\n",
    "    spreadsheetId=spreadsheet_id, \n",
    "    range=range_name,\n",
    "    valueInputOption='USER_ENTERED',\n",
    "    body=body\n",
    ").execute()\n",
    "\n",
    "print('Updated cells count:', result.get('updatedCells'))"
   ]
  },
  {
   "cell_type": "markdown",
   "id": "a92b519a-7274-4651-8707-33c5e2ce81f7",
   "metadata": {},
   "source": [
    "### DT"
   ]
  },
  {
   "cell_type": "code",
   "execution_count": 20,
   "id": "112a6839-2256-4652-8923-5a8204fa3d51",
   "metadata": {
    "execution": {
     "iopub.execute_input": "2024-08-20T09:35:54.810264Z",
     "iopub.status.busy": "2024-08-20T09:35:54.809870Z",
     "iopub.status.idle": "2024-08-20T09:35:54.826951Z",
     "shell.execute_reply": "2024-08-20T09:35:54.826483Z",
     "shell.execute_reply.started": "2024-08-20T09:35:54.810235Z"
    }
   },
   "outputs": [
    {
     "name": "stdout",
     "output_type": "stream",
     "text": [
      "Decision Tree\n",
      "Precision: 0.6790\n",
      "Recall: 0.6903\n",
      "Ensemble accuracy: 0.7084\n",
      "F1 Score: 0.6846\n",
      "Confusion Matrix:\n",
      "[[977 373]\n",
      " [354 789]]\n"
     ]
    }
   ],
   "source": [
    "# Evaluate\n",
    "precision = precision_score(test_df['label'].values, dt_final_predictions, average='binary')\n",
    "recall = recall_score(test_df['label'].values, dt_final_predictions, average='binary')\n",
    "accuracy = accuracy_score(test_df['label'].values, dt_final_predictions)\n",
    "f1 = f1_score(test_df['label'].values, dt_final_predictions, average='binary')\n",
    "conf_matrix = confusion_matrix(test_df['label'].values, dt_final_predictions)\n",
    "\n",
    "print(\"Decision Tree\")\n",
    "print(f\"Precision: {precision:.4f}\")\n",
    "print(f\"Recall: {recall:.4f}\")\n",
    "print(f\"Ensemble accuracy: {accuracy:.4f}\")\n",
    "print(f\"F1 Score: {f1:.4f}\")\n",
    "print(\"Confusion Matrix:\")\n",
    "print(conf_matrix)"
   ]
  },
  {
   "cell_type": "code",
   "execution_count": 21,
   "id": "9dca5adb-55c1-47d5-abbd-ae15c4014ce3",
   "metadata": {
    "execution": {
     "iopub.execute_input": "2024-08-20T09:35:54.827720Z",
     "iopub.status.busy": "2024-08-20T09:35:54.827604Z",
     "iopub.status.idle": "2024-08-20T09:35:54.896631Z",
     "shell.execute_reply": "2024-08-20T09:35:54.896211Z",
     "shell.execute_reply.started": "2024-08-20T09:35:54.827708Z"
    }
   },
   "outputs": [
    {
     "data": {
      "image/png": "[encoded data removed]",
      "text/plain": [
       "<Figure size 640x480 with 1 Axes>"
      ]
     },
     "metadata": {},
     "output_type": "display_data"
    }
   ],
   "source": [
    "# Get probability scores for the positive class\n",
    "dt_prob_scores = dt_meta_classifier.predict_proba(test_meta_features)[:, 1]\n",
    "\n",
    "import matplotlib.pyplot as plt\n",
    "\n",
    "# Plot the distribution of predicted probabilities\n",
    "plt.hist(dt_prob_scores, bins=50, alpha=0.75)\n",
    "plt.title('Distribution of Predicted Probabilities (DT)')\n",
    "plt.xlabel('Probability of Positive Class')\n",
    "plt.ylabel('Frequency')\n",
    "plt.show()"
   ]
  },
  {
   "cell_type": "code",
   "execution_count": 22,
   "id": "125f0b72-c5ce-4281-8efc-595018b098e2",
   "metadata": {
    "execution": {
     "iopub.execute_input": "2024-08-20T09:35:54.897172Z",
     "iopub.status.busy": "2024-08-20T09:35:54.897093Z",
     "iopub.status.idle": "2024-08-20T09:35:54.980700Z",
     "shell.execute_reply": "2024-08-20T09:35:54.980298Z",
     "shell.execute_reply.started": "2024-08-20T09:35:54.897164Z"
    }
   },
   "outputs": [
    {
     "name": "stdout",
     "output_type": "stream",
     "text": [
      "Adjusted threshold: 0.5100\n",
      "Adjusted Decision Tree\n",
      "Precision: 0.6790\n",
      "Recall: 0.6903\n",
      "Accuracy: 0.7084\n",
      "F1 Score: 0.6846\n",
      "Confusion Matrix:\n",
      "[[977 373]\n",
      " [354 789]]\n"
     ]
    }
   ],
   "source": [
    "# Determine a new threshold\n",
    "thresholds = np.linspace(0.01, 0.99, 99)\n",
    "scores = [f1_score(test_df['label'], dt_prob_scores >= t, average='binary') for t in thresholds]\n",
    "best_thresh = thresholds[np.argmax(scores)]\n",
    "\n",
    "# Apply the new threshold\n",
    "adjusted_predictions = (dt_prob_scores >= best_thresh).astype(int)\n",
    "\n",
    "# Evaluate with the new threshold\n",
    "adjusted_precision = precision_score(test_df['label'], adjusted_predictions, average='binary')\n",
    "adjusted_recall = recall_score(test_df['label'], adjusted_predictions, average='binary')\n",
    "adjusted_accuracy = accuracy_score(test_df['label'], adjusted_predictions)\n",
    "adjusted_f1 = f1_score(test_df['label'], adjusted_predictions, average='binary')\n",
    "adjusted_conf_matrix = confusion_matrix(test_df['label'], adjusted_predictions)\n",
    "\n",
    "print(f\"Adjusted threshold: {best_thresh:.4f}\")\n",
    "print(\"Adjusted Decision Tree\")\n",
    "print(f\"Precision: {adjusted_precision:.4f}\")\n",
    "print(f\"Recall: {adjusted_recall:.4f}\")\n",
    "print(f\"Accuracy: {adjusted_accuracy:.4f}\")\n",
    "print(f\"F1 Score: {adjusted_f1:.4f}\")\n",
    "print(\"Confusion Matrix:\")\n",
    "print(adjusted_conf_matrix)\n",
    "\n",
    "dt_thresh = best_thresh"
   ]
  },
  {
   "cell_type": "code",
   "execution_count": 23,
   "id": "6f3be76e-56d6-4e8b-92fa-f87534b9d2b9",
   "metadata": {
    "execution": {
     "iopub.execute_input": "2024-08-20T09:35:54.981169Z",
     "iopub.status.busy": "2024-08-20T09:35:54.981088Z",
     "iopub.status.idle": "2024-08-20T09:35:55.429360Z",
     "shell.execute_reply": "2024-08-20T09:35:55.428389Z",
     "shell.execute_reply.started": "2024-08-20T09:35:54.981162Z"
    }
   },
   "outputs": [
    {
     "name": "stdout",
     "output_type": "stream",
     "text": [
      "Updated cells count: 4\n"
     ]
    }
   ],
   "source": [
    "# SAVE TO GOOGLE SHEET\n",
    "\n",
    "# Define the range and values to update\n",
    "range_name = '5-1!B10:E10'  \n",
    "\n",
    "values = [[\n",
    "    f\"{adjusted_precision * 100:.2f}\",\n",
    "    f\"{adjusted_recall * 100:.2f}\",\n",
    "    f\"{adjusted_accuracy * 100:.2f}\",\n",
    "    f\"{adjusted_f1 * 100:.2f}\"\n",
    "]]\n",
    "\n",
    "# Prepare the request body\n",
    "body = {\n",
    "    'values': values\n",
    "}\n",
    "\n",
    "# Call the Sheets API to update the values\n",
    "result = service.spreadsheets().values().update(\n",
    "    spreadsheetId=spreadsheet_id, \n",
    "    range=range_name,\n",
    "    valueInputOption='USER_ENTERED',\n",
    "    body=body\n",
    ").execute()\n",
    "\n",
    "print('Updated cells count:', result.get('updatedCells'))"
   ]
  },
  {
   "cell_type": "markdown",
   "id": "65c8fbf8-8467-470a-b23d-c7368f16192c",
   "metadata": {},
   "source": [
    "### SVM"
   ]
  },
  {
   "cell_type": "code",
   "execution_count": 24,
   "id": "56c161df-ddf2-4392-86ce-cdad4ee3472d",
   "metadata": {
    "execution": {
     "iopub.execute_input": "2024-08-20T09:35:55.432108Z",
     "iopub.status.busy": "2024-08-20T09:35:55.431043Z",
     "iopub.status.idle": "2024-08-20T09:35:55.446612Z",
     "shell.execute_reply": "2024-08-20T09:35:55.446064Z",
     "shell.execute_reply.started": "2024-08-20T09:35:55.432070Z"
    }
   },
   "outputs": [
    {
     "name": "stdout",
     "output_type": "stream",
     "text": [
      "SVM\n",
      "Precision: 0.7692\n",
      "Recall: 0.7612\n",
      "Ensemble accuracy: 0.7858\n",
      "F1 Score: 0.7652\n",
      "Confusion Matrix:\n",
      "[[1089  261]\n",
      " [ 273  870]]\n"
     ]
    }
   ],
   "source": [
    "# Evaluate\n",
    "precision = precision_score(test_df['label'].values, svm_final_predictions, average='binary')\n",
    "recall = recall_score(test_df['label'].values, svm_final_predictions, average='binary')\n",
    "accuracy = accuracy_score(test_df['label'].values, svm_final_predictions)\n",
    "f1 = f1_score(test_df['label'].values, svm_final_predictions, average='binary')\n",
    "conf_matrix = confusion_matrix(test_df['label'].values, svm_final_predictions)\n",
    "\n",
    "print(\"SVM\")\n",
    "print(f\"Precision: {precision:.4f}\")\n",
    "print(f\"Recall: {recall:.4f}\")\n",
    "print(f\"Ensemble accuracy: {accuracy:.4f}\")\n",
    "print(f\"F1 Score: {f1:.4f}\")\n",
    "print(\"Confusion Matrix:\")\n",
    "print(conf_matrix)"
   ]
  },
  {
   "cell_type": "code",
   "execution_count": 25,
   "id": "73be676c-1c95-45c9-8ff0-78dd9a9d463a",
   "metadata": {
    "execution": {
     "iopub.execute_input": "2024-08-20T09:35:55.448146Z",
     "iopub.status.busy": "2024-08-20T09:35:55.447713Z",
     "iopub.status.idle": "2024-08-20T09:35:55.545403Z",
     "shell.execute_reply": "2024-08-20T09:35:55.545103Z",
     "shell.execute_reply.started": "2024-08-20T09:35:55.448109Z"
    }
   },
   "outputs": [
    {
     "data": {
      "image/png": "[encoded data removed]",
      "text/plain": [
       "<Figure size 640x480 with 1 Axes>"
      ]
     },
     "metadata": {},
     "output_type": "display_data"
    }
   ],
   "source": [
    "# Get probability scores for the positive class\n",
    "svm_prob_scores = svm_meta_classifier.predict_proba(test_meta_features)[:, 1]\n",
    "\n",
    "import matplotlib.pyplot as plt\n",
    "\n",
    "# Plot the distribution of predicted probabilities\n",
    "plt.hist(svm_prob_scores, bins=50, alpha=0.75)\n",
    "plt.title('Distribution of Predicted Probabilities (SVM)')\n",
    "plt.xlabel('Probability of Positive Class')\n",
    "plt.ylabel('Frequency')\n",
    "plt.show()"
   ]
  },
  {
   "cell_type": "code",
   "execution_count": 26,
   "id": "bc999cb0-01ec-42d9-ba23-2358c92a4610",
   "metadata": {
    "execution": {
     "iopub.execute_input": "2024-08-20T09:35:55.545832Z",
     "iopub.status.busy": "2024-08-20T09:35:55.545759Z",
     "iopub.status.idle": "2024-08-20T09:35:55.633918Z",
     "shell.execute_reply": "2024-08-20T09:35:55.633368Z",
     "shell.execute_reply.started": "2024-08-20T09:35:55.545825Z"
    }
   },
   "outputs": [
    {
     "name": "stdout",
     "output_type": "stream",
     "text": [
      "Adjusted threshold: 0.3000\n",
      "Adjusted SVM\n",
      "Precision: 0.7045\n",
      "Recall: 0.8740\n",
      "Accuracy: 0.7742\n",
      "F1 Score: 0.7802\n",
      "Confusion Matrix:\n",
      "[[931 419]\n",
      " [144 999]]\n"
     ]
    }
   ],
   "source": [
    "# Determine a new threshold\n",
    "thresholds = np.linspace(0.01, 0.99, 99)\n",
    "scores = [f1_score(test_df['label'], svm_prob_scores >= t, average='binary') for t in thresholds]\n",
    "best_thresh = thresholds[np.argmax(scores)]\n",
    "\n",
    "# Apply the new threshold\n",
    "adjusted_predictions = (svm_prob_scores >= best_thresh).astype(int)\n",
    "\n",
    "# Evaluate with the new threshold\n",
    "adjusted_precision = precision_score(test_df['label'], adjusted_predictions, average='binary')\n",
    "adjusted_recall = recall_score(test_df['label'], adjusted_predictions, average='binary')\n",
    "adjusted_accuracy = accuracy_score(test_df['label'], adjusted_predictions)\n",
    "adjusted_f1 = f1_score(test_df['label'], adjusted_predictions, average='binary')\n",
    "adjusted_conf_matrix = confusion_matrix(test_df['label'], adjusted_predictions)\n",
    "\n",
    "print(f\"Adjusted threshold: {best_thresh:.4f}\")\n",
    "print(\"Adjusted SVM\")\n",
    "print(f\"Precision: {adjusted_precision:.4f}\")\n",
    "print(f\"Recall: {adjusted_recall:.4f}\")\n",
    "print(f\"Accuracy: {adjusted_accuracy:.4f}\")\n",
    "print(f\"F1 Score: {adjusted_f1:.4f}\")\n",
    "print(\"Confusion Matrix:\")\n",
    "print(adjusted_conf_matrix)\n",
    "\n",
    "svm_thresh = best_thresh"
   ]
  },
  {
   "cell_type": "code",
   "execution_count": 27,
   "id": "06aef1c8-e91b-4401-8c9c-a1ab43a5b4b8",
   "metadata": {
    "execution": {
     "iopub.execute_input": "2024-08-20T09:35:55.634589Z",
     "iopub.status.busy": "2024-08-20T09:35:55.634472Z",
     "iopub.status.idle": "2024-08-20T09:35:56.112628Z",
     "shell.execute_reply": "2024-08-20T09:35:56.111364Z",
     "shell.execute_reply.started": "2024-08-20T09:35:55.634561Z"
    }
   },
   "outputs": [
    {
     "name": "stdout",
     "output_type": "stream",
     "text": [
      "Updated cells count: 4\n"
     ]
    }
   ],
   "source": [
    "# SAVE TO GOOGLE SHEET\n",
    "\n",
    "# Define the range and values to update\n",
    "range_name = '5-1!B11:E11'  \n",
    "\n",
    "values = [[\n",
    "    f\"{adjusted_precision * 100:.2f}\",\n",
    "    f\"{adjusted_recall * 100:.2f}\",\n",
    "    f\"{adjusted_accuracy * 100:.2f}\",\n",
    "    f\"{adjusted_f1 * 100:.2f}\"\n",
    "]]\n",
    "\n",
    "# Prepare the request body\n",
    "body = {\n",
    "    'values': values\n",
    "}\n",
    "\n",
    "# Call the Sheets API to update the values\n",
    "result = service.spreadsheets().values().update(\n",
    "    spreadsheetId=spreadsheet_id, \n",
    "    range=range_name,\n",
    "    valueInputOption='USER_ENTERED',\n",
    "    body=body\n",
    ").execute()\n",
    "\n",
    "print('Updated cells count:', result.get('updatedCells'))"
   ]
  },
  {
   "cell_type": "markdown",
   "id": "8d2045a9-4a51-4880-b22f-b3ff2b11881d",
   "metadata": {},
   "source": [
    "# Validate on Data C"
   ]
  },
  {
   "cell_type": "markdown",
   "id": "b7f3295c-4ff1-44ea-857b-82a80bb44ff3",
   "metadata": {},
   "source": [
    "## Load Data C Dataset"
   ]
  },
  {
   "cell_type": "code",
   "execution_count": 28,
   "id": "06f318e7-8089-4e51-8494-de0f6a11b10b",
   "metadata": {
    "execution": {
     "iopub.execute_input": "2024-08-20T09:35:56.114283Z",
     "iopub.status.busy": "2024-08-20T09:35:56.113996Z",
     "iopub.status.idle": "2024-08-20T09:35:56.124517Z",
     "shell.execute_reply": "2024-08-20T09:35:56.123889Z",
     "shell.execute_reply.started": "2024-08-20T09:35:56.114258Z"
    }
   },
   "outputs": [],
   "source": [
    "import pandas as pd\n",
    "from sklearn.metrics import accuracy_score, precision_score, recall_score, f1_score, confusion_matrix\n",
    "\n",
    "# Load validation data\n",
    "validation_file_path = 'Corpus/data_c.csv'\n",
    "validation_df = pd.read_csv(validation_file_path)"
   ]
  },
  {
   "cell_type": "markdown",
   "id": "e5ce9332-4160-4859-85e1-5b1d4184d1b2",
   "metadata": {
    "execution": {
     "iopub.execute_input": "2024-04-11T13:00:14.207089Z",
     "iopub.status.busy": "2024-04-11T13:00:14.206594Z",
     "iopub.status.idle": "2024-04-11T13:00:14.209788Z",
     "shell.execute_reply": "2024-04-11T13:00:14.209108Z",
     "shell.execute_reply.started": "2024-04-11T13:00:14.207047Z"
    }
   },
   "source": [
    "## Perform Blending"
   ]
  },
  {
   "cell_type": "code",
   "execution_count": 29,
   "id": "9397f5dc-4155-435b-b189-d720dd902f68",
   "metadata": {
    "execution": {
     "iopub.execute_input": "2024-08-20T09:35:56.125690Z",
     "iopub.status.busy": "2024-08-20T09:35:56.125481Z",
     "iopub.status.idle": "2024-08-20T09:36:27.408124Z",
     "shell.execute_reply": "2024-08-20T09:36:27.391019Z",
     "shell.execute_reply.started": "2024-08-20T09:35:56.125671Z"
    }
   },
   "outputs": [
    {
     "name": "stderr",
     "output_type": "stream",
     "text": [
      "huggingface/tokenizers: The current process just got forked, after parallelism has already been used. Disabling parallelism to avoid deadlocks...\n",
      "To disable this warning, you can either:\n",
      "\t- Avoid using `tokenizers` before the fork if possible\n",
      "\t- Explicitly set the environment variable TOKENIZERS_PARALLELISM=(true | false)\n"
     ]
    },
    {
     "name": "stdout",
     "output_type": "stream",
     "text": [
      "peak memory: 2343.67 MiB, increment: 119.75 MiB\n"
     ]
    }
   ],
   "source": [
    "%%memit\n",
    "\n",
    "# Generate meta-features for validation set\n",
    "validation_meta_features = [get_meta_features(model, tokenizer, validation_df, device) \n",
    "                            for model, tokenizer in models_and_tokenizers.values()]\n",
    "\n",
    "# Stack meta-features\n",
    "validation_meta_features = np.hstack(validation_meta_features)\n",
    "\n",
    "# Predict with LR meta-classifier\n",
    "lr_validation_predictions = lr_meta_classifier.predict(validation_meta_features)\n",
    "\n",
    "# Predict with NB meta-classifier\n",
    "nb_validation_predictions = nb_meta_classifier.predict(validation_meta_features)\n",
    "\n",
    "# Predict with DT meta-classifier\n",
    "dt_validation_predictions = dt_meta_classifier.predict(validation_meta_features)\n",
    "\n",
    "# Predict with SVM meta-classifier\n",
    "svm_validation_predictions = svm_meta_classifier.predict(validation_meta_features)\n",
    "\n",
    "# Extract true labels from the validation set\n",
    "true_labels = validation_df['label'].values"
   ]
  },
  {
   "cell_type": "markdown",
   "id": "9da263a8-cbf9-4cff-b41b-e88a5e2512b4",
   "metadata": {},
   "source": [
    "## Validate Models"
   ]
  },
  {
   "cell_type": "markdown",
   "id": "73574aa4-26e8-4d0a-bc95-478361fcc2e6",
   "metadata": {},
   "source": [
    "### LR"
   ]
  },
  {
   "cell_type": "code",
   "execution_count": 30,
   "id": "df42fe2c-46bb-486d-90ba-404043f52e9e",
   "metadata": {
    "execution": {
     "iopub.execute_input": "2024-08-20T09:36:27.417797Z",
     "iopub.status.busy": "2024-08-20T09:36:27.410565Z",
     "iopub.status.idle": "2024-08-20T09:36:27.443864Z",
     "shell.execute_reply": "2024-08-20T09:36:27.441999Z",
     "shell.execute_reply.started": "2024-08-20T09:36:27.417753Z"
    }
   },
   "outputs": [
    {
     "name": "stdout",
     "output_type": "stream",
     "text": [
      "Logistic Regression\n",
      "Accuracy: 0.7997\n",
      "Precision: 0.7823\n",
      "Recall: 0.7895\n",
      "F1 Score: 0.7859\n",
      "Confusion Matrix:\n",
      " [[798 189]\n",
      " [181 679]]\n"
     ]
    }
   ],
   "source": [
    "# Calculate metrics\n",
    "accuracy = accuracy_score(true_labels, lr_validation_predictions)\n",
    "precision = precision_score(true_labels, lr_validation_predictions, average='binary')\n",
    "recall = recall_score(true_labels, lr_validation_predictions, average='binary')\n",
    "f1 = f1_score(true_labels, lr_validation_predictions, average='binary')\n",
    "conf_matrix = confusion_matrix(true_labels, lr_validation_predictions)\n",
    "\n",
    "# Print the metrics\n",
    "print(\"Logistic Regression\")\n",
    "print(f\"Accuracy: {accuracy:.4f}\")\n",
    "print(f\"Precision: {precision:.4f}\")\n",
    "print(f\"Recall: {recall:.4f}\")\n",
    "print(f\"F1 Score: {f1:.4f}\")\n",
    "print(\"Confusion Matrix:\\n\", conf_matrix)"
   ]
  },
  {
   "cell_type": "code",
   "execution_count": 31,
   "id": "91d3a4c3-dc8d-4bf2-b7e7-23ef203ebfcf",
   "metadata": {
    "execution": {
     "iopub.execute_input": "2024-08-20T09:36:27.444910Z",
     "iopub.status.busy": "2024-08-20T09:36:27.444755Z",
     "iopub.status.idle": "2024-08-20T09:36:27.582494Z",
     "shell.execute_reply": "2024-08-20T09:36:27.581767Z",
     "shell.execute_reply.started": "2024-08-20T09:36:27.444896Z"
    }
   },
   "outputs": [
    {
     "data": {
      "image/png": "[encoded data removed]",
      "text/plain": [
       "<Figure size 640x480 with 1 Axes>"
      ]
     },
     "metadata": {},
     "output_type": "display_data"
    }
   ],
   "source": [
    "# Get probability scores for the positive class\n",
    "lr_prob_scores = lr_meta_classifier.predict_proba(validation_meta_features)[:, 1]\n",
    "\n",
    "import matplotlib.pyplot as plt\n",
    "\n",
    "# Plot the distribution of predicted probabilities\n",
    "plt.hist(lr_prob_scores, bins=50, alpha=0.75)\n",
    "plt.title('Distribution of Predicted Probabilities (LR)')\n",
    "plt.xlabel('Probability of Positive Class')\n",
    "plt.ylabel('Frequency')\n",
    "plt.show()"
   ]
  },
  {
   "cell_type": "markdown",
   "id": "646d69bb-fb97-4d6d-8120-71f545822c5f",
   "metadata": {},
   "source": [
    "#### Optimized LR"
   ]
  },
  {
   "cell_type": "code",
   "execution_count": 32,
   "id": "066745e4-0dcb-4a51-8032-f2e762eb2429",
   "metadata": {
    "execution": {
     "iopub.execute_input": "2024-08-20T09:36:27.584221Z",
     "iopub.status.busy": "2024-08-20T09:36:27.583925Z",
     "iopub.status.idle": "2024-08-20T09:36:27.611565Z",
     "shell.execute_reply": "2024-08-20T09:36:27.610887Z",
     "shell.execute_reply.started": "2024-08-20T09:36:27.584205Z"
    }
   },
   "outputs": [
    {
     "name": "stdout",
     "output_type": "stream",
     "text": [
      "Optimized Logistic Regression\n",
      "Precision: 0.7475\n",
      "Recall: 0.8674\n",
      "Accuracy: 0.8018\n",
      "F1 Score: 0.8030\n",
      "Confusion Matrix:\n",
      "[[735 252]\n",
      " [114 746]]\n"
     ]
    }
   ],
   "source": [
    "# Apply the new threshold\n",
    "adjusted_predictions = (lr_prob_scores >= lr_thresh).astype(int)\n",
    "\n",
    "# Evaluate with the new threshold\n",
    "adjusted_precision = precision_score(true_labels, adjusted_predictions, average='binary')\n",
    "adjusted_recall = recall_score(true_labels, adjusted_predictions, average='binary')\n",
    "adjusted_accuracy = accuracy_score(true_labels, adjusted_predictions)\n",
    "adjusted_f1 = f1_score(true_labels, adjusted_predictions, average='binary')\n",
    "adjusted_conf_matrix = confusion_matrix(true_labels, adjusted_predictions)\n",
    "\n",
    "print(\"Optimized Logistic Regression\")\n",
    "print(f\"Precision: {adjusted_precision:.4f}\")\n",
    "print(f\"Recall: {adjusted_recall:.4f}\")\n",
    "print(f\"Accuracy: {adjusted_accuracy:.4f}\")\n",
    "print(f\"F1 Score: {adjusted_f1:.4f}\")\n",
    "print(\"Confusion Matrix:\")\n",
    "print(adjusted_conf_matrix)"
   ]
  },
  {
   "cell_type": "code",
   "execution_count": 33,
   "id": "1e5f1a22-24d9-4e81-95bd-78eae0de91fe",
   "metadata": {
    "execution": {
     "iopub.execute_input": "2024-08-20T09:36:27.630732Z",
     "iopub.status.busy": "2024-08-20T09:36:27.630327Z",
     "iopub.status.idle": "2024-08-20T09:36:28.071218Z",
     "shell.execute_reply": "2024-08-20T09:36:28.069829Z",
     "shell.execute_reply.started": "2024-08-20T09:36:27.630717Z"
    }
   },
   "outputs": [
    {
     "name": "stdout",
     "output_type": "stream",
     "text": [
      "Updated cells count: 4\n"
     ]
    }
   ],
   "source": [
    "# SAVE TO GOOGLE SHEET\n",
    "\n",
    "# Define the range and values to update\n",
    "range_name = '5-1!F8:I8'  \n",
    "\n",
    "values = [[\n",
    "    f\"{adjusted_precision * 100:.2f}\",\n",
    "    f\"{adjusted_recall * 100:.2f}\",\n",
    "    f\"{adjusted_accuracy * 100:.2f}\",\n",
    "    f\"{adjusted_f1 * 100:.2f}\"\n",
    "]]\n",
    "\n",
    "# Prepare the request body\n",
    "body = {\n",
    "    'values': values\n",
    "}\n",
    "\n",
    "# Call the Sheets API to update the values\n",
    "result = service.spreadsheets().values().update(\n",
    "    spreadsheetId=spreadsheet_id, \n",
    "    range=range_name,\n",
    "    valueInputOption='USER_ENTERED',\n",
    "    body=body\n",
    ").execute()\n",
    "\n",
    "print('Updated cells count:', result.get('updatedCells'))"
   ]
  },
  {
   "cell_type": "markdown",
   "id": "b0c303f4-b9fd-4c43-b082-8eb20af98b9d",
   "metadata": {},
   "source": [
    "#### Save Confusion Matrix"
   ]
  },
  {
   "cell_type": "code",
   "execution_count": 34,
   "id": "ec064b9f-9afe-40ac-a84f-33d3179cc317",
   "metadata": {
    "execution": {
     "iopub.execute_input": "2024-08-20T09:36:28.074755Z",
     "iopub.status.busy": "2024-08-20T09:36:28.073513Z",
     "iopub.status.idle": "2024-08-20T09:36:28.291926Z",
     "shell.execute_reply": "2024-08-20T09:36:28.291656Z",
     "shell.execute_reply.started": "2024-08-20T09:36:28.074638Z"
    }
   },
   "outputs": [
    {
     "data": {
      "text/html": [
       "\n",
       "<style>\n",
       "  #altair-viz-757c250f96574a71b61c40195b95de96.vega-embed {\n",
       "    width: 100%;\n",
       "    display: flex;\n",
       "  }\n",
       "\n",
       "  #altair-viz-757c250f96574a71b61c40195b95de96.vega-embed details,\n",
       "  #altair-viz-757c250f96574a71b61c40195b95de96.vega-embed details summary {\n",
       "    position: relative;\n",
       "  }\n",
       "</style>\n",
       "<div id=\"altair-viz-757c250f96574a71b61c40195b95de96\"></div>\n",
       "<script type=\"text/javascript\">\n",
       "  var VEGA_DEBUG = (typeof VEGA_DEBUG == \"undefined\") ? {} : VEGA_DEBUG;\n",
       "  (function(spec, embedOpt){\n",
       "    let outputDiv = document.currentScript.previousElementSibling;\n",
       "    if (outputDiv.id !== \"altair-viz-757c250f96574a71b61c40195b95de96\") {\n",
       "      outputDiv = document.getElementById(\"altair-viz-757c250f96574a71b61c40195b95de96\");\n",
       "    }\n",
       "    const paths = {\n",
       "      \"vega\": \"https://cdn.jsdelivr.net/npm/vega@5?noext\",\n",
       "      \"vega-lib\": \"https://cdn.jsdelivr.net/npm/vega-lib?noext\",\n",
       "      \"vega-lite\": \"https://cdn.jsdelivr.net/npm/vega-lite@5.17.0?noext\",\n",
       "      \"vega-embed\": \"https://cdn.jsdelivr.net/npm/vega-embed@6?noext\",\n",
       "    };\n",
       "\n",
       "    function maybeLoadScript(lib, version) {\n",
       "      var key = `${lib.replace(\"-\", \"\")}_version`;\n",
       "      return (VEGA_DEBUG[key] == version) ?\n",
       "        Promise.resolve(paths[lib]) :\n",
       "        new Promise(function(resolve, reject) {\n",
       "          var s = document.createElement('script');\n",
       "          document.getElementsByTagName(\"head\")[0].appendChild(s);\n",
       "          s.async = true;\n",
       "          s.onload = () => {\n",
       "            VEGA_DEBUG[key] = version;\n",
       "            return resolve(paths[lib]);\n",
       "          };\n",
       "          s.onerror = () => reject(`Error loading script: ${paths[lib]}`);\n",
       "          s.src = paths[lib];\n",
       "        });\n",
       "    }\n",
       "\n",
       "    function showError(err) {\n",
       "      outputDiv.innerHTML = `<div class=\"error\" style=\"color:red;\">${err}</div>`;\n",
       "      throw err;\n",
       "    }\n",
       "\n",
       "    function displayChart(vegaEmbed) {\n",
       "      vegaEmbed(outputDiv, spec, embedOpt)\n",
       "        .catch(err => showError(`Javascript Error: ${err.message}<br>This usually means there's a typo in your chart specification. See the javascript console for the full traceback.`));\n",
       "    }\n",
       "\n",
       "    if(typeof define === \"function\" && define.amd) {\n",
       "      requirejs.config({paths});\n",
       "      require([\"vega-embed\"], displayChart, err => showError(`Error loading script: ${err.message}`));\n",
       "    } else {\n",
       "      maybeLoadScript(\"vega\", \"5\")\n",
       "        .then(() => maybeLoadScript(\"vega-lite\", \"5.17.0\"))\n",
       "        .then(() => maybeLoadScript(\"vega-embed\", \"6\"))\n",
       "        .catch(showError)\n",
       "        .then(() => displayChart(vegaEmbed));\n",
       "    }\n",
       "  })({\"config\": {\"view\": {\"continuousWidth\": 300, \"continuousHeight\": 300}}, \"layer\": [{\"mark\": {\"type\": \"rect\"}, \"encoding\": {\"color\": {\"field\": \"Count\", \"type\": \"quantitative\"}, \"tooltip\": [{\"field\": \"True\", \"type\": \"ordinal\"}, {\"field\": \"Predicted\", \"type\": \"ordinal\"}, {\"field\": \"Count\", \"type\": \"quantitative\"}], \"x\": {\"field\": \"Predicted\", \"sort\": [\"Hate Speech\", \"Non Hatespeech\"], \"type\": \"ordinal\"}, \"y\": {\"field\": \"True\", \"sort\": [\"Hate Speech\", \"Non Hatespeech\"], \"type\": \"ordinal\"}}, \"title\": \"5 Blending-1 LR\"}, {\"mark\": {\"type\": \"text\", \"align\": \"center\", \"baseline\": \"middle\", \"fontSize\": 12}, \"encoding\": {\"color\": {\"condition\": {\"test\": \"(datum.Count > 373.0)\", \"value\": \"white\"}, \"value\": \"black\"}, \"text\": {\"field\": \"Count\", \"type\": \"quantitative\"}, \"tooltip\": [{\"field\": \"True\", \"type\": \"ordinal\"}, {\"field\": \"Predicted\", \"type\": \"ordinal\"}, {\"field\": \"Count\", \"type\": \"quantitative\"}], \"x\": {\"field\": \"Predicted\", \"sort\": [\"Hate Speech\", \"Non Hatespeech\"], \"type\": \"ordinal\"}, \"y\": {\"field\": \"True\", \"sort\": [\"Hate Speech\", \"Non Hatespeech\"], \"type\": \"ordinal\"}}, \"title\": \"5 Blending-1 LR\"}], \"data\": {\"name\": \"data-93ddb4e0660d6f2c49c03bda41f4b40a\"}, \"height\": 300, \"width\": 400, \"$schema\": \"https://vega.github.io/schema/vega-lite/v5.17.0.json\", \"datasets\": {\"data-93ddb4e0660d6f2c49c03bda41f4b40a\": [{\"True\": \"Hate Speech\", \"Predicted\": \"Hate Speech\", \"Count\": 735}, {\"True\": \"Non Hatespeech\", \"Predicted\": \"Hate Speech\", \"Count\": 114}, {\"True\": \"Hate Speech\", \"Predicted\": \"Non Hatespeech\", \"Count\": 252}, {\"True\": \"Non Hatespeech\", \"Predicted\": \"Non Hatespeech\", \"Count\": 746}]}}, {\"mode\": \"vega-lite\"});\n",
       "</script>"
      ],
      "text/plain": [
       "alt.LayerChart(...)"
      ]
     },
     "metadata": {},
     "output_type": "display_data"
    }
   ],
   "source": [
    "import altair as alt\n",
    "import altair_saver\n",
    "import pandas as pd\n",
    "from sklearn.metrics import confusion_matrix\n",
    "\n",
    "# Calculate the confusion matrix\n",
    "cm = confusion_matrix(true_labels, adjusted_predictions)\n",
    "\n",
    "# Define class names\n",
    "class_names = ['Hate Speech', 'Non Hatespeech']\n",
    "\n",
    "# Convert confusion matrix to DataFrame\n",
    "cm_df = pd.DataFrame(cm, index=class_names, columns=class_names).reset_index().melt(id_vars='index')\n",
    "cm_df.columns = ['True', 'Predicted', 'Count']\n",
    "\n",
    "# Ensure the order of categories\n",
    "cm_df['True'] = pd.Categorical(cm_df['True'], categories=class_names, ordered=True)\n",
    "cm_df['Predicted'] = pd.Categorical(cm_df['Predicted'], categories=class_names, ordered=True)\n",
    "\n",
    "# Create the Altair plot\n",
    "heatmap = alt.Chart(cm_df).mark_rect().encode(\n",
    "    x=alt.X('Predicted:O', sort=class_names),\n",
    "    y=alt.Y('True:O', sort=class_names),\n",
    "    color='Count:Q',\n",
    "    tooltip=['True', 'Predicted', 'Count']\n",
    ").properties(\n",
    "    width=400,\n",
    "    height=300,\n",
    "    title='5 Blending-1 LR'\n",
    ")\n",
    "\n",
    "# Add text labels\n",
    "text = heatmap.mark_text(\n",
    "    align='center',\n",
    "    baseline='middle',\n",
    "    fontSize=12\n",
    ").encode(\n",
    "    text='Count:Q',\n",
    "    color=alt.condition(\n",
    "        alt.datum.Count > cm.max() / 2,\n",
    "        alt.value('white'),\n",
    "        alt.value('black')\n",
    "    )\n",
    ")\n",
    "\n",
    "# Combine heatmap and text\n",
    "final_chart = heatmap + text\n",
    "\n",
    "# Display the plot\n",
    "final_chart.show()"
   ]
  },
  {
   "cell_type": "code",
   "execution_count": 35,
   "id": "4c84bccf-bca1-4687-a5c4-cbaba95eaefb",
   "metadata": {
    "execution": {
     "iopub.execute_input": "2024-08-20T09:36:28.292411Z",
     "iopub.status.busy": "2024-08-20T09:36:28.292336Z",
     "iopub.status.idle": "2024-08-20T09:36:28.659243Z",
     "shell.execute_reply": "2024-08-20T09:36:28.658959Z",
     "shell.execute_reply.started": "2024-08-20T09:36:28.292403Z"
    }
   },
   "outputs": [
    {
     "name": "stdout",
     "output_type": "stream",
     "text": [
      "Plot saved to Results/Ensemble Model Results/On Hatespeech dataset/OH Using HS_Finetuned Models/Blending/5B-1 LR.png\n"
     ]
    }
   ],
   "source": [
    "\n",
    "# Specify the folder path\n",
    "folder_path = os.path.expanduser('Results/Ensemble Model Results/On Hatespeech dataset/OH Using HS_Finetuned Models/Blending/')\n",
    "\n",
    "# Save the plot using vl-convert\n",
    "file_path_png = os.path.join(folder_path, '5B-1 LR.png')\n",
    "final_chart.save(file_path_png)\n",
    "\n",
    "print(f\"Plot saved to {file_path_png}\")"
   ]
  },
  {
   "cell_type": "markdown",
   "id": "b3649998-d30c-429a-9cc5-db6259d6c39e",
   "metadata": {},
   "source": [
    "### NB"
   ]
  },
  {
   "cell_type": "code",
   "execution_count": 36,
   "id": "88863a6c-c113-4347-84ed-3ef930aeaba4",
   "metadata": {
    "execution": {
     "iopub.execute_input": "2024-08-20T09:36:28.659864Z",
     "iopub.status.busy": "2024-08-20T09:36:28.659751Z",
     "iopub.status.idle": "2024-08-20T09:36:28.664876Z",
     "shell.execute_reply": "2024-08-20T09:36:28.664660Z",
     "shell.execute_reply.started": "2024-08-20T09:36:28.659857Z"
    }
   },
   "outputs": [
    {
     "name": "stdout",
     "output_type": "stream",
     "text": [
      "Naive Bayes\n",
      "Accuracy: 0.7964\n",
      "Precision: 0.7725\n",
      "Recall: 0.7977\n",
      "F1 Score: 0.7849\n",
      "Confusion Matrix:\n",
      " [[785 202]\n",
      " [174 686]]\n"
     ]
    }
   ],
   "source": [
    "# Calculate metrics\n",
    "accuracy = accuracy_score(true_labels, nb_validation_predictions)\n",
    "precision = precision_score(true_labels, nb_validation_predictions, average='binary')\n",
    "recall = recall_score(true_labels, nb_validation_predictions, average='binary')\n",
    "f1 = f1_score(true_labels, nb_validation_predictions, average='binary')\n",
    "conf_matrix = confusion_matrix(true_labels, nb_validation_predictions)\n",
    "\n",
    "# Print the metrics\n",
    "print(\"Naive Bayes\")\n",
    "print(f\"Accuracy: {accuracy:.4f}\")\n",
    "print(f\"Precision: {precision:.4f}\")\n",
    "print(f\"Recall: {recall:.4f}\")\n",
    "print(f\"F1 Score: {f1:.4f}\")\n",
    "print(\"Confusion Matrix:\\n\", conf_matrix)"
   ]
  },
  {
   "cell_type": "code",
   "execution_count": 37,
   "id": "4166d76b-60b8-490c-a425-70e228e99c88",
   "metadata": {
    "execution": {
     "iopub.execute_input": "2024-08-20T09:36:28.665341Z",
     "iopub.status.busy": "2024-08-20T09:36:28.665274Z",
     "iopub.status.idle": "2024-08-20T09:36:28.730859Z",
     "shell.execute_reply": "2024-08-20T09:36:28.730562Z",
     "shell.execute_reply.started": "2024-08-20T09:36:28.665335Z"
    }
   },
   "outputs": [
    {
     "data": {
      "image/png": "[encoded data removed]",
      "text/plain": [
       "<Figure size 640x480 with 1 Axes>"
      ]
     },
     "metadata": {},
     "output_type": "display_data"
    }
   ],
   "source": [
    "# Get probability scores for the positive class\n",
    "nb_prob_scores = nb_meta_classifier.predict_proba(validation_meta_features)[:, 1]\n",
    "\n",
    "import matplotlib.pyplot as plt\n",
    "\n",
    "# Plot the distribution of predicted probabilities\n",
    "plt.hist(nb_prob_scores, bins=50, alpha=0.75)\n",
    "plt.title('Distribution of Predicted Probabilities (NB)')\n",
    "plt.xlabel('Probability of Positive Class')\n",
    "plt.ylabel('Frequency')\n",
    "plt.show()"
   ]
  },
  {
   "cell_type": "markdown",
   "id": "5e2169b1-2326-484e-afab-e8f5bc9110cd",
   "metadata": {},
   "source": [
    "#### Optimized NB"
   ]
  },
  {
   "cell_type": "code",
   "execution_count": 38,
   "id": "48adaca5-619e-4e11-8720-4624e78f7d01",
   "metadata": {
    "execution": {
     "iopub.execute_input": "2024-08-20T09:36:28.731316Z",
     "iopub.status.busy": "2024-08-20T09:36:28.731236Z",
     "iopub.status.idle": "2024-08-20T09:36:28.737131Z",
     "shell.execute_reply": "2024-08-20T09:36:28.736872Z",
     "shell.execute_reply.started": "2024-08-20T09:36:28.731308Z"
    }
   },
   "outputs": [
    {
     "name": "stdout",
     "output_type": "stream",
     "text": [
      "Optimized Naive Bayes\n",
      "Precision: 0.7562\n",
      "Recall: 0.8477\n",
      "Accuracy: 0.8018\n",
      "F1 Score: 0.7993\n",
      "Confusion Matrix:\n",
      "[[752 235]\n",
      " [131 729]]\n"
     ]
    }
   ],
   "source": [
    "# Apply the new threshold\n",
    "adjusted_predictions = (nb_prob_scores >= nb_thresh).astype(int)\n",
    "\n",
    "# Evaluate with the new threshold\n",
    "adjusted_precision = precision_score(true_labels, adjusted_predictions, average='binary')\n",
    "adjusted_recall = recall_score(true_labels, adjusted_predictions, average='binary')\n",
    "adjusted_accuracy = accuracy_score(true_labels, adjusted_predictions)\n",
    "adjusted_f1 = f1_score(true_labels, adjusted_predictions, average='binary')\n",
    "adjusted_conf_matrix = confusion_matrix(true_labels, adjusted_predictions)\n",
    "\n",
    "print(\"Optimized Naive Bayes\")\n",
    "print(f\"Precision: {adjusted_precision:.4f}\")\n",
    "print(f\"Recall: {adjusted_recall:.4f}\")\n",
    "print(f\"Accuracy: {adjusted_accuracy:.4f}\")\n",
    "print(f\"F1 Score: {adjusted_f1:.4f}\")\n",
    "print(\"Confusion Matrix:\")\n",
    "print(adjusted_conf_matrix)"
   ]
  },
  {
   "cell_type": "code",
   "execution_count": 39,
   "id": "3385f279-f825-4037-b938-5ce665e1c933",
   "metadata": {
    "execution": {
     "iopub.execute_input": "2024-08-20T09:36:28.737605Z",
     "iopub.status.busy": "2024-08-20T09:36:28.737525Z",
     "iopub.status.idle": "2024-08-20T09:36:29.116626Z",
     "shell.execute_reply": "2024-08-20T09:36:29.115519Z",
     "shell.execute_reply.started": "2024-08-20T09:36:28.737598Z"
    }
   },
   "outputs": [
    {
     "name": "stdout",
     "output_type": "stream",
     "text": [
      "Updated cells count: 4\n"
     ]
    }
   ],
   "source": [
    "# SAVE TO GOOGLE SHEET\n",
    "\n",
    "# Define the range and values to update\n",
    "range_name = '5-1!F9:I9'  \n",
    "\n",
    "values = [[\n",
    "    f\"{adjusted_precision * 100:.2f}\",\n",
    "    f\"{adjusted_recall * 100:.2f}\",\n",
    "    f\"{adjusted_accuracy * 100:.2f}\",\n",
    "    f\"{adjusted_f1 * 100:.2f}\"\n",
    "]]\n",
    "\n",
    "# Prepare the request body\n",
    "body = {\n",
    "    'values': values\n",
    "}\n",
    "\n",
    "# Call the Sheets API to update the values\n",
    "result = service.spreadsheets().values().update(\n",
    "    spreadsheetId=spreadsheet_id, \n",
    "    range=range_name,\n",
    "    valueInputOption='USER_ENTERED',\n",
    "    body=body\n",
    ").execute()\n",
    "\n",
    "print('Updated cells count:', result.get('updatedCells'))"
   ]
  },
  {
   "cell_type": "markdown",
   "id": "713bd6ec-92aa-4870-ac78-885d8932f907",
   "metadata": {},
   "source": [
    "#### Save Confusion Matrix"
   ]
  },
  {
   "cell_type": "code",
   "execution_count": 40,
   "id": "cce31e47-a2e4-4178-869e-59b4c7fdf968",
   "metadata": {
    "execution": {
     "iopub.execute_input": "2024-08-20T09:36:29.119899Z",
     "iopub.status.busy": "2024-08-20T09:36:29.119314Z",
     "iopub.status.idle": "2024-08-20T09:36:29.160716Z",
     "shell.execute_reply": "2024-08-20T09:36:29.160360Z",
     "shell.execute_reply.started": "2024-08-20T09:36:29.119870Z"
    }
   },
   "outputs": [
    {
     "data": {
      "text/html": [
       "\n",
       "<style>\n",
       "  #altair-viz-9524391cb25945ed84db374292ac1f59.vega-embed {\n",
       "    width: 100%;\n",
       "    display: flex;\n",
       "  }\n",
       "\n",
       "  #altair-viz-9524391cb25945ed84db374292ac1f59.vega-embed details,\n",
       "  #altair-viz-9524391cb25945ed84db374292ac1f59.vega-embed details summary {\n",
       "    position: relative;\n",
       "  }\n",
       "</style>\n",
       "<div id=\"altair-viz-9524391cb25945ed84db374292ac1f59\"></div>\n",
       "<script type=\"text/javascript\">\n",
       "  var VEGA_DEBUG = (typeof VEGA_DEBUG == \"undefined\") ? {} : VEGA_DEBUG;\n",
       "  (function(spec, embedOpt){\n",
       "    let outputDiv = document.currentScript.previousElementSibling;\n",
       "    if (outputDiv.id !== \"altair-viz-9524391cb25945ed84db374292ac1f59\") {\n",
       "      outputDiv = document.getElementById(\"altair-viz-9524391cb25945ed84db374292ac1f59\");\n",
       "    }\n",
       "    const paths = {\n",
       "      \"vega\": \"https://cdn.jsdelivr.net/npm/vega@5?noext\",\n",
       "      \"vega-lib\": \"https://cdn.jsdelivr.net/npm/vega-lib?noext\",\n",
       "      \"vega-lite\": \"https://cdn.jsdelivr.net/npm/vega-lite@5.17.0?noext\",\n",
       "      \"vega-embed\": \"https://cdn.jsdelivr.net/npm/vega-embed@6?noext\",\n",
       "    };\n",
       "\n",
       "    function maybeLoadScript(lib, version) {\n",
       "      var key = `${lib.replace(\"-\", \"\")}_version`;\n",
       "      return (VEGA_DEBUG[key] == version) ?\n",
       "        Promise.resolve(paths[lib]) :\n",
       "        new Promise(function(resolve, reject) {\n",
       "          var s = document.createElement('script');\n",
       "          document.getElementsByTagName(\"head\")[0].appendChild(s);\n",
       "          s.async = true;\n",
       "          s.onload = () => {\n",
       "            VEGA_DEBUG[key] = version;\n",
       "            return resolve(paths[lib]);\n",
       "          };\n",
       "          s.onerror = () => reject(`Error loading script: ${paths[lib]}`);\n",
       "          s.src = paths[lib];\n",
       "        });\n",
       "    }\n",
       "\n",
       "    function showError(err) {\n",
       "      outputDiv.innerHTML = `<div class=\"error\" style=\"color:red;\">${err}</div>`;\n",
       "      throw err;\n",
       "    }\n",
       "\n",
       "    function displayChart(vegaEmbed) {\n",
       "      vegaEmbed(outputDiv, spec, embedOpt)\n",
       "        .catch(err => showError(`Javascript Error: ${err.message}<br>This usually means there's a typo in your chart specification. See the javascript console for the full traceback.`));\n",
       "    }\n",
       "\n",
       "    if(typeof define === \"function\" && define.amd) {\n",
       "      requirejs.config({paths});\n",
       "      require([\"vega-embed\"], displayChart, err => showError(`Error loading script: ${err.message}`));\n",
       "    } else {\n",
       "      maybeLoadScript(\"vega\", \"5\")\n",
       "        .then(() => maybeLoadScript(\"vega-lite\", \"5.17.0\"))\n",
       "        .then(() => maybeLoadScript(\"vega-embed\", \"6\"))\n",
       "        .catch(showError)\n",
       "        .then(() => displayChart(vegaEmbed));\n",
       "    }\n",
       "  })({\"config\": {\"view\": {\"continuousWidth\": 300, \"continuousHeight\": 300}}, \"layer\": [{\"mark\": {\"type\": \"rect\"}, \"encoding\": {\"color\": {\"field\": \"Count\", \"type\": \"quantitative\"}, \"tooltip\": [{\"field\": \"True\", \"type\": \"ordinal\"}, {\"field\": \"Predicted\", \"type\": \"ordinal\"}, {\"field\": \"Count\", \"type\": \"quantitative\"}], \"x\": {\"field\": \"Predicted\", \"sort\": [\"Hate Speech\", \"Non Hatespeech\"], \"type\": \"ordinal\"}, \"y\": {\"field\": \"True\", \"sort\": [\"Hate Speech\", \"Non Hatespeech\"], \"type\": \"ordinal\"}}, \"title\": \"5 Blending-1 NB\"}, {\"mark\": {\"type\": \"text\", \"align\": \"center\", \"baseline\": \"middle\", \"fontSize\": 12}, \"encoding\": {\"color\": {\"condition\": {\"test\": \"(datum.Count > 376.0)\", \"value\": \"white\"}, \"value\": \"black\"}, \"text\": {\"field\": \"Count\", \"type\": \"quantitative\"}, \"tooltip\": [{\"field\": \"True\", \"type\": \"ordinal\"}, {\"field\": \"Predicted\", \"type\": \"ordinal\"}, {\"field\": \"Count\", \"type\": \"quantitative\"}], \"x\": {\"field\": \"Predicted\", \"sort\": [\"Hate Speech\", \"Non Hatespeech\"], \"type\": \"ordinal\"}, \"y\": {\"field\": \"True\", \"sort\": [\"Hate Speech\", \"Non Hatespeech\"], \"type\": \"ordinal\"}}, \"title\": \"5 Blending-1 NB\"}], \"data\": {\"name\": \"data-b9a11689ae95f2fce6fc0688a79430df\"}, \"height\": 300, \"width\": 400, \"$schema\": \"https://vega.github.io/schema/vega-lite/v5.17.0.json\", \"datasets\": {\"data-b9a11689ae95f2fce6fc0688a79430df\": [{\"True\": \"Hate Speech\", \"Predicted\": \"Hate Speech\", \"Count\": 752}, {\"True\": \"Non Hatespeech\", \"Predicted\": \"Hate Speech\", \"Count\": 131}, {\"True\": \"Hate Speech\", \"Predicted\": \"Non Hatespeech\", \"Count\": 235}, {\"True\": \"Non Hatespeech\", \"Predicted\": \"Non Hatespeech\", \"Count\": 729}]}}, {\"mode\": \"vega-lite\"});\n",
       "</script>"
      ],
      "text/plain": [
       "alt.LayerChart(...)"
      ]
     },
     "metadata": {},
     "output_type": "display_data"
    }
   ],
   "source": [
    "import altair as alt\n",
    "import pandas as pd\n",
    "from sklearn.metrics import confusion_matrix\n",
    "\n",
    "# Calculate the confusion matrix\n",
    "cm = confusion_matrix(true_labels, adjusted_predictions)\n",
    "\n",
    "# Define class names\n",
    "class_names = ['Hate Speech', 'Non Hatespeech']\n",
    "\n",
    "# Convert confusion matrix to DataFrame\n",
    "cm_df = pd.DataFrame(cm, index=class_names, columns=class_names).reset_index().melt(id_vars='index')\n",
    "cm_df.columns = ['True', 'Predicted', 'Count']\n",
    "\n",
    "# Ensure the order of categories\n",
    "cm_df['True'] = pd.Categorical(cm_df['True'], categories=class_names, ordered=True)\n",
    "cm_df['Predicted'] = pd.Categorical(cm_df['Predicted'], categories=class_names, ordered=True)\n",
    "\n",
    "# Create the Altair plot\n",
    "heatmap = alt.Chart(cm_df).mark_rect().encode(\n",
    "    x=alt.X('Predicted:O', sort=class_names),\n",
    "    y=alt.Y('True:O', sort=class_names),\n",
    "    color='Count:Q',\n",
    "    tooltip=['True', 'Predicted', 'Count']\n",
    ").properties(\n",
    "    width=400,\n",
    "    height=300,\n",
    "    title='5 Blending-1 NB'\n",
    ")\n",
    "\n",
    "# Add text labels\n",
    "text = heatmap.mark_text(\n",
    "    align='center',\n",
    "    baseline='middle',\n",
    "    fontSize=12\n",
    ").encode(\n",
    "    text='Count:Q',\n",
    "    color=alt.condition(\n",
    "        alt.datum.Count > cm.max() / 2,\n",
    "        alt.value('white'),\n",
    "        alt.value('black')\n",
    "    )\n",
    ")\n",
    "\n",
    "# Combine heatmap and text\n",
    "final_chart = heatmap + text\n",
    "\n",
    "# Display the plot\n",
    "final_chart.show()"
   ]
  },
  {
   "cell_type": "code",
   "execution_count": 41,
   "id": "81f17b08-bd45-4091-aa78-efa4bad633d2",
   "metadata": {
    "execution": {
     "iopub.execute_input": "2024-08-20T09:36:29.161326Z",
     "iopub.status.busy": "2024-08-20T09:36:29.161227Z",
     "iopub.status.idle": "2024-08-20T09:36:29.201190Z",
     "shell.execute_reply": "2024-08-20T09:36:29.200847Z",
     "shell.execute_reply.started": "2024-08-20T09:36:29.161318Z"
    }
   },
   "outputs": [
    {
     "name": "stdout",
     "output_type": "stream",
     "text": [
      "Plot saved to Results/Ensemble Model Results/On Hatespeech dataset/OH Using HS_Finetuned Models/Blending/5B-1 NB.png\n"
     ]
    }
   ],
   "source": [
    "# Specify the folder path\n",
    "folder_path = os.path.expanduser('Results/Ensemble Model Results/On Hatespeech dataset/OH Using HS_Finetuned Models/Blending/')\n",
    "\n",
    "# Save the plot using vl-convert\n",
    "file_path_png = os.path.join(folder_path, '5B-1 NB.png')\n",
    "final_chart.save(file_path_png)\n",
    "\n",
    "print(f\"Plot saved to {file_path_png}\")"
   ]
  },
  {
   "cell_type": "markdown",
   "id": "1f2d3e3d-90ee-45fd-9934-756f226ee6e1",
   "metadata": {},
   "source": [
    "### DT"
   ]
  },
  {
   "cell_type": "code",
   "execution_count": 42,
   "id": "e549350b-ed54-4425-a913-7401ec7d676e",
   "metadata": {
    "execution": {
     "iopub.execute_input": "2024-08-20T09:36:29.201758Z",
     "iopub.status.busy": "2024-08-20T09:36:29.201674Z",
     "iopub.status.idle": "2024-08-20T09:36:29.207810Z",
     "shell.execute_reply": "2024-08-20T09:36:29.207542Z",
     "shell.execute_reply.started": "2024-08-20T09:36:29.201750Z"
    }
   },
   "outputs": [
    {
     "name": "stdout",
     "output_type": "stream",
     "text": [
      "Decision Tree\n",
      "Accuracy: 0.6909\n",
      "Precision: 0.6636\n",
      "Recall: 0.6814\n",
      "F1 Score: 0.6724\n",
      "Confusion Matrix:\n",
      " [[690 297]\n",
      " [274 586]]\n"
     ]
    }
   ],
   "source": [
    "# Calculate metrics\n",
    "accuracy = accuracy_score(true_labels, dt_validation_predictions)\n",
    "precision = precision_score(true_labels, dt_validation_predictions, average='binary')\n",
    "recall = recall_score(true_labels, dt_validation_predictions, average='binary')\n",
    "f1 = f1_score(true_labels, dt_validation_predictions, average='binary')\n",
    "conf_matrix = confusion_matrix(true_labels, dt_validation_predictions)\n",
    "\n",
    "# Print the metrics\n",
    "print(\"Decision Tree\")\n",
    "print(f\"Accuracy: {accuracy:.4f}\")\n",
    "print(f\"Precision: {precision:.4f}\")\n",
    "print(f\"Recall: {recall:.4f}\")\n",
    "print(f\"F1 Score: {f1:.4f}\")\n",
    "print(\"Confusion Matrix:\\n\", conf_matrix)"
   ]
  },
  {
   "cell_type": "code",
   "execution_count": 43,
   "id": "96165c7f-bc84-4766-ad7a-94ed842fe19f",
   "metadata": {
    "execution": {
     "iopub.execute_input": "2024-08-20T09:36:29.208352Z",
     "iopub.status.busy": "2024-08-20T09:36:29.208235Z",
     "iopub.status.idle": "2024-08-20T09:36:29.272395Z",
     "shell.execute_reply": "2024-08-20T09:36:29.272066Z",
     "shell.execute_reply.started": "2024-08-20T09:36:29.208344Z"
    }
   },
   "outputs": [
    {
     "data": {
      "image/png": "[encoded data removed]",
      "text/plain": [
       "<Figure size 640x480 with 1 Axes>"
      ]
     },
     "metadata": {},
     "output_type": "display_data"
    }
   ],
   "source": [
    "# Get probability scores for the positive class\n",
    "dt_prob_scores = dt_meta_classifier.predict_proba(validation_meta_features)[:, 1]\n",
    "\n",
    "import matplotlib.pyplot as plt\n",
    "\n",
    "# Plot the distribution of predicted probabilities\n",
    "plt.hist(dt_prob_scores, bins=50, alpha=0.75)\n",
    "plt.title('Distribution of Predicted Probabilities (DT)')\n",
    "plt.xlabel('Probability of Positive Class')\n",
    "plt.ylabel('Frequency')\n",
    "plt.show()"
   ]
  },
  {
   "cell_type": "markdown",
   "id": "12fd4d69-bbe3-49a2-adc7-5797413066a0",
   "metadata": {},
   "source": [
    "#### Optimized DT"
   ]
  },
  {
   "cell_type": "code",
   "execution_count": 44,
   "id": "402e240b-712d-491a-9cfb-18f050dc8e10",
   "metadata": {
    "execution": {
     "iopub.execute_input": "2024-08-20T09:36:29.272834Z",
     "iopub.status.busy": "2024-08-20T09:36:29.272758Z",
     "iopub.status.idle": "2024-08-20T09:36:29.278964Z",
     "shell.execute_reply": "2024-08-20T09:36:29.278700Z",
     "shell.execute_reply.started": "2024-08-20T09:36:29.272827Z"
    }
   },
   "outputs": [
    {
     "name": "stdout",
     "output_type": "stream",
     "text": [
      "Optimized Decision Tree\n",
      "Precision: 0.6636\n",
      "Recall: 0.6814\n",
      "Accuracy: 0.6909\n",
      "F1 Score: 0.6724\n",
      "Confusion Matrix:\n",
      "[[690 297]\n",
      " [274 586]]\n"
     ]
    }
   ],
   "source": [
    "# Apply the new threshold\n",
    "adjusted_predictions = (dt_prob_scores >= dt_thresh).astype(int)\n",
    "\n",
    "# Evaluate with the new threshold\n",
    "adjusted_precision = precision_score(true_labels, adjusted_predictions, average='binary')\n",
    "adjusted_recall = recall_score(true_labels, adjusted_predictions, average='binary')\n",
    "adjusted_accuracy = accuracy_score(true_labels, adjusted_predictions)\n",
    "adjusted_f1 = f1_score(true_labels, adjusted_predictions, average='binary')\n",
    "adjusted_conf_matrix = confusion_matrix(true_labels, adjusted_predictions)\n",
    "\n",
    "print(\"Optimized Decision Tree\")\n",
    "print(f\"Precision: {adjusted_precision:.4f}\")\n",
    "print(f\"Recall: {adjusted_recall:.4f}\")\n",
    "print(f\"Accuracy: {adjusted_accuracy:.4f}\")\n",
    "print(f\"F1 Score: {adjusted_f1:.4f}\")\n",
    "print(\"Confusion Matrix:\")\n",
    "print(adjusted_conf_matrix)"
   ]
  },
  {
   "cell_type": "code",
   "execution_count": 45,
   "id": "9a8b1491-a04a-4b41-8964-146b60f0a3bd",
   "metadata": {
    "execution": {
     "iopub.execute_input": "2024-08-20T09:36:29.279443Z",
     "iopub.status.busy": "2024-08-20T09:36:29.279378Z",
     "iopub.status.idle": "2024-08-20T09:36:29.733978Z",
     "shell.execute_reply": "2024-08-20T09:36:29.732795Z",
     "shell.execute_reply.started": "2024-08-20T09:36:29.279436Z"
    }
   },
   "outputs": [
    {
     "name": "stdout",
     "output_type": "stream",
     "text": [
      "Updated cells count: 4\n"
     ]
    }
   ],
   "source": [
    "# SAVE TO GOOGLE SHEET\n",
    "\n",
    "# Define the range and values to update\n",
    "range_name = '5-1!F10:I10'  \n",
    "\n",
    "values = [[\n",
    "    f\"{adjusted_precision * 100:.2f}\",\n",
    "    f\"{adjusted_recall * 100:.2f}\",\n",
    "    f\"{adjusted_accuracy * 100:.2f}\",\n",
    "    f\"{adjusted_f1 * 100:.2f}\"\n",
    "]]\n",
    "\n",
    "# Prepare the request body\n",
    "body = {\n",
    "    'values': values\n",
    "}\n",
    "\n",
    "# Call the Sheets API to update the values\n",
    "result = service.spreadsheets().values().update(\n",
    "    spreadsheetId=spreadsheet_id, \n",
    "    range=range_name,\n",
    "    valueInputOption='USER_ENTERED',\n",
    "    body=body\n",
    ").execute()\n",
    "\n",
    "print('Updated cells count:', result.get('updatedCells'))"
   ]
  },
  {
   "cell_type": "markdown",
   "id": "3b80cdde-08b4-45bf-8a7f-9e042d310d28",
   "metadata": {},
   "source": [
    "#### Save Confusion Matrix"
   ]
  },
  {
   "cell_type": "code",
   "execution_count": 46,
   "id": "132bbe60-3e4d-42ba-a631-5518a8fc5ccc",
   "metadata": {
    "execution": {
     "iopub.execute_input": "2024-08-20T09:36:29.735783Z",
     "iopub.status.busy": "2024-08-20T09:36:29.735506Z",
     "iopub.status.idle": "2024-08-20T09:36:29.897444Z",
     "shell.execute_reply": "2024-08-20T09:36:29.897105Z",
     "shell.execute_reply.started": "2024-08-20T09:36:29.735761Z"
    }
   },
   "outputs": [
    {
     "data": {
      "text/html": [
       "\n",
       "<style>\n",
       "  #altair-viz-c52e4f673e46444d9070357f894e15e8.vega-embed {\n",
       "    width: 100%;\n",
       "    display: flex;\n",
       "  }\n",
       "\n",
       "  #altair-viz-c52e4f673e46444d9070357f894e15e8.vega-embed details,\n",
       "  #altair-viz-c52e4f673e46444d9070357f894e15e8.vega-embed details summary {\n",
       "    position: relative;\n",
       "  }\n",
       "</style>\n",
       "<div id=\"altair-viz-c52e4f673e46444d9070357f894e15e8\"></div>\n",
       "<script type=\"text/javascript\">\n",
       "  var VEGA_DEBUG = (typeof VEGA_DEBUG == \"undefined\") ? {} : VEGA_DEBUG;\n",
       "  (function(spec, embedOpt){\n",
       "    let outputDiv = document.currentScript.previousElementSibling;\n",
       "    if (outputDiv.id !== \"altair-viz-c52e4f673e46444d9070357f894e15e8\") {\n",
       "      outputDiv = document.getElementById(\"altair-viz-c52e4f673e46444d9070357f894e15e8\");\n",
       "    }\n",
       "    const paths = {\n",
       "      \"vega\": \"https://cdn.jsdelivr.net/npm/vega@5?noext\",\n",
       "      \"vega-lib\": \"https://cdn.jsdelivr.net/npm/vega-lib?noext\",\n",
       "      \"vega-lite\": \"https://cdn.jsdelivr.net/npm/vega-lite@5.17.0?noext\",\n",
       "      \"vega-embed\": \"https://cdn.jsdelivr.net/npm/vega-embed@6?noext\",\n",
       "    };\n",
       "\n",
       "    function maybeLoadScript(lib, version) {\n",
       "      var key = `${lib.replace(\"-\", \"\")}_version`;\n",
       "      return (VEGA_DEBUG[key] == version) ?\n",
       "        Promise.resolve(paths[lib]) :\n",
       "        new Promise(function(resolve, reject) {\n",
       "          var s = document.createElement('script');\n",
       "          document.getElementsByTagName(\"head\")[0].appendChild(s);\n",
       "          s.async = true;\n",
       "          s.onload = () => {\n",
       "            VEGA_DEBUG[key] = version;\n",
       "            return resolve(paths[lib]);\n",
       "          };\n",
       "          s.onerror = () => reject(`Error loading script: ${paths[lib]}`);\n",
       "          s.src = paths[lib];\n",
       "        });\n",
       "    }\n",
       "\n",
       "    function showError(err) {\n",
       "      outputDiv.innerHTML = `<div class=\"error\" style=\"color:red;\">${err}</div>`;\n",
       "      throw err;\n",
       "    }\n",
       "\n",
       "    function displayChart(vegaEmbed) {\n",
       "      vegaEmbed(outputDiv, spec, embedOpt)\n",
       "        .catch(err => showError(`Javascript Error: ${err.message}<br>This usually means there's a typo in your chart specification. See the javascript console for the full traceback.`));\n",
       "    }\n",
       "\n",
       "    if(typeof define === \"function\" && define.amd) {\n",
       "      requirejs.config({paths});\n",
       "      require([\"vega-embed\"], displayChart, err => showError(`Error loading script: ${err.message}`));\n",
       "    } else {\n",
       "      maybeLoadScript(\"vega\", \"5\")\n",
       "        .then(() => maybeLoadScript(\"vega-lite\", \"5.17.0\"))\n",
       "        .then(() => maybeLoadScript(\"vega-embed\", \"6\"))\n",
       "        .catch(showError)\n",
       "        .then(() => displayChart(vegaEmbed));\n",
       "    }\n",
       "  })({\"config\": {\"view\": {\"continuousWidth\": 300, \"continuousHeight\": 300}}, \"layer\": [{\"mark\": {\"type\": \"rect\"}, \"encoding\": {\"color\": {\"field\": \"Count\", \"type\": \"quantitative\"}, \"tooltip\": [{\"field\": \"True\", \"type\": \"ordinal\"}, {\"field\": \"Predicted\", \"type\": \"ordinal\"}, {\"field\": \"Count\", \"type\": \"quantitative\"}], \"x\": {\"field\": \"Predicted\", \"sort\": [\"Hate Speech\", \"Non Hatespeech\"], \"type\": \"ordinal\"}, \"y\": {\"field\": \"True\", \"sort\": [\"Hate Speech\", \"Non Hatespeech\"], \"type\": \"ordinal\"}}, \"title\": \"5 Blending-1 DT\"}, {\"mark\": {\"type\": \"text\", \"align\": \"center\", \"baseline\": \"middle\", \"fontSize\": 12}, \"encoding\": {\"color\": {\"condition\": {\"test\": \"(datum.Count > 345.0)\", \"value\": \"white\"}, \"value\": \"black\"}, \"text\": {\"field\": \"Count\", \"type\": \"quantitative\"}, \"tooltip\": [{\"field\": \"True\", \"type\": \"ordinal\"}, {\"field\": \"Predicted\", \"type\": \"ordinal\"}, {\"field\": \"Count\", \"type\": \"quantitative\"}], \"x\": {\"field\": \"Predicted\", \"sort\": [\"Hate Speech\", \"Non Hatespeech\"], \"type\": \"ordinal\"}, \"y\": {\"field\": \"True\", \"sort\": [\"Hate Speech\", \"Non Hatespeech\"], \"type\": \"ordinal\"}}, \"title\": \"5 Blending-1 DT\"}], \"data\": {\"name\": \"data-e37c2f9e4cc2fe11de1a3f38ead794ac\"}, \"height\": 300, \"width\": 400, \"$schema\": \"https://vega.github.io/schema/vega-lite/v5.17.0.json\", \"datasets\": {\"data-e37c2f9e4cc2fe11de1a3f38ead794ac\": [{\"True\": \"Hate Speech\", \"Predicted\": \"Hate Speech\", \"Count\": 690}, {\"True\": \"Non Hatespeech\", \"Predicted\": \"Hate Speech\", \"Count\": 274}, {\"True\": \"Hate Speech\", \"Predicted\": \"Non Hatespeech\", \"Count\": 297}, {\"True\": \"Non Hatespeech\", \"Predicted\": \"Non Hatespeech\", \"Count\": 586}]}}, {\"mode\": \"vega-lite\"});\n",
       "</script>"
      ],
      "text/plain": [
       "alt.LayerChart(...)"
      ]
     },
     "metadata": {},
     "output_type": "display_data"
    }
   ],
   "source": [
    "import altair as alt\n",
    "import pandas as pd\n",
    "from sklearn.metrics import confusion_matrix\n",
    "\n",
    "# Calculate the confusion matrix\n",
    "cm = confusion_matrix(true_labels, adjusted_predictions)\n",
    "\n",
    "# Define class names\n",
    "class_names = ['Hate Speech', 'Non Hatespeech']\n",
    "\n",
    "# Convert confusion matrix to DataFrame\n",
    "cm_df = pd.DataFrame(cm, index=class_names, columns=class_names).reset_index().melt(id_vars='index')\n",
    "cm_df.columns = ['True', 'Predicted', 'Count']\n",
    "\n",
    "# Ensure the order of categories\n",
    "cm_df['True'] = pd.Categorical(cm_df['True'], categories=class_names, ordered=True)\n",
    "cm_df['Predicted'] = pd.Categorical(cm_df['Predicted'], categories=class_names, ordered=True)\n",
    "\n",
    "# Create the Altair plot\n",
    "heatmap = alt.Chart(cm_df).mark_rect().encode(\n",
    "    x=alt.X('Predicted:O', sort=class_names),\n",
    "    y=alt.Y('True:O', sort=class_names),\n",
    "    color='Count:Q',\n",
    "    tooltip=['True', 'Predicted', 'Count']\n",
    ").properties(\n",
    "    width=400,\n",
    "    height=300,\n",
    "    title='5 Blending-1 DT'\n",
    ")\n",
    "\n",
    "# Add text labels\n",
    "text = heatmap.mark_text(\n",
    "    align='center',\n",
    "    baseline='middle',\n",
    "    fontSize=12\n",
    ").encode(\n",
    "    text='Count:Q',\n",
    "    color=alt.condition(\n",
    "        alt.datum.Count > cm.max() / 2,\n",
    "        alt.value('white'),\n",
    "        alt.value('black')\n",
    "    )\n",
    ")\n",
    "\n",
    "# Combine heatmap and text\n",
    "final_chart = heatmap + text\n",
    "\n",
    "# Display the plot\n",
    "final_chart.show()"
   ]
  },
  {
   "cell_type": "code",
   "execution_count": 47,
   "id": "fd980aa3-972b-4c5a-bcff-db353c916d50",
   "metadata": {
    "execution": {
     "iopub.execute_input": "2024-08-20T09:36:29.898037Z",
     "iopub.status.busy": "2024-08-20T09:36:29.897947Z",
     "iopub.status.idle": "2024-08-20T09:36:29.938890Z",
     "shell.execute_reply": "2024-08-20T09:36:29.938560Z",
     "shell.execute_reply.started": "2024-08-20T09:36:29.898029Z"
    }
   },
   "outputs": [
    {
     "name": "stdout",
     "output_type": "stream",
     "text": [
      "Plot saved to Results/Ensemble Model Results/On Hatespeech dataset/OH Using HS_Finetuned Models/Blending/5B-1 DT.png\n"
     ]
    }
   ],
   "source": [
    "# Specify the folder path\n",
    "folder_path = os.path.expanduser('Results/Ensemble Model Results/On Hatespeech dataset/OH Using HS_Finetuned Models/Blending/')\n",
    "\n",
    "# Save the plot using vl-convert\n",
    "file_path_png = os.path.join(folder_path, '5B-1 DT.png')\n",
    "final_chart.save(file_path_png)\n",
    "\n",
    "print(f\"Plot saved to {file_path_png}\")"
   ]
  },
  {
   "cell_type": "markdown",
   "id": "617d6721-27ff-4989-98c9-63c9f5bf6017",
   "metadata": {},
   "source": [
    "### SVM"
   ]
  },
  {
   "cell_type": "code",
   "execution_count": 48,
   "id": "a09fcca8-2569-41cd-b218-d4d368329c02",
   "metadata": {
    "execution": {
     "iopub.execute_input": "2024-08-20T09:36:29.939543Z",
     "iopub.status.busy": "2024-08-20T09:36:29.939436Z",
     "iopub.status.idle": "2024-08-20T09:36:29.945077Z",
     "shell.execute_reply": "2024-08-20T09:36:29.944818Z",
     "shell.execute_reply.started": "2024-08-20T09:36:29.939535Z"
    }
   },
   "outputs": [
    {
     "name": "stdout",
     "output_type": "stream",
     "text": [
      "SVM\n",
      "Accuracy: 0.7872\n",
      "Precision: 0.7790\n",
      "Recall: 0.7581\n",
      "F1 Score: 0.7684\n",
      "Confusion Matrix:\n",
      " [[802 185]\n",
      " [208 652]]\n"
     ]
    }
   ],
   "source": [
    "# Calculate metrics\n",
    "accuracy = accuracy_score(true_labels, svm_validation_predictions)\n",
    "precision = precision_score(true_labels, svm_validation_predictions, average='binary')\n",
    "recall = recall_score(true_labels, svm_validation_predictions, average='binary')\n",
    "f1 = f1_score(true_labels, svm_validation_predictions, average='binary')\n",
    "conf_matrix = confusion_matrix(true_labels, svm_validation_predictions)\n",
    "\n",
    "# Print the metrics\n",
    "print(\"SVM\")\n",
    "print(f\"Accuracy: {accuracy:.4f}\")\n",
    "print(f\"Precision: {precision:.4f}\")\n",
    "print(f\"Recall: {recall:.4f}\")\n",
    "print(f\"F1 Score: {f1:.4f}\")\n",
    "print(\"Confusion Matrix:\\n\", conf_matrix)"
   ]
  },
  {
   "cell_type": "code",
   "execution_count": 49,
   "id": "658a8279-7bf1-4567-9811-2cbba63c5afe",
   "metadata": {
    "execution": {
     "iopub.execute_input": "2024-08-20T09:36:29.945704Z",
     "iopub.status.busy": "2024-08-20T09:36:29.945586Z",
     "iopub.status.idle": "2024-08-20T09:36:30.030174Z",
     "shell.execute_reply": "2024-08-20T09:36:30.029785Z",
     "shell.execute_reply.started": "2024-08-20T09:36:29.945696Z"
    }
   },
   "outputs": [
    {
     "data": {
      "image/png": "[encoded data removed]",
      "text/plain": [
       "<Figure size 640x480 with 1 Axes>"
      ]
     },
     "metadata": {},
     "output_type": "display_data"
    }
   ],
   "source": [
    "# Get probability scores for the positive class\n",
    "svm_prob_scores = svm_meta_classifier.predict_proba(validation_meta_features)[:, 1]\n",
    "\n",
    "import matplotlib.pyplot as plt\n",
    "\n",
    "# Plot the distribution of predicted probabilities\n",
    "plt.hist(svm_prob_scores, bins=50, alpha=0.75)\n",
    "plt.title('Distribution of Predicted Probabilities (SVM)')\n",
    "plt.xlabel('Probability of Positive Class')\n",
    "plt.ylabel('Frequency')\n",
    "plt.show()"
   ]
  },
  {
   "cell_type": "markdown",
   "id": "e23a28f0-e330-4f4f-ae3a-efab329ebd5b",
   "metadata": {},
   "source": [
    "#### Optimized SVM"
   ]
  },
  {
   "cell_type": "code",
   "execution_count": 50,
   "id": "392837af-79b9-4dad-a890-7e9d19a08197",
   "metadata": {
    "execution": {
     "iopub.execute_input": "2024-08-20T09:36:30.030759Z",
     "iopub.status.busy": "2024-08-20T09:36:30.030658Z",
     "iopub.status.idle": "2024-08-20T09:36:30.037176Z",
     "shell.execute_reply": "2024-08-20T09:36:30.036946Z",
     "shell.execute_reply.started": "2024-08-20T09:36:30.030749Z"
    }
   },
   "outputs": [
    {
     "name": "stdout",
     "output_type": "stream",
     "text": [
      "Optimized SVM\n",
      "Precision: 0.7151\n",
      "Recall: 0.8930\n",
      "Accuracy: 0.7845\n",
      "F1 Score: 0.7942\n",
      "Confusion Matrix:\n",
      "[[681 306]\n",
      " [ 92 768]]\n"
     ]
    }
   ],
   "source": [
    "# Apply the new threshold\n",
    "adjusted_predictions = (svm_prob_scores >= svm_thresh).astype(int)\n",
    "\n",
    "# Evaluate with the new threshold\n",
    "adjusted_precision = precision_score(true_labels, adjusted_predictions, average='binary')\n",
    "adjusted_recall = recall_score(true_labels, adjusted_predictions, average='binary')\n",
    "adjusted_accuracy = accuracy_score(true_labels, adjusted_predictions)\n",
    "adjusted_f1 = f1_score(true_labels, adjusted_predictions, average='binary')\n",
    "adjusted_conf_matrix = confusion_matrix(true_labels, adjusted_predictions)\n",
    "\n",
    "print(\"Optimized SVM\")\n",
    "print(f\"Precision: {adjusted_precision:.4f}\")\n",
    "print(f\"Recall: {adjusted_recall:.4f}\")\n",
    "print(f\"Accuracy: {adjusted_accuracy:.4f}\")\n",
    "print(f\"F1 Score: {adjusted_f1:.4f}\")\n",
    "print(\"Confusion Matrix:\")\n",
    "print(adjusted_conf_matrix)"
   ]
  },
  {
   "cell_type": "code",
   "execution_count": 51,
   "id": "79945954-0d97-4ce4-b7d8-83fcde7b355a",
   "metadata": {
    "execution": {
     "iopub.execute_input": "2024-08-20T09:36:30.037737Z",
     "iopub.status.busy": "2024-08-20T09:36:30.037611Z",
     "iopub.status.idle": "2024-08-20T09:36:30.451080Z",
     "shell.execute_reply": "2024-08-20T09:36:30.449231Z",
     "shell.execute_reply.started": "2024-08-20T09:36:30.037728Z"
    }
   },
   "outputs": [
    {
     "name": "stdout",
     "output_type": "stream",
     "text": [
      "Updated cells count: 4\n"
     ]
    }
   ],
   "source": [
    "# SAVE TO GOOGLE SHEET\n",
    "\n",
    "# Define the range and values to update\n",
    "range_name = '5-1!F11:I11'  \n",
    "\n",
    "values = [[\n",
    "    f\"{adjusted_precision * 100:.2f}\",\n",
    "    f\"{adjusted_recall * 100:.2f}\",\n",
    "    f\"{adjusted_accuracy * 100:.2f}\",\n",
    "    f\"{adjusted_f1 * 100:.2f}\"\n",
    "]]\n",
    "\n",
    "# Prepare the request body\n",
    "body = {\n",
    "    'values': values\n",
    "}\n",
    "\n",
    "# Call the Sheets API to update the values\n",
    "result = service.spreadsheets().values().update(\n",
    "    spreadsheetId=spreadsheet_id, \n",
    "    range=range_name,\n",
    "    valueInputOption='USER_ENTERED',\n",
    "    body=body\n",
    ").execute()\n",
    "\n",
    "print('Updated cells count:', result.get('updatedCells'))"
   ]
  },
  {
   "cell_type": "markdown",
   "id": "c42cfc96-7466-49d1-bf23-9fa95538e84a",
   "metadata": {},
   "source": [
    "#### Save Confusion Matrix"
   ]
  },
  {
   "cell_type": "code",
   "execution_count": 52,
   "id": "1ab5ac70-3881-4aea-b426-0aec5075e619",
   "metadata": {
    "execution": {
     "iopub.execute_input": "2024-08-20T09:36:30.454008Z",
     "iopub.status.busy": "2024-08-20T09:36:30.453257Z",
     "iopub.status.idle": "2024-08-20T09:36:30.502377Z",
     "shell.execute_reply": "2024-08-20T09:36:30.501916Z",
     "shell.execute_reply.started": "2024-08-20T09:36:30.453933Z"
    }
   },
   "outputs": [
    {
     "data": {
      "text/html": [
       "\n",
       "<style>\n",
       "  #altair-viz-d4fe546e86bd4fa6bdd4c202077594bb.vega-embed {\n",
       "    width: 100%;\n",
       "    display: flex;\n",
       "  }\n",
       "\n",
       "  #altair-viz-d4fe546e86bd4fa6bdd4c202077594bb.vega-embed details,\n",
       "  #altair-viz-d4fe546e86bd4fa6bdd4c202077594bb.vega-embed details summary {\n",
       "    position: relative;\n",
       "  }\n",
       "</style>\n",
       "<div id=\"altair-viz-d4fe546e86bd4fa6bdd4c202077594bb\"></div>\n",
       "<script type=\"text/javascript\">\n",
       "  var VEGA_DEBUG = (typeof VEGA_DEBUG == \"undefined\") ? {} : VEGA_DEBUG;\n",
       "  (function(spec, embedOpt){\n",
       "    let outputDiv = document.currentScript.previousElementSibling;\n",
       "    if (outputDiv.id !== \"altair-viz-d4fe546e86bd4fa6bdd4c202077594bb\") {\n",
       "      outputDiv = document.getElementById(\"altair-viz-d4fe546e86bd4fa6bdd4c202077594bb\");\n",
       "    }\n",
       "    const paths = {\n",
       "      \"vega\": \"https://cdn.jsdelivr.net/npm/vega@5?noext\",\n",
       "      \"vega-lib\": \"https://cdn.jsdelivr.net/npm/vega-lib?noext\",\n",
       "      \"vega-lite\": \"https://cdn.jsdelivr.net/npm/vega-lite@5.17.0?noext\",\n",
       "      \"vega-embed\": \"https://cdn.jsdelivr.net/npm/vega-embed@6?noext\",\n",
       "    };\n",
       "\n",
       "    function maybeLoadScript(lib, version) {\n",
       "      var key = `${lib.replace(\"-\", \"\")}_version`;\n",
       "      return (VEGA_DEBUG[key] == version) ?\n",
       "        Promise.resolve(paths[lib]) :\n",
       "        new Promise(function(resolve, reject) {\n",
       "          var s = document.createElement('script');\n",
       "          document.getElementsByTagName(\"head\")[0].appendChild(s);\n",
       "          s.async = true;\n",
       "          s.onload = () => {\n",
       "            VEGA_DEBUG[key] = version;\n",
       "            return resolve(paths[lib]);\n",
       "          };\n",
       "          s.onerror = () => reject(`Error loading script: ${paths[lib]}`);\n",
       "          s.src = paths[lib];\n",
       "        });\n",
       "    }\n",
       "\n",
       "    function showError(err) {\n",
       "      outputDiv.innerHTML = `<div class=\"error\" style=\"color:red;\">${err}</div>`;\n",
       "      throw err;\n",
       "    }\n",
       "\n",
       "    function displayChart(vegaEmbed) {\n",
       "      vegaEmbed(outputDiv, spec, embedOpt)\n",
       "        .catch(err => showError(`Javascript Error: ${err.message}<br>This usually means there's a typo in your chart specification. See the javascript console for the full traceback.`));\n",
       "    }\n",
       "\n",
       "    if(typeof define === \"function\" && define.amd) {\n",
       "      requirejs.config({paths});\n",
       "      require([\"vega-embed\"], displayChart, err => showError(`Error loading script: ${err.message}`));\n",
       "    } else {\n",
       "      maybeLoadScript(\"vega\", \"5\")\n",
       "        .then(() => maybeLoadScript(\"vega-lite\", \"5.17.0\"))\n",
       "        .then(() => maybeLoadScript(\"vega-embed\", \"6\"))\n",
       "        .catch(showError)\n",
       "        .then(() => displayChart(vegaEmbed));\n",
       "    }\n",
       "  })({\"config\": {\"view\": {\"continuousWidth\": 300, \"continuousHeight\": 300}}, \"layer\": [{\"mark\": {\"type\": \"rect\"}, \"encoding\": {\"color\": {\"field\": \"Count\", \"type\": \"quantitative\"}, \"tooltip\": [{\"field\": \"True\", \"type\": \"ordinal\"}, {\"field\": \"Predicted\", \"type\": \"ordinal\"}, {\"field\": \"Count\", \"type\": \"quantitative\"}], \"x\": {\"field\": \"Predicted\", \"sort\": [\"Hate Speech\", \"Non Hatespeech\"], \"type\": \"ordinal\"}, \"y\": {\"field\": \"True\", \"sort\": [\"Hate Speech\", \"Non Hatespeech\"], \"type\": \"ordinal\"}}, \"title\": \"5 Blending-1 SVM\"}, {\"mark\": {\"type\": \"text\", \"align\": \"center\", \"baseline\": \"middle\", \"fontSize\": 12}, \"encoding\": {\"color\": {\"condition\": {\"test\": \"(datum.Count > 384.0)\", \"value\": \"white\"}, \"value\": \"black\"}, \"text\": {\"field\": \"Count\", \"type\": \"quantitative\"}, \"tooltip\": [{\"field\": \"True\", \"type\": \"ordinal\"}, {\"field\": \"Predicted\", \"type\": \"ordinal\"}, {\"field\": \"Count\", \"type\": \"quantitative\"}], \"x\": {\"field\": \"Predicted\", \"sort\": [\"Hate Speech\", \"Non Hatespeech\"], \"type\": \"ordinal\"}, \"y\": {\"field\": \"True\", \"sort\": [\"Hate Speech\", \"Non Hatespeech\"], \"type\": \"ordinal\"}}, \"title\": \"5 Blending-1 SVM\"}], \"data\": {\"name\": \"data-4e7f5826b724db37ab93c10c48f8db7b\"}, \"height\": 300, \"width\": 400, \"$schema\": \"https://vega.github.io/schema/vega-lite/v5.17.0.json\", \"datasets\": {\"data-4e7f5826b724db37ab93c10c48f8db7b\": [{\"True\": \"Hate Speech\", \"Predicted\": \"Hate Speech\", \"Count\": 681}, {\"True\": \"Non Hatespeech\", \"Predicted\": \"Hate Speech\", \"Count\": 92}, {\"True\": \"Hate Speech\", \"Predicted\": \"Non Hatespeech\", \"Count\": 306}, {\"True\": \"Non Hatespeech\", \"Predicted\": \"Non Hatespeech\", \"Count\": 768}]}}, {\"mode\": \"vega-lite\"});\n",
       "</script>"
      ],
      "text/plain": [
       "alt.LayerChart(...)"
      ]
     },
     "metadata": {},
     "output_type": "display_data"
    }
   ],
   "source": [
    "import altair as alt\n",
    "import pandas as pd\n",
    "from sklearn.metrics import confusion_matrix\n",
    "\n",
    "# Calculate the confusion matrix\n",
    "cm = confusion_matrix(true_labels, adjusted_predictions)\n",
    "\n",
    "# Define class names\n",
    "class_names = ['Hate Speech', 'Non Hatespeech']\n",
    "\n",
    "# Convert confusion matrix to DataFrame\n",
    "cm_df = pd.DataFrame(cm, index=class_names, columns=class_names).reset_index().melt(id_vars='index')\n",
    "cm_df.columns = ['True', 'Predicted', 'Count']\n",
    "\n",
    "# Ensure the order of categories\n",
    "cm_df['True'] = pd.Categorical(cm_df['True'], categories=class_names, ordered=True)\n",
    "cm_df['Predicted'] = pd.Categorical(cm_df['Predicted'], categories=class_names, ordered=True)\n",
    "\n",
    "# Create the Altair plot\n",
    "heatmap = alt.Chart(cm_df).mark_rect().encode(\n",
    "    x=alt.X('Predicted:O', sort=class_names),\n",
    "    y=alt.Y('True:O', sort=class_names),\n",
    "    color='Count:Q',\n",
    "    tooltip=['True', 'Predicted', 'Count']\n",
    ").properties(\n",
    "    width=400,\n",
    "    height=300,\n",
    "    title='5 Blending-1 SVM'\n",
    ")\n",
    "\n",
    "# Add text labels\n",
    "text = heatmap.mark_text(\n",
    "    align='center',\n",
    "    baseline='middle',\n",
    "    fontSize=12\n",
    ").encode(\n",
    "    text='Count:Q',\n",
    "    color=alt.condition(\n",
    "        alt.datum.Count > cm.max() / 2,\n",
    "        alt.value('white'),\n",
    "        alt.value('black')\n",
    "    )\n",
    ")\n",
    "\n",
    "# Combine heatmap and text\n",
    "final_chart = heatmap + text\n",
    "\n",
    "# Display the plot\n",
    "final_chart.show()"
   ]
  },
  {
   "cell_type": "code",
   "execution_count": 53,
   "id": "7edc2136-92a2-43da-ad64-0c21567703ac",
   "metadata": {
    "execution": {
     "iopub.execute_input": "2024-08-20T09:36:30.503225Z",
     "iopub.status.busy": "2024-08-20T09:36:30.503099Z",
     "iopub.status.idle": "2024-08-20T09:36:30.544769Z",
     "shell.execute_reply": "2024-08-20T09:36:30.544320Z",
     "shell.execute_reply.started": "2024-08-20T09:36:30.503214Z"
    }
   },
   "outputs": [
    {
     "name": "stdout",
     "output_type": "stream",
     "text": [
      "Plot saved to Results/Ensemble Model Results/On Hatespeech dataset/OH Using HS_Finetuned Models/Blending/5B-1 SVM.png\n"
     ]
    }
   ],
   "source": [
    "# Specify the folder path\n",
    "folder_path = os.path.expanduser('Results/Ensemble Model Results/On Hatespeech dataset/OH Using HS_Finetuned Models/Blending/')\n",
    "\n",
    "# Save the plot using vl-convert\n",
    "file_path_png = os.path.join(folder_path, '5B-1 SVM.png')\n",
    "final_chart.save(file_path_png)\n",
    "\n",
    "print(f\"Plot saved to {file_path_png}\")"
   ]
  }
 ],
 "metadata": {
  "kernelspec": {
   "display_name": "Python 3 (ipykernel)",
   "language": "python",
   "name": "python3"
  },
  "language_info": {
   "codemirror_mode": {
    "name": "ipython",
    "version": 3
   },
   "file_extension": ".py",
   "mimetype": "text/x-python",
   "name": "python",
   "nbconvert_exporter": "python",
   "pygments_lexer": "ipython3",
   "version": "3.10.14"
  }
 },
 "nbformat": 4,
 "nbformat_minor": 5
}
