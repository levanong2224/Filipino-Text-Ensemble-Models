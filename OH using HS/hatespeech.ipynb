{
 "cells": [
  {
   "cell_type": "code",
   "execution_count": 1,
   "id": "8ac83365-749c-4799-b88a-49458763ab58",
   "metadata": {
    "execution": {
     "iopub.execute_input": "2024-04-18T16:55:53.316426Z",
     "iopub.status.busy": "2024-04-18T16:55:53.316361Z",
     "iopub.status.idle": "2024-04-18T16:55:54.302057Z",
     "shell.execute_reply": "2024-04-18T16:55:54.301476Z",
     "shell.execute_reply.started": "2024-04-18T16:55:53.316419Z"
    }
   },
   "outputs": [
    {
     "name": "stdout",
     "output_type": "stream",
     "text": [
      "Requirement already satisfied: pandas in /opt/anaconda3/envs/thesis/lib/python3.10/site-packages (2.2.1)\n",
      "Requirement already satisfied: datasets in /opt/anaconda3/envs/thesis/lib/python3.10/site-packages (2.18.0)\n",
      "Requirement already satisfied: scikit-learn in /opt/anaconda3/envs/thesis/lib/python3.10/site-packages (1.4.1.post1)\n",
      "Requirement already satisfied: numpy<2,>=1.22.4 in /opt/anaconda3/envs/thesis/lib/python3.10/site-packages (from pandas) (1.26.4)\n",
      "Requirement already satisfied: python-dateutil>=2.8.2 in /opt/anaconda3/envs/thesis/lib/python3.10/site-packages (from pandas) (2.8.2)\n",
      "Requirement already satisfied: pytz>=2020.1 in /opt/anaconda3/envs/thesis/lib/python3.10/site-packages (from pandas) (2023.3.post1)\n",
      "Requirement already satisfied: tzdata>=2022.7 in /opt/anaconda3/envs/thesis/lib/python3.10/site-packages (from pandas) (2023.3)\n",
      "Requirement already satisfied: filelock in /opt/anaconda3/envs/thesis/lib/python3.10/site-packages (from datasets) (3.13.1)\n",
      "Requirement already satisfied: pyarrow>=12.0.0 in /opt/anaconda3/envs/thesis/lib/python3.10/site-packages (from datasets) (15.0.2)\n",
      "Requirement already satisfied: pyarrow-hotfix in /opt/anaconda3/envs/thesis/lib/python3.10/site-packages (from datasets) (0.6)\n",
      "Requirement already satisfied: dill<0.3.9,>=0.3.0 in /opt/anaconda3/envs/thesis/lib/python3.10/site-packages (from datasets) (0.3.8)\n",
      "Requirement already satisfied: requests>=2.19.0 in /opt/anaconda3/envs/thesis/lib/python3.10/site-packages (from datasets) (2.31.0)\n",
      "Requirement already satisfied: tqdm>=4.62.1 in /opt/anaconda3/envs/thesis/lib/python3.10/site-packages (from datasets) (4.66.2)\n",
      "Requirement already satisfied: xxhash in /opt/anaconda3/envs/thesis/lib/python3.10/site-packages (from datasets) (3.4.1)\n",
      "Requirement already satisfied: multiprocess in /opt/anaconda3/envs/thesis/lib/python3.10/site-packages (from datasets) (0.70.16)\n",
      "Requirement already satisfied: fsspec<=2024.2.0,>=2023.1.0 in /opt/anaconda3/envs/thesis/lib/python3.10/site-packages (from fsspec[http]<=2024.2.0,>=2023.1.0->datasets) (2024.2.0)\n",
      "Requirement already satisfied: aiohttp in /opt/anaconda3/envs/thesis/lib/python3.10/site-packages (from datasets) (3.9.3)\n",
      "Requirement already satisfied: huggingface-hub>=0.19.4 in /opt/anaconda3/envs/thesis/lib/python3.10/site-packages (from datasets) (0.22.2)\n",
      "Requirement already satisfied: packaging in /opt/anaconda3/envs/thesis/lib/python3.10/site-packages (from datasets) (23.2)\n",
      "Requirement already satisfied: pyyaml>=5.1 in /opt/anaconda3/envs/thesis/lib/python3.10/site-packages (from datasets) (6.0.1)\n",
      "Requirement already satisfied: scipy>=1.6.0 in /opt/anaconda3/envs/thesis/lib/python3.10/site-packages (from scikit-learn) (1.13.0)\n",
      "Requirement already satisfied: joblib>=1.2.0 in /opt/anaconda3/envs/thesis/lib/python3.10/site-packages (from scikit-learn) (1.3.2)\n",
      "Requirement already satisfied: threadpoolctl>=2.0.0 in /opt/anaconda3/envs/thesis/lib/python3.10/site-packages (from scikit-learn) (3.4.0)\n",
      "Requirement already satisfied: aiosignal>=1.1.2 in /opt/anaconda3/envs/thesis/lib/python3.10/site-packages (from aiohttp->datasets) (1.3.1)\n",
      "Requirement already satisfied: attrs>=17.3.0 in /opt/anaconda3/envs/thesis/lib/python3.10/site-packages (from aiohttp->datasets) (23.1.0)\n",
      "Requirement already satisfied: frozenlist>=1.1.1 in /opt/anaconda3/envs/thesis/lib/python3.10/site-packages (from aiohttp->datasets) (1.4.1)\n",
      "Requirement already satisfied: multidict<7.0,>=4.5 in /opt/anaconda3/envs/thesis/lib/python3.10/site-packages (from aiohttp->datasets) (6.0.5)\n",
      "Requirement already satisfied: yarl<2.0,>=1.0 in /opt/anaconda3/envs/thesis/lib/python3.10/site-packages (from aiohttp->datasets) (1.9.4)\n",
      "Requirement already satisfied: async-timeout<5.0,>=4.0 in /opt/anaconda3/envs/thesis/lib/python3.10/site-packages (from aiohttp->datasets) (4.0.3)\n",
      "Requirement already satisfied: typing-extensions>=3.7.4.3 in /opt/anaconda3/envs/thesis/lib/python3.10/site-packages (from huggingface-hub>=0.19.4->datasets) (4.11.0)\n",
      "Requirement already satisfied: six>=1.5 in /opt/anaconda3/envs/thesis/lib/python3.10/site-packages (from python-dateutil>=2.8.2->pandas) (1.16.0)\n",
      "Requirement already satisfied: charset-normalizer<4,>=2 in /opt/anaconda3/envs/thesis/lib/python3.10/site-packages (from requests>=2.19.0->datasets) (3.3.2)\n",
      "Requirement already satisfied: idna<4,>=2.5 in /opt/anaconda3/envs/thesis/lib/python3.10/site-packages (from requests>=2.19.0->datasets) (3.4)\n",
      "Requirement already satisfied: urllib3<3,>=1.21.1 in /opt/anaconda3/envs/thesis/lib/python3.10/site-packages (from requests>=2.19.0->datasets) (2.1.0)\n",
      "Requirement already satisfied: certifi>=2017.4.17 in /opt/anaconda3/envs/thesis/lib/python3.10/site-packages (from requests>=2.19.0->datasets) (2024.2.2)\n",
      "Note: you may need to restart the kernel to use updated packages.\n"
     ]
    }
   ],
   "source": [
    "pip install pandas datasets scikit-learn"
   ]
  },
  {
   "cell_type": "code",
   "execution_count": 2,
   "id": "f4eb4d97-7904-4535-b843-601b15b7363c",
   "metadata": {
    "execution": {
     "iopub.execute_input": "2024-04-18T16:55:54.303245Z",
     "iopub.status.busy": "2024-04-18T16:55:54.302980Z",
     "iopub.status.idle": "2024-04-18T16:55:54.306029Z",
     "shell.execute_reply": "2024-04-18T16:55:54.305701Z",
     "shell.execute_reply.started": "2024-04-18T16:55:54.303232Z"
    }
   },
   "outputs": [],
   "source": [
    "import os\n",
    "\n",
    "# Specify the new directory path\n",
    "new_directory = '/Users/levan/ATENEO MASTERAL/Thesis/Development'\n",
    "\n",
    "# Change the current working directory\n",
    "os.chdir(new_directory)"
   ]
  },
  {
   "cell_type": "code",
   "execution_count": 3,
   "id": "8738378c-f930-44bf-9eac-1e5a0c9be538",
   "metadata": {
    "execution": {
     "iopub.execute_input": "2024-04-18T16:55:54.306683Z",
     "iopub.status.busy": "2024-04-18T16:55:54.306590Z",
     "iopub.status.idle": "2024-04-18T16:55:54.903307Z",
     "shell.execute_reply": "2024-04-18T16:55:54.902991Z",
     "shell.execute_reply.started": "2024-04-18T16:55:54.306674Z"
    }
   },
   "outputs": [],
   "source": [
    "import pandas as pd"
   ]
  },
  {
   "cell_type": "markdown",
   "id": "0e7259b0-0851-4292-ad79-04e46ac07b92",
   "metadata": {},
   "source": [
    "# Load Dataset"
   ]
  },
  {
   "cell_type": "code",
   "execution_count": 4,
   "id": "66cdc6c1-582d-46d5-a541-78ee498dfd6d",
   "metadata": {
    "execution": {
     "iopub.execute_input": "2024-04-18T16:55:54.903824Z",
     "iopub.status.busy": "2024-04-18T16:55:54.903714Z",
     "iopub.status.idle": "2024-04-18T16:55:54.932088Z",
     "shell.execute_reply": "2024-04-18T16:55:54.931846Z",
     "shell.execute_reply.started": "2024-04-18T16:55:54.903816Z"
    }
   },
   "outputs": [],
   "source": [
    "dataset1 = pd.read_csv('Filipino-Text-Benchmarks/data/hatespeech/train.csv', engine='python')\n",
    "dataset2 = pd.read_csv('Filipino-Text-Benchmarks/data/hatespeech/test.csv', engine='python')\n",
    "dataset3 = pd.read_csv('Filipino-Text-Benchmarks/data/hatespeech/valid.csv', engine='python')"
   ]
  },
  {
   "cell_type": "code",
   "execution_count": 5,
   "id": "7e8f5de6-aebc-494c-8d62-8286a317b6f5",
   "metadata": {
    "execution": {
     "iopub.execute_input": "2024-04-18T16:55:54.932783Z",
     "iopub.status.busy": "2024-04-18T16:55:54.932588Z",
     "iopub.status.idle": "2024-04-18T16:55:54.938087Z",
     "shell.execute_reply": "2024-04-18T16:55:54.937843Z",
     "shell.execute_reply.started": "2024-04-18T16:55:54.932772Z"
    }
   },
   "outputs": [
    {
     "data": {
      "text/plain": [
       "label\n",
       "0.0    5340\n",
       "1.0    4660\n",
       "Name: count, dtype: int64"
      ]
     },
     "execution_count": 5,
     "metadata": {},
     "output_type": "execute_result"
    }
   ],
   "source": [
    "dataset1.head()\n",
    "dataset1.label.value_counts()"
   ]
  },
  {
   "cell_type": "code",
   "execution_count": 6,
   "id": "d10a6ebf-f1a4-4cd5-8d2d-1f764ecefaec",
   "metadata": {
    "execution": {
     "iopub.execute_input": "2024-04-18T16:55:54.939597Z",
     "iopub.status.busy": "2024-04-18T16:55:54.939517Z",
     "iopub.status.idle": "2024-04-18T16:55:54.942366Z",
     "shell.execute_reply": "2024-04-18T16:55:54.942099Z",
     "shell.execute_reply.started": "2024-04-18T16:55:54.939591Z"
    }
   },
   "outputs": [
    {
     "data": {
      "text/plain": [
       "label\n",
       "0.0    2225\n",
       "1.0    2007\n",
       "Name: count, dtype: int64"
      ]
     },
     "execution_count": 6,
     "metadata": {},
     "output_type": "execute_result"
    }
   ],
   "source": [
    "dataset2.head()\n",
    "dataset2.label.value_counts()"
   ]
  },
  {
   "cell_type": "code",
   "execution_count": 7,
   "id": "9c389241-a4a8-43c3-9a12-3b9caaf3e5cd",
   "metadata": {
    "execution": {
     "iopub.execute_input": "2024-04-18T16:55:54.944686Z",
     "iopub.status.busy": "2024-04-18T16:55:54.944615Z",
     "iopub.status.idle": "2024-04-18T16:55:54.947305Z",
     "shell.execute_reply": "2024-04-18T16:55:54.947053Z",
     "shell.execute_reply.started": "2024-04-18T16:55:54.944679Z"
    }
   },
   "outputs": [
    {
     "data": {
      "text/plain": [
       "label\n",
       "0.0    2299\n",
       "1.0    1933\n",
       "Name: count, dtype: int64"
      ]
     },
     "execution_count": 7,
     "metadata": {},
     "output_type": "execute_result"
    }
   ],
   "source": [
    "dataset3.head()\n",
    "dataset3.label.value_counts()"
   ]
  },
  {
   "cell_type": "markdown",
   "id": "33162dbb-69ea-449f-887c-d2d04f064eb7",
   "metadata": {},
   "source": [
    "# Data preprocessing"
   ]
  },
  {
   "cell_type": "code",
   "execution_count": 8,
   "id": "219a9c1b-49ca-4e16-8deb-76c1a3fb5949",
   "metadata": {
    "execution": {
     "iopub.execute_input": "2024-04-18T16:55:54.947886Z",
     "iopub.status.busy": "2024-04-18T16:55:54.947803Z",
     "iopub.status.idle": "2024-04-18T16:55:54.954015Z",
     "shell.execute_reply": "2024-04-18T16:55:54.953729Z",
     "shell.execute_reply.started": "2024-04-18T16:55:54.947880Z"
    }
   },
   "outputs": [
    {
     "name": "stdout",
     "output_type": "stream",
     "text": [
      "                                                text  label\n",
      "1  Inaasahan na ni Vice President Jejomar Binay n...      0\n",
      "2  Mar Roxas TANG INA TUWID NA DAAN DAW .. EH SYA...      1\n",
      "3  Salamat sa walang sawang suporta ng mga taga m...      0\n",
      "4         @rapplerdotcom putangina mo binay TAKBO PA      1\n",
      "5  Binay with selective amnesia, forgetting about...      0\n"
     ]
    },
    {
     "data": {
      "text/plain": [
       "label\n",
       "0    5340\n",
       "1    4660\n",
       "Name: count, dtype: int64"
      ]
     },
     "execution_count": 8,
     "metadata": {},
     "output_type": "execute_result"
    }
   ],
   "source": [
    "# Drop rows where 'label' is NaN\n",
    "dataset1 = dataset1.dropna(subset=['label'])\n",
    "\n",
    "# Convert 'label' from float to integer\n",
    "dataset1['label'] = dataset1['label'].astype(int)\n",
    "\n",
    "print(dataset1.head())\n",
    "dataset1.label.value_counts()"
   ]
  },
  {
   "cell_type": "code",
   "execution_count": 9,
   "id": "92efcf6e-bb2d-455f-bb92-52297e19943e",
   "metadata": {
    "execution": {
     "iopub.execute_input": "2024-04-18T16:55:54.954555Z",
     "iopub.status.busy": "2024-04-18T16:55:54.954457Z",
     "iopub.status.idle": "2024-04-18T16:55:54.959243Z",
     "shell.execute_reply": "2024-04-18T16:55:54.958976Z",
     "shell.execute_reply.started": "2024-04-18T16:55:54.954549Z"
    }
   },
   "outputs": [
    {
     "name": "stdout",
     "output_type": "stream",
     "text": [
      "                                                text  label\n",
      "0  Unshaded votes and votes for Mayor Duterte goe...      1\n",
      "2              #NoMoreChance https://t.co/msaaUGv0bS      1\n",
      "3  @itsmanj well there's other good choices like ...      0\n",
      "4  Nognog. Pandak. Laki sa hirap. Pero corrupt. Y...      1\n",
      "5  Ex-Binay aide turns tables on Mercado | https:...      0\n"
     ]
    },
    {
     "data": {
      "text/plain": [
       "label\n",
       "0    2225\n",
       "1    2007\n",
       "Name: count, dtype: int64"
      ]
     },
     "execution_count": 9,
     "metadata": {},
     "output_type": "execute_result"
    }
   ],
   "source": [
    "# Drop rows where 'label' is NaN\n",
    "dataset2 = dataset2.dropna(subset=['label'])\n",
    "\n",
    "# Convert 'label' from float to integer\n",
    "dataset2['label'] = dataset2['label'].astype(int)\n",
    "\n",
    "print(dataset2.head())\n",
    "dataset2.label.value_counts()"
   ]
  },
  {
   "cell_type": "code",
   "execution_count": 10,
   "id": "590c06cd-0158-466e-ad9e-a5b331ba6b29",
   "metadata": {
    "execution": {
     "iopub.execute_input": "2024-04-18T16:55:54.959849Z",
     "iopub.status.busy": "2024-04-18T16:55:54.959711Z",
     "iopub.status.idle": "2024-04-18T16:55:54.964126Z",
     "shell.execute_reply": "2024-04-18T16:55:54.963884Z",
     "shell.execute_reply.started": "2024-04-18T16:55:54.959840Z"
    }
   },
   "outputs": [
    {
     "name": "stdout",
     "output_type": "stream",
     "text": [
      "                                                text  label\n",
      "0  Escudero denies betraying Poe after meeting wi...      0\n",
      "1  Hndi ko makita yung sa one more chance saka ka...      1\n",
      "2  Mar Roxas is now addressing the crowd gathered...      0\n",
      "3  @ImYourBaeMax perfect! Para makaharap ni Duter...      0\n",
      "4  #OnlyBinayPriority4Ps Wag nating hayaan na mal...      0\n"
     ]
    },
    {
     "data": {
      "text/plain": [
       "label\n",
       "0    2299\n",
       "1    1933\n",
       "Name: count, dtype: int64"
      ]
     },
     "execution_count": 10,
     "metadata": {},
     "output_type": "execute_result"
    }
   ],
   "source": [
    "# Drop rows where 'label' is NaN\n",
    "dataset3 = dataset3.dropna(subset=['label'])\n",
    "\n",
    "# Convert 'label' from float to integer\n",
    "dataset3['label'] = dataset3['label'].astype(int)\n",
    "\n",
    "print(dataset3.head())\n",
    "dataset3.label.value_counts()"
   ]
  },
  {
   "cell_type": "markdown",
   "id": "24d94f7a-8d37-41df-8848-f7415f57e72b",
   "metadata": {},
   "source": [
    "# Combine Datasets"
   ]
  },
  {
   "cell_type": "code",
   "execution_count": 11,
   "id": "079be3d2-109e-4283-9ef7-67709fee1932",
   "metadata": {
    "execution": {
     "iopub.execute_input": "2024-04-18T16:55:54.964629Z",
     "iopub.status.busy": "2024-04-18T16:55:54.964552Z",
     "iopub.status.idle": "2024-04-18T16:55:54.967072Z",
     "shell.execute_reply": "2024-04-18T16:55:54.966816Z",
     "shell.execute_reply.started": "2024-04-18T16:55:54.964622Z"
    }
   },
   "outputs": [],
   "source": [
    "combined_df = pd.concat([dataset1, dataset2, dataset3]).reset_index(drop=True)"
   ]
  },
  {
   "cell_type": "code",
   "execution_count": 12,
   "id": "4e6514b1-70b5-456e-a43b-ba3cb86279eb",
   "metadata": {
    "execution": {
     "iopub.execute_input": "2024-04-18T16:55:54.967603Z",
     "iopub.status.busy": "2024-04-18T16:55:54.967525Z",
     "iopub.status.idle": "2024-04-18T16:55:54.971034Z",
     "shell.execute_reply": "2024-04-18T16:55:54.970805Z",
     "shell.execute_reply.started": "2024-04-18T16:55:54.967597Z"
    }
   },
   "outputs": [
    {
     "data": {
      "text/html": [
       "<div>\n",
       "<style scoped>\n",
       "    .dataframe tbody tr th:only-of-type {\n",
       "        vertical-align: middle;\n",
       "    }\n",
       "\n",
       "    .dataframe tbody tr th {\n",
       "        vertical-align: top;\n",
       "    }\n",
       "\n",
       "    .dataframe thead th {\n",
       "        text-align: right;\n",
       "    }\n",
       "</style>\n",
       "<table border=\"1\" class=\"dataframe\">\n",
       "  <thead>\n",
       "    <tr style=\"text-align: right;\">\n",
       "      <th></th>\n",
       "      <th>text</th>\n",
       "      <th>label</th>\n",
       "    </tr>\n",
       "  </thead>\n",
       "  <tbody>\n",
       "    <tr>\n",
       "      <th>0</th>\n",
       "      <td>Inaasahan na ni Vice President Jejomar Binay n...</td>\n",
       "      <td>0</td>\n",
       "    </tr>\n",
       "    <tr>\n",
       "      <th>1</th>\n",
       "      <td>Mar Roxas TANG INA TUWID NA DAAN DAW .. EH SYA...</td>\n",
       "      <td>1</td>\n",
       "    </tr>\n",
       "    <tr>\n",
       "      <th>2</th>\n",
       "      <td>Salamat sa walang sawang suporta ng mga taga m...</td>\n",
       "      <td>0</td>\n",
       "    </tr>\n",
       "    <tr>\n",
       "      <th>3</th>\n",
       "      <td>@rapplerdotcom putangina mo binay TAKBO PA</td>\n",
       "      <td>1</td>\n",
       "    </tr>\n",
       "    <tr>\n",
       "      <th>4</th>\n",
       "      <td>Binay with selective amnesia, forgetting about...</td>\n",
       "      <td>0</td>\n",
       "    </tr>\n",
       "  </tbody>\n",
       "</table>\n",
       "</div>"
      ],
      "text/plain": [
       "                                                text  label\n",
       "0  Inaasahan na ni Vice President Jejomar Binay n...      0\n",
       "1  Mar Roxas TANG INA TUWID NA DAAN DAW .. EH SYA...      1\n",
       "2  Salamat sa walang sawang suporta ng mga taga m...      0\n",
       "3         @rapplerdotcom putangina mo binay TAKBO PA      1\n",
       "4  Binay with selective amnesia, forgetting about...      0"
      ]
     },
     "execution_count": 12,
     "metadata": {},
     "output_type": "execute_result"
    }
   ],
   "source": [
    "combined_df.head()"
   ]
  },
  {
   "cell_type": "code",
   "execution_count": 13,
   "id": "bec4794e-ff1d-4a26-931a-ec96a365ab8e",
   "metadata": {
    "execution": {
     "iopub.execute_input": "2024-04-18T16:55:54.971496Z",
     "iopub.status.busy": "2024-04-18T16:55:54.971426Z",
     "iopub.status.idle": "2024-04-18T16:55:54.974369Z",
     "shell.execute_reply": "2024-04-18T16:55:54.973884Z",
     "shell.execute_reply.started": "2024-04-18T16:55:54.971490Z"
    }
   },
   "outputs": [
    {
     "data": {
      "text/plain": [
       "label\n",
       "0    9864\n",
       "1    8600\n",
       "Name: count, dtype: int64"
      ]
     },
     "execution_count": 13,
     "metadata": {},
     "output_type": "execute_result"
    }
   ],
   "source": [
    "combined_df.label.value_counts()"
   ]
  },
  {
   "cell_type": "markdown",
   "id": "7f9aa4c6-baf7-4624-b542-2c2b5edeacf9",
   "metadata": {},
   "source": [
    "# Partition Data into 3"
   ]
  },
  {
   "cell_type": "code",
   "execution_count": 14,
   "id": "7f1cdd50-4056-48d0-9581-ac4322c1f31c",
   "metadata": {
    "execution": {
     "iopub.execute_input": "2024-04-18T16:55:54.974936Z",
     "iopub.status.busy": "2024-04-18T16:55:54.974849Z",
     "iopub.status.idle": "2024-04-18T16:55:55.841133Z",
     "shell.execute_reply": "2024-04-18T16:55:55.840668Z",
     "shell.execute_reply.started": "2024-04-18T16:55:54.974928Z"
    }
   },
   "outputs": [],
   "source": [
    "from sklearn.model_selection import train_test_split"
   ]
  },
  {
   "cell_type": "code",
   "execution_count": 15,
   "id": "3650ee78-7c15-4c95-880c-1e57740598ab",
   "metadata": {
    "execution": {
     "iopub.execute_input": "2024-04-18T16:55:55.841709Z",
     "iopub.status.busy": "2024-04-18T16:55:55.841572Z",
     "iopub.status.idle": "2024-04-18T16:55:55.849403Z",
     "shell.execute_reply": "2024-04-18T16:55:55.849168Z",
     "shell.execute_reply.started": "2024-04-18T16:55:55.841702Z"
    }
   },
   "outputs": [],
   "source": [
    "# Splitting the dataset into two parts, maintaining class balance\n",
    "\n",
    "# Step 1: Split the original dataset into temp_data (90%) and data_c (10%)\n",
    "temp_data, data_c = train_test_split(combined_df, test_size=0.1, stratify=combined_df['label'], random_state=42)\n",
    "\n",
    "# Step 2: Split temp_data into data_a and data_b, each being 50% of temp_data (which is 45% of the original dataset)\n",
    "data_a, data_b = train_test_split(temp_data, test_size=0.5, stratify=temp_data['label'], random_state=42)"
   ]
  },
  {
   "cell_type": "code",
   "execution_count": 16,
   "id": "809ba853-b7db-40ab-ae95-7294fdfe4469",
   "metadata": {
    "execution": {
     "iopub.execute_input": "2024-04-18T16:55:55.849938Z",
     "iopub.status.busy": "2024-04-18T16:55:55.849851Z",
     "iopub.status.idle": "2024-04-18T16:55:55.852357Z",
     "shell.execute_reply": "2024-04-18T16:55:55.852145Z",
     "shell.execute_reply.started": "2024-04-18T16:55:55.849931Z"
    }
   },
   "outputs": [
    {
     "data": {
      "text/plain": [
       "label\n",
       "0    4438\n",
       "1    3870\n",
       "Name: count, dtype: int64"
      ]
     },
     "execution_count": 16,
     "metadata": {},
     "output_type": "execute_result"
    }
   ],
   "source": [
    "data_a.label.value_counts()"
   ]
  },
  {
   "cell_type": "code",
   "execution_count": 17,
   "id": "b9ea3437-0e49-4a58-a8de-c123e5c0da90",
   "metadata": {
    "execution": {
     "iopub.execute_input": "2024-04-18T16:55:55.852811Z",
     "iopub.status.busy": "2024-04-18T16:55:55.852736Z",
     "iopub.status.idle": "2024-04-18T16:55:55.855175Z",
     "shell.execute_reply": "2024-04-18T16:55:55.854913Z",
     "shell.execute_reply.started": "2024-04-18T16:55:55.852804Z"
    }
   },
   "outputs": [
    {
     "data": {
      "text/plain": [
       "label\n",
       "0    4439\n",
       "1    3870\n",
       "Name: count, dtype: int64"
      ]
     },
     "execution_count": 17,
     "metadata": {},
     "output_type": "execute_result"
    }
   ],
   "source": [
    "data_b.label.value_counts()"
   ]
  },
  {
   "cell_type": "code",
   "execution_count": 18,
   "id": "4bc35aeb-0bcc-4067-8b06-000881abef01",
   "metadata": {
    "execution": {
     "iopub.execute_input": "2024-04-18T16:55:55.855570Z",
     "iopub.status.busy": "2024-04-18T16:55:55.855505Z",
     "iopub.status.idle": "2024-04-18T16:55:55.857935Z",
     "shell.execute_reply": "2024-04-18T16:55:55.857706Z",
     "shell.execute_reply.started": "2024-04-18T16:55:55.855564Z"
    }
   },
   "outputs": [
    {
     "data": {
      "text/plain": [
       "label\n",
       "0    987\n",
       "1    860\n",
       "Name: count, dtype: int64"
      ]
     },
     "execution_count": 18,
     "metadata": {},
     "output_type": "execute_result"
    }
   ],
   "source": [
    "data_c.label.value_counts()"
   ]
  },
  {
   "cell_type": "markdown",
   "id": "e4465cbc-8a7a-45c7-bdca-1f185b57a05b",
   "metadata": {},
   "source": [
    "# Download CSV"
   ]
  },
  {
   "cell_type": "code",
   "execution_count": 19,
   "id": "08cfb112-086e-48c8-9bb7-8c58c2445c29",
   "metadata": {
    "execution": {
     "iopub.execute_input": "2024-04-18T16:55:55.861110Z",
     "iopub.status.busy": "2024-04-18T16:55:55.860982Z",
     "iopub.status.idle": "2024-04-18T16:55:55.882048Z",
     "shell.execute_reply": "2024-04-18T16:55:55.881765Z",
     "shell.execute_reply.started": "2024-04-18T16:55:55.861103Z"
    }
   },
   "outputs": [],
   "source": [
    "folder_path = 'Corpus/'\n",
    "\n",
    "# Save DataFrames as CSV files\n",
    "data_a.to_csv(f'{folder_path}data_a.csv', index=False)\n",
    "data_b.to_csv(f'{folder_path}data_b.csv', index=False)\n",
    "data_c.to_csv(f'{folder_path}data_c.csv', index=False)"
   ]
  }
 ],
 "metadata": {
  "kernelspec": {
   "display_name": "Python 3 (ipykernel)",
   "language": "python",
   "name": "python3"
  },
  "language_info": {
   "codemirror_mode": {
    "name": "ipython",
    "version": 3
   },
   "file_extension": ".py",
   "mimetype": "text/x-python",
   "name": "python",
   "nbconvert_exporter": "python",
   "pygments_lexer": "ipython3",
   "version": "3.10.14"
  }
 },
 "nbformat": 4,
 "nbformat_minor": 5
}
