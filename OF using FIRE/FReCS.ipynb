{
 "cells": [
  {
   "cell_type": "code",
   "execution_count": 1,
   "id": "8ac83365-749c-4799-b88a-49458763ab58",
   "metadata": {
    "execution": {
     "iopub.execute_input": "2024-07-15T08:48:22.554253Z",
     "iopub.status.busy": "2024-07-15T08:48:22.554188Z",
     "iopub.status.idle": "2024-07-15T08:48:23.592865Z",
     "shell.execute_reply": "2024-07-15T08:48:23.592340Z",
     "shell.execute_reply.started": "2024-07-15T08:48:22.554246Z"
    }
   },
   "outputs": [
    {
     "name": "stdout",
     "output_type": "stream",
     "text": [
      "Requirement already satisfied: pandas in /opt/anaconda3/envs/thesis/lib/python3.10/site-packages (2.2.1)\n",
      "Requirement already satisfied: datasets in /opt/anaconda3/envs/thesis/lib/python3.10/site-packages (2.18.0)\n",
      "Requirement already satisfied: scikit-learn in /opt/anaconda3/envs/thesis/lib/python3.10/site-packages (1.4.1.post1)\n",
      "Requirement already satisfied: numpy<2,>=1.22.4 in /opt/anaconda3/envs/thesis/lib/python3.10/site-packages (from pandas) (1.26.4)\n",
      "Requirement already satisfied: python-dateutil>=2.8.2 in /opt/anaconda3/envs/thesis/lib/python3.10/site-packages (from pandas) (2.8.2)\n",
      "Requirement already satisfied: pytz>=2020.1 in /opt/anaconda3/envs/thesis/lib/python3.10/site-packages (from pandas) (2023.3.post1)\n",
      "Requirement already satisfied: tzdata>=2022.7 in /opt/anaconda3/envs/thesis/lib/python3.10/site-packages (from pandas) (2023.3)\n",
      "Requirement already satisfied: filelock in /opt/anaconda3/envs/thesis/lib/python3.10/site-packages (from datasets) (3.13.1)\n",
      "Requirement already satisfied: pyarrow>=12.0.0 in /opt/anaconda3/envs/thesis/lib/python3.10/site-packages (from datasets) (15.0.2)\n",
      "Requirement already satisfied: pyarrow-hotfix in /opt/anaconda3/envs/thesis/lib/python3.10/site-packages (from datasets) (0.6)\n",
      "Requirement already satisfied: dill<0.3.9,>=0.3.0 in /opt/anaconda3/envs/thesis/lib/python3.10/site-packages (from datasets) (0.3.8)\n",
      "Requirement already satisfied: requests>=2.19.0 in /opt/anaconda3/envs/thesis/lib/python3.10/site-packages (from datasets) (2.31.0)\n",
      "Requirement already satisfied: tqdm>=4.62.1 in /opt/anaconda3/envs/thesis/lib/python3.10/site-packages (from datasets) (4.66.2)\n",
      "Requirement already satisfied: xxhash in /opt/anaconda3/envs/thesis/lib/python3.10/site-packages (from datasets) (3.4.1)\n",
      "Requirement already satisfied: multiprocess in /opt/anaconda3/envs/thesis/lib/python3.10/site-packages (from datasets) (0.70.16)\n",
      "Requirement already satisfied: fsspec<=2024.2.0,>=2023.1.0 in /opt/anaconda3/envs/thesis/lib/python3.10/site-packages (from fsspec[http]<=2024.2.0,>=2023.1.0->datasets) (2024.2.0)\n",
      "Requirement already satisfied: aiohttp in /opt/anaconda3/envs/thesis/lib/python3.10/site-packages (from datasets) (3.9.3)\n",
      "Requirement already satisfied: huggingface-hub>=0.19.4 in /opt/anaconda3/envs/thesis/lib/python3.10/site-packages (from datasets) (0.22.2)\n",
      "Requirement already satisfied: packaging in /opt/anaconda3/envs/thesis/lib/python3.10/site-packages (from datasets) (23.2)\n",
      "Requirement already satisfied: pyyaml>=5.1 in /opt/anaconda3/envs/thesis/lib/python3.10/site-packages (from datasets) (6.0.1)\n",
      "Requirement already satisfied: scipy>=1.6.0 in /opt/anaconda3/envs/thesis/lib/python3.10/site-packages (from scikit-learn) (1.13.0)\n",
      "Requirement already satisfied: joblib>=1.2.0 in /opt/anaconda3/envs/thesis/lib/python3.10/site-packages (from scikit-learn) (1.3.2)\n",
      "Requirement already satisfied: threadpoolctl>=2.0.0 in /opt/anaconda3/envs/thesis/lib/python3.10/site-packages (from scikit-learn) (3.4.0)\n",
      "Requirement already satisfied: aiosignal>=1.1.2 in /opt/anaconda3/envs/thesis/lib/python3.10/site-packages (from aiohttp->datasets) (1.3.1)\n",
      "Requirement already satisfied: attrs>=17.3.0 in /opt/anaconda3/envs/thesis/lib/python3.10/site-packages (from aiohttp->datasets) (23.1.0)\n",
      "Requirement already satisfied: frozenlist>=1.1.1 in /opt/anaconda3/envs/thesis/lib/python3.10/site-packages (from aiohttp->datasets) (1.4.1)\n",
      "Requirement already satisfied: multidict<7.0,>=4.5 in /opt/anaconda3/envs/thesis/lib/python3.10/site-packages (from aiohttp->datasets) (6.0.5)\n",
      "Requirement already satisfied: yarl<2.0,>=1.0 in /opt/anaconda3/envs/thesis/lib/python3.10/site-packages (from aiohttp->datasets) (1.9.4)\n",
      "Requirement already satisfied: async-timeout<5.0,>=4.0 in /opt/anaconda3/envs/thesis/lib/python3.10/site-packages (from aiohttp->datasets) (4.0.3)\n",
      "Requirement already satisfied: typing-extensions>=3.7.4.3 in /opt/anaconda3/envs/thesis/lib/python3.10/site-packages (from huggingface-hub>=0.19.4->datasets) (4.11.0)\n",
      "Requirement already satisfied: six>=1.5 in /opt/anaconda3/envs/thesis/lib/python3.10/site-packages (from python-dateutil>=2.8.2->pandas) (1.16.0)\n",
      "Requirement already satisfied: charset-normalizer<4,>=2 in /opt/anaconda3/envs/thesis/lib/python3.10/site-packages (from requests>=2.19.0->datasets) (3.3.2)\n",
      "Requirement already satisfied: idna<4,>=2.5 in /opt/anaconda3/envs/thesis/lib/python3.10/site-packages (from requests>=2.19.0->datasets) (3.4)\n",
      "Requirement already satisfied: urllib3<3,>=1.21.1 in /opt/anaconda3/envs/thesis/lib/python3.10/site-packages (from requests>=2.19.0->datasets) (2.1.0)\n",
      "Requirement already satisfied: certifi>=2017.4.17 in /opt/anaconda3/envs/thesis/lib/python3.10/site-packages (from requests>=2.19.0->datasets) (2024.2.2)\n",
      "Note: you may need to restart the kernel to use updated packages.\n"
     ]
    }
   ],
   "source": [
    "pip install pandas datasets scikit-learn"
   ]
  },
  {
   "cell_type": "code",
   "execution_count": 2,
   "id": "f4eb4d97-7904-4535-b843-601b15b7363c",
   "metadata": {
    "execution": {
     "iopub.execute_input": "2024-07-15T08:48:23.593711Z",
     "iopub.status.busy": "2024-07-15T08:48:23.593592Z",
     "iopub.status.idle": "2024-07-15T08:48:23.596434Z",
     "shell.execute_reply": "2024-07-15T08:48:23.596087Z",
     "shell.execute_reply.started": "2024-07-15T08:48:23.593697Z"
    }
   },
   "outputs": [],
   "source": [
    "import os\n",
    "\n",
    "# Specify the new directory path\n",
    "new_directory = '/Users/levan/ATENEO MASTERAL/Thesis/Development'\n",
    "\n",
    "# Change the current working directory\n",
    "os.chdir(new_directory)"
   ]
  },
  {
   "cell_type": "code",
   "execution_count": 3,
   "id": "8738378c-f930-44bf-9eac-1e5a0c9be538",
   "metadata": {
    "execution": {
     "iopub.execute_input": "2024-07-15T08:48:23.597066Z",
     "iopub.status.busy": "2024-07-15T08:48:23.596896Z",
     "iopub.status.idle": "2024-07-15T08:48:23.861876Z",
     "shell.execute_reply": "2024-07-15T08:48:23.861239Z",
     "shell.execute_reply.started": "2024-07-15T08:48:23.597054Z"
    }
   },
   "outputs": [],
   "source": [
    "import pandas as pd"
   ]
  },
  {
   "cell_type": "markdown",
   "id": "0e7259b0-0851-4292-ad79-04e46ac07b92",
   "metadata": {},
   "source": [
    "# Load Dataset"
   ]
  },
  {
   "cell_type": "code",
   "execution_count": 4,
   "id": "75cfcfd8-e72e-4a02-bc52-cdde2b64f8e9",
   "metadata": {
    "execution": {
     "iopub.execute_input": "2024-07-15T08:48:23.869165Z",
     "iopub.status.busy": "2024-07-15T08:48:23.866852Z",
     "iopub.status.idle": "2024-07-15T08:48:29.064111Z",
     "shell.execute_reply": "2024-07-15T08:48:29.062737Z",
     "shell.execute_reply.started": "2024-07-15T08:48:23.869144Z"
    }
   },
   "outputs": [],
   "source": [
    "from datasets import load_dataset\n",
    "\n",
    "dataset = load_dataset(\"ccosme/FiReCS\")\n",
    "\n",
    "train_data = dataset['train']\n",
    "test_data = dataset['test']\n",
    "\n",
    "dataset1 = pd.DataFrame(train_data)\n",
    "dataset2 = pd.DataFrame(test_data)"
   ]
  },
  {
   "cell_type": "code",
   "execution_count": 5,
   "id": "20e93602-3b74-4177-be9d-e82cdcb9d10f",
   "metadata": {
    "execution": {
     "iopub.execute_input": "2024-07-15T08:48:29.069377Z",
     "iopub.status.busy": "2024-07-15T08:48:29.068719Z",
     "iopub.status.idle": "2024-07-15T08:48:29.101290Z",
     "shell.execute_reply": "2024-07-15T08:48:29.100484Z",
     "shell.execute_reply.started": "2024-07-15T08:48:29.069350Z"
    }
   },
   "outputs": [
    {
     "data": {
      "text/html": [
       "<div>\n",
       "<style scoped>\n",
       "    .dataframe tbody tr th:only-of-type {\n",
       "        vertical-align: middle;\n",
       "    }\n",
       "\n",
       "    .dataframe tbody tr th {\n",
       "        vertical-align: top;\n",
       "    }\n",
       "\n",
       "    .dataframe thead th {\n",
       "        text-align: right;\n",
       "    }\n",
       "</style>\n",
       "<table border=\"1\" class=\"dataframe\">\n",
       "  <thead>\n",
       "    <tr style=\"text-align: right;\">\n",
       "      <th></th>\n",
       "      <th>review</th>\n",
       "      <th>label</th>\n",
       "    </tr>\n",
       "  </thead>\n",
       "  <tbody>\n",
       "    <tr>\n",
       "      <th>0</th>\n",
       "      <td>im very disappointed kasi di gumana ang dalawa...</td>\n",
       "      <td>0.0</td>\n",
       "    </tr>\n",
       "    <tr>\n",
       "      <th>1</th>\n",
       "      <td>10 10 it has minor damage when it was delivere...</td>\n",
       "      <td>1.0</td>\n",
       "    </tr>\n",
       "    <tr>\n",
       "      <th>2</th>\n",
       "      <td>super ganda then tama ung size and color sa uu...</td>\n",
       "      <td>2.0</td>\n",
       "    </tr>\n",
       "    <tr>\n",
       "      <th>3</th>\n",
       "      <td>we like it po madali naming na receive and goo...</td>\n",
       "      <td>2.0</td>\n",
       "    </tr>\n",
       "    <tr>\n",
       "      <th>4</th>\n",
       "      <td>walang picture and video nung product wala kas...</td>\n",
       "      <td>2.0</td>\n",
       "    </tr>\n",
       "  </tbody>\n",
       "</table>\n",
       "</div>"
      ],
      "text/plain": [
       "                                              review  label\n",
       "0  im very disappointed kasi di gumana ang dalawa...    0.0\n",
       "1  10 10 it has minor damage when it was delivere...    1.0\n",
       "2  super ganda then tama ung size and color sa uu...    2.0\n",
       "3  we like it po madali naming na receive and goo...    2.0\n",
       "4  walang picture and video nung product wala kas...    2.0"
      ]
     },
     "execution_count": 5,
     "metadata": {},
     "output_type": "execute_result"
    }
   ],
   "source": [
    "dataset1.head()"
   ]
  },
  {
   "cell_type": "code",
   "execution_count": 6,
   "id": "1e0044a4-8483-4a1e-b129-52c77dde309e",
   "metadata": {
    "execution": {
     "iopub.execute_input": "2024-07-15T08:48:29.108109Z",
     "iopub.status.busy": "2024-07-15T08:48:29.107566Z",
     "iopub.status.idle": "2024-07-15T08:48:29.113722Z",
     "shell.execute_reply": "2024-07-15T08:48:29.113156Z",
     "shell.execute_reply.started": "2024-07-15T08:48:29.108091Z"
    }
   },
   "outputs": [
    {
     "data": {
      "text/plain": [
       "label\n",
       "1.0    2549\n",
       "2.0    2410\n",
       "0.0    2381\n",
       "Name: count, dtype: int64"
      ]
     },
     "execution_count": 6,
     "metadata": {},
     "output_type": "execute_result"
    }
   ],
   "source": [
    "dataset1.label.value_counts()"
   ]
  },
  {
   "cell_type": "code",
   "execution_count": 7,
   "id": "da3e81c4-89d9-4630-8c27-ff4b64a790e9",
   "metadata": {
    "execution": {
     "iopub.execute_input": "2024-07-15T08:48:29.116834Z",
     "iopub.status.busy": "2024-07-15T08:48:29.116677Z",
     "iopub.status.idle": "2024-07-15T08:48:29.123191Z",
     "shell.execute_reply": "2024-07-15T08:48:29.122410Z",
     "shell.execute_reply.started": "2024-07-15T08:48:29.116825Z"
    }
   },
   "outputs": [
    {
     "data": {
      "text/html": [
       "<div>\n",
       "<style scoped>\n",
       "    .dataframe tbody tr th:only-of-type {\n",
       "        vertical-align: middle;\n",
       "    }\n",
       "\n",
       "    .dataframe tbody tr th {\n",
       "        vertical-align: top;\n",
       "    }\n",
       "\n",
       "    .dataframe thead th {\n",
       "        text-align: right;\n",
       "    }\n",
       "</style>\n",
       "<table border=\"1\" class=\"dataframe\">\n",
       "  <thead>\n",
       "    <tr style=\"text-align: right;\">\n",
       "      <th></th>\n",
       "      <th>review</th>\n",
       "      <th>label</th>\n",
       "    </tr>\n",
       "  </thead>\n",
       "  <tbody>\n",
       "    <tr>\n",
       "      <th>0</th>\n",
       "      <td>okay naman kaso maliit size e adjust nyona lan...</td>\n",
       "      <td>1.0</td>\n",
       "    </tr>\n",
       "    <tr>\n",
       "      <th>1</th>\n",
       "      <td>good seller sends out photo before shipping ma...</td>\n",
       "      <td>2.0</td>\n",
       "    </tr>\n",
       "    <tr>\n",
       "      <th>2</th>\n",
       "      <td>di cya gano kabilis sa net loading and loading...</td>\n",
       "      <td>1.0</td>\n",
       "    </tr>\n",
       "    <tr>\n",
       "      <th>3</th>\n",
       "      <td>green ang order ko black ang dumating pero gre...</td>\n",
       "      <td>0.0</td>\n",
       "    </tr>\n",
       "    <tr>\n",
       "      <th>4</th>\n",
       "      <td>no scam po di deliver sa akin yunq parcel ko t...</td>\n",
       "      <td>0.0</td>\n",
       "    </tr>\n",
       "  </tbody>\n",
       "</table>\n",
       "</div>"
      ],
      "text/plain": [
       "                                              review  label\n",
       "0  okay naman kaso maliit size e adjust nyona lan...    1.0\n",
       "1  good seller sends out photo before shipping ma...    2.0\n",
       "2  di cya gano kabilis sa net loading and loading...    1.0\n",
       "3  green ang order ko black ang dumating pero gre...    0.0\n",
       "4  no scam po di deliver sa akin yunq parcel ko t...    0.0"
      ]
     },
     "execution_count": 7,
     "metadata": {},
     "output_type": "execute_result"
    }
   ],
   "source": [
    "dataset2.head()"
   ]
  },
  {
   "cell_type": "code",
   "execution_count": 8,
   "id": "374add80-fe04-4078-81b0-35b2da3a4531",
   "metadata": {
    "execution": {
     "iopub.execute_input": "2024-07-15T08:48:29.124369Z",
     "iopub.status.busy": "2024-07-15T08:48:29.124172Z",
     "iopub.status.idle": "2024-07-15T08:48:29.129787Z",
     "shell.execute_reply": "2024-07-15T08:48:29.128956Z",
     "shell.execute_reply.started": "2024-07-15T08:48:29.124351Z"
    }
   },
   "outputs": [
    {
     "data": {
      "text/plain": [
       "label\n",
       "1.0    1087\n",
       "2.0    1033\n",
       "0.0    1027\n",
       "Name: count, dtype: int64"
      ]
     },
     "execution_count": 8,
     "metadata": {},
     "output_type": "execute_result"
    }
   ],
   "source": [
    "dataset2.label.value_counts()"
   ]
  },
  {
   "cell_type": "markdown",
   "id": "2425fae3-0624-4bb6-bf51-57ce7cb9e75e",
   "metadata": {},
   "source": [
    "# Data Preprocessing"
   ]
  },
  {
   "cell_type": "code",
   "execution_count": 9,
   "id": "231f94f5-79aa-4503-8700-58340fa64c68",
   "metadata": {
    "execution": {
     "iopub.execute_input": "2024-07-15T08:48:29.130846Z",
     "iopub.status.busy": "2024-07-15T08:48:29.130646Z",
     "iopub.status.idle": "2024-07-15T08:48:29.139431Z",
     "shell.execute_reply": "2024-07-15T08:48:29.138907Z",
     "shell.execute_reply.started": "2024-07-15T08:48:29.130830Z"
    }
   },
   "outputs": [
    {
     "name": "stdout",
     "output_type": "stream",
     "text": [
      "                                              review  label\n",
      "0  im very disappointed kasi di gumana ang dalawa...      0\n",
      "1  10 10 it has minor damage when it was delivere...      1\n",
      "2  super ganda then tama ung size and color sa uu...      2\n",
      "3  we like it po madali naming na receive and goo...      2\n",
      "4  walang picture and video nung product wala kas...      2\n"
     ]
    },
    {
     "data": {
      "text/plain": [
       "label\n",
       "1    2549\n",
       "2    2410\n",
       "0    2381\n",
       "Name: count, dtype: int64"
      ]
     },
     "execution_count": 9,
     "metadata": {},
     "output_type": "execute_result"
    }
   ],
   "source": [
    "# Drop rows where 'label' is NaN\n",
    "dataset1 = dataset1.dropna(subset=['label'])\n",
    "\n",
    "# Convert 'label' from float to integer\n",
    "dataset1['label'] = dataset1['label'].astype(int)\n",
    "\n",
    "print(dataset1.head())\n",
    "dataset1.label.value_counts()"
   ]
  },
  {
   "cell_type": "code",
   "execution_count": 10,
   "id": "68b0bbd4-1f83-41a0-96c5-691f2397a355",
   "metadata": {
    "execution": {
     "iopub.execute_input": "2024-07-15T08:48:29.140972Z",
     "iopub.status.busy": "2024-07-15T08:48:29.140562Z",
     "iopub.status.idle": "2024-07-15T08:48:29.149137Z",
     "shell.execute_reply": "2024-07-15T08:48:29.148220Z",
     "shell.execute_reply.started": "2024-07-15T08:48:29.140951Z"
    }
   },
   "outputs": [
    {
     "name": "stdout",
     "output_type": "stream",
     "text": [
      "                                              review  label\n",
      "0  okay naman kaso maliit size e adjust nyona lan...      1\n",
      "1  good seller sends out photo before shipping ma...      2\n",
      "2  di cya gano kabilis sa net loading and loading...      1\n",
      "3  green ang order ko black ang dumating pero gre...      0\n",
      "4  no scam po di deliver sa akin yunq parcel ko t...      0\n"
     ]
    },
    {
     "data": {
      "text/plain": [
       "label\n",
       "1    1087\n",
       "2    1033\n",
       "0    1027\n",
       "Name: count, dtype: int64"
      ]
     },
     "execution_count": 10,
     "metadata": {},
     "output_type": "execute_result"
    }
   ],
   "source": [
    "# Drop rows where 'label' is NaN\n",
    "dataset2 = dataset2.dropna(subset=['label'])\n",
    "\n",
    "# Convert 'label' from float to integer\n",
    "dataset2['label'] = dataset2['label'].astype(int)\n",
    "\n",
    "print(dataset2.head())\n",
    "dataset2.label.value_counts()"
   ]
  },
  {
   "cell_type": "markdown",
   "id": "9031351a-45ef-49d0-8dc6-f51e5cd518f5",
   "metadata": {},
   "source": [
    "# Combine Datasets"
   ]
  },
  {
   "cell_type": "code",
   "execution_count": 11,
   "id": "954e9ab0-99e8-40df-9a8f-1cdfda3209ad",
   "metadata": {
    "execution": {
     "iopub.execute_input": "2024-07-15T08:48:29.150184Z",
     "iopub.status.busy": "2024-07-15T08:48:29.150021Z",
     "iopub.status.idle": "2024-07-15T08:48:29.154902Z",
     "shell.execute_reply": "2024-07-15T08:48:29.154323Z",
     "shell.execute_reply.started": "2024-07-15T08:48:29.150164Z"
    }
   },
   "outputs": [],
   "source": [
    "combined_df = pd.concat([dataset1, dataset2]).reset_index(drop=True)"
   ]
  },
  {
   "cell_type": "code",
   "execution_count": 12,
   "id": "4ddd3634-c07f-4bfc-bf04-dbcb13c4f4bd",
   "metadata": {
    "execution": {
     "iopub.execute_input": "2024-07-15T08:48:29.156177Z",
     "iopub.status.busy": "2024-07-15T08:48:29.155859Z",
     "iopub.status.idle": "2024-07-15T08:48:29.161696Z",
     "shell.execute_reply": "2024-07-15T08:48:29.161142Z",
     "shell.execute_reply.started": "2024-07-15T08:48:29.156154Z"
    }
   },
   "outputs": [
    {
     "data": {
      "text/html": [
       "<div>\n",
       "<style scoped>\n",
       "    .dataframe tbody tr th:only-of-type {\n",
       "        vertical-align: middle;\n",
       "    }\n",
       "\n",
       "    .dataframe tbody tr th {\n",
       "        vertical-align: top;\n",
       "    }\n",
       "\n",
       "    .dataframe thead th {\n",
       "        text-align: right;\n",
       "    }\n",
       "</style>\n",
       "<table border=\"1\" class=\"dataframe\">\n",
       "  <thead>\n",
       "    <tr style=\"text-align: right;\">\n",
       "      <th></th>\n",
       "      <th>review</th>\n",
       "      <th>label</th>\n",
       "    </tr>\n",
       "  </thead>\n",
       "  <tbody>\n",
       "    <tr>\n",
       "      <th>0</th>\n",
       "      <td>im very disappointed kasi di gumana ang dalawa...</td>\n",
       "      <td>0</td>\n",
       "    </tr>\n",
       "    <tr>\n",
       "      <th>1</th>\n",
       "      <td>10 10 it has minor damage when it was delivere...</td>\n",
       "      <td>1</td>\n",
       "    </tr>\n",
       "    <tr>\n",
       "      <th>2</th>\n",
       "      <td>super ganda then tama ung size and color sa uu...</td>\n",
       "      <td>2</td>\n",
       "    </tr>\n",
       "    <tr>\n",
       "      <th>3</th>\n",
       "      <td>we like it po madali naming na receive and goo...</td>\n",
       "      <td>2</td>\n",
       "    </tr>\n",
       "    <tr>\n",
       "      <th>4</th>\n",
       "      <td>walang picture and video nung product wala kas...</td>\n",
       "      <td>2</td>\n",
       "    </tr>\n",
       "  </tbody>\n",
       "</table>\n",
       "</div>"
      ],
      "text/plain": [
       "                                              review  label\n",
       "0  im very disappointed kasi di gumana ang dalawa...      0\n",
       "1  10 10 it has minor damage when it was delivere...      1\n",
       "2  super ganda then tama ung size and color sa uu...      2\n",
       "3  we like it po madali naming na receive and goo...      2\n",
       "4  walang picture and video nung product wala kas...      2"
      ]
     },
     "execution_count": 12,
     "metadata": {},
     "output_type": "execute_result"
    }
   ],
   "source": [
    "combined_df.head()"
   ]
  },
  {
   "cell_type": "code",
   "execution_count": 13,
   "id": "f72de0a7-0238-4895-ae91-6421fc9f662b",
   "metadata": {
    "execution": {
     "iopub.execute_input": "2024-07-15T08:48:29.163319Z",
     "iopub.status.busy": "2024-07-15T08:48:29.162852Z",
     "iopub.status.idle": "2024-07-15T08:48:29.168459Z",
     "shell.execute_reply": "2024-07-15T08:48:29.167924Z",
     "shell.execute_reply.started": "2024-07-15T08:48:29.163308Z"
    }
   },
   "outputs": [
    {
     "data": {
      "text/plain": [
       "label\n",
       "1    3636\n",
       "2    3443\n",
       "0    3408\n",
       "Name: count, dtype: int64"
      ]
     },
     "execution_count": 13,
     "metadata": {},
     "output_type": "execute_result"
    }
   ],
   "source": [
    "combined_df.label.value_counts()"
   ]
  },
  {
   "cell_type": "markdown",
   "id": "dda9b144-b7d4-456d-abb7-4eff561ea9c1",
   "metadata": {},
   "source": [
    "# Partition Data into 3"
   ]
  },
  {
   "cell_type": "code",
   "execution_count": 14,
   "id": "803e49eb-e7ac-453a-9ec8-c65d2d965cc0",
   "metadata": {
    "execution": {
     "iopub.execute_input": "2024-07-15T08:48:29.169669Z",
     "iopub.status.busy": "2024-07-15T08:48:29.169403Z",
     "iopub.status.idle": "2024-07-15T08:48:29.435411Z",
     "shell.execute_reply": "2024-07-15T08:48:29.435123Z",
     "shell.execute_reply.started": "2024-07-15T08:48:29.169657Z"
    }
   },
   "outputs": [],
   "source": [
    "from sklearn.model_selection import train_test_split"
   ]
  },
  {
   "cell_type": "code",
   "execution_count": 15,
   "id": "29c2e50b-3fd9-4131-88ab-910a1e80a648",
   "metadata": {
    "execution": {
     "iopub.execute_input": "2024-07-15T08:48:29.435918Z",
     "iopub.status.busy": "2024-07-15T08:48:29.435792Z",
     "iopub.status.idle": "2024-07-15T08:48:29.441777Z",
     "shell.execute_reply": "2024-07-15T08:48:29.441540Z",
     "shell.execute_reply.started": "2024-07-15T08:48:29.435911Z"
    }
   },
   "outputs": [],
   "source": [
    "# Splitting the dataset into two parts, maintaining class balance\n",
    "\n",
    "# Step 1: Split the original dataset into temp_data (90%) and data_c (10%)\n",
    "temp_data, data_c = train_test_split(combined_df, test_size=0.1, stratify=combined_df['label'], random_state=42)\n",
    "\n",
    "# Step 2: Split temp_data into data_a and data_b, each being 50% of temp_data (which is 45% of the original dataset)\n",
    "data_a, data_b = train_test_split(temp_data, test_size=0.5, stratify=temp_data['label'], random_state=42)"
   ]
  },
  {
   "cell_type": "code",
   "execution_count": 16,
   "id": "b3770d4f-49ff-4566-aefa-4ea3c6cebb97",
   "metadata": {
    "execution": {
     "iopub.execute_input": "2024-07-15T08:48:29.442290Z",
     "iopub.status.busy": "2024-07-15T08:48:29.442213Z",
     "iopub.status.idle": "2024-07-15T08:48:29.444710Z",
     "shell.execute_reply": "2024-07-15T08:48:29.444409Z",
     "shell.execute_reply.started": "2024-07-15T08:48:29.442283Z"
    }
   },
   "outputs": [
    {
     "data": {
      "text/plain": [
       "label\n",
       "1    1636\n",
       "2    1550\n",
       "0    1533\n",
       "Name: count, dtype: int64"
      ]
     },
     "execution_count": 16,
     "metadata": {},
     "output_type": "execute_result"
    }
   ],
   "source": [
    "data_a.label.value_counts()"
   ]
  },
  {
   "cell_type": "code",
   "execution_count": 17,
   "id": "f9bf321b-5ff0-4094-bdc9-2310f6220584",
   "metadata": {
    "execution": {
     "iopub.execute_input": "2024-07-15T08:48:29.445246Z",
     "iopub.status.busy": "2024-07-15T08:48:29.445171Z",
     "iopub.status.idle": "2024-07-15T08:48:29.447714Z",
     "shell.execute_reply": "2024-07-15T08:48:29.447427Z",
     "shell.execute_reply.started": "2024-07-15T08:48:29.445239Z"
    }
   },
   "outputs": [
    {
     "data": {
      "text/plain": [
       "label\n",
       "1    1636\n",
       "2    1549\n",
       "0    1534\n",
       "Name: count, dtype: int64"
      ]
     },
     "execution_count": 17,
     "metadata": {},
     "output_type": "execute_result"
    }
   ],
   "source": [
    "data_b.label.value_counts()"
   ]
  },
  {
   "cell_type": "code",
   "execution_count": 18,
   "id": "f238c755-1b39-44d5-98a4-ab6d56387476",
   "metadata": {
    "execution": {
     "iopub.execute_input": "2024-07-15T08:48:29.448554Z",
     "iopub.status.busy": "2024-07-15T08:48:29.448329Z",
     "iopub.status.idle": "2024-07-15T08:48:29.450990Z",
     "shell.execute_reply": "2024-07-15T08:48:29.450688Z",
     "shell.execute_reply.started": "2024-07-15T08:48:29.448542Z"
    }
   },
   "outputs": [
    {
     "data": {
      "text/plain": [
       "label\n",
       "1    364\n",
       "2    344\n",
       "0    341\n",
       "Name: count, dtype: int64"
      ]
     },
     "execution_count": 18,
     "metadata": {},
     "output_type": "execute_result"
    }
   ],
   "source": [
    "data_c.label.value_counts()"
   ]
  },
  {
   "cell_type": "markdown",
   "id": "36ea6a24-0b52-42d7-8249-f7dc9a812d23",
   "metadata": {},
   "source": [
    "# Download CSV"
   ]
  },
  {
   "cell_type": "code",
   "execution_count": 19,
   "id": "d1d537d2-d6c6-419f-bc3e-200715af7d3e",
   "metadata": {
    "execution": {
     "iopub.execute_input": "2024-07-15T08:48:29.451612Z",
     "iopub.status.busy": "2024-07-15T08:48:29.451488Z",
     "iopub.status.idle": "2024-07-15T08:48:29.470751Z",
     "shell.execute_reply": "2024-07-15T08:48:29.470303Z",
     "shell.execute_reply.started": "2024-07-15T08:48:29.451603Z"
    }
   },
   "outputs": [],
   "source": [
    "folder_path = 'Corpus/FiReCS/'\n",
    "\n",
    "# Save DataFrames as CSV files\n",
    "data_a.to_csv(f'{folder_path}FiReCS_data_a.csv', index=False)\n",
    "data_b.to_csv(f'{folder_path}FiReCS_data_b.csv', index=False)\n",
    "data_c.to_csv(f'{folder_path}FiReCS_data_c.csv', index=False)"
   ]
  }
 ],
 "metadata": {
  "kernelspec": {
   "display_name": "Python 3 (ipykernel)",
   "language": "python",
   "name": "python3"
  },
  "language_info": {
   "codemirror_mode": {
    "name": "ipython",
    "version": 3
   },
   "file_extension": ".py",
   "mimetype": "text/x-python",
   "name": "python",
   "nbconvert_exporter": "python",
   "pygments_lexer": "ipython3",
   "version": "3.10.14"
  }
 },
 "nbformat": 4,
 "nbformat_minor": 5
}
