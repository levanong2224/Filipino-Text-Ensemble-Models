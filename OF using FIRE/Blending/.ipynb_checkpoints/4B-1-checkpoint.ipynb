{
 "cells": [
  {
   "cell_type": "markdown",
   "id": "1dc06b17-fcee-4505-bd74-d98376ce3ed9",
   "metadata": {},
   "source": [
    "# Train Blending (BERT cased, DistilBERT uncased, DeBERTa)"
   ]
  },
  {
   "cell_type": "markdown",
   "id": "6ed25c7a-5ad2-4d0f-855d-82f4aa671e0e",
   "metadata": {},
   "source": [
    "Best F1 score BERT model on HS_C dataset are used"
   ]
  },
  {
   "cell_type": "code",
   "execution_count": 1,
   "id": "d841c17f-f52e-4124-b37b-c3b3fb714be4",
   "metadata": {
    "execution": {
     "iopub.execute_input": "2024-08-30T09:11:26.685007Z",
     "iopub.status.busy": "2024-08-30T09:11:26.684787Z",
     "iopub.status.idle": "2024-08-30T09:11:26.815100Z",
     "shell.execute_reply": "2024-08-30T09:11:26.814822Z",
     "shell.execute_reply.started": "2024-08-30T09:11:26.684995Z"
    }
   },
   "outputs": [],
   "source": [
    "# This automates data tabulation onto google sheets \n",
    "\n",
    "import gspread\n",
    "from oauth2client.service_account import ServiceAccountCredentials\n",
    "from googleapiclient.discovery import build\n",
    "\n",
    "import os\n",
    "\n",
    "# new directory path\n",
    "new_directory = '/Users/levan/ATENEO MASTERAL/Thesis'\n",
    "\n",
    "# Change the current working directory\n",
    "os.chdir(new_directory)\n",
    "\n",
    "# Use creds to create a client to interact with the Google Drive API\n",
    "scope = ['https://spreadsheets.google.com/feeds','https://www.googleapis.com/auth/drive']\n",
    "creds = ServiceAccountCredentials.from_json_keyfile_name('thesis-432315-12daec8d1ff6.json', scope)\n",
    "\n",
    "service = build('sheets', 'v4', credentials=creds)\n",
    "\n",
    "client = gspread.authorize(creds)\n",
    "\n",
    "spreadsheet_id = '13Fk5oXX9B_mdHmNpMKQMy29y9iiHWrgQCa4hUTiQKD0' "
   ]
  },
  {
   "cell_type": "markdown",
   "id": "63d70bdb-0504-41ef-913d-e4b7f778f561",
   "metadata": {},
   "source": [
    "## Load Dataset"
   ]
  },
  {
   "cell_type": "code",
   "execution_count": 2,
   "id": "c7b193db-3f30-4e5f-a38b-c254bf1e1976",
   "metadata": {
    "execution": {
     "iopub.execute_input": "2024-08-30T09:11:26.815574Z",
     "iopub.status.busy": "2024-08-30T09:11:26.815496Z",
     "iopub.status.idle": "2024-08-30T09:11:28.634823Z",
     "shell.execute_reply": "2024-08-30T09:11:28.634534Z",
     "shell.execute_reply.started": "2024-08-30T09:11:26.815566Z"
    }
   },
   "outputs": [],
   "source": [
    "import pandas as pd\n",
    "import numpy as np\n",
    "from sklearn.model_selection import train_test_split\n",
    "from transformers import BertTokenizer, BertForSequenceClassification, AutoConfig\n",
    "from transformers import AutoTokenizer, AutoModelForSequenceClassification\n",
    "from torch.utils.data import DataLoader, TensorDataset\n",
    "import torch\n",
    "import torch.nn.functional as F\n",
    "\n",
    "from sklearn.linear_model import LogisticRegression\n",
    "from sklearn.tree import DecisionTreeClassifier\n",
    "from sklearn.naive_bayes import BernoulliNB\n",
    "from sklearn.naive_bayes import GaussianNB\n",
    "from sklearn.svm import LinearSVC\n",
    "from sklearn.svm import SVC\n",
    "\n",
    "from sklearn.metrics import accuracy_score, precision_score, recall_score, f1_score, confusion_matrix\n",
    "\n",
    "\n",
    "import os\n",
    "\n",
    "# new directory path\n",
    "new_directory = '/Users/levan/ATENEO MASTERAL/Thesis/Development'\n",
    "\n",
    "# Change the current working directory\n",
    "os.chdir(new_directory)\n",
    "\n",
    "# Adjust file paths to local system\n",
    "file_path = 'Corpus/FiReCS/FiReCS_data_b.csv'\n",
    "df = pd.read_csv(file_path)\n",
    "\n",
    "# Split the data\n",
    "holdout_df, test_df = train_test_split(df, test_size=0.3, random_state=42)"
   ]
  },
  {
   "cell_type": "markdown",
   "id": "a307e67b-00c3-47aa-8f83-34bc62c93f83",
   "metadata": {
    "execution": {
     "iopub.execute_input": "2024-04-11T10:08:58.783500Z",
     "iopub.status.busy": "2024-04-11T10:08:58.782872Z",
     "iopub.status.idle": "2024-04-11T10:08:58.788089Z",
     "shell.execute_reply": "2024-04-11T10:08:58.787147Z",
     "shell.execute_reply.started": "2024-04-11T10:08:58.783465Z"
    }
   },
   "source": [
    "## Load Models and Tokenizers"
   ]
  },
  {
   "cell_type": "code",
   "execution_count": 3,
   "id": "1e666f7e-9db0-4666-a112-2af127307162",
   "metadata": {
    "execution": {
     "iopub.execute_input": "2024-08-30T09:11:28.635379Z",
     "iopub.status.busy": "2024-08-30T09:11:28.635297Z",
     "iopub.status.idle": "2024-08-30T09:11:32.263899Z",
     "shell.execute_reply": "2024-08-30T09:11:32.263563Z",
     "shell.execute_reply.started": "2024-08-30T09:11:28.635371Z"
    }
   },
   "outputs": [],
   "source": [
    "def load_model_and_tokenizer(model_path, tokenizer_path, base_model):\n",
    "    # Load the tokenizer from the local directory\n",
    "    tokenizer = AutoTokenizer.from_pretrained(tokenizer_path)\n",
    "    \n",
    "    # Load the configuration from the base model\n",
    "    config = AutoConfig.from_pretrained(base_model, num_labels=2)\n",
    "\n",
    "    # Initialize the model with the configuration\n",
    "    model = AutoModelForSequenceClassification.from_pretrained(model_path, config=config)\n",
    "\n",
    "    # Ensure the model is in evaluation mode\n",
    "    model.eval()\n",
    "    \n",
    "    return model, tokenizer\n",
    "\n",
    "model_info = {\n",
    "    \n",
    "    'BERT cased': {\n",
    "        'model_path': 'BERT models/hs_bert-base-cased-finetuned',\n",
    "        'tokenizer_path': 'BERT models/hs_bert-base-cased-finetuned',\n",
    "        'base_model': 'google-bert/bert-base-cased'\n",
    "    },\n",
    "\n",
    "    'DistilBERT uncased': {\n",
    "        'model_path': 'BERT models/hs_distilbert-base-uncased-finetuned',\n",
    "        'tokenizer_path': 'BERT models/hs_distilbert-base-uncased-finetuned',\n",
    "        'base_model': 'distilbert/distilbert-base-uncased'\n",
    "    },\n",
    "\n",
    "    'DeBERTa': {\n",
    "        'model_path': 'BERT models/hs_DeBERTa-finetuned',\n",
    "        'tokenizer_path': 'BERT models/hs_DeBERTa-finetuned',\n",
    "        'base_model': 'microsoft/deberta-v3-base'\n",
    "    },\n",
    "    \n",
    "    'BERT uncased': {\n",
    "        'model_path': 'BERT models/hs_bert-base-uncased-finetuned',\n",
    "        'tokenizer_path': 'BERT models/hs_bert-base-uncased-finetuned',\n",
    "        'base_model': 'google-bert/bert-base-uncased'\n",
    "    },\n",
    "\n",
    "}\n",
    "\n",
    "models_and_tokenizers = {name: load_model_and_tokenizer(info['model_path'], \n",
    "                                                        info['tokenizer_path'], \n",
    "                                                        info['base_model']) \n",
    "                         for name, info in model_info.items()}"
   ]
  },
  {
   "cell_type": "markdown",
   "id": "a1a9b906-a837-4de8-b8a2-05aa44074c5c",
   "metadata": {},
   "source": [
    "## Apply Tokenization"
   ]
  },
  {
   "cell_type": "code",
   "execution_count": 4,
   "id": "be4981ce-3268-449d-9cb4-6ba780177756",
   "metadata": {
    "execution": {
     "iopub.execute_input": "2024-08-30T09:11:32.264570Z",
     "iopub.status.busy": "2024-08-30T09:11:32.264483Z",
     "iopub.status.idle": "2024-08-30T09:11:32.266795Z",
     "shell.execute_reply": "2024-08-30T09:11:32.266512Z",
     "shell.execute_reply.started": "2024-08-30T09:11:32.264562Z"
    }
   },
   "outputs": [],
   "source": [
    "def texts_to_dataloader(texts, tokenizer, batch_size=32):\n",
    "    device = torch.device(\"mps\" if torch.backends.mps.is_available() else \"cpu\")\n",
    "    encodings = tokenizer(texts, truncation=True, padding=True, max_length=512, return_tensors=\"pt\")\n",
    "    \n",
    "    dataset = TensorDataset(encodings['input_ids'], encodings['attention_mask'])\n",
    "    dataloader = DataLoader(dataset, batch_size=batch_size)\n",
    "    return dataloader"
   ]
  },
  {
   "cell_type": "markdown",
   "id": "8d574483-f790-48ba-a7d0-07cc8f2973d4",
   "metadata": {},
   "source": [
    "## Perform Blending"
   ]
  },
  {
   "cell_type": "code",
   "execution_count": 5,
   "id": "5beaf28b-e640-41ad-9ce1-388389309ae9",
   "metadata": {
    "execution": {
     "iopub.execute_input": "2024-08-30T09:11:32.267270Z",
     "iopub.status.busy": "2024-08-30T09:11:32.267203Z",
     "iopub.status.idle": "2024-08-30T09:11:32.270755Z",
     "shell.execute_reply": "2024-08-30T09:11:32.270533Z",
     "shell.execute_reply.started": "2024-08-30T09:11:32.267264Z"
    }
   },
   "outputs": [],
   "source": [
    "%load_ext memory_profiler"
   ]
  },
  {
   "cell_type": "code",
   "execution_count": 6,
   "id": "89d13637-7546-4338-8e57-cde7377a7c97",
   "metadata": {
    "execution": {
     "iopub.execute_input": "2024-08-30T09:11:32.272252Z",
     "iopub.status.busy": "2024-08-30T09:11:32.272172Z",
     "iopub.status.idle": "2024-08-30T09:13:32.941677Z",
     "shell.execute_reply": "2024-08-30T09:13:32.941371Z",
     "shell.execute_reply.started": "2024-08-30T09:11:32.272246Z"
    }
   },
   "outputs": [
    {
     "name": "stdout",
     "output_type": "stream",
     "text": [
      "peak memory: 1975.84 MiB, increment: 156.73 MiB\n"
     ]
    }
   ],
   "source": [
    "%%memit\n",
    "\n",
    "def get_meta_features(model, tokenizer, df, device):\n",
    "    texts = df['text'].tolist()\n",
    "    dataloader = texts_to_dataloader(texts, tokenizer, batch_size=32)\n",
    "    \n",
    "    model.to(device)\n",
    "    model.eval()\n",
    "    meta_features = []\n",
    "    with torch.no_grad():\n",
    "        for input_ids, attention_mask in dataloader:\n",
    "            input_ids, attention_mask = input_ids.to(device), attention_mask.to(device)\n",
    "            outputs = model(input_ids=input_ids, attention_mask=attention_mask)\n",
    "            probs = F.softmax(outputs.logits, dim=1)\n",
    "            meta_features.append(probs.cpu().numpy())\n",
    "    return np.concatenate(meta_features)\n",
    "\n",
    "device = torch.device(\"mps\" if torch.backends.mps.is_available() else \"cpu\")\n",
    "\n",
    "# Generate meta-features for holdout and test sets\n",
    "holdout_meta_features = [get_meta_features(model, tokenizer, holdout_df, device) for model, tokenizer in models_and_tokenizers.values()]\n",
    "test_meta_features = [get_meta_features(model, tokenizer, test_df, device) for model, tokenizer in models_and_tokenizers.values()]\n",
    "\n",
    "# Stack meta-features\n",
    "holdout_meta_features = np.hstack(holdout_meta_features)\n",
    "test_meta_features = np.hstack(test_meta_features)"
   ]
  },
  {
   "cell_type": "code",
   "execution_count": 7,
   "id": "cdae5044-793a-494c-b9f9-0c90839f854b",
   "metadata": {
    "execution": {
     "iopub.execute_input": "2024-08-30T09:13:32.942279Z",
     "iopub.status.busy": "2024-08-30T09:13:32.942202Z",
     "iopub.status.idle": "2024-08-30T09:13:57.862280Z",
     "shell.execute_reply": "2024-08-30T09:13:57.861970Z",
     "shell.execute_reply.started": "2024-08-30T09:13:32.942272Z"
    }
   },
   "outputs": [
    {
     "name": "stdout",
     "output_type": "stream",
     "text": [
      "Checking base model predictions for BERT cased...\n",
      "Predictions distribution: [0.5269184  0.47308192]\n",
      "Checking base model predictions for DistilBERT uncased...\n",
      "Predictions distribution: [0.48721948 0.51278055]\n",
      "Checking base model predictions for DeBERTa...\n",
      "Predictions distribution: [0.48753217 0.512468  ]\n",
      "Checking base model predictions for BERT uncased...\n",
      "Predictions distribution: [0.5407214 0.4592784]\n"
     ]
    }
   ],
   "source": [
    "# Check the base model predictions\n",
    "for name, (model, tokenizer) in models_and_tokenizers.items():\n",
    "    print(f\"Checking base model predictions for {name}...\")\n",
    "    base_model_preds = get_meta_features(model, tokenizer, test_df, device)\n",
    "    print(\"Predictions distribution:\", np.mean(base_model_preds, axis=0))"
   ]
  },
  {
   "cell_type": "markdown",
   "id": "3f4add97-1099-4447-aa88-e4cfbff99e10",
   "metadata": {},
   "source": [
    "### Train LR"
   ]
  },
  {
   "cell_type": "code",
   "execution_count": 8,
   "id": "66cb131a-a14d-4bf5-9508-59951ea5deb1",
   "metadata": {
    "execution": {
     "iopub.execute_input": "2024-08-30T09:13:57.862983Z",
     "iopub.status.busy": "2024-08-30T09:13:57.862880Z",
     "iopub.status.idle": "2024-08-30T09:13:58.755539Z",
     "shell.execute_reply": "2024-08-30T09:13:58.754197Z",
     "shell.execute_reply.started": "2024-08-30T09:13:57.862973Z"
    }
   },
   "outputs": [
    {
     "name": "stderr",
     "output_type": "stream",
     "text": [
      "huggingface/tokenizers: The current process just got forked, after parallelism has already been used. Disabling parallelism to avoid deadlocks...\n",
      "To disable this warning, you can either:\n",
      "\t- Avoid using `tokenizers` before the fork if possible\n",
      "\t- Explicitly set the environment variable TOKENIZERS_PARALLELISM=(true | false)\n",
      "huggingface/tokenizers: The current process just got forked, after parallelism has already been used. Disabling parallelism to avoid deadlocks...\n",
      "To disable this warning, you can either:\n",
      "\t- Avoid using `tokenizers` before the fork if possible\n",
      "\t- Explicitly set the environment variable TOKENIZERS_PARALLELISM=(true | false)\n",
      "huggingface/tokenizers: The current process just got forked, after parallelism has already been used. Disabling parallelism to avoid deadlocks...\n",
      "To disable this warning, you can either:\n",
      "\t- Avoid using `tokenizers` before the fork if possible\n",
      "\t- Explicitly set the environment variable TOKENIZERS_PARALLELISM=(true | false)\n"
     ]
    },
    {
     "name": "stdout",
     "output_type": "stream",
     "text": [
      "peak memory: 1997.48 MiB, increment: 2.06 MiB\n"
     ]
    }
   ],
   "source": [
    "%%memit\n",
    "# Train the LR meta-classifier\n",
    "lr_meta_classifier = LogisticRegression()\n",
    "lr_meta_classifier.fit(holdout_meta_features, holdout_df['label'].values)\n",
    "\n",
    "lr_final_predictions = lr_meta_classifier.predict(test_meta_features)"
   ]
  },
  {
   "cell_type": "markdown",
   "id": "4aa369d0-24ed-448a-be71-a88956188cb5",
   "metadata": {},
   "source": [
    "### Train NB"
   ]
  },
  {
   "cell_type": "code",
   "execution_count": 9,
   "id": "3ba1d864-f4eb-426a-92fb-5a88061d87c5",
   "metadata": {
    "execution": {
     "iopub.execute_input": "2024-08-30T09:13:58.757457Z",
     "iopub.status.busy": "2024-08-30T09:13:58.757281Z",
     "iopub.status.idle": "2024-08-30T09:13:59.718295Z",
     "shell.execute_reply": "2024-08-30T09:13:59.717895Z",
     "shell.execute_reply.started": "2024-08-30T09:13:58.757439Z"
    }
   },
   "outputs": [
    {
     "name": "stderr",
     "output_type": "stream",
     "text": [
      "huggingface/tokenizers: The current process just got forked, after parallelism has already been used. Disabling parallelism to avoid deadlocks...\n",
      "To disable this warning, you can either:\n",
      "\t- Avoid using `tokenizers` before the fork if possible\n",
      "\t- Explicitly set the environment variable TOKENIZERS_PARALLELISM=(true | false)\n",
      "huggingface/tokenizers: The current process just got forked, after parallelism has already been used. Disabling parallelism to avoid deadlocks...\n",
      "To disable this warning, you can either:\n",
      "\t- Avoid using `tokenizers` before the fork if possible\n",
      "\t- Explicitly set the environment variable TOKENIZERS_PARALLELISM=(true | false)\n",
      "huggingface/tokenizers: The current process just got forked, after parallelism has already been used. Disabling parallelism to avoid deadlocks...\n",
      "To disable this warning, you can either:\n",
      "\t- Avoid using `tokenizers` before the fork if possible\n",
      "\t- Explicitly set the environment variable TOKENIZERS_PARALLELISM=(true | false)\n",
      "huggingface/tokenizers: The current process just got forked, after parallelism has already been used. Disabling parallelism to avoid deadlocks...\n",
      "To disable this warning, you can either:\n",
      "\t- Avoid using `tokenizers` before the fork if possible\n",
      "\t- Explicitly set the environment variable TOKENIZERS_PARALLELISM=(true | false)\n"
     ]
    },
    {
     "name": "stdout",
     "output_type": "stream",
     "text": [
      "peak memory: 1997.48 MiB, increment: -0.03 MiB\n"
     ]
    }
   ],
   "source": [
    "%%memit\n",
    "# Train the NB meta-classifier\n",
    "nb_meta_classifier = GaussianNB()\n",
    "nb_meta_classifier.fit(holdout_meta_features, holdout_df['label'].values)\n",
    "\n",
    "nb_final_predictions = nb_meta_classifier.predict(test_meta_features)"
   ]
  },
  {
   "cell_type": "markdown",
   "id": "8027b313-ee9e-4799-8b8c-01280f99815c",
   "metadata": {},
   "source": [
    "### Train DT"
   ]
  },
  {
   "cell_type": "code",
   "execution_count": 10,
   "id": "301edb53-18a6-41bc-ab03-f1c714a4ae0b",
   "metadata": {
    "execution": {
     "iopub.execute_input": "2024-08-30T09:13:59.718967Z",
     "iopub.status.busy": "2024-08-30T09:13:59.718885Z",
     "iopub.status.idle": "2024-08-30T09:14:00.355009Z",
     "shell.execute_reply": "2024-08-30T09:14:00.354603Z",
     "shell.execute_reply.started": "2024-08-30T09:13:59.718958Z"
    }
   },
   "outputs": [
    {
     "name": "stderr",
     "output_type": "stream",
     "text": [
      "huggingface/tokenizers: The current process just got forked, after parallelism has already been used. Disabling parallelism to avoid deadlocks...\n",
      "To disable this warning, you can either:\n",
      "\t- Avoid using `tokenizers` before the fork if possible\n",
      "\t- Explicitly set the environment variable TOKENIZERS_PARALLELISM=(true | false)\n",
      "huggingface/tokenizers: The current process just got forked, after parallelism has already been used. Disabling parallelism to avoid deadlocks...\n",
      "To disable this warning, you can either:\n",
      "\t- Avoid using `tokenizers` before the fork if possible\n",
      "\t- Explicitly set the environment variable TOKENIZERS_PARALLELISM=(true | false)\n"
     ]
    },
    {
     "name": "stdout",
     "output_type": "stream",
     "text": [
      "peak memory: 1997.86 MiB, increment: 0.38 MiB\n"
     ]
    }
   ],
   "source": [
    "%%memit\n",
    "# Train the DT meta-classifier\n",
    "dt_meta_classifier = DecisionTreeClassifier(max_depth=None)  \n",
    "dt_meta_classifier.fit(holdout_meta_features, holdout_df['label'].values)\n",
    "\n",
    "dt_final_predictions = dt_meta_classifier.predict(test_meta_features)"
   ]
  },
  {
   "cell_type": "markdown",
   "id": "da9904b9-f678-4a2a-b8a5-6e4af9d5b8e1",
   "metadata": {},
   "source": [
    "### Train SVM"
   ]
  },
  {
   "cell_type": "code",
   "execution_count": 11,
   "id": "87e4db68-5d39-4459-8e47-b1ed2033f743",
   "metadata": {
    "execution": {
     "iopub.execute_input": "2024-08-30T09:14:00.355621Z",
     "iopub.status.busy": "2024-08-30T09:14:00.355527Z",
     "iopub.status.idle": "2024-08-30T09:14:01.647496Z",
     "shell.execute_reply": "2024-08-30T09:14:01.647122Z",
     "shell.execute_reply.started": "2024-08-30T09:14:00.355611Z"
    }
   },
   "outputs": [
    {
     "name": "stderr",
     "output_type": "stream",
     "text": [
      "huggingface/tokenizers: The current process just got forked, after parallelism has already been used. Disabling parallelism to avoid deadlocks...\n",
      "To disable this warning, you can either:\n",
      "\t- Avoid using `tokenizers` before the fork if possible\n",
      "\t- Explicitly set the environment variable TOKENIZERS_PARALLELISM=(true | false)\n"
     ]
    },
    {
     "name": "stdout",
     "output_type": "stream",
     "text": [
      "peak memory: 2070.61 MiB, increment: 72.75 MiB\n"
     ]
    }
   ],
   "source": [
    "%%memit\n",
    "# Train the SVM meta-classifier\n",
    "svm_meta_classifier = SVC(kernel='linear', probability=True)\n",
    "svm_meta_classifier.fit(holdout_meta_features, holdout_df['label'].values)\n",
    "\n",
    "svm_final_predictions = svm_meta_classifier.predict(test_meta_features)"
   ]
  },
  {
   "cell_type": "markdown",
   "id": "a902e13a-e9ad-4e5c-8bde-97119c5ebc88",
   "metadata": {},
   "source": [
    "## Evaluate Models"
   ]
  },
  {
   "cell_type": "markdown",
   "id": "6f1dd5cf-d1fd-4837-80b6-01641a4a4823",
   "metadata": {},
   "source": [
    "### LR"
   ]
  },
  {
   "cell_type": "code",
   "execution_count": 12,
   "id": "20019879-4510-487b-b378-92b49756d548",
   "metadata": {
    "execution": {
     "iopub.execute_input": "2024-08-30T09:14:01.648199Z",
     "iopub.status.busy": "2024-08-30T09:14:01.648110Z",
     "iopub.status.idle": "2024-08-30T09:14:01.654707Z",
     "shell.execute_reply": "2024-08-30T09:14:01.654478Z",
     "shell.execute_reply.started": "2024-08-30T09:14:01.648190Z"
    }
   },
   "outputs": [
    {
     "name": "stdout",
     "output_type": "stream",
     "text": [
      "Logistic Regression\n",
      "Precision: 0.7688\n",
      "Recall: 0.7795\n",
      "Ensemble accuracy: 0.7914\n",
      "F1 Score: 0.7741\n",
      "Confusion Matrix:\n",
      "[[1082  268]\n",
      " [ 252  891]]\n"
     ]
    }
   ],
   "source": [
    "# Evaluate\n",
    "precision = precision_score(test_df['label'].values, lr_final_predictions, average='binary')\n",
    "recall = recall_score(test_df['label'].values, lr_final_predictions, average='binary')\n",
    "accuracy = accuracy_score(test_df['label'].values, lr_final_predictions)\n",
    "f1 = f1_score(test_df['label'].values, lr_final_predictions, average='binary')\n",
    "conf_matrix = confusion_matrix(test_df['label'].values, lr_final_predictions)\n",
    "\n",
    "print(\"Logistic Regression\")\n",
    "print(f\"Precision: {precision:.4f}\")\n",
    "print(f\"Recall: {recall:.4f}\")\n",
    "print(f\"Ensemble accuracy: {accuracy:.4f}\")\n",
    "print(f\"F1 Score: {f1:.4f}\")\n",
    "print(\"Confusion Matrix:\")\n",
    "print(conf_matrix)\n"
   ]
  },
  {
   "cell_type": "code",
   "execution_count": 13,
   "id": "8caa2e13-1837-4452-9f39-c717354cd635",
   "metadata": {
    "execution": {
     "iopub.execute_input": "2024-08-30T09:14:01.655190Z",
     "iopub.status.busy": "2024-08-30T09:14:01.655108Z",
     "iopub.status.idle": "2024-08-30T09:14:01.925903Z",
     "shell.execute_reply": "2024-08-30T09:14:01.925574Z",
     "shell.execute_reply.started": "2024-08-30T09:14:01.655183Z"
    }
   },
   "outputs": [
    {
     "data": {
      "image/png": "[encoded data removed]",
      "text/plain": [
       "<Figure size 640x480 with 1 Axes>"
      ]
     },
     "metadata": {},
     "output_type": "display_data"
    }
   ],
   "source": [
    "# Get probability scores for the positive class\n",
    "lr_prob_scores = lr_meta_classifier.predict_proba(test_meta_features)[:, 1]\n",
    "\n",
    "import matplotlib.pyplot as plt\n",
    "\n",
    "# Plot the distribution of predicted probabilities\n",
    "plt.hist(lr_prob_scores, bins=50, alpha=0.75)\n",
    "plt.title('Distribution of Predicted Probabilities (LR)')\n",
    "plt.xlabel('Probability of Positive Class')\n",
    "plt.ylabel('Frequency')\n",
    "plt.show()\n"
   ]
  },
  {
   "cell_type": "code",
   "execution_count": 14,
   "id": "73bdca4b-3649-4046-83f8-34233902b4cd",
   "metadata": {
    "execution": {
     "iopub.execute_input": "2024-08-30T09:14:01.926506Z",
     "iopub.status.busy": "2024-08-30T09:14:01.926417Z",
     "iopub.status.idle": "2024-08-30T09:14:02.010673Z",
     "shell.execute_reply": "2024-08-30T09:14:02.010411Z",
     "shell.execute_reply.started": "2024-08-30T09:14:01.926499Z"
    }
   },
   "outputs": [
    {
     "name": "stdout",
     "output_type": "stream",
     "text": [
      "Adjusted threshold: 0.3300\n",
      "Adjusted Logistic Regression\n",
      "Precision: 0.7154\n",
      "Recall: 0.8644\n",
      "Accuracy: 0.7802\n",
      "F1 Score: 0.7829\n",
      "Confusion Matrix:\n",
      "[[957 393]\n",
      " [155 988]]\n"
     ]
    }
   ],
   "source": [
    "# Determine a new threshold\n",
    "thresholds = np.linspace(0.01, 0.99, 99)\n",
    "scores = [f1_score(test_df['label'], lr_prob_scores >= t, average='binary') for t in thresholds]\n",
    "best_thresh = thresholds[np.argmax(scores)]\n",
    "\n",
    "# Apply the new threshold\n",
    "adjusted_predictions = (lr_prob_scores >= best_thresh).astype(int)\n",
    "\n",
    "# Evaluate with the new threshold\n",
    "adjusted_precision = precision_score(test_df['label'], adjusted_predictions, average='binary')\n",
    "adjusted_recall = recall_score(test_df['label'], adjusted_predictions, average='binary')\n",
    "adjusted_accuracy = accuracy_score(test_df['label'], adjusted_predictions)\n",
    "adjusted_f1 = f1_score(test_df['label'], adjusted_predictions, average='binary')\n",
    "adjusted_conf_matrix = confusion_matrix(test_df['label'], adjusted_predictions)\n",
    "\n",
    "print(f\"Adjusted threshold: {best_thresh:.4f}\")\n",
    "print(\"Adjusted Logistic Regression\")\n",
    "print(f\"Precision: {adjusted_precision:.4f}\")\n",
    "print(f\"Recall: {adjusted_recall:.4f}\")\n",
    "print(f\"Accuracy: {adjusted_accuracy:.4f}\")\n",
    "print(f\"F1 Score: {adjusted_f1:.4f}\")\n",
    "print(\"Confusion Matrix:\")\n",
    "print(adjusted_conf_matrix)\n",
    "\n",
    "lr_thresh = best_thresh"
   ]
  },
  {
   "cell_type": "code",
   "execution_count": 15,
   "id": "b32c3ed1-b3f1-445b-bd78-9047bc433e7c",
   "metadata": {
    "execution": {
     "iopub.execute_input": "2024-08-30T09:14:02.011332Z",
     "iopub.status.busy": "2024-08-30T09:14:02.011223Z",
     "iopub.status.idle": "2024-08-30T09:14:03.334132Z",
     "shell.execute_reply": "2024-08-30T09:14:03.332276Z",
     "shell.execute_reply.started": "2024-08-30T09:14:02.011322Z"
    }
   },
   "outputs": [
    {
     "name": "stdout",
     "output_type": "stream",
     "text": [
      "Updated cells count: 4\n"
     ]
    }
   ],
   "source": [
    "# SAVE TO GOOGLE SHEET\n",
    "\n",
    "# Define the range and values to update\n",
    "range_name = '4-1!B8:E8'  \n",
    "\n",
    "values = [[\n",
    "    f\"{adjusted_precision * 100:.2f}\",\n",
    "    f\"{adjusted_recall * 100:.2f}\",\n",
    "    f\"{adjusted_accuracy * 100:.2f}\",\n",
    "    f\"{adjusted_f1 * 100:.2f}\"\n",
    "]]\n",
    "\n",
    "# Prepare the request body\n",
    "body = {\n",
    "    'values': values\n",
    "}\n",
    "\n",
    "# Call the Sheets API to update the values\n",
    "result = service.spreadsheets().values().update(\n",
    "    spreadsheetId=spreadsheet_id, \n",
    "    range=range_name,\n",
    "    valueInputOption='USER_ENTERED',\n",
    "    body=body\n",
    ").execute()\n",
    "\n",
    "print('Updated cells count:', result.get('updatedCells'))"
   ]
  },
  {
   "cell_type": "markdown",
   "id": "f8803f8a-f44a-40f3-bed3-6a137f6a8ced",
   "metadata": {},
   "source": [
    "### NB"
   ]
  },
  {
   "cell_type": "code",
   "execution_count": 16,
   "id": "6f816faf-f1a2-4474-9e56-7cb303b3611f",
   "metadata": {
    "execution": {
     "iopub.execute_input": "2024-08-30T09:14:03.337621Z",
     "iopub.status.busy": "2024-08-30T09:14:03.336172Z",
     "iopub.status.idle": "2024-08-30T09:14:03.356900Z",
     "shell.execute_reply": "2024-08-30T09:14:03.355760Z",
     "shell.execute_reply.started": "2024-08-30T09:14:03.337591Z"
    }
   },
   "outputs": [
    {
     "name": "stdout",
     "output_type": "stream",
     "text": [
      "Naive Bayes\n",
      "Precision: 0.7576\n",
      "Recall: 0.7874015748031497\n",
      "Ensemble accuracy: 0.7870\n",
      "F1 Score: 0.7722\n",
      "Confusion Matrix:\n",
      "[[1062  288]\n",
      " [ 243  900]]\n"
     ]
    }
   ],
   "source": [
    "# Evaluate\n",
    "precision = precision_score(test_df['label'].values, nb_final_predictions, average='binary')\n",
    "recall = recall_score(test_df['label'].values, nb_final_predictions, average='binary')\n",
    "accuracy = accuracy_score(test_df['label'].values, nb_final_predictions)\n",
    "f1 = f1_score(test_df['label'].values, nb_final_predictions, average='binary')\n",
    "conf_matrix = confusion_matrix(test_df['label'].values, nb_final_predictions)\n",
    "\n",
    "print(\"Naive Bayes\")\n",
    "print(f\"Precision: {precision:.4f}\")\n",
    "print(f\"Recall: {recall}\")\n",
    "print(f\"Ensemble accuracy: {accuracy:.4f}\")\n",
    "print(f\"F1 Score: {f1:.4f}\")\n",
    "print(\"Confusion Matrix:\")\n",
    "print(conf_matrix)"
   ]
  },
  {
   "cell_type": "code",
   "execution_count": 17,
   "id": "6bf4a8b2-c477-46f6-8c51-06829170f251",
   "metadata": {
    "execution": {
     "iopub.execute_input": "2024-08-30T09:14:03.358118Z",
     "iopub.status.busy": "2024-08-30T09:14:03.357871Z",
     "iopub.status.idle": "2024-08-30T09:14:03.434948Z",
     "shell.execute_reply": "2024-08-30T09:14:03.434653Z",
     "shell.execute_reply.started": "2024-08-30T09:14:03.358098Z"
    }
   },
   "outputs": [
    {
     "data": {
      "image/png": "[encoded data removed]",
      "text/plain": [
       "<Figure size 640x480 with 1 Axes>"
      ]
     },
     "metadata": {},
     "output_type": "display_data"
    }
   ],
   "source": [
    "# Get probability scores for the positive class\n",
    "nb_prob_scores = nb_meta_classifier.predict_proba(test_meta_features)[:, 1]\n",
    "\n",
    "import matplotlib.pyplot as plt\n",
    "\n",
    "# Plot the distribution of predicted probabilities\n",
    "plt.hist(nb_prob_scores, bins=50, alpha=0.75)\n",
    "plt.title('Distribution of Predicted Probabilities (NB)')\n",
    "plt.xlabel('Probability of Positive Class')\n",
    "plt.ylabel('Frequency')\n",
    "plt.show()"
   ]
  },
  {
   "cell_type": "code",
   "execution_count": 18,
   "id": "fd5e6dd9-2846-4fa3-bbb9-ff92060e4ead",
   "metadata": {
    "execution": {
     "iopub.execute_input": "2024-08-30T09:14:03.435654Z",
     "iopub.status.busy": "2024-08-30T09:14:03.435499Z",
     "iopub.status.idle": "2024-08-30T09:14:03.520249Z",
     "shell.execute_reply": "2024-08-30T09:14:03.519978Z",
     "shell.execute_reply.started": "2024-08-30T09:14:03.435638Z"
    }
   },
   "outputs": [
    {
     "name": "stdout",
     "output_type": "stream",
     "text": [
      "Adjusted threshold: 0.0100\n",
      "Adjusted Naive Bayes\n",
      "Precision: 0.7200\n",
      "Recall: 0.8618\n",
      "Accuracy: 0.7830\n",
      "F1 Score: 0.7845\n",
      "Confusion Matrix:\n",
      "[[967 383]\n",
      " [158 985]]\n"
     ]
    }
   ],
   "source": [
    "# Determine a new threshold\n",
    "thresholds = np.linspace(0.01, 0.99, 99)\n",
    "scores = [f1_score(test_df['label'], nb_prob_scores >= t, average='binary') for t in thresholds]\n",
    "best_thresh = thresholds[np.argmax(scores)]\n",
    "\n",
    "# Apply the new threshold\n",
    "adjusted_predictions = (nb_prob_scores >= best_thresh).astype(int)\n",
    "\n",
    "# Evaluate with the new threshold\n",
    "adjusted_precision = precision_score(test_df['label'], adjusted_predictions, average='binary')\n",
    "adjusted_recall = recall_score(test_df['label'], adjusted_predictions, average='binary')\n",
    "adjusted_accuracy = accuracy_score(test_df['label'], adjusted_predictions)\n",
    "adjusted_f1 = f1_score(test_df['label'], adjusted_predictions, average='binary')\n",
    "adjusted_conf_matrix = confusion_matrix(test_df['label'], adjusted_predictions)\n",
    "\n",
    "print(f\"Adjusted threshold: {best_thresh:.4f}\")\n",
    "print(\"Adjusted Naive Bayes\")\n",
    "print(f\"Precision: {adjusted_precision:.4f}\")\n",
    "print(f\"Recall: {adjusted_recall:.4f}\")\n",
    "print(f\"Accuracy: {adjusted_accuracy:.4f}\")\n",
    "print(f\"F1 Score: {adjusted_f1:.4f}\")\n",
    "print(\"Confusion Matrix:\")\n",
    "print(adjusted_conf_matrix)\n",
    "\n",
    "nb_thresh = best_thresh"
   ]
  },
  {
   "cell_type": "code",
   "execution_count": 19,
   "id": "a4909900-8aeb-498f-a1c2-ebecf3dd7eb7",
   "metadata": {
    "execution": {
     "iopub.execute_input": "2024-08-30T09:14:03.520745Z",
     "iopub.status.busy": "2024-08-30T09:14:03.520671Z",
     "iopub.status.idle": "2024-08-30T09:14:03.950037Z",
     "shell.execute_reply": "2024-08-30T09:14:03.948349Z",
     "shell.execute_reply.started": "2024-08-30T09:14:03.520738Z"
    }
   },
   "outputs": [
    {
     "name": "stdout",
     "output_type": "stream",
     "text": [
      "Updated cells count: 4\n"
     ]
    }
   ],
   "source": [
    "# SAVE TO GOOGLE SHEET\n",
    "\n",
    "# Define the range and values to update\n",
    "range_name = '4-1!B9:E9'  \n",
    "\n",
    "values = [[\n",
    "    f\"{adjusted_precision * 100:.2f}\",\n",
    "    f\"{adjusted_recall * 100:.2f}\",\n",
    "    f\"{adjusted_accuracy * 100:.2f}\",\n",
    "    f\"{adjusted_f1 * 100:.2f}\"\n",
    "]]\n",
    "\n",
    "# Prepare the request body\n",
    "body = {\n",
    "    'values': values\n",
    "}\n",
    "\n",
    "# Call the Sheets API to update the values\n",
    "result = service.spreadsheets().values().update(\n",
    "    spreadsheetId=spreadsheet_id, \n",
    "    range=range_name,\n",
    "    valueInputOption='USER_ENTERED',\n",
    "    body=body\n",
    ").execute()\n",
    "\n",
    "print('Updated cells count:', result.get('updatedCells'))"
   ]
  },
  {
   "cell_type": "markdown",
   "id": "a92b519a-7274-4651-8707-33c5e2ce81f7",
   "metadata": {},
   "source": [
    "### DT"
   ]
  },
  {
   "cell_type": "code",
   "execution_count": 20,
   "id": "112a6839-2256-4652-8923-5a8204fa3d51",
   "metadata": {
    "execution": {
     "iopub.execute_input": "2024-08-30T09:14:03.953373Z",
     "iopub.status.busy": "2024-08-30T09:14:03.952157Z",
     "iopub.status.idle": "2024-08-30T09:14:03.974366Z",
     "shell.execute_reply": "2024-08-30T09:14:03.973703Z",
     "shell.execute_reply.started": "2024-08-30T09:14:03.953329Z"
    }
   },
   "outputs": [
    {
     "name": "stdout",
     "output_type": "stream",
     "text": [
      "Decision Tree\n",
      "Precision: 0.6910\n",
      "Recall: 0.6964\n",
      "Ensemble accuracy: 0.7180\n",
      "F1 Score: 0.6937\n",
      "Confusion Matrix:\n",
      "[[994 356]\n",
      " [347 796]]\n"
     ]
    }
   ],
   "source": [
    "# Evaluate\n",
    "precision = precision_score(test_df['label'].values, dt_final_predictions, average='binary')\n",
    "recall = recall_score(test_df['label'].values, dt_final_predictions, average='binary')\n",
    "accuracy = accuracy_score(test_df['label'].values, dt_final_predictions)\n",
    "f1 = f1_score(test_df['label'].values, dt_final_predictions, average='binary')\n",
    "conf_matrix = confusion_matrix(test_df['label'].values, dt_final_predictions)\n",
    "\n",
    "print(\"Decision Tree\")\n",
    "print(f\"Precision: {precision:.4f}\")\n",
    "print(f\"Recall: {recall:.4f}\")\n",
    "print(f\"Ensemble accuracy: {accuracy:.4f}\")\n",
    "print(f\"F1 Score: {f1:.4f}\")\n",
    "print(\"Confusion Matrix:\")\n",
    "print(conf_matrix)"
   ]
  },
  {
   "cell_type": "code",
   "execution_count": 21,
   "id": "9dca5adb-55c1-47d5-abbd-ae15c4014ce3",
   "metadata": {
    "execution": {
     "iopub.execute_input": "2024-08-30T09:14:03.980837Z",
     "iopub.status.busy": "2024-08-30T09:14:03.980567Z",
     "iopub.status.idle": "2024-08-30T09:14:04.054309Z",
     "shell.execute_reply": "2024-08-30T09:14:04.054068Z",
     "shell.execute_reply.started": "2024-08-30T09:14:03.980822Z"
    }
   },
   "outputs": [
    {
     "data": {
      "image/png": "[encoded data removed]",
      "text/plain": [
       "<Figure size 640x480 with 1 Axes>"
      ]
     },
     "metadata": {},
     "output_type": "display_data"
    }
   ],
   "source": [
    "# Get probability scores for the positive class\n",
    "dt_prob_scores = dt_meta_classifier.predict_proba(test_meta_features)[:, 1]\n",
    "\n",
    "import matplotlib.pyplot as plt\n",
    "\n",
    "# Plot the distribution of predicted probabilities\n",
    "plt.hist(dt_prob_scores, bins=50, alpha=0.75)\n",
    "plt.title('Distribution of Predicted Probabilities (DT)')\n",
    "plt.xlabel('Probability of Positive Class')\n",
    "plt.ylabel('Frequency')\n",
    "plt.show()"
   ]
  },
  {
   "cell_type": "code",
   "execution_count": 22,
   "id": "125f0b72-c5ce-4281-8efc-595018b098e2",
   "metadata": {
    "execution": {
     "iopub.execute_input": "2024-08-30T09:14:04.054747Z",
     "iopub.status.busy": "2024-08-30T09:14:04.054671Z",
     "iopub.status.idle": "2024-08-30T09:14:04.136627Z",
     "shell.execute_reply": "2024-08-30T09:14:04.136370Z",
     "shell.execute_reply.started": "2024-08-30T09:14:04.054740Z"
    }
   },
   "outputs": [
    {
     "name": "stdout",
     "output_type": "stream",
     "text": [
      "Adjusted threshold: 0.3400\n",
      "Adjusted Decision Tree\n",
      "Precision: 0.6868\n",
      "Recall: 0.7060\n",
      "Accuracy: 0.7176\n",
      "F1 Score: 0.6963\n",
      "Confusion Matrix:\n",
      "[[982 368]\n",
      " [336 807]]\n"
     ]
    }
   ],
   "source": [
    "# Determine a new threshold\n",
    "thresholds = np.linspace(0.01, 0.99, 99)\n",
    "scores = [f1_score(test_df['label'], dt_prob_scores >= t, average='binary') for t in thresholds]\n",
    "best_thresh = thresholds[np.argmax(scores)]\n",
    "\n",
    "# Apply the new threshold\n",
    "adjusted_predictions = (dt_prob_scores >= best_thresh).astype(int)\n",
    "\n",
    "# Evaluate with the new threshold\n",
    "adjusted_precision = precision_score(test_df['label'], adjusted_predictions, average='binary')\n",
    "adjusted_recall = recall_score(test_df['label'], adjusted_predictions, average='binary')\n",
    "adjusted_accuracy = accuracy_score(test_df['label'], adjusted_predictions)\n",
    "adjusted_f1 = f1_score(test_df['label'], adjusted_predictions, average='binary')\n",
    "adjusted_conf_matrix = confusion_matrix(test_df['label'], adjusted_predictions)\n",
    "\n",
    "print(f\"Adjusted threshold: {best_thresh:.4f}\")\n",
    "print(\"Adjusted Decision Tree\")\n",
    "print(f\"Precision: {adjusted_precision:.4f}\")\n",
    "print(f\"Recall: {adjusted_recall:.4f}\")\n",
    "print(f\"Accuracy: {adjusted_accuracy:.4f}\")\n",
    "print(f\"F1 Score: {adjusted_f1:.4f}\")\n",
    "print(\"Confusion Matrix:\")\n",
    "print(adjusted_conf_matrix)\n",
    "\n",
    "dt_thresh = best_thresh"
   ]
  },
  {
   "cell_type": "code",
   "execution_count": 23,
   "id": "6f3be76e-56d6-4e8b-92fa-f87534b9d2b9",
   "metadata": {
    "execution": {
     "iopub.execute_input": "2024-08-30T09:14:04.137199Z",
     "iopub.status.busy": "2024-08-30T09:14:04.137114Z",
     "iopub.status.idle": "2024-08-30T09:14:04.562606Z",
     "shell.execute_reply": "2024-08-30T09:14:04.560651Z",
     "shell.execute_reply.started": "2024-08-30T09:14:04.137191Z"
    }
   },
   "outputs": [
    {
     "name": "stdout",
     "output_type": "stream",
     "text": [
      "Updated cells count: 4\n"
     ]
    }
   ],
   "source": [
    "# SAVE TO GOOGLE SHEET\n",
    "\n",
    "# Define the range and values to update\n",
    "range_name = '4-1!B10:E10'  \n",
    "\n",
    "values = [[\n",
    "    f\"{adjusted_precision * 100:.2f}\",\n",
    "    f\"{adjusted_recall * 100:.2f}\",\n",
    "    f\"{adjusted_accuracy * 100:.2f}\",\n",
    "    f\"{adjusted_f1 * 100:.2f}\"\n",
    "]]\n",
    "\n",
    "# Prepare the request body\n",
    "body = {\n",
    "    'values': values\n",
    "}\n",
    "\n",
    "# Call the Sheets API to update the values\n",
    "result = service.spreadsheets().values().update(\n",
    "    spreadsheetId=spreadsheet_id, \n",
    "    range=range_name,\n",
    "    valueInputOption='USER_ENTERED',\n",
    "    body=body\n",
    ").execute()\n",
    "\n",
    "print('Updated cells count:', result.get('updatedCells'))"
   ]
  },
  {
   "cell_type": "markdown",
   "id": "65c8fbf8-8467-470a-b23d-c7368f16192c",
   "metadata": {},
   "source": [
    "### SVM"
   ]
  },
  {
   "cell_type": "code",
   "execution_count": 24,
   "id": "56c161df-ddf2-4392-86ce-cdad4ee3472d",
   "metadata": {
    "execution": {
     "iopub.execute_input": "2024-08-30T09:14:04.567521Z",
     "iopub.status.busy": "2024-08-30T09:14:04.565534Z",
     "iopub.status.idle": "2024-08-30T09:14:04.593239Z",
     "shell.execute_reply": "2024-08-30T09:14:04.592515Z",
     "shell.execute_reply.started": "2024-08-30T09:14:04.567487Z"
    }
   },
   "outputs": [
    {
     "name": "stdout",
     "output_type": "stream",
     "text": [
      "SVM\n",
      "Precision: 0.7697\n",
      "Recall: 0.7690\n",
      "Ensemble accuracy: 0.7886\n",
      "F1 Score: 0.7694\n",
      "Confusion Matrix:\n",
      "[[1087  263]\n",
      " [ 264  879]]\n"
     ]
    }
   ],
   "source": [
    "# Evaluate\n",
    "precision = precision_score(test_df['label'].values, svm_final_predictions, average='binary')\n",
    "recall = recall_score(test_df['label'].values, svm_final_predictions, average='binary')\n",
    "accuracy = accuracy_score(test_df['label'].values, svm_final_predictions)\n",
    "f1 = f1_score(test_df['label'].values, svm_final_predictions, average='binary')\n",
    "conf_matrix = confusion_matrix(test_df['label'].values, svm_final_predictions)\n",
    "\n",
    "print(\"SVM\")\n",
    "print(f\"Precision: {precision:.4f}\")\n",
    "print(f\"Recall: {recall:.4f}\")\n",
    "print(f\"Ensemble accuracy: {accuracy:.4f}\")\n",
    "print(f\"F1 Score: {f1:.4f}\")\n",
    "print(\"Confusion Matrix:\")\n",
    "print(conf_matrix)"
   ]
  },
  {
   "cell_type": "code",
   "execution_count": 25,
   "id": "73be676c-1c95-45c9-8ff0-78dd9a9d463a",
   "metadata": {
    "execution": {
     "iopub.execute_input": "2024-08-30T09:14:04.594305Z",
     "iopub.status.busy": "2024-08-30T09:14:04.594157Z",
     "iopub.status.idle": "2024-08-30T09:14:04.730157Z",
     "shell.execute_reply": "2024-08-30T09:14:04.729853Z",
     "shell.execute_reply.started": "2024-08-30T09:14:04.594291Z"
    }
   },
   "outputs": [
    {
     "data": {
      "image/png": "[encoded data removed]",
      "text/plain": [
       "<Figure size 640x480 with 1 Axes>"
      ]
     },
     "metadata": {},
     "output_type": "display_data"
    }
   ],
   "source": [
    "# Get probability scores for the positive class\n",
    "svm_prob_scores = svm_meta_classifier.predict_proba(test_meta_features)[:, 1]\n",
    "\n",
    "import matplotlib.pyplot as plt\n",
    "\n",
    "# Plot the distribution of predicted probabilities\n",
    "plt.hist(svm_prob_scores, bins=50, alpha=0.75)\n",
    "plt.title('Distribution of Predicted Probabilities (SVM)')\n",
    "plt.xlabel('Probability of Positive Class')\n",
    "plt.ylabel('Frequency')\n",
    "plt.show()"
   ]
  },
  {
   "cell_type": "code",
   "execution_count": 26,
   "id": "bc999cb0-01ec-42d9-ba23-2358c92a4610",
   "metadata": {
    "execution": {
     "iopub.execute_input": "2024-08-30T09:14:04.730611Z",
     "iopub.status.busy": "2024-08-30T09:14:04.730536Z",
     "iopub.status.idle": "2024-08-30T09:14:04.815385Z",
     "shell.execute_reply": "2024-08-30T09:14:04.815114Z",
     "shell.execute_reply.started": "2024-08-30T09:14:04.730604Z"
    }
   },
   "outputs": [
    {
     "name": "stdout",
     "output_type": "stream",
     "text": [
      "Adjusted threshold: 0.3800\n",
      "Adjusted SVM\n",
      "Precision: 0.7382\n",
      "Recall: 0.8338\n",
      "Accuracy: 0.7882\n",
      "F1 Score: 0.7831\n",
      "Confusion Matrix:\n",
      "[[1012  338]\n",
      " [ 190  953]]\n"
     ]
    }
   ],
   "source": [
    "# Determine a new threshold\n",
    "thresholds = np.linspace(0.01, 0.99, 99)\n",
    "scores = [f1_score(test_df['label'], svm_prob_scores >= t, average='binary') for t in thresholds]\n",
    "best_thresh = thresholds[np.argmax(scores)]\n",
    "\n",
    "# Apply the new threshold\n",
    "adjusted_predictions = (svm_prob_scores >= best_thresh).astype(int)\n",
    "\n",
    "# Evaluate with the new threshold\n",
    "adjusted_precision = precision_score(test_df['label'], adjusted_predictions, average='binary')\n",
    "adjusted_recall = recall_score(test_df['label'], adjusted_predictions, average='binary')\n",
    "adjusted_accuracy = accuracy_score(test_df['label'], adjusted_predictions)\n",
    "adjusted_f1 = f1_score(test_df['label'], adjusted_predictions, average='binary')\n",
    "adjusted_conf_matrix = confusion_matrix(test_df['label'], adjusted_predictions)\n",
    "\n",
    "print(f\"Adjusted threshold: {best_thresh:.4f}\")\n",
    "print(\"Adjusted SVM\")\n",
    "print(f\"Precision: {adjusted_precision:.4f}\")\n",
    "print(f\"Recall: {adjusted_recall:.4f}\")\n",
    "print(f\"Accuracy: {adjusted_accuracy:.4f}\")\n",
    "print(f\"F1 Score: {adjusted_f1:.4f}\")\n",
    "print(\"Confusion Matrix:\")\n",
    "print(adjusted_conf_matrix)\n",
    "\n",
    "svm_thresh = best_thresh"
   ]
  },
  {
   "cell_type": "code",
   "execution_count": 27,
   "id": "06aef1c8-e91b-4401-8c9c-a1ab43a5b4b8",
   "metadata": {
    "execution": {
     "iopub.execute_input": "2024-08-30T09:14:04.815851Z",
     "iopub.status.busy": "2024-08-30T09:14:04.815771Z",
     "iopub.status.idle": "2024-08-30T09:14:05.139951Z",
     "shell.execute_reply": "2024-08-30T09:14:05.138157Z",
     "shell.execute_reply.started": "2024-08-30T09:14:04.815844Z"
    }
   },
   "outputs": [
    {
     "name": "stdout",
     "output_type": "stream",
     "text": [
      "Updated cells count: 4\n"
     ]
    }
   ],
   "source": [
    "# SAVE TO GOOGLE SHEET\n",
    "\n",
    "# Define the range and values to update\n",
    "range_name = '4-1!B11:E11'  \n",
    "\n",
    "values = [[\n",
    "    f\"{adjusted_precision * 100:.2f}\",\n",
    "    f\"{adjusted_recall * 100:.2f}\",\n",
    "    f\"{adjusted_accuracy * 100:.2f}\",\n",
    "    f\"{adjusted_f1 * 100:.2f}\"\n",
    "]]\n",
    "\n",
    "# Prepare the request body\n",
    "body = {\n",
    "    'values': values\n",
    "}\n",
    "\n",
    "# Call the Sheets API to update the values\n",
    "result = service.spreadsheets().values().update(\n",
    "    spreadsheetId=spreadsheet_id, \n",
    "    range=range_name,\n",
    "    valueInputOption='USER_ENTERED',\n",
    "    body=body\n",
    ").execute()\n",
    "\n",
    "print('Updated cells count:', result.get('updatedCells'))"
   ]
  },
  {
   "cell_type": "markdown",
   "id": "8d2045a9-4a51-4880-b22f-b3ff2b11881d",
   "metadata": {},
   "source": [
    "# Validate on Data C"
   ]
  },
  {
   "cell_type": "markdown",
   "id": "b7f3295c-4ff1-44ea-857b-82a80bb44ff3",
   "metadata": {},
   "source": [
    "## Load Data C Dataset"
   ]
  },
  {
   "cell_type": "code",
   "execution_count": 28,
   "id": "06f318e7-8089-4e51-8494-de0f6a11b10b",
   "metadata": {
    "execution": {
     "iopub.execute_input": "2024-08-30T09:14:05.144370Z",
     "iopub.status.busy": "2024-08-30T09:14:05.142786Z",
     "iopub.status.idle": "2024-08-30T09:14:05.157405Z",
     "shell.execute_reply": "2024-08-30T09:14:05.156790Z",
     "shell.execute_reply.started": "2024-08-30T09:14:05.144336Z"
    }
   },
   "outputs": [],
   "source": [
    "import pandas as pd\n",
    "from sklearn.metrics import accuracy_score, precision_score, recall_score, f1_score, confusion_matrix\n",
    "\n",
    "# Load validation data\n",
    "validation_file_path = 'Corpus/FiReCS/FiReCS_data_c.csv'\n",
    "validation_df = pd.read_csv(validation_file_path)"
   ]
  },
  {
   "cell_type": "markdown",
   "id": "e5ce9332-4160-4859-85e1-5b1d4184d1b2",
   "metadata": {
    "execution": {
     "iopub.execute_input": "2024-04-11T13:00:14.207089Z",
     "iopub.status.busy": "2024-04-11T13:00:14.206594Z",
     "iopub.status.idle": "2024-04-11T13:00:14.209788Z",
     "shell.execute_reply": "2024-04-11T13:00:14.209108Z",
     "shell.execute_reply.started": "2024-04-11T13:00:14.207047Z"
    }
   },
   "source": [
    "## Perform Blending"
   ]
  },
  {
   "cell_type": "code",
   "execution_count": 29,
   "id": "9397f5dc-4155-435b-b189-d720dd902f68",
   "metadata": {
    "execution": {
     "iopub.execute_input": "2024-08-30T09:14:05.158472Z",
     "iopub.status.busy": "2024-08-30T09:14:05.158287Z",
     "iopub.status.idle": "2024-08-30T09:14:35.029716Z",
     "shell.execute_reply": "2024-08-30T09:14:35.026433Z",
     "shell.execute_reply.started": "2024-08-30T09:14:05.158457Z"
    }
   },
   "outputs": [
    {
     "name": "stderr",
     "output_type": "stream",
     "text": [
      "huggingface/tokenizers: The current process just got forked, after parallelism has already been used. Disabling parallelism to avoid deadlocks...\n",
      "To disable this warning, you can either:\n",
      "\t- Avoid using `tokenizers` before the fork if possible\n",
      "\t- Explicitly set the environment variable TOKENIZERS_PARALLELISM=(true | false)\n"
     ]
    },
    {
     "name": "stdout",
     "output_type": "stream",
     "text": [
      "peak memory: 2253.67 MiB, increment: 78.28 MiB\n"
     ]
    }
   ],
   "source": [
    "%%memit\n",
    "\n",
    "# Generate meta-features for validation set\n",
    "validation_meta_features = [get_meta_features(model, tokenizer, validation_df, device) \n",
    "                            for model, tokenizer in models_and_tokenizers.values()]\n",
    "\n",
    "# Stack meta-features\n",
    "validation_meta_features = np.hstack(validation_meta_features)\n",
    "\n",
    "# Predict with LR meta-classifier\n",
    "lr_validation_predictions = lr_meta_classifier.predict(validation_meta_features)\n",
    "\n",
    "# Predict with NB meta-classifier\n",
    "nb_validation_predictions = nb_meta_classifier.predict(validation_meta_features)\n",
    "\n",
    "# Predict with DT meta-classifier\n",
    "dt_validation_predictions = dt_meta_classifier.predict(validation_meta_features)\n",
    "\n",
    "# Predict with SVM meta-classifier\n",
    "svm_validation_predictions = svm_meta_classifier.predict(validation_meta_features)\n",
    "\n",
    "# Extract true labels from the validation set\n",
    "true_labels = validation_df['label'].values"
   ]
  },
  {
   "cell_type": "markdown",
   "id": "9da263a8-cbf9-4cff-b41b-e88a5e2512b4",
   "metadata": {},
   "source": [
    "## Validate Models"
   ]
  },
  {
   "cell_type": "markdown",
   "id": "73574aa4-26e8-4d0a-bc95-478361fcc2e6",
   "metadata": {},
   "source": [
    "### LR"
   ]
  },
  {
   "cell_type": "code",
   "execution_count": 30,
   "id": "df42fe2c-46bb-486d-90ba-404043f52e9e",
   "metadata": {
    "execution": {
     "iopub.execute_input": "2024-08-30T09:14:35.039852Z",
     "iopub.status.busy": "2024-08-30T09:14:35.032856Z",
     "iopub.status.idle": "2024-08-30T09:14:35.068526Z",
     "shell.execute_reply": "2024-08-30T09:14:35.066623Z",
     "shell.execute_reply.started": "2024-08-30T09:14:35.039799Z"
    }
   },
   "outputs": [
    {
     "name": "stdout",
     "output_type": "stream",
     "text": [
      "Logistic Regression\n",
      "Accuracy: 0.8051\n",
      "Precision: 0.7867\n",
      "Recall: 0.7977\n",
      "F1 Score: 0.7921\n",
      "Confusion Matrix:\n",
      " [[801 186]\n",
      " [174 686]]\n"
     ]
    }
   ],
   "source": [
    "# Calculate metrics\n",
    "accuracy = accuracy_score(true_labels, lr_validation_predictions)\n",
    "precision = precision_score(true_labels, lr_validation_predictions, average='binary')\n",
    "recall = recall_score(true_labels, lr_validation_predictions, average='binary')\n",
    "f1 = f1_score(true_labels, lr_validation_predictions, average='binary')\n",
    "conf_matrix = confusion_matrix(true_labels, lr_validation_predictions)\n",
    "\n",
    "# Print the metrics\n",
    "print(\"Logistic Regression\")\n",
    "print(f\"Accuracy: {accuracy:.4f}\")\n",
    "print(f\"Precision: {precision:.4f}\")\n",
    "print(f\"Recall: {recall:.4f}\")\n",
    "print(f\"F1 Score: {f1:.4f}\")\n",
    "print(\"Confusion Matrix:\\n\", conf_matrix)"
   ]
  },
  {
   "cell_type": "code",
   "execution_count": 31,
   "id": "91d3a4c3-dc8d-4bf2-b7e7-23ef203ebfcf",
   "metadata": {
    "execution": {
     "iopub.execute_input": "2024-08-30T09:14:35.069366Z",
     "iopub.status.busy": "2024-08-30T09:14:35.069207Z",
     "iopub.status.idle": "2024-08-30T09:14:35.209179Z",
     "shell.execute_reply": "2024-08-30T09:14:35.208327Z",
     "shell.execute_reply.started": "2024-08-30T09:14:35.069353Z"
    }
   },
   "outputs": [
    {
     "data": {
      "image/png": "[encoded data removed]",
      "text/plain": [
       "<Figure size 640x480 with 1 Axes>"
      ]
     },
     "metadata": {},
     "output_type": "display_data"
    }
   ],
   "source": [
    "# Get probability scores for the positive class\n",
    "lr_prob_scores = lr_meta_classifier.predict_proba(validation_meta_features)[:, 1]\n",
    "\n",
    "import matplotlib.pyplot as plt\n",
    "\n",
    "# Plot the distribution of predicted probabilities\n",
    "plt.hist(lr_prob_scores, bins=50, alpha=0.75)\n",
    "plt.title('Distribution of Predicted Probabilities (LR)')\n",
    "plt.xlabel('Probability of Positive Class')\n",
    "plt.ylabel('Frequency')\n",
    "plt.show()"
   ]
  },
  {
   "cell_type": "markdown",
   "id": "646d69bb-fb97-4d6d-8120-71f545822c5f",
   "metadata": {},
   "source": [
    "#### Optimized LR"
   ]
  },
  {
   "cell_type": "code",
   "execution_count": 32,
   "id": "066745e4-0dcb-4a51-8032-f2e762eb2429",
   "metadata": {
    "execution": {
     "iopub.execute_input": "2024-08-30T09:14:35.211274Z",
     "iopub.status.busy": "2024-08-30T09:14:35.210479Z",
     "iopub.status.idle": "2024-08-30T09:14:35.226167Z",
     "shell.execute_reply": "2024-08-30T09:14:35.225628Z",
     "shell.execute_reply.started": "2024-08-30T09:14:35.211246Z"
    }
   },
   "outputs": [
    {
     "name": "stdout",
     "output_type": "stream",
     "text": [
      "Optimized Logistic Regression\n",
      "Precision: 0.7311\n",
      "Recall: 0.8756\n",
      "Accuracy: 0.7921\n",
      "F1 Score: 0.7968\n",
      "Confusion Matrix:\n",
      "[[710 277]\n",
      " [107 753]]\n"
     ]
    }
   ],
   "source": [
    "# Apply the new threshold\n",
    "adjusted_predictions = (lr_prob_scores >= lr_thresh).astype(int)\n",
    "\n",
    "# Evaluate with the new threshold\n",
    "adjusted_precision = precision_score(true_labels, adjusted_predictions, average='binary')\n",
    "adjusted_recall = recall_score(true_labels, adjusted_predictions, average='binary')\n",
    "adjusted_accuracy = accuracy_score(true_labels, adjusted_predictions)\n",
    "adjusted_f1 = f1_score(true_labels, adjusted_predictions, average='binary')\n",
    "adjusted_conf_matrix = confusion_matrix(true_labels, adjusted_predictions)\n",
    "\n",
    "print(\"Optimized Logistic Regression\")\n",
    "print(f\"Precision: {adjusted_precision:.4f}\")\n",
    "print(f\"Recall: {adjusted_recall:.4f}\")\n",
    "print(f\"Accuracy: {adjusted_accuracy:.4f}\")\n",
    "print(f\"F1 Score: {adjusted_f1:.4f}\")\n",
    "print(\"Confusion Matrix:\")\n",
    "print(adjusted_conf_matrix)"
   ]
  },
  {
   "cell_type": "code",
   "execution_count": 33,
   "id": "1e5f1a22-24d9-4e81-95bd-78eae0de91fe",
   "metadata": {
    "execution": {
     "iopub.execute_input": "2024-08-30T09:14:35.227938Z",
     "iopub.status.busy": "2024-08-30T09:14:35.227706Z",
     "iopub.status.idle": "2024-08-30T09:14:35.674570Z",
     "shell.execute_reply": "2024-08-30T09:14:35.671888Z",
     "shell.execute_reply.started": "2024-08-30T09:14:35.227912Z"
    }
   },
   "outputs": [
    {
     "name": "stdout",
     "output_type": "stream",
     "text": [
      "Updated cells count: 4\n"
     ]
    }
   ],
   "source": [
    "# SAVE TO GOOGLE SHEET\n",
    "\n",
    "# Define the range and values to update\n",
    "range_name = '4-1!F8:I8'  \n",
    "\n",
    "values = [[\n",
    "    f\"{adjusted_precision * 100:.2f}\",\n",
    "    f\"{adjusted_recall * 100:.2f}\",\n",
    "    f\"{adjusted_accuracy * 100:.2f}\",\n",
    "    f\"{adjusted_f1 * 100:.2f}\"\n",
    "]]\n",
    "\n",
    "# Prepare the request body\n",
    "body = {\n",
    "    'values': values\n",
    "}\n",
    "\n",
    "# Call the Sheets API to update the values\n",
    "result = service.spreadsheets().values().update(\n",
    "    spreadsheetId=spreadsheet_id, \n",
    "    range=range_name,\n",
    "    valueInputOption='USER_ENTERED',\n",
    "    body=body\n",
    ").execute()\n",
    "\n",
    "print('Updated cells count:', result.get('updatedCells'))"
   ]
  },
  {
   "cell_type": "markdown",
   "id": "b0c303f4-b9fd-4c43-b082-8eb20af98b9d",
   "metadata": {},
   "source": [
    "#### Save Confusion Matrix"
   ]
  },
  {
   "cell_type": "code",
   "execution_count": 34,
   "id": "ec064b9f-9afe-40ac-a84f-33d3179cc317",
   "metadata": {
    "execution": {
     "iopub.execute_input": "2024-08-30T09:14:35.676463Z",
     "iopub.status.busy": "2024-08-30T09:14:35.676048Z",
     "iopub.status.idle": "2024-08-30T09:14:35.890825Z",
     "shell.execute_reply": "2024-08-30T09:14:35.890576Z",
     "shell.execute_reply.started": "2024-08-30T09:14:35.676430Z"
    }
   },
   "outputs": [
    {
     "data": {
      "text/html": [
       "\n",
       "<style>\n",
       "  #altair-viz-dba1fd24a8eb4b50982af64576f1961f.vega-embed {\n",
       "    width: 100%;\n",
       "    display: flex;\n",
       "  }\n",
       "\n",
       "  #altair-viz-dba1fd24a8eb4b50982af64576f1961f.vega-embed details,\n",
       "  #altair-viz-dba1fd24a8eb4b50982af64576f1961f.vega-embed details summary {\n",
       "    position: relative;\n",
       "  }\n",
       "</style>\n",
       "<div id=\"altair-viz-dba1fd24a8eb4b50982af64576f1961f\"></div>\n",
       "<script type=\"text/javascript\">\n",
       "  var VEGA_DEBUG = (typeof VEGA_DEBUG == \"undefined\") ? {} : VEGA_DEBUG;\n",
       "  (function(spec, embedOpt){\n",
       "    let outputDiv = document.currentScript.previousElementSibling;\n",
       "    if (outputDiv.id !== \"altair-viz-dba1fd24a8eb4b50982af64576f1961f\") {\n",
       "      outputDiv = document.getElementById(\"altair-viz-dba1fd24a8eb4b50982af64576f1961f\");\n",
       "    }\n",
       "    const paths = {\n",
       "      \"vega\": \"https://cdn.jsdelivr.net/npm/vega@5?noext\",\n",
       "      \"vega-lib\": \"https://cdn.jsdelivr.net/npm/vega-lib?noext\",\n",
       "      \"vega-lite\": \"https://cdn.jsdelivr.net/npm/vega-lite@5.17.0?noext\",\n",
       "      \"vega-embed\": \"https://cdn.jsdelivr.net/npm/vega-embed@6?noext\",\n",
       "    };\n",
       "\n",
       "    function maybeLoadScript(lib, version) {\n",
       "      var key = `${lib.replace(\"-\", \"\")}_version`;\n",
       "      return (VEGA_DEBUG[key] == version) ?\n",
       "        Promise.resolve(paths[lib]) :\n",
       "        new Promise(function(resolve, reject) {\n",
       "          var s = document.createElement('script');\n",
       "          document.getElementsByTagName(\"head\")[0].appendChild(s);\n",
       "          s.async = true;\n",
       "          s.onload = () => {\n",
       "            VEGA_DEBUG[key] = version;\n",
       "            return resolve(paths[lib]);\n",
       "          };\n",
       "          s.onerror = () => reject(`Error loading script: ${paths[lib]}`);\n",
       "          s.src = paths[lib];\n",
       "        });\n",
       "    }\n",
       "\n",
       "    function showError(err) {\n",
       "      outputDiv.innerHTML = `<div class=\"error\" style=\"color:red;\">${err}</div>`;\n",
       "      throw err;\n",
       "    }\n",
       "\n",
       "    function displayChart(vegaEmbed) {\n",
       "      vegaEmbed(outputDiv, spec, embedOpt)\n",
       "        .catch(err => showError(`Javascript Error: ${err.message}<br>This usually means there's a typo in your chart specification. See the javascript console for the full traceback.`));\n",
       "    }\n",
       "\n",
       "    if(typeof define === \"function\" && define.amd) {\n",
       "      requirejs.config({paths});\n",
       "      require([\"vega-embed\"], displayChart, err => showError(`Error loading script: ${err.message}`));\n",
       "    } else {\n",
       "      maybeLoadScript(\"vega\", \"5\")\n",
       "        .then(() => maybeLoadScript(\"vega-lite\", \"5.17.0\"))\n",
       "        .then(() => maybeLoadScript(\"vega-embed\", \"6\"))\n",
       "        .catch(showError)\n",
       "        .then(() => displayChart(vegaEmbed));\n",
       "    }\n",
       "  })({\"config\": {\"view\": {\"continuousWidth\": 300, \"continuousHeight\": 300}}, \"layer\": [{\"mark\": {\"type\": \"rect\"}, \"encoding\": {\"color\": {\"field\": \"Count\", \"type\": \"quantitative\"}, \"tooltip\": [{\"field\": \"True\", \"type\": \"ordinal\"}, {\"field\": \"Predicted\", \"type\": \"ordinal\"}, {\"field\": \"Count\", \"type\": \"quantitative\"}], \"x\": {\"field\": \"Predicted\", \"sort\": [\"Hate Speech\", \"Non Hatespeech\"], \"type\": \"ordinal\"}, \"y\": {\"field\": \"True\", \"sort\": [\"Hate Speech\", \"Non Hatespeech\"], \"type\": \"ordinal\"}}, \"title\": \"OH_Using_HS 4B-1 LR\"}, {\"mark\": {\"type\": \"text\", \"align\": \"center\", \"baseline\": \"middle\", \"fontSize\": 12}, \"encoding\": {\"color\": {\"condition\": {\"test\": \"(datum.Count > 376.5)\", \"value\": \"white\"}, \"value\": \"black\"}, \"text\": {\"field\": \"Count\", \"type\": \"quantitative\"}, \"tooltip\": [{\"field\": \"True\", \"type\": \"ordinal\"}, {\"field\": \"Predicted\", \"type\": \"ordinal\"}, {\"field\": \"Count\", \"type\": \"quantitative\"}], \"x\": {\"field\": \"Predicted\", \"sort\": [\"Hate Speech\", \"Non Hatespeech\"], \"type\": \"ordinal\"}, \"y\": {\"field\": \"True\", \"sort\": [\"Hate Speech\", \"Non Hatespeech\"], \"type\": \"ordinal\"}}, \"title\": \"OH_Using_HS 4B-1 LR\"}], \"data\": {\"name\": \"data-3314a60bd6d70b8ff116403da34d0d75\"}, \"height\": 300, \"width\": 400, \"$schema\": \"https://vega.github.io/schema/vega-lite/v5.17.0.json\", \"datasets\": {\"data-3314a60bd6d70b8ff116403da34d0d75\": [{\"True\": \"Hate Speech\", \"Predicted\": \"Hate Speech\", \"Count\": 710}, {\"True\": \"Non Hatespeech\", \"Predicted\": \"Hate Speech\", \"Count\": 107}, {\"True\": \"Hate Speech\", \"Predicted\": \"Non Hatespeech\", \"Count\": 277}, {\"True\": \"Non Hatespeech\", \"Predicted\": \"Non Hatespeech\", \"Count\": 753}]}}, {\"mode\": \"vega-lite\"});\n",
       "</script>"
      ],
      "text/plain": [
       "alt.LayerChart(...)"
      ]
     },
     "metadata": {},
     "output_type": "display_data"
    }
   ],
   "source": [
    "import altair as alt\n",
    "import altair_saver\n",
    "import pandas as pd\n",
    "from sklearn.metrics import confusion_matrix\n",
    "\n",
    "# Calculate the confusion matrix\n",
    "cm = confusion_matrix(true_labels, adjusted_predictions)\n",
    "\n",
    "# Define class names\n",
    "class_names = ['Hate Speech', 'Non Hatespeech']\n",
    "\n",
    "# Convert confusion matrix to DataFrame\n",
    "cm_df = pd.DataFrame(cm, index=class_names, columns=class_names).reset_index().melt(id_vars='index')\n",
    "cm_df.columns = ['True', 'Predicted', 'Count']\n",
    "\n",
    "# Ensure the order of categories\n",
    "cm_df['True'] = pd.Categorical(cm_df['True'], categories=class_names, ordered=True)\n",
    "cm_df['Predicted'] = pd.Categorical(cm_df['Predicted'], categories=class_names, ordered=True)\n",
    "\n",
    "# Create the Altair plot\n",
    "heatmap = alt.Chart(cm_df).mark_rect().encode(\n",
    "    x=alt.X('Predicted:O', sort=class_names),\n",
    "    y=alt.Y('True:O', sort=class_names),\n",
    "    color='Count:Q',\n",
    "    tooltip=['True', 'Predicted', 'Count']\n",
    ").properties(\n",
    "    width=400,\n",
    "    height=300,\n",
    "    title='OH_Using_HS 4B-1 LR'\n",
    ")\n",
    "\n",
    "# Add text labels\n",
    "text = heatmap.mark_text(\n",
    "    align='center',\n",
    "    baseline='middle',\n",
    "    fontSize=12\n",
    ").encode(\n",
    "    text='Count:Q',\n",
    "    color=alt.condition(\n",
    "        alt.datum.Count > cm.max() / 2,\n",
    "        alt.value('white'),\n",
    "        alt.value('black')\n",
    "    )\n",
    ")\n",
    "\n",
    "# Combine heatmap and text\n",
    "final_chart = heatmap + text\n",
    "\n",
    "# Display the plot\n",
    "final_chart.show()"
   ]
  },
  {
   "cell_type": "code",
   "execution_count": 35,
   "id": "4c84bccf-bca1-4687-a5c4-cbaba95eaefb",
   "metadata": {
    "execution": {
     "iopub.execute_input": "2024-08-30T09:14:35.891398Z",
     "iopub.status.busy": "2024-08-30T09:14:35.891268Z",
     "iopub.status.idle": "2024-08-30T09:14:36.255045Z",
     "shell.execute_reply": "2024-08-30T09:14:36.254737Z",
     "shell.execute_reply.started": "2024-08-30T09:14:35.891390Z"
    }
   },
   "outputs": [
    {
     "name": "stdout",
     "output_type": "stream",
     "text": [
      "Plot saved to Results/Ensemble Model Results/On Hatespeech dataset/OH Using HS Ensemble/Blending/OH_Using_HS 4B-1 LR.png\n"
     ]
    }
   ],
   "source": [
    "\n",
    "# Specify the folder path\n",
    "folder_path = os.path.expanduser('Results/Ensemble Model Results/On Hatespeech dataset/OH Using HS Ensemble/Blending/')\n",
    "\n",
    "# Save the plot using vl-convert\n",
    "file_path_png = os.path.join(folder_path, 'OH_Using_HS 4B-1 LR.png')\n",
    "final_chart.save(file_path_png)\n",
    "\n",
    "print(f\"Plot saved to {file_path_png}\")"
   ]
  },
  {
   "cell_type": "markdown",
   "id": "b3649998-d30c-429a-9cc5-db6259d6c39e",
   "metadata": {},
   "source": [
    "### NB"
   ]
  },
  {
   "cell_type": "code",
   "execution_count": 36,
   "id": "88863a6c-c113-4347-84ed-3ef930aeaba4",
   "metadata": {
    "execution": {
     "iopub.execute_input": "2024-08-30T09:14:36.255659Z",
     "iopub.status.busy": "2024-08-30T09:14:36.255560Z",
     "iopub.status.idle": "2024-08-30T09:14:36.260795Z",
     "shell.execute_reply": "2024-08-30T09:14:36.260578Z",
     "shell.execute_reply.started": "2024-08-30T09:14:36.255651Z"
    }
   },
   "outputs": [
    {
     "name": "stdout",
     "output_type": "stream",
     "text": [
      "Naive Bayes\n",
      "Accuracy: 0.8002\n",
      "Precision: 0.7762\n",
      "Recall: 0.8023\n",
      "F1 Score: 0.7890\n",
      "Confusion Matrix:\n",
      " [[788 199]\n",
      " [170 690]]\n"
     ]
    }
   ],
   "source": [
    "# Calculate metrics\n",
    "accuracy = accuracy_score(true_labels, nb_validation_predictions)\n",
    "precision = precision_score(true_labels, nb_validation_predictions, average='binary')\n",
    "recall = recall_score(true_labels, nb_validation_predictions, average='binary')\n",
    "f1 = f1_score(true_labels, nb_validation_predictions, average='binary')\n",
    "conf_matrix = confusion_matrix(true_labels, nb_validation_predictions)\n",
    "\n",
    "# Print the metrics\n",
    "print(\"Naive Bayes\")\n",
    "print(f\"Accuracy: {accuracy:.4f}\")\n",
    "print(f\"Precision: {precision:.4f}\")\n",
    "print(f\"Recall: {recall:.4f}\")\n",
    "print(f\"F1 Score: {f1:.4f}\")\n",
    "print(\"Confusion Matrix:\\n\", conf_matrix)"
   ]
  },
  {
   "cell_type": "code",
   "execution_count": 37,
   "id": "4166d76b-60b8-490c-a425-70e228e99c88",
   "metadata": {
    "execution": {
     "iopub.execute_input": "2024-08-30T09:14:36.261305Z",
     "iopub.status.busy": "2024-08-30T09:14:36.261190Z",
     "iopub.status.idle": "2024-08-30T09:14:36.324491Z",
     "shell.execute_reply": "2024-08-30T09:14:36.324241Z",
     "shell.execute_reply.started": "2024-08-30T09:14:36.261297Z"
    }
   },
   "outputs": [
    {
     "data": {
      "image/png": "[encoded data removed]",
      "text/plain": [
       "<Figure size 640x480 with 1 Axes>"
      ]
     },
     "metadata": {},
     "output_type": "display_data"
    }
   ],
   "source": [
    "# Get probability scores for the positive class\n",
    "nb_prob_scores = nb_meta_classifier.predict_proba(validation_meta_features)[:, 1]\n",
    "\n",
    "import matplotlib.pyplot as plt\n",
    "\n",
    "# Plot the distribution of predicted probabilities\n",
    "plt.hist(nb_prob_scores, bins=50, alpha=0.75)\n",
    "plt.title('Distribution of Predicted Probabilities (NB)')\n",
    "plt.xlabel('Probability of Positive Class')\n",
    "plt.ylabel('Frequency')\n",
    "plt.show()"
   ]
  },
  {
   "cell_type": "markdown",
   "id": "5e2169b1-2326-484e-afab-e8f5bc9110cd",
   "metadata": {},
   "source": [
    "#### Optimized NB"
   ]
  },
  {
   "cell_type": "code",
   "execution_count": 38,
   "id": "48adaca5-619e-4e11-8720-4624e78f7d01",
   "metadata": {
    "execution": {
     "iopub.execute_input": "2024-08-30T09:14:36.325142Z",
     "iopub.status.busy": "2024-08-30T09:14:36.325050Z",
     "iopub.status.idle": "2024-08-30T09:14:36.331468Z",
     "shell.execute_reply": "2024-08-30T09:14:36.331211Z",
     "shell.execute_reply.started": "2024-08-30T09:14:36.325135Z"
    }
   },
   "outputs": [
    {
     "name": "stdout",
     "output_type": "stream",
     "text": [
      "Optimized Naive Bayes\n",
      "Precision: 0.7368\n",
      "Recall: 0.8756\n",
      "Accuracy: 0.7964\n",
      "F1 Score: 0.8002\n",
      "Confusion Matrix:\n",
      "[[718 269]\n",
      " [107 753]]\n"
     ]
    }
   ],
   "source": [
    "# Apply the new threshold\n",
    "adjusted_predictions = (nb_prob_scores >= nb_thresh).astype(int)\n",
    "\n",
    "# Evaluate with the new threshold\n",
    "adjusted_precision = precision_score(true_labels, adjusted_predictions, average='binary')\n",
    "adjusted_recall = recall_score(true_labels, adjusted_predictions, average='binary')\n",
    "adjusted_accuracy = accuracy_score(true_labels, adjusted_predictions)\n",
    "adjusted_f1 = f1_score(true_labels, adjusted_predictions, average='binary')\n",
    "adjusted_conf_matrix = confusion_matrix(true_labels, adjusted_predictions)\n",
    "\n",
    "print(\"Optimized Naive Bayes\")\n",
    "print(f\"Precision: {adjusted_precision:.4f}\")\n",
    "print(f\"Recall: {adjusted_recall:.4f}\")\n",
    "print(f\"Accuracy: {adjusted_accuracy:.4f}\")\n",
    "print(f\"F1 Score: {adjusted_f1:.4f}\")\n",
    "print(\"Confusion Matrix:\")\n",
    "print(adjusted_conf_matrix)"
   ]
  },
  {
   "cell_type": "code",
   "execution_count": 39,
   "id": "3385f279-f825-4037-b938-5ce665e1c933",
   "metadata": {
    "execution": {
     "iopub.execute_input": "2024-08-30T09:14:36.331968Z",
     "iopub.status.busy": "2024-08-30T09:14:36.331899Z",
     "iopub.status.idle": "2024-08-30T09:14:36.662917Z",
     "shell.execute_reply": "2024-08-30T09:14:36.662384Z",
     "shell.execute_reply.started": "2024-08-30T09:14:36.331961Z"
    }
   },
   "outputs": [
    {
     "name": "stdout",
     "output_type": "stream",
     "text": [
      "Updated cells count: 4\n"
     ]
    }
   ],
   "source": [
    "# SAVE TO GOOGLE SHEET\n",
    "\n",
    "# Define the range and values to update\n",
    "range_name = '4-1!F9:I9'  \n",
    "\n",
    "values = [[\n",
    "    f\"{adjusted_precision * 100:.2f}\",\n",
    "    f\"{adjusted_recall * 100:.2f}\",\n",
    "    f\"{adjusted_accuracy * 100:.2f}\",\n",
    "    f\"{adjusted_f1 * 100:.2f}\"\n",
    "]]\n",
    "\n",
    "# Prepare the request body\n",
    "body = {\n",
    "    'values': values\n",
    "}\n",
    "\n",
    "# Call the Sheets API to update the values\n",
    "result = service.spreadsheets().values().update(\n",
    "    spreadsheetId=spreadsheet_id, \n",
    "    range=range_name,\n",
    "    valueInputOption='USER_ENTERED',\n",
    "    body=body\n",
    ").execute()\n",
    "\n",
    "print('Updated cells count:', result.get('updatedCells'))"
   ]
  },
  {
   "cell_type": "markdown",
   "id": "713bd6ec-92aa-4870-ac78-885d8932f907",
   "metadata": {},
   "source": [
    "#### Save Confusion Matrix"
   ]
  },
  {
   "cell_type": "code",
   "execution_count": 40,
   "id": "cce31e47-a2e4-4178-869e-59b4c7fdf968",
   "metadata": {
    "execution": {
     "iopub.execute_input": "2024-08-30T09:14:36.664094Z",
     "iopub.status.busy": "2024-08-30T09:14:36.663746Z",
     "iopub.status.idle": "2024-08-30T09:14:36.695959Z",
     "shell.execute_reply": "2024-08-30T09:14:36.695699Z",
     "shell.execute_reply.started": "2024-08-30T09:14:36.664078Z"
    }
   },
   "outputs": [
    {
     "data": {
      "text/html": [
       "\n",
       "<style>\n",
       "  #altair-viz-3c5bd2d110154eb2bbd48c88498ee696.vega-embed {\n",
       "    width: 100%;\n",
       "    display: flex;\n",
       "  }\n",
       "\n",
       "  #altair-viz-3c5bd2d110154eb2bbd48c88498ee696.vega-embed details,\n",
       "  #altair-viz-3c5bd2d110154eb2bbd48c88498ee696.vega-embed details summary {\n",
       "    position: relative;\n",
       "  }\n",
       "</style>\n",
       "<div id=\"altair-viz-3c5bd2d110154eb2bbd48c88498ee696\"></div>\n",
       "<script type=\"text/javascript\">\n",
       "  var VEGA_DEBUG = (typeof VEGA_DEBUG == \"undefined\") ? {} : VEGA_DEBUG;\n",
       "  (function(spec, embedOpt){\n",
       "    let outputDiv = document.currentScript.previousElementSibling;\n",
       "    if (outputDiv.id !== \"altair-viz-3c5bd2d110154eb2bbd48c88498ee696\") {\n",
       "      outputDiv = document.getElementById(\"altair-viz-3c5bd2d110154eb2bbd48c88498ee696\");\n",
       "    }\n",
       "    const paths = {\n",
       "      \"vega\": \"https://cdn.jsdelivr.net/npm/vega@5?noext\",\n",
       "      \"vega-lib\": \"https://cdn.jsdelivr.net/npm/vega-lib?noext\",\n",
       "      \"vega-lite\": \"https://cdn.jsdelivr.net/npm/vega-lite@5.17.0?noext\",\n",
       "      \"vega-embed\": \"https://cdn.jsdelivr.net/npm/vega-embed@6?noext\",\n",
       "    };\n",
       "\n",
       "    function maybeLoadScript(lib, version) {\n",
       "      var key = `${lib.replace(\"-\", \"\")}_version`;\n",
       "      return (VEGA_DEBUG[key] == version) ?\n",
       "        Promise.resolve(paths[lib]) :\n",
       "        new Promise(function(resolve, reject) {\n",
       "          var s = document.createElement('script');\n",
       "          document.getElementsByTagName(\"head\")[0].appendChild(s);\n",
       "          s.async = true;\n",
       "          s.onload = () => {\n",
       "            VEGA_DEBUG[key] = version;\n",
       "            return resolve(paths[lib]);\n",
       "          };\n",
       "          s.onerror = () => reject(`Error loading script: ${paths[lib]}`);\n",
       "          s.src = paths[lib];\n",
       "        });\n",
       "    }\n",
       "\n",
       "    function showError(err) {\n",
       "      outputDiv.innerHTML = `<div class=\"error\" style=\"color:red;\">${err}</div>`;\n",
       "      throw err;\n",
       "    }\n",
       "\n",
       "    function displayChart(vegaEmbed) {\n",
       "      vegaEmbed(outputDiv, spec, embedOpt)\n",
       "        .catch(err => showError(`Javascript Error: ${err.message}<br>This usually means there's a typo in your chart specification. See the javascript console for the full traceback.`));\n",
       "    }\n",
       "\n",
       "    if(typeof define === \"function\" && define.amd) {\n",
       "      requirejs.config({paths});\n",
       "      require([\"vega-embed\"], displayChart, err => showError(`Error loading script: ${err.message}`));\n",
       "    } else {\n",
       "      maybeLoadScript(\"vega\", \"5\")\n",
       "        .then(() => maybeLoadScript(\"vega-lite\", \"5.17.0\"))\n",
       "        .then(() => maybeLoadScript(\"vega-embed\", \"6\"))\n",
       "        .catch(showError)\n",
       "        .then(() => displayChart(vegaEmbed));\n",
       "    }\n",
       "  })({\"config\": {\"view\": {\"continuousWidth\": 300, \"continuousHeight\": 300}}, \"layer\": [{\"mark\": {\"type\": \"rect\"}, \"encoding\": {\"color\": {\"field\": \"Count\", \"type\": \"quantitative\"}, \"tooltip\": [{\"field\": \"True\", \"type\": \"ordinal\"}, {\"field\": \"Predicted\", \"type\": \"ordinal\"}, {\"field\": \"Count\", \"type\": \"quantitative\"}], \"x\": {\"field\": \"Predicted\", \"sort\": [\"Hate Speech\", \"Non Hatespeech\"], \"type\": \"ordinal\"}, \"y\": {\"field\": \"True\", \"sort\": [\"Hate Speech\", \"Non Hatespeech\"], \"type\": \"ordinal\"}}, \"title\": \"OH_Using_HS 4B-1 NB\"}, {\"mark\": {\"type\": \"text\", \"align\": \"center\", \"baseline\": \"middle\", \"fontSize\": 12}, \"encoding\": {\"color\": {\"condition\": {\"test\": \"(datum.Count > 376.5)\", \"value\": \"white\"}, \"value\": \"black\"}, \"text\": {\"field\": \"Count\", \"type\": \"quantitative\"}, \"tooltip\": [{\"field\": \"True\", \"type\": \"ordinal\"}, {\"field\": \"Predicted\", \"type\": \"ordinal\"}, {\"field\": \"Count\", \"type\": \"quantitative\"}], \"x\": {\"field\": \"Predicted\", \"sort\": [\"Hate Speech\", \"Non Hatespeech\"], \"type\": \"ordinal\"}, \"y\": {\"field\": \"True\", \"sort\": [\"Hate Speech\", \"Non Hatespeech\"], \"type\": \"ordinal\"}}, \"title\": \"OH_Using_HS 4B-1 NB\"}], \"data\": {\"name\": \"data-05614d5ba9953e8d5c348a4582674aec\"}, \"height\": 300, \"width\": 400, \"$schema\": \"https://vega.github.io/schema/vega-lite/v5.17.0.json\", \"datasets\": {\"data-05614d5ba9953e8d5c348a4582674aec\": [{\"True\": \"Hate Speech\", \"Predicted\": \"Hate Speech\", \"Count\": 718}, {\"True\": \"Non Hatespeech\", \"Predicted\": \"Hate Speech\", \"Count\": 107}, {\"True\": \"Hate Speech\", \"Predicted\": \"Non Hatespeech\", \"Count\": 269}, {\"True\": \"Non Hatespeech\", \"Predicted\": \"Non Hatespeech\", \"Count\": 753}]}}, {\"mode\": \"vega-lite\"});\n",
       "</script>"
      ],
      "text/plain": [
       "alt.LayerChart(...)"
      ]
     },
     "metadata": {},
     "output_type": "display_data"
    }
   ],
   "source": [
    "import altair as alt\n",
    "import pandas as pd\n",
    "from sklearn.metrics import confusion_matrix\n",
    "\n",
    "# Calculate the confusion matrix\n",
    "cm = confusion_matrix(true_labels, adjusted_predictions)\n",
    "\n",
    "# Define class names\n",
    "class_names = ['Hate Speech', 'Non Hatespeech']\n",
    "\n",
    "# Convert confusion matrix to DataFrame\n",
    "cm_df = pd.DataFrame(cm, index=class_names, columns=class_names).reset_index().melt(id_vars='index')\n",
    "cm_df.columns = ['True', 'Predicted', 'Count']\n",
    "\n",
    "# Ensure the order of categories\n",
    "cm_df['True'] = pd.Categorical(cm_df['True'], categories=class_names, ordered=True)\n",
    "cm_df['Predicted'] = pd.Categorical(cm_df['Predicted'], categories=class_names, ordered=True)\n",
    "\n",
    "# Create the Altair plot\n",
    "heatmap = alt.Chart(cm_df).mark_rect().encode(\n",
    "    x=alt.X('Predicted:O', sort=class_names),\n",
    "    y=alt.Y('True:O', sort=class_names),\n",
    "    color='Count:Q',\n",
    "    tooltip=['True', 'Predicted', 'Count']\n",
    ").properties(\n",
    "    width=400,\n",
    "    height=300,\n",
    "    title='OH_Using_HS 4B-1 NB'\n",
    ")\n",
    "\n",
    "# Add text labels\n",
    "text = heatmap.mark_text(\n",
    "    align='center',\n",
    "    baseline='middle',\n",
    "    fontSize=12\n",
    ").encode(\n",
    "    text='Count:Q',\n",
    "    color=alt.condition(\n",
    "        alt.datum.Count > cm.max() / 2,\n",
    "        alt.value('white'),\n",
    "        alt.value('black')\n",
    "    )\n",
    ")\n",
    "\n",
    "# Combine heatmap and text\n",
    "final_chart = heatmap + text\n",
    "\n",
    "# Display the plot\n",
    "final_chart.show()"
   ]
  },
  {
   "cell_type": "code",
   "execution_count": 41,
   "id": "81f17b08-bd45-4091-aa78-efa4bad633d2",
   "metadata": {
    "execution": {
     "iopub.execute_input": "2024-08-30T09:14:36.696481Z",
     "iopub.status.busy": "2024-08-30T09:14:36.696404Z",
     "iopub.status.idle": "2024-08-30T09:14:36.739424Z",
     "shell.execute_reply": "2024-08-30T09:14:36.739034Z",
     "shell.execute_reply.started": "2024-08-30T09:14:36.696473Z"
    }
   },
   "outputs": [
    {
     "name": "stdout",
     "output_type": "stream",
     "text": [
      "Plot saved to Results/Ensemble Model Results/On Hatespeech dataset/OH Using HS Ensemble/Blending/OH_Using_HS 4B-1 NB.png\n"
     ]
    }
   ],
   "source": [
    "# Specify the folder path\n",
    "folder_path = os.path.expanduser('Results/Ensemble Model Results/On Hatespeech dataset/OH Using HS Ensemble/Blending/')\n",
    "\n",
    "# Save the plot using vl-convert\n",
    "file_path_png = os.path.join(folder_path, 'OH_Using_HS 4B-1 NB.png')\n",
    "final_chart.save(file_path_png)\n",
    "\n",
    "print(f\"Plot saved to {file_path_png}\")"
   ]
  },
  {
   "cell_type": "markdown",
   "id": "1f2d3e3d-90ee-45fd-9934-756f226ee6e1",
   "metadata": {},
   "source": [
    "### DT"
   ]
  },
  {
   "cell_type": "code",
   "execution_count": 42,
   "id": "e549350b-ed54-4425-a913-7401ec7d676e",
   "metadata": {
    "execution": {
     "iopub.execute_input": "2024-08-30T09:14:36.740094Z",
     "iopub.status.busy": "2024-08-30T09:14:36.740007Z",
     "iopub.status.idle": "2024-08-30T09:14:36.746755Z",
     "shell.execute_reply": "2024-08-30T09:14:36.746419Z",
     "shell.execute_reply.started": "2024-08-30T09:14:36.740086Z"
    }
   },
   "outputs": [
    {
     "name": "stdout",
     "output_type": "stream",
     "text": [
      "Decision Tree\n",
      "Accuracy: 0.7195\n",
      "Precision: 0.7041\n",
      "Recall: 0.6860\n",
      "F1 Score: 0.6949\n",
      "Confusion Matrix:\n",
      " [[739 248]\n",
      " [270 590]]\n"
     ]
    }
   ],
   "source": [
    "# Calculate metrics\n",
    "accuracy = accuracy_score(true_labels, dt_validation_predictions)\n",
    "precision = precision_score(true_labels, dt_validation_predictions, average='binary')\n",
    "recall = recall_score(true_labels, dt_validation_predictions, average='binary')\n",
    "f1 = f1_score(true_labels, dt_validation_predictions, average='binary')\n",
    "conf_matrix = confusion_matrix(true_labels, dt_validation_predictions)\n",
    "\n",
    "# Print the metrics\n",
    "print(\"Decision Tree\")\n",
    "print(f\"Accuracy: {accuracy:.4f}\")\n",
    "print(f\"Precision: {precision:.4f}\")\n",
    "print(f\"Recall: {recall:.4f}\")\n",
    "print(f\"F1 Score: {f1:.4f}\")\n",
    "print(\"Confusion Matrix:\\n\", conf_matrix)"
   ]
  },
  {
   "cell_type": "code",
   "execution_count": 43,
   "id": "96165c7f-bc84-4766-ad7a-94ed842fe19f",
   "metadata": {
    "execution": {
     "iopub.execute_input": "2024-08-30T09:14:36.747477Z",
     "iopub.status.busy": "2024-08-30T09:14:36.747310Z",
     "iopub.status.idle": "2024-08-30T09:14:36.808028Z",
     "shell.execute_reply": "2024-08-30T09:14:36.807693Z",
     "shell.execute_reply.started": "2024-08-30T09:14:36.747467Z"
    }
   },
   "outputs": [
    {
     "data": {
      "image/png": "[encoded data removed]",
      "text/plain": [
       "<Figure size 640x480 with 1 Axes>"
      ]
     },
     "metadata": {},
     "output_type": "display_data"
    }
   ],
   "source": [
    "# Get probability scores for the positive class\n",
    "dt_prob_scores = dt_meta_classifier.predict_proba(validation_meta_features)[:, 1]\n",
    "\n",
    "import matplotlib.pyplot as plt\n",
    "\n",
    "# Plot the distribution of predicted probabilities\n",
    "plt.hist(dt_prob_scores, bins=50, alpha=0.75)\n",
    "plt.title('Distribution of Predicted Probabilities (DT)')\n",
    "plt.xlabel('Probability of Positive Class')\n",
    "plt.ylabel('Frequency')\n",
    "plt.show()"
   ]
  },
  {
   "cell_type": "markdown",
   "id": "12fd4d69-bbe3-49a2-adc7-5797413066a0",
   "metadata": {},
   "source": [
    "#### Optimized DT"
   ]
  },
  {
   "cell_type": "code",
   "execution_count": 44,
   "id": "402e240b-712d-491a-9cfb-18f050dc8e10",
   "metadata": {
    "execution": {
     "iopub.execute_input": "2024-08-30T09:14:36.808651Z",
     "iopub.status.busy": "2024-08-30T09:14:36.808575Z",
     "iopub.status.idle": "2024-08-30T09:14:36.814487Z",
     "shell.execute_reply": "2024-08-30T09:14:36.814233Z",
     "shell.execute_reply.started": "2024-08-30T09:14:36.808644Z"
    }
   },
   "outputs": [
    {
     "name": "stdout",
     "output_type": "stream",
     "text": [
      "Optimized Decision Tree\n",
      "Precision: 0.6958\n",
      "Recall: 0.6942\n",
      "Accuracy: 0.7163\n",
      "F1 Score: 0.6950\n",
      "Confusion Matrix:\n",
      "[[726 261]\n",
      " [263 597]]\n"
     ]
    }
   ],
   "source": [
    "# Apply the new threshold\n",
    "adjusted_predictions = (dt_prob_scores >= dt_thresh).astype(int)\n",
    "\n",
    "# Evaluate with the new threshold\n",
    "adjusted_precision = precision_score(true_labels, adjusted_predictions, average='binary')\n",
    "adjusted_recall = recall_score(true_labels, adjusted_predictions, average='binary')\n",
    "adjusted_accuracy = accuracy_score(true_labels, adjusted_predictions)\n",
    "adjusted_f1 = f1_score(true_labels, adjusted_predictions, average='binary')\n",
    "adjusted_conf_matrix = confusion_matrix(true_labels, adjusted_predictions)\n",
    "\n",
    "print(\"Optimized Decision Tree\")\n",
    "print(f\"Precision: {adjusted_precision:.4f}\")\n",
    "print(f\"Recall: {adjusted_recall:.4f}\")\n",
    "print(f\"Accuracy: {adjusted_accuracy:.4f}\")\n",
    "print(f\"F1 Score: {adjusted_f1:.4f}\")\n",
    "print(\"Confusion Matrix:\")\n",
    "print(adjusted_conf_matrix)"
   ]
  },
  {
   "cell_type": "code",
   "execution_count": 45,
   "id": "9a8b1491-a04a-4b41-8964-146b60f0a3bd",
   "metadata": {
    "execution": {
     "iopub.execute_input": "2024-08-30T09:14:36.814904Z",
     "iopub.status.busy": "2024-08-30T09:14:36.814832Z",
     "iopub.status.idle": "2024-08-30T09:14:37.145931Z",
     "shell.execute_reply": "2024-08-30T09:14:37.145457Z",
     "shell.execute_reply.started": "2024-08-30T09:14:36.814897Z"
    }
   },
   "outputs": [
    {
     "name": "stdout",
     "output_type": "stream",
     "text": [
      "Updated cells count: 4\n"
     ]
    }
   ],
   "source": [
    "# SAVE TO GOOGLE SHEET\n",
    "\n",
    "# Define the range and values to update\n",
    "range_name = '4-1!F10:I10'  \n",
    "\n",
    "values = [[\n",
    "    f\"{adjusted_precision * 100:.2f}\",\n",
    "    f\"{adjusted_recall * 100:.2f}\",\n",
    "    f\"{adjusted_accuracy * 100:.2f}\",\n",
    "    f\"{adjusted_f1 * 100:.2f}\"\n",
    "]]\n",
    "\n",
    "# Prepare the request body\n",
    "body = {\n",
    "    'values': values\n",
    "}\n",
    "\n",
    "# Call the Sheets API to update the values\n",
    "result = service.spreadsheets().values().update(\n",
    "    spreadsheetId=spreadsheet_id, \n",
    "    range=range_name,\n",
    "    valueInputOption='USER_ENTERED',\n",
    "    body=body\n",
    ").execute()\n",
    "\n",
    "print('Updated cells count:', result.get('updatedCells'))"
   ]
  },
  {
   "cell_type": "markdown",
   "id": "3b80cdde-08b4-45bf-8a7f-9e042d310d28",
   "metadata": {},
   "source": [
    "#### Save Confusion Matrix"
   ]
  },
  {
   "cell_type": "code",
   "execution_count": 46,
   "id": "132bbe60-3e4d-42ba-a631-5518a8fc5ccc",
   "metadata": {
    "execution": {
     "iopub.execute_input": "2024-08-30T09:14:37.146787Z",
     "iopub.status.busy": "2024-08-30T09:14:37.146666Z",
     "iopub.status.idle": "2024-08-30T09:14:37.178928Z",
     "shell.execute_reply": "2024-08-30T09:14:37.178661Z",
     "shell.execute_reply.started": "2024-08-30T09:14:37.146775Z"
    }
   },
   "outputs": [
    {
     "data": {
      "text/html": [
       "\n",
       "<style>\n",
       "  #altair-viz-c61a2dd4695946b3b478c930011e4ec4.vega-embed {\n",
       "    width: 100%;\n",
       "    display: flex;\n",
       "  }\n",
       "\n",
       "  #altair-viz-c61a2dd4695946b3b478c930011e4ec4.vega-embed details,\n",
       "  #altair-viz-c61a2dd4695946b3b478c930011e4ec4.vega-embed details summary {\n",
       "    position: relative;\n",
       "  }\n",
       "</style>\n",
       "<div id=\"altair-viz-c61a2dd4695946b3b478c930011e4ec4\"></div>\n",
       "<script type=\"text/javascript\">\n",
       "  var VEGA_DEBUG = (typeof VEGA_DEBUG == \"undefined\") ? {} : VEGA_DEBUG;\n",
       "  (function(spec, embedOpt){\n",
       "    let outputDiv = document.currentScript.previousElementSibling;\n",
       "    if (outputDiv.id !== \"altair-viz-c61a2dd4695946b3b478c930011e4ec4\") {\n",
       "      outputDiv = document.getElementById(\"altair-viz-c61a2dd4695946b3b478c930011e4ec4\");\n",
       "    }\n",
       "    const paths = {\n",
       "      \"vega\": \"https://cdn.jsdelivr.net/npm/vega@5?noext\",\n",
       "      \"vega-lib\": \"https://cdn.jsdelivr.net/npm/vega-lib?noext\",\n",
       "      \"vega-lite\": \"https://cdn.jsdelivr.net/npm/vega-lite@5.17.0?noext\",\n",
       "      \"vega-embed\": \"https://cdn.jsdelivr.net/npm/vega-embed@6?noext\",\n",
       "    };\n",
       "\n",
       "    function maybeLoadScript(lib, version) {\n",
       "      var key = `${lib.replace(\"-\", \"\")}_version`;\n",
       "      return (VEGA_DEBUG[key] == version) ?\n",
       "        Promise.resolve(paths[lib]) :\n",
       "        new Promise(function(resolve, reject) {\n",
       "          var s = document.createElement('script');\n",
       "          document.getElementsByTagName(\"head\")[0].appendChild(s);\n",
       "          s.async = true;\n",
       "          s.onload = () => {\n",
       "            VEGA_DEBUG[key] = version;\n",
       "            return resolve(paths[lib]);\n",
       "          };\n",
       "          s.onerror = () => reject(`Error loading script: ${paths[lib]}`);\n",
       "          s.src = paths[lib];\n",
       "        });\n",
       "    }\n",
       "\n",
       "    function showError(err) {\n",
       "      outputDiv.innerHTML = `<div class=\"error\" style=\"color:red;\">${err}</div>`;\n",
       "      throw err;\n",
       "    }\n",
       "\n",
       "    function displayChart(vegaEmbed) {\n",
       "      vegaEmbed(outputDiv, spec, embedOpt)\n",
       "        .catch(err => showError(`Javascript Error: ${err.message}<br>This usually means there's a typo in your chart specification. See the javascript console for the full traceback.`));\n",
       "    }\n",
       "\n",
       "    if(typeof define === \"function\" && define.amd) {\n",
       "      requirejs.config({paths});\n",
       "      require([\"vega-embed\"], displayChart, err => showError(`Error loading script: ${err.message}`));\n",
       "    } else {\n",
       "      maybeLoadScript(\"vega\", \"5\")\n",
       "        .then(() => maybeLoadScript(\"vega-lite\", \"5.17.0\"))\n",
       "        .then(() => maybeLoadScript(\"vega-embed\", \"6\"))\n",
       "        .catch(showError)\n",
       "        .then(() => displayChart(vegaEmbed));\n",
       "    }\n",
       "  })({\"config\": {\"view\": {\"continuousWidth\": 300, \"continuousHeight\": 300}}, \"layer\": [{\"mark\": {\"type\": \"rect\"}, \"encoding\": {\"color\": {\"field\": \"Count\", \"type\": \"quantitative\"}, \"tooltip\": [{\"field\": \"True\", \"type\": \"ordinal\"}, {\"field\": \"Predicted\", \"type\": \"ordinal\"}, {\"field\": \"Count\", \"type\": \"quantitative\"}], \"x\": {\"field\": \"Predicted\", \"sort\": [\"Hate Speech\", \"Non Hatespeech\"], \"type\": \"ordinal\"}, \"y\": {\"field\": \"True\", \"sort\": [\"Hate Speech\", \"Non Hatespeech\"], \"type\": \"ordinal\"}}, \"title\": \"OH_Using_HS 4B-1 DT\"}, {\"mark\": {\"type\": \"text\", \"align\": \"center\", \"baseline\": \"middle\", \"fontSize\": 12}, \"encoding\": {\"color\": {\"condition\": {\"test\": \"(datum.Count > 363.0)\", \"value\": \"white\"}, \"value\": \"black\"}, \"text\": {\"field\": \"Count\", \"type\": \"quantitative\"}, \"tooltip\": [{\"field\": \"True\", \"type\": \"ordinal\"}, {\"field\": \"Predicted\", \"type\": \"ordinal\"}, {\"field\": \"Count\", \"type\": \"quantitative\"}], \"x\": {\"field\": \"Predicted\", \"sort\": [\"Hate Speech\", \"Non Hatespeech\"], \"type\": \"ordinal\"}, \"y\": {\"field\": \"True\", \"sort\": [\"Hate Speech\", \"Non Hatespeech\"], \"type\": \"ordinal\"}}, \"title\": \"OH_Using_HS 4B-1 DT\"}], \"data\": {\"name\": \"data-956bb2843c7522411ca3f02131d7dad3\"}, \"height\": 300, \"width\": 400, \"$schema\": \"https://vega.github.io/schema/vega-lite/v5.17.0.json\", \"datasets\": {\"data-956bb2843c7522411ca3f02131d7dad3\": [{\"True\": \"Hate Speech\", \"Predicted\": \"Hate Speech\", \"Count\": 726}, {\"True\": \"Non Hatespeech\", \"Predicted\": \"Hate Speech\", \"Count\": 263}, {\"True\": \"Hate Speech\", \"Predicted\": \"Non Hatespeech\", \"Count\": 261}, {\"True\": \"Non Hatespeech\", \"Predicted\": \"Non Hatespeech\", \"Count\": 597}]}}, {\"mode\": \"vega-lite\"});\n",
       "</script>"
      ],
      "text/plain": [
       "alt.LayerChart(...)"
      ]
     },
     "metadata": {},
     "output_type": "display_data"
    }
   ],
   "source": [
    "import altair as alt\n",
    "import pandas as pd\n",
    "from sklearn.metrics import confusion_matrix\n",
    "\n",
    "# Calculate the confusion matrix\n",
    "cm = confusion_matrix(true_labels, adjusted_predictions)\n",
    "\n",
    "# Define class names\n",
    "class_names = ['Hate Speech', 'Non Hatespeech']\n",
    "\n",
    "# Convert confusion matrix to DataFrame\n",
    "cm_df = pd.DataFrame(cm, index=class_names, columns=class_names).reset_index().melt(id_vars='index')\n",
    "cm_df.columns = ['True', 'Predicted', 'Count']\n",
    "\n",
    "# Ensure the order of categories\n",
    "cm_df['True'] = pd.Categorical(cm_df['True'], categories=class_names, ordered=True)\n",
    "cm_df['Predicted'] = pd.Categorical(cm_df['Predicted'], categories=class_names, ordered=True)\n",
    "\n",
    "# Create the Altair plot\n",
    "heatmap = alt.Chart(cm_df).mark_rect().encode(\n",
    "    x=alt.X('Predicted:O', sort=class_names),\n",
    "    y=alt.Y('True:O', sort=class_names),\n",
    "    color='Count:Q',\n",
    "    tooltip=['True', 'Predicted', 'Count']\n",
    ").properties(\n",
    "    width=400,\n",
    "    height=300,\n",
    "    title='OH_Using_HS 4B-1 DT'\n",
    ")\n",
    "\n",
    "# Add text labels\n",
    "text = heatmap.mark_text(\n",
    "    align='center',\n",
    "    baseline='middle',\n",
    "    fontSize=12\n",
    ").encode(\n",
    "    text='Count:Q',\n",
    "    color=alt.condition(\n",
    "        alt.datum.Count > cm.max() / 2,\n",
    "        alt.value('white'),\n",
    "        alt.value('black')\n",
    "    )\n",
    ")\n",
    "\n",
    "# Combine heatmap and text\n",
    "final_chart = heatmap + text\n",
    "\n",
    "# Display the plot\n",
    "final_chart.show()"
   ]
  },
  {
   "cell_type": "code",
   "execution_count": 47,
   "id": "fd980aa3-972b-4c5a-bcff-db353c916d50",
   "metadata": {
    "execution": {
     "iopub.execute_input": "2024-08-30T09:14:37.179397Z",
     "iopub.status.busy": "2024-08-30T09:14:37.179325Z",
     "iopub.status.idle": "2024-08-30T09:14:37.219740Z",
     "shell.execute_reply": "2024-08-30T09:14:37.219440Z",
     "shell.execute_reply.started": "2024-08-30T09:14:37.179390Z"
    }
   },
   "outputs": [
    {
     "name": "stdout",
     "output_type": "stream",
     "text": [
      "Plot saved to Results/Ensemble Model Results/On Hatespeech dataset/OH Using HS Ensemble/Blending/OH_Using_HS 4B-1 DT.png\n"
     ]
    }
   ],
   "source": [
    "# Specify the folder path\n",
    "folder_path = os.path.expanduser('Results/Ensemble Model Results/On Hatespeech dataset/OH Using HS Ensemble/Blending/')\n",
    "\n",
    "# Save the plot using vl-convert\n",
    "file_path_png = os.path.join(folder_path, 'OH_Using_HS 4B-1 DT.png')\n",
    "final_chart.save(file_path_png)\n",
    "\n",
    "print(f\"Plot saved to {file_path_png}\")"
   ]
  },
  {
   "cell_type": "markdown",
   "id": "617d6721-27ff-4989-98c9-63c9f5bf6017",
   "metadata": {},
   "source": [
    "### SVM"
   ]
  },
  {
   "cell_type": "code",
   "execution_count": 48,
   "id": "a09fcca8-2569-41cd-b218-d4d368329c02",
   "metadata": {
    "execution": {
     "iopub.execute_input": "2024-08-30T09:14:37.220325Z",
     "iopub.status.busy": "2024-08-30T09:14:37.220234Z",
     "iopub.status.idle": "2024-08-30T09:14:37.225846Z",
     "shell.execute_reply": "2024-08-30T09:14:37.225607Z",
     "shell.execute_reply.started": "2024-08-30T09:14:37.220318Z"
    }
   },
   "outputs": [
    {
     "name": "stdout",
     "output_type": "stream",
     "text": [
      "SVM\n",
      "Accuracy: 0.7964\n",
      "Precision: 0.7834\n",
      "Recall: 0.7779\n",
      "F1 Score: 0.7806\n",
      "Confusion Matrix:\n",
      " [[802 185]\n",
      " [191 669]]\n"
     ]
    }
   ],
   "source": [
    "# Calculate metrics\n",
    "accuracy = accuracy_score(true_labels, svm_validation_predictions)\n",
    "precision = precision_score(true_labels, svm_validation_predictions, average='binary')\n",
    "recall = recall_score(true_labels, svm_validation_predictions, average='binary')\n",
    "f1 = f1_score(true_labels, svm_validation_predictions, average='binary')\n",
    "conf_matrix = confusion_matrix(true_labels, svm_validation_predictions)\n",
    "\n",
    "# Print the metrics\n",
    "print(\"SVM\")\n",
    "print(f\"Accuracy: {accuracy:.4f}\")\n",
    "print(f\"Precision: {precision:.4f}\")\n",
    "print(f\"Recall: {recall:.4f}\")\n",
    "print(f\"F1 Score: {f1:.4f}\")\n",
    "print(\"Confusion Matrix:\\n\", conf_matrix)"
   ]
  },
  {
   "cell_type": "code",
   "execution_count": 49,
   "id": "658a8279-7bf1-4567-9811-2cbba63c5afe",
   "metadata": {
    "execution": {
     "iopub.execute_input": "2024-08-30T09:14:37.226422Z",
     "iopub.status.busy": "2024-08-30T09:14:37.226312Z",
     "iopub.status.idle": "2024-08-30T09:14:37.332510Z",
     "shell.execute_reply": "2024-08-30T09:14:37.332214Z",
     "shell.execute_reply.started": "2024-08-30T09:14:37.226414Z"
    }
   },
   "outputs": [
    {
     "data": {
      "image/png": "[encoded data removed]",
      "text/plain": [
       "<Figure size 640x480 with 1 Axes>"
      ]
     },
     "metadata": {},
     "output_type": "display_data"
    }
   ],
   "source": [
    "# Get probability scores for the positive class\n",
    "svm_prob_scores = svm_meta_classifier.predict_proba(validation_meta_features)[:, 1]\n",
    "\n",
    "import matplotlib.pyplot as plt\n",
    "\n",
    "# Plot the distribution of predicted probabilities\n",
    "plt.hist(svm_prob_scores, bins=50, alpha=0.75)\n",
    "plt.title('Distribution of Predicted Probabilities (SVM)')\n",
    "plt.xlabel('Probability of Positive Class')\n",
    "plt.ylabel('Frequency')\n",
    "plt.show()"
   ]
  },
  {
   "cell_type": "markdown",
   "id": "e23a28f0-e330-4f4f-ae3a-efab329ebd5b",
   "metadata": {},
   "source": [
    "#### Optimized SVM"
   ]
  },
  {
   "cell_type": "code",
   "execution_count": 50,
   "id": "392837af-79b9-4dad-a890-7e9d19a08197",
   "metadata": {
    "execution": {
     "iopub.execute_input": "2024-08-30T09:14:37.333181Z",
     "iopub.status.busy": "2024-08-30T09:14:37.333069Z",
     "iopub.status.idle": "2024-08-30T09:14:37.338945Z",
     "shell.execute_reply": "2024-08-30T09:14:37.338711Z",
     "shell.execute_reply.started": "2024-08-30T09:14:37.333171Z"
    }
   },
   "outputs": [
    {
     "name": "stdout",
     "output_type": "stream",
     "text": [
      "Optimized SVM\n",
      "Precision: 0.7521\n",
      "Recall: 0.8430\n",
      "Accuracy: 0.7975\n",
      "F1 Score: 0.7950\n",
      "Confusion Matrix:\n",
      "[[748 239]\n",
      " [135 725]]\n"
     ]
    }
   ],
   "source": [
    "# Apply the new threshold\n",
    "adjusted_predictions = (svm_prob_scores >= svm_thresh).astype(int)\n",
    "\n",
    "# Evaluate with the new threshold\n",
    "adjusted_precision = precision_score(true_labels, adjusted_predictions, average='binary')\n",
    "adjusted_recall = recall_score(true_labels, adjusted_predictions, average='binary')\n",
    "adjusted_accuracy = accuracy_score(true_labels, adjusted_predictions)\n",
    "adjusted_f1 = f1_score(true_labels, adjusted_predictions, average='binary')\n",
    "adjusted_conf_matrix = confusion_matrix(true_labels, adjusted_predictions)\n",
    "\n",
    "print(\"Optimized SVM\")\n",
    "print(f\"Precision: {adjusted_precision:.4f}\")\n",
    "print(f\"Recall: {adjusted_recall:.4f}\")\n",
    "print(f\"Accuracy: {adjusted_accuracy:.4f}\")\n",
    "print(f\"F1 Score: {adjusted_f1:.4f}\")\n",
    "print(\"Confusion Matrix:\")\n",
    "print(adjusted_conf_matrix)"
   ]
  },
  {
   "cell_type": "code",
   "execution_count": 51,
   "id": "79945954-0d97-4ce4-b7d8-83fcde7b355a",
   "metadata": {
    "execution": {
     "iopub.execute_input": "2024-08-30T09:14:37.339496Z",
     "iopub.status.busy": "2024-08-30T09:14:37.339402Z",
     "iopub.status.idle": "2024-08-30T09:14:37.653884Z",
     "shell.execute_reply": "2024-08-30T09:14:37.653474Z",
     "shell.execute_reply.started": "2024-08-30T09:14:37.339488Z"
    }
   },
   "outputs": [
    {
     "name": "stdout",
     "output_type": "stream",
     "text": [
      "Updated cells count: 4\n"
     ]
    }
   ],
   "source": [
    "# SAVE TO GOOGLE SHEET\n",
    "\n",
    "# Define the range and values to update\n",
    "range_name = '4-1!F11:I11'  \n",
    "\n",
    "values = [[\n",
    "    f\"{adjusted_precision * 100:.2f}\",\n",
    "    f\"{adjusted_recall * 100:.2f}\",\n",
    "    f\"{adjusted_accuracy * 100:.2f}\",\n",
    "    f\"{adjusted_f1 * 100:.2f}\"\n",
    "]]\n",
    "\n",
    "# Prepare the request body\n",
    "body = {\n",
    "    'values': values\n",
    "}\n",
    "\n",
    "# Call the Sheets API to update the values\n",
    "result = service.spreadsheets().values().update(\n",
    "    spreadsheetId=spreadsheet_id, \n",
    "    range=range_name,\n",
    "    valueInputOption='USER_ENTERED',\n",
    "    body=body\n",
    ").execute()\n",
    "\n",
    "print('Updated cells count:', result.get('updatedCells'))"
   ]
  },
  {
   "cell_type": "markdown",
   "id": "c42cfc96-7466-49d1-bf23-9fa95538e84a",
   "metadata": {},
   "source": [
    "#### Save Confusion Matrix"
   ]
  },
  {
   "cell_type": "code",
   "execution_count": 52,
   "id": "1ab5ac70-3881-4aea-b426-0aec5075e619",
   "metadata": {
    "execution": {
     "iopub.execute_input": "2024-08-30T09:14:37.654756Z",
     "iopub.status.busy": "2024-08-30T09:14:37.654639Z",
     "iopub.status.idle": "2024-08-30T09:14:37.760278Z",
     "shell.execute_reply": "2024-08-30T09:14:37.760021Z",
     "shell.execute_reply.started": "2024-08-30T09:14:37.654746Z"
    }
   },
   "outputs": [
    {
     "data": {
      "text/html": [
       "\n",
       "<style>\n",
       "  #altair-viz-cefa0f23cad3473986b11052671bfbb1.vega-embed {\n",
       "    width: 100%;\n",
       "    display: flex;\n",
       "  }\n",
       "\n",
       "  #altair-viz-cefa0f23cad3473986b11052671bfbb1.vega-embed details,\n",
       "  #altair-viz-cefa0f23cad3473986b11052671bfbb1.vega-embed details summary {\n",
       "    position: relative;\n",
       "  }\n",
       "</style>\n",
       "<div id=\"altair-viz-cefa0f23cad3473986b11052671bfbb1\"></div>\n",
       "<script type=\"text/javascript\">\n",
       "  var VEGA_DEBUG = (typeof VEGA_DEBUG == \"undefined\") ? {} : VEGA_DEBUG;\n",
       "  (function(spec, embedOpt){\n",
       "    let outputDiv = document.currentScript.previousElementSibling;\n",
       "    if (outputDiv.id !== \"altair-viz-cefa0f23cad3473986b11052671bfbb1\") {\n",
       "      outputDiv = document.getElementById(\"altair-viz-cefa0f23cad3473986b11052671bfbb1\");\n",
       "    }\n",
       "    const paths = {\n",
       "      \"vega\": \"https://cdn.jsdelivr.net/npm/vega@5?noext\",\n",
       "      \"vega-lib\": \"https://cdn.jsdelivr.net/npm/vega-lib?noext\",\n",
       "      \"vega-lite\": \"https://cdn.jsdelivr.net/npm/vega-lite@5.17.0?noext\",\n",
       "      \"vega-embed\": \"https://cdn.jsdelivr.net/npm/vega-embed@6?noext\",\n",
       "    };\n",
       "\n",
       "    function maybeLoadScript(lib, version) {\n",
       "      var key = `${lib.replace(\"-\", \"\")}_version`;\n",
       "      return (VEGA_DEBUG[key] == version) ?\n",
       "        Promise.resolve(paths[lib]) :\n",
       "        new Promise(function(resolve, reject) {\n",
       "          var s = document.createElement('script');\n",
       "          document.getElementsByTagName(\"head\")[0].appendChild(s);\n",
       "          s.async = true;\n",
       "          s.onload = () => {\n",
       "            VEGA_DEBUG[key] = version;\n",
       "            return resolve(paths[lib]);\n",
       "          };\n",
       "          s.onerror = () => reject(`Error loading script: ${paths[lib]}`);\n",
       "          s.src = paths[lib];\n",
       "        });\n",
       "    }\n",
       "\n",
       "    function showError(err) {\n",
       "      outputDiv.innerHTML = `<div class=\"error\" style=\"color:red;\">${err}</div>`;\n",
       "      throw err;\n",
       "    }\n",
       "\n",
       "    function displayChart(vegaEmbed) {\n",
       "      vegaEmbed(outputDiv, spec, embedOpt)\n",
       "        .catch(err => showError(`Javascript Error: ${err.message}<br>This usually means there's a typo in your chart specification. See the javascript console for the full traceback.`));\n",
       "    }\n",
       "\n",
       "    if(typeof define === \"function\" && define.amd) {\n",
       "      requirejs.config({paths});\n",
       "      require([\"vega-embed\"], displayChart, err => showError(`Error loading script: ${err.message}`));\n",
       "    } else {\n",
       "      maybeLoadScript(\"vega\", \"5\")\n",
       "        .then(() => maybeLoadScript(\"vega-lite\", \"5.17.0\"))\n",
       "        .then(() => maybeLoadScript(\"vega-embed\", \"6\"))\n",
       "        .catch(showError)\n",
       "        .then(() => displayChart(vegaEmbed));\n",
       "    }\n",
       "  })({\"config\": {\"view\": {\"continuousWidth\": 300, \"continuousHeight\": 300}}, \"layer\": [{\"mark\": {\"type\": \"rect\"}, \"encoding\": {\"color\": {\"field\": \"Count\", \"type\": \"quantitative\"}, \"tooltip\": [{\"field\": \"True\", \"type\": \"ordinal\"}, {\"field\": \"Predicted\", \"type\": \"ordinal\"}, {\"field\": \"Count\", \"type\": \"quantitative\"}], \"x\": {\"field\": \"Predicted\", \"sort\": [\"Hate Speech\", \"Non Hatespeech\"], \"type\": \"ordinal\"}, \"y\": {\"field\": \"True\", \"sort\": [\"Hate Speech\", \"Non Hatespeech\"], \"type\": \"ordinal\"}}, \"title\": \"OH_Using_HS 4B-1 SVM\"}, {\"mark\": {\"type\": \"text\", \"align\": \"center\", \"baseline\": \"middle\", \"fontSize\": 12}, \"encoding\": {\"color\": {\"condition\": {\"test\": \"(datum.Count > 374.0)\", \"value\": \"white\"}, \"value\": \"black\"}, \"text\": {\"field\": \"Count\", \"type\": \"quantitative\"}, \"tooltip\": [{\"field\": \"True\", \"type\": \"ordinal\"}, {\"field\": \"Predicted\", \"type\": \"ordinal\"}, {\"field\": \"Count\", \"type\": \"quantitative\"}], \"x\": {\"field\": \"Predicted\", \"sort\": [\"Hate Speech\", \"Non Hatespeech\"], \"type\": \"ordinal\"}, \"y\": {\"field\": \"True\", \"sort\": [\"Hate Speech\", \"Non Hatespeech\"], \"type\": \"ordinal\"}}, \"title\": \"OH_Using_HS 4B-1 SVM\"}], \"data\": {\"name\": \"data-685277fd6519848b5678076998b723b1\"}, \"height\": 300, \"width\": 400, \"$schema\": \"https://vega.github.io/schema/vega-lite/v5.17.0.json\", \"datasets\": {\"data-685277fd6519848b5678076998b723b1\": [{\"True\": \"Hate Speech\", \"Predicted\": \"Hate Speech\", \"Count\": 748}, {\"True\": \"Non Hatespeech\", \"Predicted\": \"Hate Speech\", \"Count\": 135}, {\"True\": \"Hate Speech\", \"Predicted\": \"Non Hatespeech\", \"Count\": 239}, {\"True\": \"Non Hatespeech\", \"Predicted\": \"Non Hatespeech\", \"Count\": 725}]}}, {\"mode\": \"vega-lite\"});\n",
       "</script>"
      ],
      "text/plain": [
       "alt.LayerChart(...)"
      ]
     },
     "metadata": {},
     "output_type": "display_data"
    }
   ],
   "source": [
    "import altair as alt\n",
    "import pandas as pd\n",
    "from sklearn.metrics import confusion_matrix\n",
    "\n",
    "# Calculate the confusion matrix\n",
    "cm = confusion_matrix(true_labels, adjusted_predictions)\n",
    "\n",
    "# Define class names\n",
    "class_names = ['Hate Speech', 'Non Hatespeech']\n",
    "\n",
    "# Convert confusion matrix to DataFrame\n",
    "cm_df = pd.DataFrame(cm, index=class_names, columns=class_names).reset_index().melt(id_vars='index')\n",
    "cm_df.columns = ['True', 'Predicted', 'Count']\n",
    "\n",
    "# Ensure the order of categories\n",
    "cm_df['True'] = pd.Categorical(cm_df['True'], categories=class_names, ordered=True)\n",
    "cm_df['Predicted'] = pd.Categorical(cm_df['Predicted'], categories=class_names, ordered=True)\n",
    "\n",
    "# Create the Altair plot\n",
    "heatmap = alt.Chart(cm_df).mark_rect().encode(\n",
    "    x=alt.X('Predicted:O', sort=class_names),\n",
    "    y=alt.Y('True:O', sort=class_names),\n",
    "    color='Count:Q',\n",
    "    tooltip=['True', 'Predicted', 'Count']\n",
    ").properties(\n",
    "    width=400,\n",
    "    height=300,\n",
    "    title='OH_Using_HS 4B-1 SVM'\n",
    ")\n",
    "\n",
    "# Add text labels\n",
    "text = heatmap.mark_text(\n",
    "    align='center',\n",
    "    baseline='middle',\n",
    "    fontSize=12\n",
    ").encode(\n",
    "    text='Count:Q',\n",
    "    color=alt.condition(\n",
    "        alt.datum.Count > cm.max() / 2,\n",
    "        alt.value('white'),\n",
    "        alt.value('black')\n",
    "    )\n",
    ")\n",
    "\n",
    "# Combine heatmap and text\n",
    "final_chart = heatmap + text\n",
    "\n",
    "# Display the plot\n",
    "final_chart.show()"
   ]
  },
  {
   "cell_type": "code",
   "execution_count": 53,
   "id": "7edc2136-92a2-43da-ad64-0c21567703ac",
   "metadata": {
    "execution": {
     "iopub.execute_input": "2024-08-30T09:14:37.760766Z",
     "iopub.status.busy": "2024-08-30T09:14:37.760694Z",
     "iopub.status.idle": "2024-08-30T09:14:37.798927Z",
     "shell.execute_reply": "2024-08-30T09:14:37.798574Z",
     "shell.execute_reply.started": "2024-08-30T09:14:37.760760Z"
    }
   },
   "outputs": [
    {
     "name": "stdout",
     "output_type": "stream",
     "text": [
      "Plot saved to Results/Ensemble Model Results/On Hatespeech dataset/OH Using HS Ensemble/Blending/OH_Using_HS 4B-1 SVM.png\n"
     ]
    }
   ],
   "source": [
    "# Specify the folder path\n",
    "folder_path = os.path.expanduser('Results/Ensemble Model Results/On Hatespeech dataset/OH Using HS Ensemble/Blending/')\n",
    "\n",
    "# Save the plot using vl-convert\n",
    "file_path_png = os.path.join(folder_path, 'OH_Using_HS 4B-1 SVM.png')\n",
    "final_chart.save(file_path_png)\n",
    "\n",
    "print(f\"Plot saved to {file_path_png}\")"
   ]
  }
 ],
 "metadata": {
  "kernelspec": {
   "display_name": "Python 3 (ipykernel)",
   "language": "python",
   "name": "python3"
  },
  "language_info": {
   "codemirror_mode": {
    "name": "ipython",
    "version": 3
   },
   "file_extension": ".py",
   "mimetype": "text/x-python",
   "name": "python",
   "nbconvert_exporter": "python",
   "pygments_lexer": "ipython3",
   "version": "3.10.14"
  }
 },
 "nbformat": 4,
 "nbformat_minor": 5
}
