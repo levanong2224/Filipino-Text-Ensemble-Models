{
 "cells": [
  {
   "cell_type": "code",
   "execution_count": 1,
   "id": "08cc1249-13ea-48eb-a002-4e69870143ff",
   "metadata": {
    "execution": {
     "iopub.execute_input": "2024-11-10T17:32:57.474942Z",
     "iopub.status.busy": "2024-11-10T17:32:57.474714Z",
     "iopub.status.idle": "2024-11-10T17:32:58.605676Z",
     "shell.execute_reply": "2024-11-10T17:32:58.605264Z",
     "shell.execute_reply.started": "2024-11-10T17:32:57.474931Z"
    }
   },
   "outputs": [],
   "source": [
    "import pandas as pd\n",
    "import numpy as np\n",
    "from collections import Counter\n",
    "from sklearn.feature_extraction.text import CountVectorizer\n",
    "import scipy.stats as stats\n",
    "import matplotlib.pyplot as plt\n",
    "import seaborn as sns\n",
    "import nltk\n",
    "import string\n",
    "import re\n",
    "\n",
    "import os\n",
    "\n",
    "\n",
    "# Specify the new directory path\n",
    "new_directory = '/Users/levan/ATENEO MASTERAL/Thesis/Development/'\n",
    "\n",
    "# Change the current working directory\n",
    "os.chdir(new_directory)"
   ]
  },
  {
   "cell_type": "markdown",
   "id": "1b2d438e-f7e7-4666-bee1-df6b7fb64fc5",
   "metadata": {},
   "source": [
    "# Hate Speech 5b-3 SVM"
   ]
  },
  {
   "cell_type": "markdown",
   "id": "6e7c3ce5-8055-442b-be27-216f3f458ed6",
   "metadata": {},
   "source": [
    "## Textual Characteristics"
   ]
  },
  {
   "cell_type": "markdown",
   "id": "676306fe-57e6-460b-9553-a4b76cf86db5",
   "metadata": {},
   "source": [
    "### Setup"
   ]
  },
  {
   "cell_type": "code",
   "execution_count": 2,
   "id": "a0ea1cbd-e7cf-4efb-a1ea-269038faccbe",
   "metadata": {
    "execution": {
     "iopub.execute_input": "2024-11-10T17:32:58.606558Z",
     "iopub.status.busy": "2024-11-10T17:32:58.606359Z",
     "iopub.status.idle": "2024-11-10T17:32:58.617811Z",
     "shell.execute_reply": "2024-11-10T17:32:58.617274Z",
     "shell.execute_reply.started": "2024-11-10T17:32:58.606547Z"
    }
   },
   "outputs": [
    {
     "data": {
      "text/html": [
       "<div>\n",
       "<style scoped>\n",
       "    .dataframe tbody tr th:only-of-type {\n",
       "        vertical-align: middle;\n",
       "    }\n",
       "\n",
       "    .dataframe tbody tr th {\n",
       "        vertical-align: top;\n",
       "    }\n",
       "\n",
       "    .dataframe thead th {\n",
       "        text-align: right;\n",
       "    }\n",
       "</style>\n",
       "<table border=\"1\" class=\"dataframe\">\n",
       "  <thead>\n",
       "    <tr style=\"text-align: right;\">\n",
       "      <th></th>\n",
       "      <th>text</th>\n",
       "      <th>predicted_label</th>\n",
       "      <th>true_label</th>\n",
       "    </tr>\n",
       "  </thead>\n",
       "  <tbody>\n",
       "    <tr>\n",
       "      <th>2</th>\n",
       "      <td>Binay ad is so effective. A kid thought he was...</td>\n",
       "      <td>1</td>\n",
       "      <td>1</td>\n",
       "    </tr>\n",
       "    <tr>\n",
       "      <th>3</th>\n",
       "      <td>Ngawa pa Roxas, talo ka lang ni Binay eh! #Bin...</td>\n",
       "      <td>0</td>\n",
       "      <td>0</td>\n",
       "    </tr>\n",
       "    <tr>\n",
       "      <th>4</th>\n",
       "      <td>naka wheelchair na mga ka kosa... gloria,janet...</td>\n",
       "      <td>0</td>\n",
       "      <td>0</td>\n",
       "    </tr>\n",
       "    <tr>\n",
       "      <th>5</th>\n",
       "      <td>Binay-Chiz meeting, walang masama – Poe https:...</td>\n",
       "      <td>0</td>\n",
       "      <td>0</td>\n",
       "    </tr>\n",
       "    <tr>\n",
       "      <th>6</th>\n",
       "      <td>#OnlyBinayHatawSaCebu</td>\n",
       "      <td>0</td>\n",
       "      <td>0</td>\n",
       "    </tr>\n",
       "  </tbody>\n",
       "</table>\n",
       "</div>"
      ],
      "text/plain": [
       "                                                text  predicted_label  \\\n",
       "2  Binay ad is so effective. A kid thought he was...                1   \n",
       "3  Ngawa pa Roxas, talo ka lang ni Binay eh! #Bin...                0   \n",
       "4  naka wheelchair na mga ka kosa... gloria,janet...                0   \n",
       "5  Binay-Chiz meeting, walang masama – Poe https:...                0   \n",
       "6                              #OnlyBinayHatawSaCebu                0   \n",
       "\n",
       "   true_label  \n",
       "2           1  \n",
       "3           0  \n",
       "4           0  \n",
       "5           0  \n",
       "6           0  "
      ]
     },
     "execution_count": 2,
     "metadata": {},
     "output_type": "execute_result"
    }
   ],
   "source": [
    "ensemble_model_path = 'Results/ERROR ANALYSIS/HS/BLD/5BLD-3-SVM_predictions.csv'\n",
    "\n",
    "# Load the ensemble model predictions into a DataFrame\n",
    "ensemble_model = pd.read_csv(ensemble_model_path)\n",
    "\n",
    "total_misclass = ensemble_model[ensemble_model['predicted_label'] != ensemble_model['true_label']]\n",
    "total_correct = ensemble_model[ensemble_model['predicted_label'] == ensemble_model['true_label']]\n",
    "total_correct.head()"
   ]
  },
  {
   "cell_type": "markdown",
   "id": "5c467625-63a1-4501-8f0b-dc0afd325cff",
   "metadata": {},
   "source": [
    "### Word Count"
   ]
  },
  {
   "cell_type": "code",
   "execution_count": 3,
   "id": "937710ca-ebd5-47a9-8829-97276bb9d9f5",
   "metadata": {
    "execution": {
     "iopub.execute_input": "2024-11-10T17:32:58.618585Z",
     "iopub.status.busy": "2024-11-10T17:32:58.618480Z",
     "iopub.status.idle": "2024-11-10T17:32:58.623841Z",
     "shell.execute_reply": "2024-11-10T17:32:58.623443Z",
     "shell.execute_reply.started": "2024-11-10T17:32:58.618574Z"
    }
   },
   "outputs": [
    {
     "name": "stdout",
     "output_type": "stream",
     "text": [
      "The average number of words per text in correctly classified instances: 13.516129032258064\n"
     ]
    },
    {
     "name": "stderr",
     "output_type": "stream",
     "text": [
      "/var/folders/d8/nbkwtx_953q99tk0ckh0v0v40000gn/T/ipykernel_67331/2870185984.py:2: SettingWithCopyWarning: \n",
      "A value is trying to be set on a copy of a slice from a DataFrame.\n",
      "Try using .loc[row_indexer,col_indexer] = value instead\n",
      "\n",
      "See the caveats in the documentation: https://pandas.pydata.org/pandas-docs/stable/user_guide/indexing.html#returning-a-view-versus-a-copy\n",
      "  total_correct.loc[:, 'word_count'] = total_correct['text'].apply(lambda x: len(x.split()))\n"
     ]
    }
   ],
   "source": [
    "# Calculate the number of words in each text in CORRECTLY CLASSIFIED\n",
    "total_correct.loc[:, 'word_count'] = total_correct['text'].apply(lambda x: len(x.split()))\n",
    "\n",
    "# Calculate the average word count\n",
    "average_word_count = total_correct['word_count'].mean()\n",
    "\n",
    "print(f\"The average number of words per text in correctly classified instances: {average_word_count}\")"
   ]
  },
  {
   "cell_type": "code",
   "execution_count": 4,
   "id": "cf1389f8-26bd-44f8-85e2-291d82186b07",
   "metadata": {
    "execution": {
     "iopub.execute_input": "2024-11-10T17:32:58.624729Z",
     "iopub.status.busy": "2024-11-10T17:32:58.624577Z",
     "iopub.status.idle": "2024-11-10T17:32:58.628843Z",
     "shell.execute_reply": "2024-11-10T17:32:58.628379Z",
     "shell.execute_reply.started": "2024-11-10T17:32:58.624720Z"
    }
   },
   "outputs": [
    {
     "name": "stdout",
     "output_type": "stream",
     "text": [
      "The average number of words per text in misclassified instances: 14.025069637883009\n"
     ]
    },
    {
     "name": "stderr",
     "output_type": "stream",
     "text": [
      "/var/folders/d8/nbkwtx_953q99tk0ckh0v0v40000gn/T/ipykernel_67331/458128786.py:2: SettingWithCopyWarning: \n",
      "A value is trying to be set on a copy of a slice from a DataFrame.\n",
      "Try using .loc[row_indexer,col_indexer] = value instead\n",
      "\n",
      "See the caveats in the documentation: https://pandas.pydata.org/pandas-docs/stable/user_guide/indexing.html#returning-a-view-versus-a-copy\n",
      "  total_misclass.loc[:, 'word_count'] = total_misclass['text'].apply(lambda x: len(x.split()))\n"
     ]
    }
   ],
   "source": [
    "# Calculate the number of words in each text in MISCLASSIFIED \n",
    "total_misclass.loc[:, 'word_count'] = total_misclass['text'].apply(lambda x: len(x.split()))\n",
    "\n",
    "# Calculate the average word count\n",
    "average_word_count = total_misclass['word_count'].mean()\n",
    "\n",
    "print(f\"The average number of words per text in misclassified instances: {average_word_count}\")"
   ]
  },
  {
   "cell_type": "markdown",
   "id": "492e79cb-c62a-41c8-9269-4858b00caf22",
   "metadata": {},
   "source": [
    "### Uppercase"
   ]
  },
  {
   "cell_type": "code",
   "execution_count": 5,
   "id": "27443e4c-3b72-44ff-adb7-efa660ef094a",
   "metadata": {
    "execution": {
     "iopub.execute_input": "2024-11-10T17:32:58.629695Z",
     "iopub.status.busy": "2024-11-10T17:32:58.629586Z",
     "iopub.status.idle": "2024-11-10T17:32:58.637215Z",
     "shell.execute_reply": "2024-11-10T17:32:58.636776Z",
     "shell.execute_reply.started": "2024-11-10T17:32:58.629685Z"
    }
   },
   "outputs": [
    {
     "name": "stdout",
     "output_type": "stream",
     "text": [
      "Average uppercased character count FOR CORRECTLY CLASSIFIED INSTANCES: 10.211693548387096\n"
     ]
    },
    {
     "name": "stderr",
     "output_type": "stream",
     "text": [
      "/var/folders/d8/nbkwtx_953q99tk0ckh0v0v40000gn/T/ipykernel_67331/3450099657.py:8: SettingWithCopyWarning: \n",
      "A value is trying to be set on a copy of a slice from a DataFrame.\n",
      "Try using .loc[row_indexer,col_indexer] = value instead\n",
      "\n",
      "See the caveats in the documentation: https://pandas.pydata.org/pandas-docs/stable/user_guide/indexing.html#returning-a-view-versus-a-copy\n",
      "  total_correct['capitalized_count'] = total_correct['text'].apply(count_capitalized_chars)\n"
     ]
    }
   ],
   "source": [
    "# CORRECTLY CLASSIFIED\n",
    "\n",
    "# Define function to count uppercased characters\n",
    "def count_capitalized_chars(text):\n",
    "    return sum(1 for char in text if char.isupper())\n",
    "\n",
    "# Apply function to 'text' column to get capitalized character counts\n",
    "total_correct['capitalized_count'] = total_correct['text'].apply(count_capitalized_chars)\n",
    "\n",
    "# Calculate the average of uppercased characters\n",
    "average_capitalized_count = total_correct['capitalized_count'].mean()\n",
    "\n",
    "# Print the result\n",
    "print(f\"Average uppercased character count FOR CORRECTLY CLASSIFIED INSTANCES: {average_capitalized_count}\")"
   ]
  },
  {
   "cell_type": "code",
   "execution_count": 6,
   "id": "584e390c-7ac2-4786-9847-d1e071424714",
   "metadata": {
    "execution": {
     "iopub.execute_input": "2024-11-10T17:32:58.639514Z",
     "iopub.status.busy": "2024-11-10T17:32:58.639356Z",
     "iopub.status.idle": "2024-11-10T17:32:58.644334Z",
     "shell.execute_reply": "2024-11-10T17:32:58.643832Z",
     "shell.execute_reply.started": "2024-11-10T17:32:58.639505Z"
    }
   },
   "outputs": [
    {
     "name": "stdout",
     "output_type": "stream",
     "text": [
      "Average capitalized character count FOR MISCLASSIFIED INSTANCES: 8.62674094707521\n"
     ]
    },
    {
     "name": "stderr",
     "output_type": "stream",
     "text": [
      "/var/folders/d8/nbkwtx_953q99tk0ckh0v0v40000gn/T/ipykernel_67331/2913499192.py:8: SettingWithCopyWarning: \n",
      "A value is trying to be set on a copy of a slice from a DataFrame.\n",
      "Try using .loc[row_indexer,col_indexer] = value instead\n",
      "\n",
      "See the caveats in the documentation: https://pandas.pydata.org/pandas-docs/stable/user_guide/indexing.html#returning-a-view-versus-a-copy\n",
      "  total_misclass['capitalized_count'] = total_misclass['text'].apply(count_capitalized_chars)\n"
     ]
    }
   ],
   "source": [
    "# MISCLASSIFIED\n",
    "\n",
    "# Define function to count capitalized characters\n",
    "def count_capitalized_chars(text):\n",
    "    return sum(1 for char in text if char.isupper())\n",
    "\n",
    "# Apply function to 'text' column to get capitalized character counts\n",
    "total_misclass['capitalized_count'] = total_misclass['text'].apply(count_capitalized_chars)\n",
    "\n",
    "# Calculate the average of capitalized characters\n",
    "average_capitalized_count = total_misclass['capitalized_count'].mean()\n",
    "\n",
    "# Print the result\n",
    "print(f\"Average capitalized character count FOR MISCLASSIFIED INSTANCES: {average_capitalized_count}\")"
   ]
  },
  {
   "cell_type": "markdown",
   "id": "f556f761-0389-4256-a2a6-4057b99f123f",
   "metadata": {},
   "source": [
    "### Punctuation "
   ]
  },
  {
   "cell_type": "code",
   "execution_count": 7,
   "id": "20b84244-c3c8-495a-9ebc-ee925bf25c4a",
   "metadata": {
    "execution": {
     "iopub.execute_input": "2024-11-10T17:32:58.645242Z",
     "iopub.status.busy": "2024-11-10T17:32:58.645048Z",
     "iopub.status.idle": "2024-11-10T17:32:58.653669Z",
     "shell.execute_reply": "2024-11-10T17:32:58.653086Z",
     "shell.execute_reply.started": "2024-11-10T17:32:58.645228Z"
    }
   },
   "outputs": [
    {
     "name": "stdout",
     "output_type": "stream",
     "text": [
      "Average Punctuation Characters Count IN CORRECTLY CLASSIFIED INSTANCES: 6.077956989247312\n"
     ]
    },
    {
     "name": "stderr",
     "output_type": "stream",
     "text": [
      "/var/folders/d8/nbkwtx_953q99tk0ckh0v0v40000gn/T/ipykernel_67331/4241675347.py:9: SettingWithCopyWarning: \n",
      "A value is trying to be set on a copy of a slice from a DataFrame.\n",
      "Try using .loc[row_indexer,col_indexer] = value instead\n",
      "\n",
      "See the caveats in the documentation: https://pandas.pydata.org/pandas-docs/stable/user_guide/indexing.html#returning-a-view-versus-a-copy\n",
      "  total_correct['punctuation_count'] = total_correct['text'].apply(count_punctuation_characters)\n"
     ]
    }
   ],
   "source": [
    "# CORRECTLY CLASSIFIED\n",
    "\n",
    "# Define a function to count punctuation characters in a string\n",
    "def count_punctuation_characters(text):\n",
    "    # string.punctuation contains all standard punctuation marks\n",
    "    return sum(1 for char in text if char in string.punctuation)\n",
    "\n",
    "# Apply the function to the 'text' column to create a new column with the punctuation counts\n",
    "total_correct['punctuation_count'] = total_correct['text'].apply(count_punctuation_characters)\n",
    "\n",
    "# Calculate the average punctuation character count\n",
    "average_punctuation_count = total_correct['punctuation_count'].mean()\n",
    "\n",
    "# Output the result\n",
    "print(f\"Average Punctuation Characters Count IN CORRECTLY CLASSIFIED INSTANCES: {average_punctuation_count}\")"
   ]
  },
  {
   "cell_type": "code",
   "execution_count": 8,
   "id": "e70f6d5f-92fb-4cd4-b4de-1bd6dd698065",
   "metadata": {
    "execution": {
     "iopub.execute_input": "2024-11-10T17:32:58.654808Z",
     "iopub.status.busy": "2024-11-10T17:32:58.654595Z",
     "iopub.status.idle": "2024-11-10T17:32:58.661171Z",
     "shell.execute_reply": "2024-11-10T17:32:58.660726Z",
     "shell.execute_reply.started": "2024-11-10T17:32:58.654788Z"
    }
   },
   "outputs": [
    {
     "name": "stdout",
     "output_type": "stream",
     "text": [
      "Average Punctuation Characters Count IN MISCLASSIFIED INSTANCES: 5.573816155988858\n"
     ]
    },
    {
     "name": "stderr",
     "output_type": "stream",
     "text": [
      "/var/folders/d8/nbkwtx_953q99tk0ckh0v0v40000gn/T/ipykernel_67331/1836169619.py:9: SettingWithCopyWarning: \n",
      "A value is trying to be set on a copy of a slice from a DataFrame.\n",
      "Try using .loc[row_indexer,col_indexer] = value instead\n",
      "\n",
      "See the caveats in the documentation: https://pandas.pydata.org/pandas-docs/stable/user_guide/indexing.html#returning-a-view-versus-a-copy\n",
      "  total_misclass['punctuation_count'] = total_misclass['text'].apply(count_punctuation_characters)\n"
     ]
    }
   ],
   "source": [
    "# MISCLASSIFIED\n",
    "\n",
    "# Define a function to count punctuation characters in a string\n",
    "def count_punctuation_characters(text):\n",
    "    # string.punctuation contains all standard punctuation marks\n",
    "    return sum(1 for char in text if char in string.punctuation)\n",
    "\n",
    "# Apply the function to the 'text' column to create a new column with the punctuation counts\n",
    "total_misclass['punctuation_count'] = total_misclass['text'].apply(count_punctuation_characters)\n",
    "\n",
    "# Calculate the average punctuation character count\n",
    "average_punctuation_count = total_misclass['punctuation_count'].mean()\n",
    "\n",
    "# Output the result\n",
    "print(f\"Average Punctuation Characters Count IN MISCLASSIFIED INSTANCES: {average_punctuation_count}\")"
   ]
  },
  {
   "cell_type": "markdown",
   "id": "6037770c-a448-4505-bca1-5e466ea2db5f",
   "metadata": {},
   "source": [
    "## Code Switching"
   ]
  },
  {
   "cell_type": "markdown",
   "id": "364cd9a2-5fe4-4ade-8f85-ebe8a474d910",
   "metadata": {},
   "source": [
    "### Setup"
   ]
  },
  {
   "cell_type": "code",
   "execution_count": 9,
   "id": "3a2455e2-8981-4c8c-b0d1-201d308b0ce9",
   "metadata": {
    "execution": {
     "iopub.execute_input": "2024-11-10T17:32:58.662036Z",
     "iopub.status.busy": "2024-11-10T17:32:58.661855Z",
     "iopub.status.idle": "2024-11-10T17:32:58.667816Z",
     "shell.execute_reply": "2024-11-10T17:32:58.667324Z",
     "shell.execute_reply.started": "2024-11-10T17:32:58.662026Z"
    }
   },
   "outputs": [],
   "source": [
    "ensemble_model = pd.read_csv('Results/ERROR ANALYSIS/HS/BLD/5BLD-3-SVM_predictions.csv')"
   ]
  },
  {
   "cell_type": "code",
   "execution_count": 10,
   "id": "136a84a2-3b71-4896-859f-0d850a70d44f",
   "metadata": {
    "execution": {
     "iopub.execute_input": "2024-11-10T17:32:58.668575Z",
     "iopub.status.busy": "2024-11-10T17:32:58.668439Z",
     "iopub.status.idle": "2024-11-10T17:33:10.137292Z",
     "shell.execute_reply": "2024-11-10T17:33:10.136895Z",
     "shell.execute_reply.started": "2024-11-10T17:32:58.668566Z"
    }
   },
   "outputs": [
    {
     "name": "stdout",
     "output_type": "stream",
     "text": [
      "detected_language\n",
      "tl         900\n",
      "en         733\n",
      "so          44\n",
      "id          38\n",
      "de          28\n",
      "unknown     12\n",
      "pt          12\n",
      "es          10\n",
      "fr           7\n",
      "it           5\n",
      "sw           5\n",
      "nl           5\n",
      "af           5\n",
      "da           4\n",
      "ro           4\n",
      "lt           4\n",
      "vi           4\n",
      "sl           3\n",
      "et           3\n",
      "tr           3\n",
      "ca           3\n",
      "cy           3\n",
      "sk           3\n",
      "sv           3\n",
      "pl           2\n",
      "hr           2\n",
      "lv           1\n",
      "sq           1\n",
      "Name: count, dtype: int64\n",
      "Language Probabilities:\n",
      "                                                text  \\\n",
      "0           @Bahagharey @CJason023 DIGONG over BINAY   \n",
      "1  Poe fears 'repeat' of 2004 polls cheating #Hal...   \n",
      "2  Binay ad is so effective. A kid thought he was...   \n",
      "3  Ngawa pa Roxas, talo ka lang ni Binay eh! #Bin...   \n",
      "4  naka wheelchair na mga ka kosa... gloria,janet...   \n",
      "\n",
      "               language_probs  \n",
      "0  {'en': 0.9999970195317455}  \n",
      "1  {'en': 0.9999966021965432}  \n",
      "2  {'en': 0.9999957772262976}  \n",
      "3  {'tl': 0.9999953067164893}  \n",
      "4  {'tl': 0.9999971756194436}  \n"
     ]
    },
    {
     "name": "stderr",
     "output_type": "stream",
     "text": [
      "[nltk_data] Downloading package punkt to /Users/levan/nltk_data...\n",
      "[nltk_data]   Package punkt is already up-to-date!\n"
     ]
    },
    {
     "name": "stdout",
     "output_type": "stream",
     "text": [
      "\n",
      "Code-Switching Counts:\n",
      "is_code_switched\n",
      "True     1521\n",
      "False     326\n",
      "Name: count, dtype: int64\n"
     ]
    }
   ],
   "source": [
    "from langdetect import detect, detect_langs, DetectorFactory\n",
    "import pandas as pd\n",
    "\n",
    "# Set seed to make results deterministic\n",
    "DetectorFactory.seed = 0\n",
    "\n",
    "# Function to detect the primary language\n",
    "def detect_language(text):\n",
    "    try:\n",
    "        return detect(text)\n",
    "    except:\n",
    "        return 'unknown'\n",
    "\n",
    "# Apply language detection to DataFrame\n",
    "ensemble_model['detected_language'] = ensemble_model['text'].apply(detect_language)\n",
    "\n",
    "# Display language counts\n",
    "language_counts = ensemble_model['detected_language'].value_counts()\n",
    "print(language_counts)\n",
    "\n",
    "\n",
    "from langdetect import detect_langs\n",
    "\n",
    "def detect_language_probs(text):\n",
    "    try:\n",
    "        langs = detect_langs(text)\n",
    "        # Return a dictionary of languages and their probabilities\n",
    "        lang_probs = {str(lang).split(':')[0]: float(str(lang).split(':')[1]) for lang in langs}\n",
    "        return lang_probs\n",
    "    except:\n",
    "        return {}\n",
    "\n",
    "# Apply function to DataFrame\n",
    "ensemble_model['language_probs'] = ensemble_model['text'].apply(detect_language_probs)\n",
    "\n",
    "print(\"Language Probabilities:\")\n",
    "print(ensemble_model[['text', 'language_probs']].head())\n",
    "\n",
    "import fasttext\n",
    "import nltk\n",
    "nltk.download('punkt')\n",
    "\n",
    "# Load the fastText model\n",
    "model = fasttext.load_model('lid.176.ftz')\n",
    "\n",
    "def token_language_detection(text):\n",
    "    tokens = nltk.word_tokenize(text)\n",
    "    lang_counts = {}\n",
    "    for token in tokens:\n",
    "        if token.isalpha():  # Ignore punctuation and numbers\n",
    "            predictions = model.predict(token.lower())\n",
    "            lang = predictions[0][0].replace('__label__', '')\n",
    "            lang_counts[lang] = lang_counts.get(lang, 0) + 1\n",
    "    return lang_counts\n",
    "\n",
    "# Apply function to DataFrame\n",
    "ensemble_model['token_lang_counts'] = ensemble_model['text'].apply(token_language_detection)\n",
    "\n",
    "# Function to determine if text is code-switched\n",
    "def is_code_switched(lang_counts):\n",
    "    return len(lang_counts) > 1\n",
    "\n",
    "ensemble_model['is_code_switched'] = ensemble_model['token_lang_counts'].apply(is_code_switched)\n",
    "\n",
    "# Display code-switching counts\n",
    "ensem_code_switching_counts = ensemble_model['is_code_switched'].value_counts()\n",
    "print(\"\\nCode-Switching Counts:\")\n",
    "print(ensem_code_switching_counts)"
   ]
  },
  {
   "cell_type": "code",
   "execution_count": 11,
   "id": "2b64528f-2582-4eeb-8052-dd1e2288c0b2",
   "metadata": {
    "execution": {
     "iopub.execute_input": "2024-11-10T17:33:10.137944Z",
     "iopub.status.busy": "2024-11-10T17:33:10.137840Z",
     "iopub.status.idle": "2024-11-10T17:33:10.142331Z",
     "shell.execute_reply": "2024-11-10T17:33:10.142018Z",
     "shell.execute_reply.started": "2024-11-10T17:33:10.137933Z"
    }
   },
   "outputs": [
    {
     "name": "stdout",
     "output_type": "stream",
     "text": [
      "\n",
      "Number of misclassified samples: 359\n",
      "Number of correctly classified samples: 1488\n",
      "\n",
      "Code-Switching in Misclassified Samples:\n",
      "is_code_switched\n",
      "True     298\n",
      "False     61\n",
      "Name: count, dtype: int64\n",
      "\n",
      "Code-Switching in Correctly Classified Samples:\n",
      "is_code_switched\n",
      "True     1223\n",
      "False     265\n",
      "Name: count, dtype: int64\n"
     ]
    }
   ],
   "source": [
    "# Misclassified samples\n",
    "misclassified_df = ensemble_model[ensemble_model['predicted_label'] != ensemble_model['true_label']]\n",
    "correct_df = ensemble_model[ensemble_model['predicted_label'] == ensemble_model['true_label']]\n",
    "\n",
    "print(f\"\\nNumber of misclassified samples: {len(misclassified_df)}\")\n",
    "print(f\"Number of correctly classified samples: {len(correct_df)}\")\n",
    "\n",
    "# Code-switching in misclassified and correctly classified samples\n",
    "misclassified_code_switching = misclassified_df['is_code_switched'].value_counts()\n",
    "correct_code_switching = correct_df['is_code_switched'].value_counts()\n",
    "\n",
    "print(\"\\nCode-Switching in Misclassified Samples:\")\n",
    "print(misclassified_code_switching)\n",
    "print(\"\\nCode-Switching in Correctly Classified Samples:\")\n",
    "print(correct_code_switching)"
   ]
  },
  {
   "cell_type": "code",
   "execution_count": 12,
   "id": "45503227-1ce7-46a5-a0e2-aa378dea4460",
   "metadata": {
    "execution": {
     "iopub.execute_input": "2024-11-10T17:33:10.142826Z",
     "iopub.status.busy": "2024-11-10T17:33:10.142740Z",
     "iopub.status.idle": "2024-11-10T17:33:10.146074Z",
     "shell.execute_reply": "2024-11-10T17:33:10.145814Z",
     "shell.execute_reply.started": "2024-11-10T17:33:10.142818Z"
    }
   },
   "outputs": [
    {
     "name": "stdout",
     "output_type": "stream",
     "text": [
      "   predicted_label  true_label  ensemble_correct\n",
      "0                1           0             False\n",
      "1                0           1             False\n",
      "2                1           1              True\n",
      "3                0           0              True\n",
      "4                0           0              True\n"
     ]
    }
   ],
   "source": [
    "import pandas as pd\n",
    "\n",
    "# Create a column indicating whether the prediction was correct\n",
    "ensemble_model['ensemble_correct'] = ensemble_model['predicted_label'] == ensemble_model['true_label']\n",
    "\n",
    "# Verify the new column\n",
    "print(ensemble_model[['predicted_label', 'true_label', 'ensemble_correct']].head())"
   ]
  },
  {
   "cell_type": "markdown",
   "id": "62f879fc-8fbf-4396-a86c-1a28681b2185",
   "metadata": {},
   "source": [
    "### Chi Squared Test"
   ]
  },
  {
   "cell_type": "code",
   "execution_count": 13,
   "id": "abf5739c-c041-42a0-bd63-0e9418566578",
   "metadata": {
    "execution": {
     "iopub.execute_input": "2024-11-10T17:33:10.146754Z",
     "iopub.status.busy": "2024-11-10T17:33:10.146616Z",
     "iopub.status.idle": "2024-11-10T17:33:10.153457Z",
     "shell.execute_reply": "2024-11-10T17:33:10.153097Z",
     "shell.execute_reply.started": "2024-11-10T17:33:10.146745Z"
    }
   },
   "outputs": [
    {
     "name": "stdout",
     "output_type": "stream",
     "text": [
      "Contingency Table:\n",
      "                      Single Language  Code-Switched\n",
      "Correctly Classified               61            298\n",
      "Misclassified                     265           1223\n"
     ]
    }
   ],
   "source": [
    "import pandas as pd\n",
    "\n",
    "# Create the contingency table\n",
    "contingency_table = pd.crosstab(ensemble_model['ensemble_correct'], ensemble_model['is_code_switched'])\n",
    "\n",
    "# Rename the index and columns for clarity only\n",
    "contingency_table.index = ['Correctly Classified', 'Misclassified']\n",
    "contingency_table.columns = ['Single Language', 'Code-Switched']\n",
    "\n",
    "# Display the contingency table\n",
    "print(\"Contingency Table:\")\n",
    "print(contingency_table)"
   ]
  },
  {
   "cell_type": "code",
   "execution_count": 14,
   "id": "4a2bca4d-69f6-4f16-8457-17dbde109209",
   "metadata": {
    "execution": {
     "iopub.execute_input": "2024-11-10T17:33:10.154451Z",
     "iopub.status.busy": "2024-11-10T17:33:10.154107Z",
     "iopub.status.idle": "2024-11-10T17:33:10.157946Z",
     "shell.execute_reply": "2024-11-10T17:33:10.157523Z",
     "shell.execute_reply.started": "2024-11-10T17:33:10.154423Z"
    }
   },
   "outputs": [
    {
     "name": "stdout",
     "output_type": "stream",
     "text": [
      "\n",
      "Chi-Squared Statistic: 0.0827\n",
      "Degrees of Freedom: 1\n",
      "P-Value: 0.7737\n",
      "\n",
      "Conclusion: There is no significant association between misclassification and code-switching.\n"
     ]
    }
   ],
   "source": [
    "from scipy.stats import chi2_contingency\n",
    "\n",
    "# Perform the Chi-Squared Test\n",
    "chi2, p, dof, expected = chi2_contingency(contingency_table)\n",
    "\n",
    "# Display the results\n",
    "print(f\"\\nChi-Squared Statistic: {chi2:.4f}\")\n",
    "print(f\"Degrees of Freedom: {dof}\")\n",
    "print(f\"P-Value: {p:.4f}\")\n",
    "\n",
    "# Interpret the results\n",
    "alpha = 0.05\n",
    "if p < alpha:\n",
    "    print(\"\\nConclusion: There is a significant association between misclassification and code-switching.\")\n",
    "else:\n",
    "    print(\"\\nConclusion: There is no significant association between misclassification and code-switching.\")"
   ]
  },
  {
   "cell_type": "code",
   "execution_count": 15,
   "id": "ea77595d-0004-42a4-a05f-5477e63cf630",
   "metadata": {
    "execution": {
     "iopub.execute_input": "2024-11-10T17:33:10.158521Z",
     "iopub.status.busy": "2024-11-10T17:33:10.158418Z",
     "iopub.status.idle": "2024-11-10T17:33:10.264857Z",
     "shell.execute_reply": "2024-11-10T17:33:10.264396Z",
     "shell.execute_reply.started": "2024-11-10T17:33:10.158511Z"
    }
   },
   "outputs": [
    {
     "data": {
      "image/png": "[encoded data removed]",
      "text/plain": [
       "<Figure size 640x480 with 1 Axes>"
      ]
     },
     "metadata": {},
     "output_type": "display_data"
    },
    {
     "data": {
      "image/png": "[encoded data removed]",
      "text/plain": [
       "<Figure size 640x480 with 1 Axes>"
      ]
     },
     "metadata": {},
     "output_type": "display_data"
    }
   ],
   "source": [
    "import matplotlib.pyplot as plt\n",
    "\n",
    "# Function to plot code-switching distribution with percentage labels\n",
    "def plot_code_switching_distribution(df, title):\n",
    "    # Calculate the percentage of each category\n",
    "    counts = df['is_code_switched'].value_counts(normalize=True) * 100\n",
    "    # Rename the index for better readability in the chart\n",
    "    counts = counts.rename({True: 'Code-Switched', False: 'Single Language'})\n",
    "    \n",
    "    # Create the pie chart\n",
    "    counts.plot(\n",
    "        kind='pie',\n",
    "        autopct='%1.1f%%',        # Display percentages with one decimal place\n",
    "    )\n",
    "    \n",
    "    \n",
    "    plt.title(title, fontsize=14)\n",
    "    plt.ylabel('') \n",
    "    \n",
    "    plt.axis('equal')\n",
    "    \n",
    "    # Display the chart\n",
    "    plt.show()\n",
    "\n",
    "# Plotting\n",
    "plot_code_switching_distribution(misclassified_df, 'Code-Switching in Misclassified Samples')\n",
    "plot_code_switching_distribution(correct_df, 'Code-Switching in Correctly Classified Samples')"
   ]
  },
  {
   "cell_type": "code",
   "execution_count": 16,
   "id": "e8dd4c52-dd4c-4d58-aa3e-c074144a5294",
   "metadata": {
    "execution": {
     "iopub.execute_input": "2024-11-10T17:33:10.265666Z",
     "iopub.status.busy": "2024-11-10T17:33:10.265550Z",
     "iopub.status.idle": "2024-11-10T17:33:10.725472Z",
     "shell.execute_reply": "2024-11-10T17:33:10.725016Z",
     "shell.execute_reply.started": "2024-11-10T17:33:10.265655Z"
    }
   },
   "outputs": [
    {
     "data": {
      "image/png": "[encoded data removed]",
      "text/plain": [
       "<Figure size 800x600 with 1 Axes>"
      ]
     },
     "metadata": {},
     "output_type": "display_data"
    },
    {
     "data": {
      "image/png": "[encoded data removed]",
      "text/plain": [
       "<Figure size 800x600 with 1 Axes>"
      ]
     },
     "metadata": {},
     "output_type": "display_data"
    }
   ],
   "source": [
    "# Aggregate language counts in misclassified samples\n",
    "def aggregate_language_counts(df):\n",
    "    lang_counts = {}\n",
    "    for counts in df['token_lang_counts']:\n",
    "        for lang, count in counts.items():\n",
    "            lang_counts[lang] = lang_counts.get(lang, 0) + count\n",
    "    return lang_counts\n",
    "\n",
    "misclassified_lang_counts = aggregate_language_counts(misclassified_df)\n",
    "correct_lang_counts = aggregate_language_counts(correct_df)\n",
    "\n",
    "# Function to plot language distribution\n",
    "def plot_language_distribution(lang_counts, title):\n",
    "    languages = list(lang_counts.keys())\n",
    "    counts = list(lang_counts.values())\n",
    "    plt.figure(figsize=(8,6))\n",
    "    plt.pie(counts, labels=languages, autopct='%1.1f%%', startangle=140)\n",
    "    plt.title(title)\n",
    "    plt.axis('equal')\n",
    "    plt.show()\n",
    "\n",
    "# Plotting\n",
    "plot_language_distribution(misclassified_lang_counts, 'Language Distribution in Misclassified Samples')\n",
    "plot_language_distribution(correct_lang_counts, 'Language Distribution in Correctly Classified Samples')"
   ]
  },
  {
   "cell_type": "markdown",
   "id": "2420d466-4bdf-4a25-a15e-28a0ddddc590",
   "metadata": {},
   "source": [
    "## English Proportion"
   ]
  },
  {
   "cell_type": "markdown",
   "id": "cdd2ede5-2e41-482a-b0fc-f992ed3d1adc",
   "metadata": {},
   "source": [
    "### Setup"
   ]
  },
  {
   "cell_type": "code",
   "execution_count": 17,
   "id": "4bfe5bb2-34f7-4860-bfb2-1bc88fe17d6b",
   "metadata": {
    "execution": {
     "iopub.execute_input": "2024-11-10T17:33:10.726885Z",
     "iopub.status.busy": "2024-11-10T17:33:10.726294Z",
     "iopub.status.idle": "2024-11-10T17:33:10.734774Z",
     "shell.execute_reply": "2024-11-10T17:33:10.734493Z",
     "shell.execute_reply.started": "2024-11-10T17:33:10.726874Z"
    }
   },
   "outputs": [
    {
     "name": "stdout",
     "output_type": "stream",
     "text": [
      "Ensemble Model DataFrame Loaded:\n",
      "                                                text  predicted_label  \\\n",
      "0           @Bahagharey @CJason023 DIGONG over BINAY                1   \n",
      "1  Poe fears 'repeat' of 2004 polls cheating #Hal...                0   \n",
      "2  Binay ad is so effective. A kid thought he was...                1   \n",
      "3  Ngawa pa Roxas, talo ka lang ni Binay eh! #Bin...                0   \n",
      "4  naka wheelchair na mga ka kosa... gloria,janet...                0   \n",
      "\n",
      "   true_label  \n",
      "0           0  \n",
      "1           1  \n",
      "2           1  \n",
      "3           0  \n",
      "4           0  \n"
     ]
    },
    {
     "name": "stderr",
     "output_type": "stream",
     "text": [
      "[nltk_data] Downloading package punkt to /Users/levan/nltk_data...\n",
      "[nltk_data]   Package punkt is already up-to-date!\n"
     ]
    },
    {
     "data": {
      "text/plain": [
       "text               1847\n",
       "predicted_label    1847\n",
       "true_label         1847\n",
       "dtype: int64"
      ]
     },
     "execution_count": 17,
     "metadata": {},
     "output_type": "execute_result"
    }
   ],
   "source": [
    "import pandas as pd\n",
    "import fasttext\n",
    "import nltk\n",
    "from nltk.tokenize import word_tokenize\n",
    "from scipy.stats import chi2_contingency, fisher_exact\n",
    "import matplotlib.pyplot as plt\n",
    "import seaborn as sns\n",
    "\n",
    "nltk.download('punkt')\n",
    "\n",
    "ensemble_model_path = 'Results/ERROR ANALYSIS/HS/BLD/5BLD-3-SVM_predictions.csv'\n",
    "\n",
    "# Load the ensemble model predictions into a DataFrame\n",
    "ensemble_model = pd.read_csv(ensemble_model_path)\n",
    "\n",
    "print(\"Ensemble Model DataFrame Loaded:\")\n",
    "print(ensemble_model.head())\n",
    "ensemble_model.count()"
   ]
  },
  {
   "cell_type": "markdown",
   "id": "66f954d7-81e9-40f9-baf1-5f6b88c0442e",
   "metadata": {},
   "source": [
    "### Identify misclassification"
   ]
  },
  {
   "cell_type": "code",
   "execution_count": 18,
   "id": "72cd6649-8d72-4e40-bb0f-abfca7de7d8f",
   "metadata": {
    "execution": {
     "iopub.execute_input": "2024-11-10T17:33:10.735436Z",
     "iopub.status.busy": "2024-11-10T17:33:10.735333Z",
     "iopub.status.idle": "2024-11-10T17:33:10.739814Z",
     "shell.execute_reply": "2024-11-10T17:33:10.739473Z",
     "shell.execute_reply.started": "2024-11-10T17:33:10.735427Z"
    }
   },
   "outputs": [
    {
     "name": "stdout",
     "output_type": "stream",
     "text": [
      "\n",
      "DataFrame with 'ensemble_correct' Column:\n",
      "   predicted_label  true_label  ensemble_correct\n",
      "0                1           0             False\n",
      "1                0           1             False\n",
      "2                1           1              True\n",
      "3                0           0              True\n",
      "4                0           0              True\n"
     ]
    },
    {
     "data": {
      "text/plain": [
       "text                1847\n",
       "predicted_label     1847\n",
       "true_label          1847\n",
       "ensemble_correct    1847\n",
       "dtype: int64"
      ]
     },
     "execution_count": 18,
     "metadata": {},
     "output_type": "execute_result"
    }
   ],
   "source": [
    "# Create column indicating whether the prediction was correct\n",
    "ensemble_model['ensemble_correct'] = ensemble_model['predicted_label'] == ensemble_model['true_label']\n",
    "\n",
    "print(\"\\nDataFrame with 'ensemble_correct' Column:\")\n",
    "print(ensemble_model[['predicted_label', 'true_label', 'ensemble_correct']].head())\n",
    "\n",
    "ensemble_model.count()"
   ]
  },
  {
   "cell_type": "markdown",
   "id": "3025bcfc-d5ce-45a0-b72f-099b95c4fcf9",
   "metadata": {},
   "source": [
    "### Load and use FastText Language Model"
   ]
  },
  {
   "cell_type": "code",
   "execution_count": 19,
   "id": "624ce9fa-276e-4d12-afc1-76151fe53228",
   "metadata": {
    "execution": {
     "iopub.execute_input": "2024-11-10T17:33:10.740542Z",
     "iopub.status.busy": "2024-11-10T17:33:10.740419Z",
     "iopub.status.idle": "2024-11-10T17:33:11.026158Z",
     "shell.execute_reply": "2024-11-10T17:33:11.025796Z",
     "shell.execute_reply.started": "2024-11-10T17:33:10.740533Z"
    }
   },
   "outputs": [
    {
     "name": "stdout",
     "output_type": "stream",
     "text": [
      "\n",
      "FastText Language Identification Model Loaded Successfully.\n",
      "\n",
      "English Proportion Statistics:\n",
      "count    1847.000000\n",
      "mean       67.959221\n",
      "std        25.407109\n",
      "min         0.000000\n",
      "25%        50.000000\n",
      "50%        70.588235\n",
      "75%        90.692641\n",
      "max       100.000000\n",
      "Name: english_proportion, dtype: float64\n"
     ]
    },
    {
     "data": {
      "text/plain": [
       "text                  1847\n",
       "predicted_label       1847\n",
       "true_label            1847\n",
       "ensemble_correct      1847\n",
       "token_lang_counts     1847\n",
       "english_proportion    1847\n",
       "dtype: int64"
      ]
     },
     "execution_count": 19,
     "metadata": {},
     "output_type": "execute_result"
    }
   ],
   "source": [
    "# Load path to the FastText language identification model\n",
    "fasttext_model_path = 'lid.176.ftz'\n",
    "\n",
    "# Load FastText model\n",
    "try:\n",
    "    model = fasttext.load_model(fasttext_model_path)\n",
    "    print(\"\\nFastText Language Identification Model Loaded Successfully.\")\n",
    "except Exception as e:\n",
    "    print(f\"\\nError Loading FastText Model: {e}\")\n",
    "    exit()\n",
    "\n",
    "# Function for token-level language detection\n",
    "def token_language_detection(text):\n",
    "    \"\"\"\n",
    "    Detects the language of each token in the text using FastText.\n",
    "\n",
    "    Parameters:\n",
    "        text (str): The input text.\n",
    "\n",
    "    Returns:\n",
    "        dict: A dictionary with language codes as keys and token counts as values.\n",
    "    \"\"\"\n",
    "    tokens = word_tokenize(text)\n",
    "    lang_counts = {}\n",
    "    for token in tokens:\n",
    "        if token.isalpha():  # Ignore punctuation and numbers\n",
    "            predictions = model.predict(token.lower())\n",
    "            lang = predictions[0][0].replace('__label__', '')\n",
    "            lang_counts[lang] = lang_counts.get(lang, 0) + 1\n",
    "    return lang_counts\n",
    "\n",
    "# Function to calculate the proportion of English tokens\n",
    "def calculate_english_proportion(lang_counts):\n",
    "    \"\"\"\n",
    "    Calculates the percentage of English tokens in the text.\n",
    "\n",
    "    Parameters:\n",
    "        lang_counts (dict): A dictionary with language codes and their token counts.\n",
    "\n",
    "    Returns:\n",
    "        float: Percentage of English tokens.\n",
    "    \"\"\"\n",
    "    total_tokens = sum(lang_counts.values())\n",
    "    if total_tokens == 0:\n",
    "        return 0.0\n",
    "    english_tokens = lang_counts.get('en', 0)\n",
    "    return (english_tokens / total_tokens) * 100  # Percentage of English tokens\n",
    "\n",
    "\n",
    "\n",
    "# Apply Language Detection and Calculate English Proportion\n",
    "# Apply token-level language detection\n",
    "ensemble_model['token_lang_counts'] = ensemble_model['text'].apply(token_language_detection)\n",
    "\n",
    "# Calculate the proportion of English tokens\n",
    "ensemble_model['english_proportion'] = ensemble_model['token_lang_counts'].apply(calculate_english_proportion)\n",
    "\n",
    "# Display statistics of English proportion\n",
    "print(\"\\nEnglish Proportion Statistics:\")\n",
    "print(ensemble_model['english_proportion'].describe())\n",
    "\n",
    "ensemble_model.count()"
   ]
  },
  {
   "cell_type": "markdown",
   "id": "3928cf0a-89c9-419e-92c5-2a8af53773c7",
   "metadata": {},
   "source": [
    "### Categorize Texts Based on English Proportion"
   ]
  },
  {
   "cell_type": "code",
   "execution_count": 20,
   "id": "99d478de-a917-4182-bc3c-dab066a3396d",
   "metadata": {
    "execution": {
     "iopub.execute_input": "2024-11-10T17:33:11.026825Z",
     "iopub.status.busy": "2024-11-10T17:33:11.026727Z",
     "iopub.status.idle": "2024-11-10T17:33:11.032350Z",
     "shell.execute_reply": "2024-11-10T17:33:11.032063Z",
     "shell.execute_reply.started": "2024-11-10T17:33:11.026816Z"
    }
   },
   "outputs": [
    {
     "name": "stdout",
     "output_type": "stream",
     "text": [
      "\n",
      "Median English Proportion: 70.59%\n",
      "\n",
      "Categorization Based on English Proportion:\n",
      "   english_proportion english_category\n",
      "0          100.000000     High English\n",
      "1          100.000000     High English\n",
      "2           93.333333     High English\n",
      "3           50.000000      Low English\n",
      "4           70.588235      Low English\n"
     ]
    },
    {
     "data": {
      "text/plain": [
       "text                  1847\n",
       "predicted_label       1847\n",
       "true_label            1847\n",
       "ensemble_correct      1847\n",
       "token_lang_counts     1847\n",
       "english_proportion    1847\n",
       "english_category      1847\n",
       "dtype: int64"
      ]
     },
     "execution_count": 20,
     "metadata": {},
     "output_type": "execute_result"
    }
   ],
   "source": [
    "# Calculate the median English proportion\n",
    "median_english = ensemble_model['english_proportion'].median()\n",
    "print(f\"\\nMedian English Proportion: {median_english:.2f}%\")\n",
    "\n",
    "# Categorize texts into 'High English' and 'Low English' based on median\n",
    "ensemble_model['english_category'] = ensemble_model['english_proportion'].apply(\n",
    "    lambda x: 'High English' if x > median_english else 'Low English'\n",
    ")\n",
    "\n",
    "# Verify the categorization\n",
    "print(\"\\nCategorization Based on English Proportion:\")\n",
    "print(ensemble_model[['english_proportion', 'english_category']].head())\n",
    "\n",
    "ensemble_model.count()"
   ]
  },
  {
   "cell_type": "markdown",
   "id": "b3f2df90-5505-4f60-967d-37bc2ecaa6fe",
   "metadata": {},
   "source": [
    "### Create Contingency Table"
   ]
  },
  {
   "cell_type": "code",
   "execution_count": 21,
   "id": "6de2967d-4bb7-49c7-bd32-13ac41710f3c",
   "metadata": {
    "execution": {
     "iopub.execute_input": "2024-11-10T17:33:11.035999Z",
     "iopub.status.busy": "2024-11-10T17:33:11.035839Z",
     "iopub.status.idle": "2024-11-10T17:33:11.043886Z",
     "shell.execute_reply": "2024-11-10T17:33:11.043545Z",
     "shell.execute_reply.started": "2024-11-10T17:33:11.035989Z"
    }
   },
   "outputs": [
    {
     "name": "stdout",
     "output_type": "stream",
     "text": [
      "\n",
      "Contingency Table:\n",
      "                  Misclassified  Correctly Classified\n",
      "english_category                                     \n",
      "High English                158                   762\n",
      "Low English                 201                   726\n"
     ]
    },
    {
     "data": {
      "text/plain": [
       "text                  1847\n",
       "predicted_label       1847\n",
       "true_label            1847\n",
       "ensemble_correct      1847\n",
       "token_lang_counts     1847\n",
       "english_proportion    1847\n",
       "english_category      1847\n",
       "dtype: int64"
      ]
     },
     "execution_count": 21,
     "metadata": {},
     "output_type": "execute_result"
    }
   ],
   "source": [
    "contingency_table = pd.crosstab(ensemble_model['english_category'], ensemble_model['ensemble_correct'])\n",
    "\n",
    "# Rename the columns for clarity\n",
    "contingency_table.columns = ['Misclassified', 'Correctly Classified']\n",
    "\n",
    "# Ensure the index name is 'english_category' for proper melt operation\n",
    "contingency_table.index.name = 'english_category'\n",
    "\n",
    "# Display the contingency table\n",
    "print(\"\\nContingency Table:\")\n",
    "print(contingency_table)\n",
    "\n",
    "ensemble_model.count()"
   ]
  },
  {
   "cell_type": "markdown",
   "id": "54d3e989-d5e4-4e54-8edd-6f1718f88845",
   "metadata": {},
   "source": [
    "### Perform Chi-Squared Test"
   ]
  },
  {
   "cell_type": "code",
   "execution_count": 22,
   "id": "5a240419-250d-493b-8e55-3a675d9502fc",
   "metadata": {
    "execution": {
     "iopub.execute_input": "2024-11-10T17:33:11.044607Z",
     "iopub.status.busy": "2024-11-10T17:33:11.044503Z",
     "iopub.status.idle": "2024-11-10T17:33:11.050900Z",
     "shell.execute_reply": "2024-11-10T17:33:11.050338Z",
     "shell.execute_reply.started": "2024-11-10T17:33:11.044597Z"
    }
   },
   "outputs": [
    {
     "name": "stdout",
     "output_type": "stream",
     "text": [
      "\n",
      "Chi-Squared Statistic: 5.7105\n",
      "Degrees of Freedom: 1\n",
      "P-Value: 0.0169\n",
      "\n",
      "Conclusion: There is a significant association between English content and misclassification rates.\n",
      "\n",
      "Expected Frequencies:\n",
      "                  Misclassified  Correctly Classified\n",
      "english_category                                     \n",
      "High English         178.819708            741.180292\n",
      "Low English          180.180292            746.819708\n",
      "\n",
      "All expected frequencies are above 5. Chi-Squared Test assumptions are met.\n",
      "\n",
      "Summary: Texts with a lower proportion of English content are significantly more likely to be misclassified by the ensemble model.\n"
     ]
    }
   ],
   "source": [
    "# Perform the Chi-Squared Test\n",
    "chi2, p, dof, expected = chi2_contingency(contingency_table)\n",
    "\n",
    "# Display the results\n",
    "print(f\"\\nChi-Squared Statistic: {chi2:.4f}\")\n",
    "print(f\"Degrees of Freedom: {dof}\")\n",
    "print(f\"P-Value: {p:.4f}\")\n",
    "\n",
    "# Interpret the results\n",
    "alpha = 0.05\n",
    "if p < alpha:\n",
    "    print(\"\\nConclusion: There is a significant association between English content and misclassification rates.\")\n",
    "else:\n",
    "    print(\"\\nConclusion: There is no significant association between English content and misclassification rates.\")\n",
    "\n",
    "\n",
    "\n",
    "#Check Chi-Squared Test Assumptions\n",
    "# Display expected frequencies\n",
    "expected_df = pd.DataFrame(expected, index=contingency_table.index, columns=contingency_table.columns)\n",
    "print(\"\\nExpected Frequencies:\")\n",
    "print(expected_df)\n",
    "\n",
    "# Check if any expected frequency is less than 5\n",
    "if (expected < 5).any():\n",
    "    print(\"\\nSome expected frequencies are less than 5. Performing Fisher's Exact Test.\")\n",
    "    # Ensure the contingency table is 2x2\n",
    "    if contingency_table.shape == (2, 2):\n",
    "        odds_ratio, p_value = fisher_exact(contingency_table)\n",
    "        print(f\"Fisher's Exact Test Odds Ratio: {odds_ratio:.4f}\")\n",
    "        print(f\"Fisher's Exact Test P-Value: {p_value:.4f}\")\n",
    "        \n",
    "        # Interpret the results\n",
    "        if p_value < alpha:\n",
    "            print(\"Conclusion: Significant association between English content and misclassification rates.\")\n",
    "        else:\n",
    "            print(\"Conclusion: No significant association between English content and misclassification rates.\")\n",
    "    else:\n",
    "        print(\"\\nFisher's Exact Test is not suitable for tables larger than 2x2.\")\n",
    "else:\n",
    "    print(\"\\nAll expected frequencies are above 5. Chi-Squared Test assumptions are met.\")\n",
    "\n",
    "\n",
    "\n",
    "\n",
    "#Summary of Findings\n",
    "if p < alpha:\n",
    "    print(\"\\nSummary: Texts with a lower proportion of English content are significantly more likely to be misclassified by the ensemble model.\")\n",
    "\n",
    "else:\n",
    "    print(\"\\nSummary: There is no significant relationship between the proportion of English content in texts and misclassification rates by the ensemble model.\")"
   ]
  },
  {
   "cell_type": "markdown",
   "id": "95f6ab90-b7a6-4a6b-8717-6687645aa2f6",
   "metadata": {},
   "source": [
    "# FiReCS 5b-3 SVM"
   ]
  },
  {
   "cell_type": "markdown",
   "id": "19197c84-51f8-46d7-99ac-80bfb7810b2e",
   "metadata": {},
   "source": [
    "## Textual Characteristics"
   ]
  },
  {
   "cell_type": "markdown",
   "id": "30955e37-dc87-479e-ae73-e271f1df58dc",
   "metadata": {},
   "source": [
    "### Setup"
   ]
  },
  {
   "cell_type": "code",
   "execution_count": 23,
   "id": "157ed3bd-9ea7-488f-996b-e4119c40c84f",
   "metadata": {
    "execution": {
     "iopub.execute_input": "2024-11-10T17:33:11.052052Z",
     "iopub.status.busy": "2024-11-10T17:33:11.051918Z",
     "iopub.status.idle": "2024-11-10T17:33:11.060316Z",
     "shell.execute_reply": "2024-11-10T17:33:11.059906Z",
     "shell.execute_reply.started": "2024-11-10T17:33:11.052040Z"
    }
   },
   "outputs": [
    {
     "data": {
      "text/html": [
       "<div>\n",
       "<style scoped>\n",
       "    .dataframe tbody tr th:only-of-type {\n",
       "        vertical-align: middle;\n",
       "    }\n",
       "\n",
       "    .dataframe tbody tr th {\n",
       "        vertical-align: top;\n",
       "    }\n",
       "\n",
       "    .dataframe thead th {\n",
       "        text-align: right;\n",
       "    }\n",
       "</style>\n",
       "<table border=\"1\" class=\"dataframe\">\n",
       "  <thead>\n",
       "    <tr style=\"text-align: right;\">\n",
       "      <th></th>\n",
       "      <th>text</th>\n",
       "      <th>predicted_label</th>\n",
       "      <th>true_label</th>\n",
       "    </tr>\n",
       "  </thead>\n",
       "  <tbody>\n",
       "    <tr>\n",
       "      <th>0</th>\n",
       "      <td>maganda slippers kaso yung isa maliit yung bin...</td>\n",
       "      <td>1</td>\n",
       "      <td>1</td>\n",
       "    </tr>\n",
       "    <tr>\n",
       "      <th>1</th>\n",
       "      <td>oily sobrang tapang and then hindi sya kaamoy ...</td>\n",
       "      <td>0</td>\n",
       "      <td>0</td>\n",
       "    </tr>\n",
       "    <tr>\n",
       "      <th>2</th>\n",
       "      <td>the packing was ok na sana pero may gas2 yung ...</td>\n",
       "      <td>1</td>\n",
       "      <td>1</td>\n",
       "    </tr>\n",
       "    <tr>\n",
       "      <th>3</th>\n",
       "      <td>mganda ung mittens at shoes kaso ung cap ang p...</td>\n",
       "      <td>1</td>\n",
       "      <td>1</td>\n",
       "    </tr>\n",
       "    <tr>\n",
       "      <th>5</th>\n",
       "      <td>5 10 ang mahal ng payong nd nmn ganun ka quali...</td>\n",
       "      <td>0</td>\n",
       "      <td>0</td>\n",
       "    </tr>\n",
       "  </tbody>\n",
       "</table>\n",
       "</div>"
      ],
      "text/plain": [
       "                                                text  predicted_label  \\\n",
       "0  maganda slippers kaso yung isa maliit yung bin...                1   \n",
       "1  oily sobrang tapang and then hindi sya kaamoy ...                0   \n",
       "2  the packing was ok na sana pero may gas2 yung ...                1   \n",
       "3  mganda ung mittens at shoes kaso ung cap ang p...                1   \n",
       "5  5 10 ang mahal ng payong nd nmn ganun ka quali...                0   \n",
       "\n",
       "   true_label  \n",
       "0           1  \n",
       "1           0  \n",
       "2           1  \n",
       "3           1  \n",
       "5           0  "
      ]
     },
     "execution_count": 23,
     "metadata": {},
     "output_type": "execute_result"
    }
   ],
   "source": [
    "ensemble_model_path = 'Results/ERROR ANALYSIS/FIRE/BLD/5BLD-3-SVM_predictions.csv'\n",
    "\n",
    "# Load the ensemble model predictions into a DataFrame\n",
    "ensemble_model = pd.read_csv(ensemble_model_path)\n",
    "\n",
    "total_misclass = ensemble_model[ensemble_model['predicted_label'] != ensemble_model['true_label']]\n",
    "total_correct = ensemble_model[ensemble_model['predicted_label'] == ensemble_model['true_label']]\n",
    "total_correct.head()"
   ]
  },
  {
   "cell_type": "markdown",
   "id": "f01bb489-b2a4-43c4-8a50-6f95059dfefc",
   "metadata": {},
   "source": [
    "### Word Count"
   ]
  },
  {
   "cell_type": "code",
   "execution_count": 24,
   "id": "131bb948-e537-460a-9bb4-42c1e224c1ef",
   "metadata": {
    "execution": {
     "iopub.execute_input": "2024-11-10T17:33:11.061351Z",
     "iopub.status.busy": "2024-11-10T17:33:11.061108Z",
     "iopub.status.idle": "2024-11-10T17:33:11.065814Z",
     "shell.execute_reply": "2024-11-10T17:33:11.065290Z",
     "shell.execute_reply.started": "2024-11-10T17:33:11.061332Z"
    }
   },
   "outputs": [
    {
     "name": "stdout",
     "output_type": "stream",
     "text": [
      "The average number of words per text in correctly classified instances: 26.538372093023256\n"
     ]
    },
    {
     "name": "stderr",
     "output_type": "stream",
     "text": [
      "/var/folders/d8/nbkwtx_953q99tk0ckh0v0v40000gn/T/ipykernel_67331/2870185984.py:2: SettingWithCopyWarning: \n",
      "A value is trying to be set on a copy of a slice from a DataFrame.\n",
      "Try using .loc[row_indexer,col_indexer] = value instead\n",
      "\n",
      "See the caveats in the documentation: https://pandas.pydata.org/pandas-docs/stable/user_guide/indexing.html#returning-a-view-versus-a-copy\n",
      "  total_correct.loc[:, 'word_count'] = total_correct['text'].apply(lambda x: len(x.split()))\n"
     ]
    }
   ],
   "source": [
    "# Calculate the number of words in each text in CORRECTLY CLASSIFIED\n",
    "total_correct.loc[:, 'word_count'] = total_correct['text'].apply(lambda x: len(x.split()))\n",
    "\n",
    "# Calculate the average word count\n",
    "average_word_count = total_correct['word_count'].mean()\n",
    "\n",
    "print(f\"The average number of words per text in correctly classified instances: {average_word_count}\")"
   ]
  },
  {
   "cell_type": "code",
   "execution_count": 25,
   "id": "cbb52001-d857-474f-9207-ffb91900043f",
   "metadata": {
    "execution": {
     "iopub.execute_input": "2024-11-10T17:33:11.066673Z",
     "iopub.status.busy": "2024-11-10T17:33:11.066469Z",
     "iopub.status.idle": "2024-11-10T17:33:11.070599Z",
     "shell.execute_reply": "2024-11-10T17:33:11.070259Z",
     "shell.execute_reply.started": "2024-11-10T17:33:11.066648Z"
    }
   },
   "outputs": [
    {
     "name": "stdout",
     "output_type": "stream",
     "text": [
      "The average number of words per text in misclassified instances: 28.21693121693122\n"
     ]
    },
    {
     "name": "stderr",
     "output_type": "stream",
     "text": [
      "/var/folders/d8/nbkwtx_953q99tk0ckh0v0v40000gn/T/ipykernel_67331/458128786.py:2: SettingWithCopyWarning: \n",
      "A value is trying to be set on a copy of a slice from a DataFrame.\n",
      "Try using .loc[row_indexer,col_indexer] = value instead\n",
      "\n",
      "See the caveats in the documentation: https://pandas.pydata.org/pandas-docs/stable/user_guide/indexing.html#returning-a-view-versus-a-copy\n",
      "  total_misclass.loc[:, 'word_count'] = total_misclass['text'].apply(lambda x: len(x.split()))\n"
     ]
    }
   ],
   "source": [
    "# Calculate the number of words in each text in MISCLASSIFIED \n",
    "total_misclass.loc[:, 'word_count'] = total_misclass['text'].apply(lambda x: len(x.split()))\n",
    "\n",
    "# Calculate the average word count\n",
    "average_word_count = total_misclass['word_count'].mean()\n",
    "\n",
    "print(f\"The average number of words per text in misclassified instances: {average_word_count}\")"
   ]
  },
  {
   "cell_type": "markdown",
   "id": "26b7d7b2-7bf3-4897-9ca9-f6de333cd093",
   "metadata": {},
   "source": [
    "### Interjections"
   ]
  },
  {
   "cell_type": "code",
   "execution_count": 26,
   "id": "b30d4726-ec0c-46c8-9fb2-48cb2ff593fb",
   "metadata": {
    "execution": {
     "iopub.execute_input": "2024-11-10T17:33:11.071369Z",
     "iopub.status.busy": "2024-11-10T17:33:11.071246Z",
     "iopub.status.idle": "2024-11-10T17:33:11.081248Z",
     "shell.execute_reply": "2024-11-10T17:33:11.080765Z",
     "shell.execute_reply.started": "2024-11-10T17:33:11.071358Z"
    }
   },
   "outputs": [
    {
     "name": "stdout",
     "output_type": "stream",
     "text": [
      "\n",
      "Contingency Table:\n",
      "                      Misclassified  Correctly_Classified\n",
      "Contains_Target_Word                                     \n",
      "Yes                             123                   525\n",
      "No                               66                   335\n",
      "\n",
      "Chi-Square Test Results:\n",
      "Chi2 Statistic: 0.9032\n",
      "Degrees of Freedom: 1\n",
      "P-Value: 0.3419\n",
      "Result: There is no significant association between the presence of target words and misclassifications.\n"
     ]
    },
    {
     "name": "stderr",
     "output_type": "stream",
     "text": [
      "/var/folders/d8/nbkwtx_953q99tk0ckh0v0v40000gn/T/ipykernel_67331/218705757.py:25: SettingWithCopyWarning: \n",
      "A value is trying to be set on a copy of a slice from a DataFrame.\n",
      "Try using .loc[row_indexer,col_indexer] = value instead\n",
      "\n",
      "See the caveats in the documentation: https://pandas.pydata.org/pandas-docs/stable/user_guide/indexing.html#returning-a-view-versus-a-copy\n",
      "  total_misclass['contains_target_word'] = total_misclass['text'].apply(lambda x: contains_target_words(x, target_words))\n",
      "/var/folders/d8/nbkwtx_953q99tk0ckh0v0v40000gn/T/ipykernel_67331/218705757.py:26: SettingWithCopyWarning: \n",
      "A value is trying to be set on a copy of a slice from a DataFrame.\n",
      "Try using .loc[row_indexer,col_indexer] = value instead\n",
      "\n",
      "See the caveats in the documentation: https://pandas.pydata.org/pandas-docs/stable/user_guide/indexing.html#returning-a-view-versus-a-copy\n",
      "  total_correct['contains_target_word'] = total_correct['text'].apply(lambda x: contains_target_words(x, target_words))\n"
     ]
    }
   ],
   "source": [
    "import pandas as pd\n",
    "import numpy as np\n",
    "import re\n",
    "from scipy.stats import chi2_contingency\n",
    "\n",
    "# Define target words\n",
    "target_words = ['pa', 'na', 'naman']\n",
    "\n",
    "# Function to check presence of target words\n",
    "def contains_target_words(text, words):\n",
    "    \"\"\"\n",
    "    Checks if any of the target words are present in the given text.\n",
    "    \n",
    "    Parameters:\n",
    "    - text (str): The text to search within.\n",
    "    - words (list): List of target words.\n",
    "    \n",
    "    Returns:\n",
    "    - bool: True if any target word is found, False otherwise.\n",
    "    \"\"\"\n",
    "    pattern = r'\\b(' + '|'.join(words) + r')\\b'\n",
    "    return bool(re.search(pattern, text, flags=re.IGNORECASE))\n",
    "\n",
    "# Apply the function to both dataframes\n",
    "total_misclass['contains_target_word'] = total_misclass['text'].apply(lambda x: contains_target_words(x, target_words))\n",
    "total_correct['contains_target_word'] = total_correct['text'].apply(lambda x: contains_target_words(x, target_words))\n",
    "\n",
    "# Aggregate presence of any target word\n",
    "contingency_table = pd.DataFrame({\n",
    "    'Contains_Target_Word': ['Yes', 'No'],\n",
    "    'Misclassified': [\n",
    "        total_misclass['contains_target_word'].sum(),\n",
    "        total_misclass.shape[0] - total_misclass['contains_target_word'].sum()\n",
    "    ],\n",
    "    'Correctly_Classified': [\n",
    "        total_correct['contains_target_word'].sum(),\n",
    "        total_correct.shape[0] - total_correct['contains_target_word'].sum()\n",
    "    ]\n",
    "})\n",
    "\n",
    "# Set 'Contains_Target_Word' as the index\n",
    "contingency_table = contingency_table.set_index('Contains_Target_Word')\n",
    "\n",
    "# Display the contingency table\n",
    "print(\"\\nContingency Table:\")\n",
    "print(contingency_table)\n",
    "\n",
    "# Perform Chi-Square Test\n",
    "chi2, p, dof, expected = chi2_contingency(contingency_table)\n",
    "\n",
    "# Display Chi-Square Test Results\n",
    "print(f\"\\nChi-Square Test Results:\")\n",
    "print(f\"Chi2 Statistic: {chi2:.4f}\")\n",
    "print(f\"Degrees of Freedom: {dof}\")\n",
    "print(f\"P-Value: {p:.4f}\")\n",
    "\n",
    "# Interpret the result\n",
    "alpha = 0.05\n",
    "if p < alpha:\n",
    "    print(\"Result: There is a significant association between the presence of target words and misclassifications.\")\n",
    "else:\n",
    "    print(\"Result: There is no significant association between the presence of target words and misclassifications.\")"
   ]
  },
  {
   "cell_type": "markdown",
   "id": "88991f58-7724-4f2d-9c55-eaf76ecfdc27",
   "metadata": {},
   "source": [
    "## English Proportion"
   ]
  },
  {
   "cell_type": "markdown",
   "id": "1f14c907-4f00-4996-891d-227937dc3809",
   "metadata": {},
   "source": [
    "### Setup"
   ]
  },
  {
   "cell_type": "code",
   "execution_count": 27,
   "id": "3a1ba106-ae90-4d0f-9349-c291be82088a",
   "metadata": {
    "execution": {
     "iopub.execute_input": "2024-11-10T17:33:11.081979Z",
     "iopub.status.busy": "2024-11-10T17:33:11.081804Z",
     "iopub.status.idle": "2024-11-10T17:33:11.090270Z",
     "shell.execute_reply": "2024-11-10T17:33:11.089794Z",
     "shell.execute_reply.started": "2024-11-10T17:33:11.081967Z"
    }
   },
   "outputs": [
    {
     "name": "stdout",
     "output_type": "stream",
     "text": [
      "Ensemble Model DataFrame Loaded:\n",
      "                                                text  predicted_label  \\\n",
      "0  maganda slippers kaso yung isa maliit yung bin...                1   \n",
      "1  oily sobrang tapang and then hindi sya kaamoy ...                0   \n",
      "2  the packing was ok na sana pero may gas2 yung ...                1   \n",
      "3  mganda ung mittens at shoes kaso ung cap ang p...                1   \n",
      "4  quality is good sana nagtanong muna kayo kung ...                1   \n",
      "\n",
      "   true_label  \n",
      "0           1  \n",
      "1           0  \n",
      "2           1  \n",
      "3           1  \n",
      "4           0  \n"
     ]
    },
    {
     "name": "stderr",
     "output_type": "stream",
     "text": [
      "[nltk_data] Downloading package punkt to /Users/levan/nltk_data...\n",
      "[nltk_data]   Package punkt is already up-to-date!\n"
     ]
    },
    {
     "data": {
      "text/plain": [
       "text               1049\n",
       "predicted_label    1049\n",
       "true_label         1049\n",
       "dtype: int64"
      ]
     },
     "execution_count": 27,
     "metadata": {},
     "output_type": "execute_result"
    }
   ],
   "source": [
    "import pandas as pd\n",
    "import fasttext\n",
    "import nltk\n",
    "from nltk.tokenize import word_tokenize\n",
    "from scipy.stats import chi2_contingency, fisher_exact\n",
    "import matplotlib.pyplot as plt\n",
    "import seaborn as sns\n",
    "\n",
    "# Download necessary NLTK data\n",
    "nltk.download('punkt')\n",
    "\n",
    "ensemble_model_path = 'Results/ERROR ANALYSIS/FIRE/BLD/5BLD-3-SVM_predictions.csv'\n",
    "\n",
    "# Load the ensemble model predictions into a DataFrame\n",
    "ensemble_model = pd.read_csv(ensemble_model_path)\n",
    "\n",
    "print(\"Ensemble Model DataFrame Loaded:\")\n",
    "print(ensemble_model.head())\n",
    "ensemble_model.count()"
   ]
  },
  {
   "cell_type": "markdown",
   "id": "31668175-9406-4229-886f-4ba337ffb0fa",
   "metadata": {},
   "source": [
    "### Identify misclassification"
   ]
  },
  {
   "cell_type": "code",
   "execution_count": 28,
   "id": "8a0a3dce-46aa-478e-aba3-9f9e63586894",
   "metadata": {
    "execution": {
     "iopub.execute_input": "2024-11-10T17:33:11.090860Z",
     "iopub.status.busy": "2024-11-10T17:33:11.090755Z",
     "iopub.status.idle": "2024-11-10T17:33:11.096798Z",
     "shell.execute_reply": "2024-11-10T17:33:11.096460Z",
     "shell.execute_reply.started": "2024-11-10T17:33:11.090851Z"
    }
   },
   "outputs": [
    {
     "name": "stdout",
     "output_type": "stream",
     "text": [
      "\n",
      "DataFrame with 'ensemble_correct' Column:\n",
      "   predicted_label  true_label  ensemble_correct\n",
      "0                1           1              True\n",
      "1                0           0              True\n",
      "2                1           1              True\n",
      "3                1           1              True\n",
      "4                1           0             False\n"
     ]
    },
    {
     "data": {
      "text/plain": [
       "text                1049\n",
       "predicted_label     1049\n",
       "true_label          1049\n",
       "ensemble_correct    1049\n",
       "dtype: int64"
      ]
     },
     "execution_count": 28,
     "metadata": {},
     "output_type": "execute_result"
    }
   ],
   "source": [
    "# Create column indicating whether the prediction was correct\n",
    "ensemble_model['ensemble_correct'] = ensemble_model['predicted_label'] == ensemble_model['true_label']\n",
    "\n",
    "print(\"\\nDataFrame with 'ensemble_correct' Column:\")\n",
    "print(ensemble_model[['predicted_label', 'true_label', 'ensemble_correct']].head())\n",
    "\n",
    "ensemble_model.count()"
   ]
  },
  {
   "cell_type": "markdown",
   "id": "bfdbb941-0c85-47c3-9112-ee788c93bf0f",
   "metadata": {},
   "source": [
    "### Load and use FastText Language Model"
   ]
  },
  {
   "cell_type": "code",
   "execution_count": 29,
   "id": "fa74392e-7b6a-4d60-b5ef-ffe60ebba40d",
   "metadata": {
    "execution": {
     "iopub.execute_input": "2024-11-10T17:33:11.097641Z",
     "iopub.status.busy": "2024-11-10T17:33:11.097534Z",
     "iopub.status.idle": "2024-11-10T17:33:11.291652Z",
     "shell.execute_reply": "2024-11-10T17:33:11.291297Z",
     "shell.execute_reply.started": "2024-11-10T17:33:11.097632Z"
    }
   },
   "outputs": [
    {
     "name": "stdout",
     "output_type": "stream",
     "text": [
      "\n",
      "FastText Language Identification Model Loaded Successfully.\n",
      "\n",
      "English Proportion Statistics:\n",
      "count    1049.000000\n",
      "mean       62.051684\n",
      "std        14.837030\n",
      "min        16.666667\n",
      "25%        50.000000\n",
      "50%        61.538462\n",
      "75%        72.000000\n",
      "max       100.000000\n",
      "Name: english_proportion, dtype: float64\n"
     ]
    },
    {
     "data": {
      "text/plain": [
       "text                  1049\n",
       "predicted_label       1049\n",
       "true_label            1049\n",
       "ensemble_correct      1049\n",
       "token_lang_counts     1049\n",
       "english_proportion    1049\n",
       "dtype: int64"
      ]
     },
     "execution_count": 29,
     "metadata": {},
     "output_type": "execute_result"
    }
   ],
   "source": [
    "# Load path to the FastText language identification model\n",
    "fasttext_model_path = 'lid.176.ftz'\n",
    "\n",
    "# Load FastText model\n",
    "try:\n",
    "    model = fasttext.load_model(fasttext_model_path)\n",
    "    print(\"\\nFastText Language Identification Model Loaded Successfully.\")\n",
    "except Exception as e:\n",
    "    print(f\"\\nError Loading FastText Model: {e}\")\n",
    "    exit()\n",
    "\n",
    "# Function for token-level language detection\n",
    "def token_language_detection(text):\n",
    "    \"\"\"\n",
    "    Detects the language of each token in the text using FastText.\n",
    "\n",
    "    Parameters:\n",
    "        text (str): The input text.\n",
    "\n",
    "    Returns:\n",
    "        dict: A dictionary with language codes as keys and token counts as values.\n",
    "    \"\"\"\n",
    "    tokens = word_tokenize(text)\n",
    "    lang_counts = {}\n",
    "    for token in tokens:\n",
    "        if token.isalpha():  # Ignore punctuation and numbers\n",
    "            predictions = model.predict(token.lower())\n",
    "            lang = predictions[0][0].replace('__label__', '')\n",
    "            lang_counts[lang] = lang_counts.get(lang, 0) + 1\n",
    "    return lang_counts\n",
    "\n",
    "# Function to calculate the proportion of English tokens\n",
    "def calculate_english_proportion(lang_counts):\n",
    "    \"\"\"\n",
    "    Calculates the percentage of English tokens in the text.\n",
    "\n",
    "    Parameters:\n",
    "        lang_counts (dict): A dictionary with language codes and their token counts.\n",
    "\n",
    "    Returns:\n",
    "        float: Percentage of English tokens.\n",
    "    \"\"\"\n",
    "    total_tokens = sum(lang_counts.values())\n",
    "    if total_tokens == 0:\n",
    "        return 0.0\n",
    "    english_tokens = lang_counts.get('en', 0)\n",
    "    return (english_tokens / total_tokens) * 100  # Percentage of English tokens\n",
    "\n",
    "\n",
    "\n",
    "# Apply Language Detection and Calculate English Proportion\n",
    "# Apply token-level language detection\n",
    "ensemble_model['token_lang_counts'] = ensemble_model['text'].apply(token_language_detection)\n",
    "\n",
    "# Calculate the proportion of English tokens\n",
    "ensemble_model['english_proportion'] = ensemble_model['token_lang_counts'].apply(calculate_english_proportion)\n",
    "\n",
    "# Display statistics of English proportion\n",
    "print(\"\\nEnglish Proportion Statistics:\")\n",
    "print(ensemble_model['english_proportion'].describe())\n",
    "\n",
    "ensemble_model.count()"
   ]
  },
  {
   "cell_type": "markdown",
   "id": "8150ee3f-1086-488d-8802-ece468d778fc",
   "metadata": {},
   "source": [
    "### Categorize Texts Based on English Proportion"
   ]
  },
  {
   "cell_type": "code",
   "execution_count": 30,
   "id": "c8c5560e-ccaf-4599-adab-01e2c87ae4e5",
   "metadata": {
    "execution": {
     "iopub.execute_input": "2024-11-10T17:33:11.292264Z",
     "iopub.status.busy": "2024-11-10T17:33:11.292175Z",
     "iopub.status.idle": "2024-11-10T17:33:11.298445Z",
     "shell.execute_reply": "2024-11-10T17:33:11.298170Z",
     "shell.execute_reply.started": "2024-11-10T17:33:11.292254Z"
    }
   },
   "outputs": [
    {
     "name": "stdout",
     "output_type": "stream",
     "text": [
      "\n",
      "Median English Proportion: 61.54%\n",
      "\n",
      "Categorization Based on English Proportion:\n",
      "   english_proportion english_category\n",
      "0           48.717949      Low English\n",
      "1           48.484848      Low English\n",
      "2           63.636364     High English\n",
      "3           44.827586      Low English\n",
      "4           35.714286      Low English\n"
     ]
    },
    {
     "data": {
      "text/plain": [
       "text                  1049\n",
       "predicted_label       1049\n",
       "true_label            1049\n",
       "ensemble_correct      1049\n",
       "token_lang_counts     1049\n",
       "english_proportion    1049\n",
       "english_category      1049\n",
       "dtype: int64"
      ]
     },
     "execution_count": 30,
     "metadata": {},
     "output_type": "execute_result"
    }
   ],
   "source": [
    "# Calculate the median English proportion\n",
    "median_english = ensemble_model['english_proportion'].median()\n",
    "print(f\"\\nMedian English Proportion: {median_english:.2f}%\")\n",
    "\n",
    "# Categorize texts into 'High English' and 'Low English' based on median\n",
    "ensemble_model['english_category'] = ensemble_model['english_proportion'].apply(\n",
    "    lambda x: 'High English' if x > median_english else 'Low English'\n",
    ")\n",
    "\n",
    "# Verify the categorization\n",
    "print(\"\\nCategorization Based on English Proportion:\")\n",
    "print(ensemble_model[['english_proportion', 'english_category']].head())\n",
    "\n",
    "ensemble_model.count()"
   ]
  },
  {
   "cell_type": "markdown",
   "id": "8be04475-7e60-4342-922b-6fd768df9c2e",
   "metadata": {},
   "source": [
    "### Create Contingency Table"
   ]
  },
  {
   "cell_type": "code",
   "execution_count": 31,
   "id": "f3342641-85f8-4176-8f21-40198a327d1b",
   "metadata": {
    "execution": {
     "iopub.execute_input": "2024-11-10T17:33:11.299030Z",
     "iopub.status.busy": "2024-11-10T17:33:11.298929Z",
     "iopub.status.idle": "2024-11-10T17:33:11.306185Z",
     "shell.execute_reply": "2024-11-10T17:33:11.305722Z",
     "shell.execute_reply.started": "2024-11-10T17:33:11.299021Z"
    }
   },
   "outputs": [
    {
     "name": "stdout",
     "output_type": "stream",
     "text": [
      "\n",
      "Contingency Table:\n",
      "                  Misclassified  Correctly Classified\n",
      "english_category                                     \n",
      "High English                 82                   432\n",
      "Low English                 107                   428\n"
     ]
    },
    {
     "data": {
      "text/plain": [
       "text                  1049\n",
       "predicted_label       1049\n",
       "true_label            1049\n",
       "ensemble_correct      1049\n",
       "token_lang_counts     1049\n",
       "english_proportion    1049\n",
       "english_category      1049\n",
       "dtype: int64"
      ]
     },
     "execution_count": 31,
     "metadata": {},
     "output_type": "execute_result"
    }
   ],
   "source": [
    "contingency_table = pd.crosstab(ensemble_model['english_category'], ensemble_model['ensemble_correct'])\n",
    "\n",
    "# Rename columns\n",
    "contingency_table.columns = ['Misclassified', 'Correctly Classified']\n",
    "\n",
    "contingency_table.index.name = 'english_category'\n",
    "\n",
    "# Display the contingency table\n",
    "print(\"\\nContingency Table:\")\n",
    "print(contingency_table)\n",
    "\n",
    "ensemble_model.count()"
   ]
  },
  {
   "cell_type": "markdown",
   "id": "20415a00-92be-455d-961c-c6084be3f25a",
   "metadata": {},
   "source": [
    "### Perform Chi-Squared Test high english vs low english"
   ]
  },
  {
   "cell_type": "code",
   "execution_count": 32,
   "id": "847d8dbe-68d3-445a-89f9-de1c4c264689",
   "metadata": {
    "execution": {
     "iopub.execute_input": "2024-11-10T17:33:11.306938Z",
     "iopub.status.busy": "2024-11-10T17:33:11.306823Z",
     "iopub.status.idle": "2024-11-10T17:33:11.312599Z",
     "shell.execute_reply": "2024-11-10T17:33:11.312220Z",
     "shell.execute_reply.started": "2024-11-10T17:33:11.306925Z"
    }
   },
   "outputs": [
    {
     "name": "stdout",
     "output_type": "stream",
     "text": [
      "\n",
      "Chi-Squared Statistic: 2.6387\n",
      "Degrees of Freedom: 1\n",
      "P-Value: 0.1043\n",
      "\n",
      "Conclusion: There is no significant association between English content and misclassification rates.\n",
      "\n",
      "Expected Frequencies:\n",
      "                  Misclassified  Correctly Classified\n",
      "english_category                                     \n",
      "High English          92.608198            421.391802\n",
      "Low English           96.391802            438.608198\n",
      "\n",
      "All expected frequencies are above 5. Chi-Squared Test assumptions are met.\n",
      "\n",
      "Summary: There is no significant relationship between the proportion of English content in texts and misclassification rates by the ensemble model.\n"
     ]
    }
   ],
   "source": [
    "# Perform the Chi-Squared Test\n",
    "chi2, p, dof, expected = chi2_contingency(contingency_table)\n",
    "\n",
    "# Display the results\n",
    "print(f\"\\nChi-Squared Statistic: {chi2:.4f}\")\n",
    "print(f\"Degrees of Freedom: {dof}\")\n",
    "print(f\"P-Value: {p:.4f}\")\n",
    "\n",
    "\n",
    "alpha = 0.05\n",
    "if p < alpha:\n",
    "    print(\"\\nConclusion: There is a significant association between English content and misclassification rates.\")\n",
    "else:\n",
    "    print(\"\\nConclusion: There is no significant association between English content and misclassification rates.\")\n",
    "\n",
    "\n",
    "\n",
    "#Check Chi-Squared Test Assumptions\n",
    "# Display expected frequencies\n",
    "expected_df = pd.DataFrame(expected, index=contingency_table.index, columns=contingency_table.columns)\n",
    "print(\"\\nExpected Frequencies:\")\n",
    "print(expected_df)\n",
    "\n",
    "# Check if any expected frequency is less than 5\n",
    "if (expected < 5).any():\n",
    "    print(\"\\nSome expected frequencies are less than 5. Performing Fisher's Exact Test.\")\n",
    "    # Ensure the contingency table is 2x2\n",
    "    if contingency_table.shape == (2, 2):\n",
    "        odds_ratio, p_value = fisher_exact(contingency_table)\n",
    "        print(f\"Fisher's Exact Test Odds Ratio: {odds_ratio:.4f}\")\n",
    "        print(f\"Fisher's Exact Test P-Value: {p_value:.4f}\")\n",
    "        \n",
    "        # Interpret the results\n",
    "        if p_value < alpha:\n",
    "            print(\"Conclusion: Significant association between English content and misclassification rates.\")\n",
    "        else:\n",
    "            print(\"Conclusion: No significant association between English content and misclassification rates.\")\n",
    "    else:\n",
    "        print(\"\\nFisher's Exact Test is not suitable for tables larger than 2x2.\")\n",
    "else:\n",
    "    print(\"\\nAll expected frequencies are above 5. Chi-Squared Test assumptions are met.\")\n",
    "\n",
    "\n",
    "\n",
    "\n",
    "#Summary of Findings\n",
    "if p < alpha:\n",
    "    print(\"\\nSummary: Texts with a lower proportion of English content are significantly more likely to be misclassified by the ensemble model.\")\n",
    "\n",
    "else:\n",
    "    print(\"\\nSummary: There is no significant relationship between the proportion of English content in texts and misclassification rates by the ensemble model.\")"
   ]
  },
  {
   "cell_type": "markdown",
   "id": "5e8f39b3-123d-445c-ae36-ba45e3b5071d",
   "metadata": {},
   "source": [
    "# TEST OF SIGNIFICANCE"
   ]
  },
  {
   "cell_type": "markdown",
   "id": "105cf347-b53f-4e84-8848-314f3746c93e",
   "metadata": {},
   "source": [
    "## Hate Speech Model"
   ]
  },
  {
   "cell_type": "markdown",
   "id": "63abd3db-1c57-4c44-a54f-f512b7871e23",
   "metadata": {},
   "source": [
    "### Voting"
   ]
  },
  {
   "cell_type": "code",
   "execution_count": 33,
   "id": "1a129264-7ce3-4b55-b0a1-7ddea4f0ef8b",
   "metadata": {
    "execution": {
     "iopub.execute_input": "2024-11-10T17:33:11.313410Z",
     "iopub.status.busy": "2024-11-10T17:33:11.313236Z",
     "iopub.status.idle": "2024-11-10T17:33:11.317840Z",
     "shell.execute_reply": "2024-11-10T17:33:11.317472Z",
     "shell.execute_reply.started": "2024-11-10T17:33:11.313400Z"
    }
   },
   "outputs": [
    {
     "name": "stdout",
     "output_type": "stream",
     "text": [
      "Paired t-test Results:\n",
      "t-statistic: -1.757203734466344\n",
      "p-value: 0.11694364697459385\n"
     ]
    }
   ],
   "source": [
    "from scipy.stats import ttest_rel\n",
    "\n",
    "#F1 scores for HV and SV\n",
    "hv_scores = [79.57, 78.17, 79.58, 78.98, 78.61, 78.7, 79.17, 78.88, 79.05]\n",
    "sv_scores = [79.6, 79.6, 79.91, 78.82, 78.97, 79.19, 78.78, 79.13, 79.4]\n",
    "\n",
    "# Perform a paired t-test\n",
    "t_stat, p_value = ttest_rel(hv_scores, sv_scores)\n",
    "\n",
    "# Display the results\n",
    "print(\"Paired t-test Results:\")\n",
    "print(\"t-statistic:\", t_stat)\n",
    "print(\"p-value:\", p_value)"
   ]
  },
  {
   "cell_type": "markdown",
   "id": "7e7c6f7a-4e1c-4dc8-8607-90056b612e9e",
   "metadata": {},
   "source": [
    "### Stacking"
   ]
  },
  {
   "cell_type": "code",
   "execution_count": 34,
   "id": "0bcd43f6-823e-4093-b18c-26a2306b64f0",
   "metadata": {
    "execution": {
     "iopub.execute_input": "2024-11-10T17:33:11.318601Z",
     "iopub.status.busy": "2024-11-10T17:33:11.318447Z",
     "iopub.status.idle": "2024-11-10T17:33:11.644950Z",
     "shell.execute_reply": "2024-11-10T17:33:11.644477Z",
     "shell.execute_reply.started": "2024-11-10T17:33:11.318592Z"
    }
   },
   "outputs": [
    {
     "name": "stdout",
     "output_type": "stream",
     "text": [
      "ANOVA Test Results:\n",
      "F-statistic: 67.7266466646379\n",
      "p-value: 5.952790761218664e-14\n",
      "\n",
      "Tukey HSD Test Results:\n",
      " Multiple Comparison of Means - Tukey HSD, FWER=0.05 \n",
      "=====================================================\n",
      "group1  group2 meandiff p-adj   lower   upper  reject\n",
      "-----------------------------------------------------\n",
      "STK-DT  STK-LR   0.2878 0.8142 -0.5963  1.1718  False\n",
      "STK-DT  STK-NB   0.2211 0.9048 -0.6629  1.1052  False\n",
      "STK-DT STK-SVM    -3.62    0.0 -4.5041 -2.7359   True\n",
      "STK-LR  STK-NB  -0.0667 0.9969 -0.9507  0.8174  False\n",
      "STK-LR STK-SVM  -3.9078    0.0 -4.7918 -3.0237   True\n",
      "STK-NB STK-SVM  -3.8411    0.0 -4.7252 -2.9571   True\n",
      "-----------------------------------------------------\n"
     ]
    }
   ],
   "source": [
    "from scipy.stats import f_oneway\n",
    "from statsmodels.stats.multicomp import pairwise_tukeyhsd\n",
    "\n",
    "# F1 scores for each ensemble method\n",
    "stk_lr_scores = [78.56, 78.26, 79.58, 79.4, 79.22, 78.93, 80.09, 79.41, 79.14]\n",
    "stk_nb_scores = [78.56, 78.26, 79.58, 79.89, 79.22, 78.93, 78.81, 79.35, 79.39]\n",
    "stk_dt_scores = [78.56, 78.77, 79.58, 79.26, 77.99, 78.93, 78.89, 79.41, 78.61]\n",
    "stk_svm_scores = [75.85, 75.74, 75.74, 75.75, 75.74, 75.74, 75.75, 74.38, 72.73]\n",
    "\n",
    "# Perform one-way ANOVA test\n",
    "f_stat, p_value = f_oneway(stk_lr_scores, stk_nb_scores, stk_dt_scores, stk_svm_scores)\n",
    "print(\"ANOVA Test Results:\")\n",
    "print(\"F-statistic:\", f_stat)\n",
    "print(\"p-value:\", p_value)\n",
    "\n",
    "# Combine all scores and group labels for Tukey's HSD\n",
    "all_scores = stk_lr_scores + stk_nb_scores + stk_dt_scores + stk_svm_scores\n",
    "groups = (['STK-LR'] * len(stk_lr_scores) +\n",
    "          ['STK-NB'] * len(stk_nb_scores) +\n",
    "          ['STK-DT'] * len(stk_dt_scores) +\n",
    "          ['STK-SVM'] * len(stk_svm_scores))\n",
    "\n",
    "# Conduct Tukey's HSD post hoc test\n",
    "tukey_results = pairwise_tukeyhsd(endog=all_scores, groups=groups, alpha=0.05)\n",
    "print(\"\\nTukey HSD Test Results:\")\n",
    "print(tukey_results.summary())"
   ]
  },
  {
   "cell_type": "markdown",
   "id": "2f777fb3-3415-4c4a-a734-2f7436d48146",
   "metadata": {},
   "source": [
    "### Blending"
   ]
  },
  {
   "cell_type": "code",
   "execution_count": 35,
   "id": "471622c7-9530-4a00-9870-75f1390bee41",
   "metadata": {
    "execution": {
     "iopub.execute_input": "2024-11-10T17:33:11.645825Z",
     "iopub.status.busy": "2024-11-10T17:33:11.645721Z",
     "iopub.status.idle": "2024-11-10T17:33:11.939055Z",
     "shell.execute_reply": "2024-11-10T17:33:11.938682Z",
     "shell.execute_reply.started": "2024-11-10T17:33:11.645814Z"
    }
   },
   "outputs": [
    {
     "name": "stdout",
     "output_type": "stream",
     "text": [
      "ANOVA Test Results:\n",
      "F-statistic: 319.98798116017366\n",
      "p-value: 6.255424965948445e-24\n",
      "\n",
      "Tukey HSD Test Results:\n",
      " Multiple Comparison of Means - Tukey HSD, FWER=0.05 \n",
      "=====================================================\n",
      "group1  group2 meandiff p-adj   lower   upper  reject\n",
      "-----------------------------------------------------\n",
      "BLD-DT  BLD-LR    10.42    0.0  9.3329 11.5071   True\n",
      "BLD-DT  BLD-NB  10.1056    0.0  9.0184 11.1927   True\n",
      "BLD-DT BLD-SVM   9.8989    0.0  8.8118  10.986   True\n",
      "BLD-LR  BLD-NB  -0.3144 0.8613 -1.4016  0.7727  False\n",
      "BLD-LR BLD-SVM  -0.5211 0.5704 -1.6082   0.566  False\n",
      "BLD-NB BLD-SVM  -0.2067 0.9549 -1.2938  0.8804  False\n",
      "-----------------------------------------------------\n"
     ]
    }
   ],
   "source": [
    "from scipy.stats import f_oneway\n",
    "from statsmodels.stats.multicomp import pairwise_tukeyhsd\n",
    "\n",
    "# Define the F1 scores for each BLD ensemble method\n",
    "bld_lr_scores = [79.72, 78.83, 80.04, 80, 79.45, 79.84, 80.3, 80, 80.22]\n",
    "bld_nb_scores = [80, 78.15, 79.57, 80.17, 79.32, 79.06, 79.93, 79.68, 79.69]\n",
    "bld_dt_scores = [70.63, 67.69, 70.86, 68.5, 69.51, 69.35, 67.24, 70.45, 70.39]\n",
    "bld_svm_scores = [79.93, 78.29, 78.99, 78.43, 78.67, 79.68, 79.42, 79.89, 80.41]\n",
    "\n",
    "# Perform one-way ANOVA test\n",
    "f_stat, p_value = f_oneway(bld_lr_scores, bld_nb_scores, bld_dt_scores, bld_svm_scores)\n",
    "print(\"ANOVA Test Results:\")\n",
    "print(\"F-statistic:\", f_stat)\n",
    "print(\"p-value:\", p_value)\n",
    "\n",
    "# Combine all scores and group labels for Tukey's HSD\n",
    "all_scores = bld_lr_scores + bld_nb_scores + bld_dt_scores + bld_svm_scores\n",
    "groups = (['BLD-LR'] * len(bld_lr_scores) +\n",
    "          ['BLD-NB'] * len(bld_nb_scores) +\n",
    "          ['BLD-DT'] * len(bld_dt_scores) +\n",
    "          ['BLD-SVM'] * len(bld_svm_scores))\n",
    "\n",
    "# Conduct Tukey's HSD post hoc test\n",
    "tukey_results = pairwise_tukeyhsd(endog=all_scores, groups=groups, alpha=0.05)\n",
    "print(\"\\nTukey HSD Test Results:\")\n",
    "print(tukey_results.summary())"
   ]
  },
  {
   "cell_type": "markdown",
   "id": "3ed98f29-3112-44bf-a19a-f05da3b7660f",
   "metadata": {},
   "source": [
    "### BERT vs Ensemble Model "
   ]
  },
  {
   "cell_type": "code",
   "execution_count": 36,
   "id": "3a0fc2b8-01b5-4fcb-be8f-83a3fd398861",
   "metadata": {
    "execution": {
     "iopub.execute_input": "2024-11-10T17:33:11.939893Z",
     "iopub.status.busy": "2024-11-10T17:33:11.939723Z",
     "iopub.status.idle": "2024-11-10T17:33:11.944445Z",
     "shell.execute_reply": "2024-11-10T17:33:11.944088Z",
     "shell.execute_reply.started": "2024-11-10T17:33:11.939880Z"
    }
   },
   "outputs": [
    {
     "name": "stdout",
     "output_type": "stream",
     "text": [
      "Paired t-test Results:\n",
      "t-statistic: -2.951069208526246\n",
      "p-value: 0.018395595376880354\n"
     ]
    }
   ],
   "source": [
    "from scipy.stats import ttest_rel\n",
    "\n",
    "#t-test\n",
    "paired_bert_scores = [75.75, 76.17, 75.15, 66.94, 75.85, 73.46, 72.93, 78.27, 63.54]\n",
    "paired_set_ave_scores = [78.098, 77.176, 78.343, 77.92, 77.67, 77.835, 77.838, 78.058, 77.903]\n",
    "\n",
    "# Perform the paired t-test\n",
    "t_stat, p_value = ttest_rel(paired_bert_scores, paired_set_ave_scores)\n",
    "\n",
    "# Display the results\n",
    "print(\"Paired t-test Results:\")\n",
    "print(\"t-statistic:\", t_stat)\n",
    "print(\"p-value:\", p_value)"
   ]
  },
  {
   "cell_type": "code",
   "execution_count": 38,
   "id": "6c0b084d-50b5-4eea-a901-28305060fe78",
   "metadata": {
    "execution": {
     "iopub.execute_input": "2024-11-10T17:34:10.271740Z",
     "iopub.status.busy": "2024-11-10T17:34:10.271046Z",
     "iopub.status.idle": "2024-11-10T17:34:10.284271Z",
     "shell.execute_reply": "2024-11-10T17:34:10.283320Z",
     "shell.execute_reply.started": "2024-11-10T17:34:10.271700Z"
    }
   },
   "outputs": [
    {
     "name": "stdout",
     "output_type": "stream",
     "text": [
      "Paired t-test Results:\n",
      "t-statistic: -8.045472795465674\n",
      "p-value: 4.1921469437998925e-05\n",
      "\n",
      "Means:\n",
      "Top 9 BERT Models Mean: 75.30000000000001\n",
      "SET Best Ensemble Model Mean: 79.97888888888889\n"
     ]
    }
   ],
   "source": [
    "from scipy.stats import ttest_rel\n",
    "\n",
    "# F1 scores from the BERT models and SET best ensemble model\n",
    "bert_scores = [75.75, 76.17, 75.15, 66.94, 75.85, 73.46, 72.93, 78.27, 63.54, 74.38, 75.74, 72.73]\n",
    "set_best_ensemble_scores = [80, 79.6, 80.04, 80.17, 79.45, 79.84, 80.3, 80, 80.41]\n",
    "# Extract the top 9 BERT scores by sorting in descending order\n",
    "top_bert_scores = sorted(bert_scores, reverse=True)[:9]\n",
    "\n",
    "# Conduct the paired t-test\n",
    "t_stat, p_value = ttest_rel(top_bert_scores, set_best_ensemble_scores)\n",
    "\n",
    "# Calculate the means for comparison\n",
    "mean_top_bert = sum(top_bert_scores) / len(top_bert_scores)\n",
    "mean_set_best_ensemble = sum(set_best_ensemble_scores) / len(set_best_ensemble_scores)\n",
    "\n",
    "# Print results\n",
    "print(\"Paired t-test Results:\")\n",
    "print(\"t-statistic:\", t_stat)\n",
    "print(\"p-value:\", p_value)\n",
    "print(\"\\nMeans:\")\n",
    "print(\"Top 9 BERT Models Mean:\", mean_top_bert)\n",
    "print(\"SET Best Ensemble Model Mean:\", mean_set_best_ensemble)"
   ]
  },
  {
   "cell_type": "markdown",
   "id": "f75ad6e6-0f9c-48cd-ac96-a819898c812c",
   "metadata": {},
   "source": [
    "## FiReCS Model"
   ]
  },
  {
   "cell_type": "markdown",
   "id": "ac7c5859-8cd6-4d98-ad91-8c13c713347f",
   "metadata": {},
   "source": [
    "### Voting"
   ]
  },
  {
   "cell_type": "code",
   "execution_count": 39,
   "id": "2b31ce50-66da-4396-9337-c1a0b364c1d6",
   "metadata": {
    "execution": {
     "iopub.execute_input": "2024-11-10T17:34:18.338705Z",
     "iopub.status.busy": "2024-11-10T17:34:18.337923Z",
     "iopub.status.idle": "2024-11-10T17:34:18.349477Z",
     "shell.execute_reply": "2024-11-10T17:34:18.348392Z",
     "shell.execute_reply.started": "2024-11-10T17:34:18.338643Z"
    }
   },
   "outputs": [
    {
     "name": "stdout",
     "output_type": "stream",
     "text": [
      "Paired t-test Results:\n",
      "t-statistic: -1.0200982042693965\n",
      "p-value: 0.33753629640836375\n"
     ]
    }
   ],
   "source": [
    "from scipy.stats import ttest_rel\n",
    "\n",
    "# Define the F1 scores for HV and SV\n",
    "hv_scores = [82.01, 80.15, 80.87, 80.45, 80.88, 81.48, 81.99, 82.01, 81.77]\n",
    "sv_scores = [81.36, 80.75, 81.33, 81.19, 81.08, 81.85, 81.59, 82.6, 81.42]\n",
    "\n",
    "# Perform a paired t-test\n",
    "t_stat, p_value = ttest_rel(hv_scores, sv_scores)\n",
    "\n",
    "# Display the results\n",
    "print(\"Paired t-test Results:\")\n",
    "print(\"t-statistic:\", t_stat)\n",
    "print(\"p-value:\", p_value)"
   ]
  },
  {
   "cell_type": "markdown",
   "id": "81e4848e-8b2e-4a17-ae3f-26de154d758f",
   "metadata": {},
   "source": [
    "### Stacking"
   ]
  },
  {
   "cell_type": "code",
   "execution_count": 40,
   "id": "28cb3d8b-4665-48e2-b299-2d95f34baf89",
   "metadata": {
    "execution": {
     "iopub.execute_input": "2024-11-10T17:34:18.621380Z",
     "iopub.status.busy": "2024-11-10T17:34:18.620657Z",
     "iopub.status.idle": "2024-11-10T17:34:18.918009Z",
     "shell.execute_reply": "2024-11-10T17:34:18.917316Z",
     "shell.execute_reply.started": "2024-11-10T17:34:18.621331Z"
    }
   },
   "outputs": [
    {
     "name": "stdout",
     "output_type": "stream",
     "text": [
      "ANOVA Test Results:\n",
      "F-statistic: 6.386136933344188\n",
      "p-value: 0.001696859606000245\n",
      "\n",
      "Tukey HSD Test Results:\n",
      " Multiple Comparison of Means - Tukey HSD, FWER=0.05 \n",
      "=====================================================\n",
      "group1  group2 meandiff p-adj   lower   upper  reject\n",
      "-----------------------------------------------------\n",
      "STK-DT  STK-LR   0.2989 0.8907 -0.8371  1.4349  False\n",
      "STK-DT  STK-NB   0.3467 0.8407 -0.7893  1.4827  False\n",
      "STK-DT STK-SVM   -1.316 0.0229 -2.4869  -0.145   True\n",
      "STK-LR  STK-NB   0.0478 0.9995 -1.0882  1.1838  False\n",
      "STK-LR STK-SVM  -1.6149 0.0039 -2.7858 -0.4439   True\n",
      "STK-NB STK-SVM  -1.6626 0.0029 -2.8336 -0.4917   True\n",
      "-----------------------------------------------------\n"
     ]
    }
   ],
   "source": [
    "# Define the F1 scores for each STK ensemble method\n",
    "stk_lr_scores = [81.72, 79.86, 80.58, 80.36, 80.01, 80.53, 81.17, 81.32, 81.12]\n",
    "stk_nb_scores = [81.72, 79.68, 80.03, 81.2, 80.18, 80.41, 81.44, 81.41, 81.03]\n",
    "stk_dt_scores = [81.78, 80.0, 80.67, 79.14, 80.58, 79.33, 80.14, 80.74, 81.6]\n",
    "stk_svm_scores = [79.88, 77.26, 80.94, 77.92, 79.08, 78.73, 80.36, 78.84]\n",
    "\n",
    "# Perform one-way ANOVA test\n",
    "f_stat, p_value = f_oneway(stk_lr_scores, stk_nb_scores, stk_dt_scores, stk_svm_scores)\n",
    "print(\"ANOVA Test Results:\")\n",
    "print(\"F-statistic:\", f_stat)\n",
    "print(\"p-value:\", p_value)\n",
    "\n",
    "# Combine all scores and group labels for Tukey's HSD\n",
    "all_scores = stk_lr_scores + stk_nb_scores + stk_dt_scores + stk_svm_scores\n",
    "groups = (['STK-LR'] * len(stk_lr_scores) +\n",
    "          ['STK-NB'] * len(stk_nb_scores) +\n",
    "          ['STK-DT'] * len(stk_dt_scores) +\n",
    "          ['STK-SVM'] * len(stk_svm_scores))\n",
    "\n",
    "# Conduct Tukey's HSD post hoc test\n",
    "tukey_results = pairwise_tukeyhsd(endog=all_scores, groups=groups, alpha=0.05)\n",
    "print(\"\\nTukey HSD Test Results:\")\n",
    "print(tukey_results.summary())"
   ]
  },
  {
   "cell_type": "markdown",
   "id": "d6e7daf0-beec-42f1-a70e-523524f72d96",
   "metadata": {},
   "source": [
    "### Blending"
   ]
  },
  {
   "cell_type": "code",
   "execution_count": 41,
   "id": "8383b4f8-34ab-491c-af26-aac8818e00ca",
   "metadata": {
    "execution": {
     "iopub.execute_input": "2024-11-10T17:34:18.919210Z",
     "iopub.status.busy": "2024-11-10T17:34:18.919045Z",
     "iopub.status.idle": "2024-11-10T17:34:19.224376Z",
     "shell.execute_reply": "2024-11-10T17:34:19.223928Z",
     "shell.execute_reply.started": "2024-11-10T17:34:18.919196Z"
    }
   },
   "outputs": [
    {
     "name": "stdout",
     "output_type": "stream",
     "text": [
      "ANOVA Test Results:\n",
      "F-statistic: 112.03732969403312\n",
      "p-value: 4.7061973926220886e-17\n",
      "\n",
      "Tukey HSD Test Results:\n",
      "Multiple Comparison of Means - Tukey HSD, FWER=0.05 \n",
      "====================================================\n",
      "group1  group2 meandiff p-adj   lower  upper  reject\n",
      "----------------------------------------------------\n",
      "BLD-DT  BLD-LR   6.3633    0.0  5.2512 7.4754   True\n",
      "BLD-DT  BLD-NB   5.8333    0.0  4.7212 6.9454   True\n",
      "BLD-DT BLD-SVM   6.1889    0.0  5.0768  7.301   True\n",
      "BLD-LR  BLD-NB    -0.53 0.5751 -1.6421 0.5821  False\n",
      "BLD-LR BLD-SVM  -0.1744 0.9738 -1.2866 0.9377  False\n",
      "BLD-NB BLD-SVM   0.3556 0.8221 -0.7566 1.4677  False\n",
      "----------------------------------------------------\n"
     ]
    }
   ],
   "source": [
    "from scipy.stats import f_oneway\n",
    "from statsmodels.stats.multicomp import pairwise_tukeyhsd\n",
    "\n",
    "# Define the F1 scores for each BLD ensemble method\n",
    "bld_lr_scores = [81.35, 80.29, 82.09, 80.69, 80.79, 82.65, 81.58, 82.27, 82.9]\n",
    "bld_nb_scores = [81.41, 79.88, 81.95, 80.68, 81.32, 81.37, 80.98, 80.74, 81.51]\n",
    "bld_dt_scores = [73.92, 76.18, 75.03, 74.8, 75.47, 75.69, 73.78, 75.6, 76.87]\n",
    "bld_svm_scores = [80.28, 80.7, 82.03, 80.32, 80.89, 82.59, 81.68, 82.27, 82.28]\n",
    "\n",
    "# Perform one-way ANOVA test\n",
    "f_stat, p_value = f_oneway(bld_lr_scores, bld_nb_scores, bld_dt_scores, bld_svm_scores)\n",
    "print(\"ANOVA Test Results:\")\n",
    "print(\"F-statistic:\", f_stat)\n",
    "print(\"p-value:\", p_value)\n",
    "\n",
    "# Combine all scores and group labels for Tukey's HSD\n",
    "all_scores = bld_lr_scores + bld_nb_scores + bld_dt_scores + bld_svm_scores\n",
    "groups = (['BLD-LR'] * len(bld_lr_scores) +\n",
    "          ['BLD-NB'] * len(bld_nb_scores) +\n",
    "          ['BLD-DT'] * len(bld_dt_scores) +\n",
    "          ['BLD-SVM'] * len(bld_svm_scores))\n",
    "\n",
    "# Conduct Tukey's HSD post hoc test\n",
    "tukey_results = pairwise_tukeyhsd(endog=all_scores, groups=groups, alpha=0.05)\n",
    "print(\"\\nTukey HSD Test Results:\")\n",
    "print(tukey_results.summary())"
   ]
  },
  {
   "cell_type": "markdown",
   "id": "dee07af4-588c-4abd-bcc9-586caad7cb66",
   "metadata": {},
   "source": [
    "### BERT vs Ensemble Model"
   ]
  },
  {
   "cell_type": "code",
   "execution_count": 42,
   "id": "65acb9f6-0a1e-42d5-87d5-2a5709d6f5c0",
   "metadata": {
    "execution": {
     "iopub.execute_input": "2024-11-10T17:34:19.225448Z",
     "iopub.status.busy": "2024-11-10T17:34:19.225228Z",
     "iopub.status.idle": "2024-11-10T17:34:19.230147Z",
     "shell.execute_reply": "2024-11-10T17:34:19.229797Z",
     "shell.execute_reply.started": "2024-11-10T17:34:19.225434Z"
    }
   },
   "outputs": [
    {
     "name": "stdout",
     "output_type": "stream",
     "text": [
      "Paired t-test Results:\n",
      "t-statistic: -5.136938127211751\n",
      "p-value: 0.0008884705795046698\n",
      "\n",
      "Means:\n",
      "Top 9 BERT Models Mean: 79.69777777777777\n",
      "SET Best Ensemble Model Mean: 81.94555555555556\n"
     ]
    }
   ],
   "source": [
    "from scipy.stats import ttest_rel\n",
    "\n",
    "# F1 scores from the BERT models and best ensemble model for each set \n",
    "bert_models_scores = [77.98, 80.73, 78.99, 78.28, 79.29, 78.54, 77.78, 80.37, 79.84, 79.72, 79.36, 80.44]\n",
    "set_best_ensemble_scores = [82.01, 80.75, 82.09, 81.2, 81.32, 82.65, 81.99, 82.6, 82.9]\n",
    "\n",
    "# Extract the top 9 BERT scores by sorting in descending order\n",
    "top_bert_scores = sorted(bert_models_scores, reverse=True)[:9]\n",
    "\n",
    "# Conduct the paired t-test\n",
    "t_stat, p_value = ttest_rel(top_bert_scores, set_best_ensemble_scores)\n",
    "\n",
    "# Calculate the means for comparison\n",
    "mean_top_bert = sum(top_bert_scores) / len(top_bert_scores)\n",
    "mean_set_best_ensemble = sum(set_best_ensemble_scores) / len(set_best_ensemble_scores)\n",
    "\n",
    "# Print results\n",
    "print(\"Paired t-test Results:\")\n",
    "print(\"t-statistic:\", t_stat)\n",
    "print(\"p-value:\", p_value)\n",
    "print(\"\\nMeans:\")\n",
    "print(\"Top 9 BERT Models Mean:\", mean_top_bert)\n",
    "print(\"SET Best Ensemble Model Mean:\", mean_set_best_ensemble)"
   ]
  },
  {
   "cell_type": "code",
   "execution_count": null,
   "id": "f16ffbe0-b4c3-4585-bd9b-be029557790c",
   "metadata": {},
   "outputs": [],
   "source": []
  },
  {
   "cell_type": "code",
   "execution_count": null,
   "id": "99a9631b-a3c6-4272-b422-67cdce593596",
   "metadata": {},
   "outputs": [],
   "source": []
  },
  {
   "cell_type": "code",
   "execution_count": null,
   "id": "a3c146e4-f4a5-4f99-b1d0-ffba4948d5b8",
   "metadata": {},
   "outputs": [],
   "source": []
  },
  {
   "cell_type": "code",
   "execution_count": null,
   "id": "c2415194-2ef2-450c-94ab-0f0576dff3d0",
   "metadata": {},
   "outputs": [],
   "source": []
  }
 ],
 "metadata": {
  "kernelspec": {
   "display_name": "Python 3 (ipykernel)",
   "language": "python",
   "name": "python3"
  },
  "language_info": {
   "codemirror_mode": {
    "name": "ipython",
    "version": 3
   },
   "file_extension": ".py",
   "mimetype": "text/x-python",
   "name": "python",
   "nbconvert_exporter": "python",
   "pygments_lexer": "ipython3",
   "version": "3.10.14"
  }
 },
 "nbformat": 4,
 "nbformat_minor": 5
}
